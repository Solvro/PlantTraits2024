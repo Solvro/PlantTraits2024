{
 "cells": [
  {
   "cell_type": "code",
   "execution_count": 1,
   "metadata": {
    "ExecuteTime": {
     "end_time": "2025-05-29T17:58:47.770278Z",
     "start_time": "2025-05-29T17:58:47.392278Z"
    }
   },
   "outputs": [],
   "source": [
    "%load_ext autoreload\n",
    "%autoreload 2\n",
    "%aimport -sympy"
   ]
  },
  {
   "cell_type": "code",
   "execution_count": 2,
   "metadata": {
    "ExecuteTime": {
     "end_time": "2025-05-29T17:57:12.300475Z",
     "start_time": "2025-05-29T17:57:12.034478Z"
    }
   },
   "outputs": [],
   "source": [
    "# %reload_ext"
   ]
  },
  {
   "cell_type": "code",
   "execution_count": 1,
   "metadata": {
    "ExecuteTime": {
     "end_time": "2025-05-29T18:13:12.904911Z",
     "start_time": "2025-05-29T18:13:12.643900Z"
    }
   },
   "outputs": [],
   "source": [
    "from planttraits.datasets.plant_traits_dataset import PlantTraitsDataset\n",
    "from planttraits.models.example_model import PTNN, kwargs\n",
    "from torch.utils.data import DataLoader\n",
    "import pytorch_lightning as pl\n",
    "import torch "
   ]
  },
  {
   "cell_type": "code",
   "execution_count": 2,
   "metadata": {
    "ExecuteTime": {
     "end_time": "2025-05-29T18:13:16.999233Z",
     "start_time": "2025-05-29T18:13:13.900134Z"
    }
   },
   "outputs": [],
   "source": [
    "train_dataset = PlantTraitsDataset()\n",
    "test_dataset = PlantTraitsDataset(preprocessors=train_dataset.return_preprocessors())"
   ]
  },
  {
   "cell_type": "markdown",
   "metadata": {},
   "source": [
    "### Modis_vod"
   ]
  },
  {
   "cell_type": "code",
   "execution_count": 3,
   "metadata": {
    "ExecuteTime": {
     "end_time": "2025-05-29T18:13:46.292151Z",
     "start_time": "2025-05-29T18:13:46.004154Z"
    }
   },
   "outputs": [
    {
     "data": {
      "text/html": [
       "<div>\n",
       "<style scoped>\n",
       "    .dataframe tbody tr th:only-of-type {\n",
       "        vertical-align: middle;\n",
       "    }\n",
       "\n",
       "    .dataframe tbody tr th {\n",
       "        vertical-align: top;\n",
       "    }\n",
       "\n",
       "    .dataframe thead th {\n",
       "        text-align: right;\n",
       "    }\n",
       "</style>\n",
       "<table border=\"1\" class=\"dataframe\">\n",
       "  <thead>\n",
       "    <tr style=\"text-align: right;\">\n",
       "      <th></th>\n",
       "      <th>MODIS_2000.2020_monthly_mean_surface_reflectance_band_02_._month_m1</th>\n",
       "      <th>MODIS_2000.2020_monthly_mean_surface_reflectance_band_03_._month_m1</th>\n",
       "      <th>MODIS_2000.2020_monthly_mean_surface_reflectance_band_05_._month_m1</th>\n",
       "      <th>MODIS_2000.2020_monthly_mean_surface_reflectance_band_02_._month_m10</th>\n",
       "      <th>MODIS_2000.2020_monthly_mean_surface_reflectance_band_03_._month_m10</th>\n",
       "      <th>MODIS_2000.2020_monthly_mean_surface_reflectance_band_05_._month_m10</th>\n",
       "      <th>MODIS_2000.2020_monthly_mean_surface_reflectance_band_02_._month_m11</th>\n",
       "      <th>MODIS_2000.2020_monthly_mean_surface_reflectance_band_03_._month_m11</th>\n",
       "      <th>MODIS_2000.2020_monthly_mean_surface_reflectance_band_05_._month_m11</th>\n",
       "      <th>MODIS_2000.2020_monthly_mean_surface_reflectance_band_02_._month_m12</th>\n",
       "      <th>...</th>\n",
       "      <th>MODIS_2000.2020_monthly_mean_surface_reflectance_band_14_._month_m3</th>\n",
       "      <th>MODIS_2000.2020_monthly_mean_surface_reflectance_band_14_._month_m4</th>\n",
       "      <th>MODIS_2000.2020_monthly_mean_surface_reflectance_band_14_._month_m5</th>\n",
       "      <th>MODIS_2000.2020_monthly_mean_surface_reflectance_band_14_._month_m6</th>\n",
       "      <th>MODIS_2000.2020_monthly_mean_surface_reflectance_band_14_._month_m7</th>\n",
       "      <th>MODIS_2000.2020_monthly_mean_surface_reflectance_band_14_._month_m8</th>\n",
       "      <th>MODIS_2000.2020_monthly_mean_surface_reflectance_band_14_._month_m9</th>\n",
       "      <th>MODIS_2000.2020_monthly_mean_surface_reflectance_band_14_._month_m10</th>\n",
       "      <th>MODIS_2000.2020_monthly_mean_surface_reflectance_band_14_._month_m11</th>\n",
       "      <th>MODIS_2000.2020_monthly_mean_surface_reflectance_band_14_._month_m12</th>\n",
       "    </tr>\n",
       "    <tr>\n",
       "      <th>id</th>\n",
       "      <th></th>\n",
       "      <th></th>\n",
       "      <th></th>\n",
       "      <th></th>\n",
       "      <th></th>\n",
       "      <th></th>\n",
       "      <th></th>\n",
       "      <th></th>\n",
       "      <th></th>\n",
       "      <th></th>\n",
       "      <th></th>\n",
       "      <th></th>\n",
       "      <th></th>\n",
       "      <th></th>\n",
       "      <th></th>\n",
       "      <th></th>\n",
       "      <th></th>\n",
       "      <th></th>\n",
       "      <th></th>\n",
       "      <th></th>\n",
       "      <th></th>\n",
       "    </tr>\n",
       "  </thead>\n",
       "  <tbody>\n",
       "    <tr>\n",
       "      <th>192027691</th>\n",
       "      <td>-2.392118</td>\n",
       "      <td>-0.352168</td>\n",
       "      <td>-2.989625</td>\n",
       "      <td>-2.857319</td>\n",
       "      <td>0.170875</td>\n",
       "      <td>-2.695664</td>\n",
       "      <td>-2.847051</td>\n",
       "      <td>-0.256929</td>\n",
       "      <td>-2.651203</td>\n",
       "      <td>-2.728472</td>\n",
       "      <td>...</td>\n",
       "      <td>-0.837725</td>\n",
       "      <td>-0.627481</td>\n",
       "      <td>-0.386647</td>\n",
       "      <td>-0.065305</td>\n",
       "      <td>0.083761</td>\n",
       "      <td>0.164635</td>\n",
       "      <td>0.018840</td>\n",
       "      <td>-0.203118</td>\n",
       "      <td>-0.567328</td>\n",
       "      <td>-0.698219</td>\n",
       "    </tr>\n",
       "    <tr>\n",
       "      <th>195542235</th>\n",
       "      <td>-2.392118</td>\n",
       "      <td>-0.152175</td>\n",
       "      <td>-3.387043</td>\n",
       "      <td>-2.857319</td>\n",
       "      <td>1.019963</td>\n",
       "      <td>-3.351885</td>\n",
       "      <td>-2.847051</td>\n",
       "      <td>0.370064</td>\n",
       "      <td>-3.383009</td>\n",
       "      <td>-2.728472</td>\n",
       "      <td>...</td>\n",
       "      <td>0.085720</td>\n",
       "      <td>0.461491</td>\n",
       "      <td>0.792986</td>\n",
       "      <td>1.049020</td>\n",
       "      <td>1.111878</td>\n",
       "      <td>1.030528</td>\n",
       "      <td>0.992753</td>\n",
       "      <td>0.736907</td>\n",
       "      <td>0.227936</td>\n",
       "      <td>-0.217895</td>\n",
       "    </tr>\n",
       "    <tr>\n",
       "      <th>196639184</th>\n",
       "      <td>0.523742</td>\n",
       "      <td>-0.167047</td>\n",
       "      <td>1.315906</td>\n",
       "      <td>2.443365</td>\n",
       "      <td>-0.533264</td>\n",
       "      <td>1.625095</td>\n",
       "      <td>1.874911</td>\n",
       "      <td>-0.312877</td>\n",
       "      <td>1.453806</td>\n",
       "      <td>1.069182</td>\n",
       "      <td>...</td>\n",
       "      <td>-0.179050</td>\n",
       "      <td>-0.186352</td>\n",
       "      <td>-0.191429</td>\n",
       "      <td>-0.191015</td>\n",
       "      <td>-0.206432</td>\n",
       "      <td>-0.281474</td>\n",
       "      <td>-0.209390</td>\n",
       "      <td>-0.262866</td>\n",
       "      <td>-0.196136</td>\n",
       "      <td>-0.138017</td>\n",
       "    </tr>\n",
       "    <tr>\n",
       "      <th>195728812</th>\n",
       "      <td>0.514175</td>\n",
       "      <td>-0.712637</td>\n",
       "      <td>0.986286</td>\n",
       "      <td>0.940010</td>\n",
       "      <td>-0.378139</td>\n",
       "      <td>1.112273</td>\n",
       "      <td>0.924946</td>\n",
       "      <td>-0.529633</td>\n",
       "      <td>1.122703</td>\n",
       "      <td>0.669023</td>\n",
       "      <td>...</td>\n",
       "      <td>-0.667141</td>\n",
       "      <td>-0.744201</td>\n",
       "      <td>-0.764907</td>\n",
       "      <td>-0.686107</td>\n",
       "      <td>-0.501946</td>\n",
       "      <td>-0.325988</td>\n",
       "      <td>-0.250858</td>\n",
       "      <td>-0.218667</td>\n",
       "      <td>-0.370415</td>\n",
       "      <td>-0.516856</td>\n",
       "    </tr>\n",
       "    <tr>\n",
       "      <th>195251545</th>\n",
       "      <td>0.538463</td>\n",
       "      <td>1.751732</td>\n",
       "      <td>-0.513519</td>\n",
       "      <td>-1.494045</td>\n",
       "      <td>0.721331</td>\n",
       "      <td>-1.317672</td>\n",
       "      <td>0.231428</td>\n",
       "      <td>2.199499</td>\n",
       "      <td>-1.098974</td>\n",
       "      <td>0.567622</td>\n",
       "      <td>...</td>\n",
       "      <td>1.871368</td>\n",
       "      <td>1.664968</td>\n",
       "      <td>-0.190072</td>\n",
       "      <td>-0.807363</td>\n",
       "      <td>-0.871454</td>\n",
       "      <td>-0.808960</td>\n",
       "      <td>-0.461890</td>\n",
       "      <td>0.256419</td>\n",
       "      <td>1.664704</td>\n",
       "      <td>1.655546</td>\n",
       "    </tr>\n",
       "  </tbody>\n",
       "</table>\n",
       "<p>5 rows × 56 columns</p>\n",
       "</div>"
      ],
      "text/plain": [
       "           MODIS_2000.2020_monthly_mean_surface_reflectance_band_02_._month_m1  \\\n",
       "id                                                                               \n",
       "192027691                                          -2.392118                     \n",
       "195542235                                          -2.392118                     \n",
       "196639184                                           0.523742                     \n",
       "195728812                                           0.514175                     \n",
       "195251545                                           0.538463                     \n",
       "\n",
       "           MODIS_2000.2020_monthly_mean_surface_reflectance_band_03_._month_m1  \\\n",
       "id                                                                               \n",
       "192027691                                          -0.352168                     \n",
       "195542235                                          -0.152175                     \n",
       "196639184                                          -0.167047                     \n",
       "195728812                                          -0.712637                     \n",
       "195251545                                           1.751732                     \n",
       "\n",
       "           MODIS_2000.2020_monthly_mean_surface_reflectance_band_05_._month_m1  \\\n",
       "id                                                                               \n",
       "192027691                                          -2.989625                     \n",
       "195542235                                          -3.387043                     \n",
       "196639184                                           1.315906                     \n",
       "195728812                                           0.986286                     \n",
       "195251545                                          -0.513519                     \n",
       "\n",
       "           MODIS_2000.2020_monthly_mean_surface_reflectance_band_02_._month_m10  \\\n",
       "id                                                                                \n",
       "192027691                                          -2.857319                      \n",
       "195542235                                          -2.857319                      \n",
       "196639184                                           2.443365                      \n",
       "195728812                                           0.940010                      \n",
       "195251545                                          -1.494045                      \n",
       "\n",
       "           MODIS_2000.2020_monthly_mean_surface_reflectance_band_03_._month_m10  \\\n",
       "id                                                                                \n",
       "192027691                                           0.170875                      \n",
       "195542235                                           1.019963                      \n",
       "196639184                                          -0.533264                      \n",
       "195728812                                          -0.378139                      \n",
       "195251545                                           0.721331                      \n",
       "\n",
       "           MODIS_2000.2020_monthly_mean_surface_reflectance_band_05_._month_m10  \\\n",
       "id                                                                                \n",
       "192027691                                          -2.695664                      \n",
       "195542235                                          -3.351885                      \n",
       "196639184                                           1.625095                      \n",
       "195728812                                           1.112273                      \n",
       "195251545                                          -1.317672                      \n",
       "\n",
       "           MODIS_2000.2020_monthly_mean_surface_reflectance_band_02_._month_m11  \\\n",
       "id                                                                                \n",
       "192027691                                          -2.847051                      \n",
       "195542235                                          -2.847051                      \n",
       "196639184                                           1.874911                      \n",
       "195728812                                           0.924946                      \n",
       "195251545                                           0.231428                      \n",
       "\n",
       "           MODIS_2000.2020_monthly_mean_surface_reflectance_band_03_._month_m11  \\\n",
       "id                                                                                \n",
       "192027691                                          -0.256929                      \n",
       "195542235                                           0.370064                      \n",
       "196639184                                          -0.312877                      \n",
       "195728812                                          -0.529633                      \n",
       "195251545                                           2.199499                      \n",
       "\n",
       "           MODIS_2000.2020_monthly_mean_surface_reflectance_band_05_._month_m11  \\\n",
       "id                                                                                \n",
       "192027691                                          -2.651203                      \n",
       "195542235                                          -3.383009                      \n",
       "196639184                                           1.453806                      \n",
       "195728812                                           1.122703                      \n",
       "195251545                                          -1.098974                      \n",
       "\n",
       "           MODIS_2000.2020_monthly_mean_surface_reflectance_band_02_._month_m12  \\\n",
       "id                                                                                \n",
       "192027691                                          -2.728472                      \n",
       "195542235                                          -2.728472                      \n",
       "196639184                                           1.069182                      \n",
       "195728812                                           0.669023                      \n",
       "195251545                                           0.567622                      \n",
       "\n",
       "           ...  \\\n",
       "id         ...   \n",
       "192027691  ...   \n",
       "195542235  ...   \n",
       "196639184  ...   \n",
       "195728812  ...   \n",
       "195251545  ...   \n",
       "\n",
       "           MODIS_2000.2020_monthly_mean_surface_reflectance_band_14_._month_m3  \\\n",
       "id                                                                               \n",
       "192027691                                          -0.837725                     \n",
       "195542235                                           0.085720                     \n",
       "196639184                                          -0.179050                     \n",
       "195728812                                          -0.667141                     \n",
       "195251545                                           1.871368                     \n",
       "\n",
       "           MODIS_2000.2020_monthly_mean_surface_reflectance_band_14_._month_m4  \\\n",
       "id                                                                               \n",
       "192027691                                          -0.627481                     \n",
       "195542235                                           0.461491                     \n",
       "196639184                                          -0.186352                     \n",
       "195728812                                          -0.744201                     \n",
       "195251545                                           1.664968                     \n",
       "\n",
       "           MODIS_2000.2020_monthly_mean_surface_reflectance_band_14_._month_m5  \\\n",
       "id                                                                               \n",
       "192027691                                          -0.386647                     \n",
       "195542235                                           0.792986                     \n",
       "196639184                                          -0.191429                     \n",
       "195728812                                          -0.764907                     \n",
       "195251545                                          -0.190072                     \n",
       "\n",
       "           MODIS_2000.2020_monthly_mean_surface_reflectance_band_14_._month_m6  \\\n",
       "id                                                                               \n",
       "192027691                                          -0.065305                     \n",
       "195542235                                           1.049020                     \n",
       "196639184                                          -0.191015                     \n",
       "195728812                                          -0.686107                     \n",
       "195251545                                          -0.807363                     \n",
       "\n",
       "           MODIS_2000.2020_monthly_mean_surface_reflectance_band_14_._month_m7  \\\n",
       "id                                                                               \n",
       "192027691                                           0.083761                     \n",
       "195542235                                           1.111878                     \n",
       "196639184                                          -0.206432                     \n",
       "195728812                                          -0.501946                     \n",
       "195251545                                          -0.871454                     \n",
       "\n",
       "           MODIS_2000.2020_monthly_mean_surface_reflectance_band_14_._month_m8  \\\n",
       "id                                                                               \n",
       "192027691                                           0.164635                     \n",
       "195542235                                           1.030528                     \n",
       "196639184                                          -0.281474                     \n",
       "195728812                                          -0.325988                     \n",
       "195251545                                          -0.808960                     \n",
       "\n",
       "           MODIS_2000.2020_monthly_mean_surface_reflectance_band_14_._month_m9  \\\n",
       "id                                                                               \n",
       "192027691                                           0.018840                     \n",
       "195542235                                           0.992753                     \n",
       "196639184                                          -0.209390                     \n",
       "195728812                                          -0.250858                     \n",
       "195251545                                          -0.461890                     \n",
       "\n",
       "           MODIS_2000.2020_monthly_mean_surface_reflectance_band_14_._month_m10  \\\n",
       "id                                                                                \n",
       "192027691                                          -0.203118                      \n",
       "195542235                                           0.736907                      \n",
       "196639184                                          -0.262866                      \n",
       "195728812                                          -0.218667                      \n",
       "195251545                                           0.256419                      \n",
       "\n",
       "           MODIS_2000.2020_monthly_mean_surface_reflectance_band_14_._month_m11  \\\n",
       "id                                                                                \n",
       "192027691                                          -0.567328                      \n",
       "195542235                                           0.227936                      \n",
       "196639184                                          -0.196136                      \n",
       "195728812                                          -0.370415                      \n",
       "195251545                                           1.664704                      \n",
       "\n",
       "           MODIS_2000.2020_monthly_mean_surface_reflectance_band_14_._month_m12  \n",
       "id                                                                               \n",
       "192027691                                          -0.698219                     \n",
       "195542235                                          -0.217895                     \n",
       "196639184                                          -0.138017                     \n",
       "195728812                                          -0.516856                     \n",
       "195251545                                           1.655546                     \n",
       "\n",
       "[5 rows x 56 columns]"
      ]
     },
     "metadata": {},
     "output_type": "display_data"
    }
   ],
   "source": [
    "preps = train_dataset.return_preprocessors()\n",
    "modis_prep = preps['modis_vod']\n",
    "cols = modis_prep.columns\n",
    "train_modis = train_dataset.data[cols]\n",
    "display(train_modis.head())"
   ]
  },
  {
   "cell_type": "code",
   "execution_count": 4,
   "metadata": {
    "ExecuteTime": {
     "end_time": "2025-05-29T18:14:47.988996Z",
     "start_time": "2025-05-29T18:14:47.731001Z"
    }
   },
   "outputs": [
    {
     "name": "stdout",
     "output_type": "stream",
     "text": [
      "['MODIS_2000.2020_monthly_mean_surface_reflectance_band_02_._month_m1', 'MODIS_2000.2020_monthly_mean_surface_reflectance_band_03_._month_m1', 'MODIS_2000.2020_monthly_mean_surface_reflectance_band_05_._month_m1', 'MODIS_2000.2020_monthly_mean_surface_reflectance_band_02_._month_m10', 'MODIS_2000.2020_monthly_mean_surface_reflectance_band_03_._month_m10', 'MODIS_2000.2020_monthly_mean_surface_reflectance_band_05_._month_m10', 'MODIS_2000.2020_monthly_mean_surface_reflectance_band_02_._month_m11', 'MODIS_2000.2020_monthly_mean_surface_reflectance_band_03_._month_m11', 'MODIS_2000.2020_monthly_mean_surface_reflectance_band_05_._month_m11', 'MODIS_2000.2020_monthly_mean_surface_reflectance_band_02_._month_m12', 'MODIS_2000.2020_monthly_mean_surface_reflectance_band_03_._month_m12', 'MODIS_2000.2020_monthly_mean_surface_reflectance_band_05_._month_m12', 'MODIS_2000.2020_monthly_mean_surface_reflectance_band_02_._month_m2', 'MODIS_2000.2020_monthly_mean_surface_reflectance_band_03_._month_m2', 'MODIS_2000.2020_monthly_mean_surface_reflectance_band_05_._month_m2', 'MODIS_2000.2020_monthly_mean_surface_reflectance_band_02_._month_m3', 'MODIS_2000.2020_monthly_mean_surface_reflectance_band_03_._month_m3', 'MODIS_2000.2020_monthly_mean_surface_reflectance_band_05_._month_m3', 'MODIS_2000.2020_monthly_mean_surface_reflectance_band_02_._month_m4', 'MODIS_2000.2020_monthly_mean_surface_reflectance_band_03_._month_m4', 'MODIS_2000.2020_monthly_mean_surface_reflectance_band_05_._month_m4', 'MODIS_2000.2020_monthly_mean_surface_reflectance_band_02_._month_m5', 'MODIS_2000.2020_monthly_mean_surface_reflectance_band_03_._month_m5', 'MODIS_2000.2020_monthly_mean_surface_reflectance_band_05_._month_m5', 'MODIS_2000.2020_monthly_mean_surface_reflectance_band_02_._month_m6', 'MODIS_2000.2020_monthly_mean_surface_reflectance_band_03_._month_m6', 'MODIS_2000.2020_monthly_mean_surface_reflectance_band_05_._month_m6', 'MODIS_2000.2020_monthly_mean_surface_reflectance_band_02_._month_m7', 'MODIS_2000.2020_monthly_mean_surface_reflectance_band_03_._month_m7', 'MODIS_2000.2020_monthly_mean_surface_reflectance_band_05_._month_m7', 'MODIS_2000.2020_monthly_mean_surface_reflectance_band_02_._month_m8', 'MODIS_2000.2020_monthly_mean_surface_reflectance_band_03_._month_m8', 'MODIS_2000.2020_monthly_mean_surface_reflectance_band_05_._month_m8', 'MODIS_2000.2020_monthly_mean_surface_reflectance_band_02_._month_m9', 'MODIS_2000.2020_monthly_mean_surface_reflectance_band_03_._month_m9', 'MODIS_2000.2020_monthly_mean_surface_reflectance_band_05_._month_m9', 'VOD_CX_Winter', 'VOD_Ku_Winter', 'VOD_CX_Spring', 'VOD_Ku_Spring', 'VOD_CX_Summer', 'VOD_Ku_Summer', 'VOD_CX_Autumn', 'VOD_Ku_Autumn', 'MODIS_2000.2020_monthly_mean_surface_reflectance_band_14_._month_m1', 'MODIS_2000.2020_monthly_mean_surface_reflectance_band_14_._month_m2', 'MODIS_2000.2020_monthly_mean_surface_reflectance_band_14_._month_m3', 'MODIS_2000.2020_monthly_mean_surface_reflectance_band_14_._month_m4', 'MODIS_2000.2020_monthly_mean_surface_reflectance_band_14_._month_m5', 'MODIS_2000.2020_monthly_mean_surface_reflectance_band_14_._month_m6', 'MODIS_2000.2020_monthly_mean_surface_reflectance_band_14_._month_m7', 'MODIS_2000.2020_monthly_mean_surface_reflectance_band_14_._month_m8', 'MODIS_2000.2020_monthly_mean_surface_reflectance_band_14_._month_m9', 'MODIS_2000.2020_monthly_mean_surface_reflectance_band_14_._month_m10', 'MODIS_2000.2020_monthly_mean_surface_reflectance_band_14_._month_m11', 'MODIS_2000.2020_monthly_mean_surface_reflectance_band_14_._month_m12']\n"
     ]
    }
   ],
   "source": [
    "print(train_modis.columns.tolist())"
   ]
  },
  {
   "cell_type": "code",
   "execution_count": 5,
   "metadata": {
    "ExecuteTime": {
     "end_time": "2025-05-29T18:13:20.006036Z",
     "start_time": "2025-05-29T18:13:19.747039Z"
    }
   },
   "outputs": [
    {
     "name": "stdout",
     "output_type": "stream",
     "text": [
      "Istnieje\n"
     ]
    }
   ],
   "source": [
    "test_col = f\"MODIS_2000.2020_monthly_mean_surface_reflectance_band_14_._month_m10\"\n",
    "\n",
    "if test_col in train_modis.columns:\n",
    "    print(\"Istnieje\")\n",
    "else:\n",
    "    print(\"Nie istnieje\")\n"
   ]
  },
  {
   "cell_type": "markdown",
   "metadata": {},
   "source": [
    "### Soil"
   ]
  },
  {
   "cell_type": "code",
   "execution_count": 6,
   "metadata": {},
   "outputs": [],
   "source": [
    "preps = train_dataset.return_preprocessors()\n",
    "soil_prep = preps['soil']\n",
    "cols = soil_prep.columns"
   ]
  },
  {
   "cell_type": "code",
   "execution_count": 7,
   "metadata": {},
   "outputs": [
    {
     "data": {
      "text/plain": [
       "['SOIL_bdod_0.5cm_mean_0.01_deg',\n",
       " 'SOIL_bdod_100.200cm_mean_0.01_deg',\n",
       " 'SOIL_bdod_15.30cm_mean_0.01_deg',\n",
       " 'SOIL_bdod_30.60cm_mean_0.01_deg',\n",
       " 'SOIL_bdod_5.15cm_mean_0.01_deg',\n",
       " 'SOIL_bdod_60.100cm_mean_0.01_deg',\n",
       " 'SOIL_cec_0.5cm_mean_0.01_deg',\n",
       " 'SOIL_cec_100.200cm_mean_0.01_deg',\n",
       " 'SOIL_cec_15.30cm_mean_0.01_deg',\n",
       " 'SOIL_cec_30.60cm_mean_0.01_deg',\n",
       " 'SOIL_cec_5.15cm_mean_0.01_deg',\n",
       " 'SOIL_cec_60.100cm_mean_0.01_deg',\n",
       " 'SOIL_cfvo_0.5cm_mean_0.01_deg',\n",
       " 'SOIL_cfvo_100.200cm_mean_0.01_deg',\n",
       " 'SOIL_cfvo_15.30cm_mean_0.01_deg',\n",
       " 'SOIL_cfvo_30.60cm_mean_0.01_deg',\n",
       " 'SOIL_cfvo_5.15cm_mean_0.01_deg',\n",
       " 'SOIL_cfvo_60.100cm_mean_0.01_deg',\n",
       " 'SOIL_clay_0.5cm_mean_0.01_deg',\n",
       " 'SOIL_clay_100.200cm_mean_0.01_deg',\n",
       " 'SOIL_clay_15.30cm_mean_0.01_deg',\n",
       " 'SOIL_clay_30.60cm_mean_0.01_deg',\n",
       " 'SOIL_clay_5.15cm_mean_0.01_deg',\n",
       " 'SOIL_clay_60.100cm_mean_0.01_deg',\n",
       " 'SOIL_nitrogen_0.5cm_mean_0.01_deg',\n",
       " 'SOIL_nitrogen_100.200cm_mean_0.01_deg',\n",
       " 'SOIL_nitrogen_15.30cm_mean_0.01_deg',\n",
       " 'SOIL_nitrogen_30.60cm_mean_0.01_deg',\n",
       " 'SOIL_nitrogen_5.15cm_mean_0.01_deg',\n",
       " 'SOIL_nitrogen_60.100cm_mean_0.01_deg',\n",
       " 'SOIL_ocd_0.5cm_mean_0.01_deg',\n",
       " 'SOIL_ocd_100.200cm_mean_0.01_deg',\n",
       " 'SOIL_ocd_15.30cm_mean_0.01_deg',\n",
       " 'SOIL_ocd_30.60cm_mean_0.01_deg',\n",
       " 'SOIL_ocd_5.15cm_mean_0.01_deg',\n",
       " 'SOIL_ocd_60.100cm_mean_0.01_deg',\n",
       " 'SOIL_ocs_0.30cm_mean_0.01_deg',\n",
       " 'SOIL_phh2o_0.5cm_mean_0.01_deg',\n",
       " 'SOIL_phh2o_100.200cm_mean_0.01_deg',\n",
       " 'SOIL_phh2o_15.30cm_mean_0.01_deg',\n",
       " 'SOIL_phh2o_30.60cm_mean_0.01_deg',\n",
       " 'SOIL_phh2o_5.15cm_mean_0.01_deg',\n",
       " 'SOIL_phh2o_60.100cm_mean_0.01_deg',\n",
       " 'SOIL_sand_0.5cm_mean_0.01_deg',\n",
       " 'SOIL_sand_100.200cm_mean_0.01_deg',\n",
       " 'SOIL_sand_15.30cm_mean_0.01_deg',\n",
       " 'SOIL_sand_30.60cm_mean_0.01_deg',\n",
       " 'SOIL_sand_5.15cm_mean_0.01_deg',\n",
       " 'SOIL_sand_60.100cm_mean_0.01_deg',\n",
       " 'SOIL_silt_0.5cm_mean_0.01_deg',\n",
       " 'SOIL_silt_100.200cm_mean_0.01_deg',\n",
       " 'SOIL_silt_15.30cm_mean_0.01_deg',\n",
       " 'SOIL_silt_30.60cm_mean_0.01_deg',\n",
       " 'SOIL_silt_5.15cm_mean_0.01_deg',\n",
       " 'SOIL_silt_60.100cm_mean_0.01_deg',\n",
       " 'SOIL_soc_0.5cm_mean_0.01_deg',\n",
       " 'SOIL_soc_100.200cm_mean_0.01_deg',\n",
       " 'SOIL_soc_15.30cm_mean_0.01_deg',\n",
       " 'SOIL_soc_30.60cm_mean_0.01_deg',\n",
       " 'SOIL_soc_5.15cm_mean_0.01_deg',\n",
       " 'SOIL_soc_60.100cm_mean_0.01_deg']"
      ]
     },
     "execution_count": 7,
     "metadata": {},
     "output_type": "execute_result"
    }
   ],
   "source": [
    "cols"
   ]
  },
  {
   "cell_type": "code",
   "execution_count": 8,
   "metadata": {},
   "outputs": [
    {
     "data": {
      "text/plain": [
       "61"
      ]
     },
     "execution_count": 8,
     "metadata": {},
     "output_type": "execute_result"
    }
   ],
   "source": [
    "len(cols)"
   ]
  },
  {
   "cell_type": "code",
   "execution_count": 9,
   "metadata": {
    "ExecuteTime": {
     "end_time": "2025-05-29T18:00:05.068478Z",
     "start_time": "2025-05-29T18:00:04.818479Z"
    }
   },
   "outputs": [
    {
     "data": {
      "text/plain": [
       "55327"
      ]
     },
     "execution_count": 9,
     "metadata": {},
     "output_type": "execute_result"
    }
   ],
   "source": [
    "len(train_dataset)"
   ]
  },
  {
   "cell_type": "code",
   "execution_count": 10,
   "metadata": {
    "ExecuteTime": {
     "end_time": "2025-05-29T18:00:06.190267Z",
     "start_time": "2025-05-29T18:00:05.939269Z"
    }
   },
   "outputs": [
    {
     "data": {
      "text/plain": [
       "6545"
      ]
     },
     "execution_count": 10,
     "metadata": {},
     "output_type": "execute_result"
    }
   ],
   "source": [
    "len(test_dataset)"
   ]
  },
  {
   "cell_type": "code",
   "execution_count": 11,
   "metadata": {
    "ExecuteTime": {
     "end_time": "2025-05-29T18:00:08.262997Z",
     "start_time": "2025-05-29T18:00:08.008001Z"
    }
   },
   "outputs": [],
   "source": [
    "train_loader = DataLoader(train_dataset)\n",
    "test_loader = DataLoader(test_dataset)"
   ]
  },
  {
   "cell_type": "code",
   "execution_count": 12,
   "metadata": {
    "ExecuteTime": {
     "end_time": "2025-05-29T18:00:09.568313Z",
     "start_time": "2025-05-29T18:00:09.261889Z"
    }
   },
   "outputs": [],
   "source": [
    "img, modisvod_row, soil_row, worldclimbio_row, std_row, mean_row = next(iter(train_loader))"
   ]
  },
  {
   "cell_type": "code",
   "execution_count": 13,
   "metadata": {},
   "outputs": [
    {
     "data": {
      "text/plain": [
       "tensor([[ 0.2917,  0.3684,  0.3333,  0.4211,  0.3913,  0.4000,  0.0000,  0.4366,\n",
       "          0.3766,  0.3562,  0.2561,  0.5139, -0.0267, -0.0194, -0.0225,  0.0825,\n",
       "          0.0235,  0.0680, -0.0089, -0.6066, -0.3364, -0.3252, -0.0741, -0.4274,\n",
       "         -0.3661, -0.1807, -0.4640, -0.2959, -0.3920, -0.1481, -0.6810, -0.3421,\n",
       "         -0.5752, -0.4588, -0.7092, -0.3333, -0.6786,  0.4286,  0.5625,  0.4667,\n",
       "          0.5333,  0.4286,  0.5333, -0.1891,  0.0251, -0.1396, -0.1196, -0.1709,\n",
       "         -0.0591,  0.3989,  0.5096,  0.4857,  0.4566,  0.3933,  0.4578, -0.4051,\n",
       "         -0.2857, -0.4111, -0.2676, -0.3404, -0.4419]])"
      ]
     },
     "execution_count": 13,
     "metadata": {},
     "output_type": "execute_result"
    }
   ],
   "source": [
    "soil_row"
   ]
  },
  {
   "cell_type": "code",
   "execution_count": 14,
   "metadata": {
    "ExecuteTime": {
     "end_time": "2025-03-05T17:48:59.001086Z",
     "start_time": "2025-03-05T17:48:58.817577Z"
    }
   },
   "outputs": [
    {
     "data": {
      "text/plain": [
       "(tensor([[0., 0., 0., 0., 0., 0.]]),\n",
       " tensor([[0.4018, 2.5462, 0.1111, 0.8082, 1.0471, 3.9361]]))"
      ]
     },
     "execution_count": 14,
     "metadata": {},
     "output_type": "execute_result"
    }
   ],
   "source": [
    "std_row, mean_row"
   ]
  },
  {
   "cell_type": "code",
   "execution_count": 17,
   "metadata": {
    "ExecuteTime": {
     "end_time": "2025-05-29T18:00:24.988185Z",
     "start_time": "2025-05-29T18:00:24.664188Z"
    }
   },
   "outputs": [
    {
     "name": "stderr",
     "output_type": "stream",
     "text": [
      "Using default `ModelCheckpoint`. Consider installing `litmodels` package to enable `LitModelCheckpoint` for automatic upload to the Lightning model registry.\n",
      "GPU available: True (cuda), used: True\n",
      "TPU available: False, using: 0 TPU cores\n",
      "HPU available: False, using: 0 HPUs\n"
     ]
    }
   ],
   "source": [
    "model = PTNN(**kwargs)\n",
    "trainer = pl.Trainer()"
   ]
  },
  {
   "cell_type": "code",
   "execution_count": 14,
   "metadata": {
    "ExecuteTime": {
     "end_time": "2025-05-29T18:00:28.502635Z",
     "start_time": "2025-05-29T18:00:26.541769Z"
    }
   },
   "outputs": [
    {
     "name": "stderr",
     "output_type": "stream",
     "text": [
      "You are using a CUDA device ('NVIDIA GeForce RTX 4050 Laptop GPU') that has Tensor Cores. To properly utilize them, you should set `torch.set_float32_matmul_precision('medium' | 'high')` which will trade-off precision for performance. For more details, read https://pytorch.org/docs/stable/generated/torch.set_float32_matmul_precision.html#torch.set_float32_matmul_precision\n",
      "LOCAL_RANK: 0 - CUDA_VISIBLE_DEVICES: [0]\n"
     ]
    },
    {
     "data": {
      "application/vnd.jupyter.widget-view+json": {
       "model_id": "2e82af30a4eb48eea2ba7b88ad2cff25",
       "version_major": 2,
       "version_minor": 0
      },
      "text/plain": [
       "Predicting: |          | 0/? [00:00<?, ?it/s]"
      ]
     },
     "metadata": {},
     "output_type": "display_data"
    },
    {
     "ename": "RuntimeError",
     "evalue": "mat1 and mat2 shapes cannot be multiplied (1x56 and 163x256)",
     "output_type": "error",
     "traceback": [
      "\u001b[1;31m---------------------------------------------------------------------------\u001b[0m",
      "\u001b[1;31mRuntimeError\u001b[0m                              Traceback (most recent call last)",
      "Cell \u001b[1;32mIn[14], line 1\u001b[0m\n\u001b[1;32m----> 1\u001b[0m preds \u001b[38;5;241m=\u001b[39m \u001b[43mtrainer\u001b[49m\u001b[38;5;241;43m.\u001b[39;49m\u001b[43mpredict\u001b[49m\u001b[43m(\u001b[49m\u001b[43mmodel\u001b[49m\u001b[43m,\u001b[49m\u001b[43m \u001b[49m\u001b[43mtest_loader\u001b[49m\u001b[43m)\u001b[49m\n",
      "File \u001b[1;32mc:\\Users\\julia\\VSCode\\plant-traits-2024\\.venv\\lib\\site-packages\\pytorch_lightning\\trainer\\trainer.py:887\u001b[0m, in \u001b[0;36mTrainer.predict\u001b[1;34m(self, model, dataloaders, datamodule, return_predictions, ckpt_path)\u001b[0m\n\u001b[0;32m    885\u001b[0m \u001b[38;5;28mself\u001b[39m\u001b[38;5;241m.\u001b[39mstate\u001b[38;5;241m.\u001b[39mstatus \u001b[38;5;241m=\u001b[39m TrainerStatus\u001b[38;5;241m.\u001b[39mRUNNING\n\u001b[0;32m    886\u001b[0m \u001b[38;5;28mself\u001b[39m\u001b[38;5;241m.\u001b[39mpredicting \u001b[38;5;241m=\u001b[39m \u001b[38;5;28;01mTrue\u001b[39;00m\n\u001b[1;32m--> 887\u001b[0m \u001b[38;5;28;01mreturn\u001b[39;00m \u001b[43mcall\u001b[49m\u001b[38;5;241;43m.\u001b[39;49m\u001b[43m_call_and_handle_interrupt\u001b[49m\u001b[43m(\u001b[49m\n\u001b[0;32m    888\u001b[0m \u001b[43m    \u001b[49m\u001b[38;5;28;43mself\u001b[39;49m\u001b[43m,\u001b[49m\u001b[43m \u001b[49m\u001b[38;5;28;43mself\u001b[39;49m\u001b[38;5;241;43m.\u001b[39;49m\u001b[43m_predict_impl\u001b[49m\u001b[43m,\u001b[49m\u001b[43m \u001b[49m\u001b[43mmodel\u001b[49m\u001b[43m,\u001b[49m\u001b[43m \u001b[49m\u001b[43mdataloaders\u001b[49m\u001b[43m,\u001b[49m\u001b[43m \u001b[49m\u001b[43mdatamodule\u001b[49m\u001b[43m,\u001b[49m\u001b[43m \u001b[49m\u001b[43mreturn_predictions\u001b[49m\u001b[43m,\u001b[49m\u001b[43m \u001b[49m\u001b[43mckpt_path\u001b[49m\n\u001b[0;32m    889\u001b[0m \u001b[43m\u001b[49m\u001b[43m)\u001b[49m\n",
      "File \u001b[1;32mc:\\Users\\julia\\VSCode\\plant-traits-2024\\.venv\\lib\\site-packages\\pytorch_lightning\\trainer\\call.py:48\u001b[0m, in \u001b[0;36m_call_and_handle_interrupt\u001b[1;34m(trainer, trainer_fn, *args, **kwargs)\u001b[0m\n\u001b[0;32m     46\u001b[0m     \u001b[38;5;28;01mif\u001b[39;00m trainer\u001b[38;5;241m.\u001b[39mstrategy\u001b[38;5;241m.\u001b[39mlauncher \u001b[38;5;129;01mis\u001b[39;00m \u001b[38;5;129;01mnot\u001b[39;00m \u001b[38;5;28;01mNone\u001b[39;00m:\n\u001b[0;32m     47\u001b[0m         \u001b[38;5;28;01mreturn\u001b[39;00m trainer\u001b[38;5;241m.\u001b[39mstrategy\u001b[38;5;241m.\u001b[39mlauncher\u001b[38;5;241m.\u001b[39mlaunch(trainer_fn, \u001b[38;5;241m*\u001b[39margs, trainer\u001b[38;5;241m=\u001b[39mtrainer, \u001b[38;5;241m*\u001b[39m\u001b[38;5;241m*\u001b[39mkwargs)\n\u001b[1;32m---> 48\u001b[0m     \u001b[38;5;28;01mreturn\u001b[39;00m trainer_fn(\u001b[38;5;241m*\u001b[39margs, \u001b[38;5;241m*\u001b[39m\u001b[38;5;241m*\u001b[39mkwargs)\n\u001b[0;32m     50\u001b[0m \u001b[38;5;28;01mexcept\u001b[39;00m _TunerExitException:\n\u001b[0;32m     51\u001b[0m     _call_teardown_hook(trainer)\n",
      "File \u001b[1;32mc:\\Users\\julia\\VSCode\\plant-traits-2024\\.venv\\lib\\site-packages\\pytorch_lightning\\trainer\\trainer.py:928\u001b[0m, in \u001b[0;36mTrainer._predict_impl\u001b[1;34m(self, model, dataloaders, datamodule, return_predictions, ckpt_path)\u001b[0m\n\u001b[0;32m    924\u001b[0m     download_model_from_registry(ckpt_path, \u001b[38;5;28mself\u001b[39m)\n\u001b[0;32m    925\u001b[0m ckpt_path \u001b[38;5;241m=\u001b[39m \u001b[38;5;28mself\u001b[39m\u001b[38;5;241m.\u001b[39m_checkpoint_connector\u001b[38;5;241m.\u001b[39m_select_ckpt_path(\n\u001b[0;32m    926\u001b[0m     \u001b[38;5;28mself\u001b[39m\u001b[38;5;241m.\u001b[39mstate\u001b[38;5;241m.\u001b[39mfn, ckpt_path, model_provided\u001b[38;5;241m=\u001b[39mmodel_provided, model_connected\u001b[38;5;241m=\u001b[39m\u001b[38;5;28mself\u001b[39m\u001b[38;5;241m.\u001b[39mlightning_module \u001b[38;5;129;01mis\u001b[39;00m \u001b[38;5;129;01mnot\u001b[39;00m \u001b[38;5;28;01mNone\u001b[39;00m\n\u001b[0;32m    927\u001b[0m )\n\u001b[1;32m--> 928\u001b[0m results \u001b[38;5;241m=\u001b[39m \u001b[38;5;28;43mself\u001b[39;49m\u001b[38;5;241;43m.\u001b[39;49m\u001b[43m_run\u001b[49m\u001b[43m(\u001b[49m\u001b[43mmodel\u001b[49m\u001b[43m,\u001b[49m\u001b[43m \u001b[49m\u001b[43mckpt_path\u001b[49m\u001b[38;5;241;43m=\u001b[39;49m\u001b[43mckpt_path\u001b[49m\u001b[43m)\u001b[49m\n\u001b[0;32m    930\u001b[0m \u001b[38;5;28;01massert\u001b[39;00m \u001b[38;5;28mself\u001b[39m\u001b[38;5;241m.\u001b[39mstate\u001b[38;5;241m.\u001b[39mstopped\n\u001b[0;32m    931\u001b[0m \u001b[38;5;28mself\u001b[39m\u001b[38;5;241m.\u001b[39mpredicting \u001b[38;5;241m=\u001b[39m \u001b[38;5;28;01mFalse\u001b[39;00m\n",
      "File \u001b[1;32mc:\\Users\\julia\\VSCode\\plant-traits-2024\\.venv\\lib\\site-packages\\pytorch_lightning\\trainer\\trainer.py:1012\u001b[0m, in \u001b[0;36mTrainer._run\u001b[1;34m(self, model, ckpt_path)\u001b[0m\n\u001b[0;32m   1007\u001b[0m \u001b[38;5;28mself\u001b[39m\u001b[38;5;241m.\u001b[39m_signal_connector\u001b[38;5;241m.\u001b[39mregister_signal_handlers()\n\u001b[0;32m   1009\u001b[0m \u001b[38;5;66;03m# ----------------------------\u001b[39;00m\n\u001b[0;32m   1010\u001b[0m \u001b[38;5;66;03m# RUN THE TRAINER\u001b[39;00m\n\u001b[0;32m   1011\u001b[0m \u001b[38;5;66;03m# ----------------------------\u001b[39;00m\n\u001b[1;32m-> 1012\u001b[0m results \u001b[38;5;241m=\u001b[39m \u001b[38;5;28;43mself\u001b[39;49m\u001b[38;5;241;43m.\u001b[39;49m\u001b[43m_run_stage\u001b[49m\u001b[43m(\u001b[49m\u001b[43m)\u001b[49m\n\u001b[0;32m   1014\u001b[0m \u001b[38;5;66;03m# ----------------------------\u001b[39;00m\n\u001b[0;32m   1015\u001b[0m \u001b[38;5;66;03m# POST-Training CLEAN UP\u001b[39;00m\n\u001b[0;32m   1016\u001b[0m \u001b[38;5;66;03m# ----------------------------\u001b[39;00m\n\u001b[0;32m   1017\u001b[0m log\u001b[38;5;241m.\u001b[39mdebug(\u001b[38;5;124mf\u001b[39m\u001b[38;5;124m\"\u001b[39m\u001b[38;5;132;01m{\u001b[39;00m\u001b[38;5;28mself\u001b[39m\u001b[38;5;241m.\u001b[39m\u001b[38;5;18m__class__\u001b[39m\u001b[38;5;241m.\u001b[39m\u001b[38;5;18m__name__\u001b[39m\u001b[38;5;132;01m}\u001b[39;00m\u001b[38;5;124m: trainer tearing down\u001b[39m\u001b[38;5;124m\"\u001b[39m)\n",
      "File \u001b[1;32mc:\\Users\\julia\\VSCode\\plant-traits-2024\\.venv\\lib\\site-packages\\pytorch_lightning\\trainer\\trainer.py:1051\u001b[0m, in \u001b[0;36mTrainer._run_stage\u001b[1;34m(self)\u001b[0m\n\u001b[0;32m   1049\u001b[0m     \u001b[38;5;28;01mreturn\u001b[39;00m \u001b[38;5;28mself\u001b[39m\u001b[38;5;241m.\u001b[39m_evaluation_loop\u001b[38;5;241m.\u001b[39mrun()\n\u001b[0;32m   1050\u001b[0m \u001b[38;5;28;01mif\u001b[39;00m \u001b[38;5;28mself\u001b[39m\u001b[38;5;241m.\u001b[39mpredicting:\n\u001b[1;32m-> 1051\u001b[0m     \u001b[38;5;28;01mreturn\u001b[39;00m \u001b[38;5;28;43mself\u001b[39;49m\u001b[38;5;241;43m.\u001b[39;49m\u001b[43mpredict_loop\u001b[49m\u001b[38;5;241;43m.\u001b[39;49m\u001b[43mrun\u001b[49m\u001b[43m(\u001b[49m\u001b[43m)\u001b[49m\n\u001b[0;32m   1052\u001b[0m \u001b[38;5;28;01mif\u001b[39;00m \u001b[38;5;28mself\u001b[39m\u001b[38;5;241m.\u001b[39mtraining:\n\u001b[0;32m   1053\u001b[0m     \u001b[38;5;28;01mwith\u001b[39;00m isolate_rng():\n",
      "File \u001b[1;32mc:\\Users\\julia\\VSCode\\plant-traits-2024\\.venv\\lib\\site-packages\\pytorch_lightning\\loops\\utilities.py:179\u001b[0m, in \u001b[0;36m_no_grad_context.<locals>._decorator\u001b[1;34m(self, *args, **kwargs)\u001b[0m\n\u001b[0;32m    177\u001b[0m     context_manager \u001b[38;5;241m=\u001b[39m torch\u001b[38;5;241m.\u001b[39mno_grad\n\u001b[0;32m    178\u001b[0m \u001b[38;5;28;01mwith\u001b[39;00m context_manager():\n\u001b[1;32m--> 179\u001b[0m     \u001b[38;5;28;01mreturn\u001b[39;00m loop_run(\u001b[38;5;28mself\u001b[39m, \u001b[38;5;241m*\u001b[39margs, \u001b[38;5;241m*\u001b[39m\u001b[38;5;241m*\u001b[39mkwargs)\n",
      "File \u001b[1;32mc:\\Users\\julia\\VSCode\\plant-traits-2024\\.venv\\lib\\site-packages\\pytorch_lightning\\loops\\prediction_loop.py:125\u001b[0m, in \u001b[0;36m_PredictionLoop.run\u001b[1;34m(self)\u001b[0m\n\u001b[0;32m    123\u001b[0m     \u001b[38;5;28mself\u001b[39m\u001b[38;5;241m.\u001b[39mbatch_progress\u001b[38;5;241m.\u001b[39mis_last_batch \u001b[38;5;241m=\u001b[39m data_fetcher\u001b[38;5;241m.\u001b[39mdone\n\u001b[0;32m    124\u001b[0m     \u001b[38;5;66;03m# run step hooks\u001b[39;00m\n\u001b[1;32m--> 125\u001b[0m     \u001b[38;5;28;43mself\u001b[39;49m\u001b[38;5;241;43m.\u001b[39;49m\u001b[43m_predict_step\u001b[49m\u001b[43m(\u001b[49m\u001b[43mbatch\u001b[49m\u001b[43m,\u001b[49m\u001b[43m \u001b[49m\u001b[43mbatch_idx\u001b[49m\u001b[43m,\u001b[49m\u001b[43m \u001b[49m\u001b[43mdataloader_idx\u001b[49m\u001b[43m,\u001b[49m\u001b[43m \u001b[49m\u001b[43mdataloader_iter\u001b[49m\u001b[43m)\u001b[49m\n\u001b[0;32m    126\u001b[0m \u001b[38;5;28;01mexcept\u001b[39;00m \u001b[38;5;167;01mStopIteration\u001b[39;00m:\n\u001b[0;32m    127\u001b[0m     \u001b[38;5;66;03m# this needs to wrap the `*_step` call too (not just `next`) for `dataloader_iter` support\u001b[39;00m\n\u001b[0;32m    128\u001b[0m     \u001b[38;5;28;01mbreak\u001b[39;00m\n",
      "File \u001b[1;32mc:\\Users\\julia\\VSCode\\plant-traits-2024\\.venv\\lib\\site-packages\\pytorch_lightning\\loops\\prediction_loop.py:255\u001b[0m, in \u001b[0;36m_PredictionLoop._predict_step\u001b[1;34m(self, batch, batch_idx, dataloader_idx, dataloader_iter)\u001b[0m\n\u001b[0;32m    249\u001b[0m \u001b[38;5;66;03m# configure step_kwargs\u001b[39;00m\n\u001b[0;32m    250\u001b[0m step_args \u001b[38;5;241m=\u001b[39m (\n\u001b[0;32m    251\u001b[0m     \u001b[38;5;28mself\u001b[39m\u001b[38;5;241m.\u001b[39m_build_step_args_from_hook_kwargs(hook_kwargs, \u001b[38;5;124m\"\u001b[39m\u001b[38;5;124mpredict_step\u001b[39m\u001b[38;5;124m\"\u001b[39m)\n\u001b[0;32m    252\u001b[0m     \u001b[38;5;28;01mif\u001b[39;00m \u001b[38;5;129;01mnot\u001b[39;00m using_dataloader_iter\n\u001b[0;32m    253\u001b[0m     \u001b[38;5;28;01melse\u001b[39;00m (dataloader_iter,)\n\u001b[0;32m    254\u001b[0m )\n\u001b[1;32m--> 255\u001b[0m predictions \u001b[38;5;241m=\u001b[39m \u001b[43mcall\u001b[49m\u001b[38;5;241;43m.\u001b[39;49m\u001b[43m_call_strategy_hook\u001b[49m\u001b[43m(\u001b[49m\u001b[43mtrainer\u001b[49m\u001b[43m,\u001b[49m\u001b[43m \u001b[49m\u001b[38;5;124;43m\"\u001b[39;49m\u001b[38;5;124;43mpredict_step\u001b[39;49m\u001b[38;5;124;43m\"\u001b[39;49m\u001b[43m,\u001b[49m\u001b[43m \u001b[49m\u001b[38;5;241;43m*\u001b[39;49m\u001b[43mstep_args\u001b[49m\u001b[43m)\u001b[49m\n\u001b[0;32m    256\u001b[0m \u001b[38;5;28;01mif\u001b[39;00m predictions \u001b[38;5;129;01mis\u001b[39;00m \u001b[38;5;28;01mNone\u001b[39;00m:\n\u001b[0;32m    257\u001b[0m     \u001b[38;5;28mself\u001b[39m\u001b[38;5;241m.\u001b[39m_warning_cache\u001b[38;5;241m.\u001b[39mwarn(\u001b[38;5;124m\"\u001b[39m\u001b[38;5;124mpredict returned None if it was on purpose, ignore this warning...\u001b[39m\u001b[38;5;124m\"\u001b[39m)\n",
      "File \u001b[1;32mc:\\Users\\julia\\VSCode\\plant-traits-2024\\.venv\\lib\\site-packages\\pytorch_lightning\\trainer\\call.py:328\u001b[0m, in \u001b[0;36m_call_strategy_hook\u001b[1;34m(trainer, hook_name, *args, **kwargs)\u001b[0m\n\u001b[0;32m    325\u001b[0m     \u001b[38;5;28;01mreturn\u001b[39;00m \u001b[38;5;28;01mNone\u001b[39;00m\n\u001b[0;32m    327\u001b[0m \u001b[38;5;28;01mwith\u001b[39;00m trainer\u001b[38;5;241m.\u001b[39mprofiler\u001b[38;5;241m.\u001b[39mprofile(\u001b[38;5;124mf\u001b[39m\u001b[38;5;124m\"\u001b[39m\u001b[38;5;124m[Strategy]\u001b[39m\u001b[38;5;132;01m{\u001b[39;00mtrainer\u001b[38;5;241m.\u001b[39mstrategy\u001b[38;5;241m.\u001b[39m\u001b[38;5;18m__class__\u001b[39m\u001b[38;5;241m.\u001b[39m\u001b[38;5;18m__name__\u001b[39m\u001b[38;5;132;01m}\u001b[39;00m\u001b[38;5;124m.\u001b[39m\u001b[38;5;132;01m{\u001b[39;00mhook_name\u001b[38;5;132;01m}\u001b[39;00m\u001b[38;5;124m\"\u001b[39m):\n\u001b[1;32m--> 328\u001b[0m     output \u001b[38;5;241m=\u001b[39m fn(\u001b[38;5;241m*\u001b[39margs, \u001b[38;5;241m*\u001b[39m\u001b[38;5;241m*\u001b[39mkwargs)\n\u001b[0;32m    330\u001b[0m \u001b[38;5;66;03m# restore current_fx when nested context\u001b[39;00m\n\u001b[0;32m    331\u001b[0m pl_module\u001b[38;5;241m.\u001b[39m_current_fx_name \u001b[38;5;241m=\u001b[39m prev_fx_name\n",
      "File \u001b[1;32mc:\\Users\\julia\\VSCode\\plant-traits-2024\\.venv\\lib\\site-packages\\pytorch_lightning\\strategies\\strategy.py:438\u001b[0m, in \u001b[0;36mStrategy.predict_step\u001b[1;34m(self, *args, **kwargs)\u001b[0m\n\u001b[0;32m    436\u001b[0m \u001b[38;5;28;01mif\u001b[39;00m \u001b[38;5;28mself\u001b[39m\u001b[38;5;241m.\u001b[39mmodel \u001b[38;5;241m!=\u001b[39m \u001b[38;5;28mself\u001b[39m\u001b[38;5;241m.\u001b[39mlightning_module:\n\u001b[0;32m    437\u001b[0m     \u001b[38;5;28;01mreturn\u001b[39;00m \u001b[38;5;28mself\u001b[39m\u001b[38;5;241m.\u001b[39m_forward_redirection(\u001b[38;5;28mself\u001b[39m\u001b[38;5;241m.\u001b[39mmodel, \u001b[38;5;28mself\u001b[39m\u001b[38;5;241m.\u001b[39mlightning_module, \u001b[38;5;124m\"\u001b[39m\u001b[38;5;124mpredict_step\u001b[39m\u001b[38;5;124m\"\u001b[39m, \u001b[38;5;241m*\u001b[39margs, \u001b[38;5;241m*\u001b[39m\u001b[38;5;241m*\u001b[39mkwargs)\n\u001b[1;32m--> 438\u001b[0m \u001b[38;5;28;01mreturn\u001b[39;00m \u001b[38;5;28mself\u001b[39m\u001b[38;5;241m.\u001b[39mlightning_module\u001b[38;5;241m.\u001b[39mpredict_step(\u001b[38;5;241m*\u001b[39margs, \u001b[38;5;241m*\u001b[39m\u001b[38;5;241m*\u001b[39mkwargs)\n",
      "File \u001b[1;32m~\\VSCode\\plant-traits-2024\\src\\planttraits\\models\\example_model.py:88\u001b[0m, in \u001b[0;36mPTNN.predict_step\u001b[1;34m(self, batch, batch_idx, dataloader_idx)\u001b[0m\n\u001b[0;32m     87\u001b[0m \u001b[38;5;28;01mdef\u001b[39;00m\u001b[38;5;250m \u001b[39m\u001b[38;5;21mpredict_step\u001b[39m(\u001b[38;5;28mself\u001b[39m, batch, batch_idx, dataloader_idx\u001b[38;5;241m=\u001b[39m\u001b[38;5;241m0\u001b[39m):\n\u001b[1;32m---> 88\u001b[0m     predictions, _ \u001b[38;5;241m=\u001b[39m \u001b[38;5;28;43mself\u001b[39;49m\u001b[38;5;241;43m.\u001b[39;49m\u001b[43mrun_forward\u001b[49m\u001b[43m(\u001b[49m\u001b[43mbatch\u001b[49m\u001b[43m)\u001b[49m\n\u001b[0;32m     89\u001b[0m     \u001b[38;5;28;01mreturn\u001b[39;00m predictions\n",
      "File \u001b[1;32m~\\VSCode\\plant-traits-2024\\src\\planttraits\\models\\example_model.py:102\u001b[0m, in \u001b[0;36mPTNN.run_forward\u001b[1;34m(self, batch)\u001b[0m\n\u001b[0;32m    100\u001b[0m row \u001b[38;5;241m=\u001b[39m row[:, : \u001b[38;5;28mself\u001b[39m\u001b[38;5;241m.\u001b[39mn_feat]\n\u001b[0;32m    101\u001b[0m img \u001b[38;5;241m=\u001b[39m train_transforms(img)\n\u001b[1;32m--> 102\u001b[0m \u001b[38;5;28;01mreturn\u001b[39;00m \u001b[38;5;28;43mself\u001b[39;49m\u001b[38;5;241;43m.\u001b[39;49m\u001b[43mforward\u001b[49m\u001b[43m(\u001b[49m\u001b[43mimg\u001b[49m\u001b[43m,\u001b[49m\u001b[43m \u001b[49m\u001b[43mrow\u001b[49m\u001b[43m)\u001b[49m, mean_row\n",
      "File \u001b[1;32m~\\VSCode\\plant-traits-2024\\src\\planttraits\\models\\example_model.py:92\u001b[0m, in \u001b[0;36mPTNN.forward\u001b[1;34m(self, img, row)\u001b[0m\n\u001b[0;32m     91\u001b[0m \u001b[38;5;28;01mdef\u001b[39;00m\u001b[38;5;250m \u001b[39m\u001b[38;5;21mforward\u001b[39m(\u001b[38;5;28mself\u001b[39m, img, row):\n\u001b[1;32m---> 92\u001b[0m     climate_features \u001b[38;5;241m=\u001b[39m \u001b[38;5;28;43mself\u001b[39;49m\u001b[38;5;241;43m.\u001b[39;49m\u001b[43mclimate_encoder\u001b[49m\u001b[43m(\u001b[49m\u001b[43mtorch\u001b[49m\u001b[38;5;241;43m.\u001b[39;49m\u001b[43mconcat\u001b[49m\u001b[43m(\u001b[49m\u001b[43m[\u001b[49m\u001b[43mrow\u001b[49m\u001b[43m]\u001b[49m\u001b[43m,\u001b[49m\u001b[43m \u001b[49m\u001b[43mdim\u001b[49m\u001b[38;5;241;43m=\u001b[39;49m\u001b[38;5;241;43m1\u001b[39;49m\u001b[43m)\u001b[49m\u001b[43m)\u001b[49m\n\u001b[0;32m     93\u001b[0m     image_features \u001b[38;5;241m=\u001b[39m \u001b[38;5;28mself\u001b[39m\u001b[38;5;241m.\u001b[39mimg_encoder(img)\n\u001b[0;32m     94\u001b[0m     features \u001b[38;5;241m=\u001b[39m torch\u001b[38;5;241m.\u001b[39mconcat([climate_features, image_features], dim\u001b[38;5;241m=\u001b[39m\u001b[38;5;241m1\u001b[39m)\n",
      "File \u001b[1;32mc:\\Users\\julia\\VSCode\\plant-traits-2024\\.venv\\lib\\site-packages\\torch\\nn\\modules\\module.py:1751\u001b[0m, in \u001b[0;36mModule._wrapped_call_impl\u001b[1;34m(self, *args, **kwargs)\u001b[0m\n\u001b[0;32m   1749\u001b[0m     \u001b[38;5;28;01mreturn\u001b[39;00m \u001b[38;5;28mself\u001b[39m\u001b[38;5;241m.\u001b[39m_compiled_call_impl(\u001b[38;5;241m*\u001b[39margs, \u001b[38;5;241m*\u001b[39m\u001b[38;5;241m*\u001b[39mkwargs)  \u001b[38;5;66;03m# type: ignore[misc]\u001b[39;00m\n\u001b[0;32m   1750\u001b[0m \u001b[38;5;28;01melse\u001b[39;00m:\n\u001b[1;32m-> 1751\u001b[0m     \u001b[38;5;28;01mreturn\u001b[39;00m \u001b[38;5;28mself\u001b[39m\u001b[38;5;241m.\u001b[39m_call_impl(\u001b[38;5;241m*\u001b[39margs, \u001b[38;5;241m*\u001b[39m\u001b[38;5;241m*\u001b[39mkwargs)\n",
      "File \u001b[1;32mc:\\Users\\julia\\VSCode\\plant-traits-2024\\.venv\\lib\\site-packages\\torch\\nn\\modules\\module.py:1762\u001b[0m, in \u001b[0;36mModule._call_impl\u001b[1;34m(self, *args, **kwargs)\u001b[0m\n\u001b[0;32m   1757\u001b[0m \u001b[38;5;66;03m# If we don't have any hooks, we want to skip the rest of the logic in\u001b[39;00m\n\u001b[0;32m   1758\u001b[0m \u001b[38;5;66;03m# this function, and just call forward.\u001b[39;00m\n\u001b[0;32m   1759\u001b[0m \u001b[38;5;28;01mif\u001b[39;00m \u001b[38;5;129;01mnot\u001b[39;00m (\u001b[38;5;28mself\u001b[39m\u001b[38;5;241m.\u001b[39m_backward_hooks \u001b[38;5;129;01mor\u001b[39;00m \u001b[38;5;28mself\u001b[39m\u001b[38;5;241m.\u001b[39m_backward_pre_hooks \u001b[38;5;129;01mor\u001b[39;00m \u001b[38;5;28mself\u001b[39m\u001b[38;5;241m.\u001b[39m_forward_hooks \u001b[38;5;129;01mor\u001b[39;00m \u001b[38;5;28mself\u001b[39m\u001b[38;5;241m.\u001b[39m_forward_pre_hooks\n\u001b[0;32m   1760\u001b[0m         \u001b[38;5;129;01mor\u001b[39;00m _global_backward_pre_hooks \u001b[38;5;129;01mor\u001b[39;00m _global_backward_hooks\n\u001b[0;32m   1761\u001b[0m         \u001b[38;5;129;01mor\u001b[39;00m _global_forward_hooks \u001b[38;5;129;01mor\u001b[39;00m _global_forward_pre_hooks):\n\u001b[1;32m-> 1762\u001b[0m     \u001b[38;5;28;01mreturn\u001b[39;00m forward_call(\u001b[38;5;241m*\u001b[39margs, \u001b[38;5;241m*\u001b[39m\u001b[38;5;241m*\u001b[39mkwargs)\n\u001b[0;32m   1764\u001b[0m result \u001b[38;5;241m=\u001b[39m \u001b[38;5;28;01mNone\u001b[39;00m\n\u001b[0;32m   1765\u001b[0m called_always_called_hooks \u001b[38;5;241m=\u001b[39m \u001b[38;5;28mset\u001b[39m()\n",
      "File \u001b[1;32mc:\\Users\\julia\\VSCode\\plant-traits-2024\\.venv\\lib\\site-packages\\torch\\nn\\modules\\container.py:240\u001b[0m, in \u001b[0;36mSequential.forward\u001b[1;34m(self, input)\u001b[0m\n\u001b[0;32m    238\u001b[0m \u001b[38;5;28;01mdef\u001b[39;00m\u001b[38;5;250m \u001b[39m\u001b[38;5;21mforward\u001b[39m(\u001b[38;5;28mself\u001b[39m, \u001b[38;5;28minput\u001b[39m):\n\u001b[0;32m    239\u001b[0m     \u001b[38;5;28;01mfor\u001b[39;00m module \u001b[38;5;129;01min\u001b[39;00m \u001b[38;5;28mself\u001b[39m:\n\u001b[1;32m--> 240\u001b[0m         \u001b[38;5;28minput\u001b[39m \u001b[38;5;241m=\u001b[39m \u001b[43mmodule\u001b[49m\u001b[43m(\u001b[49m\u001b[38;5;28;43minput\u001b[39;49m\u001b[43m)\u001b[49m\n\u001b[0;32m    241\u001b[0m     \u001b[38;5;28;01mreturn\u001b[39;00m \u001b[38;5;28minput\u001b[39m\n",
      "File \u001b[1;32mc:\\Users\\julia\\VSCode\\plant-traits-2024\\.venv\\lib\\site-packages\\torch\\nn\\modules\\module.py:1751\u001b[0m, in \u001b[0;36mModule._wrapped_call_impl\u001b[1;34m(self, *args, **kwargs)\u001b[0m\n\u001b[0;32m   1749\u001b[0m     \u001b[38;5;28;01mreturn\u001b[39;00m \u001b[38;5;28mself\u001b[39m\u001b[38;5;241m.\u001b[39m_compiled_call_impl(\u001b[38;5;241m*\u001b[39margs, \u001b[38;5;241m*\u001b[39m\u001b[38;5;241m*\u001b[39mkwargs)  \u001b[38;5;66;03m# type: ignore[misc]\u001b[39;00m\n\u001b[0;32m   1750\u001b[0m \u001b[38;5;28;01melse\u001b[39;00m:\n\u001b[1;32m-> 1751\u001b[0m     \u001b[38;5;28;01mreturn\u001b[39;00m \u001b[38;5;28mself\u001b[39m\u001b[38;5;241m.\u001b[39m_call_impl(\u001b[38;5;241m*\u001b[39margs, \u001b[38;5;241m*\u001b[39m\u001b[38;5;241m*\u001b[39mkwargs)\n",
      "File \u001b[1;32mc:\\Users\\julia\\VSCode\\plant-traits-2024\\.venv\\lib\\site-packages\\torch\\nn\\modules\\module.py:1762\u001b[0m, in \u001b[0;36mModule._call_impl\u001b[1;34m(self, *args, **kwargs)\u001b[0m\n\u001b[0;32m   1757\u001b[0m \u001b[38;5;66;03m# If we don't have any hooks, we want to skip the rest of the logic in\u001b[39;00m\n\u001b[0;32m   1758\u001b[0m \u001b[38;5;66;03m# this function, and just call forward.\u001b[39;00m\n\u001b[0;32m   1759\u001b[0m \u001b[38;5;28;01mif\u001b[39;00m \u001b[38;5;129;01mnot\u001b[39;00m (\u001b[38;5;28mself\u001b[39m\u001b[38;5;241m.\u001b[39m_backward_hooks \u001b[38;5;129;01mor\u001b[39;00m \u001b[38;5;28mself\u001b[39m\u001b[38;5;241m.\u001b[39m_backward_pre_hooks \u001b[38;5;129;01mor\u001b[39;00m \u001b[38;5;28mself\u001b[39m\u001b[38;5;241m.\u001b[39m_forward_hooks \u001b[38;5;129;01mor\u001b[39;00m \u001b[38;5;28mself\u001b[39m\u001b[38;5;241m.\u001b[39m_forward_pre_hooks\n\u001b[0;32m   1760\u001b[0m         \u001b[38;5;129;01mor\u001b[39;00m _global_backward_pre_hooks \u001b[38;5;129;01mor\u001b[39;00m _global_backward_hooks\n\u001b[0;32m   1761\u001b[0m         \u001b[38;5;129;01mor\u001b[39;00m _global_forward_hooks \u001b[38;5;129;01mor\u001b[39;00m _global_forward_pre_hooks):\n\u001b[1;32m-> 1762\u001b[0m     \u001b[38;5;28;01mreturn\u001b[39;00m forward_call(\u001b[38;5;241m*\u001b[39margs, \u001b[38;5;241m*\u001b[39m\u001b[38;5;241m*\u001b[39mkwargs)\n\u001b[0;32m   1764\u001b[0m result \u001b[38;5;241m=\u001b[39m \u001b[38;5;28;01mNone\u001b[39;00m\n\u001b[0;32m   1765\u001b[0m called_always_called_hooks \u001b[38;5;241m=\u001b[39m \u001b[38;5;28mset\u001b[39m()\n",
      "File \u001b[1;32mc:\\Users\\julia\\VSCode\\plant-traits-2024\\.venv\\lib\\site-packages\\torch\\nn\\modules\\linear.py:125\u001b[0m, in \u001b[0;36mLinear.forward\u001b[1;34m(self, input)\u001b[0m\n\u001b[0;32m    124\u001b[0m \u001b[38;5;28;01mdef\u001b[39;00m\u001b[38;5;250m \u001b[39m\u001b[38;5;21mforward\u001b[39m(\u001b[38;5;28mself\u001b[39m, \u001b[38;5;28minput\u001b[39m: Tensor) \u001b[38;5;241m-\u001b[39m\u001b[38;5;241m>\u001b[39m Tensor:\n\u001b[1;32m--> 125\u001b[0m     \u001b[38;5;28;01mreturn\u001b[39;00m \u001b[43mF\u001b[49m\u001b[38;5;241;43m.\u001b[39;49m\u001b[43mlinear\u001b[49m\u001b[43m(\u001b[49m\u001b[38;5;28;43minput\u001b[39;49m\u001b[43m,\u001b[49m\u001b[43m \u001b[49m\u001b[38;5;28;43mself\u001b[39;49m\u001b[38;5;241;43m.\u001b[39;49m\u001b[43mweight\u001b[49m\u001b[43m,\u001b[49m\u001b[43m \u001b[49m\u001b[38;5;28;43mself\u001b[39;49m\u001b[38;5;241;43m.\u001b[39;49m\u001b[43mbias\u001b[49m\u001b[43m)\u001b[49m\n",
      "\u001b[1;31mRuntimeError\u001b[0m: mat1 and mat2 shapes cannot be multiplied (1x56 and 163x256)"
     ]
    }
   ],
   "source": [
    "preds = trainer.predict(model, test_loader)"
   ]
  },
  {
   "cell_type": "code",
   "execution_count": null,
   "metadata": {
    "ExecuteTime": {
     "end_time": "2025-05-29T18:00:21.704102Z",
     "start_time": "2025-05-29T18:00:21.441099Z"
    }
   },
   "outputs": [
    {
     "ename": "NameError",
     "evalue": "name 'preds' is not defined",
     "output_type": "error",
     "traceback": [
      "\u001b[1;31m---------------------------------------------------------------------------\u001b[0m",
      "\u001b[1;31mNameError\u001b[0m                                 Traceback (most recent call last)",
      "Cell \u001b[1;32mIn[19], line 1\u001b[0m\n\u001b[1;32m----> 1\u001b[0m preds \u001b[38;5;241m=\u001b[39m torch\u001b[38;5;241m.\u001b[39mconcat(\u001b[43mpreds\u001b[49m)\n",
      "\u001b[1;31mNameError\u001b[0m: name 'preds' is not defined"
     ]
    }
   ],
   "source": [
    "preds = torch.concat(preds)"
   ]
  },
  {
   "cell_type": "code",
   "execution_count": null,
   "metadata": {
    "ExecuteTime": {
     "end_time": "2025-05-29T18:00:17.943558Z",
     "start_time": "2025-05-29T18:00:17.669546Z"
    }
   },
   "outputs": [
    {
     "ename": "NameError",
     "evalue": "name 'preds' is not defined",
     "output_type": "error",
     "traceback": [
      "\u001b[1;31m---------------------------------------------------------------------------\u001b[0m",
      "\u001b[1;31mNameError\u001b[0m                                 Traceback (most recent call last)",
      "Cell \u001b[1;32mIn[18], line 1\u001b[0m\n\u001b[1;32m----> 1\u001b[0m test_dataset\u001b[38;5;241m.\u001b[39mtransform_predictions(\u001b[43mpreds\u001b[49m)\n",
      "\u001b[1;31mNameError\u001b[0m: name 'preds' is not defined"
     ]
    }
   ],
   "source": [
    "test_dataset.transform_predictions(preds)"
   ]
  }
 ],
 "metadata": {
  "kernelspec": {
   "display_name": ".venv",
   "language": "python",
   "name": "python3"
  },
  "language_info": {
   "codemirror_mode": {
    "name": "ipython",
    "version": 3
   },
   "file_extension": ".py",
   "mimetype": "text/x-python",
   "name": "python",
   "nbconvert_exporter": "python",
   "pygments_lexer": "ipython3",
   "version": "3.10.0"
  }
 },
 "nbformat": 4,
 "nbformat_minor": 2
}
