{
 "cells": [
  {
   "metadata": {},
   "cell_type": "markdown",
   "source": "# **Exploratory Data Analysis** of Independent Features in **PlantTraits2024**: MODIS vs. VOD",
   "id": "b65face8ec8bd443"
  },
  {
   "metadata": {},
   "cell_type": "markdown",
   "source": "## 1. Wczytanie danych i wstępna eksploracja",
   "id": "bd19087ee8a4d5a5"
  },
  {
   "metadata": {},
   "cell_type": "markdown",
   "source": [
    "### Kroki:\n",
    "* Załadowanie zbiorów treningowego i testowego.\n",
    "* Sprawdzenie liczby kolumn i wierszy w obu zbiorach.\n",
    "* Sprawdzenie duplikatów → czy mamy powielone wiersze?\n",
    "* Podstawowe statystyki (średnia, min, max, percentyle) dla pierwszego rozeznania w wartościach."
   ],
   "id": "e1c4e17cd286988e"
  },
  {
   "metadata": {},
   "cell_type": "code",
   "outputs": [],
   "execution_count": null,
   "source": [
    "import pandas as pd\n",
    "import numpy as np\n",
    "import matplotlib.pyplot as plt\n",
    "import seaborn as sns\n",
    "from sklearn.preprocessing import MinMaxScaler, StandardScaler\n",
    "pd.set_option('display.max_columns', 200)"
   ],
   "id": "883954619d0909a"
  },
  {
   "metadata": {},
   "cell_type": "code",
   "outputs": [],
   "execution_count": null,
   "source": [
    "train_csv = \"I:/Jacob/Documents/PlantTraits2024/data/train.csv\"\n",
    "test_csv = \"I:/Jacob/Documents/PlantTraits2024/data/test.csv\"\n",
    "\n",
    "train_data = pd.read_csv(train_csv)\n",
    "test_data = pd.read_csv(test_csv)"
   ],
   "id": "9421d8689feb89c5"
  },
  {
   "metadata": {},
   "cell_type": "code",
   "outputs": [],
   "execution_count": null,
   "source": "train_data.info()",
   "id": "8cb68932618d0f15"
  },
  {
   "metadata": {},
   "cell_type": "markdown",
   "source": [
    "***\n",
    "Mamy 55489 wierszy (próbek) oraz 176 kolumn\n",
    "***"
   ],
   "id": "7268e16954da81e5"
  },
  {
   "metadata": {},
   "cell_type": "code",
   "outputs": [],
   "execution_count": null,
   "source": [
    "all_without_id = [col for col in train_data.columns if col != 'id']\n",
    "num_duplicates = train_data[all_without_id].duplicated().sum()\n",
    "print(\"Liczba zduplikowanych wierszy:\", num_duplicates)"
   ],
   "id": "bd637e8142ebae66"
  },
  {
   "metadata": {},
   "cell_type": "markdown",
   "source": [
    "***\n",
    "W celu sprawdzenia duplikatów odrzucamy kolumnę id. Liczba duplikatów zawarta w całym zbiorze wynosi 4200. Poniżej zaprezentowano również podstawowe statystki zbioru dla obu zbiorów - treningowego i testowego.\n",
    "***"
   ],
   "id": "f8cca3bf244210c1"
  },
  {
   "metadata": {},
   "cell_type": "code",
   "outputs": [],
   "execution_count": null,
   "source": "train_data.describe()",
   "id": "195cb8d1555fd17c"
  },
  {
   "metadata": {},
   "cell_type": "code",
   "outputs": [],
   "execution_count": null,
   "source": "test_data.describe()",
   "id": "49700e380ef854a5"
  },
  {
   "metadata": {},
   "cell_type": "markdown",
   "source": [
    "### Porównanie liczb kolumn train i test\n",
    "Zauważamy, że dane treningowe mają więcej kolumn niż testowe"
   ],
   "id": "ff503467820af2ca"
  },
  {
   "metadata": {},
   "cell_type": "code",
   "outputs": [],
   "execution_count": null,
   "source": [
    "train_columns = set(train_data.columns)\n",
    "test_columns = set(test_csv.columns)\n",
    "\n",
    "only_in_train = train_columns - test_columns\n",
    "\n",
    "print(\"Kolumny tylko w train: \", only_in_train)"
   ],
   "id": "40e74d902342f391"
  },
  {
   "metadata": {},
   "cell_type": "markdown",
   "source": "Te kolumny to są nasze zmienne zależne, które musimy przewidzieć.",
   "id": "70b158748f136279"
  },
  {
   "metadata": {},
   "cell_type": "markdown",
   "source": "## 2. Wyodrębnienie danych MODIS i VOD",
   "id": "2177c5eaa5f099d1"
  },
  {
   "metadata": {},
   "cell_type": "markdown",
   "source": [
    "### Kroki:\n",
    "\n",
    "* Filtrowanie kolumn związanych z MODIS i VOD.\n",
    "* Podstawowe statystyki dla obu grup cech (min, max, rozkład wartości).\n",
    "* Sprawdzenie liczby miesięcy w każdej grupie danych (czy mamy kompletne miesiące?).\n"
   ],
   "id": "29925714b86bb56f"
  },
  {
   "metadata": {},
   "cell_type": "code",
   "outputs": [],
   "execution_count": null,
   "source": [
    "modis_vod_cols = [col for col in train_data.columns if col.startswith(\"MODIS_\") or col.startswith(\"VOD_\")]\n",
    "\n",
    "df_modis_vod = train_data[modis_vod_cols].copy()"
   ],
   "id": "ab87367f3ebc2693"
  },
  {
   "metadata": {},
   "cell_type": "markdown",
   "source": [
    "***\n",
    "Szybki podgląd\n",
    "***"
   ],
   "id": "842ca5bb204a5acb"
  },
  {
   "metadata": {},
   "cell_type": "code",
   "outputs": [],
   "execution_count": null,
   "source": "df_modis_vod.head()",
   "id": "62f589b8578fa01"
  },
  {
   "metadata": {},
   "cell_type": "code",
   "outputs": [],
   "execution_count": null,
   "source": "df_modis_vod.shape",
   "id": "5de3201258c07af7"
  },
  {
   "metadata": {},
   "cell_type": "code",
   "outputs": [],
   "execution_count": null,
   "source": "df_modis_vod.describe()",
   "id": "59db5c497aa3737f"
  },
  {
   "metadata": {},
   "cell_type": "markdown",
   "source": "### Sprawdzenie wartości NaN i null w podzbiorze modis_vod",
   "id": "35dd0fdd66fd15f3"
  },
  {
   "metadata": {},
   "cell_type": "code",
   "outputs": [],
   "execution_count": null,
   "source": "df_modis_vod.isnull().sum().sum()",
   "id": "14ca37163738768e"
  },
  {
   "metadata": {},
   "cell_type": "markdown",
   "source": "### Duplikaty",
   "id": "f3994ba27a8940a8"
  },
  {
   "metadata": {},
   "cell_type": "code",
   "outputs": [],
   "execution_count": null,
   "source": [
    "num_duplicates = df_modis_vod.duplicated().sum()\n",
    "print(\"Liczba zduplikowanych wierszy:\", num_duplicates)"
   ],
   "id": "d261fbf294411a80"
  },
  {
   "metadata": {},
   "cell_type": "markdown",
   "source": "W podzbiorze MODIS zidentyfikowano 18512 duplikatów, jednak ich usunięcie nie jest możliwe bez analizy pełnego zbioru danych. Ich obecność może być wynikiem kontekstu lub relacji z innymi danymi.",
   "id": "e993d9f159b25805"
  },
  {
   "metadata": {},
   "cell_type": "markdown",
   "source": [
    "## 3. Analiza wartości VOD\n",
    "### Kroki:\n",
    "* Wartości max i min występujące w podzbiorze kolumn VOD.\n",
    "* Histogramy.\n",
    "* Analiza korelacji.\n",
    "* Wykres liniowy na przestrzenie miesięcy dla każdego z pasm."
   ],
   "id": "2c25e8da88a8a84d"
  },
  {
   "metadata": {},
   "cell_type": "code",
   "outputs": [],
   "execution_count": null,
   "source": [
    "df_vod   = df_modis_vod[[c for c in df_modis_vod.columns if c.startswith('VOD_')]]\n",
    "\n",
    "print(\"Wartość minimalna:\", df_vod.min().min())\n",
    "print(\"Wartość maksymalna:\", df_vod.max().max())"
   ],
   "id": "7ef68f773b7a82f6"
  },
  {
   "metadata": {},
   "cell_type": "markdown",
   "source": "Sprawdzenie czy występują wartości ujemne",
   "id": "7a674bee8869ebf2"
  },
  {
   "metadata": {},
   "cell_type": "code",
   "outputs": [],
   "execution_count": null,
   "source": [
    "negative_mask = (df_vod < 0)\n",
    "any_negatives = negative_mask.any().any()\n",
    "print(\"Czy istnieją wartości ujemne w VOD?\", any_negatives)"
   ],
   "id": "73fb4e36f086cdd6"
  },
  {
   "metadata": {},
   "cell_type": "markdown",
   "source": "Podstawowe statystki oraz podgląd na kolumny df_modis_vod pozwoliły na wyróżnienie trzech pasm - C, X i Ku oraz 12 miesięcy, co łączeni daje nam 36 kolumn.\n",
   "id": "e93ccaf5f17a93d8"
  },
  {
   "metadata": {},
   "cell_type": "code",
   "outputs": [],
   "execution_count": null,
   "source": [
    "df_vod.hist(figsize=(15, 10), bins=30)\n",
    "plt.tight_layout()\n",
    "plt.show()"
   ],
   "id": "154434ced7d27229"
  },
  {
   "metadata": {},
   "cell_type": "markdown",
   "source": "Dla lepszego zobrazowania zastosowano wykres \"boxplot\" z biblioteki seaborn.",
   "id": "1b774edc9d69c93d"
  },
  {
   "metadata": {},
   "cell_type": "code",
   "outputs": [],
   "execution_count": null,
   "source": [
    "plt.figure(figsize=(15, 8))\n",
    "sns.boxplot(data=df_vod, orient='h')\n",
    "plt.show()"
   ],
   "id": "b15e9a437fbaae9b"
  },
  {
   "metadata": {},
   "cell_type": "markdown",
   "source": [
    "W trakcie eksploracyjnej analizy danych (EDA) zdecydowano o pozostawieniu wszystkich obserwacji w kolumnach VOD, mimo identyfikacji wartości skrajnych, takich jak minimalna (approx. 0.00069) i maksymalna (approx. 1.8689). Zamiast usuwania wartości skrajnych, podjęto decyzję o ich standaryzacji. Poniżej przedstawiono uzasadnienie tej decyzji:\n",
    "\n",
    "1. Wartości ujemne w danych VOD byłyby błędem technicznym lub artefaktem obliczeń, co mogłoby uzasadniać ich usunięcie. Jednakże w analizowanym zbiorze danych nie występują wartości ujemne, co potwierdza poprawność danych w tym zakresie.\n",
    "2. Wartości bliskie 0 w VOD mogą być reprezentatywne dla obszarów pustynnych lub innych środowisk o niskiej zawartości biomasy.\n",
    "3. Wartości maksymalne, takie jak 1.86, mogą odzwierciedlać obszary o bardzo wysokiej zawartości wody w roślinności, np. wilgotne lasy tropikalne. Ich obecność może być rzeczywista i wartościowa.\n",
    "4. Usuwanie wartości skrajnych powinno być uzasadnione wiedzą domenową lub techniczną wskazującą, że są one błędne. W tym przypadku nie ma dowodów sugerujących, że wartości skrajne w VOD są efektem błędu pomiarowego czy obliczeniowego.\n",
    "5. Zamiast usuwania wartości skrajnych, w poźniejszym etapie prawdopodobnie zastosuje standaryzację, co pozwali zachować informacje zawarte w danych, jednocześnie ograniczając ich wpływ na modele predykcyjne i dalszą analizę.\n"
   ],
   "id": "b26e821c58cd169"
  },
  {
   "metadata": {},
   "cell_type": "markdown",
   "source": "### Analiza Korelacji",
   "id": "5ee7f3ad48a05c40"
  },
  {
   "metadata": {},
   "cell_type": "markdown",
   "source": "### Na początek korelacja między różnymi pasmami i miesiącami",
   "id": "4dec89d66aa8c292"
  },
  {
   "metadata": {},
   "cell_type": "code",
   "outputs": [],
   "execution_count": null,
   "source": [
    "corr = df_vod.corr()\n",
    "plt.figure(figsize=(8, 6))\n",
    "sns.heatmap(corr, cmap='viridis')\n",
    "plt.title(\"Macierz korelacji VOD (pasma i miesiące)\")\n",
    "plt.show()"
   ],
   "id": "864370a1d9e9db73"
  },
  {
   "metadata": {},
   "cell_type": "markdown",
   "source": "Na tym etapie widać już jakąś korelację dla pasm C i X.",
   "id": "c152eab5be3f51b2"
  },
  {
   "metadata": {},
   "cell_type": "markdown",
   "source": "### Porównanie ogólnego rozkładu pasm",
   "id": "a20eac306b0b616e"
  },
  {
   "metadata": {},
   "cell_type": "code",
   "outputs": [],
   "execution_count": null,
   "source": [
    "# Porównanie ogólnego rozkładu pasm\n",
    "vod_c_cols = [c for c in df_vod.columns if c.startswith('VOD_C')]\n",
    "df_vod_c = df_vod[vod_c_cols]  # DataFrame samych kolumn C\n",
    "df_vod_c_melt = df_vod_c.melt(var_name=\"col_name\", value_name=\"vod_value\")\n",
    "df_vod_c_melt[\"band\"] = \"C\"\n",
    "\n",
    "vod_ku_cols = [c for c in df_vod.columns if c.startswith('VOD_Ku')]\n",
    "df_vod_ku = df_vod[vod_ku_cols]\n",
    "df_vod_ku_melt = df_vod_ku.melt(var_name=\"col_name\", value_name=\"vod_value\")\n",
    "df_vod_ku_melt[\"band\"] = \"Ku\"\n",
    "\n",
    "vod_x_cols = [c for c in df_vod.columns if c.startswith('VOD_X')]\n",
    "df_vod_x = df_vod[vod_x_cols]\n",
    "df_vod_x_melt = df_vod_x.melt(var_name=\"col_name\", value_name=\"vod_value\")\n",
    "df_vod_x_melt[\"band\"] = \"X\"\n",
    "\n",
    "df_vod_bands = pd.concat([df_vod_c_melt, df_vod_ku_melt, df_vod_x_melt], ignore_index=True)\n",
    "\n",
    "plt.figure(figsize=(8, 6))\n",
    "sns.boxplot(data=df_vod_bands, x=\"band\", y=\"vod_value\")\n",
    "plt.title(\"Porównanie rozkładów VOD w pasmach C, Ku i X (wszystkie miesiące razem)\")\n",
    "plt.show()"
   ],
   "id": "747784f4e28778f"
  },
  {
   "metadata": {},
   "cell_type": "markdown",
   "source": "Dla pasma C i X widzimy bardzo zbliżony rozkład wartości VOD, co może sugerować podobne charakterystyki rejestrowanych danych w tych zakresach częstotliwości. Natomiast pasmo Ku (12–18 GHz) znacząco różni się swoim rozkładem, co można zauważyć przez większą rozpiętość wartości oraz większą liczbę wartości wychodzących poza tzw. zakres międzykwartylowy (IQR). W szczególności w paśmie Ku obserwujemy znacznie więcej wartości odstających, które mogą reprezentować ekstremalne warunki środowiskowe (np. tropikalne lasy o bardzo wysokiej wilgotności lub pustynne obszary o minimalnym poziomie wilgotności).",
   "id": "8a290ea38ff5caa6"
  },
  {
   "metadata": {},
   "cell_type": "markdown",
   "source": "### Wykres liniowy dla średniej wartości VOD w kolejnych miesiącach dla każdego pasma",
   "id": "5e5510140ee30d43"
  },
  {
   "metadata": {},
   "cell_type": "code",
   "outputs": [],
   "execution_count": null,
   "source": [
    "bands = [\"VOD_C\", \"VOD_Ku\", \"VOD_X\"]\n",
    "months = range(1, 13)\n",
    "\n",
    "plt.figure(figsize=(10, 6))\n",
    "\n",
    "for band in bands:\n",
    "    avg_month = []\n",
    "\n",
    "    for m in months:\n",
    "        col_suffix = f\"_m{m:02d}\"\n",
    "        month_cols = [c for c in df_vod.columns if band in c and col_suffix in c]\n",
    "\n",
    "        if len(month_cols) == 0:\n",
    "            avg_month.append(None)\n",
    "            continue\n",
    "\n",
    "        col_data = df_vod[month_cols[0]]\n",
    "        mean_val = col_data.mean(skipna=True)\n",
    "        avg_month.append(mean_val)\n",
    "\n",
    "    plt.plot(months, avg_month, marker='o', label=band)\n",
    "\n",
    "plt.xticks(months)  # miesiące na osi X\n",
    "plt.xlabel(\"Miesiąc\")\n",
    "plt.ylabel(\"Średnia wartość VOD\")\n",
    "plt.title(\"Sezonowe wahania VOD w poszczególnych pasmach\")\n",
    "plt.legend()\n",
    "plt.show()"
   ],
   "id": "ef363bfe9844f993"
  },
  {
   "metadata": {},
   "cell_type": "markdown",
   "source": [
    "***\n",
    "Widać, że obserwowany jest wzrost średniej VOD dla każdego pasma w cieplejszych miesiącach oraz podobieństwo średnich cech dla C i X. Można się zastanowić nad scaleniem pasma C i X i sprawdzić jaki wpływ ma to na model.\n",
    "***"
   ],
   "id": "87f923035b6e4172"
  },
  {
   "metadata": {},
   "cell_type": "markdown",
   "source": "### Heatmapa oraz macierz korelacji dla pasma C i X w celu lepszego zobrazowania ich powiązań",
   "id": "fa190c9943a9cfc8"
  },
  {
   "metadata": {},
   "cell_type": "code",
   "outputs": [],
   "execution_count": null,
   "source": [
    "vod_c_cols = [col for col in df_modis_vod.columns if col.startswith('VOD_C')]\n",
    "vod_x_cols = [col for col in df_modis_vod.columns if col.startswith('VOD_X')]\n",
    "\n",
    "corr_matrix_c_to_x = df_modis_vod[vod_c_cols + vod_x_cols].corr()\n",
    "\n",
    "print(corr_matrix_c_to_x)"
   ],
   "id": "59eb9ad4e6c5f258"
  },
  {
   "metadata": {},
   "cell_type": "code",
   "outputs": [],
   "execution_count": null,
   "source": [
    "plt.figure(figsize=(8, 6))\n",
    "sns.heatmap(corr_matrix_c_to_x, cmap='viridis')\n",
    "plt.title(\"Macierz korelacji VOD_X i VOD_C\")\n",
    "plt.show()"
   ],
   "id": "8b6369c511b55eec"
  },
  {
   "metadata": {},
   "cell_type": "markdown",
   "source": "## 4. Scalanie pasm C i X w VOD, aby zobaczyć jak może to wyglądac w preprocessingu",
   "id": "d586f1793251a957"
  },
  {
   "metadata": {},
   "cell_type": "markdown",
   "source": [
    "Dlaczego warto to zrobić?\n",
    "Silna korelacja (approx. 0.96) między C i X oznacza, że wartości mają niemal te same wartości.\n",
    "Scalenie i uśrednienie ich wartości pozwoli na redukcję wymiarów bez utrarty informacji.\n",
    "Dla każdego miesiąca tworzymy nową skumulowaną kolumne \"CX\"."
   ],
   "id": "c4ba2425be47def"
  },
  {
   "metadata": {},
   "cell_type": "code",
   "outputs": [],
   "execution_count": null,
   "source": [
    "df_modis_vod_cx = df_modis_vod\n",
    "\n",
    "months = [f\"m{str(i).zfill(2)}\" for i in range(1, 13)]\n",
    "\n",
    "for month in months:\n",
    "    vod_c_col = next((col for col in df_modis_vod_cx.columns if f\"VOD_C\" in col and month in col), None)\n",
    "    vod_x_col = next((col for col in df_modis_vod_cx.columns if f\"VOD_X\" in col and month in col), None)\n",
    "\n",
    "    if vod_c_col and vod_x_col:\n",
    "        df_modis_vod_cx[f\"VOD_CX_{month}\"] = df_modis_vod_cx[[vod_c_col, vod_x_col]].mean(axis=1)\n",
    "\n",
    "        df_modis_vod_cx.drop(columns=[vod_c_col, vod_x_col], inplace=True)\n",
    "\n",
    "df_modis_vod_cx.head()"
   ],
   "id": "55437d4a9bbe6bd2"
  },
  {
   "metadata": {},
   "cell_type": "markdown",
   "source": [
    "***\n",
    "Powyżej podgląd po scaleniu i drop na X i C.\n",
    "***"
   ],
   "id": "232bcc6c3b71a0d5"
  },
  {
   "metadata": {},
   "cell_type": "markdown",
   "source": "### Zawężenie zakresu (osi czasu) do pór roku.",
   "id": "2a86b7271190b86"
  },
  {
   "metadata": {},
   "cell_type": "code",
   "outputs": [],
   "execution_count": null,
   "source": [
    "df_modis_vod_seasons = df_modis_vod_cx\n",
    "\n",
    "seasons = {\n",
    "    \"Winter\": [\"m12\", \"m01\", \"m02\"],\n",
    "    \"Spring\": [\"m03\", \"m04\", \"m05\"],\n",
    "    \"Summer\": [\"m06\", \"m07\", \"m08\"],\n",
    "    \"Autumn\": [\"m09\", \"m10\", \"m11\"]\n",
    "}\n",
    "\n",
    "for season, months in seasons.items():\n",
    "    df_modis_vod_seasons[f\"VOD_CX_{season}\"] = df_modis_vod_seasons[[f\"VOD_CX_{m}\" for m in months]].mean(axis=1)\n",
    "    df_modis_vod_seasons[f\"VOD_Ku_{season}\"] = df_modis_vod_seasons[[f\"VOD_Ku_1987_2017_multiyear_mean_{m}\" for m in months]].mean(axis=1)\n",
    "\n",
    "df_modis_vod_seasons.drop(columns=[col for col in df_modis_vod_seasons.columns if any(m in col for m in sum(seasons.values(), []))], inplace=True)\n",
    "\n",
    "df_modis_vod_seasons.head()"
   ],
   "id": "cdadf81f02ede3db"
  },
  {
   "metadata": {},
   "cell_type": "markdown",
   "source": "### Wizualizacja",
   "id": "937b640379a3f226"
  },
  {
   "metadata": {},
   "cell_type": "code",
   "outputs": [],
   "execution_count": null,
   "source": [
    "seasonal_means = df_modis_vod_seasons[[\"VOD_CX_Winter\", \"VOD_CX_Spring\", \"VOD_CX_Summer\", \"VOD_CX_Autumn\",\n",
    "                      \"VOD_Ku_Winter\", \"VOD_Ku_Spring\", \"VOD_Ku_Summer\", \"VOD_Ku_Autumn\"]].mean()\n",
    "\n",
    "# Wykres\n",
    "plt.figure(figsize=(10, 5))\n",
    "sns.barplot(x=seasonal_means.index, y=seasonal_means.values, palette=\"viridis\")\n",
    "plt.title(\"Średnie wartości VOD dla pór roku\")\n",
    "plt.ylabel(\"Średnia wartość VOD\")\n",
    "plt.xticks(rotation=45)\n",
    "plt.show()"
   ],
   "id": "34b57f7662e05c70"
  },
  {
   "metadata": {},
   "cell_type": "markdown",
   "source": "### Wykres liniowy tym razem dla pór roku i dwóch pasm VOD",
   "id": "c78bccdf36351041"
  },
  {
   "metadata": {},
   "cell_type": "code",
   "outputs": [],
   "execution_count": null,
   "source": [
    "bands = [\"VOD_CX\", \"VOD_Ku\"]\n",
    "seasons = [\"Winter\", \"Spring\", \"Summer\", \"Autumn\"]\n",
    "\n",
    "plt.figure(figsize=(10, 6))\n",
    "\n",
    "for band in bands:\n",
    "    avg_season = []\n",
    "\n",
    "    for s in seasons:\n",
    "        season_cols = [c for c in df_modis_vod_seasons.columns if band in c and s in c]\n",
    "\n",
    "        if len(season_cols) == 0:\n",
    "            avg_season.append(None)\n",
    "            continue\n",
    "\n",
    "        col_data = df_modis_vod_seasons[season_cols[0]]\n",
    "        mean_val = col_data.mean(skipna=True)\n",
    "        avg_season.append(mean_val)\n",
    "\n",
    "    plt.plot(seasons, avg_season, marker='o', label=band)\n",
    "\n",
    "print(avg_season)\n",
    "plt.xticks(seasons)  # miesiące na osi X\n",
    "plt.xlabel(\"Pora roku\")\n",
    "plt.ylabel(\"Średnia wartość VOD\")\n",
    "plt.title(\"Sezonowe wahania VOD w poszczególnych pasmach\")\n",
    "plt.legend()\n",
    "plt.show()"
   ],
   "id": "e06ba0cd2b27323"
  },
  {
   "metadata": {},
   "cell_type": "markdown",
   "source": [
    "## 5. Analiza wartości MODIS\n",
    "### Kroki:\n",
    "* Sprawdzenie wartości ujemnnych oraz zapoznanie się ze strukturą.\n",
    "* Struktura pasm.\n",
    "* Wykres liniowy.\n",
    "* Macierz korelacji."
   ],
   "id": "a9cf9e5ae38e27eb"
  },
  {
   "metadata": {},
   "cell_type": "markdown",
   "source": "Sprawdzenie czy występują wartości NaN, null oraz wartości ujemne, oraz informacja o makysymalnej i minimalnej wartości w podzbiorze MODIS.",
   "id": "c4b2fe3ebb5cc9dd"
  },
  {
   "metadata": {},
   "cell_type": "code",
   "outputs": [],
   "execution_count": null,
   "source": [
    "df_modis = df_modis_vod[[c for c in df_modis_vod.columns if c.startswith('MODIS_')]]\n",
    "\n",
    "negative_mask = (df_modis < 0)\n",
    "any_negatives = negative_mask.any().any()\n",
    "print(\"Czy istnieją wartości ujemne w VOD?\", any_negatives)\n",
    "print(f\"Wartość maksymalna dla kolumn VOD: {df_modis.max().max()}\")\n",
    "print(f\"Wartość minimalna dla kolumn VOD: {df_modis.min().min()}\")"
   ],
   "id": "167259ffcaf2d4eb"
  },
  {
   "metadata": {},
   "cell_type": "code",
   "outputs": [],
   "execution_count": null,
   "source": [
    "modis_cols = [c for c in df_modis_vod.columns if c.startswith('MODIS_')]\n",
    "neg_mask = (df_modis_vod[modis_cols] < 0)\n",
    "\n",
    "df_modis[modis_cols] = df_modis_vod[modis_cols].mask(neg_mask, np.nan)\n",
    "\n",
    "df_modis.isnull().sum().sum()"
   ],
   "id": "c5b6a3aaae6218d2"
  },
  {
   "metadata": {},
   "cell_type": "markdown",
   "source": [
    "W tym przypadku, zgodnie z researchem, zdecydowałem się na usunięcie (zastąpienie ich wartościami 0) wartości ujemnych, ponieważ:\n",
    "1. W normalnych warunkach odbicie nie powinno być ujemne, ponieważ fizycznie oznaczałoby to, że powierzchnia emituje więcej energii, niż otrzymuje, co jest niemożliwe w typowych warunkach\n",
    "2. Ujemne wartości w praktyce są często traktowane jako artefakty przetwarzania danych lub błędy pomiarowe\n",
    "3. Ujemne wartości większe od -0.001 są nieistotne i mogą wynikać z błędów numerycznych"
   ],
   "id": "242336c8292dd0f4"
  },
  {
   "metadata": {},
   "cell_type": "code",
   "outputs": [],
   "execution_count": null,
   "source": [
    "for col in modis_cols:\n",
    "    df_modis[col].fillna(0, inplace=True)"
   ],
   "id": "914eb348993ec59e"
  },
  {
   "metadata": {},
   "cell_type": "markdown",
   "source": "Mamy bardzo dużo kolumn, dlatego pokazywanie histogramów w formie jak dla VOD było by nieczytelne. Poniżej boxplot",
   "id": "3ccd536ff8bf489e"
  },
  {
   "metadata": {},
   "cell_type": "code",
   "outputs": [],
   "execution_count": null,
   "source": [
    "plt.figure(figsize=(15, 15))\n",
    "sns.boxplot(data=df_modis, orient='h')\n",
    "plt.show()"
   ],
   "id": "7e700fb8a8b120b9"
  },
  {
   "metadata": {},
   "cell_type": "markdown",
   "source": "Za dużo to nam nie mówi na razie, po za tym, że mamy niesymetreczny rozkład wartości.",
   "id": "b1def890cc1afc29"
  },
  {
   "metadata": {},
   "cell_type": "markdown",
   "source": "## Heatmapa korelacji MODIS",
   "id": "f5c2c531d1abb90b"
  },
  {
   "metadata": {},
   "cell_type": "code",
   "outputs": [],
   "execution_count": null,
   "source": [
    "modis_corr = df_modis.corr()\n",
    "plt.figure(figsize=(8, 6))\n",
    "sns.heatmap(modis_corr, cmap='viridis')\n",
    "plt.title(\"Macierz korelacji MODIS (pasma i miesiące)\")\n",
    "plt.show()"
   ],
   "id": "204e3a46a57388c2"
  },
  {
   "metadata": {},
   "cell_type": "markdown",
   "source": "Nadal ciężko z tak wielu kolumn wyciągnąć jakieś sensowne wnioski, natomiast z pomocą przychodzi wykres liniowy dla każdego pasma i avg miesiąca.",
   "id": "2d9cc7101cb70acc"
  },
  {
   "metadata": {},
   "cell_type": "code",
   "outputs": [],
   "execution_count": null,
   "source": [
    "modis_bands = sorted(set([col.split(\"_month_\")[0] for col in df_modis.columns if \"MODIS\" in col]))\n",
    "\n",
    "months = [f\"m{i}\" for i in range(1, 13)]\n",
    "\n",
    "plt.figure(figsize=(12, 6))\n",
    "\n",
    "for band in modis_bands:\n",
    "    avg_month = []\n",
    "\n",
    "    for m in months:\n",
    "        # Tworzenie poprawnej nazwy kolumny dla danego bandu i miesiąca\n",
    "        month_cols = [c for c in df_modis.columns if band in c and f\"_month_{m}\" in c]\n",
    "\n",
    "        if len(month_cols) == 0:\n",
    "            avg_month.append(None)\n",
    "            continue\n",
    "\n",
    "        col_data = df_modis[month_cols[0]]\n",
    "        mean_val = col_data.mean(skipna=True)\n",
    "        avg_month.append(mean_val)\n",
    "\n",
    "    # Rysowanie wykresu dla danego bandu\n",
    "    plt.plot(range(1, 13), avg_month, marker='o', label=band)\n",
    "\n",
    "# Konfiguracja wykresu\n",
    "plt.xticks(range(1, 13))  # miesiące na osi X\n",
    "plt.xlabel(\"Miesiąc\")\n",
    "plt.ylabel(\"Średnia wartość MODIS\")\n",
    "plt.title(\"Sezonowe wahania MODIS dla różnych pasm\")\n",
    "plt.legend()\n",
    "plt.show()"
   ],
   "id": "fbb4d98edbc7583d"
  },
  {
   "metadata": {},
   "cell_type": "markdown",
   "source": "Można zauważyć praktycznie nakładające się na siebie dwie linie - band_01 i band_04. Decyduje się więc na scalenie tych dwóch w jeden band_14. Najpierw jednak sprawdzenie dokładne korelacji między tymi bandami.",
   "id": "6c441f297e102bcf"
  },
  {
   "metadata": {},
   "cell_type": "code",
   "outputs": [],
   "execution_count": null,
   "source": [
    "band_01_cols = [col for col in df_modis.columns if \"band_01\" in col]\n",
    "band_04_cols = [col for col in df_modis.columns if \"band_04\" in col]\n",
    "\n",
    "# Sprawdzamy, czy mamy tyle samo miesięcy w obu bandach\n",
    "band_01_cols.sort()\n",
    "band_04_cols.sort()\n",
    "\n",
    "# Tworzymy DataFrame tylko z danymi tych dwóch bandów\n",
    "df_band_01_04 = df_modis[band_01_cols].copy()\n",
    "df_band_01_04.columns = [f\"band_01_{i+1}\" for i in range(len(band_01_cols))]  # Nazwy kolumn dla band_01\n",
    "df_band_01_04 = df_band_01_04.join(df_modis[band_04_cols].set_axis([f\"band_04_{i+1}\" for i in range(len(band_04_cols))], axis=1))\n",
    "\n",
    "# Obliczamy macierz korelacji\n",
    "corr_matrix = df_band_01_04.corr()\n",
    "\n",
    "print(corr_matrix)\n",
    "\n",
    "# Wizualizacja macierzy korelacji\n",
    "plt.figure(figsize=(10, 6))\n",
    "sns.heatmap(corr_matrix, annot=True, cmap=\"coolwarm\", fmt=\".2f\", linewidths=0.5)\n",
    "plt.title(\"Macierz korelacji między band_01 i band_04 dla wszystkich miesięcy\")\n",
    "plt.show()"
   ],
   "id": "1a10d12a82ac2993"
  },
  {
   "metadata": {},
   "cell_type": "markdown",
   "source": "To potwierdza zasadność scalenia tych bandów.",
   "id": "4090801b10594b57"
  },
  {
   "metadata": {},
   "cell_type": "code",
   "outputs": [],
   "execution_count": null,
   "source": [
    "months = [f\"m{i}\" for i in range(1, 13)]\n",
    "\n",
    "for month in months:\n",
    "    band_01_col = next((col for col in df_modis.columns if \"band_01\" in col and f\"_month_{month}\" in col), None)\n",
    "    band_04_col = next((col for col in df_modis.columns if \"band_04\" in col and f\"_month_{month}\" in col), None)\n",
    "\n",
    "    if band_01_col and band_04_col:\n",
    "        # Tworzymy nową kolumnę jako średnią band_03 i band_04\n",
    "        df_modis[f\"MODIS_2000.2020_monthly_mean_surface_reflectance_band_14_._month_{month}\"] = df_modis_vod[[band_01_col, band_04_col]].mean(axis=1)\n",
    "\n",
    "        df_modis.drop(columns=[band_01_col, band_04_col], inplace=True)\n",
    "\n",
    "df_modis.info()"
   ],
   "id": "f7ab05f2b19fa567"
  },
  {
   "metadata": {},
   "cell_type": "markdown",
   "source": "### Wykres liniowy po scaleniu band01 i band04",
   "id": "8ae4ef5580313795"
  },
  {
   "metadata": {},
   "cell_type": "code",
   "outputs": [],
   "execution_count": null,
   "source": [
    "modis_bands = sorted(set([col.split(\"_month_\")[0] for col in df_modis.columns if \"MODIS\" in col]))\n",
    "months = [f\"m{i}\" for i in range(1, 13)]\n",
    "\n",
    "plt.figure(figsize=(12, 6))\n",
    "\n",
    "for band in modis_bands:\n",
    "    avg_month = []\n",
    "\n",
    "    for m in months:\n",
    "        month_cols = [c for c in df_modis.columns if band in c and f\"_month_{m}\" in c]\n",
    "\n",
    "        if len(month_cols) == 0:\n",
    "            avg_month.append(None)\n",
    "            continue\n",
    "\n",
    "        col_data = df_modis[month_cols[0]]\n",
    "        mean_val = col_data.mean(skipna=True)\n",
    "        avg_month.append(mean_val)\n",
    "\n",
    "    plt.plot(range(1, 13), avg_month, marker='o', label=band)\n",
    "\n",
    "plt.xticks(range(1, 13))\n",
    "plt.xlabel(\"Miesiąc\")\n",
    "plt.ylabel(\"Średnia wartość MODIS\")\n",
    "plt.title(\"Sezonowe wahania MODIS dla różnych pasm\")\n",
    "plt.legend()\n",
    "plt.show()"
   ],
   "id": "1f38921f32dd1866"
  },
  {
   "metadata": {},
   "cell_type": "markdown",
   "source": [
    "## 6. Standaryzacja VOD\n",
    "MinMaxScaler (0-1)"
   ],
   "id": "cd2cfb660a0cb70b"
  },
  {
   "metadata": {},
   "cell_type": "code",
   "outputs": [],
   "execution_count": null,
   "source": [
    "vod_cols = [col for col in df_modis_vod_seasons.columns if \"VOD\" in col]\n",
    "scaler_vod = MinMaxScaler()\n",
    "df_modis_vod_seasons[vod_cols] = scaler_vod.fit_transform(df_modis_vod_seasons[vod_cols])"
   ],
   "id": "d3f930a3db146acb"
  },
  {
   "metadata": {},
   "cell_type": "code",
   "outputs": [],
   "execution_count": null,
   "source": [
    "for col in vod_cols:\n",
    "    upper_limit = df_modis_vod_seasons[col].quantile(0.99)  # 99 percentyl\n",
    "    lower_limit = df_modis_vod_seasons[col].quantile(0.01)  # 1 percentyl\n",
    "    df_modis_vod[col] = df_modis_vod_seasons[col].clip(lower=lower_limit, upper=upper_limit)"
   ],
   "id": "503ef3256b249b23"
  },
  {
   "metadata": {},
   "cell_type": "markdown",
   "source": "### Wizualizacja VOD",
   "id": "ad90f8b90da7da92"
  },
  {
   "metadata": {},
   "cell_type": "code",
   "outputs": [],
   "execution_count": null,
   "source": [
    "df_vod_last = df_modis_vod_seasons[[c for c in df_modis_vod_seasons.columns if c.startswith('VOD_')]]\n",
    "plt.figure(figsize=(15, 8))\n",
    "sns.boxplot(data=df_vod_last, orient='h')\n",
    "plt.show()"
   ],
   "id": "3496929af2b5be60"
  },
  {
   "metadata": {},
   "cell_type": "markdown",
   "source": [
    "## 7. Standaryzacja MODIS\n",
    "Log Transform (log(x + 1))"
   ],
   "id": "fb062d6f63317db7"
  },
  {
   "metadata": {},
   "cell_type": "code",
   "outputs": [],
   "execution_count": null,
   "source": [
    "modis_cols = [col for col in df_modis.columns if \"MODIS\" in col]\n",
    "df_modis[modis_cols] = np.log1p(df_modis[modis_cols])"
   ],
   "id": "daf8a4862372dcda"
  },
  {
   "metadata": {},
   "cell_type": "code",
   "outputs": [],
   "execution_count": null,
   "source": [
    "for col in modis_cols:\n",
    "    upper_limit = df_modis[col].quantile(0.99)  # 99 percentyl\n",
    "    lower_limit = df_modis[col].quantile(0.01)  # 1 percentyl\n",
    "    df_modis[col] = df_modis[col].clip(lower=lower_limit, upper=upper_limit)"
   ],
   "id": "80becbd704077693"
  },
  {
   "metadata": {},
   "cell_type": "markdown",
   "source": "### Wizualizacja MODIS",
   "id": "54ad36163c9a16"
  },
  {
   "metadata": {},
   "cell_type": "code",
   "outputs": [],
   "execution_count": null,
   "source": [
    "plt.figure(figsize=(15, 15))\n",
    "sns.boxplot(data=df_modis, orient='h')\n",
    "plt.show()"
   ],
   "id": "7f06bbde9efb5ed6"
  }
 ],
 "metadata": {},
 "nbformat": 5,
 "nbformat_minor": 9
}
