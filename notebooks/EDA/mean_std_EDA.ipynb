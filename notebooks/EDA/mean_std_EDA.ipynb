{
 "cells": [
  {
   "cell_type": "code",
   "execution_count": 1,
   "id": "82ccbf55-1d69-40ef-b116-0d2fa445043d",
   "metadata": {},
   "outputs": [],
   "source": [
    "import numpy as np"
   ]
  },
  {
   "cell_type": "code",
   "execution_count": 2,
   "id": "f93780a0-9f05-48bb-8fa2-56e167d71c4a",
   "metadata": {},
   "outputs": [],
   "source": [
    "import pandas as pd"
   ]
  },
  {
   "cell_type": "code",
   "execution_count": 3,
   "id": "8474a9b9-8d4d-46c4-be24-45a152c6e7ce",
   "metadata": {},
   "outputs": [],
   "source": [
    "import matplotlib.pyplot as plt"
   ]
  },
  {
   "cell_type": "code",
   "execution_count": 4,
   "id": "d23e4e84-1886-4f65-a3f4-824938687dc7",
   "metadata": {},
   "outputs": [],
   "source": [
    "import seaborn as sns"
   ]
  },
  {
   "cell_type": "code",
   "execution_count": 5,
   "id": "251f0148-b883-4da2-9901-d15ea8305d57",
   "metadata": {},
   "outputs": [],
   "source": [
    "df=pd.read_csv(\"train.csv\")"
   ]
  },
  {
   "cell_type": "code",
   "execution_count": 6,
   "id": "406e1d45-c5ab-4b8b-96f1-135c26a679da",
   "metadata": {},
   "outputs": [
    {
     "data": {
      "text/html": [
       "<div>\n",
       "<style scoped>\n",
       "    .dataframe tbody tr th:only-of-type {\n",
       "        vertical-align: middle;\n",
       "    }\n",
       "\n",
       "    .dataframe tbody tr th {\n",
       "        vertical-align: top;\n",
       "    }\n",
       "\n",
       "    .dataframe thead th {\n",
       "        text-align: right;\n",
       "    }\n",
       "</style>\n",
       "<table border=\"1\" class=\"dataframe\">\n",
       "  <thead>\n",
       "    <tr style=\"text-align: right;\">\n",
       "      <th></th>\n",
       "      <th>id</th>\n",
       "      <th>WORLDCLIM_BIO1_annual_mean_temperature</th>\n",
       "      <th>WORLDCLIM_BIO12_annual_precipitation</th>\n",
       "      <th>WORLDCLIM_BIO13.BIO14_delta_precipitation_of_wettest_and_dryest_month</th>\n",
       "      <th>WORLDCLIM_BIO15_precipitation_seasonality</th>\n",
       "      <th>WORLDCLIM_BIO4_temperature_seasonality</th>\n",
       "      <th>WORLDCLIM_BIO7_temperature_annual_range</th>\n",
       "      <th>SOIL_bdod_0.5cm_mean_0.01_deg</th>\n",
       "      <th>SOIL_bdod_100.200cm_mean_0.01_deg</th>\n",
       "      <th>SOIL_bdod_15.30cm_mean_0.01_deg</th>\n",
       "      <th>...</th>\n",
       "      <th>X18_mean</th>\n",
       "      <th>X26_mean</th>\n",
       "      <th>X50_mean</th>\n",
       "      <th>X3112_mean</th>\n",
       "      <th>X4_sd</th>\n",
       "      <th>X11_sd</th>\n",
       "      <th>X18_sd</th>\n",
       "      <th>X26_sd</th>\n",
       "      <th>X50_sd</th>\n",
       "      <th>X3112_sd</th>\n",
       "    </tr>\n",
       "  </thead>\n",
       "  <tbody>\n",
       "    <tr>\n",
       "      <th>0</th>\n",
       "      <td>192027691</td>\n",
       "      <td>12.235703</td>\n",
       "      <td>374.466675</td>\n",
       "      <td>62.524445</td>\n",
       "      <td>72.256844</td>\n",
       "      <td>773.592041</td>\n",
       "      <td>33.277779</td>\n",
       "      <td>125</td>\n",
       "      <td>149</td>\n",
       "      <td>136</td>\n",
       "      <td>...</td>\n",
       "      <td>0.117484</td>\n",
       "      <td>1.243779</td>\n",
       "      <td>1.849375</td>\n",
       "      <td>50.216034</td>\n",
       "      <td>0.008921</td>\n",
       "      <td>1.601473</td>\n",
       "      <td>0.025441</td>\n",
       "      <td>0.153608</td>\n",
       "      <td>0.279610</td>\n",
       "      <td>15.045054</td>\n",
       "    </tr>\n",
       "    <tr>\n",
       "      <th>1</th>\n",
       "      <td>195542235</td>\n",
       "      <td>17.270555</td>\n",
       "      <td>90.239998</td>\n",
       "      <td>10.351111</td>\n",
       "      <td>38.220940</td>\n",
       "      <td>859.193298</td>\n",
       "      <td>40.009777</td>\n",
       "      <td>124</td>\n",
       "      <td>144</td>\n",
       "      <td>138</td>\n",
       "      <td>...</td>\n",
       "      <td>0.389315</td>\n",
       "      <td>0.642940</td>\n",
       "      <td>1.353468</td>\n",
       "      <td>574.098472</td>\n",
       "      <td>0.003102</td>\n",
       "      <td>0.258078</td>\n",
       "      <td>0.000866</td>\n",
       "      <td>0.034630</td>\n",
       "      <td>0.010165</td>\n",
       "      <td>11.004477</td>\n",
       "    </tr>\n",
       "    <tr>\n",
       "      <th>2</th>\n",
       "      <td>196639184</td>\n",
       "      <td>14.254504</td>\n",
       "      <td>902.071411</td>\n",
       "      <td>49.642857</td>\n",
       "      <td>17.873655</td>\n",
       "      <td>387.977753</td>\n",
       "      <td>22.807142</td>\n",
       "      <td>107</td>\n",
       "      <td>133</td>\n",
       "      <td>119</td>\n",
       "      <td>...</td>\n",
       "      <td>8.552908</td>\n",
       "      <td>0.395241</td>\n",
       "      <td>2.343153</td>\n",
       "      <td>1130.096731</td>\n",
       "      <td>NaN</td>\n",
       "      <td>NaN</td>\n",
       "      <td>NaN</td>\n",
       "      <td>NaN</td>\n",
       "      <td>NaN</td>\n",
       "      <td>NaN</td>\n",
       "    </tr>\n",
       "    <tr>\n",
       "      <th>3</th>\n",
       "      <td>195728812</td>\n",
       "      <td>18.680834</td>\n",
       "      <td>1473.933350</td>\n",
       "      <td>163.100006</td>\n",
       "      <td>45.009758</td>\n",
       "      <td>381.053986</td>\n",
       "      <td>20.436666</td>\n",
       "      <td>120</td>\n",
       "      <td>131</td>\n",
       "      <td>125</td>\n",
       "      <td>...</td>\n",
       "      <td>1.083629</td>\n",
       "      <td>0.154200</td>\n",
       "      <td>1.155308</td>\n",
       "      <td>1042.686546</td>\n",
       "      <td>0.011692</td>\n",
       "      <td>2.818356</td>\n",
       "      <td>0.110673</td>\n",
       "      <td>0.011334</td>\n",
       "      <td>0.229224</td>\n",
       "      <td>141.857187</td>\n",
       "    </tr>\n",
       "    <tr>\n",
       "      <th>4</th>\n",
       "      <td>195251545</td>\n",
       "      <td>0.673204</td>\n",
       "      <td>530.088867</td>\n",
       "      <td>50.857777</td>\n",
       "      <td>38.230709</td>\n",
       "      <td>1323.526855</td>\n",
       "      <td>45.891998</td>\n",
       "      <td>91</td>\n",
       "      <td>146</td>\n",
       "      <td>120</td>\n",
       "      <td>...</td>\n",
       "      <td>0.657585</td>\n",
       "      <td>10.919966</td>\n",
       "      <td>2.246226</td>\n",
       "      <td>2386.467180</td>\n",
       "      <td>0.006157</td>\n",
       "      <td>1.128000</td>\n",
       "      <td>0.026996</td>\n",
       "      <td>0.553815</td>\n",
       "      <td>0.107092</td>\n",
       "      <td>87.146899</td>\n",
       "    </tr>\n",
       "  </tbody>\n",
       "</table>\n",
       "<p>5 rows × 176 columns</p>\n",
       "</div>"
      ],
      "text/plain": [
       "          id  WORLDCLIM_BIO1_annual_mean_temperature  \\\n",
       "0  192027691                               12.235703   \n",
       "1  195542235                               17.270555   \n",
       "2  196639184                               14.254504   \n",
       "3  195728812                               18.680834   \n",
       "4  195251545                                0.673204   \n",
       "\n",
       "   WORLDCLIM_BIO12_annual_precipitation  \\\n",
       "0                            374.466675   \n",
       "1                             90.239998   \n",
       "2                            902.071411   \n",
       "3                           1473.933350   \n",
       "4                            530.088867   \n",
       "\n",
       "   WORLDCLIM_BIO13.BIO14_delta_precipitation_of_wettest_and_dryest_month  \\\n",
       "0                                          62.524445                       \n",
       "1                                          10.351111                       \n",
       "2                                          49.642857                       \n",
       "3                                         163.100006                       \n",
       "4                                          50.857777                       \n",
       "\n",
       "   WORLDCLIM_BIO15_precipitation_seasonality  \\\n",
       "0                                  72.256844   \n",
       "1                                  38.220940   \n",
       "2                                  17.873655   \n",
       "3                                  45.009758   \n",
       "4                                  38.230709   \n",
       "\n",
       "   WORLDCLIM_BIO4_temperature_seasonality  \\\n",
       "0                              773.592041   \n",
       "1                              859.193298   \n",
       "2                              387.977753   \n",
       "3                              381.053986   \n",
       "4                             1323.526855   \n",
       "\n",
       "   WORLDCLIM_BIO7_temperature_annual_range  SOIL_bdod_0.5cm_mean_0.01_deg  \\\n",
       "0                                33.277779                            125   \n",
       "1                                40.009777                            124   \n",
       "2                                22.807142                            107   \n",
       "3                                20.436666                            120   \n",
       "4                                45.891998                             91   \n",
       "\n",
       "   SOIL_bdod_100.200cm_mean_0.01_deg  SOIL_bdod_15.30cm_mean_0.01_deg  ...  \\\n",
       "0                                149                              136  ...   \n",
       "1                                144                              138  ...   \n",
       "2                                133                              119  ...   \n",
       "3                                131                              125  ...   \n",
       "4                                146                              120  ...   \n",
       "\n",
       "   X18_mean   X26_mean  X50_mean   X3112_mean     X4_sd    X11_sd    X18_sd  \\\n",
       "0  0.117484   1.243779  1.849375    50.216034  0.008921  1.601473  0.025441   \n",
       "1  0.389315   0.642940  1.353468   574.098472  0.003102  0.258078  0.000866   \n",
       "2  8.552908   0.395241  2.343153  1130.096731       NaN       NaN       NaN   \n",
       "3  1.083629   0.154200  1.155308  1042.686546  0.011692  2.818356  0.110673   \n",
       "4  0.657585  10.919966  2.246226  2386.467180  0.006157  1.128000  0.026996   \n",
       "\n",
       "     X26_sd    X50_sd    X3112_sd  \n",
       "0  0.153608  0.279610   15.045054  \n",
       "1  0.034630  0.010165   11.004477  \n",
       "2       NaN       NaN         NaN  \n",
       "3  0.011334  0.229224  141.857187  \n",
       "4  0.553815  0.107092   87.146899  \n",
       "\n",
       "[5 rows x 176 columns]"
      ]
     },
     "execution_count": 6,
     "metadata": {},
     "output_type": "execute_result"
    }
   ],
   "source": [
    "df.head()"
   ]
  },
  {
   "cell_type": "code",
   "execution_count": 7,
   "id": "9210363c-2610-4ebb-bf8b-098fe0b3d714",
   "metadata": {},
   "outputs": [],
   "source": [
    "df_mean = df[['X4_mean', 'X11_mean', 'X18_mean', 'X26_mean', 'X50_mean', 'X3112_mean']]"
   ]
  },
  {
   "cell_type": "code",
   "execution_count": 8,
   "id": "63dd84c1-9277-496c-8a19-2023fbd02a98",
   "metadata": {},
   "outputs": [
    {
     "name": "stdout",
     "output_type": "stream",
     "text": [
      "        X4_mean   X11_mean  X18_mean    X26_mean  X50_mean   X3112_mean\n",
      "0      0.401753  11.758108  0.117484    1.243779  1.849375    50.216034\n",
      "1      0.480334  15.748846  0.389315    0.642940  1.353468   574.098472\n",
      "2      0.796917   5.291251  8.552908    0.395241  2.343153  1130.096731\n",
      "3      0.525236   9.568305  1.083629    0.154200  1.155308  1042.686546\n",
      "4      0.411821  14.528877  0.657585   10.919966  2.246226  2386.467180\n",
      "...         ...        ...       ...         ...       ...          ...\n",
      "55484  0.337243  11.572778  0.233690    1.783193  1.608341   969.547831\n",
      "55485  0.424371   6.114448  1.017099   12.713048  2.418300  1630.015480\n",
      "55486  0.639659   5.549596  2.717395   10.206478  2.722599   602.229880\n",
      "55487  0.774642   7.024218  4.429659    9.372170  3.251739   244.387170\n",
      "55488  0.551888  13.169623  5.827227  154.773325  1.523978  3740.065672\n",
      "\n",
      "[55489 rows x 6 columns]\n"
     ]
    }
   ],
   "source": [
    "print(df_mean)"
   ]
  },
  {
   "cell_type": "code",
   "execution_count": null,
   "id": "8a0061ca-9dbf-477d-b3e3-910c2db9e0bd",
   "metadata": {},
   "outputs": [],
   "source": []
  },
  {
   "cell_type": "code",
   "execution_count": 9,
   "id": "e0004e58-37da-4910-a4d2-991655e931eb",
   "metadata": {},
   "outputs": [],
   "source": [
    "df_sd = df[['X4_sd', 'X11_sd', 'X18_sd', 'X26_sd', 'X50_sd', 'X3112_sd']]"
   ]
  },
  {
   "cell_type": "code",
   "execution_count": 10,
   "id": "1f81b069-1434-44c7-aaa6-a3abb48ada8c",
   "metadata": {},
   "outputs": [
    {
     "name": "stdout",
     "output_type": "stream",
     "text": [
      "          X4_sd    X11_sd    X18_sd     X26_sd    X50_sd    X3112_sd\n",
      "0      0.008921  1.601473  0.025441   0.153608  0.279610   15.045054\n",
      "1      0.003102  0.258078  0.000866   0.034630  0.010165   11.004477\n",
      "2           NaN       NaN       NaN        NaN       NaN         NaN\n",
      "3      0.011692  2.818356  0.110673   0.011334  0.229224  141.857187\n",
      "4      0.006157  1.128000  0.026996   0.553815  0.107092   87.146899\n",
      "...         ...       ...       ...        ...       ...         ...\n",
      "55484       NaN       NaN       NaN        NaN       NaN         NaN\n",
      "55485  0.005474  0.128133  0.117010   3.164520  0.082212  136.503697\n",
      "55486  0.019727  0.215040  0.156309   0.919139  0.079395   26.159626\n",
      "55487       NaN       NaN       NaN        NaN       NaN         NaN\n",
      "55488  0.004373  0.231755  0.039644  10.867344  0.009248  250.744389\n",
      "\n",
      "[55489 rows x 6 columns]\n"
     ]
    }
   ],
   "source": [
    "print(df_sd)"
   ]
  },
  {
   "cell_type": "code",
   "execution_count": 11,
   "id": "0c6cadf9-4c13-4ccc-a0c2-b53586f541a6",
   "metadata": {},
   "outputs": [
    {
     "data": {
      "text/plain": [
       "X4_mean       0\n",
       "X11_mean      0\n",
       "X18_mean      0\n",
       "X26_mean      0\n",
       "X50_mean      0\n",
       "X3112_mean    0\n",
       "dtype: int64"
      ]
     },
     "execution_count": 11,
     "metadata": {},
     "output_type": "execute_result"
    }
   ],
   "source": [
    "df_mean.isnull().sum()"
   ]
  },
  {
   "cell_type": "code",
   "execution_count": 12,
   "id": "20149a60-af3c-42f3-b34b-d798c33aba92",
   "metadata": {},
   "outputs": [
    {
     "data": {
      "text/plain": [
       "X4_sd       16341\n",
       "X11_sd      16341\n",
       "X18_sd      16341\n",
       "X26_sd      16341\n",
       "X50_sd      16341\n",
       "X3112_sd    16341\n",
       "dtype: int64"
      ]
     },
     "execution_count": 12,
     "metadata": {},
     "output_type": "execute_result"
    }
   ],
   "source": [
    "df_sd.isnull().sum()"
   ]
  },
  {
   "cell_type": "code",
   "execution_count": 13,
   "id": "4b19d26d-3505-4610-b943-fffd2becebcf",
   "metadata": {},
   "outputs": [
    {
     "data": {
      "text/plain": [
       "X4_sd       29.44908\n",
       "X11_sd      29.44908\n",
       "X18_sd      29.44908\n",
       "X26_sd      29.44908\n",
       "X50_sd      29.44908\n",
       "X3112_sd    29.44908\n",
       "dtype: float64"
      ]
     },
     "execution_count": 13,
     "metadata": {},
     "output_type": "execute_result"
    }
   ],
   "source": [
    "# Percentage of missing value\n",
    "df_sd.isnull().sum()/df.shape[0]*100"
   ]
  },
  {
   "cell_type": "markdown",
   "id": "930216c9-b549-4f1c-873b-9828a743910c",
   "metadata": {},
   "source": [
    "## Eda and Preprocessing"
   ]
  },
  {
   "cell_type": "code",
   "execution_count": 14,
   "id": "752ebe06-9a1e-493b-ac64-dff483125a40",
   "metadata": {},
   "outputs": [
    {
     "data": {
      "text/html": [
       "<div>\n",
       "<style scoped>\n",
       "    .dataframe tbody tr th:only-of-type {\n",
       "        vertical-align: middle;\n",
       "    }\n",
       "\n",
       "    .dataframe tbody tr th {\n",
       "        vertical-align: top;\n",
       "    }\n",
       "\n",
       "    .dataframe thead th {\n",
       "        text-align: right;\n",
       "    }\n",
       "</style>\n",
       "<table border=\"1\" class=\"dataframe\">\n",
       "  <thead>\n",
       "    <tr style=\"text-align: right;\">\n",
       "      <th></th>\n",
       "      <th>X4_mean</th>\n",
       "      <th>X11_mean</th>\n",
       "      <th>X18_mean</th>\n",
       "      <th>X26_mean</th>\n",
       "      <th>X50_mean</th>\n",
       "      <th>X3112_mean</th>\n",
       "    </tr>\n",
       "  </thead>\n",
       "  <tbody>\n",
       "    <tr>\n",
       "      <th>count</th>\n",
       "      <td>55489.000000</td>\n",
       "      <td>5.548900e+04</td>\n",
       "      <td>5.548900e+04</td>\n",
       "      <td>5.548900e+04</td>\n",
       "      <td>55489.000000</td>\n",
       "      <td>5.548900e+04</td>\n",
       "    </tr>\n",
       "    <tr>\n",
       "      <th>mean</th>\n",
       "      <td>0.522575</td>\n",
       "      <td>1.325267e+02</td>\n",
       "      <td>1.969902e+04</td>\n",
       "      <td>3.459399e+03</td>\n",
       "      <td>13.528574</td>\n",
       "      <td>3.975552e+05</td>\n",
       "    </tr>\n",
       "    <tr>\n",
       "      <th>std</th>\n",
       "      <td>0.174853</td>\n",
       "      <td>1.278220e+04</td>\n",
       "      <td>2.309747e+06</td>\n",
       "      <td>2.471919e+05</td>\n",
       "      <td>1356.480785</td>\n",
       "      <td>9.152463e+07</td>\n",
       "    </tr>\n",
       "    <tr>\n",
       "      <th>min</th>\n",
       "      <td>-2.431157</td>\n",
       "      <td>6.780000e-05</td>\n",
       "      <td>2.330000e-08</td>\n",
       "      <td>5.500000e-07</td>\n",
       "      <td>0.000097</td>\n",
       "      <td>7.690000e-08</td>\n",
       "    </tr>\n",
       "    <tr>\n",
       "      <th>25%</th>\n",
       "      <td>0.410995</td>\n",
       "      <td>1.063987e+01</td>\n",
       "      <td>3.102831e-01</td>\n",
       "      <td>5.613414e-01</td>\n",
       "      <td>1.173489</td>\n",
       "      <td>2.552815e+02</td>\n",
       "    </tr>\n",
       "    <tr>\n",
       "      <th>50%</th>\n",
       "      <td>0.509009</td>\n",
       "      <td>1.511232e+01</td>\n",
       "      <td>7.156651e-01</td>\n",
       "      <td>2.519985e+00</td>\n",
       "      <td>1.480060</td>\n",
       "      <td>7.244318e+02</td>\n",
       "    </tr>\n",
       "    <tr>\n",
       "      <th>75%</th>\n",
       "      <td>0.622383</td>\n",
       "      <td>1.968160e+01</td>\n",
       "      <td>3.586311e+00</td>\n",
       "      <td>1.491886e+01</td>\n",
       "      <td>1.926343</td>\n",
       "      <td>2.148630e+03</td>\n",
       "    </tr>\n",
       "    <tr>\n",
       "      <th>max</th>\n",
       "      <td>4.475172</td>\n",
       "      <td>1.504254e+06</td>\n",
       "      <td>2.720494e+08</td>\n",
       "      <td>3.106555e+07</td>\n",
       "      <td>159759.897700</td>\n",
       "      <td>2.155911e+10</td>\n",
       "    </tr>\n",
       "  </tbody>\n",
       "</table>\n",
       "</div>"
      ],
      "text/plain": [
       "            X4_mean      X11_mean      X18_mean      X26_mean       X50_mean  \\\n",
       "count  55489.000000  5.548900e+04  5.548900e+04  5.548900e+04   55489.000000   \n",
       "mean       0.522575  1.325267e+02  1.969902e+04  3.459399e+03      13.528574   \n",
       "std        0.174853  1.278220e+04  2.309747e+06  2.471919e+05    1356.480785   \n",
       "min       -2.431157  6.780000e-05  2.330000e-08  5.500000e-07       0.000097   \n",
       "25%        0.410995  1.063987e+01  3.102831e-01  5.613414e-01       1.173489   \n",
       "50%        0.509009  1.511232e+01  7.156651e-01  2.519985e+00       1.480060   \n",
       "75%        0.622383  1.968160e+01  3.586311e+00  1.491886e+01       1.926343   \n",
       "max        4.475172  1.504254e+06  2.720494e+08  3.106555e+07  159759.897700   \n",
       "\n",
       "         X3112_mean  \n",
       "count  5.548900e+04  \n",
       "mean   3.975552e+05  \n",
       "std    9.152463e+07  \n",
       "min    7.690000e-08  \n",
       "25%    2.552815e+02  \n",
       "50%    7.244318e+02  \n",
       "75%    2.148630e+03  \n",
       "max    2.155911e+10  "
      ]
     },
     "execution_count": 14,
     "metadata": {},
     "output_type": "execute_result"
    }
   ],
   "source": [
    "df_mean.describe()"
   ]
  },
  {
   "cell_type": "markdown",
   "id": "efef347f-b0fa-4587-b1f4-82a60f59c3e1",
   "metadata": {},
   "source": [
    "### X4"
   ]
  },
  {
   "cell_type": "markdown",
   "id": "cf719d41-9713-4bbd-9654-f566df80856c",
   "metadata": {},
   "source": [
    "##### SSD: Stem specific density quantifies woodiness and stem-water content and is determined by dividing the oven dry mass of a stem segment by its fresh volume, expressed in g cm-3.\n",
    "\n",
    "It seems that the value should not be below 0."
   ]
  },
  {
   "cell_type": "code",
   "execution_count": 15,
   "id": "214438ec-8779-4268-9568-86f4c1d8160f",
   "metadata": {},
   "outputs": [
    {
     "data": {
      "text/html": [
       "<div>\n",
       "<style scoped>\n",
       "    .dataframe tbody tr th:only-of-type {\n",
       "        vertical-align: middle;\n",
       "    }\n",
       "\n",
       "    .dataframe tbody tr th {\n",
       "        vertical-align: top;\n",
       "    }\n",
       "\n",
       "    .dataframe thead th {\n",
       "        text-align: right;\n",
       "    }\n",
       "</style>\n",
       "<table border=\"1\" class=\"dataframe\">\n",
       "  <thead>\n",
       "    <tr style=\"text-align: right;\">\n",
       "      <th></th>\n",
       "      <th>X4_mean</th>\n",
       "      <th>X11_mean</th>\n",
       "      <th>X18_mean</th>\n",
       "      <th>X26_mean</th>\n",
       "      <th>X50_mean</th>\n",
       "      <th>X3112_mean</th>\n",
       "    </tr>\n",
       "  </thead>\n",
       "  <tbody>\n",
       "    <tr>\n",
       "      <th>893</th>\n",
       "      <td>-0.060904</td>\n",
       "      <td>27.077279</td>\n",
       "      <td>3.194688e-01</td>\n",
       "      <td>0.029007</td>\n",
       "      <td>0.815262</td>\n",
       "      <td>1.438411e+04</td>\n",
       "    </tr>\n",
       "    <tr>\n",
       "      <th>1024</th>\n",
       "      <td>-0.177985</td>\n",
       "      <td>16.071257</td>\n",
       "      <td>4.417382e+00</td>\n",
       "      <td>82.519657</td>\n",
       "      <td>0.803347</td>\n",
       "      <td>8.003420e+04</td>\n",
       "    </tr>\n",
       "    <tr>\n",
       "      <th>1287</th>\n",
       "      <td>-0.042643</td>\n",
       "      <td>39.443807</td>\n",
       "      <td>3.598574e-01</td>\n",
       "      <td>0.028062</td>\n",
       "      <td>0.790922</td>\n",
       "      <td>1.598449e+04</td>\n",
       "    </tr>\n",
       "    <tr>\n",
       "      <th>1329</th>\n",
       "      <td>-0.054311</td>\n",
       "      <td>36.047126</td>\n",
       "      <td>5.911272e-02</td>\n",
       "      <td>674.466551</td>\n",
       "      <td>2.311482</td>\n",
       "      <td>3.445846e+02</td>\n",
       "    </tr>\n",
       "    <tr>\n",
       "      <th>1499</th>\n",
       "      <td>-0.160689</td>\n",
       "      <td>15.791665</td>\n",
       "      <td>3.275750e+00</td>\n",
       "      <td>71.384854</td>\n",
       "      <td>0.824300</td>\n",
       "      <td>3.554270e+04</td>\n",
       "    </tr>\n",
       "    <tr>\n",
       "      <th>...</th>\n",
       "      <td>...</td>\n",
       "      <td>...</td>\n",
       "      <td>...</td>\n",
       "      <td>...</td>\n",
       "      <td>...</td>\n",
       "      <td>...</td>\n",
       "    </tr>\n",
       "    <tr>\n",
       "      <th>52823</th>\n",
       "      <td>-0.039964</td>\n",
       "      <td>22.773743</td>\n",
       "      <td>2.102008e-01</td>\n",
       "      <td>0.025125</td>\n",
       "      <td>0.953539</td>\n",
       "      <td>1.177009e+04</td>\n",
       "    </tr>\n",
       "    <tr>\n",
       "      <th>53338</th>\n",
       "      <td>-2.431157</td>\n",
       "      <td>56912.678400</td>\n",
       "      <td>2.330000e-08</td>\n",
       "      <td>3.654468</td>\n",
       "      <td>0.007836</td>\n",
       "      <td>2.989096e+01</td>\n",
       "    </tr>\n",
       "    <tr>\n",
       "      <th>54619</th>\n",
       "      <td>-0.039964</td>\n",
       "      <td>22.773743</td>\n",
       "      <td>2.102008e-01</td>\n",
       "      <td>0.025125</td>\n",
       "      <td>0.953539</td>\n",
       "      <td>1.177009e+04</td>\n",
       "    </tr>\n",
       "    <tr>\n",
       "      <th>54875</th>\n",
       "      <td>-0.624732</td>\n",
       "      <td>43.329263</td>\n",
       "      <td>3.200000e-08</td>\n",
       "      <td>0.000194</td>\n",
       "      <td>0.960634</td>\n",
       "      <td>8.653530e+07</td>\n",
       "    </tr>\n",
       "    <tr>\n",
       "      <th>55058</th>\n",
       "      <td>-0.168847</td>\n",
       "      <td>16.544892</td>\n",
       "      <td>3.594386e+00</td>\n",
       "      <td>99.218314</td>\n",
       "      <td>0.780276</td>\n",
       "      <td>3.611072e+04</td>\n",
       "    </tr>\n",
       "  </tbody>\n",
       "</table>\n",
       "<p>155 rows × 6 columns</p>\n",
       "</div>"
      ],
      "text/plain": [
       "        X4_mean      X11_mean      X18_mean    X26_mean  X50_mean  \\\n",
       "893   -0.060904     27.077279  3.194688e-01    0.029007  0.815262   \n",
       "1024  -0.177985     16.071257  4.417382e+00   82.519657  0.803347   \n",
       "1287  -0.042643     39.443807  3.598574e-01    0.028062  0.790922   \n",
       "1329  -0.054311     36.047126  5.911272e-02  674.466551  2.311482   \n",
       "1499  -0.160689     15.791665  3.275750e+00   71.384854  0.824300   \n",
       "...         ...           ...           ...         ...       ...   \n",
       "52823 -0.039964     22.773743  2.102008e-01    0.025125  0.953539   \n",
       "53338 -2.431157  56912.678400  2.330000e-08    3.654468  0.007836   \n",
       "54619 -0.039964     22.773743  2.102008e-01    0.025125  0.953539   \n",
       "54875 -0.624732     43.329263  3.200000e-08    0.000194  0.960634   \n",
       "55058 -0.168847     16.544892  3.594386e+00   99.218314  0.780276   \n",
       "\n",
       "         X3112_mean  \n",
       "893    1.438411e+04  \n",
       "1024   8.003420e+04  \n",
       "1287   1.598449e+04  \n",
       "1329   3.445846e+02  \n",
       "1499   3.554270e+04  \n",
       "...             ...  \n",
       "52823  1.177009e+04  \n",
       "53338  2.989096e+01  \n",
       "54619  1.177009e+04  \n",
       "54875  8.653530e+07  \n",
       "55058  3.611072e+04  \n",
       "\n",
       "[155 rows x 6 columns]"
      ]
     },
     "execution_count": 15,
     "metadata": {},
     "output_type": "execute_result"
    }
   ],
   "source": [
    "df_mean[df_mean['X4_mean'] < 0]"
   ]
  },
  {
   "cell_type": "code",
   "execution_count": 16,
   "id": "ae5cb446-ef75-43d6-a292-aca222b34235",
   "metadata": {},
   "outputs": [
    {
     "data": {
      "text/html": [
       "<div>\n",
       "<style scoped>\n",
       "    .dataframe tbody tr th:only-of-type {\n",
       "        vertical-align: middle;\n",
       "    }\n",
       "\n",
       "    .dataframe tbody tr th {\n",
       "        vertical-align: top;\n",
       "    }\n",
       "\n",
       "    .dataframe thead th {\n",
       "        text-align: right;\n",
       "    }\n",
       "</style>\n",
       "<table border=\"1\" class=\"dataframe\">\n",
       "  <thead>\n",
       "    <tr style=\"text-align: right;\">\n",
       "      <th></th>\n",
       "      <th>X4_mean</th>\n",
       "      <th>X11_mean</th>\n",
       "      <th>X18_mean</th>\n",
       "      <th>X26_mean</th>\n",
       "      <th>X50_mean</th>\n",
       "      <th>X3112_mean</th>\n",
       "    </tr>\n",
       "  </thead>\n",
       "  <tbody>\n",
       "    <tr>\n",
       "      <th>11644</th>\n",
       "      <td>4.475172</td>\n",
       "      <td>12800.87226</td>\n",
       "      <td>0.000824</td>\n",
       "      <td>0.707597</td>\n",
       "      <td>0.002872</td>\n",
       "      <td>1336927.9</td>\n",
       "    </tr>\n",
       "    <tr>\n",
       "      <th>18560</th>\n",
       "      <td>4.475172</td>\n",
       "      <td>12800.87226</td>\n",
       "      <td>0.000824</td>\n",
       "      <td>0.707597</td>\n",
       "      <td>0.002872</td>\n",
       "      <td>1336927.9</td>\n",
       "    </tr>\n",
       "    <tr>\n",
       "      <th>28829</th>\n",
       "      <td>4.475172</td>\n",
       "      <td>12800.87226</td>\n",
       "      <td>0.000824</td>\n",
       "      <td>0.707597</td>\n",
       "      <td>0.002872</td>\n",
       "      <td>1336927.9</td>\n",
       "    </tr>\n",
       "    <tr>\n",
       "      <th>37250</th>\n",
       "      <td>4.475172</td>\n",
       "      <td>12800.87226</td>\n",
       "      <td>0.000824</td>\n",
       "      <td>0.707597</td>\n",
       "      <td>0.002872</td>\n",
       "      <td>1336927.9</td>\n",
       "    </tr>\n",
       "    <tr>\n",
       "      <th>37930</th>\n",
       "      <td>4.475172</td>\n",
       "      <td>12800.87226</td>\n",
       "      <td>0.000824</td>\n",
       "      <td>0.707597</td>\n",
       "      <td>0.002872</td>\n",
       "      <td>1336927.9</td>\n",
       "    </tr>\n",
       "    <tr>\n",
       "      <th>44300</th>\n",
       "      <td>4.475172</td>\n",
       "      <td>12800.87226</td>\n",
       "      <td>0.000824</td>\n",
       "      <td>0.707597</td>\n",
       "      <td>0.002872</td>\n",
       "      <td>1336927.9</td>\n",
       "    </tr>\n",
       "    <tr>\n",
       "      <th>48550</th>\n",
       "      <td>4.475172</td>\n",
       "      <td>12800.87226</td>\n",
       "      <td>0.000824</td>\n",
       "      <td>0.707597</td>\n",
       "      <td>0.002872</td>\n",
       "      <td>1336927.9</td>\n",
       "    </tr>\n",
       "  </tbody>\n",
       "</table>\n",
       "</div>"
      ],
      "text/plain": [
       "        X4_mean     X11_mean  X18_mean  X26_mean  X50_mean  X3112_mean\n",
       "11644  4.475172  12800.87226  0.000824  0.707597  0.002872   1336927.9\n",
       "18560  4.475172  12800.87226  0.000824  0.707597  0.002872   1336927.9\n",
       "28829  4.475172  12800.87226  0.000824  0.707597  0.002872   1336927.9\n",
       "37250  4.475172  12800.87226  0.000824  0.707597  0.002872   1336927.9\n",
       "37930  4.475172  12800.87226  0.000824  0.707597  0.002872   1336927.9\n",
       "44300  4.475172  12800.87226  0.000824  0.707597  0.002872   1336927.9\n",
       "48550  4.475172  12800.87226  0.000824  0.707597  0.002872   1336927.9"
      ]
     },
     "execution_count": 16,
     "metadata": {},
     "output_type": "execute_result"
    }
   ],
   "source": [
    "df_mean[df_mean['X4_mean'] > 3]"
   ]
  },
  {
   "cell_type": "code",
   "execution_count": 17,
   "id": "28cd5c36-2c2a-4efb-bbb0-b05fe5effcee",
   "metadata": {},
   "outputs": [],
   "source": [
    "to_drop = df_mean[df_mean['X4_mean'] < 0].index\n",
    "\n",
    "# Indices of dropped rows in a list\n",
    "drop_idxs = to_drop.tolist()\n",
    "\n",
    "# Drop the rows from df_mean\n",
    "df_mean_processed = df_mean.drop(to_drop)"
   ]
  },
  {
   "cell_type": "code",
   "execution_count": 18,
   "id": "66319f3f-1c3e-4378-a88a-da12b663d199",
   "metadata": {},
   "outputs": [
    {
     "data": {
      "image/png": "[encoded data removed]",
      "text/plain": [
       "<Figure size 640x480 with 1 Axes>"
      ]
     },
     "metadata": {},
     "output_type": "display_data"
    }
   ],
   "source": [
    "plt.hist(df_mean_processed['X4_mean'], bins=20, color='lightgreen', edgecolor='black')\n",
    "plt.xlabel('X4_mean')\n",
    "plt.ylabel('Count')\n",
    "plt.title('Histogram of X4_mean')\n",
    "plt.show()"
   ]
  },
  {
   "cell_type": "code",
   "execution_count": 19,
   "id": "b324c472-5691-40e6-91e2-78ee2284ff66",
   "metadata": {},
   "outputs": [
    {
     "name": "stdout",
     "output_type": "stream",
     "text": [
      "        X4_mean   X11_mean  X18_mean    X26_mean  X50_mean   X3112_mean\n",
      "0      0.401753  11.758108  0.117484    1.243779  1.849375    50.216034\n",
      "1      0.480334  15.748846  0.389315    0.642940  1.353468   574.098472\n",
      "2      0.796917   5.291251  8.552908    0.395241  2.343153  1130.096731\n",
      "3      0.525236   9.568305  1.083629    0.154200  1.155308  1042.686546\n",
      "4      0.411821  14.528877  0.657585   10.919966  2.246226  2386.467180\n",
      "...         ...        ...       ...         ...       ...          ...\n",
      "55484  0.337243  11.572778  0.233690    1.783193  1.608341   969.547831\n",
      "55485  0.424371   6.114448  1.017099   12.713048  2.418300  1630.015480\n",
      "55486  0.639659   5.549596  2.717395   10.206478  2.722599   602.229880\n",
      "55487  0.774642   7.024218  4.429659    9.372170  3.251739   244.387170\n",
      "55488  0.551888  13.169623  5.827227  154.773325  1.523978  3740.065672\n",
      "\n",
      "[55334 rows x 6 columns]\n"
     ]
    }
   ],
   "source": [
    "print(df_mean_processed)"
   ]
  },
  {
   "cell_type": "code",
   "execution_count": 20,
   "id": "318bdb3b-34e9-4bec-a561-4d5b68695c66",
   "metadata": {},
   "outputs": [
    {
     "name": "stdout",
     "output_type": "stream",
     "text": [
      "          X4_sd    X11_sd    X18_sd     X26_sd    X50_sd    X3112_sd\n",
      "0      0.008921  1.601473  0.025441   0.153608  0.279610   15.045054\n",
      "1      0.003102  0.258078  0.000866   0.034630  0.010165   11.004477\n",
      "2           NaN       NaN       NaN        NaN       NaN         NaN\n",
      "3      0.011692  2.818356  0.110673   0.011334  0.229224  141.857187\n",
      "4      0.006157  1.128000  0.026996   0.553815  0.107092   87.146899\n",
      "...         ...       ...       ...        ...       ...         ...\n",
      "55484       NaN       NaN       NaN        NaN       NaN         NaN\n",
      "55485  0.005474  0.128133  0.117010   3.164520  0.082212  136.503697\n",
      "55486  0.019727  0.215040  0.156309   0.919139  0.079395   26.159626\n",
      "55487       NaN       NaN       NaN        NaN       NaN         NaN\n",
      "55488  0.004373  0.231755  0.039644  10.867344  0.009248  250.744389\n",
      "\n",
      "[55489 rows x 6 columns]\n"
     ]
    }
   ],
   "source": [
    "print(df_sd)"
   ]
  },
  {
   "cell_type": "markdown",
   "id": "85829200-c8cc-4859-be7f-cbb6cbab5bff",
   "metadata": {},
   "source": [
    "##### To keep the dataframes the same size, we need to drop rows in sd values as we did for x_mean"
   ]
  },
  {
   "cell_type": "code",
   "execution_count": 21,
   "id": "cf2de474-289f-4159-a35c-e3b721d0119c",
   "metadata": {},
   "outputs": [],
   "source": [
    "df_sd_processed= df_sd.drop(to_drop)"
   ]
  },
  {
   "cell_type": "code",
   "execution_count": 22,
   "id": "895366fa-d058-43b1-93af-3b624bdcafbe",
   "metadata": {},
   "outputs": [],
   "source": [
    "assert df_mean_processed.index.equals(df_sd_processed.index), \"Row indices do not match!\""
   ]
  },
  {
   "cell_type": "code",
   "execution_count": 23,
   "id": "08eefe1a-02bb-4269-863d-1bba5ca0f099",
   "metadata": {},
   "outputs": [
    {
     "name": "stdout",
     "output_type": "stream",
     "text": [
      "Dropped indices: [893, 1024, 1287, 1329, 1499, 1595, 1602, 2804, 2835, 2978, 2979, 3637, 3745, 3873, 3966, 4549, 5130, 5205, 5335, 6144, 6253, 6262, 6643, 7195, 7801, 8354, 8769, 8997, 9203, 9483, 9821, 9968, 10347, 11212, 12129, 12418, 14488, 14708, 14839, 15385, 15476, 15718, 16014, 16433, 16651, 16835, 17330, 17577, 17757, 17762, 18548, 18559, 18877, 19552, 19593, 19644, 19669, 19692, 19727, 20044, 20289, 20593, 21220, 21253, 21428, 22408, 22435, 22636, 22647, 24095, 24347, 25569, 25870, 26588, 26634, 26852, 26865, 26942, 28047, 28125, 28268, 28983, 29157, 29985, 30065, 30409, 30586, 31388, 31569, 32210, 32500, 33010, 33058, 33503, 35618, 35736, 35760, 35927, 35978, 36092, 36616, 36649, 36662, 36718, 37078, 37846, 38097, 38121, 38175, 38446, 39048, 39470, 39619, 39652, 39802, 40156, 40159, 40779, 40806, 40994, 41027, 41665, 42110, 42317, 42430, 43321, 43645, 43686, 44697, 44794, 45468, 45702, 45719, 46068, 46353, 46355, 46443, 46667, 46883, 46982, 47335, 48467, 48498, 48517, 48955, 49315, 49399, 50926, 51566, 52350, 52823, 53338, 54619, 54875, 55058]\n"
     ]
    }
   ],
   "source": [
    "# Print the list of dropped indices\n",
    "print(\"Dropped indices:\", drop_idxs)"
   ]
  },
  {
   "cell_type": "code",
   "execution_count": 24,
   "id": "819a0e9c-c74a-42e5-9baa-deb19acab968",
   "metadata": {},
   "outputs": [
    {
     "name": "stdout",
     "output_type": "stream",
     "text": [
      "          X4_sd    X11_sd    X18_sd     X26_sd    X50_sd    X3112_sd\n",
      "0      0.008921  1.601473  0.025441   0.153608  0.279610   15.045054\n",
      "1      0.003102  0.258078  0.000866   0.034630  0.010165   11.004477\n",
      "2           NaN       NaN       NaN        NaN       NaN         NaN\n",
      "3      0.011692  2.818356  0.110673   0.011334  0.229224  141.857187\n",
      "4      0.006157  1.128000  0.026996   0.553815  0.107092   87.146899\n",
      "...         ...       ...       ...        ...       ...         ...\n",
      "55484       NaN       NaN       NaN        NaN       NaN         NaN\n",
      "55485  0.005474  0.128133  0.117010   3.164520  0.082212  136.503697\n",
      "55486  0.019727  0.215040  0.156309   0.919139  0.079395   26.159626\n",
      "55487       NaN       NaN       NaN        NaN       NaN         NaN\n",
      "55488  0.004373  0.231755  0.039644  10.867344  0.009248  250.744389\n",
      "\n",
      "[55334 rows x 6 columns]\n"
     ]
    }
   ],
   "source": [
    "print(df_sd_processed)"
   ]
  },
  {
   "cell_type": "markdown",
   "id": "dfd83bc1-a93a-44ea-8bf2-599728459d35",
   "metadata": {},
   "source": [
    "##### Replace none value with mean in _sd"
   ]
  },
  {
   "cell_type": "code",
   "execution_count": 25,
   "id": "ba43ac75-08c2-446b-bf0a-4c12ec797a6f",
   "metadata": {},
   "outputs": [],
   "source": [
    "df_sd_imputed = df_sd_processed.fillna(df_sd_processed.mean())"
   ]
  },
  {
   "cell_type": "code",
   "execution_count": 26,
   "id": "f0826086-895e-48cc-9e82-edda8df06a1f",
   "metadata": {},
   "outputs": [
    {
     "data": {
      "text/plain": [
       "X4_sd       0\n",
       "X11_sd      0\n",
       "X18_sd      0\n",
       "X26_sd      0\n",
       "X50_sd      0\n",
       "X3112_sd    0\n",
       "dtype: int64"
      ]
     },
     "execution_count": 26,
     "metadata": {},
     "output_type": "execute_result"
    }
   ],
   "source": [
    "df_sd_imputed.isnull().sum()"
   ]
  },
  {
   "cell_type": "code",
   "execution_count": 27,
   "id": "617d01d3-8080-4817-a030-832a072ebae4",
   "metadata": {},
   "outputs": [
    {
     "name": "stdout",
     "output_type": "stream",
     "text": [
      "          X4_sd    X11_sd     X18_sd      X26_sd    X50_sd    X3112_sd\n",
      "0      0.008921  1.601473   0.025441    0.153608  0.279610   15.045054\n",
      "1      0.003102  0.258078   0.000866    0.034630  0.010165   11.004477\n",
      "2      0.007837  1.064710  14.153836  110.390593  0.074946  443.662415\n",
      "3      0.011692  2.818356   0.110673    0.011334  0.229224  141.857187\n",
      "4      0.006157  1.128000   0.026996    0.553815  0.107092   87.146899\n",
      "...         ...       ...        ...         ...       ...         ...\n",
      "55484  0.007837  1.064710  14.153836  110.390593  0.074946  443.662415\n",
      "55485  0.005474  0.128133   0.117010    3.164520  0.082212  136.503697\n",
      "55486  0.019727  0.215040   0.156309    0.919139  0.079395   26.159626\n",
      "55487  0.007837  1.064710  14.153836  110.390593  0.074946  443.662415\n",
      "55488  0.004373  0.231755   0.039644   10.867344  0.009248  250.744389\n",
      "\n",
      "[55334 rows x 6 columns]\n"
     ]
    }
   ],
   "source": [
    "print(df_sd_imputed)"
   ]
  },
  {
   "cell_type": "code",
   "execution_count": 28,
   "id": "b6545f82-faa8-4360-b273-5dd42432ca2e",
   "metadata": {},
   "outputs": [
    {
     "name": "stdout",
     "output_type": "stream",
     "text": [
      "X4_mean skewness: 0.7901957477210161\n",
      "X11_mean skewness: 117.46877722056058\n",
      "X18_mean skewness: 117.76622407471434\n",
      "X26_mean skewness: 92.61797825417192\n",
      "X50_mean skewness: 117.73819756808628\n",
      "X3112_mean skewness: 235.53710717240244\n"
     ]
    }
   ],
   "source": [
    "from scipy.stats import skew\n",
    "\n",
    "for column in df_mean_processed.columns:\n",
    "    print(f\"{column} skewness: {skew(df[column].dropna())}\")\n"
   ]
  },
  {
   "cell_type": "code",
   "execution_count": 29,
   "id": "e671228b-6d68-42ba-83e3-b2b22cfc1787",
   "metadata": {},
   "outputs": [],
   "source": [
    "# List of columns to transform (excluding X4_mean, as it's already okay)\n",
    "columns_to_transform = ['X11_mean', 'X18_mean', 'X26_mean', 'X50_mean', 'X3112_mean']\n",
    "\n",
    "# log transformation and overwrite original columns\n",
    "for col in columns_to_transform:\n",
    "    df_mean_processed[col] = np.log1p(df_mean_processed[col])"
   ]
  },
  {
   "cell_type": "code",
   "execution_count": 30,
   "id": "709484fb-d0b5-416e-8fc7-ad8333734a1f",
   "metadata": {},
   "outputs": [
    {
     "name": "stdout",
     "output_type": "stream",
     "text": [
      "X11_mean skewness after transformation: 1.0193577811534886\n",
      "X18_mean skewness after transformation: 1.963873050505486\n",
      "X26_mean skewness after transformation: 1.3737431903353636\n",
      "X50_mean skewness after transformation: 6.3328661117014\n",
      "X3112_mean skewness after transformation: -0.17454678270286683\n"
     ]
    }
   ],
   "source": [
    "# Check skewness after transformation\n",
    "for col in columns_to_transform:\n",
    "    transformed_skewness = skew(df_mean_processed[col].dropna())\n",
    "    print(f\"{col} skewness after transformation: {transformed_skewness}\")"
   ]
  },
  {
   "cell_type": "code",
   "execution_count": 31,
   "id": "6c6820e2-46a5-4ce8-b089-eac949d2029d",
   "metadata": {},
   "outputs": [
    {
     "data": {
      "image/png": "[encoded data removed]",
      "text/plain": [
       "<Figure size 640x480 with 1 Axes>"
      ]
     },
     "metadata": {},
     "output_type": "display_data"
    },
    {
     "data": {
      "image/png": "[encoded data removed]",
      "text/plain": [
       "<Figure size 640x480 with 1 Axes>"
      ]
     },
     "metadata": {},
     "output_type": "display_data"
    },
    {
     "data": {
      "image/png": "[encoded data removed]",
      "text/plain": [
       "<Figure size 640x480 with 1 Axes>"
      ]
     },
     "metadata": {},
     "output_type": "display_data"
    },
    {
     "data": {
      "image/png": "[encoded data removed]",
      "text/plain": [
       "<Figure size 640x480 with 1 Axes>"
      ]
     },
     "metadata": {},
     "output_type": "display_data"
    },
    {
     "data": {
      "image/png": "[encoded data removed]",
      "text/plain": [
       "<Figure size 640x480 with 1 Axes>"
      ]
     },
     "metadata": {},
     "output_type": "display_data"
    }
   ],
   "source": [
    "# Visualize distributions after transformation\n",
    "for col in columns_to_transform:\n",
    "    sns.histplot(df_mean_processed[col].dropna(), kde=True)\n",
    "    plt.title(f\"Distribution of {col} after log transformation\")\n",
    "    plt.show()"
   ]
  },
  {
   "cell_type": "code",
   "execution_count": 32,
   "id": "147631a2-c661-4b63-9806-caf2815ade2e",
   "metadata": {},
   "outputs": [
    {
     "data": {
      "text/plain": [
       "(55334, 6)"
      ]
     },
     "execution_count": 32,
     "metadata": {},
     "output_type": "execute_result"
    }
   ],
   "source": [
    "df_mean_processed.shape"
   ]
  },
  {
   "cell_type": "code",
   "execution_count": 33,
   "id": "3e5bda89-f72b-421b-a79a-3309fde2a854",
   "metadata": {},
   "outputs": [
    {
     "data": {
      "text/plain": [
       "(55334, 6)"
      ]
     },
     "execution_count": 33,
     "metadata": {},
     "output_type": "execute_result"
    }
   ],
   "source": [
    "df_sd_imputed.shape"
   ]
  }
 ],
 "metadata": {
  "kernelspec": {
   "display_name": "Python 3 (ipykernel)",
   "language": "python",
   "name": "python3"
  },
  "language_info": {
   "codemirror_mode": {
    "name": "ipython",
    "version": 3
   },
   "file_extension": ".py",
   "mimetype": "text/x-python",
   "name": "python",
   "nbconvert_exporter": "python",
   "pygments_lexer": "ipython3",
   "version": "3.10.16"
  }
 },
 "nbformat": 4,
 "nbformat_minor": 5
}
