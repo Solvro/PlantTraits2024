{
 "cells": [
  {
   "cell_type": "code",
   "execution_count": null,
   "metadata": {
    "ExecuteTime": {
     "end_time": "2025-05-29T17:58:47.770278Z",
     "start_time": "2025-05-29T17:58:47.392278Z"
    }
   },
   "outputs": [],
   "source": [
    "%load_ext autoreload\n",
    "%autoreload 2\n",
    "%aimport -sympy"
   ]
  },
  {
   "cell_type": "code",
   "execution_count": null,
   "metadata": {
    "ExecuteTime": {
     "end_time": "2025-05-29T18:13:12.904911Z",
     "start_time": "2025-05-29T18:13:12.643900Z"
    }
   },
   "outputs": [],
   "source": [
    "from src.planttraits.datasets.plant_traits_dataset import PlantTraitsDataset\n",
    "from src.planttraits.models.example_model import PTNN, kwargs\n",
    "from planttraits.utils import TARGET_COLUMN_NAMES\n",
    "from torch.utils.data import DataLoader\n",
    "import pytorch_lightning as pl\n",
    "from pytorch_lightning.loggers.tensorboard import TensorBoardLogger\n",
    "import torch \n",
    "import matplotlib.pyplot as plt\n",
    "import os \n",
    "from pathlib import Path \n",
    "import pandas as pd"
   ]
  },
  {
   "cell_type": "code",
   "execution_count": null,
   "metadata": {
    "ExecuteTime": {
     "end_time": "2025-05-29T18:13:16.999233Z",
     "start_time": "2025-05-29T18:13:13.900134Z"
    }
   },
   "outputs": [],
   "source": [
    "train_dataset = PlantTraitsDataset()\n",
    "test_dataset = PlantTraitsDataset(preprocessors=train_dataset.return_preprocessors())"
   ]
  },
  {
   "cell_type": "markdown",
   "metadata": {},
   "source": [
    "### Modis Vod"
   ]
  },
  {
   "cell_type": "code",
   "execution_count": null,
   "metadata": {
    "ExecuteTime": {
     "end_time": "2025-05-29T18:13:46.292151Z",
     "start_time": "2025-05-29T18:13:46.004154Z"
    }
   },
   "outputs": [],
   "source": [
    "preps = train_dataset.return_preprocessors()\n",
    "modis_prep = preps['modis_vod']\n",
    "cols = modis_prep.columns\n",
    "train_modis = train_dataset.data[cols]\n",
    "display(train_modis.head())"
   ]
  },
  {
   "cell_type": "code",
   "execution_count": null,
   "metadata": {
    "ExecuteTime": {
     "end_time": "2025-05-29T18:14:47.988996Z",
     "start_time": "2025-05-29T18:14:47.731001Z"
    }
   },
   "outputs": [],
   "source": [
    "print(train_modis.columns.tolist())"
   ]
  },
  {
   "cell_type": "code",
   "execution_count": null,
   "metadata": {
    "ExecuteTime": {
     "end_time": "2025-05-29T18:13:20.006036Z",
     "start_time": "2025-05-29T18:13:19.747039Z"
    }
   },
   "outputs": [],
   "source": [
    "test_col = f\"MODIS_2000.2020_monthly_mean_surface_reflectance_band_14_._month_m10\"\n",
    "\n",
    "if test_col in train_modis.columns:\n",
    "    print(\"Istnieje\")\n",
    "else:\n",
    "    print(\"Nie istnieje\")\n"
   ]
  },
  {
   "cell_type": "markdown",
   "metadata": {},
   "source": [
    "### Soil"
   ]
  },
  {
   "cell_type": "code",
   "execution_count": null,
   "metadata": {},
   "outputs": [],
   "source": [
    "preps = train_dataset.return_preprocessors()\n",
    "soil_prep = preps['soil']\n",
    "cols = soil_prep.columns"
   ]
  },
  {
   "cell_type": "code",
   "execution_count": null,
   "metadata": {},
   "outputs": [],
   "source": [
    "cols"
   ]
  },
  {
   "cell_type": "code",
   "execution_count": null,
   "metadata": {},
   "outputs": [],
   "source": [
    "len(cols)"
   ]
  },
  {
   "cell_type": "markdown",
   "metadata": {},
   "source": [
    "### Worldclim Bio"
   ]
  },
  {
   "cell_type": "code",
   "execution_count": null,
   "metadata": {},
   "outputs": [],
   "source": [
    "preps = train_dataset.return_preprocessors()\n",
    "worldclim_prep = preps['worldclimbio']\n",
    "cols = worldclim_prep.selected_columns"
   ]
  },
  {
   "cell_type": "code",
   "execution_count": null,
   "metadata": {},
   "outputs": [],
   "source": [
    "cols"
   ]
  },
  {
   "cell_type": "markdown",
   "metadata": {},
   "source": [
    "### Images"
   ]
  },
  {
   "cell_type": "code",
   "execution_count": null,
   "metadata": {},
   "outputs": [],
   "source": [
    "train_img = train_dataset.img_preprocessor.transform(r\"C:\\Users\\julia\\VSCode\\plant-traits-2024\\data\\train_images\\26375.jpeg\")\n",
    "train_img.shape"
   ]
  },
  {
   "cell_type": "code",
   "execution_count": null,
   "metadata": {},
   "outputs": [],
   "source": [
    "plt.imshow(train_img.numpy().transpose(1, 2, 0))"
   ]
  },
  {
   "cell_type": "markdown",
   "metadata": {},
   "source": [
    "### All Dataset"
   ]
  },
  {
   "cell_type": "code",
   "execution_count": null,
   "metadata": {
    "ExecuteTime": {
     "end_time": "2025-05-29T18:00:05.068478Z",
     "start_time": "2025-05-29T18:00:04.818479Z"
    }
   },
   "outputs": [],
   "source": [
    "len(train_dataset)"
   ]
  },
  {
   "cell_type": "code",
   "execution_count": null,
   "metadata": {
    "ExecuteTime": {
     "end_time": "2025-05-29T18:00:06.190267Z",
     "start_time": "2025-05-29T18:00:05.939269Z"
    }
   },
   "outputs": [],
   "source": [
    "len(test_dataset)"
   ]
  },
  {
   "cell_type": "code",
   "execution_count": null,
   "metadata": {
    "ExecuteTime": {
     "end_time": "2025-05-29T18:00:08.262997Z",
     "start_time": "2025-05-29T18:00:08.008001Z"
    }
   },
   "outputs": [],
   "source": [
    "train_loader = DataLoader(train_dataset)\n",
    "test_loader = DataLoader(test_dataset)"
   ]
  },
  {
   "cell_type": "code",
   "execution_count": null,
   "metadata": {
    "ExecuteTime": {
     "end_time": "2025-05-29T18:00:09.568313Z",
     "start_time": "2025-05-29T18:00:09.261889Z"
    }
   },
   "outputs": [],
   "source": [
    "img, modisvod_row, soil_row, worldclimbio_row, std_row, mean_row = next(iter(train_loader))\n",
    "# img, modisvod_row, soil_row, worldclimbio_row, std_row, mean_row = next(iter(test_loader))"
   ]
  },
  {
   "cell_type": "code",
   "execution_count": null,
   "metadata": {},
   "outputs": [],
   "source": [
    "img.shape"
   ]
  },
  {
   "cell_type": "code",
   "execution_count": null,
   "metadata": {},
   "outputs": [],
   "source": [
    "img"
   ]
  },
  {
   "cell_type": "code",
   "execution_count": null,
   "metadata": {},
   "outputs": [],
   "source": [
    "modisvod_row"
   ]
  },
  {
   "cell_type": "code",
   "execution_count": null,
   "metadata": {},
   "outputs": [],
   "source": [
    "soil_row"
   ]
  },
  {
   "cell_type": "code",
   "execution_count": null,
   "metadata": {},
   "outputs": [],
   "source": [
    "worldclimbio_row"
   ]
  },
  {
   "cell_type": "code",
   "execution_count": null,
   "metadata": {
    "ExecuteTime": {
     "end_time": "2025-03-05T17:48:59.001086Z",
     "start_time": "2025-03-05T17:48:58.817577Z"
    }
   },
   "outputs": [],
   "source": [
    "std_row, mean_row"
   ]
  },
  {
   "cell_type": "code",
   "execution_count": null,
   "metadata": {},
   "outputs": [],
   "source": [
    "torch.concat([modisvod_row, soil_row, worldclimbio_row], axis=1).shape"
   ]
  },
  {
   "cell_type": "code",
   "execution_count": null,
   "metadata": {},
   "outputs": [],
   "source": [
    "train_loader = DataLoader(train_dataset, batch_size=64, shuffle=True)\n",
    "test_loader = DataLoader(test_dataset, batch_size=64)"
   ]
  },
  {
   "cell_type": "code",
   "execution_count": null,
   "metadata": {},
   "outputs": [],
   "source": [
    "kwargs"
   ]
  },
  {
   "cell_type": "code",
   "execution_count": null,
   "metadata": {},
   "outputs": [],
   "source": [
    "import torchvision"
   ]
  },
  {
   "cell_type": "code",
   "execution_count": null,
   "metadata": {},
   "outputs": [],
   "source": [
    "efficientnet_b2 = torchvision.models.efficientnet_b2(weights='IMAGENET1K_V1')"
   ]
  },
  {
   "cell_type": "code",
   "execution_count": null,
   "metadata": {},
   "outputs": [],
   "source": [
    "efficientnet_b2"
   ]
  },
  {
   "cell_type": "code",
   "execution_count": null,
   "metadata": {},
   "outputs": [],
   "source": [
    "efficientnet_b2.classifier = torch.nn.Identity()"
   ]
  },
  {
   "cell_type": "code",
   "execution_count": null,
   "metadata": {},
   "outputs": [],
   "source": [
    "efficientnet_b2(torch.rand((2, 3, 256, 256))).shape"
   ]
  },
  {
   "cell_type": "code",
   "execution_count": null,
   "metadata": {},
   "outputs": [],
   "source": [
    "resnet18 = torchvision.models.resnet18(weights=torchvision.models.ResNet18_Weights.IMAGENET1K_V1)"
   ]
  },
  {
   "cell_type": "code",
   "execution_count": null,
   "metadata": {},
   "outputs": [],
   "source": [
    "resnet18.fc = torch.nn.Identity() # żeby pozbyć się liniowego klasyfikatora i tylko wybrać reprezentację obrazka"
   ]
  },
  {
   "cell_type": "code",
   "execution_count": null,
   "metadata": {},
   "outputs": [],
   "source": [
    "kwargs['backbone_net'] = resnet18"
   ]
  },
  {
   "cell_type": "code",
   "execution_count": null,
   "metadata": {},
   "outputs": [],
   "source": [
    "kwargs"
   ]
  },
  {
   "cell_type": "code",
   "execution_count": null,
   "metadata": {
    "ExecuteTime": {
     "end_time": "2025-05-29T18:00:24.988185Z",
     "start_time": "2025-05-29T18:00:24.664188Z"
    }
   },
   "outputs": [],
   "source": [
    "checkpoint_dir = Path(f'../models')\n",
    "os.makedirs(checkpoint_dir, exist_ok=True)\n",
    "model_name = 'test-model'\n",
    "logger = TensorBoardLogger(save_dir='./tnsr-logs', name=model_name)\n",
    "checkpoint_callback = pl.callbacks.ModelCheckpoint(dirpath=checkpoint_dir / model_name, filename='{epoch}-{val_loss:.2f}-{train_loss:.2f}', \n",
    "                                                                                   monitor='train_r2_score', save_last=True) \n",
    "# early_stopping = pl.callbacks.EarlyStopping(monitor='val_loss', verbose=True)\n",
    "\n",
    "model = PTNN(**kwargs)\n",
    "trainer = pl.Trainer(max_epochs=3, fast_dev_run=False, default_root_dir=checkpoint_dir / model_name, logger=logger)"
   ]
  },
  {
   "cell_type": "code",
   "execution_count": null,
   "metadata": {},
   "outputs": [],
   "source": [
    "trainer.fit(model, train_dataloaders=train_loader)"
   ]
  },
  {
   "cell_type": "code",
   "execution_count": null,
   "metadata": {},
   "outputs": [],
   "source": [
    "test_preds = trainer.predict(model, test_loader)"
   ]
  },
  {
   "cell_type": "code",
   "execution_count": null,
   "metadata": {},
   "outputs": [],
   "source": [
    "test_preds"
   ]
  },
  {
   "cell_type": "code",
   "execution_count": null,
   "metadata": {},
   "outputs": [],
   "source": [
    "test_preds"
   ]
  },
  {
   "cell_type": "code",
   "execution_count": null,
   "metadata": {},
   "outputs": [],
   "source": [
    "test_dataset.save_submission(test_preds, './submis.csv')"
   ]
  }
 ],
 "metadata": {
  "kernelspec": {
   "display_name": ".venv",
   "language": "python",
   "name": "python3"
  },
  "language_info": {
   "codemirror_mode": {
    "name": "ipython",
    "version": 3
   },
   "file_extension": ".py",
   "mimetype": "text/x-python",
   "name": "python",
   "nbconvert_exporter": "python",
   "pygments_lexer": "ipython3",
   "version": "3.10.0"
  }
 },
 "nbformat": 4,
 "nbformat_minor": 2
}
