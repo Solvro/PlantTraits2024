{
 "cells": [
  {
   "cell_type": "code",
   "execution_count": 1,
   "metadata": {
    "ExecuteTime": {
     "end_time": "2025-03-05T17:48:07.670106Z",
     "start_time": "2025-03-05T17:48:07.579839Z"
    }
   },
   "outputs": [],
   "source": [
    "%load_ext autoreload\n",
    "%autoreload 2\n",
    "%aimport -sympy"
   ]
  },
  {
   "cell_type": "code",
   "execution_count": 2,
   "metadata": {
    "ExecuteTime": {
     "end_time": "2025-03-05T17:48:48.609718Z",
     "start_time": "2025-03-05T17:48:43.110338Z"
    }
   },
   "outputs": [],
   "source": [
    "from planttraits.datasets.plant_traits_dataset import PlantTraitsDataset\n",
    "from torch.utils.data import DataLoader"
   ]
  },
  {
   "cell_type": "code",
   "execution_count": 3,
   "metadata": {
    "ExecuteTime": {
     "end_time": "2025-03-05T17:48:51.093099Z",
     "start_time": "2025-03-05T17:48:49.680866Z"
    }
   },
   "outputs": [],
   "source": [
    "train_dataset = PlantTraitsDataset()\n",
    "test_dataset = PlantTraitsDataset(preprocessors=train_dataset.return_preprocessors())"
   ]
  },
  {
   "cell_type": "code",
   "execution_count": 4,
   "metadata": {
    "ExecuteTime": {
     "end_time": "2025-03-05T17:48:52.574166Z",
     "start_time": "2025-03-05T17:48:52.394647Z"
    }
   },
   "outputs": [
    {
     "data": {
      "text/plain": [
       "55489"
      ]
     },
     "execution_count": 4,
     "metadata": {},
     "output_type": "execute_result"
    }
   ],
   "source": [
    "len(train_dataset)"
   ]
  },
  {
   "cell_type": "code",
   "execution_count": 5,
   "metadata": {
    "ExecuteTime": {
     "end_time": "2025-03-05T17:48:53.919103Z",
     "start_time": "2025-03-05T17:48:53.717643Z"
    }
   },
   "outputs": [
    {
     "data": {
      "text/plain": [
       "6545"
      ]
     },
     "execution_count": 5,
     "metadata": {},
     "output_type": "execute_result"
    }
   ],
   "source": [
    "len(test_dataset)"
   ]
  },
  {
   "cell_type": "code",
   "execution_count": 6,
   "metadata": {
    "ExecuteTime": {
     "end_time": "2025-03-05T17:48:55.777169Z",
     "start_time": "2025-03-05T17:48:55.588675Z"
    }
   },
   "outputs": [],
   "source": [
    "loader = DataLoader(train_dataset)"
   ]
  },
  {
   "cell_type": "code",
   "execution_count": 7,
   "metadata": {
    "ExecuteTime": {
     "end_time": "2025-03-05T17:48:57.031325Z",
     "start_time": "2025-03-05T17:48:56.756063Z"
    }
   },
   "outputs": [
    {
     "name": "stderr",
     "output_type": "stream",
     "text": [
      "C:\\Users\\julia\\VSCode\\PlantTraits2024\\src\\planttraits\\preprocessing\\img_preprocessing.py:73: UserWarning: To copy construct from a tensor, it is recommended to use sourceTensor.clone().detach() or sourceTensor.clone().detach().requires_grad_(True), rather than torch.tensor(sourceTensor).\n",
      "  return torch.tensor(image, dtype=DTYPE)\n"
     ]
    }
   ],
   "source": [
    "img, modisvod_row, soil_row, worldclimbio_row, std_row, mean_row = next(iter(loader))"
   ]
  },
  {
   "cell_type": "code",
   "execution_count": 8,
   "metadata": {
    "ExecuteTime": {
     "end_time": "2025-03-05T17:48:59.001086Z",
     "start_time": "2025-03-05T17:48:58.817577Z"
    }
   },
   "outputs": [
    {
     "data": {
      "text/plain": [
       "(tensor([[0., 0., 0., 0., 0., 0.]]),\n",
       " tensor([[ 0.4018, 11.7581,  0.1175,  1.2438,  1.8494, 50.2160]]))"
      ]
     },
     "execution_count": 8,
     "metadata": {},
     "output_type": "execute_result"
    }
   ],
   "source": [
    "std_row, mean_row"
   ]
  }
 ],
 "metadata": {
  "kernelspec": {
   "display_name": "plant-traits",
   "language": "python",
   "name": "python3"
  },
  "language_info": {
   "codemirror_mode": {
    "name": "ipython",
    "version": 3
   },
   "file_extension": ".py",
   "mimetype": "text/x-python",
   "name": "python",
   "nbconvert_exporter": "python",
   "pygments_lexer": "ipython3",
   "version": "3.10.16"
  }
 },
 "nbformat": 4,
 "nbformat_minor": 2
}
