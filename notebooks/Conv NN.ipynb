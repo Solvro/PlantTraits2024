{
 "cells": [
  {
   "cell_type": "code",
   "execution_count": 1,
   "metadata": {},
   "outputs": [],
   "source": [
    "import os\n",
    "\n",
    "import matplotlib\n",
    "import matplotlib.pyplot as plt\n",
    "import matplotlib_inline.backend_inline\n",
    "import numpy as np\n",
    "import pytorch_lightning as pl\n",
    "import seaborn as sns\n",
    "import torch\n",
    "import torch.nn as nn\n",
    "import torch.optim as optim\n",
    "import torch.utils.data as data\n",
    "import torchvision\n",
    "from typing import List \n",
    "import pandas as pd \n",
    "\n",
    "%matplotlib inline\n",
    "from IPython.display import HTML, display\n",
    "from PIL import Image\n",
    "from pathlib import Path\n",
    "from torchvision import transforms\n",
    "from torchvision.datasets import Flowers102\n",
    "import torch.nn.functional as F\n",
    "from torchsummary import summary\n",
    "from sklearn.metrics import precision_recall_fscore_support\n",
    "import seaborn as sns \n",
    "\n",
    "matplotlib_inline.backend_inline.set_matplotlib_formats(\"svg\", \"pdf\")  # For export\n",
    "matplotlib.rcParams[\"lines.linewidth\"] = 2.0\n",
    "sns.reset_orig()"
   ]
  },
  {
   "cell_type": "markdown",
   "metadata": {},
   "source": [
    "### Przygotowanie danych"
   ]
  },
  {
   "cell_type": "markdown",
   "metadata": {},
   "source": [
    "#### Transformacje danych\n",
    "[Wizualizacje transformacji](https://pytorch.org/vision/0.11/auto_examples/plot_transforms.html#sphx-glr-auto-examples-plot-transforms-py)"
   ]
  },
  {
   "cell_type": "code",
   "execution_count": 2,
   "metadata": {},
   "outputs": [],
   "source": [
    "DATASET_PATH = Path('../data/study')"
   ]
  },
  {
   "cell_type": "code",
   "execution_count": 3,
   "metadata": {},
   "outputs": [],
   "source": [
    "class Transpose:\n",
    "\n",
    "    def __init__(self, axes):\n",
    "        self.axes=axes \n",
    "\n",
    "    def __call__(self, sample):\n",
    "        return sample.permute(*self.axes)\n",
    "        \n",
    "    \n",
    "\n",
    "type_transforms = transforms.Compose([\n",
    "    transforms.PILToTensor(),\n",
    "    # Transpose(axes=(1, 2, 0)),\n",
    "    transforms.Resize(size=(256, 256)),\n",
    "    transforms.ConvertImageDtype(torch.float)\n",
    "])"
   ]
  },
  {
   "cell_type": "code",
   "execution_count": 4,
   "metadata": {},
   "outputs": [],
   "source": [
    "transforms_1 = transforms.Compose([\n",
    "    transforms.RandomHorizontalFlip(),\n",
    "    transforms.GaussianBlur(kernel_size=(5, 9), sigma=(0.1, 5))\n",
    "])\n",
    "\n",
    "transforms_2 = transforms.Compose([\n",
    "    transforms.RandomAutocontrast(),\n",
    "    transforms.RandomPerspective(distortion_scale=0.6, p=1.0)\n",
    "])"
   ]
  },
  {
   "cell_type": "code",
   "execution_count": 5,
   "metadata": {},
   "outputs": [],
   "source": [
    "orig_img = type_transforms(Image.open(DATASET_PATH / 'flowers-102/jpg/image_00001.jpg'))"
   ]
  },
  {
   "cell_type": "code",
   "execution_count": 6,
   "metadata": {},
   "outputs": [
    {
     "data": {
      "text/plain": [
       "torch.Size([3, 256, 256])"
      ]
     },
     "execution_count": 6,
     "metadata": {},
     "output_type": "execute_result"
    }
   ],
   "source": [
    "orig_img.shape"
   ]
  },
  {
   "cell_type": "markdown",
   "metadata": {},
   "source": [
    "Zdjęcia mają już wyskalowane wartości, więc nie trzeba do nich stosować dodatkowych transformacji skalujących"
   ]
  },
  {
   "cell_type": "code",
   "execution_count": 7,
   "metadata": {},
   "outputs": [
    {
     "data": {
      "text/plain": [
       "tensor([[[0.4902, 0.4667, 0.4275,  ..., 0.0706, 0.0902, 0.1059],\n",
       "         [0.5059, 0.4784, 0.4392,  ..., 0.0588, 0.0745, 0.0863],\n",
       "         [0.5333, 0.4980, 0.4510,  ..., 0.0471, 0.0627, 0.0706],\n",
       "         ...,\n",
       "         [0.5412, 0.5176, 0.4824,  ..., 0.2706, 0.2824, 0.2824],\n",
       "         [0.5686, 0.5294, 0.4941,  ..., 0.2667, 0.2784, 0.2784],\n",
       "         [0.5804, 0.5373, 0.5020,  ..., 0.2667, 0.2784, 0.2745]],\n",
       "\n",
       "        [[0.4667, 0.4431, 0.4039,  ..., 0.0784, 0.0980, 0.1137],\n",
       "         [0.4863, 0.4588, 0.4157,  ..., 0.0667, 0.0824, 0.0941],\n",
       "         [0.5137, 0.4824, 0.4353,  ..., 0.0549, 0.0706, 0.0784],\n",
       "         ...,\n",
       "         [0.5804, 0.5569, 0.5255,  ..., 0.1961, 0.2078, 0.2078],\n",
       "         [0.6000, 0.5647, 0.5412,  ..., 0.1922, 0.2039, 0.2039],\n",
       "         [0.6078, 0.5765, 0.5490,  ..., 0.1922, 0.2039, 0.2000]],\n",
       "\n",
       "        [[0.3725, 0.3490, 0.3020,  ..., 0.0275, 0.0471, 0.0627],\n",
       "         [0.3961, 0.3608, 0.3059,  ..., 0.0157, 0.0314, 0.0431],\n",
       "         [0.4235, 0.3804, 0.3137,  ..., 0.0039, 0.0196, 0.0275],\n",
       "         ...,\n",
       "         [0.4431, 0.4039, 0.3529,  ..., 0.1294, 0.1412, 0.1412],\n",
       "         [0.4392, 0.3961, 0.3529,  ..., 0.1255, 0.1373, 0.1373],\n",
       "         [0.4471, 0.4000, 0.3608,  ..., 0.1255, 0.1373, 0.1333]]])"
      ]
     },
     "execution_count": 7,
     "metadata": {},
     "output_type": "execute_result"
    }
   ],
   "source": [
    "orig_img"
   ]
  },
  {
   "cell_type": "code",
   "execution_count": 8,
   "metadata": {},
   "outputs": [],
   "source": [
    "def plot(imgs, with_orig=True, row_title=None, **imshow_kwargs):\n",
    "    if not isinstance(imgs[0], list):\n",
    "        # Make a 2d grid even if there's just 1 row\n",
    "        imgs = [imgs]\n",
    "\n",
    "    num_rows = len(imgs)\n",
    "    num_cols = len(imgs[0]) + with_orig\n",
    "    fig, axs = plt.subplots(nrows=num_rows, ncols=num_cols, squeeze=False)\n",
    "    for row_idx, row in enumerate(imgs):\n",
    "        row = [orig_img] + row if with_orig else row\n",
    "        for col_idx, img in enumerate(row):\n",
    "            ax = axs[row_idx, col_idx]\n",
    "            ax.imshow(np.asarray(img).transpose(1, 2, 0), **imshow_kwargs)\n",
    "            ax.set(xticklabels=[], yticklabels=[], xticks=[], yticks=[])\n",
    "\n",
    "    if with_orig:\n",
    "        axs[0, 0].set(title='Original image')\n",
    "        axs[0, 0].title.set_size(8)\n",
    "    if row_title is not None:\n",
    "        for row_idx in range(num_rows):\n",
    "            axs[row_idx, 0].set(ylabel=row_title[row_idx])\n",
    "\n",
    "    plt.tight_layout()"
   ]
  },
  {
   "cell_type": "code",
   "execution_count": 9,
   "metadata": {},
   "outputs": [
    {
     "data": {
      "application/pdf": "[encoded data removed]",
      "image/svg+xml": [
       "<?xml version=\"1.0\" encoding=\"utf-8\" standalone=\"no\"?>\n",
       "<!DOCTYPE svg PUBLIC \"-//W3C//DTD SVG 1.1//EN\"\n",
       "  \"http://www.w3.org/Graphics/SVG/1.1/DTD/svg11.dtd\">\n",
       "<svg xmlns:xlink=\"http://www.w3.org/1999/xlink\" width=\"453.6pt\" height=\"105.67875pt\" viewBox=\"0 0 453.6 105.67875\" xmlns=\"http://www.w3.org/2000/svg\" version=\"1.1\">\n",
       " <metadata>\n",
       "  <rdf:RDF xmlns:dc=\"http://purl.org/dc/elements/1.1/\" xmlns:cc=\"http://creativecommons.org/ns#\" xmlns:rdf=\"http://www.w3.org/1999/02/22-rdf-syntax-ns#\">\n",
       "   <cc:Work>\n",
       "    <dc:type rdf:resource=\"http://purl.org/dc/dcmitype/StillImage\"/>\n",
       "    <dc:date>2024-12-21T16:57:20.923310</dc:date>\n",
       "    <dc:format>image/svg+xml</dc:format>\n",
       "    <dc:creator>\n",
       "     <cc:Agent>\n",
       "      <dc:title>Matplotlib v3.9.3, https://matplotlib.org/</dc:title>\n",
       "     </cc:Agent>\n",
       "    </dc:creator>\n",
       "   </cc:Work>\n",
       "  </rdf:RDF>\n",
       " </metadata>\n",
       " <defs>\n",
       "  <style type=\"text/css\">*{stroke-linejoin: round; stroke-linecap: butt}</style>\n",
       " </defs>\n",
       " <g id=\"figure_1\">\n",
       "  <g id=\"patch_1\">\n",
       "   <path d=\"M 0 105.67875 \n",
       "L 453.6 105.67875 \n",
       "L 453.6 0 \n",
       "L 0 0 \n",
       "z\n",
       "\" style=\"fill: #ffffff\"/>\n",
       "  </g>\n",
       "  <g id=\"axes_1\">\n",
       "   <g id=\"patch_2\">\n",
       "    <path d=\"M 7.2 98.47875 \n",
       "L 86.4 98.47875 \n",
       "L 86.4 19.27875 \n",
       "L 7.2 19.27875 \n",
       "z\n",
       "\" style=\"fill: #ffffff\"/>\n",
       "   </g>\n",
       "   <g clip-path=\"url(#pa5955ba99e)\">\n",
       "    <image xlink:href=\"data:image/png;base64,\n",
       "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\" id=\"image54c04e5f07\" transform=\"scale(1 -1) translate(0 -79.2)\" x=\"7.2\" y=\"-19.27875\" width=\"79.2\" height=\"79.2\"/>\n",
       "   </g>\n",
       "   <g id=\"matplotlib.axis_1\"/>\n",
       "   <g id=\"matplotlib.axis_2\"/>\n",
       "   <g id=\"patch_3\">\n",
       "    <path d=\"M 7.2 98.47875 \n",
       "L 7.2 19.27875 \n",
       "\" style=\"fill: none; stroke: #000000; stroke-width: 0.8; stroke-linejoin: miter; stroke-linecap: square\"/>\n",
       "   </g>\n",
       "   <g id=\"patch_4\">\n",
       "    <path d=\"M 86.4 98.47875 \n",
       "L 86.4 19.27875 \n",
       "\" style=\"fill: none; stroke: #000000; stroke-width: 0.8; stroke-linejoin: miter; stroke-linecap: square\"/>\n",
       "   </g>\n",
       "   <g id=\"patch_5\">\n",
       "    <path d=\"M 7.2 98.47875 \n",
       "L 86.4 98.47875 \n",
       "\" style=\"fill: none; stroke: #000000; stroke-width: 0.8; stroke-linejoin: miter; stroke-linecap: square\"/>\n",
       "   </g>\n",
       "   <g id=\"patch_6\">\n",
       "    <path d=\"M 7.2 19.27875 \n",
       "L 86.4 19.27875 \n",
       "\" style=\"fill: none; stroke: #000000; stroke-width: 0.8; stroke-linejoin: miter; stroke-linecap: square\"/>\n",
       "   </g>\n",
       "   <g id=\"text_1\">\n",
       "    <!-- Original image -->\n",
       "    <g transform=\"translate(17.416875 13.27875) scale(0.08 -0.08)\">\n",
       "     <defs>\n",
       "      <path id=\"DejaVuSans-4f\" d=\"M 2522 4238 \n",
       "Q 1834 4238 1429 3725 \n",
       "Q 1025 3213 1025 2328 \n",
       "Q 1025 1447 1429 934 \n",
       "Q 1834 422 2522 422 \n",
       "Q 3209 422 3611 934 \n",
       "Q 4013 1447 4013 2328 \n",
       "Q 4013 3213 3611 3725 \n",
       "Q 3209 4238 2522 4238 \n",
       "z\n",
       "M 2522 4750 \n",
       "Q 3503 4750 4090 4092 \n",
       "Q 4678 3434 4678 2328 \n",
       "Q 4678 1225 4090 567 \n",
       "Q 3503 -91 2522 -91 \n",
       "Q 1538 -91 948 565 \n",
       "Q 359 1222 359 2328 \n",
       "Q 359 3434 948 4092 \n",
       "Q 1538 4750 2522 4750 \n",
       "z\n",
       "\" transform=\"scale(0.015625)\"/>\n",
       "      <path id=\"DejaVuSans-72\" d=\"M 2631 2963 \n",
       "Q 2534 3019 2420 3045 \n",
       "Q 2306 3072 2169 3072 \n",
       "Q 1681 3072 1420 2755 \n",
       "Q 1159 2438 1159 1844 \n",
       "L 1159 0 \n",
       "L 581 0 \n",
       "L 581 3500 \n",
       "L 1159 3500 \n",
       "L 1159 2956 \n",
       "Q 1341 3275 1631 3429 \n",
       "Q 1922 3584 2338 3584 \n",
       "Q 2397 3584 2469 3576 \n",
       "Q 2541 3569 2628 3553 \n",
       "L 2631 2963 \n",
       "z\n",
       "\" transform=\"scale(0.015625)\"/>\n",
       "      <path id=\"DejaVuSans-69\" d=\"M 603 3500 \n",
       "L 1178 3500 \n",
       "L 1178 0 \n",
       "L 603 0 \n",
       "L 603 3500 \n",
       "z\n",
       "M 603 4863 \n",
       "L 1178 4863 \n",
       "L 1178 4134 \n",
       "L 603 4134 \n",
       "L 603 4863 \n",
       "z\n",
       "\" transform=\"scale(0.015625)\"/>\n",
       "      <path id=\"DejaVuSans-67\" d=\"M 2906 1791 \n",
       "Q 2906 2416 2648 2759 \n",
       "Q 2391 3103 1925 3103 \n",
       "Q 1463 3103 1205 2759 \n",
       "Q 947 2416 947 1791 \n",
       "Q 947 1169 1205 825 \n",
       "Q 1463 481 1925 481 \n",
       "Q 2391 481 2648 825 \n",
       "Q 2906 1169 2906 1791 \n",
       "z\n",
       "M 3481 434 \n",
       "Q 3481 -459 3084 -895 \n",
       "Q 2688 -1331 1869 -1331 \n",
       "Q 1566 -1331 1297 -1286 \n",
       "Q 1028 -1241 775 -1147 \n",
       "L 775 -588 \n",
       "Q 1028 -725 1275 -790 \n",
       "Q 1522 -856 1778 -856 \n",
       "Q 2344 -856 2625 -561 \n",
       "Q 2906 -266 2906 331 \n",
       "L 2906 616 \n",
       "Q 2728 306 2450 153 \n",
       "Q 2172 0 1784 0 \n",
       "Q 1141 0 747 490 \n",
       "Q 353 981 353 1791 \n",
       "Q 353 2603 747 3093 \n",
       "Q 1141 3584 1784 3584 \n",
       "Q 2172 3584 2450 3431 \n",
       "Q 2728 3278 2906 2969 \n",
       "L 2906 3500 \n",
       "L 3481 3500 \n",
       "L 3481 434 \n",
       "z\n",
       "\" transform=\"scale(0.015625)\"/>\n",
       "      <path id=\"DejaVuSans-6e\" d=\"M 3513 2113 \n",
       "L 3513 0 \n",
       "L 2938 0 \n",
       "L 2938 2094 \n",
       "Q 2938 2591 2744 2837 \n",
       "Q 2550 3084 2163 3084 \n",
       "Q 1697 3084 1428 2787 \n",
       "Q 1159 2491 1159 1978 \n",
       "L 1159 0 \n",
       "L 581 0 \n",
       "L 581 3500 \n",
       "L 1159 3500 \n",
       "L 1159 2956 \n",
       "Q 1366 3272 1645 3428 \n",
       "Q 1925 3584 2291 3584 \n",
       "Q 2894 3584 3203 3211 \n",
       "Q 3513 2838 3513 2113 \n",
       "z\n",
       "\" transform=\"scale(0.015625)\"/>\n",
       "      <path id=\"DejaVuSans-61\" d=\"M 2194 1759 \n",
       "Q 1497 1759 1228 1600 \n",
       "Q 959 1441 959 1056 \n",
       "Q 959 750 1161 570 \n",
       "Q 1363 391 1709 391 \n",
       "Q 2188 391 2477 730 \n",
       "Q 2766 1069 2766 1631 \n",
       "L 2766 1759 \n",
       "L 2194 1759 \n",
       "z\n",
       "M 3341 1997 \n",
       "L 3341 0 \n",
       "L 2766 0 \n",
       "L 2766 531 \n",
       "Q 2569 213 2275 61 \n",
       "Q 1981 -91 1556 -91 \n",
       "Q 1019 -91 701 211 \n",
       "Q 384 513 384 1019 \n",
       "Q 384 1609 779 1909 \n",
       "Q 1175 2209 1959 2209 \n",
       "L 2766 2209 \n",
       "L 2766 2266 \n",
       "Q 2766 2663 2505 2880 \n",
       "Q 2244 3097 1772 3097 \n",
       "Q 1472 3097 1187 3025 \n",
       "Q 903 2953 641 2809 \n",
       "L 641 3341 \n",
       "Q 956 3463 1253 3523 \n",
       "Q 1550 3584 1831 3584 \n",
       "Q 2591 3584 2966 3190 \n",
       "Q 3341 2797 3341 1997 \n",
       "z\n",
       "\" transform=\"scale(0.015625)\"/>\n",
       "      <path id=\"DejaVuSans-6c\" d=\"M 603 4863 \n",
       "L 1178 4863 \n",
       "L 1178 0 \n",
       "L 603 0 \n",
       "L 603 4863 \n",
       "z\n",
       "\" transform=\"scale(0.015625)\"/>\n",
       "      <path id=\"DejaVuSans-20\" transform=\"scale(0.015625)\"/>\n",
       "      <path id=\"DejaVuSans-6d\" d=\"M 3328 2828 \n",
       "Q 3544 3216 3844 3400 \n",
       "Q 4144 3584 4550 3584 \n",
       "Q 5097 3584 5394 3201 \n",
       "Q 5691 2819 5691 2113 \n",
       "L 5691 0 \n",
       "L 5113 0 \n",
       "L 5113 2094 \n",
       "Q 5113 2597 4934 2840 \n",
       "Q 4756 3084 4391 3084 \n",
       "Q 3944 3084 3684 2787 \n",
       "Q 3425 2491 3425 1978 \n",
       "L 3425 0 \n",
       "L 2847 0 \n",
       "L 2847 2094 \n",
       "Q 2847 2600 2669 2842 \n",
       "Q 2491 3084 2119 3084 \n",
       "Q 1678 3084 1418 2786 \n",
       "Q 1159 2488 1159 1978 \n",
       "L 1159 0 \n",
       "L 581 0 \n",
       "L 581 3500 \n",
       "L 1159 3500 \n",
       "L 1159 2956 \n",
       "Q 1356 3278 1631 3431 \n",
       "Q 1906 3584 2284 3584 \n",
       "Q 2666 3584 2933 3390 \n",
       "Q 3200 3197 3328 2828 \n",
       "z\n",
       "\" transform=\"scale(0.015625)\"/>\n",
       "      <path id=\"DejaVuSans-65\" d=\"M 3597 1894 \n",
       "L 3597 1613 \n",
       "L 953 1613 \n",
       "Q 991 1019 1311 708 \n",
       "Q 1631 397 2203 397 \n",
       "Q 2534 397 2845 478 \n",
       "Q 3156 559 3463 722 \n",
       "L 3463 178 \n",
       "Q 3153 47 2828 -22 \n",
       "Q 2503 -91 2169 -91 \n",
       "Q 1331 -91 842 396 \n",
       "Q 353 884 353 1716 \n",
       "Q 353 2575 817 3079 \n",
       "Q 1281 3584 2069 3584 \n",
       "Q 2775 3584 3186 3129 \n",
       "Q 3597 2675 3597 1894 \n",
       "z\n",
       "M 3022 2063 \n",
       "Q 3016 2534 2758 2815 \n",
       "Q 2500 3097 2075 3097 \n",
       "Q 1594 3097 1305 2825 \n",
       "Q 1016 2553 972 2059 \n",
       "L 3022 2063 \n",
       "z\n",
       "\" transform=\"scale(0.015625)\"/>\n",
       "     </defs>\n",
       "     <use xlink:href=\"#DejaVuSans-4f\"/>\n",
       "     <use xlink:href=\"#DejaVuSans-72\" x=\"78.710938\"/>\n",
       "     <use xlink:href=\"#DejaVuSans-69\" x=\"119.824219\"/>\n",
       "     <use xlink:href=\"#DejaVuSans-67\" x=\"147.607422\"/>\n",
       "     <use xlink:href=\"#DejaVuSans-69\" x=\"211.083984\"/>\n",
       "     <use xlink:href=\"#DejaVuSans-6e\" x=\"238.867188\"/>\n",
       "     <use xlink:href=\"#DejaVuSans-61\" x=\"302.246094\"/>\n",
       "     <use xlink:href=\"#DejaVuSans-6c\" x=\"363.525391\"/>\n",
       "     <use xlink:href=\"#DejaVuSans-20\" x=\"391.308594\"/>\n",
       "     <use xlink:href=\"#DejaVuSans-69\" x=\"423.095703\"/>\n",
       "     <use xlink:href=\"#DejaVuSans-6d\" x=\"450.878906\"/>\n",
       "     <use xlink:href=\"#DejaVuSans-61\" x=\"548.291016\"/>\n",
       "     <use xlink:href=\"#DejaVuSans-67\" x=\"609.570312\"/>\n",
       "     <use xlink:href=\"#DejaVuSans-65\" x=\"673.046875\"/>\n",
       "    </g>\n",
       "   </g>\n",
       "  </g>\n",
       "  <g id=\"axes_2\">\n",
       "   <g id=\"patch_7\">\n",
       "    <path d=\"M 97.2 98.47875 \n",
       "L 176.4 98.47875 \n",
       "L 176.4 19.27875 \n",
       "L 97.2 19.27875 \n",
       "z\n",
       "\" style=\"fill: #ffffff\"/>\n",
       "   </g>\n",
       "   <g clip-path=\"url(#p55c550ea76)\">\n",
       "    <image xlink:href=\"data:image/png;base64,\n",
       "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\" id=\"imageb0b5c011c8\" transform=\"scale(1 -1) translate(0 -79.2)\" x=\"97.2\" y=\"-19.27875\" width=\"79.2\" height=\"79.2\"/>\n",
       "   </g>\n",
       "   <g id=\"matplotlib.axis_3\"/>\n",
       "   <g id=\"matplotlib.axis_4\"/>\n",
       "   <g id=\"patch_8\">\n",
       "    <path d=\"M 97.2 98.47875 \n",
       "L 97.2 19.27875 \n",
       "\" style=\"fill: none; stroke: #000000; stroke-width: 0.8; stroke-linejoin: miter; stroke-linecap: square\"/>\n",
       "   </g>\n",
       "   <g id=\"patch_9\">\n",
       "    <path d=\"M 176.4 98.47875 \n",
       "L 176.4 19.27875 \n",
       "\" style=\"fill: none; stroke: #000000; stroke-width: 0.8; stroke-linejoin: miter; stroke-linecap: square\"/>\n",
       "   </g>\n",
       "   <g id=\"patch_10\">\n",
       "    <path d=\"M 97.2 98.47875 \n",
       "L 176.4 98.47875 \n",
       "\" style=\"fill: none; stroke: #000000; stroke-width: 0.8; stroke-linejoin: miter; stroke-linecap: square\"/>\n",
       "   </g>\n",
       "   <g id=\"patch_11\">\n",
       "    <path d=\"M 97.2 19.27875 \n",
       "L 176.4 19.27875 \n",
       "\" style=\"fill: none; stroke: #000000; stroke-width: 0.8; stroke-linejoin: miter; stroke-linecap: square\"/>\n",
       "   </g>\n",
       "  </g>\n",
       "  <g id=\"axes_3\">\n",
       "   <g id=\"patch_12\">\n",
       "    <path d=\"M 187.2 98.47875 \n",
       "L 266.4 98.47875 \n",
       "L 266.4 19.27875 \n",
       "L 187.2 19.27875 \n",
       "z\n",
       "\" style=\"fill: #ffffff\"/>\n",
       "   </g>\n",
       "   <g clip-path=\"url(#p7988afe3ad)\">\n",
       "    <image xlink:href=\"data:image/png;base64,\n",
       "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\" id=\"image6ce3d32f80\" transform=\"scale(1 -1) translate(0 -79.2)\" x=\"187.2\" y=\"-19.27875\" width=\"79.2\" height=\"79.2\"/>\n",
       "   </g>\n",
       "   <g id=\"matplotlib.axis_5\"/>\n",
       "   <g id=\"matplotlib.axis_6\"/>\n",
       "   <g id=\"patch_13\">\n",
       "    <path d=\"M 187.2 98.47875 \n",
       "L 187.2 19.27875 \n",
       "\" style=\"fill: none; stroke: #000000; stroke-width: 0.8; stroke-linejoin: miter; stroke-linecap: square\"/>\n",
       "   </g>\n",
       "   <g id=\"patch_14\">\n",
       "    <path d=\"M 266.4 98.47875 \n",
       "L 266.4 19.27875 \n",
       "\" style=\"fill: none; stroke: #000000; stroke-width: 0.8; stroke-linejoin: miter; stroke-linecap: square\"/>\n",
       "   </g>\n",
       "   <g id=\"patch_15\">\n",
       "    <path d=\"M 187.2 98.47875 \n",
       "L 266.4 98.47875 \n",
       "\" style=\"fill: none; stroke: #000000; stroke-width: 0.8; stroke-linejoin: miter; stroke-linecap: square\"/>\n",
       "   </g>\n",
       "   <g id=\"patch_16\">\n",
       "    <path d=\"M 187.2 19.27875 \n",
       "L 266.4 19.27875 \n",
       "\" style=\"fill: none; stroke: #000000; stroke-width: 0.8; stroke-linejoin: miter; stroke-linecap: square\"/>\n",
       "   </g>\n",
       "  </g>\n",
       "  <g id=\"axes_4\">\n",
       "   <g id=\"patch_17\">\n",
       "    <path d=\"M 277.2 98.47875 \n",
       "L 356.4 98.47875 \n",
       "L 356.4 19.27875 \n",
       "L 277.2 19.27875 \n",
       "z\n",
       "\" style=\"fill: #ffffff\"/>\n",
       "   </g>\n",
       "   <g clip-path=\"url(#paaccaca6ee)\">\n",
       "    <image xlink:href=\"data:image/png;base64,\n",
       "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\" id=\"image80d62d1d04\" transform=\"scale(1 -1) translate(0 -79.2)\" x=\"277.2\" y=\"-19.27875\" width=\"79.2\" height=\"79.2\"/>\n",
       "   </g>\n",
       "   <g id=\"matplotlib.axis_7\"/>\n",
       "   <g id=\"matplotlib.axis_8\"/>\n",
       "   <g id=\"patch_18\">\n",
       "    <path d=\"M 277.2 98.47875 \n",
       "L 277.2 19.27875 \n",
       "\" style=\"fill: none; stroke: #000000; stroke-width: 0.8; stroke-linejoin: miter; stroke-linecap: square\"/>\n",
       "   </g>\n",
       "   <g id=\"patch_19\">\n",
       "    <path d=\"M 356.4 98.47875 \n",
       "L 356.4 19.27875 \n",
       "\" style=\"fill: none; stroke: #000000; stroke-width: 0.8; stroke-linejoin: miter; stroke-linecap: square\"/>\n",
       "   </g>\n",
       "   <g id=\"patch_20\">\n",
       "    <path d=\"M 277.2 98.47875 \n",
       "L 356.4 98.47875 \n",
       "\" style=\"fill: none; stroke: #000000; stroke-width: 0.8; stroke-linejoin: miter; stroke-linecap: square\"/>\n",
       "   </g>\n",
       "   <g id=\"patch_21\">\n",
       "    <path d=\"M 277.2 19.27875 \n",
       "L 356.4 19.27875 \n",
       "\" style=\"fill: none; stroke: #000000; stroke-width: 0.8; stroke-linejoin: miter; stroke-linecap: square\"/>\n",
       "   </g>\n",
       "  </g>\n",
       "  <g id=\"axes_5\">\n",
       "   <g id=\"patch_22\">\n",
       "    <path d=\"M 367.2 98.47875 \n",
       "L 446.4 98.47875 \n",
       "L 446.4 19.27875 \n",
       "L 367.2 19.27875 \n",
       "z\n",
       "\" style=\"fill: #ffffff\"/>\n",
       "   </g>\n",
       "   <g clip-path=\"url(#p4b09d2caa0)\">\n",
       "    <image xlink:href=\"data:image/png;base64,\n",
       "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\" id=\"image97b0a7bcf1\" transform=\"scale(1 -1) translate(0 -79.2)\" x=\"367.2\" y=\"-19.27875\" width=\"79.2\" height=\"79.2\"/>\n",
       "   </g>\n",
       "   <g id=\"matplotlib.axis_9\"/>\n",
       "   <g id=\"matplotlib.axis_10\"/>\n",
       "   <g id=\"patch_23\">\n",
       "    <path d=\"M 367.2 98.47875 \n",
       "L 367.2 19.27875 \n",
       "\" style=\"fill: none; stroke: #000000; stroke-width: 0.8; stroke-linejoin: miter; stroke-linecap: square\"/>\n",
       "   </g>\n",
       "   <g id=\"patch_24\">\n",
       "    <path d=\"M 446.4 98.47875 \n",
       "L 446.4 19.27875 \n",
       "\" style=\"fill: none; stroke: #000000; stroke-width: 0.8; stroke-linejoin: miter; stroke-linecap: square\"/>\n",
       "   </g>\n",
       "   <g id=\"patch_25\">\n",
       "    <path d=\"M 367.2 98.47875 \n",
       "L 446.4 98.47875 \n",
       "\" style=\"fill: none; stroke: #000000; stroke-width: 0.8; stroke-linejoin: miter; stroke-linecap: square\"/>\n",
       "   </g>\n",
       "   <g id=\"patch_26\">\n",
       "    <path d=\"M 367.2 19.27875 \n",
       "L 446.4 19.27875 \n",
       "\" style=\"fill: none; stroke: #000000; stroke-width: 0.8; stroke-linejoin: miter; stroke-linecap: square\"/>\n",
       "   </g>\n",
       "  </g>\n",
       " </g>\n",
       " <defs>\n",
       "  <clipPath id=\"pa5955ba99e\">\n",
       "   <rect x=\"7.2\" y=\"19.27875\" width=\"79.2\" height=\"79.2\"/>\n",
       "  </clipPath>\n",
       "  <clipPath id=\"p55c550ea76\">\n",
       "   <rect x=\"97.2\" y=\"19.27875\" width=\"79.2\" height=\"79.2\"/>\n",
       "  </clipPath>\n",
       "  <clipPath id=\"p7988afe3ad\">\n",
       "   <rect x=\"187.2\" y=\"19.27875\" width=\"79.2\" height=\"79.2\"/>\n",
       "  </clipPath>\n",
       "  <clipPath id=\"paaccaca6ee\">\n",
       "   <rect x=\"277.2\" y=\"19.27875\" width=\"79.2\" height=\"79.2\"/>\n",
       "  </clipPath>\n",
       "  <clipPath id=\"p4b09d2caa0\">\n",
       "   <rect x=\"367.2\" y=\"19.27875\" width=\"79.2\" height=\"79.2\"/>\n",
       "  </clipPath>\n",
       " </defs>\n",
       "</svg>\n"
      ],
      "text/plain": [
       "<Figure size 640x480 with 5 Axes>"
      ]
     },
     "metadata": {},
     "output_type": "display_data"
    }
   ],
   "source": [
    "transformed_train = [transforms_1(orig_img) for _ in range(4)]\n",
    "plot(transformed_train)"
   ]
  },
  {
   "cell_type": "code",
   "execution_count": 10,
   "metadata": {},
   "outputs": [
    {
     "data": {
      "application/pdf": "[encoded data removed]",
      "image/svg+xml": [
       "<?xml version=\"1.0\" encoding=\"utf-8\" standalone=\"no\"?>\n",
       "<!DOCTYPE svg PUBLIC \"-//W3C//DTD SVG 1.1//EN\"\n",
       "  \"http://www.w3.org/Graphics/SVG/1.1/DTD/svg11.dtd\">\n",
       "<svg xmlns:xlink=\"http://www.w3.org/1999/xlink\" width=\"453.6pt\" height=\"105.67875pt\" viewBox=\"0 0 453.6 105.67875\" xmlns=\"http://www.w3.org/2000/svg\" version=\"1.1\">\n",
       " <metadata>\n",
       "  <rdf:RDF xmlns:dc=\"http://purl.org/dc/elements/1.1/\" xmlns:cc=\"http://creativecommons.org/ns#\" xmlns:rdf=\"http://www.w3.org/1999/02/22-rdf-syntax-ns#\">\n",
       "   <cc:Work>\n",
       "    <dc:type rdf:resource=\"http://purl.org/dc/dcmitype/StillImage\"/>\n",
       "    <dc:date>2024-12-21T16:57:21.588250</dc:date>\n",
       "    <dc:format>image/svg+xml</dc:format>\n",
       "    <dc:creator>\n",
       "     <cc:Agent>\n",
       "      <dc:title>Matplotlib v3.9.3, https://matplotlib.org/</dc:title>\n",
       "     </cc:Agent>\n",
       "    </dc:creator>\n",
       "   </cc:Work>\n",
       "  </rdf:RDF>\n",
       " </metadata>\n",
       " <defs>\n",
       "  <style type=\"text/css\">*{stroke-linejoin: round; stroke-linecap: butt}</style>\n",
       " </defs>\n",
       " <g id=\"figure_1\">\n",
       "  <g id=\"patch_1\">\n",
       "   <path d=\"M 0 105.67875 \n",
       "L 453.6 105.67875 \n",
       "L 453.6 0 \n",
       "L 0 0 \n",
       "z\n",
       "\" style=\"fill: #ffffff\"/>\n",
       "  </g>\n",
       "  <g id=\"axes_1\">\n",
       "   <g id=\"patch_2\">\n",
       "    <path d=\"M 7.2 98.47875 \n",
       "L 86.4 98.47875 \n",
       "L 86.4 19.27875 \n",
       "L 7.2 19.27875 \n",
       "z\n",
       "\" style=\"fill: #ffffff\"/>\n",
       "   </g>\n",
       "   <g clip-path=\"url(#pfbae63b456)\">\n",
       "    <image xlink:href=\"data:image/png;base64,\n",
       "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\" id=\"imageb7d8fa2679\" transform=\"scale(1 -1) translate(0 -79.2)\" x=\"7.2\" y=\"-19.27875\" width=\"79.2\" height=\"79.2\"/>\n",
       "   </g>\n",
       "   <g id=\"matplotlib.axis_1\"/>\n",
       "   <g id=\"matplotlib.axis_2\"/>\n",
       "   <g id=\"patch_3\">\n",
       "    <path d=\"M 7.2 98.47875 \n",
       "L 7.2 19.27875 \n",
       "\" style=\"fill: none; stroke: #000000; stroke-width: 0.8; stroke-linejoin: miter; stroke-linecap: square\"/>\n",
       "   </g>\n",
       "   <g id=\"patch_4\">\n",
       "    <path d=\"M 86.4 98.47875 \n",
       "L 86.4 19.27875 \n",
       "\" style=\"fill: none; stroke: #000000; stroke-width: 0.8; stroke-linejoin: miter; stroke-linecap: square\"/>\n",
       "   </g>\n",
       "   <g id=\"patch_5\">\n",
       "    <path d=\"M 7.2 98.47875 \n",
       "L 86.4 98.47875 \n",
       "\" style=\"fill: none; stroke: #000000; stroke-width: 0.8; stroke-linejoin: miter; stroke-linecap: square\"/>\n",
       "   </g>\n",
       "   <g id=\"patch_6\">\n",
       "    <path d=\"M 7.2 19.27875 \n",
       "L 86.4 19.27875 \n",
       "\" style=\"fill: none; stroke: #000000; stroke-width: 0.8; stroke-linejoin: miter; stroke-linecap: square\"/>\n",
       "   </g>\n",
       "   <g id=\"text_1\">\n",
       "    <!-- Original image -->\n",
       "    <g transform=\"translate(17.416875 13.27875) scale(0.08 -0.08)\">\n",
       "     <defs>\n",
       "      <path id=\"DejaVuSans-4f\" d=\"M 2522 4238 \n",
       "Q 1834 4238 1429 3725 \n",
       "Q 1025 3213 1025 2328 \n",
       "Q 1025 1447 1429 934 \n",
       "Q 1834 422 2522 422 \n",
       "Q 3209 422 3611 934 \n",
       "Q 4013 1447 4013 2328 \n",
       "Q 4013 3213 3611 3725 \n",
       "Q 3209 4238 2522 4238 \n",
       "z\n",
       "M 2522 4750 \n",
       "Q 3503 4750 4090 4092 \n",
       "Q 4678 3434 4678 2328 \n",
       "Q 4678 1225 4090 567 \n",
       "Q 3503 -91 2522 -91 \n",
       "Q 1538 -91 948 565 \n",
       "Q 359 1222 359 2328 \n",
       "Q 359 3434 948 4092 \n",
       "Q 1538 4750 2522 4750 \n",
       "z\n",
       "\" transform=\"scale(0.015625)\"/>\n",
       "      <path id=\"DejaVuSans-72\" d=\"M 2631 2963 \n",
       "Q 2534 3019 2420 3045 \n",
       "Q 2306 3072 2169 3072 \n",
       "Q 1681 3072 1420 2755 \n",
       "Q 1159 2438 1159 1844 \n",
       "L 1159 0 \n",
       "L 581 0 \n",
       "L 581 3500 \n",
       "L 1159 3500 \n",
       "L 1159 2956 \n",
       "Q 1341 3275 1631 3429 \n",
       "Q 1922 3584 2338 3584 \n",
       "Q 2397 3584 2469 3576 \n",
       "Q 2541 3569 2628 3553 \n",
       "L 2631 2963 \n",
       "z\n",
       "\" transform=\"scale(0.015625)\"/>\n",
       "      <path id=\"DejaVuSans-69\" d=\"M 603 3500 \n",
       "L 1178 3500 \n",
       "L 1178 0 \n",
       "L 603 0 \n",
       "L 603 3500 \n",
       "z\n",
       "M 603 4863 \n",
       "L 1178 4863 \n",
       "L 1178 4134 \n",
       "L 603 4134 \n",
       "L 603 4863 \n",
       "z\n",
       "\" transform=\"scale(0.015625)\"/>\n",
       "      <path id=\"DejaVuSans-67\" d=\"M 2906 1791 \n",
       "Q 2906 2416 2648 2759 \n",
       "Q 2391 3103 1925 3103 \n",
       "Q 1463 3103 1205 2759 \n",
       "Q 947 2416 947 1791 \n",
       "Q 947 1169 1205 825 \n",
       "Q 1463 481 1925 481 \n",
       "Q 2391 481 2648 825 \n",
       "Q 2906 1169 2906 1791 \n",
       "z\n",
       "M 3481 434 \n",
       "Q 3481 -459 3084 -895 \n",
       "Q 2688 -1331 1869 -1331 \n",
       "Q 1566 -1331 1297 -1286 \n",
       "Q 1028 -1241 775 -1147 \n",
       "L 775 -588 \n",
       "Q 1028 -725 1275 -790 \n",
       "Q 1522 -856 1778 -856 \n",
       "Q 2344 -856 2625 -561 \n",
       "Q 2906 -266 2906 331 \n",
       "L 2906 616 \n",
       "Q 2728 306 2450 153 \n",
       "Q 2172 0 1784 0 \n",
       "Q 1141 0 747 490 \n",
       "Q 353 981 353 1791 \n",
       "Q 353 2603 747 3093 \n",
       "Q 1141 3584 1784 3584 \n",
       "Q 2172 3584 2450 3431 \n",
       "Q 2728 3278 2906 2969 \n",
       "L 2906 3500 \n",
       "L 3481 3500 \n",
       "L 3481 434 \n",
       "z\n",
       "\" transform=\"scale(0.015625)\"/>\n",
       "      <path id=\"DejaVuSans-6e\" d=\"M 3513 2113 \n",
       "L 3513 0 \n",
       "L 2938 0 \n",
       "L 2938 2094 \n",
       "Q 2938 2591 2744 2837 \n",
       "Q 2550 3084 2163 3084 \n",
       "Q 1697 3084 1428 2787 \n",
       "Q 1159 2491 1159 1978 \n",
       "L 1159 0 \n",
       "L 581 0 \n",
       "L 581 3500 \n",
       "L 1159 3500 \n",
       "L 1159 2956 \n",
       "Q 1366 3272 1645 3428 \n",
       "Q 1925 3584 2291 3584 \n",
       "Q 2894 3584 3203 3211 \n",
       "Q 3513 2838 3513 2113 \n",
       "z\n",
       "\" transform=\"scale(0.015625)\"/>\n",
       "      <path id=\"DejaVuSans-61\" d=\"M 2194 1759 \n",
       "Q 1497 1759 1228 1600 \n",
       "Q 959 1441 959 1056 \n",
       "Q 959 750 1161 570 \n",
       "Q 1363 391 1709 391 \n",
       "Q 2188 391 2477 730 \n",
       "Q 2766 1069 2766 1631 \n",
       "L 2766 1759 \n",
       "L 2194 1759 \n",
       "z\n",
       "M 3341 1997 \n",
       "L 3341 0 \n",
       "L 2766 0 \n",
       "L 2766 531 \n",
       "Q 2569 213 2275 61 \n",
       "Q 1981 -91 1556 -91 \n",
       "Q 1019 -91 701 211 \n",
       "Q 384 513 384 1019 \n",
       "Q 384 1609 779 1909 \n",
       "Q 1175 2209 1959 2209 \n",
       "L 2766 2209 \n",
       "L 2766 2266 \n",
       "Q 2766 2663 2505 2880 \n",
       "Q 2244 3097 1772 3097 \n",
       "Q 1472 3097 1187 3025 \n",
       "Q 903 2953 641 2809 \n",
       "L 641 3341 \n",
       "Q 956 3463 1253 3523 \n",
       "Q 1550 3584 1831 3584 \n",
       "Q 2591 3584 2966 3190 \n",
       "Q 3341 2797 3341 1997 \n",
       "z\n",
       "\" transform=\"scale(0.015625)\"/>\n",
       "      <path id=\"DejaVuSans-6c\" d=\"M 603 4863 \n",
       "L 1178 4863 \n",
       "L 1178 0 \n",
       "L 603 0 \n",
       "L 603 4863 \n",
       "z\n",
       "\" transform=\"scale(0.015625)\"/>\n",
       "      <path id=\"DejaVuSans-20\" transform=\"scale(0.015625)\"/>\n",
       "      <path id=\"DejaVuSans-6d\" d=\"M 3328 2828 \n",
       "Q 3544 3216 3844 3400 \n",
       "Q 4144 3584 4550 3584 \n",
       "Q 5097 3584 5394 3201 \n",
       "Q 5691 2819 5691 2113 \n",
       "L 5691 0 \n",
       "L 5113 0 \n",
       "L 5113 2094 \n",
       "Q 5113 2597 4934 2840 \n",
       "Q 4756 3084 4391 3084 \n",
       "Q 3944 3084 3684 2787 \n",
       "Q 3425 2491 3425 1978 \n",
       "L 3425 0 \n",
       "L 2847 0 \n",
       "L 2847 2094 \n",
       "Q 2847 2600 2669 2842 \n",
       "Q 2491 3084 2119 3084 \n",
       "Q 1678 3084 1418 2786 \n",
       "Q 1159 2488 1159 1978 \n",
       "L 1159 0 \n",
       "L 581 0 \n",
       "L 581 3500 \n",
       "L 1159 3500 \n",
       "L 1159 2956 \n",
       "Q 1356 3278 1631 3431 \n",
       "Q 1906 3584 2284 3584 \n",
       "Q 2666 3584 2933 3390 \n",
       "Q 3200 3197 3328 2828 \n",
       "z\n",
       "\" transform=\"scale(0.015625)\"/>\n",
       "      <path id=\"DejaVuSans-65\" d=\"M 3597 1894 \n",
       "L 3597 1613 \n",
       "L 953 1613 \n",
       "Q 991 1019 1311 708 \n",
       "Q 1631 397 2203 397 \n",
       "Q 2534 397 2845 478 \n",
       "Q 3156 559 3463 722 \n",
       "L 3463 178 \n",
       "Q 3153 47 2828 -22 \n",
       "Q 2503 -91 2169 -91 \n",
       "Q 1331 -91 842 396 \n",
       "Q 353 884 353 1716 \n",
       "Q 353 2575 817 3079 \n",
       "Q 1281 3584 2069 3584 \n",
       "Q 2775 3584 3186 3129 \n",
       "Q 3597 2675 3597 1894 \n",
       "z\n",
       "M 3022 2063 \n",
       "Q 3016 2534 2758 2815 \n",
       "Q 2500 3097 2075 3097 \n",
       "Q 1594 3097 1305 2825 \n",
       "Q 1016 2553 972 2059 \n",
       "L 3022 2063 \n",
       "z\n",
       "\" transform=\"scale(0.015625)\"/>\n",
       "     </defs>\n",
       "     <use xlink:href=\"#DejaVuSans-4f\"/>\n",
       "     <use xlink:href=\"#DejaVuSans-72\" x=\"78.710938\"/>\n",
       "     <use xlink:href=\"#DejaVuSans-69\" x=\"119.824219\"/>\n",
       "     <use xlink:href=\"#DejaVuSans-67\" x=\"147.607422\"/>\n",
       "     <use xlink:href=\"#DejaVuSans-69\" x=\"211.083984\"/>\n",
       "     <use xlink:href=\"#DejaVuSans-6e\" x=\"238.867188\"/>\n",
       "     <use xlink:href=\"#DejaVuSans-61\" x=\"302.246094\"/>\n",
       "     <use xlink:href=\"#DejaVuSans-6c\" x=\"363.525391\"/>\n",
       "     <use xlink:href=\"#DejaVuSans-20\" x=\"391.308594\"/>\n",
       "     <use xlink:href=\"#DejaVuSans-69\" x=\"423.095703\"/>\n",
       "     <use xlink:href=\"#DejaVuSans-6d\" x=\"450.878906\"/>\n",
       "     <use xlink:href=\"#DejaVuSans-61\" x=\"548.291016\"/>\n",
       "     <use xlink:href=\"#DejaVuSans-67\" x=\"609.570312\"/>\n",
       "     <use xlink:href=\"#DejaVuSans-65\" x=\"673.046875\"/>\n",
       "    </g>\n",
       "   </g>\n",
       "  </g>\n",
       "  <g id=\"axes_2\">\n",
       "   <g id=\"patch_7\">\n",
       "    <path d=\"M 97.2 98.47875 \n",
       "L 176.4 98.47875 \n",
       "L 176.4 19.27875 \n",
       "L 97.2 19.27875 \n",
       "z\n",
       "\" style=\"fill: #ffffff\"/>\n",
       "   </g>\n",
       "   <g clip-path=\"url(#pefce2b8028)\">\n",
       "    <image xlink:href=\"data:image/png;base64,\n",
       "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\" id=\"image054cac1686\" transform=\"scale(1 -1) translate(0 -79.2)\" x=\"97.2\" y=\"-19.27875\" width=\"79.2\" height=\"79.2\"/>\n",
       "   </g>\n",
       "   <g id=\"matplotlib.axis_3\"/>\n",
       "   <g id=\"matplotlib.axis_4\"/>\n",
       "   <g id=\"patch_8\">\n",
       "    <path d=\"M 97.2 98.47875 \n",
       "L 97.2 19.27875 \n",
       "\" style=\"fill: none; stroke: #000000; stroke-width: 0.8; stroke-linejoin: miter; stroke-linecap: square\"/>\n",
       "   </g>\n",
       "   <g id=\"patch_9\">\n",
       "    <path d=\"M 176.4 98.47875 \n",
       "L 176.4 19.27875 \n",
       "\" style=\"fill: none; stroke: #000000; stroke-width: 0.8; stroke-linejoin: miter; stroke-linecap: square\"/>\n",
       "   </g>\n",
       "   <g id=\"patch_10\">\n",
       "    <path d=\"M 97.2 98.47875 \n",
       "L 176.4 98.47875 \n",
       "\" style=\"fill: none; stroke: #000000; stroke-width: 0.8; stroke-linejoin: miter; stroke-linecap: square\"/>\n",
       "   </g>\n",
       "   <g id=\"patch_11\">\n",
       "    <path d=\"M 97.2 19.27875 \n",
       "L 176.4 19.27875 \n",
       "\" style=\"fill: none; stroke: #000000; stroke-width: 0.8; stroke-linejoin: miter; stroke-linecap: square\"/>\n",
       "   </g>\n",
       "  </g>\n",
       "  <g id=\"axes_3\">\n",
       "   <g id=\"patch_12\">\n",
       "    <path d=\"M 187.2 98.47875 \n",
       "L 266.4 98.47875 \n",
       "L 266.4 19.27875 \n",
       "L 187.2 19.27875 \n",
       "z\n",
       "\" style=\"fill: #ffffff\"/>\n",
       "   </g>\n",
       "   <g clip-path=\"url(#p81a47be60d)\">\n",
       "    <image xlink:href=\"data:image/png;base64,\n",
       "iVBORw0KGgoAAAANSUhEUgAAAG4AAABuCAYAAADGWyb7AABE0ElEQVR4nO3917Ol2ZneB/6W+cz2++zjXfqsrCxfAKoAFFzDdDe7m1CLINmS6DnDiSE5MqGYudOd/gFF6FKKmSAjKI4mJFLqboltSMIVUEChqlA2vT/ebb+//bll5mIn0M3uhpMUOqiIeiLSREaejNzrOWu9/nkF4Pk/Gf/wP/ttVpfnubz4POtzZyAquLd7ne++fp333xswSvtk5pisGOK8xfsQGWnmlmDpgmPtcoWzFzfwXnH7xhbvfHuP3n6JLcGXAikgiMBJj0kFpvTgBd6CKTzKxtT1Jo1okbA5xsfHlCVk2RSrEnRFYI0nSx1K1Km4y6hyDazG+QKBJqoZaktHRO0BCIv3nmQwZXCY4I1DK0hzg4okjbZEhwoVSSrtkPm1JlE9IB8bdj4Ysnd3iC0c3lkAKkpSDxTNKKJaCYmiCKkD3n90THecAqD/zyYNIM884/GUcWWC6ViqVcvqaoWnrrY5OBwyeJiS2wRjHUIolIqoVBXtjiaSntFRyY46RmpN9zghHVtMBs4KpAtQOkAKCyIHAVJIBALvwXkPGCwZpUvR1iO8RygQSuFQeGvAgZCKkCqRr4Hw+HCCpEDYCpgQV2gkCqnA4lGRQimJF4o4EGRFgfPgvALhCQKIlMRbi8kCfB4hbUwgMhzZj2+Qcx6PwPP4/yYEIEjy8sdneCrEjUcFwsG+6NNuHbBcE8ggo9kSLCwL7m3nuFLhTYBQIENHtS1Y2awRVQSHRwP6gyFKw/72mOnAYQsQhGjRIBQRggxvLcIZlAAQeBmgpMB5i3UZxqYY41Deg7RIGSDLCG8dzlkkioAGSgR4PYVojFQWl3tM4SisoeJBShAOdKAJayE2N0TVCJ2mlNbPXoFIEmlFqADrcLnEZRHKV1FyCj6dEefBAd4LfvQHs287gbXux2d4KsRlU0+jEjOY5NzbvgVBDR1llGVBGAkCrREmxBvwKgNliBsh82shlSiidzTiwc0hxjiSicFMASNRMiZQLQJRAT/GuRzpBCCZERcRqBjnHWCxNqUsBRgDYYGUFbSXGCvw3qN8gHJ1hJeIcIyqjYiqEpdJknGOquSo2OHxOO8RShDVAoxw6IomDENMUmBzj6hJAiXQeGxq8VrjiwjpLUoFIAA/48oh8IAQs/OSHkpj8X/KqJ0Kccm04PK5JaqVOR7uvs/UlKwst5hMC6x3hEGIIkNiQWZ4CSIQyNigowAVSWwG46EFJ8ALnBcIX0H7JoGIsL5E+ghFAEi89CAihG/ODscmOO+wTiKsAGEQ0oAEbwQegSREOg1Bga5mRA1Ppa7xVaBaEDUN1ZYmTUpc6RACgjgAPCoMiOKQbFpQ5BabK/ASvCCgBfkcFB4tQSmFEBLhPd7PSPMAArwD4xyDtMC6U75xpixZWVqjUllk//Aub7x5nYuXl4kqEVlhiCqaqCJwCnwAUjpMWTIa9ZDNNqXL8UogUPBjayABiRQKSQDEBDRR0mG8wQmPEDFCNpA6wsoY4acIabFG4wuJ9AaHw7vZAQqpcLLEh2NkJUdFAh0qZOzRDU9QF+jIInKL8xaJQAcSIQKUlASVkCCQ4CQShbMSfI16cBmPZCIeEISgA//4ds2+Cb2Y3WBjPVbPfl+U5t/xIk+FOISl2WwThnXqtSW2t3OmxQnrGwuURhNUAqqtGJEajMjRlRKTW472RpSpZzIZ4zBoqcHPbpMRYvbACIuUmkDUCITGKU/hCqzIgRCl6wjfwLsYKQcYOaD04HKNEx7vHM47vPd4UWDUAK88iALhQpSVVIOQKBSENYXxOcblGOOJdIBUkkDNbrmuaKI4hAICqXGlQto56mqNbvI+mR3gfIyQBULOHJAZgR7nPNaDdeC9p/xT9g1OiThnS6SSWGfROgBfIc8aZHkNGYAOSqq1KkJ5rCiJ6gXOG453S4a9LpNRiXOeIJBIGSA8lI7Zd6u3KKmJVIgTVRwCJUuMH+EARIj0EToIUIHDqoTECspCYa0Hb/DeI6RHBDlW9bHCY0uHS0MQHiUUsdLgFc4K0jQlzzxBVRFoTaAVZekQWhJWQgSOSIYorwh0mzIfMR4/YpJMyadjhCqJIokpHVjQUuK8xzqPczNHaZhmp09cVkyZZCOEkyTThDiuUqu10FENhEOqlDCUoGt46QkrOdM0ZXBSYGWJNQ5vBUHgkUJivESUFuE9Ugo0IVrU8cJjRInwZvbceov1GukDAqWp1XLmF+e4c9RHCIkxHusl2gu8AKHBC4P3JZSejBIhQAuBlDXkKMJLTZka0sQQ6pgwCpFKgrF4HDLUaO+JVIDWCk/JyegGtpwibI5xJVJL6i2QSpJMDBKJtR7jLF4ovLekhTl94pJiQHeyhTIZ/X6Xeq1Ju90mjgOMy0E4vAQlI4SUSHK8cUzHkJceEIQaZDCzb670eP/YzniN8lWkb+C8R/qCmXvq8N7hbQWspjEv+PwXLiPlDjuv38dJjyg80iqsEzg/s1WCAOEV+Bysx+QlmUhRVIllwNNX12mqkO8f3iRNcyrVCAjwHjwOoUCHCq01sdZMp3sgpkTVCJQkKQxlXoLwVFsS46GYOISXWD97Jr13j+PPUyaucAMOx+8hk3Um6QnVWkyj2USFBWkyIS/H5MahdYTwEd5KyiIhTwVZ5pESVE1A6PHSPo50AoQL8UaBCfFC4ZzF2Qjv9Iw858EFhIHn+ecDPvtr5+h1G7z16DZ3Hz3CKzuzMRaEB1DgYpSIkITgNcJoTFbB6xq/+oVX+Lt/8yvcvX2P/+L4v+be9j5ls0IcR4DHeocXFqEUQRigpUWrKc25BrZ0TI8GOB9inMS6gkpNIAOP9QLpxcxBAvLSYewvAXFKF0zdA9LBFOdCgqgGWpCWUwbjIybZAGNDdFBHqjplmZPmCltKfCGw0uMrM5ddIAgJgQqKOtJVMVYiBHivsMZgrUf4GC9KkAVnz9a58kwDFcQ89+zL7B/D/v4/Z1CczCJp72e/KIP0FlxA4DtIVcHJgGpQ5Wt/6VP8w//rf0Cr0STPDC89/yS37+xQ5iW+PnsV8OCcA+kRgcVFCRtrS1RrLR4+2CFLPTaX2Hxmz3wkUUKh5CwMkEKgpaYwFuN+CYiTUiB0Qm4O8SwipCNNx4yLYwbDY9IsA1/B4wl0hbIEZyTeO6xzCD+LtYQLkb5KrDoEuoXwVRq1KoGylIUF1Cw4dm4W3AYGGQ958oUFVOBYan+cenPChTMvEao/Zn1hk1Gyz0l+B+kFkZIYl2GMJXRzBHKVWNf57a8+xz/+h3+VVmMVRIZUMZtnFhEC8mLm3OB5/Fx6UA7iIZV2QKtTpcgtWerpdwvGwwylQUjI0gIpJUHssVONkHLmbf4oifKnz/A0iHNWorUmqniC2KKUYzzpc9LdZzg6oSgTnM8Bh5Szp1FIhSDgR9GpcALKAO1rRLJDPVzm/LlF/pP/12f4m/+XZ2jP21mG5PEn9tIiwoTGvGH9XA2l2tTrHdJyRKe1QrPe4vzGswRK4awnDBr8yst/j1ZzGeNyrBfEQYtf/cpz/KN//DfozF1CiBaeAGMsUSwJQk2Rlzg3y6bALPsRVA1hq6Da0hRuyjjpMU1SusdT0qkjiioEQYg1M7KlnOUnBTPSMuP+3Bmezo0jYLm1yFpUZzKo0j9RJMOELB8hdEFcD9AIAqlwlDifolEEskoupjhvcFZiSohETCjqnL+0wt/9v1/lC195iXRaUFrBv/jn20zGDh1GBFGAjY759CdeoVkTxNEF4rBGHC1QNlZYXZ6nHs8znBxjnObJc1/huSf+Et9981/gvUFIx3PPL/OP/h9fY2FxY+Zy4vAuZTg6Js9Bq4hpnlEUlsdRGXGk6SxKmp0YISQngy6944QkcTOvUyl0oDBm9hUzZ0TOUmBidnOHqflzZ3gqxFVllcuLZ2jWWhz3JDdcxthaKs4QaE+l6VCFhpGlKKaUuUHamFC0CJXBuBE4jbcKbxRhXfD3//En+fKvP4OQFYzv8pt/5Rl6J3W++a/vs7a2wdr6Jt97779jfWkDax8QhXNYY6nU62TTgqX5RcYjQ5alRKrJk2d+nWHfUY0aFLrkiQtL/Mf/+VfZOHuW2QOYAIIsH3F4vEMj3KBTP8fo6AZlXhBqSag9c3OaektinKd7MiDJU7JMYnxEGMxiR+9mTpGWs8yJLQHEzJdyntL92YfytIgLq1xaO0dnoUWtPuFkdEDfTYhFTuo9MlBIq8jNlDL12LSKcm0qqorTEaWLCQVoH4FViCDniafWkHqO4949sixhbWOF5z4+4sZ7I+IoZn31STpbm1TjiKzIwLfp9QbMh57xJGFtcZMf7j+kzB1nl66i3RxejFAi5NzKOf7z//Tv8/zzz4HM8QyYpYsVh90tJsmE1eanWV+4zaP9G1AmKCWp1gNa8wJDzqA3ZdTPUVGILQXOQKMRUuQFRZGDdGihsEbijEd6iROCwvPnHBM4LeKimI2VNeqdCqPCUJtPiacjgtIzGShMFmOmjiQZ46YB0tSIRAcflAhbITdVlLIEQmCdJ0kTRpNDynKBh1s3kaKCsmvElZLFhTbH3cnjcCFGCk1WCmwuOT45RoYhvW5BrdKm1+shXcyVzc+BrTAZb/PsE5/iy194ms9/4Qtk05igtotWEkEd46Zs796mGraZV1c4s77B9QcVIp2gpKdSr6EiQVGWTKYZKozwTlBOSjQh7ZZmMMxJsxKpwDiJM/JxBshjPEwLQ1baP3eGp0JcEEQ0ah1kILHaYuM+sjWFnqOcVPAuxpYZhXfg2lR8nUA2IfDgQ6SIQRi09pRuwiTt0z0ZUhZ9irxgNBkipk8T6yUW5nvsHe8gvCBUTbJE4moRwnv6gyHWhvRPLFZEDPtjKmKZTuUZFjvrTMwxz37mFX79Nz/GoC9A79OujlEs4HCkWY9+74TV5nNERZNOp8X66hylHyFiSViXGCzTPEMGGukl00GBQrOwWiPLpkwLjfUlFjCpQ7iZY+JxWCsonPzluXFSRmi9iPGCxFxnyhCnDIqYil8iTwRG7CEqOdJZxCRE+BCtJIGSeB1iMSjlMV5SmBG7hz2mE00ctTg8OSJhQBC0WFoKibfeweYFlaiNySJUM0aHlv5ogMlrszJPFlFmlrW559lcuczycougdpWXvqB5tLtPRUVsPNFDMofJ6ujQMhge4q0lUpfIy4wgEjTbAd2xR4YeNORFgbWOKIyZDnJM5jl3ZplGPeLwMKU61XgsSWYRwaxkigEQOAcFf96jhFMKByDCi2XyvM0wgcE4wWYBVbHCfH2TetxBBaBii64VQEFpM0qT4bxBCIWUIRDhvCYvPR9cu8PBlmDcDzClIMuneCdZWlhjc2OZWlzBW0dcqVKpVOksRXgymu2QueWSZqtGIDUvPPcSV59eZnkl5ukXW5Qk7DzIWFjJ6e11GB51yKYR1hgODh4RijbHR4ZHB3fojrawZFgPKIn1lqIoUVJjC0M6KVlemmNjcxmLQ2qJVgHeS6xlFoTjZ/GfczgH6V/wTMJp9ZwUkknaYFwmjIeaUddTZlUCO09cWaTIjpgYhw/AF1Ny18eV4JzAWQteIYXGOomxU6zNuf7BNnefuUmaxuRhSZWEOIpoz4U8deUc63N1bjxqE80ZwkpMrSOoHsLy2gKHxyPqtYBqpcpv/PYnWJ2LSEaWzrLljTfuc+nCpxj1PYODDnPPhgShoSiGdE+OGfRq7O2/xdHgAXe23meaTvFKEsQR1szKsdIpktGUOIg5e3YVpRTOGXQQ4sTMllnzJ8+hQOCYlZj+bKrrRzidnpNJRnfgSJ0nmyjcuAm5QmYVnPE4maJDi5OOrBxT2ENKk+DsLOkaqIhaXMFaQVkMsC5Du7McHR0Qi2ex0TxZ0KWhIawbzjSXmW/A5SeXqDVzVByidE6lqmjNxSRphMKztj7Pxz55gXwQgzxiON7GTtZZnK/zxrccT7yosK5AqITjo0fkecnr773P1t4+47RLOh4QBJ5qXROECmNLAqlJRgW29KystKnX6jgrqFSrjMclxpYYbzAeQiEQNgL+pCnI+18i4kbjEUf9Q4zOSbMp7WiDRmueoRDs7AywYoQOHCiBrEhsZURq+hhmWfNma5561TIap9jpEE+ON6uEXCGZHlDhGYbjN9mc8xz2ulx+cp4AyZWnO2TmCIJwRoDwaO1pt+dIJlOef/EyC4sd9idj2itdtncynrr6CY63Agb9HlHD4X1Enhv2Dx6ytbPH9UfvkhUZxsxSOlJIwkjivAE8zliK1FKv1+jMN9GBBqmwxjMcTmdf6xwIQSRbKNWmMAczW/ejXOdfgFOxcdNpwuHhIw5PHlLYIZcvPMknn/sSzzz5LDqwOD/Bi5J6PWBxocHCmmfxwoTmeo+g1iMIBzjRp6BLtR7x5LnPc3frNsPjZfJyQjGd4/BwQtxMyYo+9UZEo+25+uwK8wsNtBazHKA0BIGm2WxT5GM+8cknsaZAVUfo2pS5uU2W1hvc/SAjsQ/onWQMe9DtHdHv9Xjv2ham8FTjOlKAV4CAooDCWYQQ5KkhjqosLy7QbtSJdITNDd2DHv3emKIoZx1iUtCprhPoCPG4pdAD5ifcuFMhLssyur19TgZ3QSdcOn+FS+ef5dzZJ6i3A/IypSxBq5i4GrB0TrN+xbF8wVFp55R+QpIPZj/SLuc3n6XIhvybb3+Lgz1F7g4YHTXpjh6ytt4gTRNaHcXaRpul1RgdaAQCrRVah8SVGKU8Tz9zleHoCBmMUVrzxJNnQVgOewfU6wHTbpMwnnLcvcbW9gG7h1OevvjrbCw9OcstCol3mmxqUSikk0RBhZXFRdaWFlhbWKUVxhxtbzPuJWSJnVUuBMSViLn5BbxKH/9bj7+5fkK78qkQVxQFWTGm9F10lNFpd2g22zTaDaptgXGCdCIoc4UOJdV5qHYUjfmYqCrJiozuoM9oPKa0J2zvf5uVzjM82HuVt988YP/oGpvrFzg82uXCxTmsGVKtarRWSDXrIjO5JQojcIpAhiwvbFCtNPBkICY0aqtUqhFpVuDjPgvNC6yfgVH+Pg8fPuT6rTEX1v4ypYHB6JhZisrjnMaXgmpYoRLWWJ5fZmFujrlai2Y15Ohgm62tfYqsQAmBfxy3zS22UY0MK8cIMevGhp/cZn46XV62xIuUsOLwymCswTpIGWPCBLSjGEqSoaFWy3A+x2PAgMslyTRnOHZI4YlCRW/yHm3O8NSFT3N28xyXLtR5+XNr3Lp3wt7ufeIgopxahPC4qUcUmsFwRBDGHN/pM79cx3cV04UROvQEQUy9tgB4Htzb48mnVjh3pops3mT/9jajow0WG5d5sH8LoTPOb7zIQW8bY0qMF1QrEc1KjUBWqOiQPEm5e3DIBx9M6Z1MSAuL9LPmJucEKhY0V2E63cGrHInDCYd1f3EoAKdEnLUW4ybE2jMpU456Ryixx4PDdxjku0gFwsdME8dwPEQUBVpKkhNBlsqZ6+wcOlDoQNJsS1ZafS52/jqf+GyNL/6ly5wMb/D01Y/x+ndf5+zKBveL+0gpmWYlx3d7TIohnVaHYe822dV5uvcOaJ5pEsYFoZ5D4MmnliDKePrFTQz3OOo+4OBhi97eMke993npyq8h1IAffPDfc2FpnTQdEwBRdY5mLWY6TTk57jEaTpiMxxSlxduAKAoZJznOgReCuK0I6yVJmiEe20khwP2UsY7TIc5YRpMTxFSSmIydw7uc9Ma8df8PGacDtPJorSgyw6ifIzRII0n7mjwpmW9coRUFTPMT2k3JE08usjIXUB4/JBm9iFAFK8ubFFkOznL9g5v0GmNa9Ra6rtneuQvSkw0T0oM+eTxPOYo42TqiaQSqNke05EiSHpeeXOHGg69Tq5cMttfI+y0myS6fef63eP6FOrm7x6df+fvUaxG4AkHJtJjQ7R/w+g+/x7d2v8nU5BilcEYipWJSFIxLi5KCsAL1xVkmqLQGpEBICd7zE/wS4LSIc5bD7iG2GaG15/DoAZPpDXaPt2lGC7Q32tweb3HUG1BYQaQ8PleUqaDIDTooWWl/iuH4NoutmE69SrUq6YYfsHdc4/b1Pp/67Mvcu38fmQTs7tyC5ZKj45DF5XmSaR8cjMsRmIyt3RFzjVX2j27z4M6UCxcktWZIFGm2D+8xGDwi8J9g2l1jfXGRVnWTK88Zzl7NUeoMSkmc0ejQ4Jj1tjiTsNjucGv7Fg/3H1A6gbSWPDMkZTm7S1pQX1DoCNK0pDAzOymFmOUu7V8cCsBp9VU6zyDtE0xC5mot8nLIeNJHu4j15hNos8BgTnJw8AFp7rDM2tsCpahVIkbDE8riu3zi6V/FmTEn+1NcXmGcHnPxwgHWNXhw5wEfvHuTb3/3NebWFHu9PQZHI85l5/DOMR1MmIwmLK53GAxzbHFIpZ1x551jmqNzbFxYRbXh9sOv065eJe0vs7SwxPFWwPkrI+bXBvR6baKogtYKJUMatSlaVPCEaN+hM3/Mx5+8iivH3N07IEsdSWYe93qC1oIo1mSpoSwdrnjcwyBAiFmu8ifhVIgTAuL5KUHNUaoQpCJXGbqiqFRrMKkQ6QpYiyktSksabc18rcKZxb+GzVY4OtqnWuvRqMPBfp1hb4JNY3rhLfKzc1zrnvD1b36Tk9EhUWuRQXKPSZJw+INDzq6tYkYJJptiy5BplhGHgvfePcD2JJns0dvtkZX3qVdXmG++wOZT53j9m12ipV066yHdvQ5xtYVoKap1RVQpQFSQIsATgJ+SFwmHgxN2B13GU8N4aCgKkF4Q4pASTD7LIBWlIxQeKSVSzmzfT8OphANCCs5sLtNsx3hpyN2UUqXYKCEVXQo5ZpKd4JwBbwgDT6uqWFkIQe3gheWZK19kcnieQV9QqU9YWZujIoYsDgXsdmlWm2ScMFedcGlpi7/12xP+wd9aZTrcJ5qOOduucXlxgarzkBWMBkOOto+o1iscj7YYi12ML/n487/Bk1fPUpqMoL3P2sYCh3dXULJJZylgeV0jhGUy1OBqQIRAkqc9Hu3c5drWAwZZyXBsSUuPseDsbJaqzCzTfoEtZpkTqSVK+1kjr/V/rpfyT+OUbpygU12gkEMm5RhEQaUqgIQTf4M82+Fw9BCPQQpDoBSVSLG6vkKt5cmSKXYyotVaJ/SbrG4e8mjvfdzwgAfDAetLdW7s3uErL4U899Q8S+c6RPVzvPqNIWuNW3zp5Se4/NRVgkqdva0d3nn7bd54+BA31KiVABsOmWZ9nmr+CrVwDucSSg559pk1jh80aS2ULGyU6NDRP6kRxZq4oh5/OomzKbu71/jOG6/SPT4mGxdI5wn0rO1Oe4F3s8SykJKwIRGRQnqB0R4hH1cKftmcE4GgxgLSKISZIiNJJY5BZJT+hIE5pqQA5xAWQhXw73/1b/CVL/02J90x7167h8hrLMydZTwesboxR9btcbv7XZICLvbPcPblY55+3rF8/quErSe5+c77fOtbf8TZlwIWP6eYv2yoxAUrL32apfU5ev/sf+JhkjAteozTkOFN2DN9Kp8NKEzK/Nw6WaqRzS5hlNM9nEcHmuU1gTUOF1ikVIAjmezx3nuv84N3XydPpripIxCeQAm88lgD1gJI6q2AuBnM5hOMxwUghMP/NAPHaU3rIAhtjDU1Kq6F1B4Z5mgMhcuZhgVKG5wzBCLgr3z1a/zVr/0dKuEKLrPERZt/8+0/QukWjVrIZrjMhY1Fvh9X6ec9UrXNZ19+AuoNUr9O3m3xjT/4PYamxzARvP7+29TmFNUmVEPJxivn+Wrvy/z/fvd3GRVDbn7X0v7MES99qQkmoNnsYL1lPD2YjS53O2ycD2k0NUe7BYvrAbW6QghLbgbcu/8m33ztNbq9BFMA7vFUqReUfpZ/dECzpVnerGGALDek1uCFxeH/nVm4vwinU0j1nmyaE7qYSDSQThHKgFCGaKlQ0gIl1lnqzSr/wV/9e3RaF4jjOpvnmmxekHhyhoMen//8JaQaEgWSJ86cpcTSemKe1Gzw6r8esb/Xp9poU23NMRgVhPGUS5djltbXOejl9I7v0p1us/LCHMsLEYPdCUudVc4+sc7tN29SmJLu8CHTtEsjWqQVnOfMuQ6msFz74Yij/RQpPXlusTbj5PAu33v9u7zxwS26vYI0lwRKo/2sP8bxODdZ1Syfa1JthwhhscZgCoMrLTgwf0Ev5Z/Gqdw47z2jcUKrUseVGld6nJl5UqUxs8FFYWbNoVqitaF0RwjfpCwDVlY7XH16mYcPJ+weHfOVr3wKO55y6fkz7P+X+/zu/3KL3//2Nlk2YX6pwRNXv4SRijNnQubroJOcySgBFbJ2fp1b167z7OXnuHy2w8GRZ24j4J233uZXv/ZV0uyY+eWzhEELZwWblw13r015/40+Gxc7nLkYk6UGqQV5mnP7+l2+9foHTBLLcOgIFJxp1om0J1MOozw60LQW28RzgsPjLr1uRjp1OOvxBfgInPwlJM45z9FBD78Ao2SKMRm1yCHD2byZFRYfgFAwnI75zht/zJkzi4SqjhCWKAz4xLOfZHM5ZZQd881vfJ+z6w3qAr72O1f4b/6rr0MYE1YdRztbBNrRaDQ4mz2NHBYc36yi6vdZu3iJWq3J/IKilIrLz1/grbtDSlOytlHj7g9u0K79BmolxPsSpSsY4+jtOy49tcDSpkJqR1wNmIxyjvYe8fZ7t9k5OMExs2MmtVSrmpVaCwKNikKq9TqirbndvcXe3oQ843EXs8c7D4HD/fRo4HSeSu89w36KyQrydMqwO2XcL3CFQsuIShxQaUJQ92Tk/Kuvf4PJUCKFJowta5tVPvbKMu3lE556psFv/qVXuHjxHEurN/nsb21w4ewaWW9Cp6rY23vAq2/8M8y04Nprfb7xnTvcn+7RL7poHzDuS269kXP37V0ay3Oc3Vymd9Djh3/wPgtrZ3CqZNpNkaICSHQoefKlOpefD6k3Jcm4YNxNmQ7vs7t9i1sPtyjKAmvNrFpgPVgI0FRVRDtu0Ko0aTUabK5uEMhgNrr8WADAw2xOr/zpZ3hKTyWUqSNQgkrkGScleSJpNqtU4znKiqE9bxnNWbIRvHvzOv/sf/on/JVf+78x7GUoPXMCLEPeu/kuD3ZusNqucf6pnDwTnHnqHL2HCY2qYzBJ+d73/yX2BE7MkPUvSsa1Y9754YR/+/t3Wa8vE+0t0HxpGfXlgHw0Qk1GKNXktdf+LfsP9/jS3/wtMjMk0jVUIOifTBkNDJW6YnkNtOhz7+GQd9874sa96xhTUhozI83P9FWE97PWOzf7fZGUDAcpWii0lH+S3vKzkMH/5MIAcGpeJeAc9XpA4gViatDBbBA+DDQNWaE9V6U/P0Vaickd/5///p+STgN+63NfY3nuHP3+PMvtOoM+nPQOWGr3ufvgLkeP9qi2G8xfrKPynC998Ss0F6rcu/caa5fruDDj0U2DO4o52TGEKuCl2hpBv4kAaqFnv5yyeWWNT375Bc5feBpZyRC+hnee490+/f6E1TMNnC25e63HrVvv8eob3+TGvdcYZUdE9YCy9DgEEo9/nMbyOLy3M7mBUuCtJowCImMBR15azOP575+FU3NOACqVEJV76u2Y6pxHxilCxgQioFmPqM/lmIkk1hpbjPiX/+qfcvXSBZY2Gmx13+LgYIw1EZ3qEhc2MxpzCe7SKh9/OeP3l7cIPniS1eNFrv3bW2zvlAynGUZX0LTpNFf5+OI8LTR+XHC4e8SG2WR5tcrV5zbJneLWW1vM155g9eI6UVjBmgxVOaHSdNy9MWZ3+wN2H73HWx+8xt70kFE+pMxylPY464BZFXvW+Sz+5Dl0gBMIJwibgnoL2IkQviSxOTb92Wd4ajfOWrDegPZ0Gh2ClqWki8sUUdyk3ZK0FlKygaBNjZpcxdsXuPXDZXoPj+j2A3Qc4Jyh0/ZU50JqjQXKUtKJPKtn7nD+/Cs8s/ZlNp76DV7/7je4ceNb5HJCnggCpWnOxcQuwuUF3f4R0/ECYbPG+UsdQrPIxec/y9nnLqJqweM+kBjyDaaHY8ZHeyjb5ML5z7M3usPo4AQVtkkmCaUrcWYmPxVI0Er/WFXB+cepLK+QylNfKXAVz/jIIp0iMvpxy/lPv3WnZuPy0jHKRxhhaDSWILD0x8e4pGR1qUmjGbO+nkI+Zs6GLATrROo5Hh7c5PAk5KnL5/jEJz/B0nqM9EOK8FVu3PiA/+H/u8t05DnfqDN/pk+2qTj/pcusf26N7Z0CLY95/Y/v0b1v+PgXmhxdDwkdNDZXqDVCNJ6tezv0dh+xtTXk+a0v8eJvfYzmfIRxENUEZ5+qc+bpFdrtdaLA8KW//P9k/+QRB4eH3Huwzdb2Pt1Rn+39Q8YnPcIowEuYqd8IcBbhFDJ0iLpFVzRWQZZ5Qh0iZA78dCN3ajcuNyW9ok8ZpswFFUpjOd4vCEvJ5nJMWNEsLjdRwhCNJHJywrUH/y3vXB/RqLXouqeIFr7IBXuGuZahP7nOe987ZHvL0t0dUulMWW3ucnQ4YD2AIruB0e9zsF0yOMxZf3qD+mbA2uZL7HzrBs1zU2qrFeaSdV5ZDJiOFZdf/jRzi2vEdQMiBO+Ja5aoVhCoEiHHGDehPg/nmpucPb/BJ156HmshSRJu3r3Ne++/y+6jh8iTMX74WPnJebz3OFVQ4ogDhVeONHUQS2z5S2rjAEoMiRiiQ0FhctLMMezlrHTqBJEgiiVChAhRo3QWsnnOtL7CxsfPs9w6w8Zah088s0Jnvkalckx92MM/83mmyT3+6Nr/immVFKLPYO8BvYMqN+/+HvWVhBtvDdnY/DSVJ0p2e7tceeUCc2ea3H/4hxSF5vXXrvPwIURRk6B6hbXfepFA1/Azw4QpYTTQZHkw00VRJVEtxfsTpJpNkI7GCd//wfd4tL3DaDjBhJ76mSb+Xg6Ph2SVFMhqiaoInC+RgURISFNDmf304BtObXYArCyRVYMPDYPkhG6/S6Ui6KyGiEoCckQYO6rNGGKNMU2miSbJPMMMdk8M3/nGlBvvjnBunmblVzFTyflLJQsXQ6rNBo225uDgBr173+bOv7pJbz+nOu9obSi+9c1XWZm/gowqqOqAqBLiyykqbGCHOY24Q0SDPEnJy4TROOHenRHbD1IOd3MGPcOg7znea3Ny0ETpDnGtQliJuP/wPg8f3SdNJwgFQaCJGiEqZibbgSMIBZVVi9IOxIxI/Vj+6WekKYFTJM4rS1xXiNAxyHoM033mVgSNRYuMU5yYgrSI2QQjg+wWUT1jYT0ib92l664jKo9YWnNI5RkPPaNej/PPa/7WP/g8lUaFvjtk7+SEzpkqH3v+8/R3KohgwNs3/iWtSpPLl7+AEyMe3v8OnYUOh/e6HO6N+dyXP8nLn/sUcbVFPtSUZcF4csz21g4//MFdtrcOsdZz7smS8889Ym5lAqrA4jjunfD+9fcYTRPy0mCsxdiS0iZkeYLHUKkHtF+oYVolKFBKEoeSMAIl3M/yS4DTjOOUpVadIxQwHk4IGyntRUVYE5R2llWJo3D2V5VCRY6D439NtexxYf1X2FxcZ/2c46B7k/sPDJVYEjcVVpZc/nSHqHqOd+98j8KB8Zarv3GF2s0O3/zgn1CWPX7nP/wHRJUFBoOvU6vVqIQCo1osn3mGP/zG93jpc54vf/UizRWDUm1qlUWy4YT779/nKJkSVgvafcHcakEQGYSUWCF48+232N7bpiwfB+BOUm1EuKSEHNobS6x/4SrX3Hc5OexRqYYIC5VIUmtosqHlpxbiHuPUbpySilrYYbF5nnazwdyCol4XOFcwGY0Yj8azUSlrqOgarVadq+e/zMev/ArNjX0e+v+Z3/vmf8f7Pzyi3TzHC899ilgvoUvJg4PrEByz2l6h2Wixde8AH2+x/twa7eocX/zix1hdf5a8vEbv4Cadpubg3VvcfNSjFhv+o9/4azT0JW5+b0Q6igCHkI7ltZhnn7/CysKTDHqG2zfv4kqo1SKCQPP+e+/z7rtvUxY5zhq8KwljSTWWmIOS9UuXuPCbL3PNv85W/zpBJJlvtghkSLWqqDc1gf75KDm1Gyc8xKpJvbLK0nzOsBiCNKTjnOGhxaocGzjqNUUFTaQdA/sOpXyXdrzBcvAyH3/hi7z04hqqcsTNB29QWEXdX2Xsh6yff4J6fkSKJhs1uHf7LguL+yi7z8WLF3HibQ737tKar3HvzVvcvCXIBhXMoWP3E0f82t/4awRy+bFMR0xZQJGXNBfMTCzn5CwUEXniCaOMb732b/j2d77BaNTHO4/SiiisEoaa0W7CU088zfzL53j15H/gaLRNoCy1Sod2eI5CP6JazfBtOdMw+zlwel5lYXGlphK0aDdXGA/vMc0Mk5OS4QGkRU6OZX0pIrIO5w260Seqd1jls1zpfI359ZLbD79FYRKeeeoTTGsZb7/6hzz3mXM0Firc82+R2XmS3jnOPfMUD29+m3OXmiRJyv7+68x3NrH7PR5eS7m/l7Pu6tQ3NtGmwbvf+QEf/9KnQbRIpmN2H2je/HaP+aUmUVVw8WnDdLLOvXckif0+33rzNaZZQhBopJyJZwvjOHrQ5eqzz2Oftbza++f0kiO890T1Bu3aKg21wqF/RL0aoLwjH/982uanF8cVJePhhIV5j5YxYVAlTQ1F4sjHgjSp48hpmJJq3SJCS72iODP3Ma7UvkB7oc8Ht76PdHWefv5Ftrf3iFwdbdZ459t3eGVhjm6Z059O2Ls14iQZc+XZFvPtCt2DZdYuXEZPjnjz1ft884ddNutn8JUKSVzyyisfwycB5VgTNXOiqIoIuvT6Q268N2ZhNWLtvCSs7TCdjjjqPyTSFbyOKM0YU5bErkrGhKUXDPmFBzwcPGJqEpzzCCkojWChep6Xz/57HHf3mVZ2ZsRNf8mJC6MqaZqTjIfk4Rh8SBCEhKFFeo/NFLavyGsaW5XU2iHry0/x3OLvEEUl129cJz04R9CYcvP2dT724vOYqWUQdeiNlrj7rSnJuM6gP2ZNeY5f69JylidXL9GMJfndh1y79pD3b05wR4b40ibbJ2N+53N/hdFuwTOfvYQIQbiU7v4DbJKysiFwYo/pSHG0f4BU9whVBOkOdVNwku5QlGMWmueIzhSk1S5HbsrJuEtu3GOJJ4tAslg9z8W5T3K29RTtuIUP99BOPBZ/+9k4NeLqtXmCIKR3soevF5QyJQqqtOcl0+MMbxWR9kRKElUrvHD1s3zqid8hTTQ/eP0644Nlhuk2DV3n40+8yO52n7Prazz/Ky9w/72AnZ0HDLeryOMp2fSIS/NLzJead/7wiO396xS+QhrVSAkwQ+hv9fjCb/8GNtdc/fQlhFJI6chzwTf/8D7dvUNgkWQYc/POOwwH32Z56Zj1dXjm0mfZ3wejPZcvPMXTL/4mr/f+F/IkJJskxNrjnMUUjjCUKD/HmdaLPLv5OZbaq9RkSK5DTiYZ+c8RfMOpJpkljXaHQX+XvD/GxxmNdouwWqXdGVFRIVoUVCqCKxsv8Nmn/h61sENWXGdl+Rx5eg/HImc2zvOD1+7w1LMXaSy00HieiJ5jMLTU/THnnzyH7ZU4Zcmc4u79PjtTj1aaubUazpcsbW6wGJ/jySsvEi/UiGohs5ELAwgm40UePbyL5zb7xydYu8Hq8heoNL/F+dUO/ZMx2/1jFq4sUL/S5ofjP2Jc9iiVAa0oH0/fREFEPVjhlfP/EV+48jXOzF/C2JRIa0IpSYeW4peduGmaoCohdb+ATw1TM8SZAkREWAmglFSDKmdWVvjCJ/429XgDR49ms8LcWg/hn2bxY8tcv7bD+QvnWF1fZufhkEtPNKnP17j41EWCQuBNH5lmBEHC3skWvV5Gc2MNbUJkGBIEFZ77lRdZXPoYUatCrTNr3vF4nLXkRcLCSsT7byzixB6aEYcn3yCsdnj+7K/iJg+4vXOd9rkp4ROwlb9HUlpCMTerfKsQ6Uq8UsxXzvDpc7/DSxu/xkJ1hUAqxmnCZHLyeFZO/DwhHHCKxCXTMaXPqTUW0XWLmexSuglaKWTsCGxAM5rnc5/895hvX2WWTjCEukmnskDzbEQy8lR0lfnFOT54/4gXP74ESJy2LF1cwFhPWjTYuXeHQGqyoyabTz8DtYzJcY5QjsvPbnDhytO0F84Qz4VIoSmL/HHnlufmtRMqrYjOQoV+/wl0lLKyvs/m5iFBfo2dgy5rL22ytbTLQAygEOSlIwhnGsoShSPj/PwztIIrDEcJlahOMh1TiSNOhjuUyRgFDLrFz31+p3fjxil5PqVR6SCDBjVZI8tzCtfHaUlQbXB+/SxXLn4GKTSQIqigqDDXERR5yPC4JM0c77y9z8VLdYpUU1QEk2mfKK6y/OQCW7d6rG5cYNjvcv65CwStjEF3n4qwhJFg7coKlXqHlUuLKD0Tixn0M0b9gs5iyPFuyHj6iGq9Smbu05x/hqh5SFtF7Nzv8tSvvML0yTHbR3exaUJRGEJVJysKQh1SFAVxVGOj9TxfvPw3iVUbSUQc1ShLz3DUReQzufydR9nPPLcf4fSIS0rG4wlzzQItoVFbJIoNaTqi9AKtPPMLTSItgRyYBcKeBO8k3cMpO9t7GDyiVAz362DGnPRzFlYkWZpRa9RYWl2nbJYsbqyD85iyT60yj1+eLYRoLVmU6CCVA+cwpiSMPG+9dsQrX16h3mhz/9424/ED6tEy7bPfI0Dz4P0xjc0VyidG7E1vUnoDPkZoQ26mWFsSWI9Smihss9W/zffvfIunVl5ms3MJqRTGWSajPr4Er8TP7ZjAaeYqrSIKGqRlSiBSqpVF6rWAgTsgtyU6hFIMSIstQlVgvcTalCTr0TuMOdw/4CjZJh+eoRhdJBuPOOgmfOIzyxgzQYuAIi1prbSZHOU05+qURYorawgNgajihMbGe1SCDnhLlhbsPjJsnLcsrsRceyvjwtWI2/dquKjK/HLIxubHePe7f8jt/X2+9NfO8M7gd0ntlMyBF5ayTHDWUOQOEUkiFTGcFBg55CTY4o2HjqPJPhutSwgEe4cPMN4hEJQ/Rx3uRzg14iQhC52zZAzo93tQdIhrEuWraGWJAkVBwv2jt9GuRZZmmAKK0pCVBcd+h+0kxJ1cwkzG1IKCtWbE8lLE7sk2nfo50kTQaGmaCxoVCcJqDWM1hUsI4wrGGJwNQBUY69jdmnD3hmFxpc0Ln2zxB/9jwtknAjbOzNOornH1iR4//EHMjXsha59ucdd9ncQMKAwYK7G2xNocAZSlJQ7nmJaOvCwoxSG3Dr/HhYVP8cGjPfYaj2hVOnz31bdBFMTVD4mN895TqYeUmaI3GJL3LY1WExumBFFIGHSQskN/ugt+h/G0ILeCYTGil+8wGFsW9N+hXxiy6TE2qBMOcqbjeTqtJSZDQ6tZpcwlUpVkWUq1WgVbkGUJ1bhNMhkjlKMkR4kKWw8GmDRkPHAsnrFcfSHi3g1DZaXHzkPLm298mx98v8sTz38O9bFvslV8wNSUCC9xbjZpa51HANU4xEtNOp3gncDhmKohNw6/QSc6z72jD3hp4wvcef8RpT/iyjPzZNnP6Mn7UzjFOM7iVIohIZYhJI7u5BjigvZ6GxmEKL2AkE36yQO2RveZ2AmFL0iLAb1BSda7xv1bY549+1Uyf8QH1w/463/9OU6OJMZYVtcErgyQkcOUFlO62UTN441DxmRgFLbMCVUFW4QMuzAaliwC569oRgMo8gplfMzt7y1RCQ/g7L9lN79OUmQIFeKcxLmSsizBe7QOcSjyMkPIWauCsZZG0GAwHmDzRzjrqLiYwUmPo/6EWj3+hVYwnlpZx9iS3nSLrOyy3Frg3PIm87UlIlkDLE6kSB0ggiYlNYzxlGWJ844iNxx1e/zx9/4py/Pn0LHkD771/+ZTH3sCYwu2Hs5cbW9nY0/eCXBV+icZRT6bOzOlpMgdveOcB3eGvPv9EXEjx/sqw75BAGFsWD1jMWkTJx1PPPMCKx9fYL/+Jv10l7yw2KKkcBnOmceShRJvAoqswGRTtHVoP1uIdDI4pCwyxpMecaBQEwVlSZF53vre8c8dw8Gp3jhDf3iAktBRDRZqbQJRpVcInEowtk9uxhjbQQchpc0xmcWKjEmScnyY0t3XqPWIf/2df8J0MuDFFy/SOwEdCQIlGHUlUeRwwtLbd7MCrQkojCMfFnR7hq37CWnaJz0JWX/ymEqjxWSkMAasy2gvBER7HlluUjt/jX27T5JPsX4m22SNx4sS62bqflFYZZCmKBQOz7QoccYihKK0hjK1swxKOIc5HLPZnuNwOGTY+/ntG5wicc45ht0xQnmkiIjqMWXpEYFDRwJrJhz2bqHQZAzJiglJf4RUGp8ETI+g4ha4c/9N3rr2e/z6K3+b9nydwwPY2JhJwTsJ45GlUvfsPJoQN2Y9JUmaI/IJ01SSTArGY0M5znnv/e9z5cImlVqL0kxAlCAt1XZC5h+gg4yBu4YMFMponJMYa5FOoj14HZNk5vHON4tAYEqDULP9O64UUEJhS5q2xeH921xan+fhySHjwc8YFvgzOD3iDPT3HESGbrJNN5wQ1zX1eU2HOi5X7B7dpUwdquYpXUmWF1R9hBhH6FTT625xuLUHOJZXmpRlQaVSZXW1TjKCOIbBsUNpT7d3wGqtgjE5SZKRj4+oN2KW1xWj6wodOV79wXdYXn2ZK88+hw7cTEs5yRFyhAt3MG6CdwGFmVXwvXOPxXYUrSAmNbMVFSGzZlgvBVoqhJeYUpCOLDbzLLc7tA46pINjms2AsxttHuwMf6HzO71mISeYHCl625adRyNuPNjl1t4jDoaH5JOCfKI42Z9w5+5Nev1DnC1BKJQN8RlIqwCLI8f7ksOTazTqivWNBnGsUHq2SkxpmEwS7t9/73F2HrQOSJKMSk2wuqmJ44A06xK7mNt3XiPPDc458iJlkgyxLqUSz3KJsyW5FmtmT6BHEAQxSWbJpiUUj7csWkteWIrCkyQlk35BPgQ7hfVok4NrR1hrwVs2N9qzRtlfAKcXgHsoRpZhNp19wNDiI89kqjCFAxuQ9CKyMkPHA8LmbGNVUebATBJQaoFUHuM9nYWIZtOBLshziQ4kZQGOCfu7Xb777ms8/eyTRHFjpgFpm3gX016YUm8qJv0xzark/s51dvZ2aK9pcpPQHx0iZYV6tU6hp6hc4wpPXjiE1LP28hKy0oMVWOcwzNauegem9JRTTz4RlEPP8nyV4/dG6JMp8WKToPDE1ccLIn4BnOKN86RJihaeTqvK0vwc1bBJPhUYoxGmii8isoEk6UnyRIMLmHpLIQXEEl3XIAVIaLcrCD1C6ineecJIkqeGO7d+yM3rW+z3tpmmQ6JQIfC05gMac5IsHxNVJ+T5AVkxoT/d5rtvvMGgl5NmKUk2JM+naKmoRgHGgjUC50KisE5ABWtKytxincO5EmcMrhD40uNyj8sELpUEaIJezPW3D0iKgsJajPcMJ8XPNaHzp3F6ATgeqUuWVqusLS0x15pnanOG5hiEwZGilUCLkIpaJhaORPTxQQChIG7V0JUJToCSkrl6DfBoHc123JRjusc9fv+P/wVpepbdw/d55+bX+dXffJr5tYJkNCGsSAbDLkIMKIsJeMNossX7D/5Hzr9/wvPPPINUnjACqSxoh3UQ6xaByMF5lGwwKiYYSgIvwIIvJS6fLY4vMk8xVthEMh9EPHojY5IZJnlOajwVodjfn/7Mme8/i1MkzuF0ztLyPFcub7LcWWGYJGwNDOgc70OqjYDllU0uXnqe1I3Y6r3L2CaYQBDEs32kSoEQEuXB+2jmdptDrn/wA374Zpd37nxAHEzIsj7H3S2C0LG2GdE/iQgCw/hwhGPINNlF+JxRckIsxjzIpuj7jjJLaVQ7DJNjVjsVzEQyGKTU2hJkyWSyjy09oZyFBqYQJKNZq3qeQlkIin5IS0sGd6A3maKlZJKb2fMqA8r8p2ua/EU4PRuHwGtBpRKz2JlnbWWBcCI5sSET0yMKI9Y211hffppmc4HjoQFCcjOgLCVFOlvhLJEopTgZnpBnIwqT8cH7r/Htb/+AOzsJhkO6wxO0shTFhKCSY4VnedWSJCXjSZd0mjCZ3MOZhKoOOPd8RC/cIg+O2Ww/Q5qPsG6EsZrjXp/JyBCoiPnVgIouOS4hN4rxsMRlgnQ8ayMvpxqXCSLvEMeKo/0c7zxOwDTPmZYlzkJZ/IKscaq5SkALsqygzDK8y0AWWFEwLVMqVUWj1kYFYG1CmkzoHh/TG/fJUhgeTygnJd5KZAQ7J1vcuv0aw3HB7//xN3iwd40glHTmDAMmVKuSspjtMFDSg0rpj/aZJinJYALOEuBpNjS2XlDaiAf99znfeZqzCxcZJfcZJV2ySYFQjvG4JJ9q2ouSZs0wGXv6U7CZxxUCk0tsIgiRdIqYva1ypl0y29BOls8GLae5ZffgFwsF4JS9SgTs9Qc82jsgqnmmYsJo2mMytQQuIfADpAg4zg+5d/8Bj+7tkBaG6dQxOirIRzO1AlkRpGWfV1//I159/QHH/R7r6zH1ukLUa0RSMjjK8M5RFoaw4hmPx9y+ewNvLZP+gEaouPLMZb47HtE7PKGcQrQQ0F14BMqg45Cvv/UNpHFk3mO1pSw96bZGRyWhdmjxOJ322Blpq5BgohnseIzh8f7O2WBHWRpGSUaSGobjn7+A+iOc6o1TWnKSjHjvzj1sMEHUSnrjLuPU4fMBJn1El0PSiaF7WGKGAb1uwnjiSEclLp/pXimlGI+nvP7eLQqZc+5sjXZLI5VHCk2aSbQWlGXGrdsfoGPL/sk+J90T5sJ5pseHRHHJmw/v8jCZkh3PdprWzyywujhrrRgdT5gwnsk1CYe14JzBTIOZVKE0OC9IE4i8ZqFZY7BXcHKcYxAQeUI8hQRnHNY6xtOMUZphf4ou5U/CqRInURjheXTUxUUFzWVJIWbrJr30GJtRlhMC3abTmCOJBQfFlHSS4MrZFkclBUJ6xpOcVlOzsVZjfq6GKXOyMpsFyn4W6yV5yu07dyjlFONKtAoIlCMrS7aO+hz1x0ip8dWCpdV5Ll98imIkMWXBs1c+Q7O1wFsfvMajw0ecDAcUmZnV4AowQhBGgnMri3x87VnKqeDN9Dbd/i6FN3gpEIFHl7MtytIacpuzc9wlK36xdBecJnEOXBagQ8E0LeidZKhqhK5KmvUqjbiGcmq2bF3EVHSd6Sik0R0wyqYUOHwpibRGY8myHO/rNKoR1WrA8cmE4bgAq0hzR1F4BqMhw3EC2qA11Js1siSjMCG1oE1LW/aGXeYvtDm7cYZQB+zeOeBo9z4v/uXPsLZwkYVPrTEad3l4sM2j/Qfs7+8w7CXEseLKpbM8ceZp2uESZWFYWN+g989/n52dY2ZTcbPdBEKCcAbrppz0PKX5+etwP8Ip2jiPzxRxM6AeeBqqQjNoENcFlQo0qw1KbyjLDOMtYb3JXKfOytI84+KEoSvBCSqRpN1SxHVJWVry1DJwCQdHQwajkigIGQ1LkqQkDBKEdpzZXGMwPGFhYY5rt9/78T7TcZmx00vYkOeYa7QxeUn/eMDNV28jhObSZ56jMtegVV3myfU255YuUz6VY4ocrTWh1hhvKY3FBYLqXI2l9UW2d7s4M1tyxGx7JtaDKNWfW8z+8+JUn8qgiJgLJI25nFazwkJrnuZ8B+eGmDyllDm5H+OEwPsGQbjG0twSg3EXM7WUmaEzF7J5rkFc1+Rpye7RhCzNODwZYS20W57eScl06gjUhMWlKlef2uThI4WWht3dHfBVnPcMypTcleRJSb3exOEovSOfGh587y5maln7+CXihRpCCoSAShSj4yqmLGf5VAvezJwPPGyeWeG9H97GGffjtaeuBJcpjFcUHzbiAAIVsDhXJQocgVbMNRao19p41+Lg5AaTcojRI6yAPAtoihWa1TYL7WXKzDE2AxYXq5w90yaqK7b3xmw9GNI9mlJYQ6OlKa3HGId0gjRJefvaGzzzwlk2Nxb5gz/6PdI0J3YVvDOMTYLUliLLaFRqNJp1BlEEgMsKurcPSKeeaLVKfblGc6FJXAmxWiH8TNvElAZrLd5YXFnSrMfUqxHF1CFLj8vBFoAFrd2HkzitNM1qlUZVkxceV0hqQYdqo0lWThge7yGVxzpBNZ6jrueo+JgzSxcQZUBfBjTanvZ8kyB2BMcjyqLESUG7WWVlLUYiMCn0pAHhuHbrGr/7Rzm1Ssz2wTHe1hHOUXhDYlKkhEF/iCagEoSzVocfqSRYT7I/4e7tR/TLMWevrHHx6bPMLbQItMT5Wb6yNAXD0ZBRb8TxnUNqRUSal6S5xT8mzeFwzj4WBfjfcHb/x1LxiyFUAYHUgMAbzeB4xPKiprO0glrVlJwwKLexNqDFJlVTx/kY6wT9uIupVFhdaNGsLDLOTsiykmo1ptNqUWtKOovgbUHWL/B+9lR5HGmW4HyBMQ5nHc5aClOQFQUCGI8TvDXEYRXpwVuL9RLnLMJZ0qTg/oNDbt7YYem1W5zfmGO5XaNeU6imwjQ8Izdm78GArXcT8oElsJrcCTwGL9xM4t6Zn7hm7GfhVImrBHXs1JGXjnFSkuSOcuQJXEyrMc9ZXkb1FJMkIXQKxBipBZHStKoNTNpkobbJXGUJk4WUk32urF/m6cvPUW9JRJDQ7Xfpbv0Q74azZeo6IgrqaOkRvsBZh3eWwpQY5/Ae0qxgNBwCapbp9wZvJc45FP7xrm5Pmhoebp0w2Otxph6y1FJUzjRQF0OKuiEpU0oD3s9Wd4g/o2zu7GN1vf8NOFXisIqk5yj8hKHJsS4iGU8ZDE4IW4JIVelUz2HTB1g7wJgp3iRovUSk6sw3FriwfpWLZy7Qjg/oHpRcOfcUz119gVo9wriMrb1tthcT3tD7hJHgzMJlzi4+h1Jgu1vsy9me07TMKe1MZysvDAf7JzzzoiBoVHHKg/Mzj8rbmQre4yfOIUitY1KWtEpBZMDb2c6cWWDukEI8lvZlVjD9MVf+F2ns+ndwqsRdv/GQR488OQm5KIl0nbz/Pu/88AFeG5yYGYTcTGbElSU4TYUl8kQSKMGNazuM+o48z1Flg3G/YH/nhGazhlKScqKIRQslFc1qg068SU1sIL0iJseWXUZJyniaY8tZctiWjrs3d3juhROs1BRekOQlZAWKgLw0lNY9Vir35NIxLhyTXBEXnqAEjEcJkMIjeLx2RfxJwXR2+yQ/S/rpJ2H27H+YIH702Wc/Sznb2/ajR0hIgRRy5q4//njWWoqyREpBEAQoNZOad9Y9bh+Y5Q/t41vkgUApwigED2U+606eLXOQsyq3tT8uxQjh0QIiLYkqAbquUBGUhSMfuZn77/1jst1MBVYAyF+4DvenjuFDRtxHAE6xdeEj/O/DR8R9SPERcR9SfETchxQfEfchxUfEfUjxEXEfUnxE3IcUHxH3IcVHxH1I8RFxH1J8RNyHFB8R9yHFR8R9SPERcR9SfETchxQfEfchxUfEfUjxEXEfUvz/ARt/Pwec260tAAAAAElFTkSuQmCC\" id=\"imagec92519e7b5\" transform=\"scale(1 -1) translate(0 -79.2)\" x=\"187.2\" y=\"-19.27875\" width=\"79.2\" height=\"79.2\"/>\n",
       "   </g>\n",
       "   <g id=\"matplotlib.axis_5\"/>\n",
       "   <g id=\"matplotlib.axis_6\"/>\n",
       "   <g id=\"patch_13\">\n",
       "    <path d=\"M 187.2 98.47875 \n",
       "L 187.2 19.27875 \n",
       "\" style=\"fill: none; stroke: #000000; stroke-width: 0.8; stroke-linejoin: miter; stroke-linecap: square\"/>\n",
       "   </g>\n",
       "   <g id=\"patch_14\">\n",
       "    <path d=\"M 266.4 98.47875 \n",
       "L 266.4 19.27875 \n",
       "\" style=\"fill: none; stroke: #000000; stroke-width: 0.8; stroke-linejoin: miter; stroke-linecap: square\"/>\n",
       "   </g>\n",
       "   <g id=\"patch_15\">\n",
       "    <path d=\"M 187.2 98.47875 \n",
       "L 266.4 98.47875 \n",
       "\" style=\"fill: none; stroke: #000000; stroke-width: 0.8; stroke-linejoin: miter; stroke-linecap: square\"/>\n",
       "   </g>\n",
       "   <g id=\"patch_16\">\n",
       "    <path d=\"M 187.2 19.27875 \n",
       "L 266.4 19.27875 \n",
       "\" style=\"fill: none; stroke: #000000; stroke-width: 0.8; stroke-linejoin: miter; stroke-linecap: square\"/>\n",
       "   </g>\n",
       "  </g>\n",
       "  <g id=\"axes_4\">\n",
       "   <g id=\"patch_17\">\n",
       "    <path d=\"M 277.2 98.47875 \n",
       "L 356.4 98.47875 \n",
       "L 356.4 19.27875 \n",
       "L 277.2 19.27875 \n",
       "z\n",
       "\" style=\"fill: #ffffff\"/>\n",
       "   </g>\n",
       "   <g clip-path=\"url(#pc34acccfa7)\">\n",
       "    <image xlink:href=\"data:image/png;base64,\n",
       "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\" id=\"image39e97fc8f0\" transform=\"scale(1 -1) translate(0 -79.2)\" x=\"277.2\" y=\"-19.27875\" width=\"79.2\" height=\"79.2\"/>\n",
       "   </g>\n",
       "   <g id=\"matplotlib.axis_7\"/>\n",
       "   <g id=\"matplotlib.axis_8\"/>\n",
       "   <g id=\"patch_18\">\n",
       "    <path d=\"M 277.2 98.47875 \n",
       "L 277.2 19.27875 \n",
       "\" style=\"fill: none; stroke: #000000; stroke-width: 0.8; stroke-linejoin: miter; stroke-linecap: square\"/>\n",
       "   </g>\n",
       "   <g id=\"patch_19\">\n",
       "    <path d=\"M 356.4 98.47875 \n",
       "L 356.4 19.27875 \n",
       "\" style=\"fill: none; stroke: #000000; stroke-width: 0.8; stroke-linejoin: miter; stroke-linecap: square\"/>\n",
       "   </g>\n",
       "   <g id=\"patch_20\">\n",
       "    <path d=\"M 277.2 98.47875 \n",
       "L 356.4 98.47875 \n",
       "\" style=\"fill: none; stroke: #000000; stroke-width: 0.8; stroke-linejoin: miter; stroke-linecap: square\"/>\n",
       "   </g>\n",
       "   <g id=\"patch_21\">\n",
       "    <path d=\"M 277.2 19.27875 \n",
       "L 356.4 19.27875 \n",
       "\" style=\"fill: none; stroke: #000000; stroke-width: 0.8; stroke-linejoin: miter; stroke-linecap: square\"/>\n",
       "   </g>\n",
       "  </g>\n",
       "  <g id=\"axes_5\">\n",
       "   <g id=\"patch_22\">\n",
       "    <path d=\"M 367.2 98.47875 \n",
       "L 446.4 98.47875 \n",
       "L 446.4 19.27875 \n",
       "L 367.2 19.27875 \n",
       "z\n",
       "\" style=\"fill: #ffffff\"/>\n",
       "   </g>\n",
       "   <g clip-path=\"url(#pf73e85fd78)\">\n",
       "    <image xlink:href=\"data:image/png;base64,\n",
       "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\" id=\"imageac8aacd875\" transform=\"scale(1 -1) translate(0 -79.2)\" x=\"367.2\" y=\"-19.27875\" width=\"79.2\" height=\"79.2\"/>\n",
       "   </g>\n",
       "   <g id=\"matplotlib.axis_9\"/>\n",
       "   <g id=\"matplotlib.axis_10\"/>\n",
       "   <g id=\"patch_23\">\n",
       "    <path d=\"M 367.2 98.47875 \n",
       "L 367.2 19.27875 \n",
       "\" style=\"fill: none; stroke: #000000; stroke-width: 0.8; stroke-linejoin: miter; stroke-linecap: square\"/>\n",
       "   </g>\n",
       "   <g id=\"patch_24\">\n",
       "    <path d=\"M 446.4 98.47875 \n",
       "L 446.4 19.27875 \n",
       "\" style=\"fill: none; stroke: #000000; stroke-width: 0.8; stroke-linejoin: miter; stroke-linecap: square\"/>\n",
       "   </g>\n",
       "   <g id=\"patch_25\">\n",
       "    <path d=\"M 367.2 98.47875 \n",
       "L 446.4 98.47875 \n",
       "\" style=\"fill: none; stroke: #000000; stroke-width: 0.8; stroke-linejoin: miter; stroke-linecap: square\"/>\n",
       "   </g>\n",
       "   <g id=\"patch_26\">\n",
       "    <path d=\"M 367.2 19.27875 \n",
       "L 446.4 19.27875 \n",
       "\" style=\"fill: none; stroke: #000000; stroke-width: 0.8; stroke-linejoin: miter; stroke-linecap: square\"/>\n",
       "   </g>\n",
       "  </g>\n",
       " </g>\n",
       " <defs>\n",
       "  <clipPath id=\"pfbae63b456\">\n",
       "   <rect x=\"7.2\" y=\"19.27875\" width=\"79.2\" height=\"79.2\"/>\n",
       "  </clipPath>\n",
       "  <clipPath id=\"pefce2b8028\">\n",
       "   <rect x=\"97.2\" y=\"19.27875\" width=\"79.2\" height=\"79.2\"/>\n",
       "  </clipPath>\n",
       "  <clipPath id=\"p81a47be60d\">\n",
       "   <rect x=\"187.2\" y=\"19.27875\" width=\"79.2\" height=\"79.2\"/>\n",
       "  </clipPath>\n",
       "  <clipPath id=\"pc34acccfa7\">\n",
       "   <rect x=\"277.2\" y=\"19.27875\" width=\"79.2\" height=\"79.2\"/>\n",
       "  </clipPath>\n",
       "  <clipPath id=\"pf73e85fd78\">\n",
       "   <rect x=\"367.2\" y=\"19.27875\" width=\"79.2\" height=\"79.2\"/>\n",
       "  </clipPath>\n",
       " </defs>\n",
       "</svg>\n"
      ],
      "text/plain": [
       "<Figure size 640x480 with 5 Axes>"
      ]
     },
     "metadata": {},
     "output_type": "display_data"
    }
   ],
   "source": [
    "transformed_train = [transforms_2(orig_img) for _ in range(4)]\n",
    "plot(transformed_train)"
   ]
  },
  {
   "cell_type": "markdown",
   "metadata": {},
   "source": [
    "### Dane wejściowe"
   ]
  },
  {
   "cell_type": "code",
   "execution_count": 11,
   "metadata": {},
   "outputs": [],
   "source": [
    "train_transforms = transforms.Compose([\n",
    "    transforms.PILToTensor(),\n",
    "    transforms.Resize(size=(256, 256)),\n",
    "    transforms.ConvertImageDtype(torch.float),\n",
    "    transforms.RandomHorizontalFlip()\n",
    "])\n",
    "\n",
    "type_transforms = transforms.Compose([\n",
    "    transforms.PILToTensor(),\n",
    "    transforms.Resize(size=(256, 256)),\n",
    "    transforms.ConvertImageDtype(torch.float),\n",
    "])"
   ]
  },
  {
   "cell_type": "code",
   "execution_count": 12,
   "metadata": {},
   "outputs": [],
   "source": [
    "train_dataset = Flowers102(root=DATASET_PATH, \n",
    "                           split='test',\n",
    "                           transform=train_transforms,\n",
    "                           download=True)\n",
    "test_dataset = Flowers102(root=DATASET_PATH, \n",
    "                           split='train',\n",
    "                           transform=type_transforms,\n",
    "                           download=True)\n",
    "val_dataset = Flowers102(root=DATASET_PATH, \n",
    "                           split='val',\n",
    "                           transform=type_transforms,\n",
    "                           download=True)"
   ]
  },
  {
   "cell_type": "markdown",
   "metadata": {},
   "source": [
    "Warto zawsze zbadać dane po zastosowanych transformacjach, żeby nawet na oko zobaczyć czy wartości mają sens. "
   ]
  },
  {
   "cell_type": "code",
   "execution_count": 13,
   "metadata": {},
   "outputs": [
    {
     "data": {
      "text/plain": [
       "tensor([[0.0039, 0.0196, 0.0784,  ..., 0.2118, 0.2392, 0.2314],\n",
       "        [0.0039, 0.0275, 0.0784,  ..., 0.2392, 0.2353, 0.2314],\n",
       "        [0.0039, 0.0275, 0.0549,  ..., 0.2471, 0.2392, 0.2392],\n",
       "        ...,\n",
       "        [0.0039, 0.0039, 0.0000,  ..., 0.0392, 0.0392, 0.0353],\n",
       "        [0.0078, 0.0039, 0.0039,  ..., 0.0431, 0.0353, 0.0314],\n",
       "        [0.0078, 0.0039, 0.0039,  ..., 0.0431, 0.0353, 0.0314]])"
      ]
     },
     "execution_count": 13,
     "metadata": {},
     "output_type": "execute_result"
    }
   ],
   "source": [
    "for img, label in train_dataset:\n",
    "    break \n",
    "img[0]"
   ]
  },
  {
   "cell_type": "code",
   "execution_count": 14,
   "metadata": {},
   "outputs": [
    {
     "name": "stdout",
     "output_type": "stream",
     "text": [
      "6149\n",
      "1020\n",
      "1020\n"
     ]
    }
   ],
   "source": [
    "print(len(train_dataset))\n",
    "print(len(test_dataset))\n",
    "print(len(val_dataset))"
   ]
  },
  {
   "cell_type": "code",
   "execution_count": 15,
   "metadata": {},
   "outputs": [
    {
     "name": "stdout",
     "output_type": "stream",
     "text": [
      "Help on Flowers102 in module torchvision.datasets.flowers102 object:\n",
      "\n",
      "class Flowers102(torchvision.datasets.vision.VisionDataset)\n",
      " |  Flowers102(root: Union[str, pathlib.Path], split: str = 'train', transform: Optional[Callable] = None, target_transform: Optional[Callable] = None, download: bool = False) -> None\n",
      " |  \n",
      " |  `Oxford 102 Flower <https://www.robots.ox.ac.uk/~vgg/data/flowers/102/>`_ Dataset.\n",
      " |  \n",
      " |  .. warning::\n",
      " |  \n",
      " |      This class needs `scipy <https://docs.scipy.org/doc/>`_ to load target files from `.mat` format.\n",
      " |  \n",
      " |  Oxford 102 Flower is an image classification dataset consisting of 102 flower categories. The\n",
      " |  flowers were chosen to be flowers commonly occurring in the United Kingdom. Each class consists of\n",
      " |  between 40 and 258 images.\n",
      " |  \n",
      " |  The images have large scale, pose and light variations. In addition, there are categories that\n",
      " |  have large variations within the category, and several very similar categories.\n",
      " |  \n",
      " |  Args:\n",
      " |      root (str or ``pathlib.Path``): Root directory of the dataset.\n",
      " |      split (string, optional): The dataset split, supports ``\"train\"`` (default), ``\"val\"``, or ``\"test\"``.\n",
      " |      transform (callable, optional): A function/transform that takes in a PIL image and returns a\n",
      " |          transformed version. E.g, ``transforms.RandomCrop``.\n",
      " |      target_transform (callable, optional): A function/transform that takes in the target and transforms it.\n",
      " |      download (bool, optional): If true, downloads the dataset from the internet and\n",
      " |          puts it in root directory. If dataset is already downloaded, it is not\n",
      " |          downloaded again.\n",
      " |  \n",
      " |  Method resolution order:\n",
      " |      Flowers102\n",
      " |      torchvision.datasets.vision.VisionDataset\n",
      " |      torch.utils.data.dataset.Dataset\n",
      " |      typing.Generic\n",
      " |      builtins.object\n",
      " |  \n",
      " |  Methods defined here:\n",
      " |  \n",
      " |  __getitem__(self, idx: int) -> Tuple[Any, Any]\n",
      " |      Args:\n",
      " |          index (int): Index\n",
      " |      \n",
      " |      Returns:\n",
      " |          (Any): Sample and meta data, optionally transformed by the respective transforms.\n",
      " |  \n",
      " |  __init__(self, root: Union[str, pathlib.Path], split: str = 'train', transform: Optional[Callable] = None, target_transform: Optional[Callable] = None, download: bool = False) -> None\n",
      " |      Initialize self.  See help(type(self)) for accurate signature.\n",
      " |  \n",
      " |  __len__(self) -> int\n",
      " |  \n",
      " |  download(self)\n",
      " |  \n",
      " |  extra_repr(self) -> str\n",
      " |  \n",
      " |  ----------------------------------------------------------------------\n",
      " |  Data and other attributes defined here:\n",
      " |  \n",
      " |  __annotations__ = {}\n",
      " |  \n",
      " |  __parameters__ = ()\n",
      " |  \n",
      " |  ----------------------------------------------------------------------\n",
      " |  Methods inherited from torchvision.datasets.vision.VisionDataset:\n",
      " |  \n",
      " |  __repr__(self) -> str\n",
      " |      Return repr(self).\n",
      " |  \n",
      " |  ----------------------------------------------------------------------\n",
      " |  Methods inherited from torch.utils.data.dataset.Dataset:\n",
      " |  \n",
      " |  __add__(self, other: 'Dataset[_T_co]') -> 'ConcatDataset[_T_co]'\n",
      " |  \n",
      " |  ----------------------------------------------------------------------\n",
      " |  Data descriptors inherited from torch.utils.data.dataset.Dataset:\n",
      " |  \n",
      " |  __dict__\n",
      " |      dictionary for instance variables (if defined)\n",
      " |  \n",
      " |  __weakref__\n",
      " |      list of weak references to the object (if defined)\n",
      " |  \n",
      " |  ----------------------------------------------------------------------\n",
      " |  Data and other attributes inherited from torch.utils.data.dataset.Dataset:\n",
      " |  \n",
      " |  __orig_bases__ = (typing.Generic[+_T_co],)\n",
      " |  \n",
      " |  ----------------------------------------------------------------------\n",
      " |  Class methods inherited from typing.Generic:\n",
      " |  \n",
      " |  __class_getitem__(params) from builtins.type\n",
      " |  \n",
      " |  __init_subclass__(*args, **kwargs) from builtins.type\n",
      " |      This method is called when a class is subclassed.\n",
      " |      \n",
      " |      The default implementation does nothing. It may be\n",
      " |      overridden to extend subclasses.\n",
      "\n"
     ]
    }
   ],
   "source": [
    "help(train_dataset)"
   ]
  },
  {
   "cell_type": "code",
   "execution_count": 16,
   "metadata": {},
   "outputs": [],
   "source": [
    "def concat_imgs(dataset, n=None):\n",
    "    n = n or len(dataset)\n",
    "    imgs = [dataset[i][0][None, ...] for i in range(n)]\n",
    "    data = torch.concatenate(imgs)\n",
    "    return data\n",
    "\n",
    "def retrieve_labels(dataset, n=None):\n",
    "    n = n or len(dataset)\n",
    "    labels = [dataset[i][1] for i in range(n)]\n",
    "    data = torch.tensor(labels)\n",
    "    return data"
   ]
  },
  {
   "cell_type": "markdown",
   "metadata": {},
   "source": [
    "### Jak ustalić optymalny rozmiar batch'a?\n",
    "\n",
    "Mamy 3 tryby:\n",
    "- batch : cały zbiór danych\n",
    "- mini-batch: część zbioru danych\n",
    "- stochastic: 1 próbka \n",
    "\n",
    "Który tryb jest najlepszy? \n",
    "Gdy mamy tryb 'batch', lub ogólnie duży rozmiar batcha (> 200), to czas aktualizacji parametrów dla jednej iteracji się zwiększa, a więc alogrytm zbiega powoli. Trzeba też zauważyć, że nie do końca musimy dokładnie iść w kierunku spadku gradientu, bo jest to kierunek optymalny tylko lokalnie. Lepiej więc wybrać próbkę danych, bo możemy skorzystać wtedy z wektoryzacji. Gdy mamy tryb stochastyczny, to nie możemy z tej wektoryzacji skorzystać, no i pojawia się problem dużego szumu. Ogólnie jednak wybór rozmiaru próbki wpływa na *czas trenowania* i nie za bardzo na *błąd na danych testowych*.\n",
    "\n",
    "Gdy używacie lightning, to może być ciekawe: [batch-size-finder](https://lightning.ai/docs/pytorch/stable/advanced/training_tricks.html#batch-size-finder)"
   ]
  },
  {
   "cell_type": "code",
   "execution_count": 17,
   "metadata": {},
   "outputs": [],
   "source": [
    "train_loader = data.DataLoader(train_dataset, batch_size=64, shuffle=True, num_workers=4)\n",
    "test_loader = data.DataLoader(test_dataset, batch_size=64, shuffle=False)\n",
    "val_loader = data.DataLoader(val_dataset, batch_size=64, shuffle=False)"
   ]
  },
  {
   "cell_type": "markdown",
   "metadata": {},
   "source": [
    "## Sieć konwolucyjna"
   ]
  },
  {
   "cell_type": "markdown",
   "metadata": {},
   "source": [
    "### Pojedyncza warstwa konwolucyjna\n",
    "Jest to nasz pojedyczny 'klocek' budulcowy do całej sieci neuronowej"
   ]
  },
  {
   "cell_type": "code",
   "execution_count": 18,
   "metadata": {},
   "outputs": [],
   "source": [
    "class ConvLayer(nn.Module):\n",
    "\n",
    "    def __init__(self, in_channels, out_channels, kernel=(2, 2), stride=(1, 1), padding=0, \n",
    "                 pooling=None, batch_norm=True, activ=nn.ReLU):\n",
    "        super(ConvLayer, self).__init__()\n",
    "        layers = [\n",
    "            nn.Conv2d(in_channels, out_channels, kernel, stride=stride,\n",
    "                            padding=padding)\n",
    "        ]\n",
    "\n",
    "        if pooling:\n",
    "           layers.append(nn.MaxPool2d(kernel_size=pooling)) \n",
    "\n",
    "        # batch normalization idzie przed funkcją aktywacji\n",
    "        if batch_norm:\n",
    "            layers.append(nn.BatchNorm2d(out_channels))\n",
    "\n",
    "        if activ:\n",
    "            layers.append(activ())\n",
    "        \n",
    "        self.layers = nn.Sequential(*layers)\n",
    "\n",
    "\n",
    "    def forward(self, x):\n",
    "        return self.layers(x)"
   ]
  },
  {
   "cell_type": "code",
   "execution_count": 19,
   "metadata": {},
   "outputs": [],
   "source": [
    "X = torch.rand(1, 3, 4, 4)  # C, W, H"
   ]
  },
  {
   "cell_type": "code",
   "execution_count": 20,
   "metadata": {},
   "outputs": [
    {
     "data": {
      "text/plain": [
       "torch.Size([1, 16, 3, 3])"
      ]
     },
     "execution_count": 20,
     "metadata": {},
     "output_type": "execute_result"
    }
   ],
   "source": [
    "conv = ConvLayer(in_channels=3, out_channels=16)\n",
    "conv(X).shape"
   ]
  },
  {
   "cell_type": "code",
   "execution_count": 21,
   "metadata": {},
   "outputs": [
    {
     "data": {
      "text/plain": [
       "torch.Size([1, 16, 4, 4])"
      ]
     },
     "execution_count": 21,
     "metadata": {},
     "output_type": "execute_result"
    }
   ],
   "source": [
    "conv = ConvLayer(in_channels=3, out_channels=16, padding=2, stride=2) \n",
    "conv(X).shape"
   ]
  },
  {
   "cell_type": "code",
   "execution_count": 22,
   "metadata": {},
   "outputs": [
    {
     "data": {
      "text/plain": [
       "torch.Size([1, 16, 2, 2])"
      ]
     },
     "execution_count": 22,
     "metadata": {},
     "output_type": "execute_result"
    }
   ],
   "source": [
    "conv = ConvLayer(in_channels=3, out_channels=16, padding=2, stride=2, pooling=2) \n",
    "conv(X).shape"
   ]
  },
  {
   "cell_type": "markdown",
   "metadata": {},
   "source": [
    "#### Sieć neuronowa "
   ]
  },
  {
   "cell_type": "code",
   "execution_count": 23,
   "metadata": {},
   "outputs": [],
   "source": [
    "class BaseCNN(nn.Module):\n",
    "\n",
    "    def __init__(self, conv_layers: List[ConvLayer], linear_layers: List[nn.Linear], act_fun = nn.ReLU):\n",
    "        super(BaseCNN, self).__init__()\n",
    "        self.conv_layers = nn.Sequential(*conv_layers)\n",
    "        self.lin_layers = nn.ModuleList(linear_layers)\n",
    "        self.act_fun = act_fun()\n",
    "\n",
    "\n",
    "    def forward(self, x):\n",
    "        x = self.conv_layers(x)\n",
    "        x = x.view(x.shape[0], -1)\n",
    "        for lin_layer in self.lin_layers[:-1]:\n",
    "            x = self.act_fun(lin_layer(x))\n",
    "        # Po ostatniej warstwie nie dodajemy już funkcji aktywacji bo chcemy, żeby sieć zwracała logit'y\n",
    "        x = self.lin_layers[-1](x)\n",
    "        return x"
   ]
  },
  {
   "cell_type": "code",
   "execution_count": 24,
   "metadata": {},
   "outputs": [],
   "source": [
    "def compute_dim(d_in, padding, kernel, stride, pooling=1):\n",
    "    return (int((d_in + 2 * padding - (kernel - 1) - 1) / stride) + 1) // pooling"
   ]
  },
  {
   "cell_type": "code",
   "execution_count": 25,
   "metadata": {},
   "outputs": [
    {
     "name": "stdout",
     "output_type": "stream",
     "text": [
      "d_1 =  256\n",
      "d_2 =  128\n",
      "d_3 =  64\n",
      "d_4 =  32\n",
      "d_5 =  8\n",
      "d_6 =  2\n"
     ]
    }
   ],
   "source": [
    "d_1 = compute_dim(d_in=256, padding=1, kernel=3, stride=1)\n",
    "print(f\"d_1 = \", d_1)\n",
    "d_2 = compute_dim(d_in=d_1, padding=1, kernel=3, stride=2)\n",
    "print(f\"d_2 = \", d_2)\n",
    "d_3 = compute_dim(d_in=d_2, padding=1, kernel=3, stride=2)\n",
    "print(f\"d_3 = \", d_3)\n",
    "d_4 = compute_dim(d_in=d_3, padding=1, kernel=3, stride=1, pooling=2)\n",
    "print(f\"d_4 = \", d_4)\n",
    "d_5 = compute_dim(d_in=d_4, padding=1, kernel=3, stride=2, pooling=2)\n",
    "print(f\"d_5 = \", d_5)\n",
    "d_6 = compute_dim(d_in=d_5, padding=1, kernel=3, stride=2, pooling=2)\n",
    "print(f\"d_6 = \", d_6)"
   ]
  },
  {
   "cell_type": "markdown",
   "metadata": {},
   "source": [
    "### Wszystkie warstwy modelu\n",
    "Ostateczny model będzie się składał z warstw konwolucyjnych, a na końcu z warstw liniowych. Wszystkie rozmiary muszą się zgadzać, więc dobrze jest to sobie poobliczać np. z użyciem powyższych funkcji"
   ]
  },
  {
   "cell_type": "code",
   "execution_count": 26,
   "metadata": {},
   "outputs": [],
   "source": [
    "conv_layers = [\n",
    "    ConvLayer(3, 32, 3, padding=1, stride=1, batch_norm=True),  # C, W, H = ()\n",
    "    ConvLayer(32, 64, 3, padding=1, stride=2, batch_norm=True),\n",
    "    ConvLayer(64, 64, 3, padding=1, stride=2, batch_norm=True),\n",
    "    ConvLayer(64, 128, 3, padding=1, stride=1, pooling=2, batch_norm=True),\n",
    "    ConvLayer(128, 256, 3, padding=1, stride=2, pooling=2, batch_norm=True),\n",
    "    ConvLayer(256, 256, 3, padding=1, stride=2, pooling=2, batch_norm=True)\n",
    "]\n",
    "\n",
    "input_dim = 256 * 2 * 2 # C x W x H\n",
    "n_classes = 102\n",
    "\n",
    "linear_layers = [\n",
    "    nn.Linear(input_dim, 1024), nn.Linear(1024, 512), nn.Linear(512, n_classes)\n",
    "]"
   ]
  },
  {
   "cell_type": "markdown",
   "metadata": {},
   "source": [
    "### LightningModule\n",
    "Nie jest siecią samą w sobie, ale nakładką na nią. Standardowo nadpisujemy funkcje które są obecne poniżej, ale w ofercie jest ich o wiele więcej. \n",
    "\n",
    "#### Jak dobrać parametry uczenia?\n",
    "\n",
    "*Współczynnik uczenia* - zwykle najważniejszy hiperparametr i jeśli możemy dostosować jeden hiperparamet, to warto właśnie ten. Dla ustandaryzowanych wejść (albo z zakresu (0, 1)) 'dobre' wartości są w przedziale [$10^{-6}$, $1$]. Domyślne $0.01$ typowo działa, ale warto też wypróbować inne wartości. \n",
    "\n",
    "Współczynnik uczenia może ulegać zmianom w trakcie uczenia, np:\n",
    "- $lr_{t}$ ~ $\\frac{1}{t}$\n",
    "- $lr_{t}$ ~ $\\frac{1}{max(\\tau, t)}$\n",
    "\n",
    "\n",
    "Algorytm optymalizujący odpowiada za zmiany wartości parametrów w trakcie uczenia:\n",
    "- **SGD**: $w = w - lr \\times g_t$\n",
    "- **Adagrad**: $w = w - \\frac{lr}{\\sqrt{G_t}} \\times g_t$, $G_t$ to akumulowany gradient\n",
    "- **Adam**: popularny wybór, mocno uguntowany teoretycznie (rekomendowane wtedy $lr = 10^{-3}$)"
   ]
  },
  {
   "cell_type": "code",
   "execution_count": 65,
   "metadata": {},
   "outputs": [],
   "source": [
    "from torchmetrics.classification import Accuracy\n",
    "\n",
    "class CNN(pl.LightningModule):\n",
    "\n",
    "    def __init__(self, cnn, lr=1e-3, optim_alg=torch.optim.Adam):\n",
    "        super().__init__()\n",
    "        self.cnn = cnn \n",
    "        self.lr = lr \n",
    "        self.optim_alg = optim_alg\n",
    "        self.metric = Accuracy(task=\"multiclass\", num_classes=102)\n",
    "\n",
    "    def forward(self, x):\n",
    "        return self.cnn(x)\n",
    "\n",
    "    def training_step(self, batch, batch_idx):\n",
    "        x, y = batch\n",
    "        predictions = self(x)\n",
    "        loss = F.cross_entropy(predictions, y)\n",
    "        self.log('train_loss', loss, prog_bar=True, sync_dist=True, on_epoch=True)\n",
    "        train_acc = self.metric(predictions, y)\n",
    "        self.log('train_acc', train_acc, prog_bar=True, sync_dist=True, on_epoch=True)\n",
    "        return {'loss': loss}\n",
    "\n",
    "    def validation_step(self, batch, batch_idx):\n",
    "        x, y = batch\n",
    "        predictions = self(x)\n",
    "        loss = F.cross_entropy(predictions, y)\n",
    "        self.log('val_loss', loss, prog_bar=True, sync_dist=True, on_epoch=True)\n",
    "        val_acc = self.metric(predictions, y)\n",
    "        self.log('val_acc', val_acc, prog_bar=True, sync_dist=True, on_epoch=True)\n",
    "        return {'val_loss': loss}\n",
    "\n",
    "    def predict_step(self, batch, batch_idx, dataloader_idx=0):\n",
    "        x, _ = batch\n",
    "        predictions = self(x)\n",
    "        predicted_labels = torch.argmax(predictions, dim=-1)\n",
    "        return predicted_labels\n",
    "\n",
    "    def configure_optimizers(self):\n",
    "        # W przypadku skomplikowanych modeli można dodać więcej optymizatorów\n",
    "        optimizer = self.optim_alg(self.parameters(), lr=self.lr)\n",
    "        return optimizer\n"
   ]
  },
  {
   "cell_type": "code",
   "execution_count": 66,
   "metadata": {},
   "outputs": [],
   "source": [
    "base_cnn = BaseCNN(conv_layers=conv_layers, linear_layers=linear_layers)\n",
    "\n",
    "cnn = CNN(base_cnn)"
   ]
  },
  {
   "cell_type": "markdown",
   "metadata": {},
   "source": [
    "Warto zauważyć bottleneck między przejściem z sieci konwolucyjnych do sieci liniowej - jest to miejsce gdzie będzie zwykle najwięcej parametrów"
   ]
  },
  {
   "cell_type": "code",
   "execution_count": 67,
   "metadata": {},
   "outputs": [
    {
     "name": "stdout",
     "output_type": "stream",
     "text": [
      "----------------------------------------------------------------\n",
      "        Layer (type)               Output Shape         Param #\n",
      "================================================================\n",
      "            Conv2d-1         [-1, 32, 256, 256]             896\n",
      "              ReLU-2         [-1, 32, 256, 256]               0\n",
      "       BatchNorm2d-3         [-1, 32, 256, 256]              64\n",
      "         ConvLayer-4         [-1, 32, 256, 256]               0\n",
      "            Conv2d-5         [-1, 64, 128, 128]          18,496\n",
      "              ReLU-6         [-1, 64, 128, 128]               0\n",
      "       BatchNorm2d-7         [-1, 64, 128, 128]             128\n",
      "         ConvLayer-8         [-1, 64, 128, 128]               0\n",
      "            Conv2d-9           [-1, 64, 64, 64]          36,928\n",
      "             ReLU-10           [-1, 64, 64, 64]               0\n",
      "      BatchNorm2d-11           [-1, 64, 64, 64]             128\n",
      "        ConvLayer-12           [-1, 64, 64, 64]               0\n",
      "           Conv2d-13          [-1, 128, 64, 64]          73,856\n",
      "        MaxPool2d-14          [-1, 128, 32, 32]               0\n",
      "             ReLU-15          [-1, 128, 32, 32]               0\n",
      "      BatchNorm2d-16          [-1, 128, 32, 32]             256\n",
      "        ConvLayer-17          [-1, 128, 32, 32]               0\n",
      "           Conv2d-18          [-1, 256, 16, 16]         295,168\n",
      "        MaxPool2d-19            [-1, 256, 8, 8]               0\n",
      "             ReLU-20            [-1, 256, 8, 8]               0\n",
      "      BatchNorm2d-21            [-1, 256, 8, 8]             512\n",
      "        ConvLayer-22            [-1, 256, 8, 8]               0\n",
      "           Conv2d-23            [-1, 256, 4, 4]         590,080\n",
      "        MaxPool2d-24            [-1, 256, 2, 2]               0\n",
      "             ReLU-25            [-1, 256, 2, 2]               0\n",
      "      BatchNorm2d-26            [-1, 256, 2, 2]             512\n",
      "        ConvLayer-27            [-1, 256, 2, 2]               0\n",
      "           Linear-28                 [-1, 1024]       1,049,600\n",
      "             ReLU-29                 [-1, 1024]               0\n",
      "           Linear-30                  [-1, 512]         524,800\n",
      "             ReLU-31                  [-1, 512]               0\n",
      "           Linear-32                  [-1, 102]          52,326\n",
      "          BaseCNN-33                  [-1, 102]               0\n",
      "================================================================\n",
      "Total params: 2,643,750\n",
      "Trainable params: 2,643,750\n",
      "Non-trainable params: 0\n",
      "----------------------------------------------------------------\n",
      "Input size (MB): 0.75\n",
      "Forward/backward pass size (MB): 113.09\n",
      "Params size (MB): 10.09\n",
      "Estimated Total Size (MB): 123.92\n",
      "----------------------------------------------------------------\n"
     ]
    }
   ],
   "source": [
    "summary(model=cnn, input_size=(3, 256, 256), device='cpu')"
   ]
  },
  {
   "cell_type": "markdown",
   "metadata": {},
   "source": [
    "### Przygotowanie do trenowania"
   ]
  },
  {
   "cell_type": "markdown",
   "metadata": {},
   "source": [
    "#### Jak dobrać liczbę epok?\n",
    "Tutaj zwykle problemu unikniemy używając techniki *EarlyStopping*, która śledzi wybraną metrykę (na zbiorze walidacyjnym!) i jeśli przez n epok się ona nie poprawia, to zatrzymujemy trenowanie. Jeśli jednak dopiero eksperymentujemy, dobieramy parametry czy architekturę, to lepiej jest po prostu trenować przez daną liczbę epok, bez wcześniejszego przerywania, bo wtedy możemy porównać te modele.\n",
    "\n",
    "Ważne jest obserwowanie *krzywych uczenia* dla zbioru treningowego i walidacyjnego [generalization gap](https://mlstory.org/generalization.html), [bias-variance](https://mlu-explain.github.io/bias-variance/). "
   ]
  },
  {
   "cell_type": "code",
   "execution_count": 68,
   "metadata": {},
   "outputs": [],
   "source": [
    "checkpoint_dir = Path(f'../models')\n",
    "os.makedirs(checkpoint_dir, exist_ok=True)\n",
    "model_name = 'cnn-1'\n",
    "checkpoint_callback = pl.callbacks.ModelCheckpoint(dirpath=checkpoint_dir / model_name, filename='{epoch}-{val_loss:.2f}-{train_loss:.2f}', \n",
    "                                      monitor='val_loss', save_last=True) \n",
    "early_stopping = pl.callbacks.EarlyStopping(monitor='val_loss', verbose=True)\n",
    "max_epochs = 25"
   ]
  },
  {
   "cell_type": "code",
   "execution_count": 69,
   "metadata": {},
   "outputs": [
    {
     "name": "stderr",
     "output_type": "stream",
     "text": [
      "GPU available: True (cuda), used: True\n",
      "TPU available: False, using: 0 TPU cores\n",
      "HPU available: False, using: 0 HPUs\n",
      "Running in `fast_dev_run` mode: will run the requested loop using 1 batch(es). Logging and checkpointing is suppressed.\n",
      "c:\\Users\\julia\\anaconda3\\envs\\plant-traits\\lib\\site-packages\\pytorch_lightning\\callbacks\\model_checkpoint.py:654: Checkpoint directory C:\\Users\\julia\\VSCode\\PlantTraits2024\\models\\cnn-1 exists and is not empty.\n",
      "LOCAL_RANK: 0 - CUDA_VISIBLE_DEVICES: [0]\n",
      "\n",
      "  | Name   | Type               | Params | Mode \n",
      "------------------------------------------------------\n",
      "0 | cnn    | BaseCNN            | 2.6 M  | train\n",
      "1 | metric | MulticlassAccuracy | 0      | train\n",
      "------------------------------------------------------\n",
      "2.6 M     Trainable params\n",
      "0         Non-trainable params\n",
      "2.6 M     Total params\n",
      "10.575    Total estimated model params size (MB)\n",
      "5         Modules in train mode\n",
      "36        Modules in eval mode\n",
      "c:\\Users\\julia\\anaconda3\\envs\\plant-traits\\lib\\site-packages\\pytorch_lightning\\trainer\\connectors\\data_connector.py:419: Consider setting `persistent_workers=True` in 'train_dataloader' to speed up the dataloader worker initialization.\n",
      "c:\\Users\\julia\\anaconda3\\envs\\plant-traits\\lib\\site-packages\\pytorch_lightning\\trainer\\connectors\\data_connector.py:424: The 'val_dataloader' does not have many workers which may be a bottleneck. Consider increasing the value of the `num_workers` argument` to `num_workers=15` in the `DataLoader` to improve performance.\n"
     ]
    },
    {
     "data": {
      "application/vnd.jupyter.widget-view+json": {
       "model_id": "0a229d00911647dab3eafa11c6ada72c",
       "version_major": 2,
       "version_minor": 0
      },
      "text/plain": [
       "Training: |          | 0/? [00:00<?, ?it/s]"
      ]
     },
     "metadata": {},
     "output_type": "display_data"
    },
    {
     "data": {
      "application/vnd.jupyter.widget-view+json": {
       "model_id": "36dccb0c9db6416980f36f26aedbbe1d",
       "version_major": 2,
       "version_minor": 0
      },
      "text/plain": [
       "Validation: |          | 0/? [00:00<?, ?it/s]"
      ]
     },
     "metadata": {},
     "output_type": "display_data"
    },
    {
     "name": "stderr",
     "output_type": "stream",
     "text": [
      "`Trainer.fit` stopped: `max_steps=1` reached.\n"
     ]
    }
   ],
   "source": [
    "trainer = pl.Trainer(max_epochs=max_epochs, \n",
    "                     default_root_dir=checkpoint_dir / model_name, \n",
    "                     fast_dev_run=True, # True dla szybkiego przebiegu sprawdzającego, czy wszystkie warstwy są poprawne itd.\n",
    "                     callbacks=[checkpoint_callback]\n",
    "                     )\n",
    "\n",
    "trainer.fit(cnn, train_loader, val_loader)"
   ]
  },
  {
   "cell_type": "markdown",
   "metadata": {},
   "source": [
    "#### Ewaluacja"
   ]
  },
  {
   "cell_type": "code",
   "execution_count": 32,
   "metadata": {},
   "outputs": [
    {
     "name": "stderr",
     "output_type": "stream",
     "text": [
      "GPU available: True (cuda), used: True\n",
      "TPU available: False, using: 0 TPU cores\n",
      "HPU available: False, using: 0 HPUs\n"
     ]
    },
    {
     "data": {
      "text/plain": [
       "CNN(\n",
       "  (cnn): BaseCNN(\n",
       "    (conv_layers): Sequential(\n",
       "      (0): ConvLayer(\n",
       "        (layers): Sequential(\n",
       "          (0): Conv2d(3, 32, kernel_size=(3, 3), stride=(1, 1), padding=(1, 1))\n",
       "          (1): ReLU()\n",
       "          (2): BatchNorm2d(32, eps=1e-05, momentum=0.1, affine=True, track_running_stats=True)\n",
       "        )\n",
       "      )\n",
       "      (1): ConvLayer(\n",
       "        (layers): Sequential(\n",
       "          (0): Conv2d(32, 64, kernel_size=(3, 3), stride=(2, 2), padding=(1, 1))\n",
       "          (1): ReLU()\n",
       "          (2): BatchNorm2d(64, eps=1e-05, momentum=0.1, affine=True, track_running_stats=True)\n",
       "        )\n",
       "      )\n",
       "      (2): ConvLayer(\n",
       "        (layers): Sequential(\n",
       "          (0): Conv2d(64, 64, kernel_size=(3, 3), stride=(2, 2), padding=(1, 1))\n",
       "          (1): ReLU()\n",
       "          (2): BatchNorm2d(64, eps=1e-05, momentum=0.1, affine=True, track_running_stats=True)\n",
       "        )\n",
       "      )\n",
       "      (3): ConvLayer(\n",
       "        (layers): Sequential(\n",
       "          (0): Conv2d(64, 128, kernel_size=(3, 3), stride=(1, 1), padding=(1, 1))\n",
       "          (1): MaxPool2d(kernel_size=2, stride=2, padding=0, dilation=1, ceil_mode=False)\n",
       "          (2): ReLU()\n",
       "          (3): BatchNorm2d(128, eps=1e-05, momentum=0.1, affine=True, track_running_stats=True)\n",
       "        )\n",
       "      )\n",
       "      (4): ConvLayer(\n",
       "        (layers): Sequential(\n",
       "          (0): Conv2d(128, 256, kernel_size=(3, 3), stride=(2, 2), padding=(1, 1))\n",
       "          (1): MaxPool2d(kernel_size=2, stride=2, padding=0, dilation=1, ceil_mode=False)\n",
       "          (2): ReLU()\n",
       "          (3): BatchNorm2d(256, eps=1e-05, momentum=0.1, affine=True, track_running_stats=True)\n",
       "        )\n",
       "      )\n",
       "      (5): ConvLayer(\n",
       "        (layers): Sequential(\n",
       "          (0): Conv2d(256, 256, kernel_size=(3, 3), stride=(2, 2), padding=(1, 1))\n",
       "          (1): MaxPool2d(kernel_size=2, stride=2, padding=0, dilation=1, ceil_mode=False)\n",
       "          (2): ReLU()\n",
       "          (3): BatchNorm2d(256, eps=1e-05, momentum=0.1, affine=True, track_running_stats=True)\n",
       "        )\n",
       "      )\n",
       "    )\n",
       "    (lin_layers): ModuleList(\n",
       "      (0): Linear(in_features=1024, out_features=1024, bias=True)\n",
       "      (1): Linear(in_features=1024, out_features=512, bias=True)\n",
       "      (2): Linear(in_features=512, out_features=102, bias=True)\n",
       "    )\n",
       "    (act_fun): ReLU()\n",
       "  )\n",
       ")"
      ]
     },
     "execution_count": 32,
     "metadata": {},
     "output_type": "execute_result"
    }
   ],
   "source": [
    "trainer = pl.Trainer(max_epochs=max_epochs, default_root_dir=checkpoint_dir / model_name, fast_dev_run=False)\n",
    "\n",
    "base_cnn = BaseCNN(conv_layers=conv_layers, linear_layers=linear_layers)\n",
    "cnn = CNN(base_cnn, lr=1e-2)\n",
    "model = CNN.load_from_checkpoint(r'C:\\Users\\julia\\VSCode\\PlantTraits2024\\models\\cnn-1\\epoch=22-val_loss=2.66-train_loss=1.84.ckpt', cnn=base_cnn)\n",
    "model.eval()"
   ]
  },
  {
   "cell_type": "code",
   "execution_count": 33,
   "metadata": {},
   "outputs": [
    {
     "name": "stderr",
     "output_type": "stream",
     "text": [
      "LOCAL_RANK: 0 - CUDA_VISIBLE_DEVICES: [0]\n",
      "c:\\Users\\julia\\anaconda3\\envs\\plant-traits\\lib\\site-packages\\pytorch_lightning\\trainer\\connectors\\data_connector.py:424: The 'predict_dataloader' does not have many workers which may be a bottleneck. Consider increasing the value of the `num_workers` argument` to `num_workers=15` in the `DataLoader` to improve performance.\n"
     ]
    },
    {
     "data": {
      "application/vnd.jupyter.widget-view+json": {
       "model_id": "1beb5ccd886c47fbbd32033b05b92c0a",
       "version_major": 2,
       "version_minor": 0
      },
      "text/plain": [
       "Predicting: |          | 0/? [00:00<?, ?it/s]"
      ]
     },
     "metadata": {},
     "output_type": "display_data"
    }
   ],
   "source": [
    "y_test = trainer.predict(model, dataloaders=test_loader)"
   ]
  },
  {
   "cell_type": "code",
   "execution_count": 34,
   "metadata": {},
   "outputs": [
    {
     "name": "stderr",
     "output_type": "stream",
     "text": [
      "c:\\Users\\julia\\anaconda3\\envs\\plant-traits\\lib\\site-packages\\sklearn\\metrics\\_classification.py:1565: UndefinedMetricWarning: Precision is ill-defined and being set to 0.0 in labels with no predicted samples. Use `zero_division` parameter to control this behavior.\n",
      "  _warn_prf(average, modifier, f\"{metric.capitalize()} is\", len(result))\n"
     ]
    },
    {
     "data": {
      "text/html": [
       "<div>\n",
       "<style scoped>\n",
       "    .dataframe tbody tr th:only-of-type {\n",
       "        vertical-align: middle;\n",
       "    }\n",
       "\n",
       "    .dataframe tbody tr th {\n",
       "        vertical-align: top;\n",
       "    }\n",
       "\n",
       "    .dataframe thead th {\n",
       "        text-align: right;\n",
       "    }\n",
       "</style>\n",
       "<table border=\"1\" class=\"dataframe\">\n",
       "  <thead>\n",
       "    <tr style=\"text-align: right;\">\n",
       "      <th></th>\n",
       "      <th>precision</th>\n",
       "      <th>recall</th>\n",
       "      <th>f1_score</th>\n",
       "      <th>support</th>\n",
       "    </tr>\n",
       "  </thead>\n",
       "  <tbody>\n",
       "    <tr>\n",
       "      <th>79</th>\n",
       "      <td>0.000000</td>\n",
       "      <td>0.0</td>\n",
       "      <td>0.000000</td>\n",
       "      <td>10</td>\n",
       "    </tr>\n",
       "    <tr>\n",
       "      <th>52</th>\n",
       "      <td>0.000000</td>\n",
       "      <td>0.0</td>\n",
       "      <td>0.000000</td>\n",
       "      <td>10</td>\n",
       "    </tr>\n",
       "    <tr>\n",
       "      <th>62</th>\n",
       "      <td>0.000000</td>\n",
       "      <td>0.0</td>\n",
       "      <td>0.000000</td>\n",
       "      <td>10</td>\n",
       "    </tr>\n",
       "    <tr>\n",
       "      <th>33</th>\n",
       "      <td>0.000000</td>\n",
       "      <td>0.0</td>\n",
       "      <td>0.000000</td>\n",
       "      <td>10</td>\n",
       "    </tr>\n",
       "    <tr>\n",
       "      <th>66</th>\n",
       "      <td>0.000000</td>\n",
       "      <td>0.0</td>\n",
       "      <td>0.000000</td>\n",
       "      <td>10</td>\n",
       "    </tr>\n",
       "    <tr>\n",
       "      <th>...</th>\n",
       "      <td>...</td>\n",
       "      <td>...</td>\n",
       "      <td>...</td>\n",
       "      <td>...</td>\n",
       "    </tr>\n",
       "    <tr>\n",
       "      <th>7</th>\n",
       "      <td>0.769231</td>\n",
       "      <td>1.0</td>\n",
       "      <td>0.869565</td>\n",
       "      <td>10</td>\n",
       "    </tr>\n",
       "    <tr>\n",
       "      <th>1</th>\n",
       "      <td>0.769231</td>\n",
       "      <td>1.0</td>\n",
       "      <td>0.869565</td>\n",
       "      <td>10</td>\n",
       "    </tr>\n",
       "    <tr>\n",
       "      <th>58</th>\n",
       "      <td>0.900000</td>\n",
       "      <td>0.9</td>\n",
       "      <td>0.900000</td>\n",
       "      <td>10</td>\n",
       "    </tr>\n",
       "    <tr>\n",
       "      <th>36</th>\n",
       "      <td>0.900000</td>\n",
       "      <td>0.9</td>\n",
       "      <td>0.900000</td>\n",
       "      <td>10</td>\n",
       "    </tr>\n",
       "    <tr>\n",
       "      <th>16</th>\n",
       "      <td>1.000000</td>\n",
       "      <td>0.9</td>\n",
       "      <td>0.947368</td>\n",
       "      <td>10</td>\n",
       "    </tr>\n",
       "  </tbody>\n",
       "</table>\n",
       "<p>102 rows × 4 columns</p>\n",
       "</div>"
      ],
      "text/plain": [
       "    precision  recall  f1_score  support\n",
       "79   0.000000     0.0  0.000000       10\n",
       "52   0.000000     0.0  0.000000       10\n",
       "62   0.000000     0.0  0.000000       10\n",
       "33   0.000000     0.0  0.000000       10\n",
       "66   0.000000     0.0  0.000000       10\n",
       "..        ...     ...       ...      ...\n",
       "7    0.769231     1.0  0.869565       10\n",
       "1    0.769231     1.0  0.869565       10\n",
       "58   0.900000     0.9  0.900000       10\n",
       "36   0.900000     0.9  0.900000       10\n",
       "16   1.000000     0.9  0.947368       10\n",
       "\n",
       "[102 rows x 4 columns]"
      ]
     },
     "execution_count": 34,
     "metadata": {},
     "output_type": "execute_result"
    }
   ],
   "source": [
    "y_labels = np.concatenate([labels.cpu().numpy() for _, labels in iter(test_loader)])\n",
    "\n",
    "precision, recall, f1score, support = precision_recall_fscore_support(y_labels, torch.concat(y_test).numpy())\n",
    "clf_report_df = pd.DataFrame({'precision': precision, 'recall': recall, 'f1_score': f1score, 'support': support},\n",
    "                                 index=(np.arange(102)))\n",
    "clf_report_df.sort_values(by='f1_score')"
   ]
  },
  {
   "cell_type": "code",
   "execution_count": 35,
   "metadata": {},
   "outputs": [
    {
     "data": {
      "text/plain": [
       "<Axes: xlabel='f1_score', ylabel='Count'>"
      ]
     },
     "execution_count": 35,
     "metadata": {},
     "output_type": "execute_result"
    },
    {
     "data": {
      "application/pdf": "[encoded data removed]",
      "image/svg+xml": [
       "<?xml version=\"1.0\" encoding=\"utf-8\" standalone=\"no\"?>\n",
       "<!DOCTYPE svg PUBLIC \"-//W3C//DTD SVG 1.1//EN\"\n",
       "  \"http://www.w3.org/Graphics/SVG/1.1/DTD/svg11.dtd\">\n",
       "<svg xmlns:xlink=\"http://www.w3.org/1999/xlink\" width=\"404.923125pt\" height=\"311.146375pt\" viewBox=\"0 0 404.923125 311.146375\" xmlns=\"http://www.w3.org/2000/svg\" version=\"1.1\">\n",
       " <metadata>\n",
       "  <rdf:RDF xmlns:dc=\"http://purl.org/dc/elements/1.1/\" xmlns:cc=\"http://creativecommons.org/ns#\" xmlns:rdf=\"http://www.w3.org/1999/02/22-rdf-syntax-ns#\">\n",
       "   <cc:Work>\n",
       "    <dc:type rdf:resource=\"http://purl.org/dc/dcmitype/StillImage\"/>\n",
       "    <dc:date>2024-12-21T16:57:50.784018</dc:date>\n",
       "    <dc:format>image/svg+xml</dc:format>\n",
       "    <dc:creator>\n",
       "     <cc:Agent>\n",
       "      <dc:title>Matplotlib v3.9.3, https://matplotlib.org/</dc:title>\n",
       "     </cc:Agent>\n",
       "    </dc:creator>\n",
       "   </cc:Work>\n",
       "  </rdf:RDF>\n",
       " </metadata>\n",
       " <defs>\n",
       "  <style type=\"text/css\">*{stroke-linejoin: round; stroke-linecap: butt}</style>\n",
       " </defs>\n",
       " <g id=\"figure_1\">\n",
       "  <g id=\"patch_1\">\n",
       "   <path d=\"M 0 311.146375 \n",
       "L 404.923125 311.146375 \n",
       "L 404.923125 0 \n",
       "L 0 0 \n",
       "z\n",
       "\" style=\"fill: #ffffff\"/>\n",
       "  </g>\n",
       "  <g id=\"axes_1\">\n",
       "   <g id=\"patch_2\">\n",
       "    <path d=\"M 40.603125 273.312 \n",
       "L 397.723125 273.312 \n",
       "L 397.723125 7.2 \n",
       "L 40.603125 7.2 \n",
       "z\n",
       "\" style=\"fill: #ffffff\"/>\n",
       "   </g>\n",
       "   <g id=\"patch_3\">\n",
       "    <path d=\"M 56.835852 273.312 \n",
       "L 97.41767 273.312 \n",
       "L 97.41767 19.872 \n",
       "L 56.835852 19.872 \n",
       "z\n",
       "\" clip-path=\"url(#p99d024da14)\" style=\"fill: #1f77b4; fill-opacity: 0.75; stroke: #000000; stroke-linejoin: miter\"/>\n",
       "   </g>\n",
       "   <g id=\"patch_4\">\n",
       "    <path d=\"M 97.41767 273.312 \n",
       "L 137.999489 273.312 \n",
       "L 137.999489 58.862769 \n",
       "L 97.41767 58.862769 \n",
       "z\n",
       "\" clip-path=\"url(#p99d024da14)\" style=\"fill: #1f77b4; fill-opacity: 0.75; stroke: #000000; stroke-linejoin: miter\"/>\n",
       "   </g>\n",
       "   <g id=\"patch_5\">\n",
       "    <path d=\"M 137.999489 273.312 \n",
       "L 178.581307 273.312 \n",
       "L 178.581307 136.844308 \n",
       "L 137.999489 136.844308 \n",
       "z\n",
       "\" clip-path=\"url(#p99d024da14)\" style=\"fill: #1f77b4; fill-opacity: 0.75; stroke: #000000; stroke-linejoin: miter\"/>\n",
       "   </g>\n",
       "   <g id=\"patch_6\">\n",
       "    <path d=\"M 178.581307 273.312 \n",
       "L 219.163125 273.312 \n",
       "L 219.163125 146.592 \n",
       "L 178.581307 146.592 \n",
       "z\n",
       "\" clip-path=\"url(#p99d024da14)\" style=\"fill: #1f77b4; fill-opacity: 0.75; stroke: #000000; stroke-linejoin: miter\"/>\n",
       "   </g>\n",
       "   <g id=\"patch_7\">\n",
       "    <path d=\"M 219.163125 273.312 \n",
       "L 259.744943 273.312 \n",
       "L 259.744943 156.339692 \n",
       "L 219.163125 156.339692 \n",
       "z\n",
       "\" clip-path=\"url(#p99d024da14)\" style=\"fill: #1f77b4; fill-opacity: 0.75; stroke: #000000; stroke-linejoin: miter\"/>\n",
       "   </g>\n",
       "   <g id=\"patch_8\">\n",
       "    <path d=\"M 259.744943 273.312 \n",
       "L 300.326761 273.312 \n",
       "L 300.326761 224.573538 \n",
       "L 259.744943 224.573538 \n",
       "z\n",
       "\" clip-path=\"url(#p99d024da14)\" style=\"fill: #1f77b4; fill-opacity: 0.75; stroke: #000000; stroke-linejoin: miter\"/>\n",
       "   </g>\n",
       "   <g id=\"patch_9\">\n",
       "    <path d=\"M 300.326761 273.312 \n",
       "L 340.90858 273.312 \n",
       "L 340.90858 234.321231 \n",
       "L 300.326761 234.321231 \n",
       "z\n",
       "\" clip-path=\"url(#p99d024da14)\" style=\"fill: #1f77b4; fill-opacity: 0.75; stroke: #000000; stroke-linejoin: miter\"/>\n",
       "   </g>\n",
       "   <g id=\"patch_10\">\n",
       "    <path d=\"M 340.90858 273.312 \n",
       "L 381.490398 273.312 \n",
       "L 381.490398 214.825846 \n",
       "L 340.90858 214.825846 \n",
       "z\n",
       "\" clip-path=\"url(#p99d024da14)\" style=\"fill: #1f77b4; fill-opacity: 0.75; stroke: #000000; stroke-linejoin: miter\"/>\n",
       "   </g>\n",
       "   <g id=\"matplotlib.axis_1\">\n",
       "    <g id=\"xtick_1\">\n",
       "     <g id=\"line2d_1\">\n",
       "      <defs>\n",
       "       <path id=\"m09be2cd153\" d=\"M 0 0 \n",
       "L 0 3.5 \n",
       "\" style=\"stroke: #000000; stroke-width: 0.8\"/>\n",
       "      </defs>\n",
       "      <g>\n",
       "       <use xlink:href=\"#m09be2cd153\" x=\"56.835852\" y=\"273.312\" style=\"stroke: #000000; stroke-width: 0.8\"/>\n",
       "      </g>\n",
       "     </g>\n",
       "     <g id=\"text_1\">\n",
       "      <!-- 0.0 -->\n",
       "      <g transform=\"translate(48.88429 287.910437) scale(0.1 -0.1)\">\n",
       "       <defs>\n",
       "        <path id=\"DejaVuSans-30\" d=\"M 2034 4250 \n",
       "Q 1547 4250 1301 3770 \n",
       "Q 1056 3291 1056 2328 \n",
       "Q 1056 1369 1301 889 \n",
       "Q 1547 409 2034 409 \n",
       "Q 2525 409 2770 889 \n",
       "Q 3016 1369 3016 2328 \n",
       "Q 3016 3291 2770 3770 \n",
       "Q 2525 4250 2034 4250 \n",
       "z\n",
       "M 2034 4750 \n",
       "Q 2819 4750 3233 4129 \n",
       "Q 3647 3509 3647 2328 \n",
       "Q 3647 1150 3233 529 \n",
       "Q 2819 -91 2034 -91 \n",
       "Q 1250 -91 836 529 \n",
       "Q 422 1150 422 2328 \n",
       "Q 422 3509 836 4129 \n",
       "Q 1250 4750 2034 4750 \n",
       "z\n",
       "\" transform=\"scale(0.015625)\"/>\n",
       "        <path id=\"DejaVuSans-2e\" d=\"M 684 794 \n",
       "L 1344 794 \n",
       "L 1344 0 \n",
       "L 684 0 \n",
       "L 684 794 \n",
       "z\n",
       "\" transform=\"scale(0.015625)\"/>\n",
       "       </defs>\n",
       "       <use xlink:href=\"#DejaVuSans-30\"/>\n",
       "       <use xlink:href=\"#DejaVuSans-2e\" x=\"63.623047\"/>\n",
       "       <use xlink:href=\"#DejaVuSans-30\" x=\"95.410156\"/>\n",
       "      </g>\n",
       "     </g>\n",
       "    </g>\n",
       "    <g id=\"xtick_2\">\n",
       "     <g id=\"line2d_2\">\n",
       "      <g>\n",
       "       <use xlink:href=\"#m09be2cd153\" x=\"125.374034\" y=\"273.312\" style=\"stroke: #000000; stroke-width: 0.8\"/>\n",
       "      </g>\n",
       "     </g>\n",
       "     <g id=\"text_2\">\n",
       "      <!-- 0.2 -->\n",
       "      <g transform=\"translate(117.422472 287.910437) scale(0.1 -0.1)\">\n",
       "       <defs>\n",
       "        <path id=\"DejaVuSans-32\" d=\"M 1228 531 \n",
       "L 3431 531 \n",
       "L 3431 0 \n",
       "L 469 0 \n",
       "L 469 531 \n",
       "Q 828 903 1448 1529 \n",
       "Q 2069 2156 2228 2338 \n",
       "Q 2531 2678 2651 2914 \n",
       "Q 2772 3150 2772 3378 \n",
       "Q 2772 3750 2511 3984 \n",
       "Q 2250 4219 1831 4219 \n",
       "Q 1534 4219 1204 4116 \n",
       "Q 875 4013 500 3803 \n",
       "L 500 4441 \n",
       "Q 881 4594 1212 4672 \n",
       "Q 1544 4750 1819 4750 \n",
       "Q 2544 4750 2975 4387 \n",
       "Q 3406 4025 3406 3419 \n",
       "Q 3406 3131 3298 2873 \n",
       "Q 3191 2616 2906 2266 \n",
       "Q 2828 2175 2409 1742 \n",
       "Q 1991 1309 1228 531 \n",
       "z\n",
       "\" transform=\"scale(0.015625)\"/>\n",
       "       </defs>\n",
       "       <use xlink:href=\"#DejaVuSans-30\"/>\n",
       "       <use xlink:href=\"#DejaVuSans-2e\" x=\"63.623047\"/>\n",
       "       <use xlink:href=\"#DejaVuSans-32\" x=\"95.410156\"/>\n",
       "      </g>\n",
       "     </g>\n",
       "    </g>\n",
       "    <g id=\"xtick_3\">\n",
       "     <g id=\"line2d_3\">\n",
       "      <g>\n",
       "       <use xlink:href=\"#m09be2cd153\" x=\"193.912216\" y=\"273.312\" style=\"stroke: #000000; stroke-width: 0.8\"/>\n",
       "      </g>\n",
       "     </g>\n",
       "     <g id=\"text_3\">\n",
       "      <!-- 0.4 -->\n",
       "      <g transform=\"translate(185.960653 287.910437) scale(0.1 -0.1)\">\n",
       "       <defs>\n",
       "        <path id=\"DejaVuSans-34\" d=\"M 2419 4116 \n",
       "L 825 1625 \n",
       "L 2419 1625 \n",
       "L 2419 4116 \n",
       "z\n",
       "M 2253 4666 \n",
       "L 3047 4666 \n",
       "L 3047 1625 \n",
       "L 3713 1625 \n",
       "L 3713 1100 \n",
       "L 3047 1100 \n",
       "L 3047 0 \n",
       "L 2419 0 \n",
       "L 2419 1100 \n",
       "L 313 1100 \n",
       "L 313 1709 \n",
       "L 2253 4666 \n",
       "z\n",
       "\" transform=\"scale(0.015625)\"/>\n",
       "       </defs>\n",
       "       <use xlink:href=\"#DejaVuSans-30\"/>\n",
       "       <use xlink:href=\"#DejaVuSans-2e\" x=\"63.623047\"/>\n",
       "       <use xlink:href=\"#DejaVuSans-34\" x=\"95.410156\"/>\n",
       "      </g>\n",
       "     </g>\n",
       "    </g>\n",
       "    <g id=\"xtick_4\">\n",
       "     <g id=\"line2d_4\">\n",
       "      <g>\n",
       "       <use xlink:href=\"#m09be2cd153\" x=\"262.450398\" y=\"273.312\" style=\"stroke: #000000; stroke-width: 0.8\"/>\n",
       "      </g>\n",
       "     </g>\n",
       "     <g id=\"text_4\">\n",
       "      <!-- 0.6 -->\n",
       "      <g transform=\"translate(254.498835 287.910437) scale(0.1 -0.1)\">\n",
       "       <defs>\n",
       "        <path id=\"DejaVuSans-36\" d=\"M 2113 2584 \n",
       "Q 1688 2584 1439 2293 \n",
       "Q 1191 2003 1191 1497 \n",
       "Q 1191 994 1439 701 \n",
       "Q 1688 409 2113 409 \n",
       "Q 2538 409 2786 701 \n",
       "Q 3034 994 3034 1497 \n",
       "Q 3034 2003 2786 2293 \n",
       "Q 2538 2584 2113 2584 \n",
       "z\n",
       "M 3366 4563 \n",
       "L 3366 3988 \n",
       "Q 3128 4100 2886 4159 \n",
       "Q 2644 4219 2406 4219 \n",
       "Q 1781 4219 1451 3797 \n",
       "Q 1122 3375 1075 2522 \n",
       "Q 1259 2794 1537 2939 \n",
       "Q 1816 3084 2150 3084 \n",
       "Q 2853 3084 3261 2657 \n",
       "Q 3669 2231 3669 1497 \n",
       "Q 3669 778 3244 343 \n",
       "Q 2819 -91 2113 -91 \n",
       "Q 1303 -91 875 529 \n",
       "Q 447 1150 447 2328 \n",
       "Q 447 3434 972 4092 \n",
       "Q 1497 4750 2381 4750 \n",
       "Q 2619 4750 2861 4703 \n",
       "Q 3103 4656 3366 4563 \n",
       "z\n",
       "\" transform=\"scale(0.015625)\"/>\n",
       "       </defs>\n",
       "       <use xlink:href=\"#DejaVuSans-30\"/>\n",
       "       <use xlink:href=\"#DejaVuSans-2e\" x=\"63.623047\"/>\n",
       "       <use xlink:href=\"#DejaVuSans-36\" x=\"95.410156\"/>\n",
       "      </g>\n",
       "     </g>\n",
       "    </g>\n",
       "    <g id=\"xtick_5\">\n",
       "     <g id=\"line2d_5\">\n",
       "      <g>\n",
       "       <use xlink:href=\"#m09be2cd153\" x=\"330.98858\" y=\"273.312\" style=\"stroke: #000000; stroke-width: 0.8\"/>\n",
       "      </g>\n",
       "     </g>\n",
       "     <g id=\"text_5\">\n",
       "      <!-- 0.8 -->\n",
       "      <g transform=\"translate(323.037017 287.910437) scale(0.1 -0.1)\">\n",
       "       <defs>\n",
       "        <path id=\"DejaVuSans-38\" d=\"M 2034 2216 \n",
       "Q 1584 2216 1326 1975 \n",
       "Q 1069 1734 1069 1313 \n",
       "Q 1069 891 1326 650 \n",
       "Q 1584 409 2034 409 \n",
       "Q 2484 409 2743 651 \n",
       "Q 3003 894 3003 1313 \n",
       "Q 3003 1734 2745 1975 \n",
       "Q 2488 2216 2034 2216 \n",
       "z\n",
       "M 1403 2484 \n",
       "Q 997 2584 770 2862 \n",
       "Q 544 3141 544 3541 \n",
       "Q 544 4100 942 4425 \n",
       "Q 1341 4750 2034 4750 \n",
       "Q 2731 4750 3128 4425 \n",
       "Q 3525 4100 3525 3541 \n",
       "Q 3525 3141 3298 2862 \n",
       "Q 3072 2584 2669 2484 \n",
       "Q 3125 2378 3379 2068 \n",
       "Q 3634 1759 3634 1313 \n",
       "Q 3634 634 3220 271 \n",
       "Q 2806 -91 2034 -91 \n",
       "Q 1263 -91 848 271 \n",
       "Q 434 634 434 1313 \n",
       "Q 434 1759 690 2068 \n",
       "Q 947 2378 1403 2484 \n",
       "z\n",
       "M 1172 3481 \n",
       "Q 1172 3119 1398 2916 \n",
       "Q 1625 2713 2034 2713 \n",
       "Q 2441 2713 2670 2916 \n",
       "Q 2900 3119 2900 3481 \n",
       "Q 2900 3844 2670 4047 \n",
       "Q 2441 4250 2034 4250 \n",
       "Q 1625 4250 1398 4047 \n",
       "Q 1172 3844 1172 3481 \n",
       "z\n",
       "\" transform=\"scale(0.015625)\"/>\n",
       "       </defs>\n",
       "       <use xlink:href=\"#DejaVuSans-30\"/>\n",
       "       <use xlink:href=\"#DejaVuSans-2e\" x=\"63.623047\"/>\n",
       "       <use xlink:href=\"#DejaVuSans-38\" x=\"95.410156\"/>\n",
       "      </g>\n",
       "     </g>\n",
       "    </g>\n",
       "    <g id=\"text_6\">\n",
       "     <!-- f1_score -->\n",
       "     <g transform=\"translate(198.288906 301.588562) scale(0.1 -0.1)\">\n",
       "      <defs>\n",
       "       <path id=\"DejaVuSans-66\" d=\"M 2375 4863 \n",
       "L 2375 4384 \n",
       "L 1825 4384 \n",
       "Q 1516 4384 1395 4259 \n",
       "Q 1275 4134 1275 3809 \n",
       "L 1275 3500 \n",
       "L 2222 3500 \n",
       "L 2222 3053 \n",
       "L 1275 3053 \n",
       "L 1275 0 \n",
       "L 697 0 \n",
       "L 697 3053 \n",
       "L 147 3053 \n",
       "L 147 3500 \n",
       "L 697 3500 \n",
       "L 697 3744 \n",
       "Q 697 4328 969 4595 \n",
       "Q 1241 4863 1831 4863 \n",
       "L 2375 4863 \n",
       "z\n",
       "\" transform=\"scale(0.015625)\"/>\n",
       "       <path id=\"DejaVuSans-31\" d=\"M 794 531 \n",
       "L 1825 531 \n",
       "L 1825 4091 \n",
       "L 703 3866 \n",
       "L 703 4441 \n",
       "L 1819 4666 \n",
       "L 2450 4666 \n",
       "L 2450 531 \n",
       "L 3481 531 \n",
       "L 3481 0 \n",
       "L 794 0 \n",
       "L 794 531 \n",
       "z\n",
       "\" transform=\"scale(0.015625)\"/>\n",
       "       <path id=\"DejaVuSans-5f\" d=\"M 3263 -1063 \n",
       "L 3263 -1509 \n",
       "L -63 -1509 \n",
       "L -63 -1063 \n",
       "L 3263 -1063 \n",
       "z\n",
       "\" transform=\"scale(0.015625)\"/>\n",
       "       <path id=\"DejaVuSans-73\" d=\"M 2834 3397 \n",
       "L 2834 2853 \n",
       "Q 2591 2978 2328 3040 \n",
       "Q 2066 3103 1784 3103 \n",
       "Q 1356 3103 1142 2972 \n",
       "Q 928 2841 928 2578 \n",
       "Q 928 2378 1081 2264 \n",
       "Q 1234 2150 1697 2047 \n",
       "L 1894 2003 \n",
       "Q 2506 1872 2764 1633 \n",
       "Q 3022 1394 3022 966 \n",
       "Q 3022 478 2636 193 \n",
       "Q 2250 -91 1575 -91 \n",
       "Q 1294 -91 989 -36 \n",
       "Q 684 19 347 128 \n",
       "L 347 722 \n",
       "Q 666 556 975 473 \n",
       "Q 1284 391 1588 391 \n",
       "Q 1994 391 2212 530 \n",
       "Q 2431 669 2431 922 \n",
       "Q 2431 1156 2273 1281 \n",
       "Q 2116 1406 1581 1522 \n",
       "L 1381 1569 \n",
       "Q 847 1681 609 1914 \n",
       "Q 372 2147 372 2553 \n",
       "Q 372 3047 722 3315 \n",
       "Q 1072 3584 1716 3584 \n",
       "Q 2034 3584 2315 3537 \n",
       "Q 2597 3491 2834 3397 \n",
       "z\n",
       "\" transform=\"scale(0.015625)\"/>\n",
       "       <path id=\"DejaVuSans-63\" d=\"M 3122 3366 \n",
       "L 3122 2828 \n",
       "Q 2878 2963 2633 3030 \n",
       "Q 2388 3097 2138 3097 \n",
       "Q 1578 3097 1268 2742 \n",
       "Q 959 2388 959 1747 \n",
       "Q 959 1106 1268 751 \n",
       "Q 1578 397 2138 397 \n",
       "Q 2388 397 2633 464 \n",
       "Q 2878 531 3122 666 \n",
       "L 3122 134 \n",
       "Q 2881 22 2623 -34 \n",
       "Q 2366 -91 2075 -91 \n",
       "Q 1284 -91 818 406 \n",
       "Q 353 903 353 1747 \n",
       "Q 353 2603 823 3093 \n",
       "Q 1294 3584 2113 3584 \n",
       "Q 2378 3584 2631 3529 \n",
       "Q 2884 3475 3122 3366 \n",
       "z\n",
       "\" transform=\"scale(0.015625)\"/>\n",
       "       <path id=\"DejaVuSans-6f\" d=\"M 1959 3097 \n",
       "Q 1497 3097 1228 2736 \n",
       "Q 959 2375 959 1747 \n",
       "Q 959 1119 1226 758 \n",
       "Q 1494 397 1959 397 \n",
       "Q 2419 397 2687 759 \n",
       "Q 2956 1122 2956 1747 \n",
       "Q 2956 2369 2687 2733 \n",
       "Q 2419 3097 1959 3097 \n",
       "z\n",
       "M 1959 3584 \n",
       "Q 2709 3584 3137 3096 \n",
       "Q 3566 2609 3566 1747 \n",
       "Q 3566 888 3137 398 \n",
       "Q 2709 -91 1959 -91 \n",
       "Q 1206 -91 779 398 \n",
       "Q 353 888 353 1747 \n",
       "Q 353 2609 779 3096 \n",
       "Q 1206 3584 1959 3584 \n",
       "z\n",
       "\" transform=\"scale(0.015625)\"/>\n",
       "       <path id=\"DejaVuSans-72\" d=\"M 2631 2963 \n",
       "Q 2534 3019 2420 3045 \n",
       "Q 2306 3072 2169 3072 \n",
       "Q 1681 3072 1420 2755 \n",
       "Q 1159 2438 1159 1844 \n",
       "L 1159 0 \n",
       "L 581 0 \n",
       "L 581 3500 \n",
       "L 1159 3500 \n",
       "L 1159 2956 \n",
       "Q 1341 3275 1631 3429 \n",
       "Q 1922 3584 2338 3584 \n",
       "Q 2397 3584 2469 3576 \n",
       "Q 2541 3569 2628 3553 \n",
       "L 2631 2963 \n",
       "z\n",
       "\" transform=\"scale(0.015625)\"/>\n",
       "       <path id=\"DejaVuSans-65\" d=\"M 3597 1894 \n",
       "L 3597 1613 \n",
       "L 953 1613 \n",
       "Q 991 1019 1311 708 \n",
       "Q 1631 397 2203 397 \n",
       "Q 2534 397 2845 478 \n",
       "Q 3156 559 3463 722 \n",
       "L 3463 178 \n",
       "Q 3153 47 2828 -22 \n",
       "Q 2503 -91 2169 -91 \n",
       "Q 1331 -91 842 396 \n",
       "Q 353 884 353 1716 \n",
       "Q 353 2575 817 3079 \n",
       "Q 1281 3584 2069 3584 \n",
       "Q 2775 3584 3186 3129 \n",
       "Q 3597 2675 3597 1894 \n",
       "z\n",
       "M 3022 2063 \n",
       "Q 3016 2534 2758 2815 \n",
       "Q 2500 3097 2075 3097 \n",
       "Q 1594 3097 1305 2825 \n",
       "Q 1016 2553 972 2059 \n",
       "L 3022 2063 \n",
       "z\n",
       "\" transform=\"scale(0.015625)\"/>\n",
       "      </defs>\n",
       "      <use xlink:href=\"#DejaVuSans-66\"/>\n",
       "      <use xlink:href=\"#DejaVuSans-31\" x=\"35.205078\"/>\n",
       "      <use xlink:href=\"#DejaVuSans-5f\" x=\"98.828125\"/>\n",
       "      <use xlink:href=\"#DejaVuSans-73\" x=\"148.828125\"/>\n",
       "      <use xlink:href=\"#DejaVuSans-63\" x=\"200.927734\"/>\n",
       "      <use xlink:href=\"#DejaVuSans-6f\" x=\"255.908203\"/>\n",
       "      <use xlink:href=\"#DejaVuSans-72\" x=\"317.089844\"/>\n",
       "      <use xlink:href=\"#DejaVuSans-65\" x=\"355.953125\"/>\n",
       "     </g>\n",
       "    </g>\n",
       "   </g>\n",
       "   <g id=\"matplotlib.axis_2\">\n",
       "    <g id=\"ytick_1\">\n",
       "     <g id=\"line2d_6\">\n",
       "      <defs>\n",
       "       <path id=\"m0e23829a7b\" d=\"M 0 0 \n",
       "L -3.5 0 \n",
       "\" style=\"stroke: #000000; stroke-width: 0.8\"/>\n",
       "      </defs>\n",
       "      <g>\n",
       "       <use xlink:href=\"#m0e23829a7b\" x=\"40.603125\" y=\"273.312\" style=\"stroke: #000000; stroke-width: 0.8\"/>\n",
       "      </g>\n",
       "     </g>\n",
       "     <g id=\"text_7\">\n",
       "      <!-- 0 -->\n",
       "      <g transform=\"translate(27.240625 277.111219) scale(0.1 -0.1)\">\n",
       "       <use xlink:href=\"#DejaVuSans-30\"/>\n",
       "      </g>\n",
       "     </g>\n",
       "    </g>\n",
       "    <g id=\"ytick_2\">\n",
       "     <g id=\"line2d_7\">\n",
       "      <g>\n",
       "       <use xlink:href=\"#m0e23829a7b\" x=\"40.603125\" y=\"224.573538\" style=\"stroke: #000000; stroke-width: 0.8\"/>\n",
       "      </g>\n",
       "     </g>\n",
       "     <g id=\"text_8\">\n",
       "      <!-- 5 -->\n",
       "      <g transform=\"translate(27.240625 228.372757) scale(0.1 -0.1)\">\n",
       "       <defs>\n",
       "        <path id=\"DejaVuSans-35\" d=\"M 691 4666 \n",
       "L 3169 4666 \n",
       "L 3169 4134 \n",
       "L 1269 4134 \n",
       "L 1269 2991 \n",
       "Q 1406 3038 1543 3061 \n",
       "Q 1681 3084 1819 3084 \n",
       "Q 2600 3084 3056 2656 \n",
       "Q 3513 2228 3513 1497 \n",
       "Q 3513 744 3044 326 \n",
       "Q 2575 -91 1722 -91 \n",
       "Q 1428 -91 1123 -41 \n",
       "Q 819 9 494 109 \n",
       "L 494 744 \n",
       "Q 775 591 1075 516 \n",
       "Q 1375 441 1709 441 \n",
       "Q 2250 441 2565 725 \n",
       "Q 2881 1009 2881 1497 \n",
       "Q 2881 1984 2565 2268 \n",
       "Q 2250 2553 1709 2553 \n",
       "Q 1456 2553 1204 2497 \n",
       "Q 953 2441 691 2322 \n",
       "L 691 4666 \n",
       "z\n",
       "\" transform=\"scale(0.015625)\"/>\n",
       "       </defs>\n",
       "       <use xlink:href=\"#DejaVuSans-35\"/>\n",
       "      </g>\n",
       "     </g>\n",
       "    </g>\n",
       "    <g id=\"ytick_3\">\n",
       "     <g id=\"line2d_8\">\n",
       "      <g>\n",
       "       <use xlink:href=\"#m0e23829a7b\" x=\"40.603125\" y=\"175.835077\" style=\"stroke: #000000; stroke-width: 0.8\"/>\n",
       "      </g>\n",
       "     </g>\n",
       "     <g id=\"text_9\">\n",
       "      <!-- 10 -->\n",
       "      <g transform=\"translate(20.878125 179.634296) scale(0.1 -0.1)\">\n",
       "       <use xlink:href=\"#DejaVuSans-31\"/>\n",
       "       <use xlink:href=\"#DejaVuSans-30\" x=\"63.623047\"/>\n",
       "      </g>\n",
       "     </g>\n",
       "    </g>\n",
       "    <g id=\"ytick_4\">\n",
       "     <g id=\"line2d_9\">\n",
       "      <g>\n",
       "       <use xlink:href=\"#m0e23829a7b\" x=\"40.603125\" y=\"127.096615\" style=\"stroke: #000000; stroke-width: 0.8\"/>\n",
       "      </g>\n",
       "     </g>\n",
       "     <g id=\"text_10\">\n",
       "      <!-- 15 -->\n",
       "      <g transform=\"translate(20.878125 130.895834) scale(0.1 -0.1)\">\n",
       "       <use xlink:href=\"#DejaVuSans-31\"/>\n",
       "       <use xlink:href=\"#DejaVuSans-35\" x=\"63.623047\"/>\n",
       "      </g>\n",
       "     </g>\n",
       "    </g>\n",
       "    <g id=\"ytick_5\">\n",
       "     <g id=\"line2d_10\">\n",
       "      <g>\n",
       "       <use xlink:href=\"#m0e23829a7b\" x=\"40.603125\" y=\"78.358154\" style=\"stroke: #000000; stroke-width: 0.8\"/>\n",
       "      </g>\n",
       "     </g>\n",
       "     <g id=\"text_11\">\n",
       "      <!-- 20 -->\n",
       "      <g transform=\"translate(20.878125 82.157373) scale(0.1 -0.1)\">\n",
       "       <use xlink:href=\"#DejaVuSans-32\"/>\n",
       "       <use xlink:href=\"#DejaVuSans-30\" x=\"63.623047\"/>\n",
       "      </g>\n",
       "     </g>\n",
       "    </g>\n",
       "    <g id=\"ytick_6\">\n",
       "     <g id=\"line2d_11\">\n",
       "      <g>\n",
       "       <use xlink:href=\"#m0e23829a7b\" x=\"40.603125\" y=\"29.619692\" style=\"stroke: #000000; stroke-width: 0.8\"/>\n",
       "      </g>\n",
       "     </g>\n",
       "     <g id=\"text_12\">\n",
       "      <!-- 25 -->\n",
       "      <g transform=\"translate(20.878125 33.418911) scale(0.1 -0.1)\">\n",
       "       <use xlink:href=\"#DejaVuSans-32\"/>\n",
       "       <use xlink:href=\"#DejaVuSans-35\" x=\"63.623047\"/>\n",
       "      </g>\n",
       "     </g>\n",
       "    </g>\n",
       "    <g id=\"text_13\">\n",
       "     <!-- Count -->\n",
       "     <g transform=\"translate(14.798438 155.104437) rotate(-90) scale(0.1 -0.1)\">\n",
       "      <defs>\n",
       "       <path id=\"DejaVuSans-43\" d=\"M 4122 4306 \n",
       "L 4122 3641 \n",
       "Q 3803 3938 3442 4084 \n",
       "Q 3081 4231 2675 4231 \n",
       "Q 1875 4231 1450 3742 \n",
       "Q 1025 3253 1025 2328 \n",
       "Q 1025 1406 1450 917 \n",
       "Q 1875 428 2675 428 \n",
       "Q 3081 428 3442 575 \n",
       "Q 3803 722 4122 1019 \n",
       "L 4122 359 \n",
       "Q 3791 134 3420 21 \n",
       "Q 3050 -91 2638 -91 \n",
       "Q 1578 -91 968 557 \n",
       "Q 359 1206 359 2328 \n",
       "Q 359 3453 968 4101 \n",
       "Q 1578 4750 2638 4750 \n",
       "Q 3056 4750 3426 4639 \n",
       "Q 3797 4528 4122 4306 \n",
       "z\n",
       "\" transform=\"scale(0.015625)\"/>\n",
       "       <path id=\"DejaVuSans-75\" d=\"M 544 1381 \n",
       "L 544 3500 \n",
       "L 1119 3500 \n",
       "L 1119 1403 \n",
       "Q 1119 906 1312 657 \n",
       "Q 1506 409 1894 409 \n",
       "Q 2359 409 2629 706 \n",
       "Q 2900 1003 2900 1516 \n",
       "L 2900 3500 \n",
       "L 3475 3500 \n",
       "L 3475 0 \n",
       "L 2900 0 \n",
       "L 2900 538 \n",
       "Q 2691 219 2414 64 \n",
       "Q 2138 -91 1772 -91 \n",
       "Q 1169 -91 856 284 \n",
       "Q 544 659 544 1381 \n",
       "z\n",
       "M 1991 3584 \n",
       "L 1991 3584 \n",
       "z\n",
       "\" transform=\"scale(0.015625)\"/>\n",
       "       <path id=\"DejaVuSans-6e\" d=\"M 3513 2113 \n",
       "L 3513 0 \n",
       "L 2938 0 \n",
       "L 2938 2094 \n",
       "Q 2938 2591 2744 2837 \n",
       "Q 2550 3084 2163 3084 \n",
       "Q 1697 3084 1428 2787 \n",
       "Q 1159 2491 1159 1978 \n",
       "L 1159 0 \n",
       "L 581 0 \n",
       "L 581 3500 \n",
       "L 1159 3500 \n",
       "L 1159 2956 \n",
       "Q 1366 3272 1645 3428 \n",
       "Q 1925 3584 2291 3584 \n",
       "Q 2894 3584 3203 3211 \n",
       "Q 3513 2838 3513 2113 \n",
       "z\n",
       "\" transform=\"scale(0.015625)\"/>\n",
       "       <path id=\"DejaVuSans-74\" d=\"M 1172 4494 \n",
       "L 1172 3500 \n",
       "L 2356 3500 \n",
       "L 2356 3053 \n",
       "L 1172 3053 \n",
       "L 1172 1153 \n",
       "Q 1172 725 1289 603 \n",
       "Q 1406 481 1766 481 \n",
       "L 2356 481 \n",
       "L 2356 0 \n",
       "L 1766 0 \n",
       "Q 1100 0 847 248 \n",
       "Q 594 497 594 1153 \n",
       "L 594 3053 \n",
       "L 172 3053 \n",
       "L 172 3500 \n",
       "L 594 3500 \n",
       "L 594 4494 \n",
       "L 1172 4494 \n",
       "z\n",
       "\" transform=\"scale(0.015625)\"/>\n",
       "      </defs>\n",
       "      <use xlink:href=\"#DejaVuSans-43\"/>\n",
       "      <use xlink:href=\"#DejaVuSans-6f\" x=\"69.824219\"/>\n",
       "      <use xlink:href=\"#DejaVuSans-75\" x=\"131.005859\"/>\n",
       "      <use xlink:href=\"#DejaVuSans-6e\" x=\"194.384766\"/>\n",
       "      <use xlink:href=\"#DejaVuSans-74\" x=\"257.763672\"/>\n",
       "     </g>\n",
       "    </g>\n",
       "   </g>\n",
       "   <g id=\"patch_11\">\n",
       "    <path d=\"M 40.603125 273.312 \n",
       "L 40.603125 7.2 \n",
       "\" style=\"fill: none; stroke: #000000; stroke-width: 0.8; stroke-linejoin: miter; stroke-linecap: square\"/>\n",
       "   </g>\n",
       "   <g id=\"patch_12\">\n",
       "    <path d=\"M 397.723125 273.312 \n",
       "L 397.723125 7.2 \n",
       "\" style=\"fill: none; stroke: #000000; stroke-width: 0.8; stroke-linejoin: miter; stroke-linecap: square\"/>\n",
       "   </g>\n",
       "   <g id=\"patch_13\">\n",
       "    <path d=\"M 40.603125 273.312 \n",
       "L 397.723125 273.312 \n",
       "\" style=\"fill: none; stroke: #000000; stroke-width: 0.8; stroke-linejoin: miter; stroke-linecap: square\"/>\n",
       "   </g>\n",
       "   <g id=\"patch_14\">\n",
       "    <path d=\"M 40.603125 7.2 \n",
       "L 397.723125 7.2 \n",
       "\" style=\"fill: none; stroke: #000000; stroke-width: 0.8; stroke-linejoin: miter; stroke-linecap: square\"/>\n",
       "   </g>\n",
       "  </g>\n",
       " </g>\n",
       " <defs>\n",
       "  <clipPath id=\"p99d024da14\">\n",
       "   <rect x=\"40.603125\" y=\"7.2\" width=\"357.12\" height=\"266.112\"/>\n",
       "  </clipPath>\n",
       " </defs>\n",
       "</svg>\n"
      ],
      "text/plain": [
       "<Figure size 640x480 with 1 Axes>"
      ]
     },
     "metadata": {},
     "output_type": "display_data"
    }
   ],
   "source": [
    "sns.histplot(data=clf_report_df, x='f1_score')"
   ]
  },
  {
   "cell_type": "markdown",
   "metadata": {},
   "source": [
    "### Ręczne przeszukiwanie, przeszukiwanie siatką\n",
    "\n",
    "Szukanie dobrej wartości hiperparametru stawia wyzwania:\n",
    "- osiągnięcie niskiej wartości błędu na zbiorze walidacyjnym\n",
    "- osiągnięcie generalizacji poza zbiór walidacyjny"
   ]
  },
  {
   "cell_type": "markdown",
   "metadata": {},
   "source": [
    "### GridSearch\n",
    "*skorch* - wrapper dla PyTorch do biblioteki scikit-learn, więcej można podpatrzeć tutaj: [How to Grid Search Hyperparameters for PyTorch Models](https://machinelearningmastery.com/how-to-grid-search-hyperparameters-for-pytorch-models/)"
   ]
  },
  {
   "cell_type": "code",
   "execution_count": 36,
   "metadata": {},
   "outputs": [],
   "source": [
    "from skorch import NeuralNet\n",
    "from skorch import callbacks\n",
    "\n",
    "net = NeuralNet(\n",
    "    module=BaseCNN,\n",
    "    module__conv_layers=conv_layers,\n",
    "    module__linear_layers=linear_layers,\n",
    "    criterion=nn.CrossEntropyLoss,\n",
    "    max_epochs=25,\n",
    "    batch_size=64,\n",
    "    callbacks=[\n",
    "        callbacks.ProgressBar(),\n",
    "        callbacks.EarlyStopping()\n",
    "    ],\n",
    "    device='cuda'\n",
    ")"
   ]
  },
  {
   "cell_type": "code",
   "execution_count": 37,
   "metadata": {},
   "outputs": [],
   "source": [
    "param_grid = {\n",
    "    'optimizer': [optim.SGD, optim.Adam, optim.Adagrad],\n",
    "    'optimizer__lr': [0.001, 0.01, 0.1]\n",
    "}"
   ]
  },
  {
   "cell_type": "markdown",
   "metadata": {},
   "source": [
    "#### Dostosowanie zbioru pod bibliotekę sklearn\n",
    "\n",
    "ostatecznie wielkość danych się zmniejszy bo wszystko na raz ładujemy, ale nadal takie coś może być przydatną wskazówką co do ustawień, o ile próbka będzie odpowiednio dobrana (biorąc pod uwagę np. niezbalansowanie klas) "
   ]
  },
  {
   "cell_type": "code",
   "execution_count": 38,
   "metadata": {},
   "outputs": [],
   "source": [
    "X_val_npy = concat_imgs(val_dataset).numpy()\n",
    "y_val_npy = retrieve_labels(val_dataset).numpy()"
   ]
  },
  {
   "cell_type": "code",
   "execution_count": 39,
   "metadata": {},
   "outputs": [],
   "source": [
    "from sklearn.metrics import accuracy_score\n",
    "\n",
    "def score(estimator, X, y):\n",
    "    logits = estimator.predict(X)\n",
    "    prob = F.softmax(torch.tensor(logits), dim=-1).detach().numpy()\n",
    "    labels = np.argmax(prob, axis=-1)\n",
    "    return accuracy_score(y, labels)"
   ]
  },
  {
   "cell_type": "code",
   "execution_count": 40,
   "metadata": {},
   "outputs": [],
   "source": [
    "from sklearn.model_selection import GridSearchCV\n",
    "\n",
    "grid = GridSearchCV(\n",
    "    estimator=net, param_grid=param_grid, verbose=4, cv=2, refit=False, return_train_score=True, scoring=score, error_score='raise'\n",
    ")"
   ]
  },
  {
   "cell_type": "code",
   "execution_count": null,
   "metadata": {},
   "outputs": [],
   "source": [
    "grid.fit(X_val_npy, y_val_npy)"
   ]
  },
  {
   "cell_type": "code",
   "execution_count": 53,
   "metadata": {},
   "outputs": [
    {
     "data": {
      "text/plain": [
       "0.3568627450980392"
      ]
     },
     "execution_count": 53,
     "metadata": {},
     "output_type": "execute_result"
    }
   ],
   "source": [
    "grid.best_score_"
   ]
  },
  {
   "cell_type": "code",
   "execution_count": 54,
   "metadata": {},
   "outputs": [
    {
     "data": {
      "text/plain": [
       "{'optimizer': torch.optim.sgd.SGD, 'optimizer__lr': 0.001}"
      ]
     },
     "execution_count": 54,
     "metadata": {},
     "output_type": "execute_result"
    }
   ],
   "source": [
    "grid.best_params_"
   ]
  },
  {
   "cell_type": "markdown",
   "metadata": {},
   "source": [
    "### Optuna\n",
    "Framework do przeszukiwania przestrzeni hiperparametrów, do użycia jest przede wszystkim wiele różnych algorytmów próbkujących, których zadaniem jest ciągłe zmniejszanie przestrzeni parametrów. Dostępne są też algorytmy *pruningowe* które kończą daną próbę zawczasu w zależności od warunków. [Optimization Algorithms](https://optuna.readthedocs.io/en/stable/tutorial/10_key_features/003_efficient_optimization_algorithms.html)"
   ]
  },
  {
   "cell_type": "code",
   "execution_count": null,
   "metadata": {},
   "outputs": [],
   "source": [
    "! pip install optuna\n",
    "! pip install optuna-dashboard\n",
    "! pip install optuna-integration[pytorch_lightning]"
   ]
  },
  {
   "cell_type": "code",
   "execution_count": 48,
   "metadata": {},
   "outputs": [],
   "source": [
    "import optuna\n",
    "from optuna.trial import TrialState\n",
    "import torch.optim as optim\n",
    "from optuna.integration import PyTorchLightningPruningCallback"
   ]
  },
  {
   "cell_type": "markdown",
   "metadata": {},
   "source": [
    "https://github.com/optuna/optuna/issues/4689"
   ]
  },
  {
   "cell_type": "code",
   "execution_count": 72,
   "metadata": {},
   "outputs": [],
   "source": [
    "class OptunaPruning(PyTorchLightningPruningCallback, pl.Callback):\n",
    "    def __init__(self, *args, **kwargs):\n",
    "        super().__init__(*args, **kwargs)"
   ]
  },
  {
   "cell_type": "code",
   "execution_count": 73,
   "metadata": {},
   "outputs": [],
   "source": [
    "def objective(trial):\n",
    "    optimizer_name = trial.suggest_categorical(\"optimizer\", [\"Adam\", \"RMSprop\", \"SGD\"])\n",
    "    lr = trial.suggest_float(\"lr\", low=1e-3, high=1e-1, log=True) \n",
    "\n",
    "    optimizer = getattr(optim, optimizer_name)\n",
    "    model = CNN(BaseCNN(conv_layers=conv_layers, linear_layers=linear_layers), lr=lr, optim_alg=optimizer)\n",
    "\n",
    "    trainer = pl.Trainer(\n",
    "        max_epochs=20,\n",
    "        callbacks=[OptunaPruning(trial, monitor=\"val_acc\")]\n",
    "    )\n",
    "\n",
    "    trainer.fit(model, train_loader, val_loader)\n",
    "\n",
    "    return trainer.callback_metrics[\"val_acc\"].item()"
   ]
  },
  {
   "cell_type": "code",
   "execution_count": 77,
   "metadata": {},
   "outputs": [
    {
     "name": "stderr",
     "output_type": "stream",
     "text": [
      "[I 2024-12-21 18:11:21,041] A new study created in memory with name: no-name-58c99b04-bffb-4d7d-8987-48fc08ccbc85\n",
      "GPU available: True (cuda), used: True\n",
      "TPU available: False, using: 0 TPU cores\n",
      "HPU available: False, using: 0 HPUs\n",
      "LOCAL_RANK: 0 - CUDA_VISIBLE_DEVICES: [0]\n",
      "\n",
      "  | Name   | Type               | Params | Mode \n",
      "------------------------------------------------------\n",
      "0 | cnn    | BaseCNN            | 2.6 M  | train\n",
      "1 | metric | MulticlassAccuracy | 0      | train\n",
      "------------------------------------------------------\n",
      "2.6 M     Trainable params\n",
      "0         Non-trainable params\n",
      "2.6 M     Total params\n",
      "10.575    Total estimated model params size (MB)\n",
      "5         Modules in train mode\n",
      "36        Modules in eval mode\n"
     ]
    },
    {
     "data": {
      "application/vnd.jupyter.widget-view+json": {
       "model_id": "8e94e9fc6ad24604809769f7cb901caf",
       "version_major": 2,
       "version_minor": 0
      },
      "text/plain": [
       "Sanity Checking: |          | 0/? [00:00<?, ?it/s]"
      ]
     },
     "metadata": {},
     "output_type": "display_data"
    },
    {
     "data": {
      "application/vnd.jupyter.widget-view+json": {
       "model_id": "a879e0dc278a46fe8701cf384452fe72",
       "version_major": 2,
       "version_minor": 0
      },
      "text/plain": [
       "Training: |          | 0/? [00:00<?, ?it/s]"
      ]
     },
     "metadata": {},
     "output_type": "display_data"
    },
    {
     "data": {
      "application/vnd.jupyter.widget-view+json": {
       "model_id": "01e3295c7e014da0be1e6efbba6cbcfd",
       "version_major": 2,
       "version_minor": 0
      },
      "text/plain": [
       "Validation: |          | 0/? [00:00<?, ?it/s]"
      ]
     },
     "metadata": {},
     "output_type": "display_data"
    },
    {
     "data": {
      "application/vnd.jupyter.widget-view+json": {
       "model_id": "9f7993b0593140ed968d8dded1d234b6",
       "version_major": 2,
       "version_minor": 0
      },
      "text/plain": [
       "Validation: |          | 0/? [00:00<?, ?it/s]"
      ]
     },
     "metadata": {},
     "output_type": "display_data"
    },
    {
     "data": {
      "application/vnd.jupyter.widget-view+json": {
       "model_id": "bdf65bea2b12426e9d0e64ab6e12c878",
       "version_major": 2,
       "version_minor": 0
      },
      "text/plain": [
       "Validation: |          | 0/? [00:00<?, ?it/s]"
      ]
     },
     "metadata": {},
     "output_type": "display_data"
    },
    {
     "data": {
      "application/vnd.jupyter.widget-view+json": {
       "model_id": "874c0002312942a6ac944587a24dcc1a",
       "version_major": 2,
       "version_minor": 0
      },
      "text/plain": [
       "Validation: |          | 0/? [00:00<?, ?it/s]"
      ]
     },
     "metadata": {},
     "output_type": "display_data"
    },
    {
     "data": {
      "application/vnd.jupyter.widget-view+json": {
       "model_id": "49a5bc43c25647e9a6ebda7068185f7b",
       "version_major": 2,
       "version_minor": 0
      },
      "text/plain": [
       "Validation: |          | 0/? [00:00<?, ?it/s]"
      ]
     },
     "metadata": {},
     "output_type": "display_data"
    },
    {
     "data": {
      "application/vnd.jupyter.widget-view+json": {
       "model_id": "104c8867c5d7478f9301d5707c008505",
       "version_major": 2,
       "version_minor": 0
      },
      "text/plain": [
       "Validation: |          | 0/? [00:00<?, ?it/s]"
      ]
     },
     "metadata": {},
     "output_type": "display_data"
    },
    {
     "data": {
      "application/vnd.jupyter.widget-view+json": {
       "model_id": "4ee9bb3b2f7a4224a9ca81bf438a8c4c",
       "version_major": 2,
       "version_minor": 0
      },
      "text/plain": [
       "Validation: |          | 0/? [00:00<?, ?it/s]"
      ]
     },
     "metadata": {},
     "output_type": "display_data"
    },
    {
     "data": {
      "application/vnd.jupyter.widget-view+json": {
       "model_id": "6a7c61260a0141e5a9ede5e8ae586e23",
       "version_major": 2,
       "version_minor": 0
      },
      "text/plain": [
       "Validation: |          | 0/? [00:00<?, ?it/s]"
      ]
     },
     "metadata": {},
     "output_type": "display_data"
    },
    {
     "data": {
      "application/vnd.jupyter.widget-view+json": {
       "model_id": "04336d87d5764d79a0b64bdb219d52a1",
       "version_major": 2,
       "version_minor": 0
      },
      "text/plain": [
       "Validation: |          | 0/? [00:00<?, ?it/s]"
      ]
     },
     "metadata": {},
     "output_type": "display_data"
    },
    {
     "data": {
      "application/vnd.jupyter.widget-view+json": {
       "model_id": "297514d962ff4a14b7f96fda3453d3cb",
       "version_major": 2,
       "version_minor": 0
      },
      "text/plain": [
       "Validation: |          | 0/? [00:00<?, ?it/s]"
      ]
     },
     "metadata": {},
     "output_type": "display_data"
    },
    {
     "data": {
      "application/vnd.jupyter.widget-view+json": {
       "model_id": "17de3d6885494d13a464d93bc783148f",
       "version_major": 2,
       "version_minor": 0
      },
      "text/plain": [
       "Validation: |          | 0/? [00:00<?, ?it/s]"
      ]
     },
     "metadata": {},
     "output_type": "display_data"
    },
    {
     "data": {
      "application/vnd.jupyter.widget-view+json": {
       "model_id": "5a21c9f292c3412bae2d0f97622f54ef",
       "version_major": 2,
       "version_minor": 0
      },
      "text/plain": [
       "Validation: |          | 0/? [00:00<?, ?it/s]"
      ]
     },
     "metadata": {},
     "output_type": "display_data"
    },
    {
     "data": {
      "application/vnd.jupyter.widget-view+json": {
       "model_id": "105d04af69d6446a81668326acdb1ccd",
       "version_major": 2,
       "version_minor": 0
      },
      "text/plain": [
       "Validation: |          | 0/? [00:00<?, ?it/s]"
      ]
     },
     "metadata": {},
     "output_type": "display_data"
    },
    {
     "data": {
      "application/vnd.jupyter.widget-view+json": {
       "model_id": "56ffc70fed874b218ca6e98ae25caf93",
       "version_major": 2,
       "version_minor": 0
      },
      "text/plain": [
       "Validation: |          | 0/? [00:00<?, ?it/s]"
      ]
     },
     "metadata": {},
     "output_type": "display_data"
    },
    {
     "data": {
      "application/vnd.jupyter.widget-view+json": {
       "model_id": "b97bdf02dfa44ef9acbcc675744bef24",
       "version_major": 2,
       "version_minor": 0
      },
      "text/plain": [
       "Validation: |          | 0/? [00:00<?, ?it/s]"
      ]
     },
     "metadata": {},
     "output_type": "display_data"
    },
    {
     "data": {
      "application/vnd.jupyter.widget-view+json": {
       "model_id": "83da0f5882434982a69129a6dbebaea9",
       "version_major": 2,
       "version_minor": 0
      },
      "text/plain": [
       "Validation: |          | 0/? [00:00<?, ?it/s]"
      ]
     },
     "metadata": {},
     "output_type": "display_data"
    },
    {
     "data": {
      "application/vnd.jupyter.widget-view+json": {
       "model_id": "86d22e6948ec4d8996b031e180201fa5",
       "version_major": 2,
       "version_minor": 0
      },
      "text/plain": [
       "Validation: |          | 0/? [00:00<?, ?it/s]"
      ]
     },
     "metadata": {},
     "output_type": "display_data"
    },
    {
     "data": {
      "application/vnd.jupyter.widget-view+json": {
       "model_id": "be23c9e230d34fedba5f8431ed1502e8",
       "version_major": 2,
       "version_minor": 0
      },
      "text/plain": [
       "Validation: |          | 0/? [00:00<?, ?it/s]"
      ]
     },
     "metadata": {},
     "output_type": "display_data"
    },
    {
     "data": {
      "application/vnd.jupyter.widget-view+json": {
       "model_id": "8a14394bd02a4cd1af380758fb04bc85",
       "version_major": 2,
       "version_minor": 0
      },
      "text/plain": [
       "Validation: |          | 0/? [00:00<?, ?it/s]"
      ]
     },
     "metadata": {},
     "output_type": "display_data"
    },
    {
     "data": {
      "application/vnd.jupyter.widget-view+json": {
       "model_id": "e27fb13d4da84e7e898471cc5ace00c6",
       "version_major": 2,
       "version_minor": 0
      },
      "text/plain": [
       "Validation: |          | 0/? [00:00<?, ?it/s]"
      ]
     },
     "metadata": {},
     "output_type": "display_data"
    },
    {
     "name": "stderr",
     "output_type": "stream",
     "text": [
      "`Trainer.fit` stopped: `max_epochs=20` reached.\n",
      "[I 2024-12-21 18:42:03,081] Trial 0 finished with value: 0.009803921915590763 and parameters: {'optimizer': 'SGD', 'lr': 0.04842779866241831}. Best is trial 0 with value: 0.009803921915590763.\n",
      "GPU available: True (cuda), used: True\n",
      "TPU available: False, using: 0 TPU cores\n",
      "HPU available: False, using: 0 HPUs\n",
      "LOCAL_RANK: 0 - CUDA_VISIBLE_DEVICES: [0]\n",
      "\n",
      "  | Name   | Type               | Params | Mode \n",
      "------------------------------------------------------\n",
      "0 | cnn    | BaseCNN            | 2.6 M  | train\n",
      "1 | metric | MulticlassAccuracy | 0      | train\n",
      "------------------------------------------------------\n",
      "2.6 M     Trainable params\n",
      "0         Non-trainable params\n",
      "2.6 M     Total params\n",
      "10.575    Total estimated model params size (MB)\n",
      "5         Modules in train mode\n",
      "36        Modules in eval mode\n"
     ]
    },
    {
     "data": {
      "application/vnd.jupyter.widget-view+json": {
       "model_id": "878d0cf308c14089a9f91a1c7d05b684",
       "version_major": 2,
       "version_minor": 0
      },
      "text/plain": [
       "Sanity Checking: |          | 0/? [00:00<?, ?it/s]"
      ]
     },
     "metadata": {},
     "output_type": "display_data"
    },
    {
     "data": {
      "application/vnd.jupyter.widget-view+json": {
       "model_id": "35712a3576b1427a9c4760d432d1901e",
       "version_major": 2,
       "version_minor": 0
      },
      "text/plain": [
       "Training: |          | 0/? [00:00<?, ?it/s]"
      ]
     },
     "metadata": {},
     "output_type": "display_data"
    },
    {
     "data": {
      "application/vnd.jupyter.widget-view+json": {
       "model_id": "06529583daa84d01bbc466bf953bf0ba",
       "version_major": 2,
       "version_minor": 0
      },
      "text/plain": [
       "Validation: |          | 0/? [00:00<?, ?it/s]"
      ]
     },
     "metadata": {},
     "output_type": "display_data"
    },
    {
     "data": {
      "application/vnd.jupyter.widget-view+json": {
       "model_id": "e315c05ab1f14cc9bc4bbafa9927d605",
       "version_major": 2,
       "version_minor": 0
      },
      "text/plain": [
       "Validation: |          | 0/? [00:00<?, ?it/s]"
      ]
     },
     "metadata": {},
     "output_type": "display_data"
    },
    {
     "data": {
      "application/vnd.jupyter.widget-view+json": {
       "model_id": "416f72cfc01e45ed8c84bc79d6f232a2",
       "version_major": 2,
       "version_minor": 0
      },
      "text/plain": [
       "Validation: |          | 0/? [00:00<?, ?it/s]"
      ]
     },
     "metadata": {},
     "output_type": "display_data"
    },
    {
     "data": {
      "application/vnd.jupyter.widget-view+json": {
       "model_id": "97ccfff5e25f474a99f897c3a664300f",
       "version_major": 2,
       "version_minor": 0
      },
      "text/plain": [
       "Validation: |          | 0/? [00:00<?, ?it/s]"
      ]
     },
     "metadata": {},
     "output_type": "display_data"
    },
    {
     "data": {
      "application/vnd.jupyter.widget-view+json": {
       "model_id": "43355696699b4a5e9952bb905c5e77bd",
       "version_major": 2,
       "version_minor": 0
      },
      "text/plain": [
       "Validation: |          | 0/? [00:00<?, ?it/s]"
      ]
     },
     "metadata": {},
     "output_type": "display_data"
    },
    {
     "data": {
      "application/vnd.jupyter.widget-view+json": {
       "model_id": "139a339e3ee0466595db848fa98edda2",
       "version_major": 2,
       "version_minor": 0
      },
      "text/plain": [
       "Validation: |          | 0/? [00:00<?, ?it/s]"
      ]
     },
     "metadata": {},
     "output_type": "display_data"
    },
    {
     "data": {
      "application/vnd.jupyter.widget-view+json": {
       "model_id": "61c87fa9ce3c4578a09cf880fb17962a",
       "version_major": 2,
       "version_minor": 0
      },
      "text/plain": [
       "Validation: |          | 0/? [00:00<?, ?it/s]"
      ]
     },
     "metadata": {},
     "output_type": "display_data"
    },
    {
     "data": {
      "application/vnd.jupyter.widget-view+json": {
       "model_id": "f945dc755e194548bace8d15668b9274",
       "version_major": 2,
       "version_minor": 0
      },
      "text/plain": [
       "Validation: |          | 0/? [00:00<?, ?it/s]"
      ]
     },
     "metadata": {},
     "output_type": "display_data"
    },
    {
     "data": {
      "application/vnd.jupyter.widget-view+json": {
       "model_id": "138cf85de1e74aabbde25cc906a93b78",
       "version_major": 2,
       "version_minor": 0
      },
      "text/plain": [
       "Validation: |          | 0/? [00:00<?, ?it/s]"
      ]
     },
     "metadata": {},
     "output_type": "display_data"
    },
    {
     "data": {
      "application/vnd.jupyter.widget-view+json": {
       "model_id": "0900099de0b6468f92ee2b182721af93",
       "version_major": 2,
       "version_minor": 0
      },
      "text/plain": [
       "Validation: |          | 0/? [00:00<?, ?it/s]"
      ]
     },
     "metadata": {},
     "output_type": "display_data"
    },
    {
     "data": {
      "application/vnd.jupyter.widget-view+json": {
       "model_id": "f269dcb5c79647f08b50484f48c67354",
       "version_major": 2,
       "version_minor": 0
      },
      "text/plain": [
       "Validation: |          | 0/? [00:00<?, ?it/s]"
      ]
     },
     "metadata": {},
     "output_type": "display_data"
    },
    {
     "data": {
      "application/vnd.jupyter.widget-view+json": {
       "model_id": "c8bebfc9637b45938ad35787f8295d67",
       "version_major": 2,
       "version_minor": 0
      },
      "text/plain": [
       "Validation: |          | 0/? [00:00<?, ?it/s]"
      ]
     },
     "metadata": {},
     "output_type": "display_data"
    },
    {
     "data": {
      "application/vnd.jupyter.widget-view+json": {
       "model_id": "9be5ebfe92a74ca6a4a7672f998b7091",
       "version_major": 2,
       "version_minor": 0
      },
      "text/plain": [
       "Validation: |          | 0/? [00:00<?, ?it/s]"
      ]
     },
     "metadata": {},
     "output_type": "display_data"
    },
    {
     "data": {
      "application/vnd.jupyter.widget-view+json": {
       "model_id": "d8cf4e51aea14328ae45ed8b3ffcca92",
       "version_major": 2,
       "version_minor": 0
      },
      "text/plain": [
       "Validation: |          | 0/? [00:00<?, ?it/s]"
      ]
     },
     "metadata": {},
     "output_type": "display_data"
    },
    {
     "data": {
      "application/vnd.jupyter.widget-view+json": {
       "model_id": "c0321cdf402a4b8e8c6fefb7c7b48ae8",
       "version_major": 2,
       "version_minor": 0
      },
      "text/plain": [
       "Validation: |          | 0/? [00:00<?, ?it/s]"
      ]
     },
     "metadata": {},
     "output_type": "display_data"
    },
    {
     "data": {
      "application/vnd.jupyter.widget-view+json": {
       "model_id": "522066cff6294cf5a283e3a6ef18ce5a",
       "version_major": 2,
       "version_minor": 0
      },
      "text/plain": [
       "Validation: |          | 0/? [00:00<?, ?it/s]"
      ]
     },
     "metadata": {},
     "output_type": "display_data"
    },
    {
     "data": {
      "application/vnd.jupyter.widget-view+json": {
       "model_id": "d446c9db82c8484bbe55970d1e2ae7f5",
       "version_major": 2,
       "version_minor": 0
      },
      "text/plain": [
       "Validation: |          | 0/? [00:00<?, ?it/s]"
      ]
     },
     "metadata": {},
     "output_type": "display_data"
    },
    {
     "data": {
      "application/vnd.jupyter.widget-view+json": {
       "model_id": "8e7489bedb4b47cf843ab9afd3d00fe6",
       "version_major": 2,
       "version_minor": 0
      },
      "text/plain": [
       "Validation: |          | 0/? [00:00<?, ?it/s]"
      ]
     },
     "metadata": {},
     "output_type": "display_data"
    },
    {
     "data": {
      "application/vnd.jupyter.widget-view+json": {
       "model_id": "1380f5bd2af140fe8d323d6240bb3a96",
       "version_major": 2,
       "version_minor": 0
      },
      "text/plain": [
       "Validation: |          | 0/? [00:00<?, ?it/s]"
      ]
     },
     "metadata": {},
     "output_type": "display_data"
    },
    {
     "data": {
      "application/vnd.jupyter.widget-view+json": {
       "model_id": "fb9ad9207f96496ea4c794a096f2f3cf",
       "version_major": 2,
       "version_minor": 0
      },
      "text/plain": [
       "Validation: |          | 0/? [00:00<?, ?it/s]"
      ]
     },
     "metadata": {},
     "output_type": "display_data"
    },
    {
     "name": "stderr",
     "output_type": "stream",
     "text": [
      "`Trainer.fit` stopped: `max_epochs=20` reached.\n",
      "[I 2024-12-21 18:59:14,808] Trial 1 finished with value: 0.009803921915590763 and parameters: {'optimizer': 'SGD', 'lr': 0.03905445817220466}. Best is trial 0 with value: 0.009803921915590763.\n"
     ]
    },
    {
     "name": "stdout",
     "output_type": "stream",
     "text": [
      "Number of finished trials: 2\n",
      "Best trial:\n",
      "  Value: 0.009803921915590763\n",
      "  Params: \n",
      "    optimizer: SGD\n",
      "    lr: 0.04842779866241831\n"
     ]
    }
   ],
   "source": [
    "pruner = optuna.pruners.MedianPruner()\n",
    "\n",
    "study = optuna.create_study(direction=\"maximize\", pruner=pruner)\n",
    "study.optimize(objective, n_trials=2)\n",
    "\n",
    "print(\"Number of finished trials: {}\".format(len(study.trials)))\n",
    "\n",
    "print(\"Best trial:\")\n",
    "trial = study.best_trial\n",
    "\n",
    "print(\"  Value: {}\".format(trial.value))\n",
    "\n",
    "print(\"  Params: \")\n",
    "for key, value in trial.params.items():\n",
    "    print(\"    {}: {}\".format(key, value))"
   ]
  }
 ],
 "metadata": {
  "kernelspec": {
   "display_name": "plant-traits",
   "language": "python",
   "name": "python3"
  },
  "language_info": {
   "codemirror_mode": {
    "name": "ipython",
    "version": 3
   },
   "file_extension": ".py",
   "mimetype": "text/x-python",
   "name": "python",
   "nbconvert_exporter": "python",
   "pygments_lexer": "ipython3",
   "version": "3.10.16"
  }
 },
 "nbformat": 4,
 "nbformat_minor": 2
}
