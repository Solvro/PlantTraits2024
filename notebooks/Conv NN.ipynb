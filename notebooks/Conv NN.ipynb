{
 "cells": [
  {
   "cell_type": "code",
   "execution_count": 1,
   "metadata": {},
   "outputs": [
    {
     "name": "stderr",
     "output_type": "stream",
     "text": [
      "The cache for model files in Transformers v4.22.0 has been updated. Migrating your old cache. This is a one-time only operation. You can interrupt this and resume the migration later on by calling `transformers.utils.move_cache()`.\n"
     ]
    },
    {
     "data": {
      "application/vnd.jupyter.widget-view+json": {
       "model_id": "219e0e54895b436a9aabd62f7a18af2e",
       "version_major": 2,
       "version_minor": 0
      },
      "text/plain": [
       "0it [00:00, ?it/s]"
      ]
     },
     "metadata": {},
     "output_type": "display_data"
    }
   ],
   "source": [
    "import os\n",
    "\n",
    "import matplotlib\n",
    "import matplotlib.pyplot as plt\n",
    "import matplotlib_inline.backend_inline\n",
    "import numpy as np\n",
    "import pytorch_lightning as pl\n",
    "import seaborn as sns\n",
    "import torch\n",
    "import torch.nn as nn\n",
    "import torch.optim as optim\n",
    "import torch.utils.data as data\n",
    "import torchvision\n",
    "from typing import List \n",
    "import pandas as pd \n",
    "\n",
    "%matplotlib inline\n",
    "from IPython.display import HTML, display\n",
    "from PIL import Image\n",
    "from pathlib import Path\n",
    "from torchvision import transforms\n",
    "from torchvision.datasets import Flowers102\n",
    "import torch.nn.functional as F\n",
    "from torchsummary import summary\n",
    "from sklearn.metrics import precision_recall_fscore_support\n",
    "import seaborn as sns \n",
    "\n",
    "matplotlib_inline.backend_inline.set_matplotlib_formats(\"svg\", \"pdf\")  # For export\n",
    "matplotlib.rcParams[\"lines.linewidth\"] = 2.0\n",
    "sns.reset_orig()"
   ]
  },
  {
   "cell_type": "markdown",
   "metadata": {},
   "source": [
    "### Przygotowanie danych"
   ]
  },
  {
   "cell_type": "markdown",
   "metadata": {},
   "source": [
    "#### Transformacje danych\n",
    "[Wizualizacje transformacji](https://pytorch.org/vision/0.11/auto_examples/plot_transforms.html#sphx-glr-auto-examples-plot-transforms-py)"
   ]
  },
  {
   "cell_type": "code",
   "execution_count": 2,
   "metadata": {},
   "outputs": [],
   "source": [
    "DATASET_PATH = Path('../data/study')"
   ]
  },
  {
   "cell_type": "code",
   "execution_count": 3,
   "metadata": {},
   "outputs": [],
   "source": [
    "class Transpose:\n",
    "\n",
    "    def __init__(self, axes):\n",
    "        self.axes=axes \n",
    "\n",
    "    def __call__(self, sample):\n",
    "        return sample.permute(*self.axes)\n",
    "        \n",
    "    \n",
    "\n",
    "type_transforms = transforms.Compose([\n",
    "    transforms.PILToTensor(),\n",
    "    # Transpose(axes=(1, 2, 0)),\n",
    "    transforms.Resize(size=(256, 256)),\n",
    "    transforms.ConvertImageDtype(torch.float)\n",
    "])"
   ]
  },
  {
   "cell_type": "code",
   "execution_count": 4,
   "metadata": {},
   "outputs": [],
   "source": [
    "transforms_1 = transforms.Compose([\n",
    "    transforms.RandomHorizontalFlip(),\n",
    "    transforms.GaussianBlur(kernel_size=(5, 9), sigma=(0.1, 5))\n",
    "])\n",
    "\n",
    "transforms_2 = transforms.Compose([\n",
    "    transforms.RandomAutocontrast(),\n",
    "    transforms.RandomPerspective(distortion_scale=0.6, p=1.0)\n",
    "])"
   ]
  },
  {
   "cell_type": "code",
   "execution_count": 5,
   "metadata": {},
   "outputs": [],
   "source": [
    "orig_img = type_transforms(Image.open(DATASET_PATH / 'flowers-102/jpg/image_00001.jpg'))"
   ]
  },
  {
   "cell_type": "code",
   "execution_count": 6,
   "metadata": {},
   "outputs": [
    {
     "data": {
      "text/plain": [
       "torch.Size([3, 256, 256])"
      ]
     },
     "execution_count": 6,
     "metadata": {},
     "output_type": "execute_result"
    }
   ],
   "source": [
    "orig_img.shape"
   ]
  },
  {
   "cell_type": "markdown",
   "metadata": {},
   "source": [
    "Zdjęcia mają już wyskalowane wartości, więc nie trzeba do nich stosować dodatkowych transformacji skalujących"
   ]
  },
  {
   "cell_type": "code",
   "execution_count": 7,
   "metadata": {},
   "outputs": [
    {
     "data": {
      "text/plain": [
       "tensor([[[0.4902, 0.4667, 0.4275,  ..., 0.0706, 0.0902, 0.1059],\n",
       "         [0.5059, 0.4784, 0.4392,  ..., 0.0588, 0.0745, 0.0863],\n",
       "         [0.5333, 0.4980, 0.4510,  ..., 0.0471, 0.0627, 0.0706],\n",
       "         ...,\n",
       "         [0.5412, 0.5176, 0.4824,  ..., 0.2706, 0.2824, 0.2824],\n",
       "         [0.5686, 0.5294, 0.4941,  ..., 0.2667, 0.2784, 0.2784],\n",
       "         [0.5804, 0.5373, 0.5020,  ..., 0.2667, 0.2784, 0.2745]],\n",
       "\n",
       "        [[0.4667, 0.4431, 0.4039,  ..., 0.0784, 0.0980, 0.1137],\n",
       "         [0.4863, 0.4588, 0.4157,  ..., 0.0667, 0.0824, 0.0941],\n",
       "         [0.5137, 0.4824, 0.4353,  ..., 0.0549, 0.0706, 0.0784],\n",
       "         ...,\n",
       "         [0.5804, 0.5569, 0.5255,  ..., 0.1961, 0.2078, 0.2078],\n",
       "         [0.6000, 0.5647, 0.5412,  ..., 0.1922, 0.2039, 0.2039],\n",
       "         [0.6078, 0.5765, 0.5490,  ..., 0.1922, 0.2039, 0.2000]],\n",
       "\n",
       "        [[0.3725, 0.3490, 0.3020,  ..., 0.0275, 0.0471, 0.0627],\n",
       "         [0.3961, 0.3608, 0.3059,  ..., 0.0157, 0.0314, 0.0431],\n",
       "         [0.4235, 0.3804, 0.3137,  ..., 0.0039, 0.0196, 0.0275],\n",
       "         ...,\n",
       "         [0.4431, 0.4039, 0.3529,  ..., 0.1294, 0.1412, 0.1412],\n",
       "         [0.4392, 0.3961, 0.3529,  ..., 0.1255, 0.1373, 0.1373],\n",
       "         [0.4471, 0.4000, 0.3608,  ..., 0.1255, 0.1373, 0.1333]]])"
      ]
     },
     "execution_count": 7,
     "metadata": {},
     "output_type": "execute_result"
    }
   ],
   "source": [
    "orig_img"
   ]
  },
  {
   "cell_type": "code",
   "execution_count": 8,
   "metadata": {},
   "outputs": [],
   "source": [
    "def plot(imgs, with_orig=True, row_title=None, **imshow_kwargs):\n",
    "    if not isinstance(imgs[0], list):\n",
    "        # Make a 2d grid even if there's just 1 row\n",
    "        imgs = [imgs]\n",
    "\n",
    "    num_rows = len(imgs)\n",
    "    num_cols = len(imgs[0]) + with_orig\n",
    "    fig, axs = plt.subplots(nrows=num_rows, ncols=num_cols, squeeze=False)\n",
    "    for row_idx, row in enumerate(imgs):\n",
    "        row = [orig_img] + row if with_orig else row\n",
    "        for col_idx, img in enumerate(row):\n",
    "            ax = axs[row_idx, col_idx]\n",
    "            ax.imshow(np.asarray(img).transpose(1, 2, 0), **imshow_kwargs)\n",
    "            ax.set(xticklabels=[], yticklabels=[], xticks=[], yticks=[])\n",
    "\n",
    "    if with_orig:\n",
    "        axs[0, 0].set(title='Original image')\n",
    "        axs[0, 0].title.set_size(8)\n",
    "    if row_title is not None:\n",
    "        for row_idx in range(num_rows):\n",
    "            axs[row_idx, 0].set(ylabel=row_title[row_idx])\n",
    "\n",
    "    plt.tight_layout()"
   ]
  },
  {
   "cell_type": "code",
   "execution_count": 9,
   "metadata": {},
   "outputs": [
    {
     "data": {
      "application/pdf": "[encoded data removed]",
      "image/svg+xml": [
       "<?xml version=\"1.0\" encoding=\"utf-8\" standalone=\"no\"?>\n",
       "<!DOCTYPE svg PUBLIC \"-//W3C//DTD SVG 1.1//EN\"\n",
       "  \"http://www.w3.org/Graphics/SVG/1.1/DTD/svg11.dtd\">\n",
       "<svg xmlns:xlink=\"http://www.w3.org/1999/xlink\" width=\"453.6pt\" height=\"105.67875pt\" viewBox=\"0 0 453.6 105.67875\" xmlns=\"http://www.w3.org/2000/svg\" version=\"1.1\">\n",
       " <metadata>\n",
       "  <rdf:RDF xmlns:dc=\"http://purl.org/dc/elements/1.1/\" xmlns:cc=\"http://creativecommons.org/ns#\" xmlns:rdf=\"http://www.w3.org/1999/02/22-rdf-syntax-ns#\">\n",
       "   <cc:Work>\n",
       "    <dc:type rdf:resource=\"http://purl.org/dc/dcmitype/StillImage\"/>\n",
       "    <dc:date>2024-12-19T17:36:15.097299</dc:date>\n",
       "    <dc:format>image/svg+xml</dc:format>\n",
       "    <dc:creator>\n",
       "     <cc:Agent>\n",
       "      <dc:title>Matplotlib v3.9.3, https://matplotlib.org/</dc:title>\n",
       "     </cc:Agent>\n",
       "    </dc:creator>\n",
       "   </cc:Work>\n",
       "  </rdf:RDF>\n",
       " </metadata>\n",
       " <defs>\n",
       "  <style type=\"text/css\">*{stroke-linejoin: round; stroke-linecap: butt}</style>\n",
       " </defs>\n",
       " <g id=\"figure_1\">\n",
       "  <g id=\"patch_1\">\n",
       "   <path d=\"M 0 105.67875 \n",
       "L 453.6 105.67875 \n",
       "L 453.6 0 \n",
       "L 0 0 \n",
       "z\n",
       "\" style=\"fill: #ffffff\"/>\n",
       "  </g>\n",
       "  <g id=\"axes_1\">\n",
       "   <g id=\"patch_2\">\n",
       "    <path d=\"M 7.2 98.47875 \n",
       "L 86.4 98.47875 \n",
       "L 86.4 19.27875 \n",
       "L 7.2 19.27875 \n",
       "z\n",
       "\" style=\"fill: #ffffff\"/>\n",
       "   </g>\n",
       "   <g clip-path=\"url(#pb04a3d196e)\">\n",
       "    <image xlink:href=\"data:image/png;base64,\n",
       "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\" id=\"image3aa6ebcfb1\" transform=\"scale(1 -1) translate(0 -79.2)\" x=\"7.2\" y=\"-19.27875\" width=\"79.2\" height=\"79.2\"/>\n",
       "   </g>\n",
       "   <g id=\"matplotlib.axis_1\"/>\n",
       "   <g id=\"matplotlib.axis_2\"/>\n",
       "   <g id=\"patch_3\">\n",
       "    <path d=\"M 7.2 98.47875 \n",
       "L 7.2 19.27875 \n",
       "\" style=\"fill: none; stroke: #000000; stroke-width: 0.8; stroke-linejoin: miter; stroke-linecap: square\"/>\n",
       "   </g>\n",
       "   <g id=\"patch_4\">\n",
       "    <path d=\"M 86.4 98.47875 \n",
       "L 86.4 19.27875 \n",
       "\" style=\"fill: none; stroke: #000000; stroke-width: 0.8; stroke-linejoin: miter; stroke-linecap: square\"/>\n",
       "   </g>\n",
       "   <g id=\"patch_5\">\n",
       "    <path d=\"M 7.2 98.47875 \n",
       "L 86.4 98.47875 \n",
       "\" style=\"fill: none; stroke: #000000; stroke-width: 0.8; stroke-linejoin: miter; stroke-linecap: square\"/>\n",
       "   </g>\n",
       "   <g id=\"patch_6\">\n",
       "    <path d=\"M 7.2 19.27875 \n",
       "L 86.4 19.27875 \n",
       "\" style=\"fill: none; stroke: #000000; stroke-width: 0.8; stroke-linejoin: miter; stroke-linecap: square\"/>\n",
       "   </g>\n",
       "   <g id=\"text_1\">\n",
       "    <!-- Original image -->\n",
       "    <g transform=\"translate(17.416875 13.27875) scale(0.08 -0.08)\">\n",
       "     <defs>\n",
       "      <path id=\"DejaVuSans-4f\" d=\"M 2522 4238 \n",
       "Q 1834 4238 1429 3725 \n",
       "Q 1025 3213 1025 2328 \n",
       "Q 1025 1447 1429 934 \n",
       "Q 1834 422 2522 422 \n",
       "Q 3209 422 3611 934 \n",
       "Q 4013 1447 4013 2328 \n",
       "Q 4013 3213 3611 3725 \n",
       "Q 3209 4238 2522 4238 \n",
       "z\n",
       "M 2522 4750 \n",
       "Q 3503 4750 4090 4092 \n",
       "Q 4678 3434 4678 2328 \n",
       "Q 4678 1225 4090 567 \n",
       "Q 3503 -91 2522 -91 \n",
       "Q 1538 -91 948 565 \n",
       "Q 359 1222 359 2328 \n",
       "Q 359 3434 948 4092 \n",
       "Q 1538 4750 2522 4750 \n",
       "z\n",
       "\" transform=\"scale(0.015625)\"/>\n",
       "      <path id=\"DejaVuSans-72\" d=\"M 2631 2963 \n",
       "Q 2534 3019 2420 3045 \n",
       "Q 2306 3072 2169 3072 \n",
       "Q 1681 3072 1420 2755 \n",
       "Q 1159 2438 1159 1844 \n",
       "L 1159 0 \n",
       "L 581 0 \n",
       "L 581 3500 \n",
       "L 1159 3500 \n",
       "L 1159 2956 \n",
       "Q 1341 3275 1631 3429 \n",
       "Q 1922 3584 2338 3584 \n",
       "Q 2397 3584 2469 3576 \n",
       "Q 2541 3569 2628 3553 \n",
       "L 2631 2963 \n",
       "z\n",
       "\" transform=\"scale(0.015625)\"/>\n",
       "      <path id=\"DejaVuSans-69\" d=\"M 603 3500 \n",
       "L 1178 3500 \n",
       "L 1178 0 \n",
       "L 603 0 \n",
       "L 603 3500 \n",
       "z\n",
       "M 603 4863 \n",
       "L 1178 4863 \n",
       "L 1178 4134 \n",
       "L 603 4134 \n",
       "L 603 4863 \n",
       "z\n",
       "\" transform=\"scale(0.015625)\"/>\n",
       "      <path id=\"DejaVuSans-67\" d=\"M 2906 1791 \n",
       "Q 2906 2416 2648 2759 \n",
       "Q 2391 3103 1925 3103 \n",
       "Q 1463 3103 1205 2759 \n",
       "Q 947 2416 947 1791 \n",
       "Q 947 1169 1205 825 \n",
       "Q 1463 481 1925 481 \n",
       "Q 2391 481 2648 825 \n",
       "Q 2906 1169 2906 1791 \n",
       "z\n",
       "M 3481 434 \n",
       "Q 3481 -459 3084 -895 \n",
       "Q 2688 -1331 1869 -1331 \n",
       "Q 1566 -1331 1297 -1286 \n",
       "Q 1028 -1241 775 -1147 \n",
       "L 775 -588 \n",
       "Q 1028 -725 1275 -790 \n",
       "Q 1522 -856 1778 -856 \n",
       "Q 2344 -856 2625 -561 \n",
       "Q 2906 -266 2906 331 \n",
       "L 2906 616 \n",
       "Q 2728 306 2450 153 \n",
       "Q 2172 0 1784 0 \n",
       "Q 1141 0 747 490 \n",
       "Q 353 981 353 1791 \n",
       "Q 353 2603 747 3093 \n",
       "Q 1141 3584 1784 3584 \n",
       "Q 2172 3584 2450 3431 \n",
       "Q 2728 3278 2906 2969 \n",
       "L 2906 3500 \n",
       "L 3481 3500 \n",
       "L 3481 434 \n",
       "z\n",
       "\" transform=\"scale(0.015625)\"/>\n",
       "      <path id=\"DejaVuSans-6e\" d=\"M 3513 2113 \n",
       "L 3513 0 \n",
       "L 2938 0 \n",
       "L 2938 2094 \n",
       "Q 2938 2591 2744 2837 \n",
       "Q 2550 3084 2163 3084 \n",
       "Q 1697 3084 1428 2787 \n",
       "Q 1159 2491 1159 1978 \n",
       "L 1159 0 \n",
       "L 581 0 \n",
       "L 581 3500 \n",
       "L 1159 3500 \n",
       "L 1159 2956 \n",
       "Q 1366 3272 1645 3428 \n",
       "Q 1925 3584 2291 3584 \n",
       "Q 2894 3584 3203 3211 \n",
       "Q 3513 2838 3513 2113 \n",
       "z\n",
       "\" transform=\"scale(0.015625)\"/>\n",
       "      <path id=\"DejaVuSans-61\" d=\"M 2194 1759 \n",
       "Q 1497 1759 1228 1600 \n",
       "Q 959 1441 959 1056 \n",
       "Q 959 750 1161 570 \n",
       "Q 1363 391 1709 391 \n",
       "Q 2188 391 2477 730 \n",
       "Q 2766 1069 2766 1631 \n",
       "L 2766 1759 \n",
       "L 2194 1759 \n",
       "z\n",
       "M 3341 1997 \n",
       "L 3341 0 \n",
       "L 2766 0 \n",
       "L 2766 531 \n",
       "Q 2569 213 2275 61 \n",
       "Q 1981 -91 1556 -91 \n",
       "Q 1019 -91 701 211 \n",
       "Q 384 513 384 1019 \n",
       "Q 384 1609 779 1909 \n",
       "Q 1175 2209 1959 2209 \n",
       "L 2766 2209 \n",
       "L 2766 2266 \n",
       "Q 2766 2663 2505 2880 \n",
       "Q 2244 3097 1772 3097 \n",
       "Q 1472 3097 1187 3025 \n",
       "Q 903 2953 641 2809 \n",
       "L 641 3341 \n",
       "Q 956 3463 1253 3523 \n",
       "Q 1550 3584 1831 3584 \n",
       "Q 2591 3584 2966 3190 \n",
       "Q 3341 2797 3341 1997 \n",
       "z\n",
       "\" transform=\"scale(0.015625)\"/>\n",
       "      <path id=\"DejaVuSans-6c\" d=\"M 603 4863 \n",
       "L 1178 4863 \n",
       "L 1178 0 \n",
       "L 603 0 \n",
       "L 603 4863 \n",
       "z\n",
       "\" transform=\"scale(0.015625)\"/>\n",
       "      <path id=\"DejaVuSans-20\" transform=\"scale(0.015625)\"/>\n",
       "      <path id=\"DejaVuSans-6d\" d=\"M 3328 2828 \n",
       "Q 3544 3216 3844 3400 \n",
       "Q 4144 3584 4550 3584 \n",
       "Q 5097 3584 5394 3201 \n",
       "Q 5691 2819 5691 2113 \n",
       "L 5691 0 \n",
       "L 5113 0 \n",
       "L 5113 2094 \n",
       "Q 5113 2597 4934 2840 \n",
       "Q 4756 3084 4391 3084 \n",
       "Q 3944 3084 3684 2787 \n",
       "Q 3425 2491 3425 1978 \n",
       "L 3425 0 \n",
       "L 2847 0 \n",
       "L 2847 2094 \n",
       "Q 2847 2600 2669 2842 \n",
       "Q 2491 3084 2119 3084 \n",
       "Q 1678 3084 1418 2786 \n",
       "Q 1159 2488 1159 1978 \n",
       "L 1159 0 \n",
       "L 581 0 \n",
       "L 581 3500 \n",
       "L 1159 3500 \n",
       "L 1159 2956 \n",
       "Q 1356 3278 1631 3431 \n",
       "Q 1906 3584 2284 3584 \n",
       "Q 2666 3584 2933 3390 \n",
       "Q 3200 3197 3328 2828 \n",
       "z\n",
       "\" transform=\"scale(0.015625)\"/>\n",
       "      <path id=\"DejaVuSans-65\" d=\"M 3597 1894 \n",
       "L 3597 1613 \n",
       "L 953 1613 \n",
       "Q 991 1019 1311 708 \n",
       "Q 1631 397 2203 397 \n",
       "Q 2534 397 2845 478 \n",
       "Q 3156 559 3463 722 \n",
       "L 3463 178 \n",
       "Q 3153 47 2828 -22 \n",
       "Q 2503 -91 2169 -91 \n",
       "Q 1331 -91 842 396 \n",
       "Q 353 884 353 1716 \n",
       "Q 353 2575 817 3079 \n",
       "Q 1281 3584 2069 3584 \n",
       "Q 2775 3584 3186 3129 \n",
       "Q 3597 2675 3597 1894 \n",
       "z\n",
       "M 3022 2063 \n",
       "Q 3016 2534 2758 2815 \n",
       "Q 2500 3097 2075 3097 \n",
       "Q 1594 3097 1305 2825 \n",
       "Q 1016 2553 972 2059 \n",
       "L 3022 2063 \n",
       "z\n",
       "\" transform=\"scale(0.015625)\"/>\n",
       "     </defs>\n",
       "     <use xlink:href=\"#DejaVuSans-4f\"/>\n",
       "     <use xlink:href=\"#DejaVuSans-72\" x=\"78.710938\"/>\n",
       "     <use xlink:href=\"#DejaVuSans-69\" x=\"119.824219\"/>\n",
       "     <use xlink:href=\"#DejaVuSans-67\" x=\"147.607422\"/>\n",
       "     <use xlink:href=\"#DejaVuSans-69\" x=\"211.083984\"/>\n",
       "     <use xlink:href=\"#DejaVuSans-6e\" x=\"238.867188\"/>\n",
       "     <use xlink:href=\"#DejaVuSans-61\" x=\"302.246094\"/>\n",
       "     <use xlink:href=\"#DejaVuSans-6c\" x=\"363.525391\"/>\n",
       "     <use xlink:href=\"#DejaVuSans-20\" x=\"391.308594\"/>\n",
       "     <use xlink:href=\"#DejaVuSans-69\" x=\"423.095703\"/>\n",
       "     <use xlink:href=\"#DejaVuSans-6d\" x=\"450.878906\"/>\n",
       "     <use xlink:href=\"#DejaVuSans-61\" x=\"548.291016\"/>\n",
       "     <use xlink:href=\"#DejaVuSans-67\" x=\"609.570312\"/>\n",
       "     <use xlink:href=\"#DejaVuSans-65\" x=\"673.046875\"/>\n",
       "    </g>\n",
       "   </g>\n",
       "  </g>\n",
       "  <g id=\"axes_2\">\n",
       "   <g id=\"patch_7\">\n",
       "    <path d=\"M 97.2 98.47875 \n",
       "L 176.4 98.47875 \n",
       "L 176.4 19.27875 \n",
       "L 97.2 19.27875 \n",
       "z\n",
       "\" style=\"fill: #ffffff\"/>\n",
       "   </g>\n",
       "   <g clip-path=\"url(#p09ae227671)\">\n",
       "    <image xlink:href=\"data:image/png;base64,\n",
       "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\" id=\"imageb27f9b8ebf\" transform=\"scale(1 -1) translate(0 -79.2)\" x=\"97.2\" y=\"-19.27875\" width=\"79.2\" height=\"79.2\"/>\n",
       "   </g>\n",
       "   <g id=\"matplotlib.axis_3\"/>\n",
       "   <g id=\"matplotlib.axis_4\"/>\n",
       "   <g id=\"patch_8\">\n",
       "    <path d=\"M 97.2 98.47875 \n",
       "L 97.2 19.27875 \n",
       "\" style=\"fill: none; stroke: #000000; stroke-width: 0.8; stroke-linejoin: miter; stroke-linecap: square\"/>\n",
       "   </g>\n",
       "   <g id=\"patch_9\">\n",
       "    <path d=\"M 176.4 98.47875 \n",
       "L 176.4 19.27875 \n",
       "\" style=\"fill: none; stroke: #000000; stroke-width: 0.8; stroke-linejoin: miter; stroke-linecap: square\"/>\n",
       "   </g>\n",
       "   <g id=\"patch_10\">\n",
       "    <path d=\"M 97.2 98.47875 \n",
       "L 176.4 98.47875 \n",
       "\" style=\"fill: none; stroke: #000000; stroke-width: 0.8; stroke-linejoin: miter; stroke-linecap: square\"/>\n",
       "   </g>\n",
       "   <g id=\"patch_11\">\n",
       "    <path d=\"M 97.2 19.27875 \n",
       "L 176.4 19.27875 \n",
       "\" style=\"fill: none; stroke: #000000; stroke-width: 0.8; stroke-linejoin: miter; stroke-linecap: square\"/>\n",
       "   </g>\n",
       "  </g>\n",
       "  <g id=\"axes_3\">\n",
       "   <g id=\"patch_12\">\n",
       "    <path d=\"M 187.2 98.47875 \n",
       "L 266.4 98.47875 \n",
       "L 266.4 19.27875 \n",
       "L 187.2 19.27875 \n",
       "z\n",
       "\" style=\"fill: #ffffff\"/>\n",
       "   </g>\n",
       "   <g clip-path=\"url(#p7bba2f9c94)\">\n",
       "    <image xlink:href=\"data:image/png;base64,\n",
       "iVBORw0KGgoAAAANSUhEUgAAAG4AAABuCAYAAADGWyb7AABn5klEQVR4nFz96bIkyZGlCX6y6mbb3XyNBQgAmSgUKjMri7Kpu2YeZp5kfs+rDTXRDHVVV1cmEktE+O53NTNdZZ0fou4ATRCZO0WEXbtqKioszIfPOSz+n/+v/0eOPrG3V3xz+QPPL57TdArHifvje/7y8zv+9d8+86c/P3H79MTonnD+RIiOnDMgEdKgrKLbS/ZXgs0FNIfM5tKwv9pgq4rzeeLdTw+8+cMT9+8WlimTIogkEUmhlESZDDqScyI4iB5yApEFOUGKkHyGpDFyQ6OuqfUOW2dUcwbTE3PCh4QLC5EFaSJSZVLIOA9kjeGCKr1CxWtIFZkEeHIGiUFpgelG6sMRuxmQOoCAmBJucgzHienoIIHRghQDkwugoGoVdSNRRqCtxNaKemtp9zW2s0ip8AMcPy7c/XzmdDfhnSel8r0BtBDUStJqRWM0tdXU1mCMRRuLUgq9LInoAlPyTPPM7CZ0rcnKoXSirgVtJ6majDyVD08JchLkDEIKhARtoGokTaepa4EgsoyJk1wwJjIMC+PJ4aZE9JkcgSQhawQGiUKSIHti9ggyAkAIBAK+/Pn1j0zKgZQ9KQlkypQLSggBAolAlpVPmfz1ExQSg0QjBWQZENKD8JAFIpX3pJTL98yC9dcjhEBIgdISqSU5ZqSSCKFQMRJzJqfyK8kCKdYXIFImh0yWApJEZo2SBikdEPj6T4YMpFxeOa//LWfg66Wgxz6SQkR4x6M5Y60iGY1tHEIuNG1mt5d0W9APkTxEUhSkIMtNUiBkxtSZzYXi4qahbiSLW+ifRo73Z5CCefI83s2Mx0hYIHmBQCOp0aJBo5BEMhM5Z1KOX5dLIMii3CAhJFmU75iyI6QZGRUipnJzVAQpkFKRooaYSDmVG4BAYdC5RmGQIpGVR5gZqT0CBSETgyYTSGULImT5hUJkpJboSmObRHQJYxRkiU+RuESSz0QNSoFEoCVocrkOl8hSkL1BZolREaMCXgZSCl/WjZQhrguXyGXR1pcol4ReZpDZEIXiPC5kPjLFxHYPQnpicmiTqOqyqwQSooKUyDICEaESus60u8zuUlNVBo6Jh7vM4/2E8xHvImPvWfpEdJCjRAiLFC1abTBCI3DrBSdEDqj1ZiMEWSrIBql02YsZMomYHCFqREhInRF/s3AyKlJS5BzJJEQWyGzLC4lUEcyMrEZ0FVFKk73Au0gSHmkjygikEaSYv0YYbTW2yQQVUUoihaaKiegXcsxEl0kKRAL1ZcdFwCugQniLImJVxBiHWmaiEGV3f1m8BOHL4uVMSpmcUgmnWaHJhto2NNWelBW3j5+5Oz5wuNC0rcaFwOwXkBljFEYpnFBkEcgygQwICVJnVOXRdcTWBjVCionx5BnOgRgSwWWiE+QoyFki0CjRoOnQaMBA/nJxgVzWh7J+5UtDDaiv7wHIORFjCb8iZbJIIARSQErlhpSbIhBZlYdPJNALys6oxmEbMFqSU0C5SBIBu4mYNiMV+KWEOgQoLTG1QUqBkhIlJDEmvIv4JZACZA85CkhAEshkUWkLuSPFjCJhjMZag9IKEdYguIbKCMSUiSmXhcuZlBIpJrJMaGsqdpsLtu0lzkceju+5f/jMp/vM4aLFGM00J2LKaKOxlcG7AFGSpUDo8qQjBN4vzMuIlJkQHTGtC7Zkohfk9SwSQM4SUGu4NChh13MpIhAomcrFksikNVTWCDqEqMg5k9OCwCFlBBIpSXIQZdflWBY8Z/KXM06U5zkTSHJE6ES2C8IGhJFIq1EiomtBVhnTgqnLjXQhknJcd51EW4Vcw6EUEpMsdgnkmMgpQxIQ14c0KKTZUHFNygqXjgg8Sie0EWgtkVKWXf3Xo46YMyGVV4yZIDNKJWJM6Lqu2HRbNt2eafbkZLm7n4l3E+cxst21ZBQhCZTRVI0hxIAMkSg8wgRUlZDAPHieHgbmxjMNgcUtJBJCCJSQIARRZqIsCyeEXM8OgRQaJRRKQBKWJDMpJyKRhCeLDLlG0CJlC1lCXhBiQsiZrBJBSHJSpJzKmZDKbiznW9m7WZZFC8qRZSrJCRmZDQqJUgJtJNKCaSTSJkJIZAIhBUQs71FKopQuJ3AW6CpjGkMKkewyCoVIihwUKRoUW6zY4eNE9AMhDuQskMqjTUZrsUYHvl5vypSFi5kgEyolYoqkJNHGCIzVKKWRMoEwLItknEr4QwpMpUhQFq62pJxQocRfYQTKBqTIzEPiPk2Yailn2uiIKSKlQmgJUSIQJV5/iYMkICOFQkuDwJJlXPdZIuZAZCERQJhyRuSmZIaiRiqDsYqsIlNaWIIkZbXusrSG2TUjkwmUI8mRLAVJpBJ+AmRpSvgkYY1FUa6VLMkJYvR45yAqKiuQRq7nWylVRCpJS/KGLBJGSDQamRQiGUS25JgJvse7E97PhCjIeJSO2Krk0UJkYlgzakqo9ClhkkSncr0xBXRgxMUZ5Wdm5/A+lPRctSA6Eg0ZhZAeqRzaKGy25eBHIY1C6ZLCL6Nj6BeQ5RcscyQGkLIc0uWcWsNl+nJ4lYuUGDRtuRHkclNFQhJQTCQWUtZkYSEblKiwxtJuDIdDRZaCz+eJPM14L0gIUs5IISCvpYvKoCJZftnBiRwiCUHOoRz+Ka1PZIWUGisNjRYEGxizY3EegUQqhdZl8ZLICAlCC3SlyTmVgkNotNAoFDE65vyI8w+kNJGTJ6byYEoV0VVJF6WG4CCFcn9CzviY8TJhVNltKYEe4y3npcF7GHrHOPVIpem6mrbdYCtbdt6XT5KldtFKlZrIaKT0JDfjl0Q/zoRY3ptSRmSBkRlJOdhFliVd+hLN81rzZIOkQaLL+ZUjMqeStWaFwCCyIOWKnA1aKrYbyctvGl6/viCkCt4P+NsJ5kTweX2/hDVBQZY6bC0QEVmU/xczkYxPsXzPFCBbamO53uy5vmqZpoE/5be8fXuLWzxKq1IKfKkry9MHSiCtRCaJVhojNUpAjGdy7slyRBtJTILFRbKIZJmQKqNFWTihIMyZ5EU528R6zuVyfJSFy++Qc2YIE9MpMc0ntFZUzYa26zAWYp6JacGnmZA8SUikMAhhkMKS80KKGb/MLIPA+bIeUpQSwphS60Eu31HIkiJnjUAhkoZkINkSDnOGFNf6Ja5pvCoJRtaILGlrxfNnml/+asMvf7kn5QO5Diw58vnunsQMK+pCEqT01yIaFCJLJBmRUrn3WZGzJmZDwlA1Ha+uXvH733zP999d49zErt7ixsC7j3e42WGNRmu1fiZfH2xU/lqoaylK8iRHtNUopXDOEmJCyEDO5WyLKSFERtvyIKRYQmZGEHNJVP62ntNRf6Z3kdwPzL3GOYc2mqqxGKvJLLgwMi0nZtfjQiznjK5QskIIiFESgsc7iXdr6pxLGi0FZC3Wp1IghCqpv9AIKnRukLmCrMlRkYQsmzAJckqkDGS7IhglvmodubqWfPu95dvvd3z/wzdonUnaMC6GcfpXnP+M1oaYHMm7L8fcuuvLzhe5pPMyGSQlBBth2TdbfvXtN/zzP/w9//gPv+Hb19d4P1Jrw8P9E48PZ87zhK0MxhqUUoj1yE5kBJmSNGeEjigbMa2m6QxSKPqzoMcRgigvDzGVAl9LgVSgdCmXYxKlovibkgZAS9vjlsyyzLi5IWFReouUEJLHxYF+fKQfH5mWiRAkSgoULVKWBcgJYtCEIElBlGiTMmRBiuWJJ5fUX4saIWu0rBGqojEt++2O2jR4J3BLXuG0sktKpiVBqFKfKU+zkbx4rXj5uuJw2HBx8YK2k7ioeTpWvP9wpO9HmvrA4k8435fNICTW1CjZ4hdP9LEU43KDFluMbrg6bPn7v/uG//LPv+Gf/um3/PDL79hta5w70vdP/PqXf+bf//gTT+eeZXbUTVWSry/hUpQ6MsuIMB5Rga6h29Z0m5oYBMOw4FxmGhLzWEKfEBJEwVSRlBpRl1KGuD7Mf4MlaWMgKY+QE1KDNhohBImCXY7+gfNwxzifCDGQs0ZkU7BEpRBZA6qcJesr5xUijLnUMklB1CULFB1GbZG2o61aXrzY8u23N1iz4fbzwoe3M6djqZcyrOfdelNUxDaJw7Xm2UvN/lBT15d07TO6TeDmRvL9q47/uf+Rp9OJ/eY5x/4dj8d35AyV3fDs8pcoWfHp7mecmxC5wghLJXc8u3zG7373Hf/yv/w9//iPf8f3339Dt9kgZSAmR9N23NxccHW54y9vPrMsHu8CWut1M38BNUGajKwDus2YTmPbUvNGH/HBs8yBcfBMY0BpibUSISDFABmEBGUKsE5i3cdizZIFutYNtjHU+wqvLX4yeC/x0bP4kWF6YlyeCGkCBUpnlEgli6KAul/hJEw5+9BAOehyEuQgyUIjZIWmo6oOXOyu+O7bS37z95f88lcvMLrmzU9P/J//7Za//HHgfEzMS0YIibWGyEhUI7tDzatXOw6XFmNrGntNbS/Q+sSm23F10XJ5eMbx/EhX39CPt2X3Y9lvvuH7l/+FGD3H0y398EgmoJTk5vqCf/j9b/hf/7ff8Y//+e95/folbdsVbPQLfpoiTV1xcThQmYrRzSyLx1rLmnsVUFlLbAPVJmM70JUgJI+fz0xTYFoWnA+4JeJcpBKyQHRSEFKEmBBSIGXJyJMQXwvytALO+lBdYkyF3NT42dKfLcej5tQHchiJuSfJCakd2pakREeBzAWdzzmRY8n8FA1aOPQKOQkSJEWOCuS6U4Vhv9vyu//4Lf/0T9/ym99e8OL1FUJonr/aYmuNlA+8+dFzd3dCSsXV5Q0+95zmhYuLjlcvntE2HrBYfUBgEShq29E1icv9BeP4Cuck3i+kJGjsgZv93/P6+p8Y5jua6v9AS41VmpvrHb///Xf8b//1P/Cf//k/8Or1C6q6XpOOkuEubmSaB7SyXO1esus+Mty/x82eUHuUFEiR0RqskbQbQdWBNOBTZBlHfIzMc2RypUVESXQRIpcAKAookXPJiEvUKWdaWhOU8hLoF5sXbKqG2rY4J7l9iEjl8CyMzKi0oFVAmoSpVGm/LALmQPALKSqiBxFrjJBUUpCkQuQBhC+FbDIQLaBBCnYHy+/+0wv+5b/+hutnNdoIYkx8aw8FOgsakWeWJZKy5OXLb4k48m3PfttwfXGNNXekpCE1LHNC1yByhcgL++2WeX7Ou4+fGacBkmHfvOJm//dsqlf4MFKZlm2z5+pwzT/9/tf81//6e/7pP/8dL19fU9USIRy55L7ENNEPTwzjGas2vLj4Dc8vHrl/eiS4meAWlJVokZEWmk7SdAJlMyFFlinifCSkhHOJxSkAKqsQOSPk2g0pZ8Na+Is1QSutpSRKx8CnjE4Z/c3lK3ablrZtmFxCmp4xPNCnhV7OWOnxc+kjKaOQSZJJhLAQnSCFmuRrZLJYMlE1YBq06El5QglKyyZbcjIEIqaKvHjd8vrbS4SKHM8PLMuM0Q3PXhz41W8i58eR29uJYXAc9ldoW3Ec32NVwpoGgSIliVsy59OEsAs5GKZxpraWXXvgZ/+BZXZUYsf19gcO7S8gGgSSw/aGXVfx619+x//tf/0X/vEff8ez59cYk8gMrE0ZMrC4M0+nO6Z5orXXvLra8u2zR95//onz/B6RlpKhKrCNpu0EpoYoAvPiGKdACCXEeZ8JAaTUtK3B6owLkZwCseSjawYs1p6l+Nrq8SnjYkaJjH5+eM5u11J3ltM0cVxmmt5j3YBlRKeACIIUDNEbUpRE7/FhJDnA18hYo9IGIRVZO2RqUbSkPCNkRK8IOhlCjEx+JKQZISIhOE79I+f+TG0u6OxzdrsNz24Ml5c98/KZTKap9jT2EpHPRC9QViGlZJkjx6eepHvwivNpQqLQosK7SHSCjX3OzfbXbOsXiKyotOWb599xdaX4/X/8Nb//j7/n8uIZQiZiHtc0oFpvWGRajpzOD6QA+/o58uIZr5+/59mH5+SHe7Ts1zApqWqJqQtC471n9g4fM3mFzpIvqFFTaYQROJcZx8SypBX8y1/6wWs2XhYxfUFRUkaFhD5sr9lsWlQtGVMGG8n1gGh7pFtQI+VLOEtIhpwy0c2E5MhZI5NAxgbFppQHOiJzjRQNMc1AREmQMhOzI8aB43ng7uGBYTgjlWSZZk6nRyYlSPUlIldst5bLyz33j58IYUQKhdVbclxws0DVBm0VMXrO55kgj4hgmMbla6M3LBmZGq66X3C9+xW79hppPJW64PU3f8/rbxu+//4lXXdJTODDiLQOmW3photMSgvj+Mg09WjRUptraA5cXV7x7PqKJTT4dAblkUajqgQ6EnIixFDqOiXJWRBDIkdBXVlaU0POTFMgoUhkQixdmBhB5ASotW4rXYOYwMWEyBLd1NdY25BkwueBKS7M+UxQE+iMkhZDTY4N0UNMPSGNpVFoGkQAwZcSwaBEIquCQkhRk4lIWQDelEYijuN55sOne+7vj2w3F/hFMU2OmSPST8h0oGkM11eX3D20KO0xQlHpFh8s3msaarRRaJ2Y/YI79TRyC0SklIhcWjytueTF9a95efMdF4c9yjrq7Uuevb5iexFRusG5jDITKIeQCmErpLAolXGhnG/eeXS+IoSGkCLaCjabmm5T0c+CQAadEbqA4yEGYkrlWoQghUQKmcpUXGw3NHWNd44sNT5EYgScJ4UCjUuRS9KyojIlqy2/R+SEluqKTIXznnG54zx5+nnE+UCOBk1Fq/Zo1TL7mZgnUKF0m6VH+EB2kZgiZEnKucRpob4CxuV3l9ZIzop+HHn3/o63b+94ebNl7A1ugcyITQO1usSamqvLC16+uEaLch5s2g3HQSOlwdoWbaHegO8Dk3dst5lmI0jSMNUZoxQXu+f88Itf8u23z6mrFlNbDs9gfzMwuRPTmKhtQC2S4DUiNSjq0rIRnnkeGIYjfklEr7mfzgyD4zTe4dOMUBmhSiIhlCDLkjGGmL7yXHLMRJ/QUrPfbbi82KOUYBgjJijsolkc+BghpK8IjJRfgZI1s8wFYcmgY75g8ZoxTAyj4dxH+nNkGRV5Npi4R+ortLGkcMQLQZQJVALhyHIm5oEQNWS9oh2lCQqiEGyEXMHRssBh8Xz8eOLnn++R8YppFiyuBnVmzj3alDrmcNHxXX6JXxS72jD5LS4Z6tbSbQXSjNRdImTwg2Cz09StwNQ1wUPTWr6pX/Hb333Pd9/s8bPB1pnDjSLJwNQnmtoismY4SZSssLrBGFnaK9ExDCeGvmccPf3TI/Ps6McTH27/xGm4I0Rfuu1aIpRaaQdp5YcUQlFwERK0bc3FxY7triN4z+wU2miUTkiZyOILvJWRfOG5iL8Gy7WOiwL0tFTgJb1b6PvM2Atcb8B1KNdg0h4lOpISKANSJZTIZJnJ0RPFQMxHYvQrv4PSGhESLU3p8wlFioGYB2KaiMlxekrcfvRszJEYLSHvwC7MeaQWC4pM02leNjcsU6C1GlntGHxNu1NsdobFj+gq0GTBEjXdzkBWVE1LCInDRc3hcM3f/+4VF9uW451H1w5TTTw+zRBaNvUBP1Ucn2CzM6URGyMQcK7nfH7g3J+5vT/y/v0j5yEwLieeTp85nx8IISCUxFiF0nJFevJXSmF0JUQaY9nuOnbbjqqyBSjWCinVumAlRMacV8RIICkMuChCaUF9QZIAfRocWQp6N9EPC36RmHzAKIWoWmZfMU6KnGayWJDao2XB01IsvI2gj8QwEkWBuZLIKGkwpkGbCoHEO0fyYwmvWTJPhvNTQ39IkB1C7MjRk9NEq3s6ewAJ27Zms8s0RrK92HGat3RbCh/mnMgs2EpircJWAq0stpLM08TN8w3ff/cNr7+7RKPwbkDasUQIp9i0l1i15fZD4NR7mm0gC134I94xLo+cTo88Pp15++kjP384MS4Lzk9M80BwE5KSTUotkYq/LhyCHEqTVktN1zZsNy1VbdFKE1REsnJVfCCkWNhoK6QlhcaIjhQVgeErpeHLeacfT48kAYN/op+eEFlw0b2ksxfI1HLUjg/TA0/5kcgI0iF1uViBJrQZkSaEHQipsLmSK+m0qjZo05CSIIWZLD1N0yHYEbzl8VHSX1QYs6CVIcdLZveGxj6w625IISOUZruraWuF0RWn6ZIsRupGIAdBygGjK4wplIK6qYhBUdWS168v+OUPr9jtG/wcaHYLWY64AF17YNtcsvSG248DQQyE2LEspoRJRk7ne56OT3y+feTD51vOkyPlyOwHXJjJOa7gslxT9vwV+sorL1NJTdVW7HcbNl1LZSokCmImuMA0OqbZ4YMv7DZKS8jIklv4lFnCXNpTa+M5A/rpeEsQkSHeM8x32Ery7OI7brbfI3PL5/qe/jzx6XEhppEkPVJkrDVYXRHR2Drh4oyPC9MUmM8Z4RxSF8JpSBmXJ0LOtNWBTf2C6BXvP9yzqXZst4G26zG2Y06Gyj7y8vmA1YqYIlXTsN1rmtryrbugH8FYjzaalErWWkKVwlqLF1BVkm++e87rb54hVSLLiWozk3JEhZZNc4mm4f7DxPF4xm4dfmlwc0Zrx+QfeXi45fb2kY+fz4yjoqkuSXnB+flvGqiKnBTBlw67toXylLPASEnT1jRVy2G/47Dd0lY18+hYhpHhNDL3C8vkCT5CKomc1oqmamn1linPKFd6dn+bqOhz/0CQC0P6zJLu6dqGl89f8/LwK0RuEMLy9vNPyE+BMDu8j2glUEJT1QahNbUIBBHxMWL6iBARd8qEKInesbjE7BZiEgi50NYtU4Dbu09UquLqouNw6dgfBELXuKUnpBO77QbnEloHuk5SN4pnz/eYpwUXBowudSUZjDaFKqAsKUYqW/Hq+Z7driPGmSxGTBVAVGhxoDJb+iOcx4HIjDFmLWkCi3vkNHzg4eGBu/uZYagxqsbamkTP7HtmNxGEICFJUZNyacOoWqOFAiRGW2rd0tQt27alsRaZE3Pfc3w8MhwH/OxLqRBT6WGKglC125pKKRYfS+aa1iQllV2n5+VM1BMLj0Rxpm427HcH9rsryBWP/SPVRiKrSMwR5wrwGRsJVqCbjLYJozImQpYC14PvI8s8E9aFc94jEDh/T8pPGH3BMAeejkcqbek2FqUSu/2OeitxYQAxYLQmxRkhAkpkutYyL4ZwKl3xsESCjEihSQ7SXNogVlg27R6tJD5OIGa0zhi9pbI7tLA83g34NLK9UFxdbeg6idAnJveJx6cHHu8T/bklRUFtJFWlQVqm5chZPJFxJYumsMsUkkpXGKmRWmNlhVUWLQTRecZ+IIXA/f0DT09Hpmkhh4RIXxvbCAW2ldR7gWJBjDNSJ2SAv+mjokPqycKBmEDOCJmQQoKQRUAhRrzqwTqyyARfoKtlylQ2IExeufdhbUUV8kVKGecC85xxvrCnjBb49MAc3tLZmm13SVtv6LoNV5fXvHzVcHFjqJoNSZwZxkesbJmHzHDaIYMiUehvvg/4IeC9IztBZS1DGsmDQhpHHANJZqL3JLUgVUArS2U3GFMRXWJxE3UX2R06DgdD1Z1B33N6eOL+ExzvN7hJ0hrQjQE1ESI0tmPTdFglIUZULsSiuk5s6hopFDmCzIIUSo05rtQEtziOjwPDNJdaL6+dtlwwSaUF1UZitx58T7YTUqdC/ciFGpHzunAil85ywrP4mX46U+tHluj5fPqJ0/KJIKZChkmK4GCZEpNdiAJEjAUZ8bD0Aj+JwlRKpjxJ0aOUwmhJVQlM3dM1PTa/5tC+5OWL53z73TU//Kplf5WROnI8SR7vHzjPA3PdIYJm6RxSKcZp5Hzfc74/s7gJ13jaqmUJgbY5YzYJP83kWWM3Gtl5BAmhLUpaBKIseHbsLiVV5anaCWVGzv2Jp3s4P+yYzhnLge1lRdOCkD0u1uy2iWdXDSEspBBQJJR0mCaiG4H3nvP5zPl8YpomlnnBu3LMhBDxcyrkHzI+F8rvyuxA1RK7AVEvRBxYt4IdoiDNrKFyckeUgiAcIQfGqef+6RNuNpyXIz9//r94HD+SRcBajVYG72CeMkJ7llgYSgJBcpL5DPMgCF5g1A5bbxjzCGKhqRTbjebysuVqDyZEOl2z3e7Y71uub/YcriQpe0ROPHx64u7zZ07qieU0c27OaGNIeI73jxzvH3B+Yq5mZjMRz5HNpsHuSv0UloS9kFQJBAnZbahNQmRPDA5bZ9rsCPkJj8cv0D8pXH9JWjQyJg4bePa84frGoPTE6G6Z3YbELwpbOq0PhQgIFcjS0/cn3n14w5/HmYflkcnNuMUTfFo1CLIIu3LGpVK/FcWTwLYSVUOSngigEsIUzUIWf80s9bG/R2cJaSYRGOPAbXzHgzzxOHzm/eOfmeeRxrbkriHNA0ff4xZHIqPmVJqISZC8ZBnBTZngoVIVlb1A5C1KRrpOst8IDvuOw6FBhBncHT7tcV4TY4UxB8ganRvCAI939+QcGY5nNtUTSmjqrqI/n+lPT7iwoMeZUZxx54XZVei5RIZMxt5mTC9IsyReN1RmS9UmcvYou+CGW4b5DuNrRDjghy3Sb6iVRG0dF9eC737RcX2jQUyEXIN4hRQSpSh16Rf6bg6EsHA+P7Cpd5z7nuNwxEUHQZJjKRPKTsu4FAm50PeVBtlIbCsREnwIhARJZFDl7JNRkkiQBPppfCj945xRKiPjwtF/wvmPPPS3nKYjWrVs2ivaLEnzI1MfOQ0B71PhWAqByoVyTZBoYchao0SNEhVtvaVrLZtO0VQRLQzkmiwCS/jEadQMU6I/S8ZeQ1I8fDpy++GBx8dHYp4Zx55H+UgOsN1uCD4wjj0hOIjD2jIJCFuRPShhUFYgPkzElEhnA980bLstgoYkFxZ/x3n4gHMJVV2j8xUybTGyhEPbWq5ewMWVpm4VWm9RZodWheuvNGgTQKaVdFtEjvP0iJaS24cPPPafcHFmCZEcEjFnXEj4mPApkwQoAVILTCXQRhBiQVuiE8SVDyqVIImSdSYh0DMnUhYF7MQQ8IRwZJxm+umRlARts2dfPcOhWTrFnToR/UBMhROSpUBqhdUaZTXS7qC5JIcNIndY3bLbWdquJDJhgeGkyDkzj0d0EoShYjwqHhuBX+DPf/wzP/74Fx76e5QJBD+iBQSfeDo3ZC9QIkEMRFdYyForpiUQ5ohWFm0TU3xkOi+oqWWrLrm6uUTYSGpG+vmWlANd/Yxt8wrCAW8U2kDTCbYHTbuNIAQhGIQqqb5cRRpSZ5SJSLWyYbOCnNBKcXG45nJ/SdM0SC2+tm0WX14hFBFkKQczX3i6KaxCj5DIq8hSKLHqEEVJZoRA17vyy4WIJCEIOZBSZMkDXixIU2MrS2UbhNcYXSGR5JhWjnsmGYm2kk1taGxFZS6R+Xv8vIVUoVWFrSJGziAFwSemWDgVvnekeEScHwhPDSclOY0zb979mU+3P5LEiUOt2DaCpgbnJe/fPTI8Zq52OzpjUCkicsZqTQoe5xai8hyFIzx6lt6z1Vecjnc83n9GHQLICUTisHtOV31Ha28IXjP1M7bzNI3C1gKRSwM5aovFIsSXjnTh3WR04YogyUJCiqScCTHgo8eFgIsRFyLzumjerzLqLFBfwKwEyWWSSkRZGqYIUDIjTWF8ZQciCrIAfXXdFt6/88QQCdmRhCAqh7AeIRVJjzjZsyTFHM74OJFTJKdYMiEhqKxktzFcbDu6Zo/gkjg/Q6Q9IUim+ZEcepquIYsF7+eSqk+OMM3M7z6zdBUuBB6WnuA/cdid2W49N88kFztJt7Ecz5JP70+4caY9dLy4vMRIWXRqVtO7kYdjYAme83FkGhdkMnT7wOgfOY2faCaoW82mvqatb6jtFUZVjKOn3oYStoT+uouk1GitkVqtpN6SARZAXZWdtqL4Mc2M45G7h498uPvI7fGR8zQzLxHnEj4UIJksCjF3zRJThDgXVnW2YpVoC6QURTZoQKqiviaCvt5fMbuJYzozek9IpR6TOqJEBjXj1AN9FoxRclruWHxPzgWxlkKglWC/afn21StePHtGXV+zzB3L1KDSJX6ueLhvWdyZbRvR9cA0PdI/3rMsZ4Zx5kkLLjcNkoVUD9xcDzy/0tw823F9s6VpBEpr3vw80DaB3dbz/IXhVz9c0bY1RmuyNJzOE7cfa27v7nl727OcJyqtSCIwpxOn8Y7u1GCqZ+xunrPdXKKVJueAtoHdhSS2Bjdq/JKRWqDMSn9e+4xFCZTLwn59CXL2LPOZ+/u3/PTmj7x5/zPH44llCgSXimb8C5gpVnpjLqTfQmXMhbIvJdmUw++LGgibiQZw5Wf03l6hYs+UI1NaGb8KjFbkrIjSE+WRMThOIdP7My6UHSdSRinNfrvhh+9/4B9+/3tePnsFouXxKfFwr1jGCDLSuQ1mbmmawO4w4VpLOp94nM/cn458JHNx2dIdBqq94+YZ7LpLXrz6ju3+hnE8cvv5gafzPUI7dteZ3XO4/FZzdbWhri1ZWObxiuubHdu/VPhlwZ89iEQIM+fhSHXf0DYX7OpvMFcdGoUQiUymqhVKa8YzLFMoiiF0afUkQfTgckZKgbGglPhrh5qI9yPH00d+fvMn/vCnP/Dh8wfmcSIugRyKhlDIdZGKLGJt1ZSXUqXLUTUadGF25bV5mg1rIc5KiGWDT2DihC48O5QsQg0lIkEkIo4lBlwO+Fy0ajknBIJt1/F3v/wN//LP/5V/+I//xOXhBd4pPn0e0Bz5sPQ4PyBUQ7dtaDvJdmsQrWJ4/4YUPMd54D2ZV8uGq+6SyxvF/mJL1zXsb35N3X7Lw/GPvHn3jh/f3NK7M22nSZsR9jPVs4ipHGSw+5Zmc0PdKnIMxMVzexoYpxPpPqDzhqttIAwRN3jiNiJXaofSCoREyEAiFOeFqImhEH2CKzeuqhTGCpQqXEqIxDgzDLd8+PgX/vCnf+Pff/yRu4cjyxxIPiNTYZCszDuSyCSxagUpi1Z3ms3eYjtNXJOZECNJFloE8mtsRQuvUd5iYotJHqRDy+IuIEWhsfjsCCIgZECIWJhIKaOQPLt+xj//47/wL//8f+cX3/2GyuyYZzByYOrf8eHDHzgPD0TfcH11zeHSsNsrTJbMV1d8vrziNJ45+olj6lHtFapqeBoT58XQ7LdU3XOm6R2fPz3y8PTAkkcqa3DyCSceiHrDlDNkTWUNctdwU11CdEz9A9MfzzyOE5NT+DqzjAv98cS+72l9IR1JrVFSklNZEK0UHknyhjkUOoKQGW1KVpdzqRNLxzswzyfu7t/y5x//wL/96c+8/XDH6ezKbkkChUBRiFtJFHZAJqOkACmpasP2YOn2BqEFiwsEn0t/MxVorFguiHIdbgokBypaVKqJZGSOhV8kNKALWVMEpIggi7g+5cKheHZzw+9++x/55S9+xabbQ6ogS3Y7zWE/UBlDig4fIpmGpj2wO1RUokL/8B0xDgQd+fDmL9xPPZ8fF45Sce4d1i50mxOXVwJksyIJoZwDKiPTgoiOGCJTcqV5qyZ8nqi7Hc9+OPCL+2vu7j8zTuNqGJAI2eHTyLKMuLlDNk0RXiJQSlFXmq7NpEUwD5lliYRYdmTTlbOoKMEynkSOC6fHB96+/Yl/++Of+fHdRx5PM/2YSCljlKRVCvOFSi6LpUYqsRNtNM3G0u4VwiRmH1jmwLJE3Fo6pJAK71IBOqP7fiS5Iq5PQRXsMWREWpUHKx8wp1hCJIEs1mdNZpSRVI3BGIEQEWTRMzet4nBR8ez5jnN/w/kc6TpD1Wi0lRgluHpxgzaRqAdivOc0LvzbH+5J5si5H9jvK16+fM2vf7PQbPY03Y62rqmUYKsFVdDkOTPPjoVI13bYyhDjiTkktps9L39xyes3B55OEZcstlWEOHF6eqBttzT7DXZTI6rC31eiRrWaHDJxCUxnxzxkshBoK7CVxFhBThm3QMoet5z5/OmWH398x1/efOD+aWBxiWUuBNjGCna1ZqstUgqSWu13hERpjW0q7FaTasfZDQyDZxw83pVFi7E4PiQESRcGiu5PIySJ8wm3BGY8WgWsykiTyWv4SGSyTIiVgoaCSOLx/Mj7Tz9z6v8Oa2qkqEAktIb9vuYX3z/HGs3tXU/MkboxdG1NYxV6Y9lsPaZ9Tsgv+D//P2/40//8xBIDSTjcy47PH9/x8PSekBLGWBrd4WZDPHl6k3m8GBDdI3bbYXRLVW3wy8TD/QnRGjbXO15/d83do+NhsHg/8fjpFpUMh8Nz3BCIE4hGo02FVBYlJXWXsOeEVEUDbypJt5KRhMzrDfU413M6PvDh/Wd+eveZT/dHZhdIWRBjIbyqWLiVna6opAFViEVKG2xVYdoKuZEM4sx5mpjHwDiuoTL9dYeTM1mVDFeP/YwUqtCbl4U5OiSeKAVVIxBGrXxJjdYSXQlMXZSTKSY+3n/iv//bf+eH739JWx1oqpoQyqGqdebquisEIxs5no5kRmLSIGuUStTW8e3O4MUzbj+cuP/wiXGYqbpM9or72w/85cf/hjIW5wbiKBmeBIKMsg7zeMS1sAuXyLSFRbP0C/dvBnxb8+rlnssXF1y+eeI4Lcx9gcl63XG8f6JuHjG2wdoabSmA+Rc1qZVUjQQBppLYmpKBrhEohJHz8cjnT3f8/PYT7z5+5jSMxJS+nn8xFup49BlVSxppUcqgjMZWNbau0Y0l2VxE+dmQgyj8ysTfWFOtNiOrtZAOS0BrCscoFWeBjCdridIWqwxaZyyeuvI0XabZBNyQ8TMcxyP/4w//yjcvvqc2V7y4kUjq0pkm0TQVITqGSRFSAjnjPAzzhKg8pr5FV0cuX1pefnPBmz+cCYOnJlJpgfMzHz//jKlgXk6EkHHJI2rHqOFuyrjPnvMp8lkGttUTchK4zxF2Cxd1pukKqG0/TpzGieWUQTXsrk9sxiPjecsyb7ChQqgi3BSUnaVMRueMskWckXMi+IhfHOPwxKdPH/n5zU/88S9/4cOnT8zTvFparGwtIMSMD0XAKLOgCKgVRijMKvCPgKXCqhqrLVqtZgJQkpIvesEv1AWZi1ubUKBVRhDxIaBDMUiT0qCVBVXj68Bmkxj3GTemtTiMvPv4gf/3//d/h1zz2x9Gbg6v2HU7qqpeyTMJY8rTPC0TKTlSUrTWkc0TczySpefyecPzb3cQHCI5OltT6QY/OpZlwLkBYSJmG1EboIZ+iLje8RhPhMXRqYlt2NCNLbsrwXSV2X9bsd81GBEJyUFlUK0gm6KB8MtM8nH1RFmTr5TwfmJ2E95BzAofIMWF4Eam8ZHb+/e8ef+Wn9/+xF/e/4HP959YwrRySNfwxirYyJmQ0teQR14dHnIqWvUgiotgNhhlsNVqDOAzIq7C/bUAzBm0UaoYr+mMCaVyTwK0ziidUCqhlERgibZm7gKbXWIZAiIJolNMy8gff/w3Ykg8PJz47Q//yN//4j9wkJppnunPA8sciEEwT5EhzsQuc7n3SD2CL2H1+Tc1v/qHHdoOLLeKZ/vnvNp9Q5sqTj2kUw+LpBIGmTWxF/jREHwDweIXTRTlid5gCBmGj4HuhaHdVHQN1J3EY8lVwgeHlIK6qzG1WfVpX/RokZhmQpiL0NNnQhxZpiPD6Ynbu3e8+fATbz6/49P9e24f3hWWnMqg8l9dglY2d7nxpVQvN78QhFNaFzlIcpKorKmspjEKFROyl/ipPPwhRmJJa9BGl4WLKqIN2EqhjKVqM6pKCO1h9eqodM2mTUy7yDRksocoNSpJvB958+5Hoq+p5DXX2++RbOmHmcenkWFamGdB9BU5CSod6TaRttWopaGSmUpLsk4kdeT8U833z37gh5vfIJTGuisCDSF/gHAkniPJS/JoIW6pTMfGNDSioUsG5RVLv9A/zFy6Lc22Zn/RsA+GIDc0dcdms2N3cUm732LqGqUr5NohL2ZcBbXPKbHMjnE8MvSPDOcjd7e3fPj8Zz49vOE4HnGxL1BI+qvipuBagizKoqW/CXV5tb6IKZXkRQpULvYatpbU9RoJ9WortRRQ/svna6VK4y6LiNBQtxWiEeg2Ic1MyA4ZMkpWGN3QNoLtPjJPxcYvSUUtLFYYZG4Ii+bhPvD+/cA8PDG7iXleQILVNWZTo2Tk5sqx2x+pao3MLdGVGrHbVVzcNLTR8PLiFdfb7xCmwujnKHFJpfcc+zeEPJKQTEAcGw6bSw6HPRaLOoM+z6RUNNohQLWxbPc1uzkyekNeEnO/MPULyxhIobjgyRU9FgKMNdQ1BBdxLEiRaRqNNS3ILbM8oHcT49wxjBeMw4hzHhcck3dMy8IwzvjFY8zqriTFV9vGnDIplrCscnHS1LJ0JeI+YyxkIVjOgjwX8wHkunAZCNmzpOKHVTcNuq0Q1rHgmZcZEQSN7ahNg6wsYZfxLkJwpMrQCUsjWlS6IKeOh6ee//6vf6RrGqwWNI3i8qJhuy+8fKMju10C7ZiXieP9xLsPntM5sgwj7qTYNB1102LrA7uXL7nQmovTLRefKx6PjpCeiBE+/TjQ38L+meb5q4ZKbFg+FThJZ0nVKZSRmKZic+jYTp7caxKautGYRiJUKoal2ZHRfNE8WFvRdhopHFVjiLFDSouUiWk2PHvUPA4vmeaFcZoZhoFhmJiX4tI0LhNPp57T8YR0C40UCKkRq3CjYJSJnCKkFbCXEm1B1RnVQRUF4hOEp9IGkkKCAh1yYokzk+iJCuq6wtiOIDVuOnE+e3SSVBuN3raYKoKJpOxLN7aXtFFTZ4sMFdOUOPW3PD6dqG3N1X7H61fX1G3H5VVL2xiMCTTNiHM9Tw9H3vyp59//uPBw7wn9wE5G2pcdgznSjzM3lzu6mx3dLGlf/cz+VDP2huExMhyLRuHiW8XhNeyqHcuhxW07dO6pn0O1NwitEEYVszRXAFzbZmxTShUhI4K/cuAysRioVqUDXWWLUjuMiUgViEly/dIwzM+K1YgrO2yaZubZMU4TT+cjt/f33N3dMZ6OCLcgQ0T4jHBr2Et8taKSShYRqGb1SAHTgWrWVlDIKz4K2uFZ0sAoizBdaIUUxQVu7DP9KdAoC10xSSt2fw2owlOMbcZMCrMo0qyY54TzE8viyTmz+LqEAq1o6oquq6nrgNKGYdaEecPQw/Ex8v6nI+eP93yz17zcdvTijseHW14vPXWCxX0iqY9UuzOTm3ALVFVL93qDuQqwmdnfbFFXr5ivziT3CTY9eqcIY2JcHMPomGeJNgZpJFVr6fY1ttUFeSeR8lrkGrBNoRWktNLMBcSYQWjqdk/VWlJeVs/MgA+ReV54fHqk/gxCOqRwHE1iniTZe1TIqCGTxjVRSelrnWaURBlAU+y3bEI1ZSHjV+MfgfbSsYgJJyekkkRCMRedC+zilkTbSZQpH6hNRhpRqG464U0gK4FImjzX5FijckWtNzRmjxY7UtizTC1jX1GZiraxGHOgci8xdDTVI5cXmocPI8cAzgVScvh04un4gePdW2Rdc/v+fzKkP6F3j/TDwPFJY+ye5rLhlB6og6Heb9m1r1iuj/THI0sekDWEPuIiuJBxkyfHQA4SrWrqrsHUJf2OMeH8F/OYzDJlvP8C8hYycFlYufrClFpPqYTSAmkVLmaG+cTj6Y5hfCqyaZORSZFt6RJoGQku/I31cCo6g1pRtap4nIiM1BnTrJryebXMiBkdjSNqR9aBpDxLHMleMEwz3i8YA/VGYdtcZLY6IkygMhKpDTMCNyeiFMRksPKGi80NSh2oq47aFlMaN29Zpoa8a7BGFw20r6nkHfuN4rtfBOLSE4cjVXQICUkPHIcPPNz+SL1rmR8+0Y89OnimeSESqJvAlE+cpzM3N99QNRfU+wZZnxizR3kQMjOdZ87HBTcncpBIY4lOsZzBDYK6Kz21GCPjEDg+Rk5PmWUs6IVcdQGmKubhiXLmZCkRukilERkXPPdPd/z87ifefXzLOE6FTxlT8e5UIK1EhKIxzAHIpbVkOw17g60FSkBeP9PWBcWKQ8aH0pnR2XqkTRglyDIx+RE/laREakfdKrqDxHQRoReyCAjhUCqTlUK5hDCZSGQJEyEvhTJtAtl6otb4HPGhpL45F+DU+wrntgR/pq4Uz/caZfdo/Zr58wndRYKZGE73PNx/5Pl3F7S1Yhku8EMixwlZzczpluEMxu64vviBpr0EseDjLYkRW2lkzvgFYqrIeLRRdNsNu4stVV2tXeiEXP8OMTIOnrvPjv4YEAKaTtHtFKYG2wQSjpwDSrNGI0XKkeE08OHzBz7efuR4PhF8KKYySawdFQEyk9aen0ChrabeN9gbi9+cy/nq81cZsm0ETQuhFrAUGE0LG7G1QuuakCSTc0xhJoqFahPZ7BXtDlTliKLYOsgcUXJ1oFMCoSRJeJZ0i08Wq2q00ehKYawqmjSZWNLMMHXIhxpbSaLzzKMnRUezjby+aGja5zz8ZJDpljHMzHmi70ey3HHzzR5bV5z8hnmK9OonpuUzUl7w3etf8+rV32GMYXEfmab3SOmpTY0/jYyzQJoNbe2IFNNUoSVCZ7KIFNt7hVQaYwTGQI6BsS8pu/eZLAKmjtTbmaZx68+UECmUYJ4WPt1+4u37tzw8PjDN0yrmAL5oTLUq5nKu1IlV17B9dkn1omPZTQz6xLLMxYRPF//oUGeaVhBbUWyTQ0JLA9pWyKrGBXDLAmbCSEe7ybRbia4SCYf3ApECSmbQFlZxuZaF0qYrj0yB2mSqxmPbAWMdWQkmFOdpi9VXpLij21RYLTB1RXYVxmj0PpJRyGxwk8Y/ladxmTPT5Lh+ZbnZ7KmHjvnjyOPjW7Seef7iOb/61e84HC4J4YFpeEMMR7SANC+cHkf6SRCTRclMs6vZHC6ouw5dWZTWSGXQ2qKyQnaZcGk5P0mms2I4J/wSGM4z0g6YdqLqoG7U6syQGZeZz7ef+PHnH/n46QPD2BNjXIWOIEWRgQmRyUtCekm96dheX1O93OAOjqO848nfszCjjaKqGsiCWC00m0waFVKD9wGttKIyFls32Cjw/khMM0pDuxHYqmRablkIPiFUxK4NPakMIiuM0lRWUDcQcsTogarV1NsGbS0yG1KucA6CL9YReRX5S60QrkHGFikC0np21woRrxBUhKYhecnpKTAtA+2mYls3bE4Vldbsd1t++OE1z54dEOLEML1nWT6hcPgx0j947j45xlFiaJBCok1FvW1pug5TVUj9hWJXdpxA0rSaw4VkPldIEZmXGe8C5yeJsZK2UzS1Bhz90PPh8wf+/OOfePP2J46nR3xwpVCjEH6UKlS7HFJxg2j3bHYX6JuKZT/zKG+5X94zhCeQica2tNWOGBK+SjRtgK1CaQhBoBUKq1o6e0lEkaIki4GsPKYq2ZRbPH4KzGME6amipBWZymZ0aNBojBJUVbFlr2xPtc1Um4BRl+i0waQdXbWnqTu0EUgdS2xvW5Lfk6aRNMyIKGi6htYciL2itxHXZ/pHQX+KSNOj1AQc2bSZZy93XF3VwCPj+IBb7hFxIs2Opw89Hz7MnE+G6aTJs6CtNrS7Hdv9js2ho901aGu+GgzkEFmmxPnJ45dyjGx2Cj1nXGxARdysGZ4UVgtCnnn78RN/+ukP/Pz2R+7v7/DefVWWSlmKZikoi4akqlqaiy3q2jB2Zx7yZ+7nj4zuCUTEGENb79jaG5x0zHamajNyURgjCEGicwCZLVZukLomdRkvnnBpIguP96ks2kkwngNJeCpfekybVrCRFSqUoQhKJ7I4ke0C1QFrtuztMzbqO1qzp7GSqgqYKqK0IBFLU1G2zMcGsRjMtmV7aambisfqSBZDoZsfNac7iTILSh/x7p5NC13TELwj5c/FIjDOsCw8vDvy5i8nPj1kwlBjwqYMxqhqVLvDNB11U9Ht7NocTeQsCSFwPgc+vpu5/xzwTpIpLgzGGIRuIVn6Y8b7hcnN/OXdJ378+Wcej/d459bRLxRfT6mKyClFErGc+1eadBM4d3c85s88TJ8Z3UDKEaMUWle01QVX7Xc475iHiVDdYzqJNUU3rpclFBO1bDGyprYddWwJ3hBiwrnIPGSmE4xH8AmmJRGCR+w8tkrItYUhtUeaCdskts23XFe/5Lr9DZ29hhwIqce7ufBWVsWmVg1VtWF4aBgfJLubGnVoETKx5IXBn3DuiukkeHgnWXymamdyiBz2e+r6kuglKS2IJGEODJ/PvPvzA2/ezIy+hinQkthf76h3e7TZIURXRrhQEhQh4moCk3DzwvFp5PNHh3OglKZqFE2XUHImpUDvMsenntN0x+dPd/Tnnug9Ige+zMqRCKwGZMLlqQzZ2ArC1cixeeIcHunDI3OYiTmuoLTC6I5d/Yznux/IEcbhzFz34BNZl0ES2rnIMgfCUugGAoVSFhlNobeFTHDgZ3CTwjlYXISYsT7RbhPaFsWJqSVt3XLYfMN1/R+4tL9mYw+k6BjGnmkcSMLRbiX7fYduStOQBQgV86NFpEjXQR0Cwxw4TRNpGpmOnicBw9HTHCJXNxs2lxU6HIiLRqpECpHpsefDj4+8/enEp08RaSytNkRtUJsNm5trdocrNps9VdWuQyjK/IDgHXM/MI8TbnElcz2XGTvGCrptxLYPSDkUzokfmJZbWBw2K1yO+DxDDljV0DYtqk44dSYxErUnbCNnOzO6kSmcibl8fukmCaQw1OrAvn7F8+0PVKrjeL7jqXpDdhPokh9oIQzeR+ZpRCpFUAs5ZcQ6hUMpiZKpEHkT5KAhJaKMBKUIRpB1gY7ads/F/jnXm9+yU/8BHXc4NzL0M6fHiWl02FrSbSq0rovCJWWqqubi8gY/TLjpntOHwDQ5+nvN1EM+T8xpQg0eaWbyc7iq97CpWdD4xYEILEvg8faJd28H7h8Cp7sFU9VsvmmpDwea3YHN/orN4YLD1TXdtsXUX8JkZB5G7j488nB3IizriJcYGCeHf3I8PpyQ5h3GPFLZiNIBrTJtDpyTJEZPFDOV1ey3F3S7A4t5wolIFp7AgtMzIpQhSiGFv9prCIHAYOWOQ/2aF9tf82L3S1qz49PuT7yrOtzsintRzuim3QMwjT1ZRKKeccyrn5TBWkmuM64OWFsafpAxOSBiGYZgbM3VxXOeX3/L88MP7OvvwV9wPmam48TpNNGfPSlojLWkaFjmhETQ7CratsGKCpkTp6cKv5w4fUjMDxvEtEEtEpkX0AXBUHWFe5A8IfFpYhx7vEuMS6QfPffnxLwAThIjWLPl8vlL9lfPuLh6weawoela6q5GGkAkcnCMQ+L9T2c+v7/FLRk3CrxzTOPCOHpiPIL8gLUf2G5mLnYVTXeAGIlzKMyBTrA5dOwvD+htw8QTIcZVqbP6e63WWXE1HijDMiyNueL55jf84vIf+PbwW642r6l1xUV3TVdtEPqEWNnPeru9wi09Lkyk0RHUzCJ7koooY4p7bAu+9cQpooVCILDaU2lBbVuu9i/5/sXv+Pb577jafocWDf0w0fdDMSOLGSF1YTSZihQkflHUlUHKCm1rqqum8BkfWu4/3jF+ztA/sVUzVVvRZYNKmdZatsYyHReens5M8UQ/n4v7ujAko5lCmbzQdhUqb+nsgWc333D18hnbyx27q11x9dFy5ZGUbrX3goe7xJsfR1IYiMnRTxPH80Lfe0KYMXZiu4FcR3SKKB9x08LsZrKF5tDQPGuQh4wzE4tbCH51ZwhlkIX46ldSJpxY1bGrb3i++Tu+v/wHfrj+R14dfsVFe4MUmc5uaUyDl2qln2R03XUgA8t0xscFHyecmBEmolWFMhZhJU2riHPAqOIuYLRm02quL17y/cvf88Or/8Lzi19T25YQB1zssTU0XU0KhqaWaNWuns2lfVJmFliy0FSbIh60tQGhmabIdHToQ0W7VVgv8fNC3UnsxnA79Nw99XjjmXKxzJdWUlWWLBN1Z6nbHZW6Yb+75nBxw83rF9jWYutyBLDyQwuyH4tMSjbMk2UajqR8ZFwemYaeeYokEraGumnZNC1WwDwEznNPsDPmEDGXirwL9PqOMSyMcS7SHuTfUCNKH1wrTSU3bOw11+0v+e7iP/Hrm3/m9eEH9s01tWmIySNlsdVSouCkOYMWOmMqS84NPixlYmFK5BRKgy/nr9ObqiYXlERoam25vrjgF69+xw+v/pkXF7+lrQ6rJW6iqTX7fSmeawsyN+RYM/SeEGeMNijVEKMsAkkpqKrCafQhczNHZJLM3Q5DIAwjYhjQLcQ6Mz5lhhlM3SCkghBRukUbQ91Kqk3LvnvOYfMN+8tXbC/3tLsWU6vy5Vk9KijToYbBsbilLHi3Z+jP+KBW+/yZzBPaBjbblsPuis40xGVijiOpAdslOATSNjDKpThOhEDKCi3MOvhp7WCngJKSxuzYVi/Z2ZdcN7/guv2WZ5tv2FWXZUpJKmSHFMvYGCkKLTEB2jMWNWnToYJBpEAMR3yeiThkWtYlTsgqIYSkEoqLzY7vX/+GH777z7y4/i1tdY2UZRCRlJqqatluEjkotm0xHu1PkWmIaF2hTU2MEue+KC8LfxEtqPcVF+ECKTXLsGWZj/QPYDcKVZUdouqJZpepLzQ6ThgRqOoOZUG2ibYuidLz59+wuXjB5mZTXGW1JKeEW2KphwyEkDmfAsenBaEz20PNcNqSpglDoG0jyoxI+8hm42j0hrRoQga939JdKub2iVgJnJ6IIRBTJqSVCS6LUkdJXWiLImKVYd/c8Gzza561v+RQv2JXX2Fk8T6LMa6jbhIxRHIsbnwl2IKefU8lO6zpSnORQAo12Q9AILGU+S8KpC0yoVoqnl0/54fvfsfr57+la66RUgFuTWktRmqaCtgaUrD4RXL0U/Ej1ro0XF1iu6u+ypgWH4jRg4HmUCO0wk81Tw/gc0C5BaUSRloOqaFyxRqjH07EGqypSSJQbxXdZs92e8Ph+TW7qz3NrkbpLxKnxLIETk+OqhYYI5h6wdNjZlkSpoKq0YTYItWCbRZ2ZoO2JzqjSG5i9JHmcsfm2wvkheZMC8ESQvFCSfkLtJfwqzNDmZmaSUi0rqjNho29Yt+8YFfdUOluHSdaiEExRXKO5JhW+t6XybEZPU09sjJY3aG0RkhL1DVZN8SU//qDSqCsKCbQlebm+oaXz75n212hpP5bqmZBwUVCa0FtFVOEaZyYxokYIy4kYl9CY1MplinTK18KeO2RCoRV1HuL7RSBGSUV47kn58huf0mznXDuTFIL1XFbiD7ZEEKgO2iafUPdXNLuNrT7GmXKrLovlLgYAseHmZQyh8vy8MRgmaaMCw7waA2mttSbCts05NDh+8Q4RUwnMC8reJ4I1UyYEzkqMpqYV7/OnAs5Nhc/SkFZOCE1UlpCWs1FcyEqpZyYw0QdW6RQLAFyKq6xREmZeFIEldotHis90YbijygFVtYIfVhHM3uC94iUi1+VytStZLft6NoWpYr1YGHalulTKQdS8gQvmBdFf3Y8HZ84jwuzE/hFEXxFDpJeZ2KY6GZBt4e6jRAjWhkqWxNVpt1taesdxjyRcuLq+TP8NOGWLSFOtO0eY2tykKQA9UZitglTbbBNWTRB8RiZp0hKcUX1I/e3Hu8FTVux2bQ8Pva4kEkyFjB5W7G7apCy4ulW8/Q0EMhc3WyJzyae7C2n+MCczsXKgjJSJue43otEikUEqoUs4RJNiHCezxg+ULElBkFrDvgU8XGhMduCpOTAvMy4JRXFkCmLp5VoEGhiimWyLx6pLLWyZAlOjix5IqS0MqdWUbt2hHTCuXugTB/8qwvsTAgOtwimQXI8nrl9uuWpT4T5QJi3JGdJrkzAqsdIloZuZ0kp4oNDGE3SJWQ02xaVi0uREILNxZbQWYKzBD/T7gO2qlZwQKHrTLZDEVVYAyRC9CyT4PgYSDGx2cPuoHi48zzeRcR1ZrOt2O5bno4ttjXUKnB53WHbTH9qOR0F9/1E87wmv5g4Nfec3SemMLHEiM+BXKabErOHHEpjNhQqrDQWLVUx7vYBH3pyfEf0iX7u2VbP2E4XnKd7umoPSKwyPB3PPD0Wm8VupwrnZNNeFRc6IVj8BH7EKKjqBlk8GoqOS0WyEBip0Fbics9p/kAGRK6JsfA1yo1fcH5hnhPjFHjqH3mcTkzLnjjW+LEmOY8VM6aKbLLg8sZQ2TL4KIRIlBK/gFQS2xaj7mbXFfVMrdEGYi3KMKbkMbZC0RQ+iAwEAkLlwpgiF5umU+T+cyBFha0UhyvL1Snx8W2iP0W2F7A7GLbnlpw6drVju3eMU+J8bOjHHbnq0S8i8+6WKd0z+CMhRWIWRcRIJuNJyZVaLX/hqygyipQFPkRCjCVjDI/EEHFh4TwfacYtj9WBSm8QSC6ba+4fnvj4/ozSM6pqaFuFPuyuSWRcnJhnh5sHKqkhWLSVRCnJscxsU1KXMZSmwSfHcfyED46cNCGUaRYxJnwMTH5idjOjm+iXnik0xLjFT5HxNCACNCoiXSAbQUo1Rrd4cjEw9ZIcMk2rEaJgibbRRZwiEsrqMvtNJ1IIoEFbXfpXoXgXi1wQeYEihsjx0XH/2SOyYbuX7C8lz15pljlyfsrMk8BWiu1B4Z3FKMm83PPp05G720RSG3bfXGFffKSXH5n8CRfD10HvsfholKG+KfLFS/nLzLyMwq/nWoxfShG/vgKzHzGy5ThukejS5d79hqeHIx/fnRFywNQS+axGt12LT4EwL/jomaeZkDVpURirSSqSZEDoMty21EpbIobBzfh0RwiBaZmZ/FKUKakcsnM8M4WBYfak5VuMo5BGzwOtLjOJF3fCy8g8d6S0gbUn6CJYA0r9jR2FEsQYiFEipWXVBpLXc1WITCLivCvTIlXEZw/aEiMM58DpKaKFZDglQlRs94Jnr0oGOE8ghMJWhRg1zYnxaeDTh48si6K6rjDfSubNwBiO+Pxlbrn4yinJqUSd4ku9jgxTJbFIKa+g8qoiyIm4Djac8pnFL0gMRnakkOiqLc+rF8zDzOlhZlpGdFWmhWlpIiKWPlvOoQDJPuO9w0+eKD2iipjWYEwu2i7VIeSGiGWJkcmdOS1HhmXApYAn4uLMHM6MbuA8JMSpRh0/spxGRNwh7IE5nrg7vmEXDTG8JsXE4iTzmJEiUVdF2puTXNGHlcwTMkIUG8EvQHUiflXCuGUhxkJy9WJBixrvAt5H3CwJWTL2iXkSbC9gf1lEiHcfYXalA55kYPKZY9/gnEY2J9T1E2l/ZhKPzH4qJCCxjgdbU/+/voqVoVhnyxWdm1/ZYcW0LubC2ApERAqk6EttKUZEXrUUIcASSC5xPgbevxkIPqGXfMKl0isTRBpTYbCIKHGhgKKChK4imUiWGSENUrYI2RHzzJwyvRs5uSeWuBBFIuSFJQwM88Sx90x3PxNvJdX0Hc82O7Jw3B8/8vHuz3TtL+g6RYiR0zEyTrDZFCeCooYtneSMhKTwXhBcRKmI0utwwFTmosYgirJ29iX1jxP4qty05JGqIkyScYCxT2wOYGvYX2SCFzw+KIalOOMmpTHtBZvrM6F7xO3eMIsHBv+ICwGQSCGLi8K6WF/JrbnY9pNlmUAV0zqT4QtgI9b5rEXZm/HkUAxZlfBoKRFkZCGO02qDyJKne4dbEvq83BNCYAkzkkRbdXS2IQfJMC3rGDi3cpQCGUcSocQoURV2L7YoWoPDhYUoMgmP94FpXjieRu4+j7gPnm/aK9RB8Xj+wF/e/je8H7m5+k9cXW1wS+J0DGQhvzogeCfQq2wZCTEYxhOk5NGVp2pk0Z/5hEyRGARjHzifFtwC3i2ESRfuoh0xlSS5imWG/py59IXUqqvIZi9wQXAay7xxbSe2Nwm5txztzNw8MKR7XFpKD43VQFusg+bLcDcERaAhUAVBWYe6f+XarAsX0zqqOkeIgRQghkgSEfQKKC8BExNXXcuxb3gYBk6PHn3q70gpE5xHR1MQD9UgdcnksswEI5EqImUi5REfzrg4UcWWLFKhZVO64sGVcJBEJPoygqs/eR5uHZy2UCvO/T0/v/93fv74b3z34pd8+81zuk3N+VzcDbqNwupiaOqFIOtMDBGpMyEonu4XYpipNoE2GITMzHMgTJ7oNeM5cz45hqPCuRk3QvJQ7e6QeExdgahwczF1UyYgRMJUgnZTOIxKGTIZ0y2oXY9LRxZRyqIivP8i2sjwZeb4l52GRIg1g4wlYfuCT+SUi5tfLD1y1qESMWSSL6M2s8jF7C1KfD8h3cLNtmNYtrjgOY0L+nw6Fa+OkDDBMqmGxnqsUF8duYXWCJ3LwsWZcXmgkpsyS05LfFyIyeH9gptdsTCSmRjAj5n5lJhOCT1lTqcH+uOZH9/9D7z3PL/+F549u0AKg/MZazW7XYUxqjhBaNa5axFTZ+Yx83A3kZnZQKGCy8wwBGYxEpaK2WWCj8yjZBwjyU8so+Lu/JG6u+X6sMHWNwhR+Bv5S8IgClu5aj2mcoRhQMgzsT7i/YkQfDH7lLIYsKUvZ9eq80Wg1uwxC/VVtEj+/9MBrwsuVpupHDPJJaIv7nmZXGTcvsKdR+I8crGpcHnHHMpu1+fHBSFFOcx9GRUdbKZWVXG3Ea4wndch7CkGhuWRvCiCL4Xvkks/zwdXeJlRoYQiBwWjJo2SOGbSNHObfmIce+4e33F98ZrLix1ta0hZoqRht9fsdjXEkl1Kxeo+UG7ANASeHk9o62m6tsi9gHkK5Njjp4gyUDeC0RY1UUwO7zSfHu/J1S3WXnJ1c8BWFXydsRGK4jNltFkw9UBWj/h4AlGUO0WSXzJFVrPWlPOq9xZoJBJJSuvEj5QLOzqzauIzX3/wi8w45tXNtlBEsgetoO222Klhvh9J80hlJNeHljltyTKh+4eEVOBjICyeIXnOeqEyFmlB15nGaDapQidNjDCOA2P0TMNCu2nJJuDCVObmhIjwEiUUuIxYFNIpCDDPJz73f2Gap9JCkhFTBbSOSKFoW0XdCprGskwZawXKZNySV25+ZBwGnp7uaDrJVW6KICpmfIj42eGmzK4WbPaa6CRjbxjDQCYxjp6nx5/YbZ/z+vX3KH29FsmRmDw+eJzzZDxV7VFmwqW+CO1lW86oLwZs6y7K67wbQZmcnKIgRr4+aCJ/0cKtpjZ8Wch10X0Z1u6nTFgEOWSqRtOEjtRLxvsR5Ty2krRW8+yqA5vR81ORuroYmKelOMTKGVspbCtodpKLqqXyEqMN0UvmPjKOR3rj2Mwd1VYQ5bICqhm1Zkw4gQgKkSQyg/cjYZmIoTx5IY5kzhgbqCpWnuVq4ikTqhZf7QWlDITgeXh65MPnt1xdbRE8Q+v1RlCoAd5FpLRsdxZS5viomeeiabPSMI8nPnz6d+4ef8fN847NArIKJVqEhXGeWFzEGkFdFwc9jaWSzTov56+7/0sULAPpFWRZZsCtVhdlS62h8ctCfdERxNWZaM64KeOnsoBKCGxlySfJ8b5HnQKdKUY22sCmtch6g17OhX08+1A0bTGhpUfXgiqCVwrbwta1RCWITuNGxfkxkDnjfGCbNapeu8hrDC8GZgVRKPWMAEWZ5b26wi2+BzlS15G6jiAVugK/lPdoKwhLybSCGFjczMfPn/n5/Y9kXpLirwsVIqdVq/1Xp4iqhribaDYJfSxzX2ur0CTun37mzbs/cjgcqLoOVXl8WljcyDCdCSGjlaSpakZfrIqtqBGp+CrHWBbv66g1IcsI0lTUNDF8sbfI62IVfkkx0oaUIIaSAwS3ClJmQXYCYxRq0RxvR453ng0Gva0xUSICqErSNRbtx4RbnUxjLCBuXj0SQ8wsrrCngk8kI0leEhfD3Et88CAWpE1UWRSvrbSOhUyJgsYJUBJpJMoUW3sRV2aTylQV1HVC27n4M8qCrktVaNtLSEzTyDB9pB8c7z995O3nn6hqmOYBpVq0BqXAGIVMGq0VWq9nVeWwVUCqCa0CSsLTdMfbT39iu7/Gbm4wbYPUa3LlB0IUKGmpTFUIqlKuILdca8aSxgulUXIt2GMiRlfkVJEV7vpSBhQb3xRWi8RIGXIfMskLkhMkBzJJTNC4AY4fehgkebOhbQxVWC2FIwWNCc6TcpmiYSqDMQprNMpKMAEpAjlKYhSkdRh7jprkNH6JOAtuVGgjy2iyNY5HMlEIklolvLVCWglT/Gq0qbUqFoImItVS/GsxxehUZnIOuMXz+PCJtx/+wHmQvPv4lo8PP9O2iYenj/ySC4yFui1PcrAZbQs+GNJElj3azMBEzgsCWNyJD/f/jv6pQjavabav2R8qXCjzgVIqQhajFVqV+a4ya0gakXQJi2RklkihEFkRky87MSdSLtajfLHGiJkcWF3QBTEWp6EUIC2StAiIAotCjpr+c+B4u6CzpjaWrQvU1qAS6CQQCXRMRazYNJqurWmbhrqqUVrhcDhGtP6SDK0D7RCFvIJBiwYrthgUUUwkpjKOTEqiksUNvTaY1qAqj1BxZSkIjJJYLREigUjrbhNImfBhYRkmnp4mfnr7B/71T/+DZdny/tNbHk/v+HC78OnuZ2L8Fe3WsAGUEfg5YJsyOdn5kZiPIAZi6IlxXKkAE4/nH8m3Drv/wOH5maheEn1mdkMRfwhBTL5Qz5VCYxHJkIJCAEqsJNb1WIgxE9ZIwoqQfMkak4fgIYb1veHLvwv8LMlOopNAB81yD8dbzzAEKpMYloVh8bR1hU0alWXp7WVRMpb9vuL6Ys9ht6drNkilGNzE2R2JakSq0q7IojgE1bXB2pqLwxUX2wtMLVg4kdIDIc4kKUlKgtGoyqArjdTiq8OplAIlJWJNmxGqIOhfPLLOd5yezrz/MPDvP/13/vTmjwiecff4hn78zN3jxN3jO2JaqBuNqDK2liwTGF2udXEjMQ2kdMa5R0I8IcshxTDfopaR++Wet6cR2UzU4hIXXBmxQmJxPRAwWqOTJfkvZjGi+H7JjBQF6UgpkFa/kixWx7sEyZdz2rtUss1YjosQBNEL4iSQQWGSIJ0F/UNkGDwxZLyIjM7TL46Nj7QJqiyRSaCzDpjasts13Fzvubm8ZtftEEJxmnrsmBlCRKhIEgt5dSLY7jdUdsv11Uu2+wuyTPTeskRH8p5AJooCwgr5VwPqomBhxfIKmO2cK6h6dMzLmePpM+/f/YXbz2fefRj4y/v/i89P7zBq4TS+I4SecUr04wOZGVs3SEAbqGzxTPBpYlkmYlqIacItD3h3hOSRWZBT8RKLzcJdiJhBc2V+oGaD1oacAz4OhcKgLESBnxLzEApbKxcFjpAZJSNKlvMTWbBV78tOSx7CAs6tNVuEsJROffIC4SQ2SeQkmB4zw7mUVBmISTA7zzAvjIun8xV1FOgk0diMspKmsew2HZf7HfvtvuyKKrHIGj9LAjNRSKTW1G1DU2/ZdjdcXrygrjYsYcalGbIhhLQC1KpMI/SR6NPKVCpPbLGBj5yHE0/HRy6unkAMPDw+8PPPf+JPf/43bu8Gbh8nHs4/EfKZFAIx3xePy+hZloGYJ5TelfClMtYW6G14OjEtAzlFYnA4dySEJ0R2aASNlWwuBObgGOU99/MbDBvquqWui4mcUiBz8QTyrsx5W6aIlHktU4osR9uIFplU3FmJCKIvJnXJU6A7lwshNgriIsgr+ccmgXUSf8qMp4hza5eDkrn6EBgWx3me6ZaKzluMkWhp12EEq7LUGk1dqeIEFAXaAK60/kUSVLKlaipqtWPbbambCiUh+zIycp4WpmFmCYEQJcsUmPsFN3qiS+WAzhTDTSIP53s+fP6JbmOYl8iPb9/xp7/8O2/f/0g/zsw+ItSRqloIzmHsRF0J4hKZ5wHvJ4T4YlSdUNrjg+M83DNPQ8FhvSMGh8iexkh2TY1sZ6ptIunI5ByER9r8wGX9AmOLNUg71+RZMS49p/6Id57oE2hwThCDIAVBVZWZAyKnYnGRM8T1TPN83V3RrwvmBSpJVJRYr2AAdy6k3ryWEV+K+xgS8+I4TzObpmGz1EW9qypBFJnZFScDtyz4MCM0RBYCMz46Fl8kwdokKl3sM5CZECecnxmGnuPTA08PT5zOPS5GQhDMY2Q4LsznQJjKzFASRbwgEqfxkbcf/wSM3D2O/PHHd7z/+J5+eiALj9KCpo0YLViUJ/jM3Cr6JRUEZ+yJIRQtdy7T7k/9kcfjLcuyIIPEzw5ipLWSjW3BOJKZSHliOJeEYmah2Z140fZkXPGTrDW9S9weP/P/q+s8mxtH0jv+6wwQYJi4wReq/P2/kat8LnvvdnY1CiSI0NkvGpL2rmxN8SVrJDbR/fQ/Pl4fqLHpG7MskASpCmIU+K1RUEK2gqiaKvu81QJo0uu2KVBZoYpEJoEMEjZBuIt2d628dxqwL1wphJiYV89t2TgeeqwxaO0kuWau88L35yvjoUOahHKCOUys4d4sQTGSlUJWj6obkgWQ+LAQQ+F6vfP4/Tsv369cp6X1xyTwa2adEuuUiNs+Ftc2LAtRmdcb//2P/+J6e+Tb94lffn1kWe9Yl+h62ragFLWTbEZSS2K5S1aZWJeFl5dnpumGdoVcIvM68/vjA9frU5MHxEJaV1TNKNM4Mp2b/mO5QfFtknUaghE7+rNSpcR0ElbBy9biOKgVSfOn1dQUXaKA39r2L5VEqVctSQOha2ljvywSIwxWa0RpbSd5rcSlEH0LTRa6tsbnN8isTfIpJTYfuK8b0+rbsGScIvjEyzJjeMY4SRQr9iBYy8K0XVn8go+ZLBUirZAmcoRNztQiib4w3Tz368R6S2y3zBoiW6j4tRCWTFgKObR7zOuQArD6jV8ffuPx5ZHn28riPcbBcWwtw1KC1mJPnq74rdlppaxsfuXx8Tu///4N5QqpRKZl4un5mWVZ6PSBmhPJL9QSyTXgc2b2iS3DUiFpgZASc+yw+kTfjSgpqNWjraQ7DHSHkcNwIuVEqpWtxF2y0C7YOQpqlohXDPkVgC5AlTit6c2BQR0wVePvgZdlZQuBEBNJQNEN1JS5ojKIffFEbbfimBOz99yWFa0k2lhFiJHZe0q4InUl1IX+2LxyN9+0EDHvmvcaEHWmxIJAUbMgR0nwUBOo7CBawhxZ14zfWo9bDu1mLtr53SCqWlm3wNN1wrmm8DqdFUPfTCJNS5Lfwl+UYo/naAl0q994fPrOP76NCJ1JNbL6hXVbqaUhKaFsTcpQMkuMXJeV67yylYKPUHpJd3AMhyOn4wf67kjxlW2bEb1hOJz56etf0NrwfHhgmJ6Y/MzqPVvwhBiaPa3wBlIUBNI0Y4w7OI7mzOf+E2dzgiy4vczI+oL3T6yhtTlXTesXkA1RErl1FVBA1EIVkZA2pnVGSdBaaaSUxBII29Iuv3iGoJFdIlTfwlvE+/hbSaSy7QCqQogOaxwHZwhOMquEKJEcG1SWXysld/FM80YLSsmsW2BaBFJ3HEfLODqG3iJFYfNlL8t7JSAbtVJqA2yXbeXp+sLD90eqio3ULYlKoXMtwWhNiRBzy3DxjSGIvvnVoqi40TKOAx/OF07jCa065pc70+MDh08D44+f+OnyJ8buxMfjFz5Pz9zXiWmZmdaZeZ1ZlxW/RaJPxJAoFFynOA49p8ORj+Nnvhy+MOiBHCu3y4I7PJGqYPEbPkWKqNQ90rDuT+3OG+0HZes9Wra13SNlaSySqJWQMtN9QyrI0mJr3c2Ee8y6MjhtMUK1ePu9IVchEcogiyV5w7JkpsUze49KaU+Ia7+IEgKjJVq196aUm2C0VoyWHDqDc4qUmsxv8y2ZhyJJkT2Hv5BKYdk2rtPEvK4o25Lldm6VrnMoKdm2jZBa1YrAYoRFEvE+4UVh1I7L6cT5eMK+qsGeF/7+H7/S/eb4McL49cKp/0ivj3wYvrL5hXmdmZY703pn3Wa2dcNvgRgSUOl6w2k8cBpOnIcLozuhqiGnwuEUcMOBLQQen6/MS6Dk9M63vi7c66BSa6sPKBIfIpQNTTSIrNBCkmiFcylUcgCRNcq0NkFrW0JsZ7oGqpZm/WkEfEZqEEUzeMNxzdy3hTUtTdFLITc6DS0FVgs6K7F2P7+as6shDbmx1+sWuM+e+xxa5ZeQ1CzZfGLzLWJqXldu80SpmWPfY60hxmZSOfQdOUbu9zspFYTQaLnvLjlz3wJLSXwphrE/0rueWisxBJbZ8/SPF+rfIzlkPk4/cPzhI27sGc2Zgz1y7APnYWP1a+tpDZ4QWnmFAJzVHDqHcx1aW6TQ1AyoQqcVZwFff/7Cp18feH6+E+N7mM3rAr797IwCual+ak5oGQ06G5zUCE2L8JUapyy9cdhOtSRwU3HKopvDn5iblrHuIc9CWJTtcL1jHA6c/YktLZQaobaGQmrDJ/tOMY6abpAY16iMQsWHzH0OiKUyLyvPt5V5TU0Ma1o1xjwn1i0TY2FlY5onpCp8/nyhc5bpPlNJdM7w+PLAbbrtSrVWoFNqZc2Re/RsuZA8ON3hrINamyqZpmFZHl+oqeLnwHpbOX39SHcZUF3rBHOqR3eWoRv3zMn9ktoAFNRb19xO7+wKsEIL5jlfTnz94RPfvn1nXT2lCVHataC+83g1g0g7xwkUWdA6WVy1YDrcIaGQjN2e3tOPzSetK0JE5A4yp5opNDN6ERlBIKPQwqG0pe8cp/GEj2vTo+SCiLEZ9a1kHA0fPjiGk8bY5oemwOoz3m8NLVhWbvNGiAVjZLNsFcm6JoIv5AShRK63F3ycOZ0dx/GI60xDOeLK49MD93mmVNUuxTtrsZXY9J85s60BUSTOuqavUa1rASXxa2T6/UaNmbgEwhToP5/Qpw7lFFILpJYoLVFKIrVq6rTaPvFaSrNKlbrrT5oGpaTmgOqs4dPHEx8uI7enOyU2ZqGtdlsw/sgsVKiyVZlpi0WqDqcLdAWJpO8MY99z7E90/YAyklo8Mc74OBNLILKRxNakelU1IrF2aDFgTc/YjYTBE5KnZtDRk2qkc4Lj0fLhY8/5Q5O5+5C4z5H1ntiWyLpGVt9GZUTzD+TS+mVSaugLBVLOXK8vPDx94zb/TD8ojK3EFHh++Y3Hp9/x3qNr384+aiuhr7EFytXMtmxEn7DKNETCaGznUNZSKyQf2V6W5k2LgvUeEaMBJxBGYA+GfujoDhZrDdronTVo+1v54ytnSi6kGIgxUmLCacWp7+mNIda0k7Ts1irxxt1R2MVFjVrXRlmM6lBGoFVF0tTDve3p7IHeHrHOApll1fjYnDiRlSwDVWVqkchsUDSpurWWmu1eo5UQRaHzTJALnSuMo+Vy6bl8aP/vvG74mLnmzLQEljkRU2n24k7iOo22ikzr7dFKIGm81nS/88uvv/C3X04UseBMx32a+O3hF663F3KWqH0y2+fhN1eNEJVtW1mmtjDOuNaS1XcYZ3fSs5JTIq6e9Xkm+ko0Ak8kioToFOP5wPkyMJwG+kMLlFO7wbbsHQa5tqcv5YT3G9u2sc6e9TojQsVVjS2amPf+1Nwu7vs1rp1/orwF6WirDNJZrBM48+rYlChhIWu0cBzsCaUVShhC8mxpglJ2Hm3vLpSqdaHSo+hRddfL1wpFIaJiE4KuS4xjxzgeGIcOoQupJKRkj3PfC4iMwToYRsnxZNBSElQL0rE2I0VLSw0+8PD4wN/+5z9BLozDgfk+83j9jg+BWrsmCd+VV6lmUk2vCh62zXN9uRF9xGqDfu27sfvC7e8tuZBjpi6BNWdetjvXdcaT6AbH+cPI6TJyOvUceoszCqMa2ICoVNWgskhkixvLvDK9rDx9m1mfN4SXmNLuxY1N34e/1v63H517PQygm4k+4TQ43VTBKQpygLglapQ4NdJ1PUZ15JqIdaaGlSShiELdg1U6dcKVHq06EruDskKJhbQGlMj0XWYcBob+RGcNGQ91oZTmbe6sozMWYzRdLxiOcBgVUlTWu6d4mHRkB14opbL5jZfbCw9PgtU7go9sYW1VzOW9UaNS9299+9YKIITI88uVZZ7RQqH3PlSzb3llj94tJVNzpsq2gH4OXJ/vvCx3qhQcBsd4PHA6dhx7y+g0vW1BbcoKRC+pPSSbW9TVThI/ffdML4HiQRaFokX/pn2h3ufL+raAtYJ22oIISJqllQwpNblerp7jUNGlo9dHrD5QKRSxodbEmp8JxVOFw9UTrg6Y3Ar0RFGU5Ki54u3GYjsokbGXnA5njt2F3mi2OFPSQo4CIy2H85GxvzAcelwPri/YrlJqYjJ34vyM1n5/GtgHgSZIar7p9se1WLgGIJeSmye7tJTavFelVJqn73qduL5cd6ChRR8qo5vkfb8/ld2FI2rhrds0lXYmh8D1umDtRO80J6c5O82pUwxO4nqNOhu4KOoRoo0tSiN4Vp8IobQsmKaBbq+9LHc/nN/W7zWJSFvVEctK9kBqW9W2VbaQsVERT2X/Nmi0tYyHD2TxE0JntDcs4UZGYopFV4GoEeqGUBalG+zTmQ6nHZjIse/5MHzlMnyk6zWKCYtH14VTJ/l8/pmvH3/icj5hHSibkCrh48ajema7Sr7ZFSm2lkAgJEY5nDnSmwu9tUQi3ix4GQhCvD9xu/kiv2rndgRmui88Pj7j143jCaRSmN4ijSKuhZrLW8T8K9CsxPuHW/Zz0IfEusCmBN4oYtdeh8Fga4c0BuEEWde2U4lGA9VdFfDKU74iTP+0Yn+81tWKVtUQgiTkgpCZVAuzzyw+M1RH9IWwRVJIraBdKDpzJNcvVAqiKHwOiCqAQKGSi4faIWXfQkiNpbc9msr5cOHT8Qc+n77S945eT8xTZR4qajD8+cd/508//oUP5zPWSYTMFALzOmPr79yfKsf+hlYTQmSsdozuzKX/wuXwI8PQEXWAdSK7K1Wt72fV3jRZ/rDlACzrxsPDM7fbnU9fKtIouuOAGTrCbdoXre6+trJjrU160bbsd5FUypWtVEytOFGwe4iB9AUdCyK3JG4pXrOcGxUkdxBX/uH1+q/+H4unyZLkBZvPFBGIIjHHiI/QuUYxpBgJfgNtSCJAqWjR0esz1WRId3IViBIpJHJdgICWAqUHjDZ09oBTmg/HT3w6/8DXy0/0h57BzYRNUKPCKMNffvorf/rxz1xOZ4zVIAopB6Z5ogbH83nhPHzDmoeWuWx7zodPfBx/5tPx3xjHgegCwj+TDoZovhOEf9ti/nXRam1x+Y+PLzw/XfnzXzPKKA6XE91pYP72sA8o71I7sdu+lGjbmng7g9qFO1HwRbDlik/gcsGmlngucouEUlKi96pqpSFJ8RZiI/fI5NeCJthlkzveK6VEl52ljb6QRCKqVn4e90yNSvMVpBSRsZJlbJ2pVaCFw8qeKANVJBC58UclIWpFy0OLfVcKrQ1SSQ7dwNifGPtziwXEchkW1tOKUYrL8cJpPHMaTxijAXa7smToF8buROd6tFJIKbHacnAjgz0x2AtjdySIyOagtzNG39qXjX/Fkd53oVIKy7KxLBulZLQ2uEMr5WP/wP7pDeJ9S+OPHy7vT1+uhVQkaRfD7p6SfWfanzjZtKNSNv3N2+74h6ft//v5X+F9/rxY4IMiAAAAAElFTkSuQmCC\" id=\"image74c0708b60\" transform=\"scale(1 -1) translate(0 -79.2)\" x=\"187.2\" y=\"-19.27875\" width=\"79.2\" height=\"79.2\"/>\n",
       "   </g>\n",
       "   <g id=\"matplotlib.axis_5\"/>\n",
       "   <g id=\"matplotlib.axis_6\"/>\n",
       "   <g id=\"patch_13\">\n",
       "    <path d=\"M 187.2 98.47875 \n",
       "L 187.2 19.27875 \n",
       "\" style=\"fill: none; stroke: #000000; stroke-width: 0.8; stroke-linejoin: miter; stroke-linecap: square\"/>\n",
       "   </g>\n",
       "   <g id=\"patch_14\">\n",
       "    <path d=\"M 266.4 98.47875 \n",
       "L 266.4 19.27875 \n",
       "\" style=\"fill: none; stroke: #000000; stroke-width: 0.8; stroke-linejoin: miter; stroke-linecap: square\"/>\n",
       "   </g>\n",
       "   <g id=\"patch_15\">\n",
       "    <path d=\"M 187.2 98.47875 \n",
       "L 266.4 98.47875 \n",
       "\" style=\"fill: none; stroke: #000000; stroke-width: 0.8; stroke-linejoin: miter; stroke-linecap: square\"/>\n",
       "   </g>\n",
       "   <g id=\"patch_16\">\n",
       "    <path d=\"M 187.2 19.27875 \n",
       "L 266.4 19.27875 \n",
       "\" style=\"fill: none; stroke: #000000; stroke-width: 0.8; stroke-linejoin: miter; stroke-linecap: square\"/>\n",
       "   </g>\n",
       "  </g>\n",
       "  <g id=\"axes_4\">\n",
       "   <g id=\"patch_17\">\n",
       "    <path d=\"M 277.2 98.47875 \n",
       "L 356.4 98.47875 \n",
       "L 356.4 19.27875 \n",
       "L 277.2 19.27875 \n",
       "z\n",
       "\" style=\"fill: #ffffff\"/>\n",
       "   </g>\n",
       "   <g clip-path=\"url(#p161ed0ce34)\">\n",
       "    <image xlink:href=\"data:image/png;base64,\n",
       "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\" id=\"image53e0707402\" transform=\"scale(1 -1) translate(0 -79.2)\" x=\"277.2\" y=\"-19.27875\" width=\"79.2\" height=\"79.2\"/>\n",
       "   </g>\n",
       "   <g id=\"matplotlib.axis_7\"/>\n",
       "   <g id=\"matplotlib.axis_8\"/>\n",
       "   <g id=\"patch_18\">\n",
       "    <path d=\"M 277.2 98.47875 \n",
       "L 277.2 19.27875 \n",
       "\" style=\"fill: none; stroke: #000000; stroke-width: 0.8; stroke-linejoin: miter; stroke-linecap: square\"/>\n",
       "   </g>\n",
       "   <g id=\"patch_19\">\n",
       "    <path d=\"M 356.4 98.47875 \n",
       "L 356.4 19.27875 \n",
       "\" style=\"fill: none; stroke: #000000; stroke-width: 0.8; stroke-linejoin: miter; stroke-linecap: square\"/>\n",
       "   </g>\n",
       "   <g id=\"patch_20\">\n",
       "    <path d=\"M 277.2 98.47875 \n",
       "L 356.4 98.47875 \n",
       "\" style=\"fill: none; stroke: #000000; stroke-width: 0.8; stroke-linejoin: miter; stroke-linecap: square\"/>\n",
       "   </g>\n",
       "   <g id=\"patch_21\">\n",
       "    <path d=\"M 277.2 19.27875 \n",
       "L 356.4 19.27875 \n",
       "\" style=\"fill: none; stroke: #000000; stroke-width: 0.8; stroke-linejoin: miter; stroke-linecap: square\"/>\n",
       "   </g>\n",
       "  </g>\n",
       "  <g id=\"axes_5\">\n",
       "   <g id=\"patch_22\">\n",
       "    <path d=\"M 367.2 98.47875 \n",
       "L 446.4 98.47875 \n",
       "L 446.4 19.27875 \n",
       "L 367.2 19.27875 \n",
       "z\n",
       "\" style=\"fill: #ffffff\"/>\n",
       "   </g>\n",
       "   <g clip-path=\"url(#p4f583dffee)\">\n",
       "    <image xlink:href=\"data:image/png;base64,\n",
       "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\" id=\"image857ae06e74\" transform=\"scale(1 -1) translate(0 -79.2)\" x=\"367.2\" y=\"-19.27875\" width=\"79.2\" height=\"79.2\"/>\n",
       "   </g>\n",
       "   <g id=\"matplotlib.axis_9\"/>\n",
       "   <g id=\"matplotlib.axis_10\"/>\n",
       "   <g id=\"patch_23\">\n",
       "    <path d=\"M 367.2 98.47875 \n",
       "L 367.2 19.27875 \n",
       "\" style=\"fill: none; stroke: #000000; stroke-width: 0.8; stroke-linejoin: miter; stroke-linecap: square\"/>\n",
       "   </g>\n",
       "   <g id=\"patch_24\">\n",
       "    <path d=\"M 446.4 98.47875 \n",
       "L 446.4 19.27875 \n",
       "\" style=\"fill: none; stroke: #000000; stroke-width: 0.8; stroke-linejoin: miter; stroke-linecap: square\"/>\n",
       "   </g>\n",
       "   <g id=\"patch_25\">\n",
       "    <path d=\"M 367.2 98.47875 \n",
       "L 446.4 98.47875 \n",
       "\" style=\"fill: none; stroke: #000000; stroke-width: 0.8; stroke-linejoin: miter; stroke-linecap: square\"/>\n",
       "   </g>\n",
       "   <g id=\"patch_26\">\n",
       "    <path d=\"M 367.2 19.27875 \n",
       "L 446.4 19.27875 \n",
       "\" style=\"fill: none; stroke: #000000; stroke-width: 0.8; stroke-linejoin: miter; stroke-linecap: square\"/>\n",
       "   </g>\n",
       "  </g>\n",
       " </g>\n",
       " <defs>\n",
       "  <clipPath id=\"pb04a3d196e\">\n",
       "   <rect x=\"7.2\" y=\"19.27875\" width=\"79.2\" height=\"79.2\"/>\n",
       "  </clipPath>\n",
       "  <clipPath id=\"p09ae227671\">\n",
       "   <rect x=\"97.2\" y=\"19.27875\" width=\"79.2\" height=\"79.2\"/>\n",
       "  </clipPath>\n",
       "  <clipPath id=\"p7bba2f9c94\">\n",
       "   <rect x=\"187.2\" y=\"19.27875\" width=\"79.2\" height=\"79.2\"/>\n",
       "  </clipPath>\n",
       "  <clipPath id=\"p161ed0ce34\">\n",
       "   <rect x=\"277.2\" y=\"19.27875\" width=\"79.2\" height=\"79.2\"/>\n",
       "  </clipPath>\n",
       "  <clipPath id=\"p4f583dffee\">\n",
       "   <rect x=\"367.2\" y=\"19.27875\" width=\"79.2\" height=\"79.2\"/>\n",
       "  </clipPath>\n",
       " </defs>\n",
       "</svg>\n"
      ],
      "text/plain": [
       "<Figure size 640x480 with 5 Axes>"
      ]
     },
     "metadata": {},
     "output_type": "display_data"
    }
   ],
   "source": [
    "transformed_train = [transforms_1(orig_img) for _ in range(4)]\n",
    "plot(transformed_train)"
   ]
  },
  {
   "cell_type": "code",
   "execution_count": 10,
   "metadata": {},
   "outputs": [
    {
     "data": {
      "application/pdf": "[encoded data removed]",
      "image/svg+xml": [
       "<?xml version=\"1.0\" encoding=\"utf-8\" standalone=\"no\"?>\n",
       "<!DOCTYPE svg PUBLIC \"-//W3C//DTD SVG 1.1//EN\"\n",
       "  \"http://www.w3.org/Graphics/SVG/1.1/DTD/svg11.dtd\">\n",
       "<svg xmlns:xlink=\"http://www.w3.org/1999/xlink\" width=\"453.6pt\" height=\"105.67875pt\" viewBox=\"0 0 453.6 105.67875\" xmlns=\"http://www.w3.org/2000/svg\" version=\"1.1\">\n",
       " <metadata>\n",
       "  <rdf:RDF xmlns:dc=\"http://purl.org/dc/elements/1.1/\" xmlns:cc=\"http://creativecommons.org/ns#\" xmlns:rdf=\"http://www.w3.org/1999/02/22-rdf-syntax-ns#\">\n",
       "   <cc:Work>\n",
       "    <dc:type rdf:resource=\"http://purl.org/dc/dcmitype/StillImage\"/>\n",
       "    <dc:date>2024-12-19T17:36:15.926641</dc:date>\n",
       "    <dc:format>image/svg+xml</dc:format>\n",
       "    <dc:creator>\n",
       "     <cc:Agent>\n",
       "      <dc:title>Matplotlib v3.9.3, https://matplotlib.org/</dc:title>\n",
       "     </cc:Agent>\n",
       "    </dc:creator>\n",
       "   </cc:Work>\n",
       "  </rdf:RDF>\n",
       " </metadata>\n",
       " <defs>\n",
       "  <style type=\"text/css\">*{stroke-linejoin: round; stroke-linecap: butt}</style>\n",
       " </defs>\n",
       " <g id=\"figure_1\">\n",
       "  <g id=\"patch_1\">\n",
       "   <path d=\"M 0 105.67875 \n",
       "L 453.6 105.67875 \n",
       "L 453.6 0 \n",
       "L 0 0 \n",
       "z\n",
       "\" style=\"fill: #ffffff\"/>\n",
       "  </g>\n",
       "  <g id=\"axes_1\">\n",
       "   <g id=\"patch_2\">\n",
       "    <path d=\"M 7.2 98.47875 \n",
       "L 86.4 98.47875 \n",
       "L 86.4 19.27875 \n",
       "L 7.2 19.27875 \n",
       "z\n",
       "\" style=\"fill: #ffffff\"/>\n",
       "   </g>\n",
       "   <g clip-path=\"url(#p76216e1fad)\">\n",
       "    <image xlink:href=\"data:image/png;base64,\n",
       "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\" id=\"image24c9a7510f\" transform=\"scale(1 -1) translate(0 -79.2)\" x=\"7.2\" y=\"-19.27875\" width=\"79.2\" height=\"79.2\"/>\n",
       "   </g>\n",
       "   <g id=\"matplotlib.axis_1\"/>\n",
       "   <g id=\"matplotlib.axis_2\"/>\n",
       "   <g id=\"patch_3\">\n",
       "    <path d=\"M 7.2 98.47875 \n",
       "L 7.2 19.27875 \n",
       "\" style=\"fill: none; stroke: #000000; stroke-width: 0.8; stroke-linejoin: miter; stroke-linecap: square\"/>\n",
       "   </g>\n",
       "   <g id=\"patch_4\">\n",
       "    <path d=\"M 86.4 98.47875 \n",
       "L 86.4 19.27875 \n",
       "\" style=\"fill: none; stroke: #000000; stroke-width: 0.8; stroke-linejoin: miter; stroke-linecap: square\"/>\n",
       "   </g>\n",
       "   <g id=\"patch_5\">\n",
       "    <path d=\"M 7.2 98.47875 \n",
       "L 86.4 98.47875 \n",
       "\" style=\"fill: none; stroke: #000000; stroke-width: 0.8; stroke-linejoin: miter; stroke-linecap: square\"/>\n",
       "   </g>\n",
       "   <g id=\"patch_6\">\n",
       "    <path d=\"M 7.2 19.27875 \n",
       "L 86.4 19.27875 \n",
       "\" style=\"fill: none; stroke: #000000; stroke-width: 0.8; stroke-linejoin: miter; stroke-linecap: square\"/>\n",
       "   </g>\n",
       "   <g id=\"text_1\">\n",
       "    <!-- Original image -->\n",
       "    <g transform=\"translate(17.416875 13.27875) scale(0.08 -0.08)\">\n",
       "     <defs>\n",
       "      <path id=\"DejaVuSans-4f\" d=\"M 2522 4238 \n",
       "Q 1834 4238 1429 3725 \n",
       "Q 1025 3213 1025 2328 \n",
       "Q 1025 1447 1429 934 \n",
       "Q 1834 422 2522 422 \n",
       "Q 3209 422 3611 934 \n",
       "Q 4013 1447 4013 2328 \n",
       "Q 4013 3213 3611 3725 \n",
       "Q 3209 4238 2522 4238 \n",
       "z\n",
       "M 2522 4750 \n",
       "Q 3503 4750 4090 4092 \n",
       "Q 4678 3434 4678 2328 \n",
       "Q 4678 1225 4090 567 \n",
       "Q 3503 -91 2522 -91 \n",
       "Q 1538 -91 948 565 \n",
       "Q 359 1222 359 2328 \n",
       "Q 359 3434 948 4092 \n",
       "Q 1538 4750 2522 4750 \n",
       "z\n",
       "\" transform=\"scale(0.015625)\"/>\n",
       "      <path id=\"DejaVuSans-72\" d=\"M 2631 2963 \n",
       "Q 2534 3019 2420 3045 \n",
       "Q 2306 3072 2169 3072 \n",
       "Q 1681 3072 1420 2755 \n",
       "Q 1159 2438 1159 1844 \n",
       "L 1159 0 \n",
       "L 581 0 \n",
       "L 581 3500 \n",
       "L 1159 3500 \n",
       "L 1159 2956 \n",
       "Q 1341 3275 1631 3429 \n",
       "Q 1922 3584 2338 3584 \n",
       "Q 2397 3584 2469 3576 \n",
       "Q 2541 3569 2628 3553 \n",
       "L 2631 2963 \n",
       "z\n",
       "\" transform=\"scale(0.015625)\"/>\n",
       "      <path id=\"DejaVuSans-69\" d=\"M 603 3500 \n",
       "L 1178 3500 \n",
       "L 1178 0 \n",
       "L 603 0 \n",
       "L 603 3500 \n",
       "z\n",
       "M 603 4863 \n",
       "L 1178 4863 \n",
       "L 1178 4134 \n",
       "L 603 4134 \n",
       "L 603 4863 \n",
       "z\n",
       "\" transform=\"scale(0.015625)\"/>\n",
       "      <path id=\"DejaVuSans-67\" d=\"M 2906 1791 \n",
       "Q 2906 2416 2648 2759 \n",
       "Q 2391 3103 1925 3103 \n",
       "Q 1463 3103 1205 2759 \n",
       "Q 947 2416 947 1791 \n",
       "Q 947 1169 1205 825 \n",
       "Q 1463 481 1925 481 \n",
       "Q 2391 481 2648 825 \n",
       "Q 2906 1169 2906 1791 \n",
       "z\n",
       "M 3481 434 \n",
       "Q 3481 -459 3084 -895 \n",
       "Q 2688 -1331 1869 -1331 \n",
       "Q 1566 -1331 1297 -1286 \n",
       "Q 1028 -1241 775 -1147 \n",
       "L 775 -588 \n",
       "Q 1028 -725 1275 -790 \n",
       "Q 1522 -856 1778 -856 \n",
       "Q 2344 -856 2625 -561 \n",
       "Q 2906 -266 2906 331 \n",
       "L 2906 616 \n",
       "Q 2728 306 2450 153 \n",
       "Q 2172 0 1784 0 \n",
       "Q 1141 0 747 490 \n",
       "Q 353 981 353 1791 \n",
       "Q 353 2603 747 3093 \n",
       "Q 1141 3584 1784 3584 \n",
       "Q 2172 3584 2450 3431 \n",
       "Q 2728 3278 2906 2969 \n",
       "L 2906 3500 \n",
       "L 3481 3500 \n",
       "L 3481 434 \n",
       "z\n",
       "\" transform=\"scale(0.015625)\"/>\n",
       "      <path id=\"DejaVuSans-6e\" d=\"M 3513 2113 \n",
       "L 3513 0 \n",
       "L 2938 0 \n",
       "L 2938 2094 \n",
       "Q 2938 2591 2744 2837 \n",
       "Q 2550 3084 2163 3084 \n",
       "Q 1697 3084 1428 2787 \n",
       "Q 1159 2491 1159 1978 \n",
       "L 1159 0 \n",
       "L 581 0 \n",
       "L 581 3500 \n",
       "L 1159 3500 \n",
       "L 1159 2956 \n",
       "Q 1366 3272 1645 3428 \n",
       "Q 1925 3584 2291 3584 \n",
       "Q 2894 3584 3203 3211 \n",
       "Q 3513 2838 3513 2113 \n",
       "z\n",
       "\" transform=\"scale(0.015625)\"/>\n",
       "      <path id=\"DejaVuSans-61\" d=\"M 2194 1759 \n",
       "Q 1497 1759 1228 1600 \n",
       "Q 959 1441 959 1056 \n",
       "Q 959 750 1161 570 \n",
       "Q 1363 391 1709 391 \n",
       "Q 2188 391 2477 730 \n",
       "Q 2766 1069 2766 1631 \n",
       "L 2766 1759 \n",
       "L 2194 1759 \n",
       "z\n",
       "M 3341 1997 \n",
       "L 3341 0 \n",
       "L 2766 0 \n",
       "L 2766 531 \n",
       "Q 2569 213 2275 61 \n",
       "Q 1981 -91 1556 -91 \n",
       "Q 1019 -91 701 211 \n",
       "Q 384 513 384 1019 \n",
       "Q 384 1609 779 1909 \n",
       "Q 1175 2209 1959 2209 \n",
       "L 2766 2209 \n",
       "L 2766 2266 \n",
       "Q 2766 2663 2505 2880 \n",
       "Q 2244 3097 1772 3097 \n",
       "Q 1472 3097 1187 3025 \n",
       "Q 903 2953 641 2809 \n",
       "L 641 3341 \n",
       "Q 956 3463 1253 3523 \n",
       "Q 1550 3584 1831 3584 \n",
       "Q 2591 3584 2966 3190 \n",
       "Q 3341 2797 3341 1997 \n",
       "z\n",
       "\" transform=\"scale(0.015625)\"/>\n",
       "      <path id=\"DejaVuSans-6c\" d=\"M 603 4863 \n",
       "L 1178 4863 \n",
       "L 1178 0 \n",
       "L 603 0 \n",
       "L 603 4863 \n",
       "z\n",
       "\" transform=\"scale(0.015625)\"/>\n",
       "      <path id=\"DejaVuSans-20\" transform=\"scale(0.015625)\"/>\n",
       "      <path id=\"DejaVuSans-6d\" d=\"M 3328 2828 \n",
       "Q 3544 3216 3844 3400 \n",
       "Q 4144 3584 4550 3584 \n",
       "Q 5097 3584 5394 3201 \n",
       "Q 5691 2819 5691 2113 \n",
       "L 5691 0 \n",
       "L 5113 0 \n",
       "L 5113 2094 \n",
       "Q 5113 2597 4934 2840 \n",
       "Q 4756 3084 4391 3084 \n",
       "Q 3944 3084 3684 2787 \n",
       "Q 3425 2491 3425 1978 \n",
       "L 3425 0 \n",
       "L 2847 0 \n",
       "L 2847 2094 \n",
       "Q 2847 2600 2669 2842 \n",
       "Q 2491 3084 2119 3084 \n",
       "Q 1678 3084 1418 2786 \n",
       "Q 1159 2488 1159 1978 \n",
       "L 1159 0 \n",
       "L 581 0 \n",
       "L 581 3500 \n",
       "L 1159 3500 \n",
       "L 1159 2956 \n",
       "Q 1356 3278 1631 3431 \n",
       "Q 1906 3584 2284 3584 \n",
       "Q 2666 3584 2933 3390 \n",
       "Q 3200 3197 3328 2828 \n",
       "z\n",
       "\" transform=\"scale(0.015625)\"/>\n",
       "      <path id=\"DejaVuSans-65\" d=\"M 3597 1894 \n",
       "L 3597 1613 \n",
       "L 953 1613 \n",
       "Q 991 1019 1311 708 \n",
       "Q 1631 397 2203 397 \n",
       "Q 2534 397 2845 478 \n",
       "Q 3156 559 3463 722 \n",
       "L 3463 178 \n",
       "Q 3153 47 2828 -22 \n",
       "Q 2503 -91 2169 -91 \n",
       "Q 1331 -91 842 396 \n",
       "Q 353 884 353 1716 \n",
       "Q 353 2575 817 3079 \n",
       "Q 1281 3584 2069 3584 \n",
       "Q 2775 3584 3186 3129 \n",
       "Q 3597 2675 3597 1894 \n",
       "z\n",
       "M 3022 2063 \n",
       "Q 3016 2534 2758 2815 \n",
       "Q 2500 3097 2075 3097 \n",
       "Q 1594 3097 1305 2825 \n",
       "Q 1016 2553 972 2059 \n",
       "L 3022 2063 \n",
       "z\n",
       "\" transform=\"scale(0.015625)\"/>\n",
       "     </defs>\n",
       "     <use xlink:href=\"#DejaVuSans-4f\"/>\n",
       "     <use xlink:href=\"#DejaVuSans-72\" x=\"78.710938\"/>\n",
       "     <use xlink:href=\"#DejaVuSans-69\" x=\"119.824219\"/>\n",
       "     <use xlink:href=\"#DejaVuSans-67\" x=\"147.607422\"/>\n",
       "     <use xlink:href=\"#DejaVuSans-69\" x=\"211.083984\"/>\n",
       "     <use xlink:href=\"#DejaVuSans-6e\" x=\"238.867188\"/>\n",
       "     <use xlink:href=\"#DejaVuSans-61\" x=\"302.246094\"/>\n",
       "     <use xlink:href=\"#DejaVuSans-6c\" x=\"363.525391\"/>\n",
       "     <use xlink:href=\"#DejaVuSans-20\" x=\"391.308594\"/>\n",
       "     <use xlink:href=\"#DejaVuSans-69\" x=\"423.095703\"/>\n",
       "     <use xlink:href=\"#DejaVuSans-6d\" x=\"450.878906\"/>\n",
       "     <use xlink:href=\"#DejaVuSans-61\" x=\"548.291016\"/>\n",
       "     <use xlink:href=\"#DejaVuSans-67\" x=\"609.570312\"/>\n",
       "     <use xlink:href=\"#DejaVuSans-65\" x=\"673.046875\"/>\n",
       "    </g>\n",
       "   </g>\n",
       "  </g>\n",
       "  <g id=\"axes_2\">\n",
       "   <g id=\"patch_7\">\n",
       "    <path d=\"M 97.2 98.47875 \n",
       "L 176.4 98.47875 \n",
       "L 176.4 19.27875 \n",
       "L 97.2 19.27875 \n",
       "z\n",
       "\" style=\"fill: #ffffff\"/>\n",
       "   </g>\n",
       "   <g clip-path=\"url(#p1aa17394e8)\">\n",
       "    <image xlink:href=\"data:image/png;base64,\n",
       "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\" id=\"imagef10489fdac\" transform=\"scale(1 -1) translate(0 -79.2)\" x=\"97.2\" y=\"-19.27875\" width=\"79.2\" height=\"79.2\"/>\n",
       "   </g>\n",
       "   <g id=\"matplotlib.axis_3\"/>\n",
       "   <g id=\"matplotlib.axis_4\"/>\n",
       "   <g id=\"patch_8\">\n",
       "    <path d=\"M 97.2 98.47875 \n",
       "L 97.2 19.27875 \n",
       "\" style=\"fill: none; stroke: #000000; stroke-width: 0.8; stroke-linejoin: miter; stroke-linecap: square\"/>\n",
       "   </g>\n",
       "   <g id=\"patch_9\">\n",
       "    <path d=\"M 176.4 98.47875 \n",
       "L 176.4 19.27875 \n",
       "\" style=\"fill: none; stroke: #000000; stroke-width: 0.8; stroke-linejoin: miter; stroke-linecap: square\"/>\n",
       "   </g>\n",
       "   <g id=\"patch_10\">\n",
       "    <path d=\"M 97.2 98.47875 \n",
       "L 176.4 98.47875 \n",
       "\" style=\"fill: none; stroke: #000000; stroke-width: 0.8; stroke-linejoin: miter; stroke-linecap: square\"/>\n",
       "   </g>\n",
       "   <g id=\"patch_11\">\n",
       "    <path d=\"M 97.2 19.27875 \n",
       "L 176.4 19.27875 \n",
       "\" style=\"fill: none; stroke: #000000; stroke-width: 0.8; stroke-linejoin: miter; stroke-linecap: square\"/>\n",
       "   </g>\n",
       "  </g>\n",
       "  <g id=\"axes_3\">\n",
       "   <g id=\"patch_12\">\n",
       "    <path d=\"M 187.2 98.47875 \n",
       "L 266.4 98.47875 \n",
       "L 266.4 19.27875 \n",
       "L 187.2 19.27875 \n",
       "z\n",
       "\" style=\"fill: #ffffff\"/>\n",
       "   </g>\n",
       "   <g clip-path=\"url(#p1e20a51224)\">\n",
       "    <image xlink:href=\"data:image/png;base64,\n",
       "iVBORw0KGgoAAAANSUhEUgAAAG4AAABuCAYAAADGWyb7AABCX0lEQVR4nO29V6zt2X3f91lr/evue59+7rm9zL13+gyHZdgsUSIly4ppSY4VWxESyHZiB4nhhwCCAwTxWxDkIQESwHFg+MFGIse2HBWHahTLkENyerszt5fTy+57//e/rZKHfUlblkSR1NwhKc0XODhv5+z//7NX+5XvEoDjff3QSX6/P8D7+t70PrgfUr0P7odU74P7IdX74L4HCQGNSsCxxTpCfH8+g/f9+bc/nJICmrHPajtiqdVASMV+f4px7/3G/H1w34GEgCgQtCuKdiWgFkqUszgrkUJgvg8nqvenym8jqSCMIK6AHzgsAm0s2ljyosBaTTX8/nz33x9x/4G8UNJcjJAIikRjbIG1Dm0lmXYEyuJJi0NTkYLA+/4scu+Du68glqydr7NxqUUgqhzdKOjuDklmAwQO6yTaOtLSIACEw1cOKb4/gac/3+AERBVJc9ln5WSFxY0a0gtxkzq1uKRoGEqdkOclElAKSueYlRZPCio+tCKP/VHxnn/0P5fghAAvENQ6Hq1Fn2rDo14RyMygZAdhFH44IYgz6k1JxSgshiyz5InEWSidwCCJgvfXuAcuqQRRrGg2fQpbggSdgQsFzoAyHdrBefaHX2Uy6VOYFOFbkJYoUqBAOIvOQRtBrg0KgRRg3+MZ8888OCEgroe0V2KkdOjc0GpXybOM6TCjnDm0L9FxgPVrzNweziRUqx5pEVCmmiIr0KVGSEEQOayGwlgSLah4Cl9Jcm3f0+f6MwtOSo9aq8ryiZjWcgUnHXlakE0LvNgjqDURUuJSQyxCImKs7jMTB3RWWuzvDZlNLFliieMKxmU4a8EprBU4K5hpC04gvg/hkz9z4JSMiMIVmvWT1JdL6kt9VKDR2uGHHp7v4SuJBSJbwQaaQPpEKsAPUo6dXiPNDNPrfbqHKb6vqNUVVkukA1MqhAMnHIUGZ74fx+8/Q+B8v0o1Pk2l2iYIHQKF9SZELYnFkQ5LPCHxQ4/A98jyEudZXGBxEghnVBclIswZdrtYSuJYIoUlnSWgLLZ0KCGQUmIMWGvRCDwlyMv39nl/qMEJCSqCsBbRDi/hiwZ+84haWyCkT9jRRC3LZJwynU4JVES1FkPgIaXAAQaL9jOCBYeKYjb3tugOU5wMWV6sYsmYZRrpOWbOYZ1BKok1AnDv+abkm/qhBCeVIKxDpSMwCALXIrRVVGVMZSEnbkZ4nsGrSKQNaQZNitiyuzfEaIPnKaT0kPdHT3NBETclB0cjpmlJmVkCZVk8VSdJHcHIZzLLsE5jnSUUEUZopJhvSIR8f437NhKEkUelGeFFCutlSFVitcCzVZya4aoDMpeipymhF+BnMR964mH+1n/6We7cucH/8r//c964dpcwCqjWqigpqDYVzUXBOJ0wznKU9LGF5fy5VZAaN4zJco1Lc4wAz/ksVE9xZLYphUFYwJvvXt/LJMEPBbjAr9FqrFNbyHHhlLJUlLmjNBqswKqU1N+EcgITjS8jQtXi6Ycf4+//F/81G8fW0VrzgQ+c5/V37jHoJwTKEcmc9oIPgSPPSsLIZ9ovWF5aYHllgeGoTxCFaJdh0HgK4qhCu9NkVG5jUwFYEO49B/eDmx2QIEPwKoqo2kRKj7K0aJfhZIZDY7UDobHBCCOnoMEr66h8ndOLT/Pf/f2/z/GNp3HOJ80Szq49xYWND+IyjTRD/DDBrxiyIkcIgdUWYRUbGyuEYUi1UmM6njGdzsCC7wmayxFiqYdfL5DKISQIIZDv8XT5AzfiZAAyAj+UOOtBGWBdQWkSKMBKH+sMWIf0QAYCIQOUjfCdT2hXWV04z3//y7/E5csfRABpPqLbP+DS8U/zox+KeO7VQ0p5C+c7jDCUpUE6RZ6ktNstKpWQwA+Y9afMBhm6sDjrEJ6gspxjwgOCpiWbKWzqAIvvSbQ279l7+sEAJ8CLIWyB8AVogXQhwrRRso1CEQYWEU+w0sMiIRBYUeKcRUiLMTOcqVKv1Plbf/Mn+dCHnwYxxWI46N7GGY9O+xTHj99hea/Fbl/hlMBYh0RS5obIr7C6ssRSs0M+nrF1bxuhS0IpmGqBX5PIWKOdxQUOFYIrBAqJUhL4cwJOeKBi8CsecSVG+ZoiMwgRIWWMr5YI3TECz2dpMaO2eMDd/pS80FgnsIXDEwGPX/gUr1/9As4V/PRfeoy//LOfBNnDIbDO0uvvEKtj7BwecXf/bfrjPp7nEdQE2mikEwgn2Vhf5fjyKr6wvH79KmleUuJwOIJAUFvyyEtNnlm0EKjYw+UCnfFnf6qUStBejWgcE/R7KWWhCO0ysWhg7RiFQMgIKX080cAzVZY6Ff7af3KKqF7y2196k7dvvMOx5Qu8fv23OX/84zx98efZ3HqbR88/xH/5t38JrTXaTRB6GW179HuH7G8u8Oq1f8qVW18hneXENZ9SF8hQoJzPwkKHdqXO1r177O7vkWQG5ynGWYmT4IcC35fMxpZkpgl8D7/mkKXDaofvvbfbhfcMnFSCpdMBj358mc6JCq99bZNiG5RtEHtrRDJAiBjl18D5OEqsaRLIiI98tMqTH3yEuBIxHV9gMPh/sNaCjTm9/CnyPOMDj36Cv/M3fxZrKhS6j5iu4ImAYXLAYDDld77xdXa69yjKAjyJKUOyUcrysSbVoEZFRewd7NPt98hKB1KS2AIrHVKCQpANS7QET0qCUKJ8EBpUZpDpe3skeOBfE6kElXbMxQ8v8ugnlpiVGa9+aYv9GzmmlEgXoqRHpJpU5UlCsYbvllHlEpiQsxfg3MUWC81LtNqLHF8/zkOnLrN7cI8T7SdZbz9O1avx8z/zs6SlpdQJB3eXKGYhTo3Y27/Dtdt36E96LLbXkFJgERgdE9qYTqXDQnWJ8ShjkE5woYcKFZm2JJlD6zkNnRlmPYNnJe16SDXy8AIQgUZ4IAOLVA/6bf47PaARJ/ADRVhTxPUqC8erPP7RBYo848ZzPUY9jTQ+SnoIIfGkRyAWwUaUpaMsNQ6B3xhy4bEW1egkvldDWUk622OpdpJsonn83Kc4vnqG4+cKltYPSUYxR1tVqs0AbQzDwZjdvV2u3xxxZv2TzIptut4BpixZWVji2ac+xZNPPspCo83b197ki69+jns7u+wmU0ZTTVGC55ivlQa8QLK0XEFFiiwryXJDkWtKH1zToaZgJg/mjf6HelfBBb5Hrd6iUm9ivAlal/gxLBwv6awLNm/NMM4QeSEoH20swgiUrmCLGOckxpRY6yBMefKJyxxfVTjbZH//CCkc/V6PPIGKWOejH/wYJ09VOflQwd27CRdOXeQbzw0494EUv1cnMVe5dm2fZuVDZPmUxfppOhcEH336Azz5yMOsrG0QRnXmaCTPXfkCgzJnPDM44Yg8UBaMcVghWFyJaC5FDIcp/W5KMjVo7XDOzQPV7+Ey966AazebfOKjH+TxJ45xNBjx1Revc3CQ4kSGCHJKm3PntmHrzhhjDGEMWSaQNiC0HSpRDd/T5JkPQvDYYx8gd0PqFYOUGmGr3Lu3Q6gqSOmoVDwuP3SZn/q5R+jtZeB1WV48S/9AMpxsk/UvoJb2ufPGFjZ/ktVmyKMXjtNZGXD54l+l3ugQViVCVEFU0Pkhh4M97u3tz/N1xhL4811iaR1OQL0RsrreYTSYsLM9Ic/AWIe9n9RxgArejbf5nelPBW5ppcUTTzzEX/3Mz3Dx4SW6k6t87aUhvicJPImIodr0mHZhb7PPbOLwkQjPEYiY0Nvg6Scf4u/+vU8zGKZ86XfHvPzCNqdPX2Qym2HLq2RFxvqK4rB/xMq5BpVOi53KiM7a0yyshVi5jwx8Thxf57nf3eb46RWOnU7Z777D1tXT5InHT/3Ek5y7pAmi8xRFND8rSg9BBA66R3d5/uWvMOx1sTODcoAQWByh8lit1zi9cQIVWqbTDGdAAMLNfzshcc7iRe8Kk+9Ifypwlx89zSOPXmCSD7h+b5P+9IjDwZSwGtBaruPFPmHFsncwonuYgoNmUyFtjVid5PFnnuAf/MNPsXJsdV4RbG6zuzNhMukRRSsYvUgYJrRXPRJjWT1Wp9SKPJty9vQTlHpM1JzRrG2gcFg15smnl8nFmxy8ukDVX+fCYzWWj0/pDxpUa1VqTQ9dCoIgBCkoyxFXr73My6+/QZGBQ1JTigCPSqVCJ2qx3Fqi1mpC0zLLNN1KSlYUGC3AKLTVFNog1DyK8l7oewanlCSOWigWef3aNY76N2h0FihMSBAG1JSH9BrkRcpkNKRMHUqBKAKk32RteZV/8A9/ltaS5ebdd4h4iGq0zEPnS4pMUwurTGzB+sYy2o2oNXykMtTjOkuLTY6fXCHL96lX61QqTQ53x5y7HHLn6PfwilPU5HlqaxGnLg0ZHjVYWGlSayh0aedRDgcOzeHRVb789ee5tdlnNDH4QrFaabASNAiDiCiuUFURUkM+dCgdUYurRGsGYy3DuyC0R+grVNUh/Qz7HiRV/xTgFGdPP8TZU4+yvb3LUTem2lnAipTC5qCqCFFlNtPokvn0IhWuDHEuJG6ULC47RtMh97Zu0FBtfO8Yjz28QFaOWV9d4/XrIe1OhawYE4aSOK4icay1TlIWGU4W+GIRW2qCKKe/dxWKJrXwHENg6USfpL9Ac9nDD0uSicLzJHFFIJQmy3q8deUlXnj9GqX2SBIHZUkuNJ4vUQbQBq0LlA7xREDVq9CoeZQnNDLymCaO/lWHpxzKB+kJbPngD3PfMzg/8FlZXiHNCyZJwsbxUwSx43B/i2mWUq82UMrDGQhoYT2fwAsJxSLWRHRHA/q9hNksJM8dqZxQkQHHzzdIc8cjD7cw8THqDY+ynyGB7NAiXMbeO5uc+bBkNhtjKw1aC4as7DEYb3F+47PUqk1ys0tVrCOjDOV5JCMfYzRhLKnWIUsNBztHvPDyVXrjFKEkUkoybZhkJWXVECiLMQWl9lG6REmfSEZU4oChBD+WLJy29DcdJrOUuXvP6k++Z3CdlSqFG3PjzgEWQ7UVs9e9wlF/G0/VkUqQZwmyaFBTLaJI48mA0G+QmYSj/gEvvfw2XvkIk6yKqe7RWXqUw/4uz3zwDK0FydkLC0zHU4a7Qzw8ei+9CLUhySghf7PL9Vdv8NTpT3LqQyc48q/y5COfYbG1zGh6yLnza+ztDhkNNM5UKIuSJDGcvlAhS2E6S7hx7Ta3t7oYa7F2vuOwwNQYSmdxOKxzmFKjyxJPlYTCJxQ+1oJ2JWEbaguStCvQxuDFDpO+i4T+GH3vI642487Rc4z3ffywzUH3Hnv9a8QLmlgukg8TikmbyK2jIp9Saez94tHSDDE5bN50VKPr+PJZNnu/wQceL0m3pwShxpYlgY25+/I73L51lcCPmB30UO0Sn4Du67c4uj1iubFCOExZO3WJTmOVvOjRbCwznoxJx4KKt0x/P2U8lpy9XEF6kIwz+gd3uHZji1v3blLmJVoLhFQgNbmzlDiEEDgncBas1mijCfyQRhwxqkhKp4mqHgvrklEhKI2DDPL+g9+gfM/gjp2z5GabIFxH4BjM9ogXUyqNKvlhSTJOCcvzKFoYUQIGQY62E7Jyn0jWyEZPYsur+N4Rptzg+u0XObvxMJtXbxOLGqPxkJs332LQ2wOj8HxHsjcirgZ0D/ZZbmwwKjcZ7XRoOh/TKPCjOnk5pBa3OH8h4M61jMGR4MITNaLYMBuleKrHiy/d49c+92tsbd4mjHycMCAEnucRxRVUI8RVPLzMgQVrDMaURGHE+skOB0JhhMMPJY1lh5yElFoh8oKBKB64Ccn3BE4IOH6yxcWNsyi3wp3dIcNxn2TiM+uFZHkPGdUgF8yKAWnZBzmj0XQMkwPOnX6EYT/lX3/uH3N6+Wk+8qO7/Ox//Amu3vwaX/rC87QqAeVEYFzGbDYiHU0hz2l3Ykhm9EY90q4hCxN2Nvfx9R5rS0PSSQ3hEpr1dZSK54VAbUP7Iz6jYY5QjjQZ8Du//Tn+7XO/wtFoEy/w8AKPdqPJJ86f5ezpk2idcHi0Q2lT6l5MemOCMyXOSlqnauytHaEPNbWKTxRUcO0p3qJCl5JASXavlOjiwZL7nsCFkccTxx/hEx9+lFuHfXbFFVxRwu4JdJkg4yHCZkyKLbIyQdNjsRlhPMc4P0SOHKcX/zLWFnzq05f5ub/+YTKzzcOnnuXqS/+Une0Zg+6AfnfIQhhzsl3h4YfPsnH+GMV0xFtvXOW63WQ03ic9WuKhsx77O7vUVxusLp5GIJAoPB/8iuTOtTELq5LNu9u88rXf4YU3fgu/MuYDZy9x/tQpLp67wLmzp7Ci5CsvPsfN2/sYYfHDEFMpMUGGyDwWT53BnPfZ6t9CKGhV2lT8NXTzFmFHQOnTqHu8HU5/MMGdOb3IT3z8WeJOxMtHb5GqEVVO4lWO0S1fQXsOYxOo3SGujCjTgsLWGPUKSp1i2EZUXuHi0t+mUV9GeinLjZP88//rn3FvZxtphjzzhOT3fmuXs2vn+blf+CSLFwK8+jLCVTj3gfP81q/8Ci++dcTq6QWGyQFqHxbunEGUB6xcOoYTCbb0ONjbwvkFt69nbN59lQsXPsgHP3GOzopgaXkRqSyZnjEcD/niF3+H7d3teU+3cGijscbitKWztsrSs2f58tGvoO2UKAroVM8QiQ5JZcKs1iMuA6y2hLFiNnmw69z3BK7VaLK28hDXBlvcPtgi69WJy1NkKsHzp9QrMX5URdanaGnZveo42powmRia9YDTZ5Z55HKNpPdVrPoI19/pcrjb52uv/D4L7V3+6s80qC1e5Opbh5z8uEe+tM1BURD09hiPFefPnePDHz1PPymYYbj7jevEH+zwztvf4JmVj5AWFRrBMtqmrKxX2L5ewxcjPvPTP876cY22NZJsyjTpoXyB8BRbu9vs7O8yyzN06SiKgrjqY8YljeYCJ37kEb4++g16s0N8X1Kp1ajGTT525q9x9+A6Xxn+H1QzCU6ytBowOHywp/DvKZ79zNMfIC1PcGczo7flUc1P4zJBarZxKqdebdBaV9RWDcJJ8qnCc22q3iJrncc4tngZkzfpD/ZI9r6OGY1BTvnwU0N++Zc/yvrFn+D/++23mAZ99qa7xI2IXmJZXD9OWDmi1xuw9vR5jq+3mfV7TEddBsURpy9uEIUNapV1pAxRok6ZNThxocLHfrLG0lpOtz9h9wBGY/CCCir0yXXB29ffZDgdM50lzNIRynP4vsAMBQ/9xY/wtv9VurPbKOWwzmLLkKXqeRbCY3zozKfpVFeJfI+K77G4HL7bnP6QvqcRd+78U2wdWvb2u1xe/yQbC4/w+a/+Htd7fZxR6AbMgiHZYc7hbUkyUmwsP4tnGywt+kx6hsFBTjh2VOSUTfMy4fFNfuynLtE69kt87d/8E25vbeJFM9abhsnRCD+UCFtnuNPk5mt3eOpTxzm+1uClK/usfOA4ni9xXp3msQ5CGJzLQeUsrDkmI83OpiPLIibjACcKam3w4j6+L9m8s8Xte7cp8hSsIwwDKhWfwfaUxz70OG/yBbYnbwMWbRy+77MQH2e1eoH1hTNILGtL5+glryENVGJ1P/r87sL69/Vdg/N9n1SX3Nx9Ay8s+PgzP0eRK8Trv0ZeaMxM0Y/G6L4h7wVMugKsz2Cww4XTdVbWLaPRjE5Y4e71F3lj2OJDF0/w8EdO0EuabBCj4kVW1yJanKN3LeZqfIv24gb/6vl/RfdrjqfaT5Dux3RW65w4VsfGHYI84uDWFo24w9mPrBNF8xIIozXZTDIaCFRgOXFxiFN9hCzxfcUsz3jhha+RJBOcswShRxh6jI+GLJyIGSxdZ3tyHW1BCEkQWISps15/jMdOfJxm1MHYglq8zFAKpIOl1QClBEY/OHLfNbhms0FYKbl39FUunD3LQnudl28+x1F6FyklufboHThE4eObiNMrJzl1+edohKfY2T/EjiKefSrilS/+W7rpmFpYsnD+Er/7u2P2d29z6eHPUG8sEOdrvPbGDqtPdNm/ecDdf/MWlckpPhA+xuG4i3c74NQHayyuLXB3c0rr+DKP/fhxNs4sEQRNtNYc7Gdcf2tK93BGtalZXPUo8oJKUxBGAXmu+Z3f/R1u3bkBwhKGPpHvIXJN5dSMwdo+h2NHVhqsNVgDlajGkyf+Ej/z5N9lqbKOFICU+LKGcBIhHK3ODyA45QkKeljvAMllrm9d4Yuv/99gBYvNVW719ikLS8WXnDkWc2I9Igj3WGqdpbPyMLnusbxS47HTJ9jbvcFWf5t/8a/vcv3adc5fqPHqW7/DrbtXuHfngLWPGPwgZPL2Mc5whqXFVYLS4vSEaiSIo5jF1QZeVZFrSzoIwFZJ8xHj8Zjt7Sl376YkI0c0rHB4eEj7qMsTH1gi8Gp8/gu/ycuvv4wSPn7gyPIcT4E6N2FSGTHOcjzloRRYHLFf48LSJ3jmxGeIZMBgfERZr1PzazSjJZwOcBQoTxFGkiJ/cDvL7xrciVMLiGhCYWds7t5h9/BrdPt9Hlr+MLenh9wodnBa02jGXLpwio986CcZjpvcuHqH8WCfDz6zTq1h+MRnf4LzH1rh//zf/hFvfPl1am2BVD5f//rnqVYdD32ozWA/5+jtBm3/BKsXlllaaqD2DMeOLbL8VIfe+DqvvLVJ967h2IlL9DsTRisTGhsN2s11Ko8oQpezt6mYTDOsaEFyhluvxFjVZecORF6NvDhkmh2w0Nzg9DOPcrX8OraIsUpTOpDCIpViqXaKqlrgzv4tHjv2EYTvo0tLYnJa4QrOeFhPE9V8Osshk5F+AMjm+q7BNdqS/mSL3Bp2ixvs9ndZbF1AyZjuYAdjcnxpefKRD/L3/qv/GY+TvPj1Tb6y++tIL8OIZWrNJoUZceGxPp/9Gx/mX/6vr+CJhMefeJzTK2d48wuvs/t2l+pai8vPNEm7CY/8SJWLF5+iu+MTNzehU2L7mpXVdZaFz4WPPsOpS6dorvso36FkgPIci8ck0rPkBRgkTlr63Xtsbr1BmWxTM46RG1DteDz14R/ltrhKWVqcB0HgIbQCl7LcOs3Dyz/K5fVnaXnr9KYjVtprCGsYZwOqlSbjBGo1RRBJGs0ASB4Asrm+K3BCQOom7A83adRqpIzIwil51OV2/4jt7nWcNpw7e47/9r/5hxzfuIwpJWcuRHz4Q5cQIuKh8yt02gGhd8BEDihtyZlnmwT7TZ6uP0uUrLP04x/H++u3aa7dor8z4uabgmG8Rbz8aR46f4rNuzeJI8Xrb+1z/fqI0I8o3nwT6xpcqi7SXKpijWLr1pQbV0b0u5o0K6k2HdP8a7jsCDN+m7PVKi/tK7QIOXHpONfFc+zP9vBEjZCQmSnm/d3SY7FyglqwjMsFg/yIKEjIjibkZcHm0V0qwuPlbxywuiI4e6lFtf5gS1a/q7/uBYLlSyV+PSN3klKmxM2cRN3kaHa/eQL4hZ//RS6cu4y1BVmmWF7q8CM/+jAvvv5lbmzewt81XDh7wGi6z0d/bI3mmSP05gkeevxjdB59CBHnbB08x423bnN4ZZn1x5fYPtgkqKwyy66T52MaYZXFC0/z6VUw04Dlh59g/eQp4kZIXkxJkpI3Xunx1ksJeVFSqVqi4SY7O7+OLe5y/tQqlCfpTQa0LsWMa0dMsz5laebhLimoBDVmWUJcqXI02yIrvkp/coSkzmDco1mJkSKgP9vjQv1Jkr7g6zd2OThMCKMHWzn0XYELQo8L59dJdUKeG+KKR+BV5n1qZUGRFUjPp96QlKZHoNZQ/gwjhkySI6qVDvlgwNKC4+zJFn74DNu7Ge5gHTVR3L3dZfGZi+ztfZnM3iPJprRWNnj59a/xkz/+n+H5Pr3+G6wtL7Fz5S4372QcXd/l1NNnOL+WEi8mSGFQ1InjgrMPCZKp5fCgx41rt9i+9zpRNOPMuZBWeJyrt+7R2Cjg1IChKShLi7UeFoVwGdiS2BdgI7qThJG7QXeww0JlnTBoc294h/5ogBIlZ+NLNKoV9vYkV9+cZ+wfpL4rcGfPL7FS2WDrYIdKIAhDQ+40aZ6S5hnaOCyaz33xd/nIUz+OMEOmw5IoqqFzxWSkSYaStccDZibnN//ZW3z+d7doTRI++rETdHdu09+CL/2zf0n7iQnaJewPfp+NlSe5fPlHGQ9fRpGzdeUed26H9K9NePrsp6CxwJXnxzz1UY/2sYA8GXPjjbe49c6Q4Y5g8+4dxoMZzeYJ1jdOcu5Ym6O9l/A7VRaearNnhxQllKWP7/sk+YSsKPCVI/bbjNMZ2vpkdkbioJtuIoRHLBfI0hm+p6jHFdpRRCWMmBYpycQ80EP4dwVuebFNrOsEuokLZmAN2jiyokA7S1ABU8JXXnqBX/4ff5kff/an+LGPfYqrN27w1pt3ObZ+jEeePUm19TIvPP8GL7+YMryb0WgYgrrl7p23eNoIfuRHP8X20Raj7OtUG4bPfOavYNnl8OhVFsOQN9/sce+65eGlx7kyvsOzC+f40I89gQoFCMegd8jv/dsDktEmadZlPNplMupiVI8TQQ0zfohpWfDYX/kLvJ4/R5jMyMsDhOfI9BRrCvLc4XwfKQS5LnFGYwAPSaeywUFvn2F5l4oIsASU6YyHVo5RTmbcPDpg4goyaTHmwZD7rsDVqgHZ2FJkglLleJ4B6RMGMfWmprFgKac+CstLr3+FYryA7T+NLmpcOn+ZhfWMIDyiSHscX/ppPvnJHlnvc7QDi/VSBsWE0mk2PtxgWX+C7MsH1NoejXbCoPtFFhs1vvFvXuRwt86sO+NOOOGzv/QLTAclVkuCiod1BX4Y4Vih3wehHH6Y0GxO6aw71lpr7NzpceFHnqYX3WWWHJK6AcoTzNIJQmiEdAhniMI2aVGi7dyIxhhDaaFbHIEpydOcMPZwumAy7VEJHE+e36DZ8nnr3jbjQfH9ByeEYHWtwlF/xEG3B+mMjoyJG3XwDM2GZtzO0YSs1uusNT9JNXyGX33uH9FemNE6/ZNcaH+cTifGFad4+dobXH56xtlzP87V199mqN4hrJ5j53aX2mKPML6HLt7i2MZJdu5dIQyOc3jtJve2HK+8eIPP/sIv0jua0N+b8ejHLyMkQImxGcLLePiJDZJRnzRvEvIsx04eUK1/memRwjUCRuu73O5+iaTM7teclFhXYI0BBJU4IC1SkB6hFPjSJ7UemTPM9AidaaR1pOm8MOpo6x5FluIHjounloibkkH/NgeHswcC7jteQaWEclZS5DOcTTE6I4gtQWiJgpBGM6beUSyvRZw81kAG9/jqlX+M76pcXvxFVPohtm4KrA4ZDWKMTRG1kurxhEtPKU50jtOpLJCOOhztSrau77K42GT3XoNO8zKqN+btV/vsbk9ppCFXv3qDn/n5v8GZR04hhEMIi3OW8cDyxmt7RJ0pSyurVKtNwvrLrJ28Tihi3rx5h/YHqmzxIkkxpDAppZmBKDHW4hDzRhTl44oCPUvQpmSazcjyDEyBuB/+clqQTw1r4QmKvQJTaIy2OOM4vt7g4YeXHgg0+C5GXLsV02lU8EONCjX1JYWKU3RZJa4ssrQYgRPEeUCj9Jl2z/Dhs79AHK2TWp/RbMijG6tsbt5mNp7iyYjQSm7u3eTS8iPo7k0Oygm9nVW8xgILy44TGx4qPc7B82/wxvUBd/uWuFHFW2tx9sRjOOdTXYxx1qGLAqUkZe4x6tbZ3dlmMruKMBEbJ55lbfkmX3zxedKooFt/i3G6w0wXSCuxxmKMBmvBOjy/wjQt0DgQkqIocFaAmnfBFjOHTgVFYvGcYlkdZ+fuPr4pEcrDOZCepVl/cOmd7xhcrRKwtFhl5Pq0VxrES4JRckhs2jRaDcKaI4ga6IFF7K/jijOISJHVb1Gvtmmv1fjGSzc5uXGR4xsb3OoP8JPTPHmqSVj3ee2NXYbZGuF+ztdeuc3pcwL/8UWu336FKzf2SbwGtWaF5uICC6fO8PgnniRsefP+bVPy1isjOksefujRbi1y0O2j/SWiTo+Ll5e5+vYFZnrK4z+yysD7MmVR4iwYKwCBECCFwFlJaQy5LpHMewKEAG0MyvcJvYg0T8injjKBSkNxdPeA/f0hC/UYz5MEgMkdQTAvwNUPwFnvO54ql5fqyNChlaa9sIouQw63CzwXE9cUUdVSb8fIwKM7vsfUvE3iXuNYpw21u7z8+us8dOaDLK46RrMj2gvrPP/b97jzSkY6zDk4cAy6Y/RgxqO1Y5xonOTq1Sm3e45xEbK0vM7GmWOUOuSj/9FfYPXsCnE9wjmLVCWg+dyvbjPsWS4+HnBs4xjHT5/m0mMhSfoVXnrlX9NZrVA/XWOUDpnlJcJB6XK0K9DW4JwliisUWoObe3VZY/CUIpAKkVvGw4RsaikTgZk5WkGday9vczQaMsoykkJTWoExik6jThQ9mAjKd/xXT59aoJcfYWLw/RqHm1tgPWrLCoI+0s/mpgNOIHxLrRZw8sQ58s436PAEH3n6JyjcVWYzge81wDgqYpXtK31GBznuoEOlD3bcp1yrUyrJ1be3aT+8zJKrsdRZw9qUpz76JJ5fob4QgrPk2TzlcumJKkcHBS98KeXxDwecfyzny1+YsLfT4sqV6/iuhLXPc2t2i6xIsU7htEZKR6kLFIrAC5lpgzYWTwiEtSAEaWEoSyi1oyyhyASuAIVCDhR37/QJpEcYhQRBgPR8ai4kVIrAezBtqt8ROCEELjAc2R7NYIXheMwsHbJ+OiZq5RhmKCTOOCJZoVkPkFXDrPa7nIl/hoeX/iJHw68T+CFKVui0YqxTXHr4KaaTQ+7e3UT0T/Dhp9fwZIBsFxyOunSOn6HRiVherKFcHac1py+fRdHAUVLmsHUnpcwFDz0hePZTLV74csqddwTLpyMaq1scbYc0aj+Hv/o8o5UvMSnHWEBJiZ6bv6KsR6AUGI/SWSpKoktDYR2lsTjrzb0qCwuFQGiJLmExDjl8qySdGUpf053MCMOY0A+JIkfk+zRqMf3hu1/a/B2Bq9UCGhsOHadMy4Rhb0hjuaCzWqPQU+xsRuj7iCImtCGJTNDRKywEP83FxU8wTF9jsBsRNDLW1tcpc8XGqXXMSsroYAmtK1RVDW95vtuc5mNazUfYWK3Q7x+wuHiCYgqnLp6jvpRSDRo4l3F4kDKdGPbvwdmHa/jRjKc+GnL7HcmgX8NOzkL8OmefqXNIg22mCCmRzs2boZwjKzTOSUJ88tygS4OzAu0k1jmcNkhnEBqsFgihMLlEGkVchFzbS7CUGCMYz2ZESUgU+PiBhxdErCw0ubvd//6A80NJtFygax7TcYKIExZWPRCa3lGC83MiE9M0ETY1qIpmbeUUT6/8NKXYZOeWYpqNePjkBtt3pzz8+HmMgtpiHS/yMZxlcX2JUbaN03VivcSx42cJopRKrcXx8+dRIqKyFDHVd0CVWGvJUsvV1xMCpUjGFaptSRgZNs4YrBBMinV6gwzV2eOw/ByCFKc9fE9iLBhbgBD4XkRa2Lk9r5VzRwdncNrgSkFpweSCMrWUCejUoxlIxpuOtNA457BWUJaa4XhKqHyk5xP4PoHnv+vQvmNw7RWfqCXxK6sUeZ/WkiIIBaNuxu6tBBPltBccYdjGl47FpTafeOhv4krBO6+lTLMxKwvnOdibcvnRDYZdTb0eYLEQCFqnYton6qgbDiUFtXaTaq2K5xkqi03qS3UcPnkxwxRQygxFFd9POdiRnDge0+vOqC948zLximNxHXaPclJuMC0yKkGbo2QX4wQIgzDzBg+Jwncemc7BSHAO4zROW5wR2FJiSkeeOMpMko0VnlVUtce9/Xwei3RzExtrLGlW0B2PUZ5HFPjzNU8I7Lvso/Edgds4X6XdWCaKl9HmOs7vMh6X9LdhfBSihSTMPPS6x/KJJX78mf+cxepFrl3t016SrK4+RBjW8P0W1tQIawZfxUySAQiLEB7WKzh+8RTDvTGdtQU8T2BJKfL5yFBSMhyM8EOf4XBMPg7JzSFLqwto67O/XbJxxmFsTqktYQzLG1Ou7fcYT3u01te5l1wBZ9Da4EqJcx6e8jBFjnWarAAlHVKAsxKbQ5ka8hzSqcDkYAtL1bPkh4Yy/yYMcX/UWbTWJLOMrpwQBQHhfVNT+y6Hvv7k44CAaiWkGa/TrKxSqVbQTpJOPPKRh04j/KJBZKvU6y1+5Klf5PzaJwniGcvHDRsbZ3no0un5oVUrDg77KFel15syGMxIZime9HDa4ld9OsfayNAhPLCuwOgCYzRCwGw2Jp163LnR55XnErbv9FleT2mvWPI0IMsyhLSUOiNNZjg3o16XGFvQDFYIhA8aipmjyARRUCVUTUwZUloL6r55qIOyFExGhnTmKDKHzSWkPqGTtFzE9Gi+aRMSEPdHHPfhlZbJLOVgOGKczh6IEemfOOL8QLJ2ooonGoCH8n1EEeAri/IEtVpEvaJot0I+9PBPcnHj0yATwiCmHXdorTcYdg1paugOJiw0Fti8PcWvFJy7HNLvD/BZIIrjuTG1KskySyWq4KkQpXxwkrJQpGnO1o2Qo16fdLDAne0bnDjXY23pI7QW59O3diXGlQyGfTxP0GksMs53iUSELRRGS4T0UH6EFAIlPJwTSCsJPShSS5o7TKooc4HOLU5LbCZwhaEdRqQ7Fq0FnpIYBEIKnHA4ZxBu3gtuhWM0czhT4nuKsnx3Ddr+RHBSAtJRpprUHpIXCb6q0G7FmGYOUY1KZHj4wmN86NGfnzusYvFEh2YrYDb2Odg7wJBgZhX2RgXOH/OJH9tA60PCsMpkZKjXI0zpYVyBLh0zo1HSoUvIJgZdaGZj2Lw9pbQKacfcvD3ipdv/L3/js+ept5exRlLajKLMGCZHBH6FZrVF1A+RgEMhVETDq1PmKeWsYMaUaaZxVhFXQ8azFJsJyplBuvtrXOYhraQd+rgjyXgsMIFBKEPAfIdqcBgH0oEUGjAYa5imAqm+DyOus1zFD0LGwz55MCATE6K4AyImjAAlWVtY5FPP/gLVaAWYIaniMBQZXL92la2jt8nGx5gMQ2wxor0KgecI/BrTMVRjgZQKgQfOJ88Eo8kMLXI85Rj3UtAhtoxoL6bs71TwghHVsM3N23d59Y3Ps7r6VxiNSqw3YZrOSIsR2swjIL6n5nfAiSbTpMtUl/ixolKHwFdUPMd0YlHS4AOZdkiYxzBLhdOWxSCi7Dr64xzjz9AYrBM4N8+5mfkMi533iyCdQ2lBYR/MLSB/IrgTZ9dYWOowSHbJkj6qYiC0GFcgY0MUwDOPf5yN1cfnjmQorMsYT/e5c3PK9vB5diaa2f4aejbAl4Kju7f5RLHEaGKZTA0LZwRlDtYUOCG5cy1F+RkytGhdkE0zyjyjsSA4dT5gMggYDF+jU2vQqoS8c/sFoq80+NSPPc7Cio8pC4LARwmLUh5SQTWKiWkyHW6STgWdToRNLUErIpRTXCxQAtqR4DCxIBV5bsFYVhoNWkTcthO0d39zY93ct3Le94h1cwM2cT/rbUuBKxVCOKR698sY/kRw9VaVWquFnAkcEwqmlHZG6SwyFCzESzx84UmUNFiXkhVdDro32DvY5ijd5ma+Tej9DJuDXWK5yLA8oBJJ4qrh2vWMtbU6eeIhYxj1Syp1ye7OkMWVkkYckGSWaTalmGnWTzWoNEtqjYBxkhJXPJx0DLM7XL93ldqrJU8/vYyTBcPJAYEfMx6PKcuUQLbnEZ+ZJgg8ZmlBOZAMe/NdrREFEo0uLAIoC4fRcH5xkcvrD+GIOLlWsrl3wJtXbpJm5RyaA3c/hizmCXjQYDMBxiKVQT0AS8RvC05Iwdmn2vhRhXoYIDiCQmDFFKk8vCCk2QyQMmWSXKM3PKI32GeaT9mcXeX29G2K0RnMzh1m+Zh2Z4nPv/gb/E+//D8wGpY4YWk0JWkiCIN5ULcsYTjeZW3jGEEgCYOQoxnkUx/hKoTxCC9OCJShl/TAOkbTu+QuJ7vyOYLVjxHZDbJsTBwVaJvgSBASTJmjU4GsWAo791MuC4HJ7zfj6xzjxNxa1FnObCzz6cc/xXLjGFo6DI6lrW0OhkPu3jnAGQe4b9WWKAdWg86Bcn6rAUI+kLqTbw9OgBcXKOXhBxIjYvzKMXSRY/J5C25UFeyOriFdhXHS5zA9Yjvd4jC9Q38yZOvWLrNrh3z84t/huRd/lWY15qHLq+zuWtbWfaIgRot51KHWEBzuJ9y59RYPXVjD8zyMzQmDiLC+gBdI8iLBqSNwCcoL8fCYJSMKb8S5Ey2uTb/EYwuf5fz6I7SbTXr9XW5uHbHX3SZ089uoymzeE6c8KHVJmVswoI2kMJaoIjm11uETT3yclc5JnBVIZ3AGOksLPPLYQ/T7U0b96begCCegFLjMQSFwdn5AEOhvmW3bd3Gx+7ZjuNb2QZYYW4LIqHgtOpWTxP4CvmpQiReIKwsMZ3vsT9/m6uAVro1eZ5AfoMuCQX/G7Vu7FInk3u5rvPr25/joB34EoTyEgmPHWgjhUW0IilzghSnbuwe8eOVVRqMRcRjMb6OqOWoLQ8LYMp1OcHSZzY7I822UACU8jh2vECyVTJlyY/RV9oc30MZQqbbotJf4+tWXORwNiCQ4z2GMpiw1pdY4NM5ZMIJYBDyycY7PPP0THFs4j1MC7RxaQ1GUeEpx7txJzp5bm7d+AdJIRAk2d7hCIpycG446g7Vz4wL5Ls+W33bEVVseYeyTlTNKm1AJK+gSdC6QwicKFomCYyAbjJItJllOWRYYoUnSlIP9GaM9j0c2LvLbX/4ndDotzp5dxJQeS0sBtWrIMCtRSqBLR6+/zzs3bnM0PmCajBFinVrTErZSssQh/SrjoylClqRZl+HwAIUjdh7ttYjMTRB5QHcwY8Auu9UAi6GXDZi6EcIXRNUIZzVOKSyCUEr82CMQEY2wzZnjZzh/8hzVuE6pCzAOYR3OWpw1SOGIY5/TJ9c42jriaHuMLSVlYXGa+bQ5j4Pdd4ud2yLyLp8Ivi24hcVFFjunSPWA2aBL1WvhhKUQE2qtFmFUIwgXEX6Vwu1Q6Iwyc2iTk48M0z1H1tM8t/svGIz3iStn8IMRlYoiqimMMXiBwBrJcHjEzTtvcP3WDgeDq1y9+xU+9hfOs3q8pNBN8iREeSWTWX9e/5LPwKX4OKqRxASGpCuY7Dlavkf9VIf1pRY2UNQXmrRX1hiNuwxHg/kmQvgIF8yLgVRAKEOqYYUoiAGDNRph71czGItwbp54zQry0QyVWpqiRmILSmMR1pELi71/ubS4v7109xOySoF+F7uLvy24pz96iWq9yeBgl/EgoXSOQmfEHYltl0iPefTAGYwomSYDZqMCgYcdhbiJxBYFo2QPISHNjjh9qkUclyhfMx17BKHHbJxz69Y3+P3nXuPKrauMJrsc9u4SRgI/1PihpFlXDCcDxuMhga5gCoFSisfOnqRWwt2jLYZ9D1N4HH+kTrO9TNIvILJUm8sEC02WWhvookQZidGGvCjJdTYPXSHwxNw1XRf6/l1xoLW573FiSCZjRr0BR3tH3L6yw+ggQVqFkqCUQ37zPOC+aW7z79a0uUv6u7fG/fHgBLRXq1iV40zKanURCp/MCwkroGRBoYek+RhXGsZZlyxLyVND7CL0BHTK/CHk/CEarRorKzVE0EeohfsPM6N72OW3v/qrDJIW2wdXkBjyPCGqaSwOqQqEGtPtb5LOUmxpcFpzvBVTrYVsvjPhCIeWgmbH58SxU0RRh7svvcFwcsTZpy8TNRs4zwOjKJ1DW3u/XlJisUgMxkmMmYemnHPoUmNKjSkKksmY7mCPXveQnd0e3cGMoph3qQphkfdrViTiW+ajcP9cB/fLB989/bHgas2I1rpgku3S8GM2llcpc0Uv7eLiGcrLGAw3kUUInmaSH1Iah0eEKwSmhLKwCDXv0gRYWV6gXvMQUqBEiPRKbt96hZdf2uK1619jY+0DONlHYMmyKdZlSG+efElmU+7cuwFWko6nBCZl6s34/AtXmOYG15D4C4LV1TU6zQ55UTIdlLz1pSsMd4Ysnz9Oc3WJqFbBhZLSaIw2OGeA+1PhN23MjUUXJXkyo5gkTJMh43TA2A5I3JhS5Ehfzv0pjb0f87x/t5yQ3D9Q/MEX7XkIUbxrLul/LLioJtHVLkUyY0ks4kuPmclxfomMHRhJ/6jHRJTEjRDjpWij8axPYUpyY7EeiFBiZxYhYb2zgK9ClKrhXMHhwUu89upzvHm7hwrH7B19hWrNkk/n5tVWW6QHRVlw/ebbDIY96nGH3r1dDIYb211iUcH3Ddv5lNXmMp1GE1OU5NmM0lqmw5yt17fpb49orXZorS8iGxWsmpfkOQmBN0+uCk8gjCUfJWSDCbNen9lkSO4X6LrF1DXWd8gQVOzAA1lKEPct7uU8tivun8qdm7cTG+OwpnxXre3/WHBBFUbjLkVS4JkALRzjfIKrZjR0hTyXDA4K8vyIpWM1vKr+1qWvGkUhBF4lAJWBmBuTtioRMM8IHx1d5bVXv8QXvv5bTMqM1aUYU0KgApKexuiSXu8AGabs7G9zd3sTo6HeCdjNc2bGoxEs4OVT7oyP6Omci/ECjXoDnCPNU5wvsEJiSkvWnzLKDeVIo/2AaTGlOx4wyWaEkU8chUihIMvQoykyzfFNhop95EqECBQiFkih8AMfPypRgcXkAunm5RBCzM9qRWEpCofR7t+D9R4lUlfPBUwGKaN+Qn+aY0uBjTNW1qpU8oh0IhgfeeSFplLTRCicFjjpY70QghIVegjhUBI8qRDKkWVT9OAaL7z8PL/5pd+jn+/QqIeEskqRG3SumYf2DFevvcm07DHNZhRlhu+FxFHEeJyjVIySGdpZeumMflKSjg21ah0nQXiKSruBuH/wFcbhtMNmFj3LGY+n7O332el2521iTqAQRMLS8BSdyKMeQiwVIgNbWpRWeIEgjARhDEEEs4kjzQ3TtGA8LclL855cGvHHgtOFYLjv6B5mlOME51vqy44lG0MZoWeQJwpjHa6ooayiJMVIjxKBlQJTWNDze2t8X5IUE+5uvkVvMOCf/sqvMU53WV2J7puZ+Uyndp7Lco7SGrr9ATMzwViHUoJarYYuNUmaIfFxQO4sic1xzjAajKmGNeI4plKNMfUSoRSuLHFI7LcOxB7ivuMXbm73a53FSosGpHD4WuMriVcavMIhC4kwEiUswsJ0ZNjbSekd5OSFfVejIt+J/khw0hOEYUxvu6DfK8BaoiqUmQQb4KyPKUswgma9zYm1x5CxY398g9SklMaSJQWzcYrJHc7N76UZpHu8euVLfPmFqxz0jjh1okKjpggCh5RzY09tLdpBfzwkyVIKWxJHMcqDxYUO+7c3MUYj8REICqfJbYFSjl63i9QQ+gEKR6VWwfMDXJZjrJ17c1k73xzJ+Q1USri5oQ0CxzxKkmpNKAWRUni5Jsgt5QgGg4J7mxN27iSMB/pdL0f4bvRHglNKEvg+494IYQSNRoVaO8KLNYEfYF2ONjmNVsyjjz7D8vJx+tkBxkKe5UwnmuHRmHSQY3KLtRI/kNQin7du3GGQjThxssraSoxxJcYZiqKgKCx57tDaMZ6OKY1mabnDYrtNf3xAsxnxlTvXsfb+ns1ZMldghUZ5juFwwmgwYnl1lcgPkaHFDzwyYzBWoIzCGI1SAUoKAinxpZxH9O//WCy5dcxKwFq6iaW/k9FPNclMv6e3Mn47/ZHgPF+SJjOCyLGxtsixtRXCik8qh0QVgaFABYKLlx/m5MmzlKZkNpjS63UZjKaMejn93ZR04DCFRKh5mn+/2yfJE5YXfJYXm4ShZDjMmWYluhDMcst0WlCUmizPqFQEj146Ta4N1VpA93Cf/mCAcrVvRfALV+CYJz7zomRne5dHH38U8FCexQ8UiTU4I3HfLCl3Bk8IfKWQ3woiOoQFbR2z0tIvLKUG/V5Ymn8P+iPB1Vo+YWxY32hw7tQpNlbWyVzOYZYj/ARHQWfxGMudNaQ0pJMpOzu32d88YpoYBt2S0UFOPrMIJJ43L6opSkPgSZq1iEY9Is1mDCcpk0SDlcymhuGooChgmkwIKrCwWkcQMuh2+fLXvootDco6BBYrHJnOvxWhMMayu7ePxCKEwjqDin00GqzCmXm8EUBKifIUQkiK0pLk852gNvYHZlR9O/3RU2WgqXcEZ06tcvH8SRZaC+yO9ukODJmZEceLVL0mTmr6431u37nLzRu36O+lTBPLqO/IJxaERAmB54Euc8oSnBMoqdC5pt+fcHiUMEstoe8xGVhmicWVkM5SvvT8F6i2SzrNGjduvkN3fIS2AZ61OAzWWfJifj76ZkB3Z++AZDKhUusgI4/Fk8fYv3Ebay3OOYwxZEXJ9tGQd+4dsHM4ZJY/OCOZB6U/ElxlEerNmLWVFVYWFvBCiRmnpDpBm3l2OHcp5fiIXq/H5r09XBKgZx7TYUo+m39lpRR4ShH7EinNt8JIWWZIkhH39gbs7WVIJXEVSZrp+cV/97/xW7ubPP/il1lZqVEWet54aN3cV4s5CG2+GZJ3WAuHR0P297ssrJ5ABT5LJzeQgc9knDMYZuxPDtkfzhjPMsz36/b1d0F/CJwQUF1W1CoRsRcgMczyCaO0xyiZIJ0H+YhMQp7mZIkmVjG10CNQKYgcFZS40iKdIgwk1VjRWAip1UKcgINewmiYsXuYMstKOosRKPB8QRQoJk7P1x4psG5eLWW/Cc3NUyzcB1cYOy/GuT/qZknGzRubnLt4maO9MW++eZcXb/TY744ptH0ghTvfD/0hcF4kCGsKY2A2S+lPDpnYEfujbUZJQiBirEwoXYnRhlplFSvqFDNNtZoQZ0OcLNAWfCupRpLltZjl1SpISGeabjeje5SQa0urE7G0XEMBniuZdu8fYIXlm9GGeegWPBHcj06Y+VRpLcaaeQn4fXj5zPHbv/4Nvvy5q9y+vsN0kvxQrFnfrf4QuPqiR9QU9EZTdrpHFN6EqRvRm/TRpsT3YnzPI1Q+nlclkAFOhVSTkGazyiiLMC6H1BAKweJizMaxJovLManWJHnCZJqSG0ulEtFZCGh3QqQ1uFxj7f0tt3B4yqcadWhWlyFUqFkB4YhSlPdHn8UaKGdQTqGYgi1gfO8AOHjv3+Z7qD9ixEmsbznsjon3dxm7kMKfkRtNNY6oh1Uqvo9EIGWJlRmeaRJFHo1qk3atRVGWoHIiX7K4WGF5pUZrIaY3nOCsQUio12OazZDlpZiVxTpoSAd9rJkAc2id+hKrzXMca5/AlQFBOqCs3GUr32b7cMQ7W3vs7BVkGQ/c5/8HTX8I3MrZCGTJNMvZ74+ZKZ+wbuYXI9SrtKuNeXWUzinJkVaCyZHCpx43qFYaNPKCqK3xZU6tGVJv1Ob+xkajy4J6tcb64gYbxxZZXanSqNdIpobk8CaBGiPEiEa1zkbnDGutcyzWNtjf7XPlzTf5/O+/yO07u0yS7M/kFPid6g9PlR0fV5YY7chSTbOMiFVIFAnqQY1QhuRklG5GQYYrLLpo4tMg8mMWGkt4LmIixgT+iE67STVukGZTxqMCYQIuHn+Ixy48wdraAo16hKcCjnpDeq2CangXISa0am1sGvGF33ud19/4V7xz9Tbd7uAPZJX/POsPgPMCief5FIUjElDzQpqVGsudNmEsUa4ky1ISOyJzQ4zU2MwQqYA4ruE5D4QkTzSpmLDQ6rDUOkYoamRakE4UrWiJxy48xcPnH2Gx0yaKgnnWuTygHuzcL7xxvPn6Dq+8sEmWl+/D+iP0B8DFVZ9KLcDOJPUwptOo0mk16DTW8X1BOjsiKY7I7BQXllgL1WCBhlwntm1SZ3ACIt8n8n0W6ks042WWG8t4dkQ7mrGyusalM5c4vXGKWqVCOsv4+iuv8Bu/9Xm++vxLbO3sz3Na2XtwJdQPsf7giPMVfimpqxi/JVnqVFnqrFCr1IjCKs5o+skOkOMpiScqtMMzRLqGh0R5hkD6xF5E6kUs1hc5tXqBpYVVqmqAPq1YbC4QexWee+5FvvK1F/jSV19gc3uXovjBjAn+oOoPgFtdbVELIvwYKr5PrV4jChvU4wWq1TZC+EzyXZRLEYGH55YIbQMhM5z2UELOq66dR7Pa4sTaWY6vnKNRa3C0O+H2jUN+/a2v8vY7dxgMR5TlD1+o6QdFfwBcox1Tqwe0GjEKgRMRunDEqkkj6hDICsYNOUokuZmhdA0lHVYnlEWGlE0CPyT0YxYbDZKJ5jd+8/f58vMv8NobbzOeTN9fr94lfQucVIJWO6YS+cRBQFlAkQvSSUFIjYrXQEhJW5zEqJzB+B5FbjBiSF4UOOujSjjc01x5/Rb37m4zGIyZzd5fqx6EvgUu8D2ObbSJ/PmldbqQJNOcOPKRJpgHfoXGk4pYtdD+jCTIyIaWrZt9rr3a497VFxn2E8ri/SnwQevfgQt9wkAgLJSZYTzO6Y1yllohyXRIUIPMjciKhPFBybW3El55/h6b14cMjpL3vObiz7u+Be7kiTViPyAbp5Ra0x1O0S4kiGKKUnP31jYvv/wmr714i82bXUb9P5vB2x8WfQtcvVbBZJbxJGUmM/qzCaFb4qtfusLW3S+yeXefZJq9v7n4AZEH8xxcoxYz6mfc3RuyfTDiYDdlNjx8YJ7C7+tPJwE4IeDMqXW6/QGTSYp98Lchv68/pf5/Yoha3Y7/bRYAAAAASUVORK5CYII=\" id=\"image720d217665\" transform=\"scale(1 -1) translate(0 -79.2)\" x=\"187.2\" y=\"-19.27875\" width=\"79.2\" height=\"79.2\"/>\n",
       "   </g>\n",
       "   <g id=\"matplotlib.axis_5\"/>\n",
       "   <g id=\"matplotlib.axis_6\"/>\n",
       "   <g id=\"patch_13\">\n",
       "    <path d=\"M 187.2 98.47875 \n",
       "L 187.2 19.27875 \n",
       "\" style=\"fill: none; stroke: #000000; stroke-width: 0.8; stroke-linejoin: miter; stroke-linecap: square\"/>\n",
       "   </g>\n",
       "   <g id=\"patch_14\">\n",
       "    <path d=\"M 266.4 98.47875 \n",
       "L 266.4 19.27875 \n",
       "\" style=\"fill: none; stroke: #000000; stroke-width: 0.8; stroke-linejoin: miter; stroke-linecap: square\"/>\n",
       "   </g>\n",
       "   <g id=\"patch_15\">\n",
       "    <path d=\"M 187.2 98.47875 \n",
       "L 266.4 98.47875 \n",
       "\" style=\"fill: none; stroke: #000000; stroke-width: 0.8; stroke-linejoin: miter; stroke-linecap: square\"/>\n",
       "   </g>\n",
       "   <g id=\"patch_16\">\n",
       "    <path d=\"M 187.2 19.27875 \n",
       "L 266.4 19.27875 \n",
       "\" style=\"fill: none; stroke: #000000; stroke-width: 0.8; stroke-linejoin: miter; stroke-linecap: square\"/>\n",
       "   </g>\n",
       "  </g>\n",
       "  <g id=\"axes_4\">\n",
       "   <g id=\"patch_17\">\n",
       "    <path d=\"M 277.2 98.47875 \n",
       "L 356.4 98.47875 \n",
       "L 356.4 19.27875 \n",
       "L 277.2 19.27875 \n",
       "z\n",
       "\" style=\"fill: #ffffff\"/>\n",
       "   </g>\n",
       "   <g clip-path=\"url(#pc385d044c5)\">\n",
       "    <image xlink:href=\"data:image/png;base64,\n",
       "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\" id=\"imageac939025aa\" transform=\"scale(1 -1) translate(0 -79.2)\" x=\"277.2\" y=\"-19.27875\" width=\"79.2\" height=\"79.2\"/>\n",
       "   </g>\n",
       "   <g id=\"matplotlib.axis_7\"/>\n",
       "   <g id=\"matplotlib.axis_8\"/>\n",
       "   <g id=\"patch_18\">\n",
       "    <path d=\"M 277.2 98.47875 \n",
       "L 277.2 19.27875 \n",
       "\" style=\"fill: none; stroke: #000000; stroke-width: 0.8; stroke-linejoin: miter; stroke-linecap: square\"/>\n",
       "   </g>\n",
       "   <g id=\"patch_19\">\n",
       "    <path d=\"M 356.4 98.47875 \n",
       "L 356.4 19.27875 \n",
       "\" style=\"fill: none; stroke: #000000; stroke-width: 0.8; stroke-linejoin: miter; stroke-linecap: square\"/>\n",
       "   </g>\n",
       "   <g id=\"patch_20\">\n",
       "    <path d=\"M 277.2 98.47875 \n",
       "L 356.4 98.47875 \n",
       "\" style=\"fill: none; stroke: #000000; stroke-width: 0.8; stroke-linejoin: miter; stroke-linecap: square\"/>\n",
       "   </g>\n",
       "   <g id=\"patch_21\">\n",
       "    <path d=\"M 277.2 19.27875 \n",
       "L 356.4 19.27875 \n",
       "\" style=\"fill: none; stroke: #000000; stroke-width: 0.8; stroke-linejoin: miter; stroke-linecap: square\"/>\n",
       "   </g>\n",
       "  </g>\n",
       "  <g id=\"axes_5\">\n",
       "   <g id=\"patch_22\">\n",
       "    <path d=\"M 367.2 98.47875 \n",
       "L 446.4 98.47875 \n",
       "L 446.4 19.27875 \n",
       "L 367.2 19.27875 \n",
       "z\n",
       "\" style=\"fill: #ffffff\"/>\n",
       "   </g>\n",
       "   <g clip-path=\"url(#p16899d4058)\">\n",
       "    <image xlink:href=\"data:image/png;base64,\n",
       "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\" id=\"image4a0f0073f7\" transform=\"scale(1 -1) translate(0 -79.2)\" x=\"367.2\" y=\"-19.27875\" width=\"79.2\" height=\"79.2\"/>\n",
       "   </g>\n",
       "   <g id=\"matplotlib.axis_9\"/>\n",
       "   <g id=\"matplotlib.axis_10\"/>\n",
       "   <g id=\"patch_23\">\n",
       "    <path d=\"M 367.2 98.47875 \n",
       "L 367.2 19.27875 \n",
       "\" style=\"fill: none; stroke: #000000; stroke-width: 0.8; stroke-linejoin: miter; stroke-linecap: square\"/>\n",
       "   </g>\n",
       "   <g id=\"patch_24\">\n",
       "    <path d=\"M 446.4 98.47875 \n",
       "L 446.4 19.27875 \n",
       "\" style=\"fill: none; stroke: #000000; stroke-width: 0.8; stroke-linejoin: miter; stroke-linecap: square\"/>\n",
       "   </g>\n",
       "   <g id=\"patch_25\">\n",
       "    <path d=\"M 367.2 98.47875 \n",
       "L 446.4 98.47875 \n",
       "\" style=\"fill: none; stroke: #000000; stroke-width: 0.8; stroke-linejoin: miter; stroke-linecap: square\"/>\n",
       "   </g>\n",
       "   <g id=\"patch_26\">\n",
       "    <path d=\"M 367.2 19.27875 \n",
       "L 446.4 19.27875 \n",
       "\" style=\"fill: none; stroke: #000000; stroke-width: 0.8; stroke-linejoin: miter; stroke-linecap: square\"/>\n",
       "   </g>\n",
       "  </g>\n",
       " </g>\n",
       " <defs>\n",
       "  <clipPath id=\"p76216e1fad\">\n",
       "   <rect x=\"7.2\" y=\"19.27875\" width=\"79.2\" height=\"79.2\"/>\n",
       "  </clipPath>\n",
       "  <clipPath id=\"p1aa17394e8\">\n",
       "   <rect x=\"97.2\" y=\"19.27875\" width=\"79.2\" height=\"79.2\"/>\n",
       "  </clipPath>\n",
       "  <clipPath id=\"p1e20a51224\">\n",
       "   <rect x=\"187.2\" y=\"19.27875\" width=\"79.2\" height=\"79.2\"/>\n",
       "  </clipPath>\n",
       "  <clipPath id=\"pc385d044c5\">\n",
       "   <rect x=\"277.2\" y=\"19.27875\" width=\"79.2\" height=\"79.2\"/>\n",
       "  </clipPath>\n",
       "  <clipPath id=\"p16899d4058\">\n",
       "   <rect x=\"367.2\" y=\"19.27875\" width=\"79.2\" height=\"79.2\"/>\n",
       "  </clipPath>\n",
       " </defs>\n",
       "</svg>\n"
      ],
      "text/plain": [
       "<Figure size 640x480 with 5 Axes>"
      ]
     },
     "metadata": {},
     "output_type": "display_data"
    }
   ],
   "source": [
    "transformed_train = [transforms_2(orig_img) for _ in range(4)]\n",
    "plot(transformed_train)"
   ]
  },
  {
   "cell_type": "markdown",
   "metadata": {},
   "source": [
    "### Dane wejściowe"
   ]
  },
  {
   "cell_type": "code",
   "execution_count": 11,
   "metadata": {},
   "outputs": [],
   "source": [
    "train_transforms = transforms.Compose([\n",
    "    transforms.PILToTensor(),\n",
    "    transforms.Resize(size=(256, 256)),\n",
    "    transforms.ConvertImageDtype(torch.float),\n",
    "    transforms.RandomHorizontalFlip()\n",
    "])\n",
    "\n",
    "type_transforms = transforms.Compose([\n",
    "    transforms.PILToTensor(),\n",
    "    transforms.Resize(size=(256, 256)),\n",
    "    transforms.ConvertImageDtype(torch.float),\n",
    "])"
   ]
  },
  {
   "cell_type": "code",
   "execution_count": 12,
   "metadata": {},
   "outputs": [],
   "source": [
    "train_dataset = Flowers102(root=DATASET_PATH, \n",
    "                           split='test',\n",
    "                           transform=train_transforms,\n",
    "                           download=True)\n",
    "test_dataset = Flowers102(root=DATASET_PATH, \n",
    "                           split='train',\n",
    "                           transform=type_transforms,\n",
    "                           download=True)\n",
    "val_dataset = Flowers102(root=DATASET_PATH, \n",
    "                           split='val',\n",
    "                           transform=type_transforms,\n",
    "                           download=True)"
   ]
  },
  {
   "cell_type": "markdown",
   "metadata": {},
   "source": [
    "Warto zawsze zbadać dane po zastosowanych transformacjach, żeby nawet na oko zobaczyć czy wartości mają sens. "
   ]
  },
  {
   "cell_type": "code",
   "execution_count": 13,
   "metadata": {},
   "outputs": [
    {
     "data": {
      "text/plain": [
       "tensor([[0.2314, 0.2392, 0.2118,  ..., 0.0784, 0.0196, 0.0039],\n",
       "        [0.2314, 0.2353, 0.2392,  ..., 0.0784, 0.0275, 0.0039],\n",
       "        [0.2392, 0.2392, 0.2471,  ..., 0.0549, 0.0275, 0.0039],\n",
       "        ...,\n",
       "        [0.0353, 0.0392, 0.0392,  ..., 0.0000, 0.0039, 0.0039],\n",
       "        [0.0314, 0.0353, 0.0431,  ..., 0.0039, 0.0039, 0.0078],\n",
       "        [0.0314, 0.0353, 0.0431,  ..., 0.0039, 0.0039, 0.0078]])"
      ]
     },
     "execution_count": 13,
     "metadata": {},
     "output_type": "execute_result"
    }
   ],
   "source": [
    "for img, label in train_dataset:\n",
    "    break \n",
    "img[0]"
   ]
  },
  {
   "cell_type": "code",
   "execution_count": 14,
   "metadata": {},
   "outputs": [
    {
     "name": "stdout",
     "output_type": "stream",
     "text": [
      "6149\n",
      "1020\n",
      "1020\n"
     ]
    }
   ],
   "source": [
    "print(len(train_dataset))\n",
    "print(len(test_dataset))\n",
    "print(len(val_dataset))"
   ]
  },
  {
   "cell_type": "code",
   "execution_count": 15,
   "metadata": {},
   "outputs": [
    {
     "name": "stdout",
     "output_type": "stream",
     "text": [
      "Help on Flowers102 in module torchvision.datasets.flowers102 object:\n",
      "\n",
      "class Flowers102(torchvision.datasets.vision.VisionDataset)\n",
      " |  Flowers102(root: Union[str, pathlib.Path], split: str = 'train', transform: Optional[Callable] = None, target_transform: Optional[Callable] = None, download: bool = False) -> None\n",
      " |  \n",
      " |  `Oxford 102 Flower <https://www.robots.ox.ac.uk/~vgg/data/flowers/102/>`_ Dataset.\n",
      " |  \n",
      " |  .. warning::\n",
      " |  \n",
      " |      This class needs `scipy <https://docs.scipy.org/doc/>`_ to load target files from `.mat` format.\n",
      " |  \n",
      " |  Oxford 102 Flower is an image classification dataset consisting of 102 flower categories. The\n",
      " |  flowers were chosen to be flowers commonly occurring in the United Kingdom. Each class consists of\n",
      " |  between 40 and 258 images.\n",
      " |  \n",
      " |  The images have large scale, pose and light variations. In addition, there are categories that\n",
      " |  have large variations within the category, and several very similar categories.\n",
      " |  \n",
      " |  Args:\n",
      " |      root (str or ``pathlib.Path``): Root directory of the dataset.\n",
      " |      split (string, optional): The dataset split, supports ``\"train\"`` (default), ``\"val\"``, or ``\"test\"``.\n",
      " |      transform (callable, optional): A function/transform that takes in a PIL image and returns a\n",
      " |          transformed version. E.g, ``transforms.RandomCrop``.\n",
      " |      target_transform (callable, optional): A function/transform that takes in the target and transforms it.\n",
      " |      download (bool, optional): If true, downloads the dataset from the internet and\n",
      " |          puts it in root directory. If dataset is already downloaded, it is not\n",
      " |          downloaded again.\n",
      " |  \n",
      " |  Method resolution order:\n",
      " |      Flowers102\n",
      " |      torchvision.datasets.vision.VisionDataset\n",
      " |      torch.utils.data.dataset.Dataset\n",
      " |      typing.Generic\n",
      " |      builtins.object\n",
      " |  \n",
      " |  Methods defined here:\n",
      " |  \n",
      " |  __getitem__(self, idx: int) -> Tuple[Any, Any]\n",
      " |      Args:\n",
      " |          index (int): Index\n",
      " |      \n",
      " |      Returns:\n",
      " |          (Any): Sample and meta data, optionally transformed by the respective transforms.\n",
      " |  \n",
      " |  __init__(self, root: Union[str, pathlib.Path], split: str = 'train', transform: Optional[Callable] = None, target_transform: Optional[Callable] = None, download: bool = False) -> None\n",
      " |      Initialize self.  See help(type(self)) for accurate signature.\n",
      " |  \n",
      " |  __len__(self) -> int\n",
      " |  \n",
      " |  download(self)\n",
      " |  \n",
      " |  extra_repr(self) -> str\n",
      " |  \n",
      " |  ----------------------------------------------------------------------\n",
      " |  Data and other attributes defined here:\n",
      " |  \n",
      " |  __annotations__ = {}\n",
      " |  \n",
      " |  __parameters__ = ()\n",
      " |  \n",
      " |  ----------------------------------------------------------------------\n",
      " |  Methods inherited from torchvision.datasets.vision.VisionDataset:\n",
      " |  \n",
      " |  __repr__(self) -> str\n",
      " |      Return repr(self).\n",
      " |  \n",
      " |  ----------------------------------------------------------------------\n",
      " |  Methods inherited from torch.utils.data.dataset.Dataset:\n",
      " |  \n",
      " |  __add__(self, other: 'Dataset[_T_co]') -> 'ConcatDataset[_T_co]'\n",
      " |  \n",
      " |  ----------------------------------------------------------------------\n",
      " |  Data descriptors inherited from torch.utils.data.dataset.Dataset:\n",
      " |  \n",
      " |  __dict__\n",
      " |      dictionary for instance variables (if defined)\n",
      " |  \n",
      " |  __weakref__\n",
      " |      list of weak references to the object (if defined)\n",
      " |  \n",
      " |  ----------------------------------------------------------------------\n",
      " |  Data and other attributes inherited from torch.utils.data.dataset.Dataset:\n",
      " |  \n",
      " |  __orig_bases__ = (typing.Generic[+_T_co],)\n",
      " |  \n",
      " |  ----------------------------------------------------------------------\n",
      " |  Class methods inherited from typing.Generic:\n",
      " |  \n",
      " |  __class_getitem__(params) from builtins.type\n",
      " |  \n",
      " |  __init_subclass__(*args, **kwargs) from builtins.type\n",
      " |      This method is called when a class is subclassed.\n",
      " |      \n",
      " |      The default implementation does nothing. It may be\n",
      " |      overridden to extend subclasses.\n",
      "\n"
     ]
    }
   ],
   "source": [
    "help(train_dataset)"
   ]
  },
  {
   "cell_type": "code",
   "execution_count": 16,
   "metadata": {},
   "outputs": [],
   "source": [
    "def concat_imgs(dataset, n=None):\n",
    "    n = n or len(dataset)\n",
    "    imgs = [dataset[i][0][None, ...] for i in range(n)]\n",
    "    data = torch.concatenate(imgs)\n",
    "    return data\n",
    "\n",
    "def retrieve_labels(dataset, n=None):\n",
    "    n = n or len(dataset)\n",
    "    labels = [dataset[i][1] for i in range(n)]\n",
    "    data = torch.tensor(labels)\n",
    "    return data"
   ]
  },
  {
   "cell_type": "markdown",
   "metadata": {},
   "source": [
    "### Jak ustalić optymalny rozmiar batch'a?\n",
    "\n",
    "Mamy 3 tryby:\n",
    "- batch : cały zbiór danych\n",
    "- mini-batch: część zbioru danych\n",
    "- stochastic: 1 próbka \n",
    "\n",
    "Który tryb jest najlepszy? \n",
    "Gdy mamy tryb 'batch', lub ogólnie duży rozmiar batcha (> 200), to czas aktualizacji parametrów dla jednej iteracji się zwiększa, a więc alogrytm zbiega powoli. Trzeba też zauważyć, że nie do końca musimy dokładnie iść w kierunku spadku gradientu, bo jest to kierunek optymalny tylko lokalnie. Lepiej więc wybrać próbkę danych, bo możemy skorzystać wtedy z wektoryzacji. Gdy mamy tryb stochastyczny, to nie możemy z tej wektoryzacji skorzystać, no i pojawia się problem dużego szumu. Ogólnie jednak wybór rozmiaru próbki wpływa na *czas trenowania* i nie za bardzo na *błąd na danych testowych*.\n",
    "\n",
    "Gdy używacie lightning, to może być ciekawe: [batch-size-finder](https://lightning.ai/docs/pytorch/stable/advanced/training_tricks.html#batch-size-finder)"
   ]
  },
  {
   "cell_type": "code",
   "execution_count": 17,
   "metadata": {},
   "outputs": [],
   "source": [
    "train_loader = data.DataLoader(train_dataset, batch_size=64, shuffle=True, num_workers=4)\n",
    "test_loader = data.DataLoader(test_dataset, batch_size=64, shuffle=False)\n",
    "val_loader = data.DataLoader(val_dataset, batch_size=64, shuffle=False)"
   ]
  },
  {
   "cell_type": "markdown",
   "metadata": {},
   "source": [
    "## Sieć konwolucyjna"
   ]
  },
  {
   "cell_type": "markdown",
   "metadata": {},
   "source": [
    "### Pojedyncza warstwa konwolucyjna\n",
    "Jest to nasz pojedyczny 'klocek' budulcowy do całej sieci neuronowej"
   ]
  },
  {
   "cell_type": "code",
   "execution_count": 18,
   "metadata": {},
   "outputs": [],
   "source": [
    "class ConvLayer(nn.Module):\n",
    "\n",
    "    def __init__(self, in_channels, out_channels, kernel=(2, 2), stride=(1, 1), padding=0, \n",
    "                 pooling=None, batch_norm=True, activ=nn.ReLU):\n",
    "        super(ConvLayer, self).__init__()\n",
    "        layers = [\n",
    "            nn.Conv2d(in_channels, out_channels, kernel, stride=stride,\n",
    "                            padding=padding)\n",
    "        ]\n",
    "\n",
    "        if pooling:\n",
    "           layers.append(nn.MaxPool2d(kernel_size=pooling)) \n",
    "\n",
    "        if activ:\n",
    "            layers.append(activ())\n",
    "\n",
    "        if batch_norm:\n",
    "            layers.append(nn.BatchNorm2d(out_channels))\n",
    "        \n",
    "        \n",
    "        self.layers = nn.Sequential(*layers)\n",
    "\n",
    "\n",
    "    def forward(self, x):\n",
    "        return self.layers(x)"
   ]
  },
  {
   "cell_type": "code",
   "execution_count": 19,
   "metadata": {},
   "outputs": [],
   "source": [
    "X = torch.rand(1, 3, 4, 4)  # C, W, H"
   ]
  },
  {
   "cell_type": "code",
   "execution_count": 20,
   "metadata": {},
   "outputs": [
    {
     "data": {
      "text/plain": [
       "torch.Size([1, 16, 3, 3])"
      ]
     },
     "execution_count": 20,
     "metadata": {},
     "output_type": "execute_result"
    }
   ],
   "source": [
    "conv = ConvLayer(in_channels=3, out_channels=16)\n",
    "conv(X).shape"
   ]
  },
  {
   "cell_type": "code",
   "execution_count": 21,
   "metadata": {},
   "outputs": [
    {
     "data": {
      "text/plain": [
       "torch.Size([1, 16, 4, 4])"
      ]
     },
     "execution_count": 21,
     "metadata": {},
     "output_type": "execute_result"
    }
   ],
   "source": [
    "conv = ConvLayer(in_channels=3, out_channels=16, padding=2, stride=2) \n",
    "conv(X).shape"
   ]
  },
  {
   "cell_type": "code",
   "execution_count": 22,
   "metadata": {},
   "outputs": [
    {
     "data": {
      "text/plain": [
       "torch.Size([1, 16, 2, 2])"
      ]
     },
     "execution_count": 22,
     "metadata": {},
     "output_type": "execute_result"
    }
   ],
   "source": [
    "conv = ConvLayer(in_channels=3, out_channels=16, padding=2, stride=2, pooling=2) \n",
    "conv(X).shape"
   ]
  },
  {
   "cell_type": "markdown",
   "metadata": {},
   "source": [
    "#### Sieć neuronowa "
   ]
  },
  {
   "cell_type": "code",
   "execution_count": 23,
   "metadata": {},
   "outputs": [],
   "source": [
    "class BaseCNN(nn.Module):\n",
    "\n",
    "    def __init__(self, conv_layers: List[ConvLayer], linear_layers: List[nn.Linear], act_fun = nn.ReLU):\n",
    "        super(BaseCNN, self).__init__()\n",
    "        self.conv_layers = nn.Sequential(*conv_layers)\n",
    "        self.lin_layers = nn.ModuleList(linear_layers)\n",
    "        self.act_fun = act_fun()\n",
    "\n",
    "\n",
    "    def forward(self, x):\n",
    "        x = self.conv_layers(x)\n",
    "        x = x.view(x.shape[0], -1)\n",
    "        for lin_layer in self.lin_layers[:-1]:\n",
    "            x = self.act_fun(lin_layer(x))\n",
    "        # Po ostatniej warstwie nie dodajemy już funkcji aktywacji bo chcemy, żeby sieć zwracała logit'y\n",
    "        x = self.lin_layers[-1](x)\n",
    "        return x"
   ]
  },
  {
   "cell_type": "code",
   "execution_count": 24,
   "metadata": {},
   "outputs": [],
   "source": [
    "def compute_dim(d_in, padding, kernel, stride, pooling=1):\n",
    "    return (int((d_in + 2 * padding - (kernel - 1) - 1) / stride) + 1) // pooling"
   ]
  },
  {
   "cell_type": "code",
   "execution_count": 25,
   "metadata": {},
   "outputs": [
    {
     "name": "stdout",
     "output_type": "stream",
     "text": [
      "d_1 =  256\n",
      "d_2 =  128\n",
      "d_3 =  64\n",
      "d_4 =  32\n",
      "d_5 =  8\n",
      "d_6 =  2\n"
     ]
    }
   ],
   "source": [
    "d_1 = compute_dim(d_in=256, padding=1, kernel=3, stride=1)\n",
    "print(f\"d_1 = \", d_1)\n",
    "d_2 = compute_dim(d_in=d_1, padding=1, kernel=3, stride=2)\n",
    "print(f\"d_2 = \", d_2)\n",
    "d_3 = compute_dim(d_in=d_2, padding=1, kernel=3, stride=2)\n",
    "print(f\"d_3 = \", d_3)\n",
    "d_4 = compute_dim(d_in=d_3, padding=1, kernel=3, stride=1, pooling=2)\n",
    "print(f\"d_4 = \", d_4)\n",
    "d_5 = compute_dim(d_in=d_4, padding=1, kernel=3, stride=2, pooling=2)\n",
    "print(f\"d_5 = \", d_5)\n",
    "d_6 = compute_dim(d_in=d_5, padding=1, kernel=3, stride=2, pooling=2)\n",
    "print(f\"d_6 = \", d_6)"
   ]
  },
  {
   "cell_type": "markdown",
   "metadata": {},
   "source": [
    "### Wszystkie warstwy modelu\n",
    "Ostateczny model będzie się składał z warstw konwolucyjnych, a na końcu z warstw liniowych. Wszystkie rozmiary muszą się zgadzać, więc dobrze jest to sobie poobliczać np. z użyciem powyższych funkcji"
   ]
  },
  {
   "cell_type": "code",
   "execution_count": 26,
   "metadata": {},
   "outputs": [],
   "source": [
    "conv_layers = [\n",
    "    ConvLayer(3, 32, 3, padding=1, stride=1, batch_norm=True),  # C, W, H = ()\n",
    "    ConvLayer(32, 64, 3, padding=1, stride=2, batch_norm=True),\n",
    "    ConvLayer(64, 64, 3, padding=1, stride=2, batch_norm=True),\n",
    "    ConvLayer(64, 128, 3, padding=1, stride=1, pooling=2, batch_norm=True),\n",
    "    ConvLayer(128, 256, 3, padding=1, stride=2, pooling=2, batch_norm=True),\n",
    "    ConvLayer(256, 256, 3, padding=1, stride=2, pooling=2, batch_norm=True)\n",
    "]\n",
    "\n",
    "input_dim = 256 * 2 * 2 # C x W x H\n",
    "n_classes = 102\n",
    "\n",
    "linear_layers = [\n",
    "    nn.Linear(input_dim, 1024), nn.Linear(1024, 512), nn.Linear(512, n_classes)\n",
    "]"
   ]
  },
  {
   "cell_type": "markdown",
   "metadata": {},
   "source": [
    "### LightningModule\n",
    "Nie jest siecią samą w sobie, ale nakładką na nią. Standardowo nadpisujemy funkcje które są obecne poniżej, ale w ofercie jest ich o wiele więcej. \n",
    "\n",
    "#### Jak dobrać parametry uczenia?\n",
    "\n",
    "*Współczynnik uczenia* - zwykle najważniejszy hiperparametr i jeśli możemy dostosować jeden hiperparamet, to warto właśnie ten. Dla ustandaryzowanych wejść (albo z zakresu (0, 1)) 'dobre' wartości są w przedziale [$10^{-6}$, $1$]. Domyślne $0.01$ typowo działa, ale warto też wypróbować inne wartości. \n",
    "\n",
    "Współczynnik uczenia może ulegać zmianom w trakcie uczenia, np:\n",
    "- $lr_{t}$ ~ $\\frac{1}{t}$\n",
    "- $lr_{t}$ ~ $\\frac{1}{max(\\tau, t)}$\n",
    "\n",
    "\n",
    "Algorytm optymalizujący odpowiada za zmiany wartości parametrów w trakcie uczenia:\n",
    "- **SGD**: $w = w - lr \\times g_t$\n",
    "- **Adagrad**: $w = w - \\frac{lr}{\\sqrt{G_t}} \\times g_t$, $G_t$ to akumulowany gradient\n",
    "- **Adam**: popularny wybór, mocno uguntowany teoretycznie (rekomendowane wtedy $lr = 10^{-3}$)"
   ]
  },
  {
   "cell_type": "code",
   "execution_count": 27,
   "metadata": {},
   "outputs": [],
   "source": [
    "class CNN(pl.LightningModule):\n",
    "\n",
    "    def __init__(self, cnn, lr=1e-3):\n",
    "        super().__init__()\n",
    "        self.cnn = cnn \n",
    "        self.lr = lr \n",
    "\n",
    "    def forward(self, x):\n",
    "        return self.cnn(x)\n",
    "\n",
    "    def training_step(self, batch, batch_idx):\n",
    "        x, y = batch\n",
    "        predictions = self(x)\n",
    "        loss = F.cross_entropy(predictions, y)\n",
    "        self.log('train_loss', loss, prog_bar=True, sync_dist=True, on_epoch=True)\n",
    "        return {'loss': loss}\n",
    "\n",
    "    def validation_step(self, batch, batch_idx):\n",
    "        x, y = batch\n",
    "        predictions = self(x)\n",
    "        loss = F.cross_entropy(predictions, y)\n",
    "        self.log('val_loss', loss, prog_bar=True, sync_dist=True, on_epoch=True)\n",
    "        return {'val_loss': loss}\n",
    "\n",
    "    def predict_step(self, batch, batch_idx, dataloader_idx=0):\n",
    "        x, _ = batch\n",
    "        predictions = self(x)\n",
    "        predicted_labels = torch.argmax(predictions, dim=-1)\n",
    "        return predicted_labels\n",
    "\n",
    "    def configure_optimizers(self):\n",
    "        # W przypadku skomplikowanych modeli można dodać więcej optymizatorów\n",
    "        optimizer = torch.optim.Adam(self.parameters(), lr=self.lr)\n",
    "        return optimizer\n"
   ]
  },
  {
   "cell_type": "code",
   "execution_count": 28,
   "metadata": {},
   "outputs": [],
   "source": [
    "base_cnn = BaseCNN(conv_layers=conv_layers, linear_layers=linear_layers)\n",
    "\n",
    "cnn = CNN(base_cnn)"
   ]
  },
  {
   "cell_type": "markdown",
   "metadata": {},
   "source": [
    "Warto zauważyć bottleneck między przejściem z sieci konwolucyjnych do sieci liniowej - jest to miejsce gdzie będzie zwykle najwięcej parametrów"
   ]
  },
  {
   "cell_type": "code",
   "execution_count": 29,
   "metadata": {},
   "outputs": [
    {
     "name": "stdout",
     "output_type": "stream",
     "text": [
      "----------------------------------------------------------------\n",
      "        Layer (type)               Output Shape         Param #\n",
      "================================================================\n",
      "            Conv2d-1         [-1, 32, 256, 256]             896\n",
      "              ReLU-2         [-1, 32, 256, 256]               0\n",
      "       BatchNorm2d-3         [-1, 32, 256, 256]              64\n",
      "         ConvLayer-4         [-1, 32, 256, 256]               0\n",
      "            Conv2d-5         [-1, 64, 128, 128]          18,496\n",
      "              ReLU-6         [-1, 64, 128, 128]               0\n",
      "       BatchNorm2d-7         [-1, 64, 128, 128]             128\n",
      "         ConvLayer-8         [-1, 64, 128, 128]               0\n",
      "            Conv2d-9           [-1, 64, 64, 64]          36,928\n",
      "             ReLU-10           [-1, 64, 64, 64]               0\n",
      "      BatchNorm2d-11           [-1, 64, 64, 64]             128\n",
      "        ConvLayer-12           [-1, 64, 64, 64]               0\n",
      "           Conv2d-13          [-1, 128, 64, 64]          73,856\n",
      "        MaxPool2d-14          [-1, 128, 32, 32]               0\n",
      "             ReLU-15          [-1, 128, 32, 32]               0\n",
      "      BatchNorm2d-16          [-1, 128, 32, 32]             256\n",
      "        ConvLayer-17          [-1, 128, 32, 32]               0\n",
      "           Conv2d-18          [-1, 256, 16, 16]         295,168\n",
      "        MaxPool2d-19            [-1, 256, 8, 8]               0\n",
      "             ReLU-20            [-1, 256, 8, 8]               0\n",
      "      BatchNorm2d-21            [-1, 256, 8, 8]             512\n",
      "        ConvLayer-22            [-1, 256, 8, 8]               0\n",
      "           Conv2d-23            [-1, 256, 4, 4]         590,080\n",
      "        MaxPool2d-24            [-1, 256, 2, 2]               0\n",
      "             ReLU-25            [-1, 256, 2, 2]               0\n",
      "      BatchNorm2d-26            [-1, 256, 2, 2]             512\n",
      "        ConvLayer-27            [-1, 256, 2, 2]               0\n",
      "           Linear-28                 [-1, 1024]       1,049,600\n",
      "             ReLU-29                 [-1, 1024]               0\n",
      "           Linear-30                  [-1, 512]         524,800\n",
      "             ReLU-31                  [-1, 512]               0\n",
      "           Linear-32                  [-1, 102]          52,326\n",
      "          BaseCNN-33                  [-1, 102]               0\n",
      "================================================================\n",
      "Total params: 2,643,750\n",
      "Trainable params: 2,643,750\n",
      "Non-trainable params: 0\n",
      "----------------------------------------------------------------\n",
      "Input size (MB): 0.75\n",
      "Forward/backward pass size (MB): 113.09\n",
      "Params size (MB): 10.09\n",
      "Estimated Total Size (MB): 123.92\n",
      "----------------------------------------------------------------\n"
     ]
    }
   ],
   "source": [
    "summary(model=cnn, input_size=(3, 256, 256), device='cpu')"
   ]
  },
  {
   "cell_type": "markdown",
   "metadata": {},
   "source": [
    "### Przygotowanie do trenowania"
   ]
  },
  {
   "cell_type": "markdown",
   "metadata": {},
   "source": [
    "#### Jak dobrać liczbę epok?\n",
    "Tutaj zwykle problemu unikniemy używając techniki *EarlyStopping*, która śledzi wybraną metrykę (na zbiorze walidacyjnym!) i jeśli przez n epok się ona nie poprawia, to zatrzymujemy trenowanie. Jeśli jednak dopiero eksperymentujemy, dobieramy parametry czy architekturę, to lepiej jest po prostu trenować przez daną liczbę epok, bez wcześniejszego przerywania, bo wtedy możemy porównać te modele.\n",
    "\n",
    "Ważne jest obserwowanie *krzywych uczenia* dla zbioru treningowego i walidacyjnego [generalization gap](https://mlstory.org/generalization.html), [bias-variance](https://mlu-explain.github.io/bias-variance/). "
   ]
  },
  {
   "cell_type": "code",
   "execution_count": 30,
   "metadata": {},
   "outputs": [],
   "source": [
    "checkpoint_dir = Path(f'../models')\n",
    "os.makedirs(checkpoint_dir, exist_ok=True)\n",
    "model_name = 'cnn-1'\n",
    "checkpoint_callback = pl.callbacks.ModelCheckpoint(dirpath=checkpoint_dir / model_name, filename='{epoch}-{val_loss:.2f}-{train_loss:.2f}', \n",
    "                                      monitor='val_loss', save_last=True) \n",
    "early_stopping = pl.callbacks.EarlyStopping(monitor='val_loss', verbose=True)\n",
    "max_epochs = 25"
   ]
  },
  {
   "cell_type": "code",
   "execution_count": 31,
   "metadata": {},
   "outputs": [
    {
     "name": "stderr",
     "output_type": "stream",
     "text": [
      "GPU available: True (cuda), used: True\n",
      "TPU available: False, using: 0 TPU cores\n",
      "HPU available: False, using: 0 HPUs\n",
      "Running in `fast_dev_run` mode: will run the requested loop using 1 batch(es). Logging and checkpointing is suppressed.\n",
      "You are using a CUDA device ('NVIDIA GeForce RTX 4050 Laptop GPU') that has Tensor Cores. To properly utilize them, you should set `torch.set_float32_matmul_precision('medium' | 'high')` which will trade-off precision for performance. For more details, read https://pytorch.org/docs/stable/generated/torch.set_float32_matmul_precision.html#torch.set_float32_matmul_precision\n",
      "c:\\Users\\julia\\anaconda3\\envs\\plant-traits\\lib\\site-packages\\pytorch_lightning\\callbacks\\model_checkpoint.py:654: Checkpoint directory C:\\Users\\julia\\VSCode\\PlantTraits2024\\models\\cnn-1 exists and is not empty.\n",
      "LOCAL_RANK: 0 - CUDA_VISIBLE_DEVICES: [0]\n",
      "\n",
      "  | Name | Type    | Params | Mode \n",
      "-----------------------------------------\n",
      "0 | cnn  | BaseCNN | 2.6 M  | train\n",
      "-----------------------------------------\n",
      "2.6 M     Trainable params\n",
      "0         Non-trainable params\n",
      "2.6 M     Total params\n",
      "10.575    Total estimated model params size (MB)\n",
      "40        Modules in train mode\n",
      "0         Modules in eval mode\n",
      "c:\\Users\\julia\\anaconda3\\envs\\plant-traits\\lib\\site-packages\\pytorch_lightning\\trainer\\connectors\\data_connector.py:419: Consider setting `persistent_workers=True` in 'train_dataloader' to speed up the dataloader worker initialization.\n",
      "c:\\Users\\julia\\anaconda3\\envs\\plant-traits\\lib\\site-packages\\pytorch_lightning\\trainer\\connectors\\data_connector.py:424: The 'val_dataloader' does not have many workers which may be a bottleneck. Consider increasing the value of the `num_workers` argument` to `num_workers=15` in the `DataLoader` to improve performance.\n"
     ]
    },
    {
     "data": {
      "application/vnd.jupyter.widget-view+json": {
       "model_id": "09d14231388d4fd0bf69301481759572",
       "version_major": 2,
       "version_minor": 0
      },
      "text/plain": [
       "Training: |          | 0/? [00:00<?, ?it/s]"
      ]
     },
     "metadata": {},
     "output_type": "display_data"
    },
    {
     "data": {
      "application/vnd.jupyter.widget-view+json": {
       "model_id": "3397025fda2b4f57965cb952ca750a0e",
       "version_major": 2,
       "version_minor": 0
      },
      "text/plain": [
       "Validation: |          | 0/? [00:00<?, ?it/s]"
      ]
     },
     "metadata": {},
     "output_type": "display_data"
    },
    {
     "name": "stderr",
     "output_type": "stream",
     "text": [
      "`Trainer.fit` stopped: `max_steps=1` reached.\n"
     ]
    }
   ],
   "source": [
    "trainer = pl.Trainer(max_epochs=max_epochs, \n",
    "                     default_root_dir=checkpoint_dir / model_name, \n",
    "                     fast_dev_run=True, # True dla szybkiego przebiegu sprawdzającego, czy wszystkie warstwy są poprawne itd.\n",
    "                     callbacks=[checkpoint_callback]\n",
    "                     )\n",
    "\n",
    "trainer.fit(cnn, train_loader, val_loader)"
   ]
  },
  {
   "cell_type": "markdown",
   "metadata": {},
   "source": [
    "#### Ewaluacja"
   ]
  },
  {
   "cell_type": "code",
   "execution_count": 40,
   "metadata": {},
   "outputs": [
    {
     "name": "stderr",
     "output_type": "stream",
     "text": [
      "GPU available: True (cuda), used: True\n",
      "TPU available: False, using: 0 TPU cores\n",
      "HPU available: False, using: 0 HPUs\n"
     ]
    },
    {
     "data": {
      "text/plain": [
       "CNN(\n",
       "  (cnn): BaseCNN(\n",
       "    (conv_layers): Sequential(\n",
       "      (0): ConvLayer(\n",
       "        (layers): Sequential(\n",
       "          (0): Conv2d(3, 32, kernel_size=(3, 3), stride=(1, 1), padding=(1, 1))\n",
       "          (1): ReLU()\n",
       "          (2): BatchNorm2d(32, eps=1e-05, momentum=0.1, affine=True, track_running_stats=True)\n",
       "        )\n",
       "      )\n",
       "      (1): ConvLayer(\n",
       "        (layers): Sequential(\n",
       "          (0): Conv2d(32, 64, kernel_size=(3, 3), stride=(2, 2), padding=(1, 1))\n",
       "          (1): ReLU()\n",
       "          (2): BatchNorm2d(64, eps=1e-05, momentum=0.1, affine=True, track_running_stats=True)\n",
       "        )\n",
       "      )\n",
       "      (2): ConvLayer(\n",
       "        (layers): Sequential(\n",
       "          (0): Conv2d(64, 64, kernel_size=(3, 3), stride=(2, 2), padding=(1, 1))\n",
       "          (1): ReLU()\n",
       "          (2): BatchNorm2d(64, eps=1e-05, momentum=0.1, affine=True, track_running_stats=True)\n",
       "        )\n",
       "      )\n",
       "      (3): ConvLayer(\n",
       "        (layers): Sequential(\n",
       "          (0): Conv2d(64, 128, kernel_size=(3, 3), stride=(1, 1), padding=(1, 1))\n",
       "          (1): MaxPool2d(kernel_size=2, stride=2, padding=0, dilation=1, ceil_mode=False)\n",
       "          (2): ReLU()\n",
       "          (3): BatchNorm2d(128, eps=1e-05, momentum=0.1, affine=True, track_running_stats=True)\n",
       "        )\n",
       "      )\n",
       "      (4): ConvLayer(\n",
       "        (layers): Sequential(\n",
       "          (0): Conv2d(128, 256, kernel_size=(3, 3), stride=(2, 2), padding=(1, 1))\n",
       "          (1): MaxPool2d(kernel_size=2, stride=2, padding=0, dilation=1, ceil_mode=False)\n",
       "          (2): ReLU()\n",
       "          (3): BatchNorm2d(256, eps=1e-05, momentum=0.1, affine=True, track_running_stats=True)\n",
       "        )\n",
       "      )\n",
       "      (5): ConvLayer(\n",
       "        (layers): Sequential(\n",
       "          (0): Conv2d(256, 256, kernel_size=(3, 3), stride=(2, 2), padding=(1, 1))\n",
       "          (1): MaxPool2d(kernel_size=2, stride=2, padding=0, dilation=1, ceil_mode=False)\n",
       "          (2): ReLU()\n",
       "          (3): BatchNorm2d(256, eps=1e-05, momentum=0.1, affine=True, track_running_stats=True)\n",
       "        )\n",
       "      )\n",
       "    )\n",
       "    (lin_layers): ModuleList(\n",
       "      (0): Linear(in_features=1024, out_features=1024, bias=True)\n",
       "      (1): Linear(in_features=1024, out_features=512, bias=True)\n",
       "      (2): Linear(in_features=512, out_features=102, bias=True)\n",
       "    )\n",
       "    (act_fun): ReLU()\n",
       "  )\n",
       ")"
      ]
     },
     "execution_count": 40,
     "metadata": {},
     "output_type": "execute_result"
    }
   ],
   "source": [
    "trainer = pl.Trainer(max_epochs=max_epochs, default_root_dir=checkpoint_dir / model_name, fast_dev_run=False)\n",
    "\n",
    "base_cnn = BaseCNN(conv_layers=conv_layers, linear_layers=linear_layers)\n",
    "cnn = CNN(base_cnn, lr=1e-2)\n",
    "model = CNN.load_from_checkpoint(r'C:\\Users\\julia\\VSCode\\PlantTraits2024\\models\\cnn-1\\epoch=22-val_loss=2.66-train_loss=1.84.ckpt', cnn=base_cnn)\n",
    "model.eval()"
   ]
  },
  {
   "cell_type": "code",
   "execution_count": 41,
   "metadata": {},
   "outputs": [
    {
     "name": "stderr",
     "output_type": "stream",
     "text": [
      "LOCAL_RANK: 0 - CUDA_VISIBLE_DEVICES: [0]\n",
      "c:\\Users\\julia\\anaconda3\\envs\\plant-traits\\lib\\site-packages\\pytorch_lightning\\trainer\\connectors\\data_connector.py:424: The 'predict_dataloader' does not have many workers which may be a bottleneck. Consider increasing the value of the `num_workers` argument` to `num_workers=15` in the `DataLoader` to improve performance.\n"
     ]
    },
    {
     "data": {
      "application/vnd.jupyter.widget-view+json": {
       "model_id": "b72dfbe7a0654ce3ab9e8afd5e89e354",
       "version_major": 2,
       "version_minor": 0
      },
      "text/plain": [
       "Predicting: |          | 0/? [00:00<?, ?it/s]"
      ]
     },
     "metadata": {},
     "output_type": "display_data"
    }
   ],
   "source": [
    "y_test = trainer.predict(model, dataloaders=test_loader)"
   ]
  },
  {
   "cell_type": "code",
   "execution_count": 43,
   "metadata": {},
   "outputs": [
    {
     "name": "stderr",
     "output_type": "stream",
     "text": [
      "c:\\Users\\julia\\anaconda3\\envs\\plant-traits\\lib\\site-packages\\sklearn\\metrics\\_classification.py:1565: UndefinedMetricWarning: Precision is ill-defined and being set to 0.0 in labels with no predicted samples. Use `zero_division` parameter to control this behavior.\n",
      "  _warn_prf(average, modifier, f\"{metric.capitalize()} is\", len(result))\n"
     ]
    },
    {
     "data": {
      "text/html": [
       "<div>\n",
       "<style scoped>\n",
       "    .dataframe tbody tr th:only-of-type {\n",
       "        vertical-align: middle;\n",
       "    }\n",
       "\n",
       "    .dataframe tbody tr th {\n",
       "        vertical-align: top;\n",
       "    }\n",
       "\n",
       "    .dataframe thead th {\n",
       "        text-align: right;\n",
       "    }\n",
       "</style>\n",
       "<table border=\"1\" class=\"dataframe\">\n",
       "  <thead>\n",
       "    <tr style=\"text-align: right;\">\n",
       "      <th></th>\n",
       "      <th>precision</th>\n",
       "      <th>recall</th>\n",
       "      <th>f1_score</th>\n",
       "      <th>support</th>\n",
       "    </tr>\n",
       "  </thead>\n",
       "  <tbody>\n",
       "    <tr>\n",
       "      <th>79</th>\n",
       "      <td>0.000000</td>\n",
       "      <td>0.0</td>\n",
       "      <td>0.000000</td>\n",
       "      <td>10</td>\n",
       "    </tr>\n",
       "    <tr>\n",
       "      <th>52</th>\n",
       "      <td>0.000000</td>\n",
       "      <td>0.0</td>\n",
       "      <td>0.000000</td>\n",
       "      <td>10</td>\n",
       "    </tr>\n",
       "    <tr>\n",
       "      <th>62</th>\n",
       "      <td>0.000000</td>\n",
       "      <td>0.0</td>\n",
       "      <td>0.000000</td>\n",
       "      <td>10</td>\n",
       "    </tr>\n",
       "    <tr>\n",
       "      <th>33</th>\n",
       "      <td>0.000000</td>\n",
       "      <td>0.0</td>\n",
       "      <td>0.000000</td>\n",
       "      <td>10</td>\n",
       "    </tr>\n",
       "    <tr>\n",
       "      <th>66</th>\n",
       "      <td>0.000000</td>\n",
       "      <td>0.0</td>\n",
       "      <td>0.000000</td>\n",
       "      <td>10</td>\n",
       "    </tr>\n",
       "    <tr>\n",
       "      <th>...</th>\n",
       "      <td>...</td>\n",
       "      <td>...</td>\n",
       "      <td>...</td>\n",
       "      <td>...</td>\n",
       "    </tr>\n",
       "    <tr>\n",
       "      <th>7</th>\n",
       "      <td>0.769231</td>\n",
       "      <td>1.0</td>\n",
       "      <td>0.869565</td>\n",
       "      <td>10</td>\n",
       "    </tr>\n",
       "    <tr>\n",
       "      <th>1</th>\n",
       "      <td>0.769231</td>\n",
       "      <td>1.0</td>\n",
       "      <td>0.869565</td>\n",
       "      <td>10</td>\n",
       "    </tr>\n",
       "    <tr>\n",
       "      <th>58</th>\n",
       "      <td>0.900000</td>\n",
       "      <td>0.9</td>\n",
       "      <td>0.900000</td>\n",
       "      <td>10</td>\n",
       "    </tr>\n",
       "    <tr>\n",
       "      <th>36</th>\n",
       "      <td>0.900000</td>\n",
       "      <td>0.9</td>\n",
       "      <td>0.900000</td>\n",
       "      <td>10</td>\n",
       "    </tr>\n",
       "    <tr>\n",
       "      <th>16</th>\n",
       "      <td>1.000000</td>\n",
       "      <td>0.9</td>\n",
       "      <td>0.947368</td>\n",
       "      <td>10</td>\n",
       "    </tr>\n",
       "  </tbody>\n",
       "</table>\n",
       "<p>102 rows × 4 columns</p>\n",
       "</div>"
      ],
      "text/plain": [
       "    precision  recall  f1_score  support\n",
       "79   0.000000     0.0  0.000000       10\n",
       "52   0.000000     0.0  0.000000       10\n",
       "62   0.000000     0.0  0.000000       10\n",
       "33   0.000000     0.0  0.000000       10\n",
       "66   0.000000     0.0  0.000000       10\n",
       "..        ...     ...       ...      ...\n",
       "7    0.769231     1.0  0.869565       10\n",
       "1    0.769231     1.0  0.869565       10\n",
       "58   0.900000     0.9  0.900000       10\n",
       "36   0.900000     0.9  0.900000       10\n",
       "16   1.000000     0.9  0.947368       10\n",
       "\n",
       "[102 rows x 4 columns]"
      ]
     },
     "execution_count": 43,
     "metadata": {},
     "output_type": "execute_result"
    }
   ],
   "source": [
    "y_labels = np.concatenate([labels.cpu().numpy() for _, labels in iter(test_loader)])\n",
    "\n",
    "precision, recall, f1score, support = precision_recall_fscore_support(y_labels, torch.concat(y_test).numpy())\n",
    "clf_report_df = pd.DataFrame({'precision': precision, 'recall': recall, 'f1_score': f1score, 'support': support},\n",
    "                                 index=(np.arange(102)))\n",
    "clf_report_df.sort_values(by='f1_score')"
   ]
  },
  {
   "cell_type": "code",
   "execution_count": 44,
   "metadata": {},
   "outputs": [
    {
     "data": {
      "text/plain": [
       "<Axes: xlabel='f1_score', ylabel='Count'>"
      ]
     },
     "execution_count": 44,
     "metadata": {},
     "output_type": "execute_result"
    },
    {
     "data": {
      "application/pdf": "[encoded data removed]",
      "image/svg+xml": [
       "<?xml version=\"1.0\" encoding=\"utf-8\" standalone=\"no\"?>\n",
       "<!DOCTYPE svg PUBLIC \"-//W3C//DTD SVG 1.1//EN\"\n",
       "  \"http://www.w3.org/Graphics/SVG/1.1/DTD/svg11.dtd\">\n",
       "<svg xmlns:xlink=\"http://www.w3.org/1999/xlink\" width=\"404.923125pt\" height=\"311.146375pt\" viewBox=\"0 0 404.923125 311.146375\" xmlns=\"http://www.w3.org/2000/svg\" version=\"1.1\">\n",
       " <metadata>\n",
       "  <rdf:RDF xmlns:dc=\"http://purl.org/dc/elements/1.1/\" xmlns:cc=\"http://creativecommons.org/ns#\" xmlns:rdf=\"http://www.w3.org/1999/02/22-rdf-syntax-ns#\">\n",
       "   <cc:Work>\n",
       "    <dc:type rdf:resource=\"http://purl.org/dc/dcmitype/StillImage\"/>\n",
       "    <dc:date>2024-12-19T17:41:09.546508</dc:date>\n",
       "    <dc:format>image/svg+xml</dc:format>\n",
       "    <dc:creator>\n",
       "     <cc:Agent>\n",
       "      <dc:title>Matplotlib v3.9.3, https://matplotlib.org/</dc:title>\n",
       "     </cc:Agent>\n",
       "    </dc:creator>\n",
       "   </cc:Work>\n",
       "  </rdf:RDF>\n",
       " </metadata>\n",
       " <defs>\n",
       "  <style type=\"text/css\">*{stroke-linejoin: round; stroke-linecap: butt}</style>\n",
       " </defs>\n",
       " <g id=\"figure_1\">\n",
       "  <g id=\"patch_1\">\n",
       "   <path d=\"M 0 311.146375 \n",
       "L 404.923125 311.146375 \n",
       "L 404.923125 0 \n",
       "L 0 0 \n",
       "z\n",
       "\" style=\"fill: #ffffff\"/>\n",
       "  </g>\n",
       "  <g id=\"axes_1\">\n",
       "   <g id=\"patch_2\">\n",
       "    <path d=\"M 40.603125 273.312 \n",
       "L 397.723125 273.312 \n",
       "L 397.723125 7.2 \n",
       "L 40.603125 7.2 \n",
       "z\n",
       "\" style=\"fill: #ffffff\"/>\n",
       "   </g>\n",
       "   <g id=\"patch_3\">\n",
       "    <path d=\"M 56.835852 273.312 \n",
       "L 97.41767 273.312 \n",
       "L 97.41767 19.872 \n",
       "L 56.835852 19.872 \n",
       "z\n",
       "\" clip-path=\"url(#p569ac580d5)\" style=\"fill: #1f77b4; fill-opacity: 0.75; stroke: #000000; stroke-linejoin: miter\"/>\n",
       "   </g>\n",
       "   <g id=\"patch_4\">\n",
       "    <path d=\"M 97.41767 273.312 \n",
       "L 137.999489 273.312 \n",
       "L 137.999489 58.862769 \n",
       "L 97.41767 58.862769 \n",
       "z\n",
       "\" clip-path=\"url(#p569ac580d5)\" style=\"fill: #1f77b4; fill-opacity: 0.75; stroke: #000000; stroke-linejoin: miter\"/>\n",
       "   </g>\n",
       "   <g id=\"patch_5\">\n",
       "    <path d=\"M 137.999489 273.312 \n",
       "L 178.581307 273.312 \n",
       "L 178.581307 136.844308 \n",
       "L 137.999489 136.844308 \n",
       "z\n",
       "\" clip-path=\"url(#p569ac580d5)\" style=\"fill: #1f77b4; fill-opacity: 0.75; stroke: #000000; stroke-linejoin: miter\"/>\n",
       "   </g>\n",
       "   <g id=\"patch_6\">\n",
       "    <path d=\"M 178.581307 273.312 \n",
       "L 219.163125 273.312 \n",
       "L 219.163125 146.592 \n",
       "L 178.581307 146.592 \n",
       "z\n",
       "\" clip-path=\"url(#p569ac580d5)\" style=\"fill: #1f77b4; fill-opacity: 0.75; stroke: #000000; stroke-linejoin: miter\"/>\n",
       "   </g>\n",
       "   <g id=\"patch_7\">\n",
       "    <path d=\"M 219.163125 273.312 \n",
       "L 259.744943 273.312 \n",
       "L 259.744943 156.339692 \n",
       "L 219.163125 156.339692 \n",
       "z\n",
       "\" clip-path=\"url(#p569ac580d5)\" style=\"fill: #1f77b4; fill-opacity: 0.75; stroke: #000000; stroke-linejoin: miter\"/>\n",
       "   </g>\n",
       "   <g id=\"patch_8\">\n",
       "    <path d=\"M 259.744943 273.312 \n",
       "L 300.326761 273.312 \n",
       "L 300.326761 224.573538 \n",
       "L 259.744943 224.573538 \n",
       "z\n",
       "\" clip-path=\"url(#p569ac580d5)\" style=\"fill: #1f77b4; fill-opacity: 0.75; stroke: #000000; stroke-linejoin: miter\"/>\n",
       "   </g>\n",
       "   <g id=\"patch_9\">\n",
       "    <path d=\"M 300.326761 273.312 \n",
       "L 340.90858 273.312 \n",
       "L 340.90858 234.321231 \n",
       "L 300.326761 234.321231 \n",
       "z\n",
       "\" clip-path=\"url(#p569ac580d5)\" style=\"fill: #1f77b4; fill-opacity: 0.75; stroke: #000000; stroke-linejoin: miter\"/>\n",
       "   </g>\n",
       "   <g id=\"patch_10\">\n",
       "    <path d=\"M 340.90858 273.312 \n",
       "L 381.490398 273.312 \n",
       "L 381.490398 214.825846 \n",
       "L 340.90858 214.825846 \n",
       "z\n",
       "\" clip-path=\"url(#p569ac580d5)\" style=\"fill: #1f77b4; fill-opacity: 0.75; stroke: #000000; stroke-linejoin: miter\"/>\n",
       "   </g>\n",
       "   <g id=\"matplotlib.axis_1\">\n",
       "    <g id=\"xtick_1\">\n",
       "     <g id=\"line2d_1\">\n",
       "      <defs>\n",
       "       <path id=\"m15c47dbf3a\" d=\"M 0 0 \n",
       "L 0 3.5 \n",
       "\" style=\"stroke: #000000; stroke-width: 0.8\"/>\n",
       "      </defs>\n",
       "      <g>\n",
       "       <use xlink:href=\"#m15c47dbf3a\" x=\"56.835852\" y=\"273.312\" style=\"stroke: #000000; stroke-width: 0.8\"/>\n",
       "      </g>\n",
       "     </g>\n",
       "     <g id=\"text_1\">\n",
       "      <!-- 0.0 -->\n",
       "      <g transform=\"translate(48.88429 287.910437) scale(0.1 -0.1)\">\n",
       "       <defs>\n",
       "        <path id=\"DejaVuSans-30\" d=\"M 2034 4250 \n",
       "Q 1547 4250 1301 3770 \n",
       "Q 1056 3291 1056 2328 \n",
       "Q 1056 1369 1301 889 \n",
       "Q 1547 409 2034 409 \n",
       "Q 2525 409 2770 889 \n",
       "Q 3016 1369 3016 2328 \n",
       "Q 3016 3291 2770 3770 \n",
       "Q 2525 4250 2034 4250 \n",
       "z\n",
       "M 2034 4750 \n",
       "Q 2819 4750 3233 4129 \n",
       "Q 3647 3509 3647 2328 \n",
       "Q 3647 1150 3233 529 \n",
       "Q 2819 -91 2034 -91 \n",
       "Q 1250 -91 836 529 \n",
       "Q 422 1150 422 2328 \n",
       "Q 422 3509 836 4129 \n",
       "Q 1250 4750 2034 4750 \n",
       "z\n",
       "\" transform=\"scale(0.015625)\"/>\n",
       "        <path id=\"DejaVuSans-2e\" d=\"M 684 794 \n",
       "L 1344 794 \n",
       "L 1344 0 \n",
       "L 684 0 \n",
       "L 684 794 \n",
       "z\n",
       "\" transform=\"scale(0.015625)\"/>\n",
       "       </defs>\n",
       "       <use xlink:href=\"#DejaVuSans-30\"/>\n",
       "       <use xlink:href=\"#DejaVuSans-2e\" x=\"63.623047\"/>\n",
       "       <use xlink:href=\"#DejaVuSans-30\" x=\"95.410156\"/>\n",
       "      </g>\n",
       "     </g>\n",
       "    </g>\n",
       "    <g id=\"xtick_2\">\n",
       "     <g id=\"line2d_2\">\n",
       "      <g>\n",
       "       <use xlink:href=\"#m15c47dbf3a\" x=\"125.374034\" y=\"273.312\" style=\"stroke: #000000; stroke-width: 0.8\"/>\n",
       "      </g>\n",
       "     </g>\n",
       "     <g id=\"text_2\">\n",
       "      <!-- 0.2 -->\n",
       "      <g transform=\"translate(117.422472 287.910437) scale(0.1 -0.1)\">\n",
       "       <defs>\n",
       "        <path id=\"DejaVuSans-32\" d=\"M 1228 531 \n",
       "L 3431 531 \n",
       "L 3431 0 \n",
       "L 469 0 \n",
       "L 469 531 \n",
       "Q 828 903 1448 1529 \n",
       "Q 2069 2156 2228 2338 \n",
       "Q 2531 2678 2651 2914 \n",
       "Q 2772 3150 2772 3378 \n",
       "Q 2772 3750 2511 3984 \n",
       "Q 2250 4219 1831 4219 \n",
       "Q 1534 4219 1204 4116 \n",
       "Q 875 4013 500 3803 \n",
       "L 500 4441 \n",
       "Q 881 4594 1212 4672 \n",
       "Q 1544 4750 1819 4750 \n",
       "Q 2544 4750 2975 4387 \n",
       "Q 3406 4025 3406 3419 \n",
       "Q 3406 3131 3298 2873 \n",
       "Q 3191 2616 2906 2266 \n",
       "Q 2828 2175 2409 1742 \n",
       "Q 1991 1309 1228 531 \n",
       "z\n",
       "\" transform=\"scale(0.015625)\"/>\n",
       "       </defs>\n",
       "       <use xlink:href=\"#DejaVuSans-30\"/>\n",
       "       <use xlink:href=\"#DejaVuSans-2e\" x=\"63.623047\"/>\n",
       "       <use xlink:href=\"#DejaVuSans-32\" x=\"95.410156\"/>\n",
       "      </g>\n",
       "     </g>\n",
       "    </g>\n",
       "    <g id=\"xtick_3\">\n",
       "     <g id=\"line2d_3\">\n",
       "      <g>\n",
       "       <use xlink:href=\"#m15c47dbf3a\" x=\"193.912216\" y=\"273.312\" style=\"stroke: #000000; stroke-width: 0.8\"/>\n",
       "      </g>\n",
       "     </g>\n",
       "     <g id=\"text_3\">\n",
       "      <!-- 0.4 -->\n",
       "      <g transform=\"translate(185.960653 287.910437) scale(0.1 -0.1)\">\n",
       "       <defs>\n",
       "        <path id=\"DejaVuSans-34\" d=\"M 2419 4116 \n",
       "L 825 1625 \n",
       "L 2419 1625 \n",
       "L 2419 4116 \n",
       "z\n",
       "M 2253 4666 \n",
       "L 3047 4666 \n",
       "L 3047 1625 \n",
       "L 3713 1625 \n",
       "L 3713 1100 \n",
       "L 3047 1100 \n",
       "L 3047 0 \n",
       "L 2419 0 \n",
       "L 2419 1100 \n",
       "L 313 1100 \n",
       "L 313 1709 \n",
       "L 2253 4666 \n",
       "z\n",
       "\" transform=\"scale(0.015625)\"/>\n",
       "       </defs>\n",
       "       <use xlink:href=\"#DejaVuSans-30\"/>\n",
       "       <use xlink:href=\"#DejaVuSans-2e\" x=\"63.623047\"/>\n",
       "       <use xlink:href=\"#DejaVuSans-34\" x=\"95.410156\"/>\n",
       "      </g>\n",
       "     </g>\n",
       "    </g>\n",
       "    <g id=\"xtick_4\">\n",
       "     <g id=\"line2d_4\">\n",
       "      <g>\n",
       "       <use xlink:href=\"#m15c47dbf3a\" x=\"262.450398\" y=\"273.312\" style=\"stroke: #000000; stroke-width: 0.8\"/>\n",
       "      </g>\n",
       "     </g>\n",
       "     <g id=\"text_4\">\n",
       "      <!-- 0.6 -->\n",
       "      <g transform=\"translate(254.498835 287.910437) scale(0.1 -0.1)\">\n",
       "       <defs>\n",
       "        <path id=\"DejaVuSans-36\" d=\"M 2113 2584 \n",
       "Q 1688 2584 1439 2293 \n",
       "Q 1191 2003 1191 1497 \n",
       "Q 1191 994 1439 701 \n",
       "Q 1688 409 2113 409 \n",
       "Q 2538 409 2786 701 \n",
       "Q 3034 994 3034 1497 \n",
       "Q 3034 2003 2786 2293 \n",
       "Q 2538 2584 2113 2584 \n",
       "z\n",
       "M 3366 4563 \n",
       "L 3366 3988 \n",
       "Q 3128 4100 2886 4159 \n",
       "Q 2644 4219 2406 4219 \n",
       "Q 1781 4219 1451 3797 \n",
       "Q 1122 3375 1075 2522 \n",
       "Q 1259 2794 1537 2939 \n",
       "Q 1816 3084 2150 3084 \n",
       "Q 2853 3084 3261 2657 \n",
       "Q 3669 2231 3669 1497 \n",
       "Q 3669 778 3244 343 \n",
       "Q 2819 -91 2113 -91 \n",
       "Q 1303 -91 875 529 \n",
       "Q 447 1150 447 2328 \n",
       "Q 447 3434 972 4092 \n",
       "Q 1497 4750 2381 4750 \n",
       "Q 2619 4750 2861 4703 \n",
       "Q 3103 4656 3366 4563 \n",
       "z\n",
       "\" transform=\"scale(0.015625)\"/>\n",
       "       </defs>\n",
       "       <use xlink:href=\"#DejaVuSans-30\"/>\n",
       "       <use xlink:href=\"#DejaVuSans-2e\" x=\"63.623047\"/>\n",
       "       <use xlink:href=\"#DejaVuSans-36\" x=\"95.410156\"/>\n",
       "      </g>\n",
       "     </g>\n",
       "    </g>\n",
       "    <g id=\"xtick_5\">\n",
       "     <g id=\"line2d_5\">\n",
       "      <g>\n",
       "       <use xlink:href=\"#m15c47dbf3a\" x=\"330.98858\" y=\"273.312\" style=\"stroke: #000000; stroke-width: 0.8\"/>\n",
       "      </g>\n",
       "     </g>\n",
       "     <g id=\"text_5\">\n",
       "      <!-- 0.8 -->\n",
       "      <g transform=\"translate(323.037017 287.910437) scale(0.1 -0.1)\">\n",
       "       <defs>\n",
       "        <path id=\"DejaVuSans-38\" d=\"M 2034 2216 \n",
       "Q 1584 2216 1326 1975 \n",
       "Q 1069 1734 1069 1313 \n",
       "Q 1069 891 1326 650 \n",
       "Q 1584 409 2034 409 \n",
       "Q 2484 409 2743 651 \n",
       "Q 3003 894 3003 1313 \n",
       "Q 3003 1734 2745 1975 \n",
       "Q 2488 2216 2034 2216 \n",
       "z\n",
       "M 1403 2484 \n",
       "Q 997 2584 770 2862 \n",
       "Q 544 3141 544 3541 \n",
       "Q 544 4100 942 4425 \n",
       "Q 1341 4750 2034 4750 \n",
       "Q 2731 4750 3128 4425 \n",
       "Q 3525 4100 3525 3541 \n",
       "Q 3525 3141 3298 2862 \n",
       "Q 3072 2584 2669 2484 \n",
       "Q 3125 2378 3379 2068 \n",
       "Q 3634 1759 3634 1313 \n",
       "Q 3634 634 3220 271 \n",
       "Q 2806 -91 2034 -91 \n",
       "Q 1263 -91 848 271 \n",
       "Q 434 634 434 1313 \n",
       "Q 434 1759 690 2068 \n",
       "Q 947 2378 1403 2484 \n",
       "z\n",
       "M 1172 3481 \n",
       "Q 1172 3119 1398 2916 \n",
       "Q 1625 2713 2034 2713 \n",
       "Q 2441 2713 2670 2916 \n",
       "Q 2900 3119 2900 3481 \n",
       "Q 2900 3844 2670 4047 \n",
       "Q 2441 4250 2034 4250 \n",
       "Q 1625 4250 1398 4047 \n",
       "Q 1172 3844 1172 3481 \n",
       "z\n",
       "\" transform=\"scale(0.015625)\"/>\n",
       "       </defs>\n",
       "       <use xlink:href=\"#DejaVuSans-30\"/>\n",
       "       <use xlink:href=\"#DejaVuSans-2e\" x=\"63.623047\"/>\n",
       "       <use xlink:href=\"#DejaVuSans-38\" x=\"95.410156\"/>\n",
       "      </g>\n",
       "     </g>\n",
       "    </g>\n",
       "    <g id=\"text_6\">\n",
       "     <!-- f1_score -->\n",
       "     <g transform=\"translate(198.288906 301.588562) scale(0.1 -0.1)\">\n",
       "      <defs>\n",
       "       <path id=\"DejaVuSans-66\" d=\"M 2375 4863 \n",
       "L 2375 4384 \n",
       "L 1825 4384 \n",
       "Q 1516 4384 1395 4259 \n",
       "Q 1275 4134 1275 3809 \n",
       "L 1275 3500 \n",
       "L 2222 3500 \n",
       "L 2222 3053 \n",
       "L 1275 3053 \n",
       "L 1275 0 \n",
       "L 697 0 \n",
       "L 697 3053 \n",
       "L 147 3053 \n",
       "L 147 3500 \n",
       "L 697 3500 \n",
       "L 697 3744 \n",
       "Q 697 4328 969 4595 \n",
       "Q 1241 4863 1831 4863 \n",
       "L 2375 4863 \n",
       "z\n",
       "\" transform=\"scale(0.015625)\"/>\n",
       "       <path id=\"DejaVuSans-31\" d=\"M 794 531 \n",
       "L 1825 531 \n",
       "L 1825 4091 \n",
       "L 703 3866 \n",
       "L 703 4441 \n",
       "L 1819 4666 \n",
       "L 2450 4666 \n",
       "L 2450 531 \n",
       "L 3481 531 \n",
       "L 3481 0 \n",
       "L 794 0 \n",
       "L 794 531 \n",
       "z\n",
       "\" transform=\"scale(0.015625)\"/>\n",
       "       <path id=\"DejaVuSans-5f\" d=\"M 3263 -1063 \n",
       "L 3263 -1509 \n",
       "L -63 -1509 \n",
       "L -63 -1063 \n",
       "L 3263 -1063 \n",
       "z\n",
       "\" transform=\"scale(0.015625)\"/>\n",
       "       <path id=\"DejaVuSans-73\" d=\"M 2834 3397 \n",
       "L 2834 2853 \n",
       "Q 2591 2978 2328 3040 \n",
       "Q 2066 3103 1784 3103 \n",
       "Q 1356 3103 1142 2972 \n",
       "Q 928 2841 928 2578 \n",
       "Q 928 2378 1081 2264 \n",
       "Q 1234 2150 1697 2047 \n",
       "L 1894 2003 \n",
       "Q 2506 1872 2764 1633 \n",
       "Q 3022 1394 3022 966 \n",
       "Q 3022 478 2636 193 \n",
       "Q 2250 -91 1575 -91 \n",
       "Q 1294 -91 989 -36 \n",
       "Q 684 19 347 128 \n",
       "L 347 722 \n",
       "Q 666 556 975 473 \n",
       "Q 1284 391 1588 391 \n",
       "Q 1994 391 2212 530 \n",
       "Q 2431 669 2431 922 \n",
       "Q 2431 1156 2273 1281 \n",
       "Q 2116 1406 1581 1522 \n",
       "L 1381 1569 \n",
       "Q 847 1681 609 1914 \n",
       "Q 372 2147 372 2553 \n",
       "Q 372 3047 722 3315 \n",
       "Q 1072 3584 1716 3584 \n",
       "Q 2034 3584 2315 3537 \n",
       "Q 2597 3491 2834 3397 \n",
       "z\n",
       "\" transform=\"scale(0.015625)\"/>\n",
       "       <path id=\"DejaVuSans-63\" d=\"M 3122 3366 \n",
       "L 3122 2828 \n",
       "Q 2878 2963 2633 3030 \n",
       "Q 2388 3097 2138 3097 \n",
       "Q 1578 3097 1268 2742 \n",
       "Q 959 2388 959 1747 \n",
       "Q 959 1106 1268 751 \n",
       "Q 1578 397 2138 397 \n",
       "Q 2388 397 2633 464 \n",
       "Q 2878 531 3122 666 \n",
       "L 3122 134 \n",
       "Q 2881 22 2623 -34 \n",
       "Q 2366 -91 2075 -91 \n",
       "Q 1284 -91 818 406 \n",
       "Q 353 903 353 1747 \n",
       "Q 353 2603 823 3093 \n",
       "Q 1294 3584 2113 3584 \n",
       "Q 2378 3584 2631 3529 \n",
       "Q 2884 3475 3122 3366 \n",
       "z\n",
       "\" transform=\"scale(0.015625)\"/>\n",
       "       <path id=\"DejaVuSans-6f\" d=\"M 1959 3097 \n",
       "Q 1497 3097 1228 2736 \n",
       "Q 959 2375 959 1747 \n",
       "Q 959 1119 1226 758 \n",
       "Q 1494 397 1959 397 \n",
       "Q 2419 397 2687 759 \n",
       "Q 2956 1122 2956 1747 \n",
       "Q 2956 2369 2687 2733 \n",
       "Q 2419 3097 1959 3097 \n",
       "z\n",
       "M 1959 3584 \n",
       "Q 2709 3584 3137 3096 \n",
       "Q 3566 2609 3566 1747 \n",
       "Q 3566 888 3137 398 \n",
       "Q 2709 -91 1959 -91 \n",
       "Q 1206 -91 779 398 \n",
       "Q 353 888 353 1747 \n",
       "Q 353 2609 779 3096 \n",
       "Q 1206 3584 1959 3584 \n",
       "z\n",
       "\" transform=\"scale(0.015625)\"/>\n",
       "       <path id=\"DejaVuSans-72\" d=\"M 2631 2963 \n",
       "Q 2534 3019 2420 3045 \n",
       "Q 2306 3072 2169 3072 \n",
       "Q 1681 3072 1420 2755 \n",
       "Q 1159 2438 1159 1844 \n",
       "L 1159 0 \n",
       "L 581 0 \n",
       "L 581 3500 \n",
       "L 1159 3500 \n",
       "L 1159 2956 \n",
       "Q 1341 3275 1631 3429 \n",
       "Q 1922 3584 2338 3584 \n",
       "Q 2397 3584 2469 3576 \n",
       "Q 2541 3569 2628 3553 \n",
       "L 2631 2963 \n",
       "z\n",
       "\" transform=\"scale(0.015625)\"/>\n",
       "       <path id=\"DejaVuSans-65\" d=\"M 3597 1894 \n",
       "L 3597 1613 \n",
       "L 953 1613 \n",
       "Q 991 1019 1311 708 \n",
       "Q 1631 397 2203 397 \n",
       "Q 2534 397 2845 478 \n",
       "Q 3156 559 3463 722 \n",
       "L 3463 178 \n",
       "Q 3153 47 2828 -22 \n",
       "Q 2503 -91 2169 -91 \n",
       "Q 1331 -91 842 396 \n",
       "Q 353 884 353 1716 \n",
       "Q 353 2575 817 3079 \n",
       "Q 1281 3584 2069 3584 \n",
       "Q 2775 3584 3186 3129 \n",
       "Q 3597 2675 3597 1894 \n",
       "z\n",
       "M 3022 2063 \n",
       "Q 3016 2534 2758 2815 \n",
       "Q 2500 3097 2075 3097 \n",
       "Q 1594 3097 1305 2825 \n",
       "Q 1016 2553 972 2059 \n",
       "L 3022 2063 \n",
       "z\n",
       "\" transform=\"scale(0.015625)\"/>\n",
       "      </defs>\n",
       "      <use xlink:href=\"#DejaVuSans-66\"/>\n",
       "      <use xlink:href=\"#DejaVuSans-31\" x=\"35.205078\"/>\n",
       "      <use xlink:href=\"#DejaVuSans-5f\" x=\"98.828125\"/>\n",
       "      <use xlink:href=\"#DejaVuSans-73\" x=\"148.828125\"/>\n",
       "      <use xlink:href=\"#DejaVuSans-63\" x=\"200.927734\"/>\n",
       "      <use xlink:href=\"#DejaVuSans-6f\" x=\"255.908203\"/>\n",
       "      <use xlink:href=\"#DejaVuSans-72\" x=\"317.089844\"/>\n",
       "      <use xlink:href=\"#DejaVuSans-65\" x=\"355.953125\"/>\n",
       "     </g>\n",
       "    </g>\n",
       "   </g>\n",
       "   <g id=\"matplotlib.axis_2\">\n",
       "    <g id=\"ytick_1\">\n",
       "     <g id=\"line2d_6\">\n",
       "      <defs>\n",
       "       <path id=\"md1ed222409\" d=\"M 0 0 \n",
       "L -3.5 0 \n",
       "\" style=\"stroke: #000000; stroke-width: 0.8\"/>\n",
       "      </defs>\n",
       "      <g>\n",
       "       <use xlink:href=\"#md1ed222409\" x=\"40.603125\" y=\"273.312\" style=\"stroke: #000000; stroke-width: 0.8\"/>\n",
       "      </g>\n",
       "     </g>\n",
       "     <g id=\"text_7\">\n",
       "      <!-- 0 -->\n",
       "      <g transform=\"translate(27.240625 277.111219) scale(0.1 -0.1)\">\n",
       "       <use xlink:href=\"#DejaVuSans-30\"/>\n",
       "      </g>\n",
       "     </g>\n",
       "    </g>\n",
       "    <g id=\"ytick_2\">\n",
       "     <g id=\"line2d_7\">\n",
       "      <g>\n",
       "       <use xlink:href=\"#md1ed222409\" x=\"40.603125\" y=\"224.573538\" style=\"stroke: #000000; stroke-width: 0.8\"/>\n",
       "      </g>\n",
       "     </g>\n",
       "     <g id=\"text_8\">\n",
       "      <!-- 5 -->\n",
       "      <g transform=\"translate(27.240625 228.372757) scale(0.1 -0.1)\">\n",
       "       <defs>\n",
       "        <path id=\"DejaVuSans-35\" d=\"M 691 4666 \n",
       "L 3169 4666 \n",
       "L 3169 4134 \n",
       "L 1269 4134 \n",
       "L 1269 2991 \n",
       "Q 1406 3038 1543 3061 \n",
       "Q 1681 3084 1819 3084 \n",
       "Q 2600 3084 3056 2656 \n",
       "Q 3513 2228 3513 1497 \n",
       "Q 3513 744 3044 326 \n",
       "Q 2575 -91 1722 -91 \n",
       "Q 1428 -91 1123 -41 \n",
       "Q 819 9 494 109 \n",
       "L 494 744 \n",
       "Q 775 591 1075 516 \n",
       "Q 1375 441 1709 441 \n",
       "Q 2250 441 2565 725 \n",
       "Q 2881 1009 2881 1497 \n",
       "Q 2881 1984 2565 2268 \n",
       "Q 2250 2553 1709 2553 \n",
       "Q 1456 2553 1204 2497 \n",
       "Q 953 2441 691 2322 \n",
       "L 691 4666 \n",
       "z\n",
       "\" transform=\"scale(0.015625)\"/>\n",
       "       </defs>\n",
       "       <use xlink:href=\"#DejaVuSans-35\"/>\n",
       "      </g>\n",
       "     </g>\n",
       "    </g>\n",
       "    <g id=\"ytick_3\">\n",
       "     <g id=\"line2d_8\">\n",
       "      <g>\n",
       "       <use xlink:href=\"#md1ed222409\" x=\"40.603125\" y=\"175.835077\" style=\"stroke: #000000; stroke-width: 0.8\"/>\n",
       "      </g>\n",
       "     </g>\n",
       "     <g id=\"text_9\">\n",
       "      <!-- 10 -->\n",
       "      <g transform=\"translate(20.878125 179.634296) scale(0.1 -0.1)\">\n",
       "       <use xlink:href=\"#DejaVuSans-31\"/>\n",
       "       <use xlink:href=\"#DejaVuSans-30\" x=\"63.623047\"/>\n",
       "      </g>\n",
       "     </g>\n",
       "    </g>\n",
       "    <g id=\"ytick_4\">\n",
       "     <g id=\"line2d_9\">\n",
       "      <g>\n",
       "       <use xlink:href=\"#md1ed222409\" x=\"40.603125\" y=\"127.096615\" style=\"stroke: #000000; stroke-width: 0.8\"/>\n",
       "      </g>\n",
       "     </g>\n",
       "     <g id=\"text_10\">\n",
       "      <!-- 15 -->\n",
       "      <g transform=\"translate(20.878125 130.895834) scale(0.1 -0.1)\">\n",
       "       <use xlink:href=\"#DejaVuSans-31\"/>\n",
       "       <use xlink:href=\"#DejaVuSans-35\" x=\"63.623047\"/>\n",
       "      </g>\n",
       "     </g>\n",
       "    </g>\n",
       "    <g id=\"ytick_5\">\n",
       "     <g id=\"line2d_10\">\n",
       "      <g>\n",
       "       <use xlink:href=\"#md1ed222409\" x=\"40.603125\" y=\"78.358154\" style=\"stroke: #000000; stroke-width: 0.8\"/>\n",
       "      </g>\n",
       "     </g>\n",
       "     <g id=\"text_11\">\n",
       "      <!-- 20 -->\n",
       "      <g transform=\"translate(20.878125 82.157373) scale(0.1 -0.1)\">\n",
       "       <use xlink:href=\"#DejaVuSans-32\"/>\n",
       "       <use xlink:href=\"#DejaVuSans-30\" x=\"63.623047\"/>\n",
       "      </g>\n",
       "     </g>\n",
       "    </g>\n",
       "    <g id=\"ytick_6\">\n",
       "     <g id=\"line2d_11\">\n",
       "      <g>\n",
       "       <use xlink:href=\"#md1ed222409\" x=\"40.603125\" y=\"29.619692\" style=\"stroke: #000000; stroke-width: 0.8\"/>\n",
       "      </g>\n",
       "     </g>\n",
       "     <g id=\"text_12\">\n",
       "      <!-- 25 -->\n",
       "      <g transform=\"translate(20.878125 33.418911) scale(0.1 -0.1)\">\n",
       "       <use xlink:href=\"#DejaVuSans-32\"/>\n",
       "       <use xlink:href=\"#DejaVuSans-35\" x=\"63.623047\"/>\n",
       "      </g>\n",
       "     </g>\n",
       "    </g>\n",
       "    <g id=\"text_13\">\n",
       "     <!-- Count -->\n",
       "     <g transform=\"translate(14.798438 155.104437) rotate(-90) scale(0.1 -0.1)\">\n",
       "      <defs>\n",
       "       <path id=\"DejaVuSans-43\" d=\"M 4122 4306 \n",
       "L 4122 3641 \n",
       "Q 3803 3938 3442 4084 \n",
       "Q 3081 4231 2675 4231 \n",
       "Q 1875 4231 1450 3742 \n",
       "Q 1025 3253 1025 2328 \n",
       "Q 1025 1406 1450 917 \n",
       "Q 1875 428 2675 428 \n",
       "Q 3081 428 3442 575 \n",
       "Q 3803 722 4122 1019 \n",
       "L 4122 359 \n",
       "Q 3791 134 3420 21 \n",
       "Q 3050 -91 2638 -91 \n",
       "Q 1578 -91 968 557 \n",
       "Q 359 1206 359 2328 \n",
       "Q 359 3453 968 4101 \n",
       "Q 1578 4750 2638 4750 \n",
       "Q 3056 4750 3426 4639 \n",
       "Q 3797 4528 4122 4306 \n",
       "z\n",
       "\" transform=\"scale(0.015625)\"/>\n",
       "       <path id=\"DejaVuSans-75\" d=\"M 544 1381 \n",
       "L 544 3500 \n",
       "L 1119 3500 \n",
       "L 1119 1403 \n",
       "Q 1119 906 1312 657 \n",
       "Q 1506 409 1894 409 \n",
       "Q 2359 409 2629 706 \n",
       "Q 2900 1003 2900 1516 \n",
       "L 2900 3500 \n",
       "L 3475 3500 \n",
       "L 3475 0 \n",
       "L 2900 0 \n",
       "L 2900 538 \n",
       "Q 2691 219 2414 64 \n",
       "Q 2138 -91 1772 -91 \n",
       "Q 1169 -91 856 284 \n",
       "Q 544 659 544 1381 \n",
       "z\n",
       "M 1991 3584 \n",
       "L 1991 3584 \n",
       "z\n",
       "\" transform=\"scale(0.015625)\"/>\n",
       "       <path id=\"DejaVuSans-6e\" d=\"M 3513 2113 \n",
       "L 3513 0 \n",
       "L 2938 0 \n",
       "L 2938 2094 \n",
       "Q 2938 2591 2744 2837 \n",
       "Q 2550 3084 2163 3084 \n",
       "Q 1697 3084 1428 2787 \n",
       "Q 1159 2491 1159 1978 \n",
       "L 1159 0 \n",
       "L 581 0 \n",
       "L 581 3500 \n",
       "L 1159 3500 \n",
       "L 1159 2956 \n",
       "Q 1366 3272 1645 3428 \n",
       "Q 1925 3584 2291 3584 \n",
       "Q 2894 3584 3203 3211 \n",
       "Q 3513 2838 3513 2113 \n",
       "z\n",
       "\" transform=\"scale(0.015625)\"/>\n",
       "       <path id=\"DejaVuSans-74\" d=\"M 1172 4494 \n",
       "L 1172 3500 \n",
       "L 2356 3500 \n",
       "L 2356 3053 \n",
       "L 1172 3053 \n",
       "L 1172 1153 \n",
       "Q 1172 725 1289 603 \n",
       "Q 1406 481 1766 481 \n",
       "L 2356 481 \n",
       "L 2356 0 \n",
       "L 1766 0 \n",
       "Q 1100 0 847 248 \n",
       "Q 594 497 594 1153 \n",
       "L 594 3053 \n",
       "L 172 3053 \n",
       "L 172 3500 \n",
       "L 594 3500 \n",
       "L 594 4494 \n",
       "L 1172 4494 \n",
       "z\n",
       "\" transform=\"scale(0.015625)\"/>\n",
       "      </defs>\n",
       "      <use xlink:href=\"#DejaVuSans-43\"/>\n",
       "      <use xlink:href=\"#DejaVuSans-6f\" x=\"69.824219\"/>\n",
       "      <use xlink:href=\"#DejaVuSans-75\" x=\"131.005859\"/>\n",
       "      <use xlink:href=\"#DejaVuSans-6e\" x=\"194.384766\"/>\n",
       "      <use xlink:href=\"#DejaVuSans-74\" x=\"257.763672\"/>\n",
       "     </g>\n",
       "    </g>\n",
       "   </g>\n",
       "   <g id=\"patch_11\">\n",
       "    <path d=\"M 40.603125 273.312 \n",
       "L 40.603125 7.2 \n",
       "\" style=\"fill: none; stroke: #000000; stroke-width: 0.8; stroke-linejoin: miter; stroke-linecap: square\"/>\n",
       "   </g>\n",
       "   <g id=\"patch_12\">\n",
       "    <path d=\"M 397.723125 273.312 \n",
       "L 397.723125 7.2 \n",
       "\" style=\"fill: none; stroke: #000000; stroke-width: 0.8; stroke-linejoin: miter; stroke-linecap: square\"/>\n",
       "   </g>\n",
       "   <g id=\"patch_13\">\n",
       "    <path d=\"M 40.603125 273.312 \n",
       "L 397.723125 273.312 \n",
       "\" style=\"fill: none; stroke: #000000; stroke-width: 0.8; stroke-linejoin: miter; stroke-linecap: square\"/>\n",
       "   </g>\n",
       "   <g id=\"patch_14\">\n",
       "    <path d=\"M 40.603125 7.2 \n",
       "L 397.723125 7.2 \n",
       "\" style=\"fill: none; stroke: #000000; stroke-width: 0.8; stroke-linejoin: miter; stroke-linecap: square\"/>\n",
       "   </g>\n",
       "  </g>\n",
       " </g>\n",
       " <defs>\n",
       "  <clipPath id=\"p569ac580d5\">\n",
       "   <rect x=\"40.603125\" y=\"7.2\" width=\"357.12\" height=\"266.112\"/>\n",
       "  </clipPath>\n",
       " </defs>\n",
       "</svg>\n"
      ],
      "text/plain": [
       "<Figure size 640x480 with 1 Axes>"
      ]
     },
     "metadata": {},
     "output_type": "display_data"
    }
   ],
   "source": [
    "sns.histplot(data=clf_report_df, x='f1_score')"
   ]
  },
  {
   "cell_type": "markdown",
   "metadata": {},
   "source": [
    "### Ręczne przeszukiwanie, przeszukiwanie siatką\n",
    "\n",
    "Szukanie dobrej wartości hiperparametru stawia wyzwania:\n",
    "- osiągnięcie niskiej wartości błędu na zbiorze walidacyjnym\n",
    "- osiągnięcie generalizacji poza zbiór walidacyjny\n",
    "\n",
    "\n",
    "*skorch* - wrapper dla PyTorch do biblioteki scikit-learn, więcej można podpatrzeć tutaj: [How to Grid Search Hyperparameters for PyTorch Models](https://machinelearningmastery.com/how-to-grid-search-hyperparameters-for-pytorch-models/)"
   ]
  },
  {
   "cell_type": "code",
   "execution_count": 45,
   "metadata": {},
   "outputs": [],
   "source": [
    "from skorch import NeuralNet\n",
    "from skorch import callbacks\n",
    "\n",
    "net = NeuralNet(\n",
    "    module=BaseCNN,\n",
    "    module__conv_layers=conv_layers,\n",
    "    module__linear_layers=linear_layers,\n",
    "    criterion=nn.CrossEntropyLoss,\n",
    "    max_epochs=25,\n",
    "    batch_size=64,\n",
    "    callbacks=[\n",
    "        callbacks.ProgressBar(),\n",
    "        callbacks.EarlyStopping()\n",
    "    ],\n",
    "    device='cuda'\n",
    ")"
   ]
  },
  {
   "cell_type": "code",
   "execution_count": 46,
   "metadata": {},
   "outputs": [],
   "source": [
    "param_grid = {\n",
    "    'optimizer': [optim.SGD, optim.Adam, optim.Adagrad],\n",
    "    'optimizer__lr': [0.001, 0.01, 0.1]\n",
    "}"
   ]
  },
  {
   "cell_type": "markdown",
   "metadata": {},
   "source": [
    "#### Dostosowanie zbioru pod bibliotekę sklearn\n",
    "\n",
    "ostatecznie wielkość danych się zmniejszy bo wszystko na raz ładujemy, ale nadal takie coś może być przydatną wskazówką co do ustawień, o ile próbka będzie odpowiednio dobrana (biorąc pod uwagę np. niezbalansowanie klas) "
   ]
  },
  {
   "cell_type": "code",
   "execution_count": 47,
   "metadata": {},
   "outputs": [],
   "source": [
    "X_val_npy = concat_imgs(val_dataset).numpy()\n",
    "y_val_npy = retrieve_labels(val_dataset).numpy()"
   ]
  },
  {
   "cell_type": "code",
   "execution_count": 48,
   "metadata": {},
   "outputs": [],
   "source": [
    "from sklearn.metrics import accuracy_score\n",
    "\n",
    "def score(estimator, X, y):\n",
    "    logits = estimator.predict(X)\n",
    "    prob = F.softmax(torch.tensor(logits), dim=-1).detach().numpy()\n",
    "    labels = np.argmax(prob, axis=-1)\n",
    "    return accuracy_score(y, labels)"
   ]
  },
  {
   "cell_type": "code",
   "execution_count": 49,
   "metadata": {},
   "outputs": [],
   "source": [
    "from sklearn.model_selection import GridSearchCV\n",
    "\n",
    "grid = GridSearchCV(\n",
    "    estimator=net, param_grid=param_grid, verbose=4, cv=2, refit=False, return_train_score=True, scoring=score, error_score='raise'\n",
    ")"
   ]
  },
  {
   "cell_type": "code",
   "execution_count": 50,
   "metadata": {},
   "outputs": [
    {
     "name": "stdout",
     "output_type": "stream",
     "text": [
      "Fitting 2 folds for each of 9 candidates, totalling 18 fits\n"
     ]
    },
    {
     "data": {
      "application/vnd.jupyter.widget-view+json": {
       "model_id": "4d3a360777a24fe78032fa0c7e039507",
       "version_major": 2,
       "version_minor": 0
      },
      "text/plain": [
       "  0%|          | 0/9 [00:00<?, ?it/s]"
      ]
     },
     "metadata": {},
     "output_type": "display_data"
    },
    {
     "name": "stdout",
     "output_type": "stream",
     "text": [
      "  epoch    train_loss    valid_loss     dur\n",
      "-------  ------------  ------------  ------\n",
      "      1        \u001b[36m3.7585\u001b[0m        \u001b[32m1.3566\u001b[0m  2.1965\n"
     ]
    },
    {
     "data": {
      "application/vnd.jupyter.widget-view+json": {
       "model_id": "f0f035bec20e42d98fa44bc9f013dcfa",
       "version_major": 2,
       "version_minor": 0
      },
      "text/plain": [
       "  0%|          | 0/9 [00:00<?, ?it/s]"
      ]
     },
     "metadata": {},
     "output_type": "display_data"
    },
    {
     "name": "stdout",
     "output_type": "stream",
     "text": [
      "      2        \u001b[36m3.7190\u001b[0m        1.4776  1.5732\n"
     ]
    },
    {
     "data": {
      "application/vnd.jupyter.widget-view+json": {
       "model_id": "945fc27d9baf49f092b6ae90456ef54d",
       "version_major": 2,
       "version_minor": 0
      },
      "text/plain": [
       "  0%|          | 0/9 [00:00<?, ?it/s]"
      ]
     },
     "metadata": {},
     "output_type": "display_data"
    },
    {
     "name": "stdout",
     "output_type": "stream",
     "text": [
      "      3        \u001b[36m3.6822\u001b[0m        1.5519  1.6147\n"
     ]
    },
    {
     "data": {
      "application/vnd.jupyter.widget-view+json": {
       "model_id": "71a73da50f2e4ff98c0d83c4291eef2d",
       "version_major": 2,
       "version_minor": 0
      },
      "text/plain": [
       "  0%|          | 0/9 [00:00<?, ?it/s]"
      ]
     },
     "metadata": {},
     "output_type": "display_data"
    },
    {
     "name": "stdout",
     "output_type": "stream",
     "text": [
      "      4        \u001b[36m3.6471\u001b[0m        1.5880  1.7049\n"
     ]
    },
    {
     "data": {
      "application/vnd.jupyter.widget-view+json": {
       "model_id": "f11c2be5ea554e61801674d30d6c0848",
       "version_major": 2,
       "version_minor": 0
      },
      "text/plain": [
       "  0%|          | 0/9 [00:00<?, ?it/s]"
      ]
     },
     "metadata": {},
     "output_type": "display_data"
    },
    {
     "name": "stdout",
     "output_type": "stream",
     "text": [
      "      5        \u001b[36m3.6137\u001b[0m        1.6065  1.5943\n"
     ]
    },
    {
     "data": {
      "application/vnd.jupyter.widget-view+json": {
       "model_id": "737f3fcdf28c49f29e94d83556294e61",
       "version_major": 2,
       "version_minor": 0
      },
      "text/plain": [
       "  0%|          | 0/9 [00:00<?, ?it/s]"
      ]
     },
     "metadata": {},
     "output_type": "display_data"
    },
    {
     "name": "stdout",
     "output_type": "stream",
     "text": [
      "Stopping since valid_loss has not improved in the last 5 epochs.\n",
      "[CV 1/2] END optimizer=<class 'torch.optim.sgd.SGD'>, optimizer__lr=0.001;, score=(train=0.408, test=0.306) total time=  11.7s\n"
     ]
    },
    {
     "data": {
      "application/vnd.jupyter.widget-view+json": {
       "model_id": "ac987cd23c794413b8964e3ae86b104d",
       "version_major": 2,
       "version_minor": 0
      },
      "text/plain": [
       "  0%|          | 0/9 [00:00<?, ?it/s]"
      ]
     },
     "metadata": {},
     "output_type": "display_data"
    },
    {
     "name": "stdout",
     "output_type": "stream",
     "text": [
      "  epoch    train_loss    valid_loss     dur\n",
      "-------  ------------  ------------  ------\n",
      "      1        \u001b[36m4.0219\u001b[0m        \u001b[32m3.5510\u001b[0m  1.5825\n"
     ]
    },
    {
     "data": {
      "application/vnd.jupyter.widget-view+json": {
       "model_id": "a22bf94317104ae594257e6ecae0f542",
       "version_major": 2,
       "version_minor": 0
      },
      "text/plain": [
       "  0%|          | 0/9 [00:00<?, ?it/s]"
      ]
     },
     "metadata": {},
     "output_type": "display_data"
    },
    {
     "name": "stdout",
     "output_type": "stream",
     "text": [
      "      2        \u001b[36m3.9571\u001b[0m        3.5824  1.6353\n"
     ]
    },
    {
     "data": {
      "application/vnd.jupyter.widget-view+json": {
       "model_id": "dd86d537470f453db8627e9f1a5de728",
       "version_major": 2,
       "version_minor": 0
      },
      "text/plain": [
       "  0%|          | 0/9 [00:00<?, ?it/s]"
      ]
     },
     "metadata": {},
     "output_type": "display_data"
    },
    {
     "name": "stdout",
     "output_type": "stream",
     "text": [
      "      3        \u001b[36m3.8978\u001b[0m        3.5925  1.6178\n"
     ]
    },
    {
     "data": {
      "application/vnd.jupyter.widget-view+json": {
       "model_id": "ba1408ecb4f441e38c8710048372be8f",
       "version_major": 2,
       "version_minor": 0
      },
      "text/plain": [
       "  0%|          | 0/9 [00:00<?, ?it/s]"
      ]
     },
     "metadata": {},
     "output_type": "display_data"
    },
    {
     "name": "stdout",
     "output_type": "stream",
     "text": [
      "      4        \u001b[36m3.8437\u001b[0m        3.5870  1.7705\n"
     ]
    },
    {
     "data": {
      "application/vnd.jupyter.widget-view+json": {
       "model_id": "36d2c25782b2426588376b00b4fd791a",
       "version_major": 2,
       "version_minor": 0
      },
      "text/plain": [
       "  0%|          | 0/9 [00:00<?, ?it/s]"
      ]
     },
     "metadata": {},
     "output_type": "display_data"
    },
    {
     "name": "stdout",
     "output_type": "stream",
     "text": [
      "      5        \u001b[36m3.7933\u001b[0m        3.5717  1.7016\n"
     ]
    },
    {
     "data": {
      "application/vnd.jupyter.widget-view+json": {
       "model_id": "3caccc4480df4dbab5daef65508c6234",
       "version_major": 2,
       "version_minor": 0
      },
      "text/plain": [
       "  0%|          | 0/9 [00:00<?, ?it/s]"
      ]
     },
     "metadata": {},
     "output_type": "display_data"
    },
    {
     "name": "stdout",
     "output_type": "stream",
     "text": [
      "Stopping since valid_loss has not improved in the last 5 epochs.\n",
      "[CV 2/2] END optimizer=<class 'torch.optim.sgd.SGD'>, optimizer__lr=0.001;, score=(train=0.320, test=0.408) total time=  11.0s\n"
     ]
    },
    {
     "data": {
      "application/vnd.jupyter.widget-view+json": {
       "model_id": "5aaca3f4f8f94c2faf39503eb59892d3",
       "version_major": 2,
       "version_minor": 0
      },
      "text/plain": [
       "  0%|          | 0/9 [00:00<?, ?it/s]"
      ]
     },
     "metadata": {},
     "output_type": "display_data"
    },
    {
     "name": "stdout",
     "output_type": "stream",
     "text": [
      "  epoch    train_loss    valid_loss     dur\n",
      "-------  ------------  ------------  ------\n",
      "      1        \u001b[36m3.7372\u001b[0m        \u001b[32m1.3300\u001b[0m  1.6586\n"
     ]
    },
    {
     "data": {
      "application/vnd.jupyter.widget-view+json": {
       "model_id": "221b36f6c6ce4ddfa566a32a76e83a90",
       "version_major": 2,
       "version_minor": 0
      },
      "text/plain": [
       "  0%|          | 0/9 [00:00<?, ?it/s]"
      ]
     },
     "metadata": {},
     "output_type": "display_data"
    },
    {
     "name": "stdout",
     "output_type": "stream",
     "text": [
      "      2        \u001b[36m3.4446\u001b[0m        1.4670  1.7473\n"
     ]
    },
    {
     "data": {
      "application/vnd.jupyter.widget-view+json": {
       "model_id": "37975516ac624aa4bc1270b1bdf703ad",
       "version_major": 2,
       "version_minor": 0
      },
      "text/plain": [
       "  0%|          | 0/9 [00:00<?, ?it/s]"
      ]
     },
     "metadata": {},
     "output_type": "display_data"
    },
    {
     "name": "stdout",
     "output_type": "stream",
     "text": [
      "      3        \u001b[36m3.2605\u001b[0m        1.5681  1.7034\n"
     ]
    },
    {
     "data": {
      "application/vnd.jupyter.widget-view+json": {
       "model_id": "e80e818d67ba41118aab92497abf3795",
       "version_major": 2,
       "version_minor": 0
      },
      "text/plain": [
       "  0%|          | 0/9 [00:00<?, ?it/s]"
      ]
     },
     "metadata": {},
     "output_type": "display_data"
    },
    {
     "name": "stdout",
     "output_type": "stream",
     "text": [
      "      4        \u001b[36m3.1301\u001b[0m        1.6357  1.6867\n"
     ]
    },
    {
     "data": {
      "application/vnd.jupyter.widget-view+json": {
       "model_id": "c393d6c23b3c470e966b87a3c8d7f751",
       "version_major": 2,
       "version_minor": 0
      },
      "text/plain": [
       "  0%|          | 0/9 [00:00<?, ?it/s]"
      ]
     },
     "metadata": {},
     "output_type": "display_data"
    },
    {
     "name": "stdout",
     "output_type": "stream",
     "text": [
      "      5        \u001b[36m3.0294\u001b[0m        1.6824  1.7230\n"
     ]
    },
    {
     "data": {
      "application/vnd.jupyter.widget-view+json": {
       "model_id": "5257f472355f49f1978f24bd1b478b98",
       "version_major": 2,
       "version_minor": 0
      },
      "text/plain": [
       "  0%|          | 0/9 [00:00<?, ?it/s]"
      ]
     },
     "metadata": {},
     "output_type": "display_data"
    },
    {
     "name": "stdout",
     "output_type": "stream",
     "text": [
      "Stopping since valid_loss has not improved in the last 5 epochs.\n",
      "[CV 1/2] END optimizer=<class 'torch.optim.sgd.SGD'>, optimizer__lr=0.01;, score=(train=0.445, test=0.261) total time=  11.1s\n"
     ]
    },
    {
     "data": {
      "application/vnd.jupyter.widget-view+json": {
       "model_id": "ec427ba39d274d43b29ebe9974d20621",
       "version_major": 2,
       "version_minor": 0
      },
      "text/plain": [
       "  0%|          | 0/9 [00:00<?, ?it/s]"
      ]
     },
     "metadata": {},
     "output_type": "display_data"
    },
    {
     "name": "stdout",
     "output_type": "stream",
     "text": [
      "  epoch    train_loss    valid_loss     dur\n",
      "-------  ------------  ------------  ------\n",
      "      1        \u001b[36m3.9390\u001b[0m        \u001b[32m3.3690\u001b[0m  1.6006\n"
     ]
    },
    {
     "data": {
      "application/vnd.jupyter.widget-view+json": {
       "model_id": "f0c2cc395e974d49bd3f5c09df1f7553",
       "version_major": 2,
       "version_minor": 0
      },
      "text/plain": [
       "  0%|          | 0/9 [00:00<?, ?it/s]"
      ]
     },
     "metadata": {},
     "output_type": "display_data"
    },
    {
     "name": "stdout",
     "output_type": "stream",
     "text": [
      "      2        \u001b[36m3.5367\u001b[0m        \u001b[32m3.3252\u001b[0m  1.6764\n"
     ]
    },
    {
     "data": {
      "application/vnd.jupyter.widget-view+json": {
       "model_id": "6f324c9b7fc44c3a959a4dc3e8337eb4",
       "version_major": 2,
       "version_minor": 0
      },
      "text/plain": [
       "  0%|          | 0/9 [00:00<?, ?it/s]"
      ]
     },
     "metadata": {},
     "output_type": "display_data"
    },
    {
     "name": "stdout",
     "output_type": "stream",
     "text": [
      "      3        \u001b[36m3.3114\u001b[0m        \u001b[32m3.2929\u001b[0m  1.6822\n"
     ]
    },
    {
     "data": {
      "application/vnd.jupyter.widget-view+json": {
       "model_id": "3e1b5d818ffa4f2fa3f038aea5e19b94",
       "version_major": 2,
       "version_minor": 0
      },
      "text/plain": [
       "  0%|          | 0/9 [00:00<?, ?it/s]"
      ]
     },
     "metadata": {},
     "output_type": "display_data"
    },
    {
     "name": "stdout",
     "output_type": "stream",
     "text": [
      "      4        \u001b[36m3.1581\u001b[0m        \u001b[32m3.2910\u001b[0m  1.7001\n"
     ]
    },
    {
     "data": {
      "application/vnd.jupyter.widget-view+json": {
       "model_id": "6e9c981ef65b4ee19fa845f3c9ca1f2d",
       "version_major": 2,
       "version_minor": 0
      },
      "text/plain": [
       "  0%|          | 0/9 [00:00<?, ?it/s]"
      ]
     },
     "metadata": {},
     "output_type": "display_data"
    },
    {
     "name": "stdout",
     "output_type": "stream",
     "text": [
      "      5        \u001b[36m3.0419\u001b[0m        3.3066  1.7242\n"
     ]
    },
    {
     "data": {
      "application/vnd.jupyter.widget-view+json": {
       "model_id": "887f221100f0430c82ebdfe6f0642b22",
       "version_major": 2,
       "version_minor": 0
      },
      "text/plain": [
       "  0%|          | 0/9 [00:00<?, ?it/s]"
      ]
     },
     "metadata": {},
     "output_type": "display_data"
    },
    {
     "name": "stdout",
     "output_type": "stream",
     "text": [
      "      6        \u001b[36m2.9457\u001b[0m        3.3215  1.7265\n"
     ]
    },
    {
     "data": {
      "application/vnd.jupyter.widget-view+json": {
       "model_id": "6cf0a7bc149c43dea4d4fbfd943676f0",
       "version_major": 2,
       "version_minor": 0
      },
      "text/plain": [
       "  0%|          | 0/9 [00:00<?, ?it/s]"
      ]
     },
     "metadata": {},
     "output_type": "display_data"
    },
    {
     "name": "stdout",
     "output_type": "stream",
     "text": [
      "      7        \u001b[36m2.8628\u001b[0m        3.3420  1.7405\n"
     ]
    },
    {
     "data": {
      "application/vnd.jupyter.widget-view+json": {
       "model_id": "474dea30dc9343b1aae21af5360df40a",
       "version_major": 2,
       "version_minor": 0
      },
      "text/plain": [
       "  0%|          | 0/9 [00:00<?, ?it/s]"
      ]
     },
     "metadata": {},
     "output_type": "display_data"
    },
    {
     "name": "stdout",
     "output_type": "stream",
     "text": [
      "      8        \u001b[36m2.7939\u001b[0m        3.3734  1.7406\n"
     ]
    },
    {
     "data": {
      "application/vnd.jupyter.widget-view+json": {
       "model_id": "1afdc6dbf6e84ad7b8b479264a9c8dfb",
       "version_major": 2,
       "version_minor": 0
      },
      "text/plain": [
       "  0%|          | 0/9 [00:00<?, ?it/s]"
      ]
     },
     "metadata": {},
     "output_type": "display_data"
    },
    {
     "name": "stdout",
     "output_type": "stream",
     "text": [
      "Stopping since valid_loss has not improved in the last 5 epochs.\n",
      "[CV 2/2] END optimizer=<class 'torch.optim.sgd.SGD'>, optimizer__lr=0.01;, score=(train=0.388, test=0.324) total time=  16.2s\n"
     ]
    },
    {
     "data": {
      "application/vnd.jupyter.widget-view+json": {
       "model_id": "ddc85ce37b4042ab975b98d23b0883e6",
       "version_major": 2,
       "version_minor": 0
      },
      "text/plain": [
       "  0%|          | 0/9 [00:00<?, ?it/s]"
      ]
     },
     "metadata": {},
     "output_type": "display_data"
    },
    {
     "name": "stdout",
     "output_type": "stream",
     "text": [
      "  epoch    train_loss    valid_loss     dur\n",
      "-------  ------------  ------------  ------\n",
      "      1        \u001b[36m3.8563\u001b[0m        \u001b[32m2.3761\u001b[0m  1.7190\n"
     ]
    },
    {
     "data": {
      "application/vnd.jupyter.widget-view+json": {
       "model_id": "74b6fcdd1de744b0bf4ed1c280f8133d",
       "version_major": 2,
       "version_minor": 0
      },
      "text/plain": [
       "  0%|          | 0/9 [00:00<?, ?it/s]"
      ]
     },
     "metadata": {},
     "output_type": "display_data"
    },
    {
     "name": "stdout",
     "output_type": "stream",
     "text": [
      "      2        \u001b[36m3.2603\u001b[0m        \u001b[32m2.1370\u001b[0m  1.7388\n"
     ]
    },
    {
     "data": {
      "application/vnd.jupyter.widget-view+json": {
       "model_id": "b048f958702a432cb4a13477559fd0e8",
       "version_major": 2,
       "version_minor": 0
      },
      "text/plain": [
       "  0%|          | 0/9 [00:00<?, ?it/s]"
      ]
     },
     "metadata": {},
     "output_type": "display_data"
    },
    {
     "name": "stdout",
     "output_type": "stream",
     "text": [
      "      3        \u001b[36m2.8832\u001b[0m        2.2915  1.7656\n"
     ]
    },
    {
     "data": {
      "application/vnd.jupyter.widget-view+json": {
       "model_id": "1019863759be427990cdd59f861ca564",
       "version_major": 2,
       "version_minor": 0
      },
      "text/plain": [
       "  0%|          | 0/9 [00:00<?, ?it/s]"
      ]
     },
     "metadata": {},
     "output_type": "display_data"
    },
    {
     "name": "stdout",
     "output_type": "stream",
     "text": [
      "      4        \u001b[36m2.6715\u001b[0m        2.6231  1.7631\n"
     ]
    },
    {
     "data": {
      "application/vnd.jupyter.widget-view+json": {
       "model_id": "e113c5d7ecac4ea3b8e49baeb553fde6",
       "version_major": 2,
       "version_minor": 0
      },
      "text/plain": [
       "  0%|          | 0/9 [00:00<?, ?it/s]"
      ]
     },
     "metadata": {},
     "output_type": "display_data"
    },
    {
     "name": "stdout",
     "output_type": "stream",
     "text": [
      "      5        \u001b[36m2.5450\u001b[0m        2.8296  1.7316\n"
     ]
    },
    {
     "data": {
      "application/vnd.jupyter.widget-view+json": {
       "model_id": "a1665f4ecea94b44989240bb8f88e1c8",
       "version_major": 2,
       "version_minor": 0
      },
      "text/plain": [
       "  0%|          | 0/9 [00:00<?, ?it/s]"
      ]
     },
     "metadata": {},
     "output_type": "display_data"
    },
    {
     "name": "stdout",
     "output_type": "stream",
     "text": [
      "      6        \u001b[36m2.4210\u001b[0m        3.0620  1.7325\n"
     ]
    },
    {
     "data": {
      "application/vnd.jupyter.widget-view+json": {
       "model_id": "61500306559c491d92d1f6c32438b97a",
       "version_major": 2,
       "version_minor": 0
      },
      "text/plain": [
       "  0%|          | 0/9 [00:00<?, ?it/s]"
      ]
     },
     "metadata": {},
     "output_type": "display_data"
    },
    {
     "name": "stdout",
     "output_type": "stream",
     "text": [
      "Stopping since valid_loss has not improved in the last 5 epochs.\n",
      "[CV 1/2] END optimizer=<class 'torch.optim.sgd.SGD'>, optimizer__lr=0.1;, score=(train=0.382, test=0.116) total time=  13.1s\n"
     ]
    },
    {
     "data": {
      "application/vnd.jupyter.widget-view+json": {
       "model_id": "1814bee621ee458a8f88cdc60078ffac",
       "version_major": 2,
       "version_minor": 0
      },
      "text/plain": [
       "  0%|          | 0/9 [00:00<?, ?it/s]"
      ]
     },
     "metadata": {},
     "output_type": "display_data"
    },
    {
     "name": "stdout",
     "output_type": "stream",
     "text": [
      "  epoch    train_loss    valid_loss     dur\n",
      "-------  ------------  ------------  ------\n",
      "      1        \u001b[36m3.9372\u001b[0m        \u001b[32m3.6306\u001b[0m  1.7656\n"
     ]
    },
    {
     "data": {
      "application/vnd.jupyter.widget-view+json": {
       "model_id": "f89756c74d2649a69e197bb935b8118b",
       "version_major": 2,
       "version_minor": 0
      },
      "text/plain": [
       "  0%|          | 0/9 [00:00<?, ?it/s]"
      ]
     },
     "metadata": {},
     "output_type": "display_data"
    },
    {
     "name": "stdout",
     "output_type": "stream",
     "text": [
      "      2        \u001b[36m2.9488\u001b[0m        4.0138  1.7276\n"
     ]
    },
    {
     "data": {
      "application/vnd.jupyter.widget-view+json": {
       "model_id": "0875f94702254120805112e4d4c077f3",
       "version_major": 2,
       "version_minor": 0
      },
      "text/plain": [
       "  0%|          | 0/9 [00:00<?, ?it/s]"
      ]
     },
     "metadata": {},
     "output_type": "display_data"
    },
    {
     "name": "stdout",
     "output_type": "stream",
     "text": [
      "      3        \u001b[36m2.6362\u001b[0m        4.3271  1.7424\n"
     ]
    },
    {
     "data": {
      "application/vnd.jupyter.widget-view+json": {
       "model_id": "ede6546f09904806aa8efc8c56fb5a68",
       "version_major": 2,
       "version_minor": 0
      },
      "text/plain": [
       "  0%|          | 0/9 [00:00<?, ?it/s]"
      ]
     },
     "metadata": {},
     "output_type": "display_data"
    },
    {
     "name": "stdout",
     "output_type": "stream",
     "text": [
      "      4        \u001b[36m2.4255\u001b[0m        4.5389  1.7525\n"
     ]
    },
    {
     "data": {
      "application/vnd.jupyter.widget-view+json": {
       "model_id": "c2a46edda9b54d7eaea79c469875f129",
       "version_major": 2,
       "version_minor": 0
      },
      "text/plain": [
       "  0%|          | 0/9 [00:00<?, ?it/s]"
      ]
     },
     "metadata": {},
     "output_type": "display_data"
    },
    {
     "name": "stdout",
     "output_type": "stream",
     "text": [
      "      5        \u001b[36m2.2501\u001b[0m        4.7751  1.7585\n"
     ]
    },
    {
     "data": {
      "application/vnd.jupyter.widget-view+json": {
       "model_id": "96b9583acef94ab2a2e3f47c78d2eb99",
       "version_major": 2,
       "version_minor": 0
      },
      "text/plain": [
       "  0%|          | 0/9 [00:00<?, ?it/s]"
      ]
     },
     "metadata": {},
     "output_type": "display_data"
    },
    {
     "name": "stdout",
     "output_type": "stream",
     "text": [
      "Stopping since valid_loss has not improved in the last 5 epochs.\n",
      "[CV 2/2] END optimizer=<class 'torch.optim.sgd.SGD'>, optimizer__lr=0.1;, score=(train=0.406, test=0.110) total time=  11.3s\n"
     ]
    },
    {
     "data": {
      "application/vnd.jupyter.widget-view+json": {
       "model_id": "86886fafcc5f4dcd944b6e005cf07537",
       "version_major": 2,
       "version_minor": 0
      },
      "text/plain": [
       "  0%|          | 0/9 [00:00<?, ?it/s]"
      ]
     },
     "metadata": {},
     "output_type": "display_data"
    },
    {
     "name": "stdout",
     "output_type": "stream",
     "text": [
      "  epoch    train_loss    valid_loss     dur\n",
      "-------  ------------  ------------  ------\n",
      "      1        \u001b[36m3.8054\u001b[0m        \u001b[32m1.4514\u001b[0m  1.6223\n"
     ]
    },
    {
     "data": {
      "application/vnd.jupyter.widget-view+json": {
       "model_id": "bfe0cee7942a4f189d7572f8de57b514",
       "version_major": 2,
       "version_minor": 0
      },
      "text/plain": [
       "  0%|          | 0/9 [00:00<?, ?it/s]"
      ]
     },
     "metadata": {},
     "output_type": "display_data"
    },
    {
     "name": "stdout",
     "output_type": "stream",
     "text": [
      "      2        \u001b[36m3.0981\u001b[0m        1.5998  1.7474\n"
     ]
    },
    {
     "data": {
      "application/vnd.jupyter.widget-view+json": {
       "model_id": "543086fce23949e1beccdc8e53dbf87e",
       "version_major": 2,
       "version_minor": 0
      },
      "text/plain": [
       "  0%|          | 0/9 [00:00<?, ?it/s]"
      ]
     },
     "metadata": {},
     "output_type": "display_data"
    },
    {
     "name": "stdout",
     "output_type": "stream",
     "text": [
      "      3        \u001b[36m2.8009\u001b[0m        1.7045  1.7676\n"
     ]
    },
    {
     "data": {
      "application/vnd.jupyter.widget-view+json": {
       "model_id": "b5301e2ce7e54f4ab872c5bdce018437",
       "version_major": 2,
       "version_minor": 0
      },
      "text/plain": [
       "  0%|          | 0/9 [00:00<?, ?it/s]"
      ]
     },
     "metadata": {},
     "output_type": "display_data"
    },
    {
     "name": "stdout",
     "output_type": "stream",
     "text": [
      "      4        \u001b[36m2.6029\u001b[0m        1.7580  1.7312\n"
     ]
    },
    {
     "data": {
      "application/vnd.jupyter.widget-view+json": {
       "model_id": "d904eab96f0c486e9833f951d83c3bda",
       "version_major": 2,
       "version_minor": 0
      },
      "text/plain": [
       "  0%|          | 0/9 [00:00<?, ?it/s]"
      ]
     },
     "metadata": {},
     "output_type": "display_data"
    },
    {
     "name": "stdout",
     "output_type": "stream",
     "text": [
      "      5        \u001b[36m2.4429\u001b[0m        1.7964  1.7336\n"
     ]
    },
    {
     "data": {
      "application/vnd.jupyter.widget-view+json": {
       "model_id": "3418537b3f5a43dea9eabd94bf3d7529",
       "version_major": 2,
       "version_minor": 0
      },
      "text/plain": [
       "  0%|          | 0/9 [00:00<?, ?it/s]"
      ]
     },
     "metadata": {},
     "output_type": "display_data"
    },
    {
     "name": "stdout",
     "output_type": "stream",
     "text": [
      "Stopping since valid_loss has not improved in the last 5 epochs.\n",
      "[CV 1/2] END optimizer=<class 'torch.optim.adam.Adam'>, optimizer__lr=0.001;, score=(train=0.463, test=0.237) total time=  11.2s\n"
     ]
    },
    {
     "data": {
      "application/vnd.jupyter.widget-view+json": {
       "model_id": "72ad37c29ed04bdda49c38ae4a9a5037",
       "version_major": 2,
       "version_minor": 0
      },
      "text/plain": [
       "  0%|          | 0/9 [00:00<?, ?it/s]"
      ]
     },
     "metadata": {},
     "output_type": "display_data"
    },
    {
     "name": "stdout",
     "output_type": "stream",
     "text": [
      "  epoch    train_loss    valid_loss     dur\n",
      "-------  ------------  ------------  ------\n",
      "      1        \u001b[36m3.9200\u001b[0m        \u001b[32m3.3403\u001b[0m  1.7588\n"
     ]
    },
    {
     "data": {
      "application/vnd.jupyter.widget-view+json": {
       "model_id": "5f29d7576ab74ce0b3390df1648b65fe",
       "version_major": 2,
       "version_minor": 0
      },
      "text/plain": [
       "  0%|          | 0/9 [00:00<?, ?it/s]"
      ]
     },
     "metadata": {},
     "output_type": "display_data"
    },
    {
     "name": "stdout",
     "output_type": "stream",
     "text": [
      "      2        \u001b[36m3.2050\u001b[0m        \u001b[32m3.2399\u001b[0m  1.7118\n"
     ]
    },
    {
     "data": {
      "application/vnd.jupyter.widget-view+json": {
       "model_id": "86debce164c943cca90caf2843dba293",
       "version_major": 2,
       "version_minor": 0
      },
      "text/plain": [
       "  0%|          | 0/9 [00:00<?, ?it/s]"
      ]
     },
     "metadata": {},
     "output_type": "display_data"
    },
    {
     "name": "stdout",
     "output_type": "stream",
     "text": [
      "      3        \u001b[36m2.8544\u001b[0m        3.2524  1.7304\n"
     ]
    },
    {
     "data": {
      "application/vnd.jupyter.widget-view+json": {
       "model_id": "6f15d88eac584c3f83c5c7ad43633d61",
       "version_major": 2,
       "version_minor": 0
      },
      "text/plain": [
       "  0%|          | 0/9 [00:00<?, ?it/s]"
      ]
     },
     "metadata": {},
     "output_type": "display_data"
    },
    {
     "name": "stdout",
     "output_type": "stream",
     "text": [
      "      4        \u001b[36m2.6132\u001b[0m        3.3187  1.7324\n"
     ]
    },
    {
     "data": {
      "application/vnd.jupyter.widget-view+json": {
       "model_id": "7512b3d5756f49b0b9c8d52961b7fc89",
       "version_major": 2,
       "version_minor": 0
      },
      "text/plain": [
       "  0%|          | 0/9 [00:00<?, ?it/s]"
      ]
     },
     "metadata": {},
     "output_type": "display_data"
    },
    {
     "name": "stdout",
     "output_type": "stream",
     "text": [
      "      5        \u001b[36m2.4172\u001b[0m        3.4015  1.7279\n"
     ]
    },
    {
     "data": {
      "application/vnd.jupyter.widget-view+json": {
       "model_id": "71e0b8d2c1fa49cd832a601982e3a7a9",
       "version_major": 2,
       "version_minor": 0
      },
      "text/plain": [
       "  0%|          | 0/9 [00:00<?, ?it/s]"
      ]
     },
     "metadata": {},
     "output_type": "display_data"
    },
    {
     "name": "stdout",
     "output_type": "stream",
     "text": [
      "      6        \u001b[36m2.2549\u001b[0m        3.5053  1.7327\n"
     ]
    },
    {
     "data": {
      "application/vnd.jupyter.widget-view+json": {
       "model_id": "83bc1f8ccc8543c3a613ec5ef1471f88",
       "version_major": 2,
       "version_minor": 0
      },
      "text/plain": [
       "  0%|          | 0/9 [00:00<?, ?it/s]"
      ]
     },
     "metadata": {},
     "output_type": "display_data"
    },
    {
     "name": "stdout",
     "output_type": "stream",
     "text": [
      "Stopping since valid_loss has not improved in the last 5 epochs.\n",
      "[CV 2/2] END optimizer=<class 'torch.optim.adam.Adam'>, optimizer__lr=0.001;, score=(train=0.441, test=0.318) total time=  13.1s\n"
     ]
    },
    {
     "data": {
      "application/vnd.jupyter.widget-view+json": {
       "model_id": "bc61aa79218640c095a98a78ececa168",
       "version_major": 2,
       "version_minor": 0
      },
      "text/plain": [
       "  0%|          | 0/9 [00:00<?, ?it/s]"
      ]
     },
     "metadata": {},
     "output_type": "display_data"
    },
    {
     "name": "stdout",
     "output_type": "stream",
     "text": [
      "  epoch    train_loss    valid_loss     dur\n",
      "-------  ------------  ------------  ------\n",
      "      1        \u001b[36m4.5646\u001b[0m        \u001b[32m4.5616\u001b[0m  1.7505\n"
     ]
    },
    {
     "data": {
      "application/vnd.jupyter.widget-view+json": {
       "model_id": "7d0dcd554acd485b8397b51349ade626",
       "version_major": 2,
       "version_minor": 0
      },
      "text/plain": [
       "  0%|          | 0/9 [00:00<?, ?it/s]"
      ]
     },
     "metadata": {},
     "output_type": "display_data"
    },
    {
     "name": "stdout",
     "output_type": "stream",
     "text": [
      "      2        \u001b[36m2.9915\u001b[0m        4.6950  1.6802\n"
     ]
    },
    {
     "data": {
      "application/vnd.jupyter.widget-view+json": {
       "model_id": "3391f81dda6a40b3857c775d91e8f991",
       "version_major": 2,
       "version_minor": 0
      },
      "text/plain": [
       "  0%|          | 0/9 [00:00<?, ?it/s]"
      ]
     },
     "metadata": {},
     "output_type": "display_data"
    },
    {
     "name": "stdout",
     "output_type": "stream",
     "text": [
      "      3        \u001b[36m2.3730\u001b[0m        4.6187  1.7499\n"
     ]
    },
    {
     "data": {
      "application/vnd.jupyter.widget-view+json": {
       "model_id": "b1e05b9f01034aab9f448f84e4547187",
       "version_major": 2,
       "version_minor": 0
      },
      "text/plain": [
       "  0%|          | 0/9 [00:00<?, ?it/s]"
      ]
     },
     "metadata": {},
     "output_type": "display_data"
    },
    {
     "name": "stdout",
     "output_type": "stream",
     "text": [
      "      4        \u001b[36m1.8054\u001b[0m        5.1474  1.8020\n"
     ]
    },
    {
     "data": {
      "application/vnd.jupyter.widget-view+json": {
       "model_id": "16281a9d16844b38ae4114df5df0234a",
       "version_major": 2,
       "version_minor": 0
      },
      "text/plain": [
       "  0%|          | 0/9 [00:00<?, ?it/s]"
      ]
     },
     "metadata": {},
     "output_type": "display_data"
    },
    {
     "name": "stdout",
     "output_type": "stream",
     "text": [
      "      5        \u001b[36m1.3741\u001b[0m        5.8939  1.7720\n"
     ]
    },
    {
     "data": {
      "application/vnd.jupyter.widget-view+json": {
       "model_id": "0d4b65e496b342a0a5015eaa1ab3fcb6",
       "version_major": 2,
       "version_minor": 0
      },
      "text/plain": [
       "  0%|          | 0/9 [00:00<?, ?it/s]"
      ]
     },
     "metadata": {},
     "output_type": "display_data"
    },
    {
     "name": "stdout",
     "output_type": "stream",
     "text": [
      "Stopping since valid_loss has not improved in the last 5 epochs.\n",
      "[CV 1/2] END optimizer=<class 'torch.optim.adam.Adam'>, optimizer__lr=0.01;, score=(train=0.514, test=0.012) total time=  11.5s\n"
     ]
    },
    {
     "data": {
      "application/vnd.jupyter.widget-view+json": {
       "model_id": "be9dda4e215e41b98a0322ec3150b8a7",
       "version_major": 2,
       "version_minor": 0
      },
      "text/plain": [
       "  0%|          | 0/9 [00:00<?, ?it/s]"
      ]
     },
     "metadata": {},
     "output_type": "display_data"
    },
    {
     "name": "stdout",
     "output_type": "stream",
     "text": [
      "  epoch    train_loss    valid_loss     dur\n",
      "-------  ------------  ------------  ------\n",
      "      1        \u001b[36m4.1497\u001b[0m        \u001b[32m4.1116\u001b[0m  1.7562\n"
     ]
    },
    {
     "data": {
      "application/vnd.jupyter.widget-view+json": {
       "model_id": "38876d2db8994f0db18ee600de49de9b",
       "version_major": 2,
       "version_minor": 0
      },
      "text/plain": [
       "  0%|          | 0/9 [00:00<?, ?it/s]"
      ]
     },
     "metadata": {},
     "output_type": "display_data"
    },
    {
     "name": "stdout",
     "output_type": "stream",
     "text": [
      "      2        \u001b[36m2.3653\u001b[0m        4.5510  1.7342\n"
     ]
    },
    {
     "data": {
      "application/vnd.jupyter.widget-view+json": {
       "model_id": "71d730c66dc44b82af03014354ed53f6",
       "version_major": 2,
       "version_minor": 0
      },
      "text/plain": [
       "  0%|          | 0/9 [00:00<?, ?it/s]"
      ]
     },
     "metadata": {},
     "output_type": "display_data"
    },
    {
     "name": "stdout",
     "output_type": "stream",
     "text": [
      "      3        \u001b[36m1.8244\u001b[0m        5.1226  1.8012\n"
     ]
    },
    {
     "data": {
      "application/vnd.jupyter.widget-view+json": {
       "model_id": "9ba9dd6f41fd4c73aca1cc0e97d07d30",
       "version_major": 2,
       "version_minor": 0
      },
      "text/plain": [
       "  0%|          | 0/9 [00:00<?, ?it/s]"
      ]
     },
     "metadata": {},
     "output_type": "display_data"
    },
    {
     "name": "stdout",
     "output_type": "stream",
     "text": [
      "      4        \u001b[36m1.3926\u001b[0m        5.8125  1.7673\n"
     ]
    },
    {
     "data": {
      "application/vnd.jupyter.widget-view+json": {
       "model_id": "8d5a8dc1c2be49ecbce4b100c7d96487",
       "version_major": 2,
       "version_minor": 0
      },
      "text/plain": [
       "  0%|          | 0/9 [00:00<?, ?it/s]"
      ]
     },
     "metadata": {},
     "output_type": "display_data"
    },
    {
     "name": "stdout",
     "output_type": "stream",
     "text": [
      "      5        \u001b[36m1.1087\u001b[0m        6.8285  1.7712\n"
     ]
    },
    {
     "data": {
      "application/vnd.jupyter.widget-view+json": {
       "model_id": "1ef6fba317394b729678f904932d1161",
       "version_major": 2,
       "version_minor": 0
      },
      "text/plain": [
       "  0%|          | 0/9 [00:00<?, ?it/s]"
      ]
     },
     "metadata": {},
     "output_type": "display_data"
    },
    {
     "name": "stdout",
     "output_type": "stream",
     "text": [
      "Stopping since valid_loss has not improved in the last 5 epochs.\n",
      "[CV 2/2] END optimizer=<class 'torch.optim.adam.Adam'>, optimizer__lr=0.01;, score=(train=0.529, test=0.020) total time=  11.4s\n"
     ]
    },
    {
     "data": {
      "application/vnd.jupyter.widget-view+json": {
       "model_id": "f7bdc4b10ee442588a614f7eaddaf084",
       "version_major": 2,
       "version_minor": 0
      },
      "text/plain": [
       "  0%|          | 0/9 [00:00<?, ?it/s]"
      ]
     },
     "metadata": {},
     "output_type": "display_data"
    },
    {
     "name": "stdout",
     "output_type": "stream",
     "text": [
      "  epoch    train_loss    valid_loss     dur\n",
      "-------  ------------  ------------  ------\n",
      "      1        \u001b[36m8.2147\u001b[0m      \u001b[32m261.1404\u001b[0m  1.7300\n"
     ]
    },
    {
     "data": {
      "application/vnd.jupyter.widget-view+json": {
       "model_id": "0e0fefe2ea6e48298b57f070934ab0c6",
       "version_major": 2,
       "version_minor": 0
      },
      "text/plain": [
       "  0%|          | 0/9 [00:00<?, ?it/s]"
      ]
     },
     "metadata": {},
     "output_type": "display_data"
    },
    {
     "name": "stdout",
     "output_type": "stream",
     "text": [
      "      2        \u001b[36m4.3805\u001b[0m      799.7221  1.6534\n"
     ]
    },
    {
     "data": {
      "application/vnd.jupyter.widget-view+json": {
       "model_id": "6a67dbc31258405d9ca692b21a0ce1ef",
       "version_major": 2,
       "version_minor": 0
      },
      "text/plain": [
       "  0%|          | 0/9 [00:00<?, ?it/s]"
      ]
     },
     "metadata": {},
     "output_type": "display_data"
    },
    {
     "name": "stdout",
     "output_type": "stream",
     "text": [
      "      3        \u001b[36m4.1273\u001b[0m      366.4548  1.6569\n"
     ]
    },
    {
     "data": {
      "application/vnd.jupyter.widget-view+json": {
       "model_id": "0e5ba02ce7324ae4b13c091bea5c8945",
       "version_major": 2,
       "version_minor": 0
      },
      "text/plain": [
       "  0%|          | 0/9 [00:00<?, ?it/s]"
      ]
     },
     "metadata": {},
     "output_type": "display_data"
    },
    {
     "name": "stdout",
     "output_type": "stream",
     "text": [
      "      4        \u001b[36m3.9824\u001b[0m      \u001b[32m250.1446\u001b[0m  1.6738\n"
     ]
    },
    {
     "data": {
      "application/vnd.jupyter.widget-view+json": {
       "model_id": "4b61a6dd0b60447aabb4b080ac2c07b6",
       "version_major": 2,
       "version_minor": 0
      },
      "text/plain": [
       "  0%|          | 0/9 [00:00<?, ?it/s]"
      ]
     },
     "metadata": {},
     "output_type": "display_data"
    },
    {
     "name": "stdout",
     "output_type": "stream",
     "text": [
      "      5        \u001b[36m3.9013\u001b[0m       \u001b[32m52.1830\u001b[0m  1.7220\n"
     ]
    },
    {
     "data": {
      "application/vnd.jupyter.widget-view+json": {
       "model_id": "bdf399e13c4040808e3a449b832ed596",
       "version_major": 2,
       "version_minor": 0
      },
      "text/plain": [
       "  0%|          | 0/9 [00:00<?, ?it/s]"
      ]
     },
     "metadata": {},
     "output_type": "display_data"
    },
    {
     "name": "stdout",
     "output_type": "stream",
     "text": [
      "      6        \u001b[36m3.8555\u001b[0m        \u001b[32m9.9704\u001b[0m  1.6782\n"
     ]
    },
    {
     "data": {
      "application/vnd.jupyter.widget-view+json": {
       "model_id": "8fcefef230114524bdd3a5c744066e7f",
       "version_major": 2,
       "version_minor": 0
      },
      "text/plain": [
       "  0%|          | 0/9 [00:00<?, ?it/s]"
      ]
     },
     "metadata": {},
     "output_type": "display_data"
    },
    {
     "name": "stdout",
     "output_type": "stream",
     "text": [
      "      7        \u001b[36m3.8294\u001b[0m        \u001b[32m7.6534\u001b[0m  1.6700\n"
     ]
    },
    {
     "data": {
      "application/vnd.jupyter.widget-view+json": {
       "model_id": "4ea4d9eea8334fe08f59db842712b761",
       "version_major": 2,
       "version_minor": 0
      },
      "text/plain": [
       "  0%|          | 0/9 [00:00<?, ?it/s]"
      ]
     },
     "metadata": {},
     "output_type": "display_data"
    },
    {
     "name": "stdout",
     "output_type": "stream",
     "text": [
      "      8        \u001b[36m3.8144\u001b[0m        7.8357  1.6561\n"
     ]
    },
    {
     "data": {
      "application/vnd.jupyter.widget-view+json": {
       "model_id": "285200e70b74463fa664ddec964269c9",
       "version_major": 2,
       "version_minor": 0
      },
      "text/plain": [
       "  0%|          | 0/9 [00:00<?, ?it/s]"
      ]
     },
     "metadata": {},
     "output_type": "display_data"
    },
    {
     "name": "stdout",
     "output_type": "stream",
     "text": [
      "      9        \u001b[36m3.8054\u001b[0m        7.9890  1.6602\n"
     ]
    },
    {
     "data": {
      "application/vnd.jupyter.widget-view+json": {
       "model_id": "6eb6169e121f4e8d8ba4c0a66a438653",
       "version_major": 2,
       "version_minor": 0
      },
      "text/plain": [
       "  0%|          | 0/9 [00:00<?, ?it/s]"
      ]
     },
     "metadata": {},
     "output_type": "display_data"
    },
    {
     "name": "stdout",
     "output_type": "stream",
     "text": [
      "     10        \u001b[36m3.7997\u001b[0m        8.1216  1.6947\n"
     ]
    },
    {
     "data": {
      "application/vnd.jupyter.widget-view+json": {
       "model_id": "a3ed9c9a1eea4420998272d1e38de8b8",
       "version_major": 2,
       "version_minor": 0
      },
      "text/plain": [
       "  0%|          | 0/9 [00:00<?, ?it/s]"
      ]
     },
     "metadata": {},
     "output_type": "display_data"
    },
    {
     "name": "stdout",
     "output_type": "stream",
     "text": [
      "     11        \u001b[36m3.7957\u001b[0m        8.2393  1.5554\n"
     ]
    },
    {
     "data": {
      "application/vnd.jupyter.widget-view+json": {
       "model_id": "9e411297a1eb4ef0acc887267c71580e",
       "version_major": 2,
       "version_minor": 0
      },
      "text/plain": [
       "  0%|          | 0/9 [00:00<?, ?it/s]"
      ]
     },
     "metadata": {},
     "output_type": "display_data"
    },
    {
     "name": "stdout",
     "output_type": "stream",
     "text": [
      "Stopping since valid_loss has not improved in the last 5 epochs.\n",
      "[CV 1/2] END optimizer=<class 'torch.optim.adam.Adam'>, optimizer__lr=0.1;, score=(train=0.020, test=0.000) total time=  20.8s\n"
     ]
    },
    {
     "data": {
      "application/vnd.jupyter.widget-view+json": {
       "model_id": "36f9e524762c4d7a9ce511652ce92b32",
       "version_major": 2,
       "version_minor": 0
      },
      "text/plain": [
       "  0%|          | 0/9 [00:00<?, ?it/s]"
      ]
     },
     "metadata": {},
     "output_type": "display_data"
    },
    {
     "name": "stdout",
     "output_type": "stream",
     "text": [
      "  epoch    train_loss    valid_loss     dur\n",
      "-------  ------------  ------------  ------\n",
      "      1       \u001b[36m10.8964\u001b[0m        \u001b[32m4.9873\u001b[0m  1.7706\n"
     ]
    },
    {
     "data": {
      "application/vnd.jupyter.widget-view+json": {
       "model_id": "2c07e92e7fc54036aa4f031f0c7a4b9b",
       "version_major": 2,
       "version_minor": 0
      },
      "text/plain": [
       "  0%|          | 0/9 [00:00<?, ?it/s]"
      ]
     },
     "metadata": {},
     "output_type": "display_data"
    },
    {
     "name": "stdout",
     "output_type": "stream",
     "text": [
      "      2        \u001b[36m4.4061\u001b[0m        5.4274  1.6897\n"
     ]
    },
    {
     "data": {
      "application/vnd.jupyter.widget-view+json": {
       "model_id": "238ac93cf6b74125a72afc534b9f59f2",
       "version_major": 2,
       "version_minor": 0
      },
      "text/plain": [
       "  0%|          | 0/9 [00:00<?, ?it/s]"
      ]
     },
     "metadata": {},
     "output_type": "display_data"
    },
    {
     "name": "stdout",
     "output_type": "stream",
     "text": [
      "      3        \u001b[36m4.1345\u001b[0m       18.2033  1.7183\n"
     ]
    },
    {
     "data": {
      "application/vnd.jupyter.widget-view+json": {
       "model_id": "75ca98f1fa134c63828bc2e39dad8f45",
       "version_major": 2,
       "version_minor": 0
      },
      "text/plain": [
       "  0%|          | 0/9 [00:00<?, ?it/s]"
      ]
     },
     "metadata": {},
     "output_type": "display_data"
    },
    {
     "name": "stdout",
     "output_type": "stream",
     "text": [
      "      4        \u001b[36m3.9755\u001b[0m       20.9819  1.7366\n"
     ]
    },
    {
     "data": {
      "application/vnd.jupyter.widget-view+json": {
       "model_id": "462eec45c27149ae842408dd882a58fa",
       "version_major": 2,
       "version_minor": 0
      },
      "text/plain": [
       "  0%|          | 0/9 [00:00<?, ?it/s]"
      ]
     },
     "metadata": {},
     "output_type": "display_data"
    },
    {
     "name": "stdout",
     "output_type": "stream",
     "text": [
      "      5        4.1558        6.6974  1.9712\n"
     ]
    },
    {
     "data": {
      "application/vnd.jupyter.widget-view+json": {
       "model_id": "8619ad6893cc4f91af4b4651f43c5e23",
       "version_major": 2,
       "version_minor": 0
      },
      "text/plain": [
       "  0%|          | 0/9 [00:00<?, ?it/s]"
      ]
     },
     "metadata": {},
     "output_type": "display_data"
    },
    {
     "name": "stdout",
     "output_type": "stream",
     "text": [
      "Stopping since valid_loss has not improved in the last 5 epochs.\n",
      "[CV 2/2] END optimizer=<class 'torch.optim.adam.Adam'>, optimizer__lr=0.1;, score=(train=0.020, test=0.000) total time=  11.6s\n"
     ]
    },
    {
     "data": {
      "application/vnd.jupyter.widget-view+json": {
       "model_id": "b61b1935819d411784bcec2cd6dc5448",
       "version_major": 2,
       "version_minor": 0
      },
      "text/plain": [
       "  0%|          | 0/9 [00:00<?, ?it/s]"
      ]
     },
     "metadata": {},
     "output_type": "display_data"
    },
    {
     "name": "stdout",
     "output_type": "stream",
     "text": [
      "  epoch    train_loss    valid_loss     dur\n",
      "-------  ------------  ------------  ------\n",
      "      1        \u001b[36m3.7578\u001b[0m        \u001b[32m1.3471\u001b[0m  1.8346\n"
     ]
    },
    {
     "data": {
      "application/vnd.jupyter.widget-view+json": {
       "model_id": "fcdd3a6fb7ad418ea7c2c22dcbc5a78f",
       "version_major": 2,
       "version_minor": 0
      },
      "text/plain": [
       "  0%|          | 0/9 [00:00<?, ?it/s]"
      ]
     },
     "metadata": {},
     "output_type": "display_data"
    },
    {
     "name": "stdout",
     "output_type": "stream",
     "text": [
      "      2        \u001b[36m3.4638\u001b[0m        1.4827  1.8026\n"
     ]
    },
    {
     "data": {
      "application/vnd.jupyter.widget-view+json": {
       "model_id": "76f31a422fc04f8794fff1948d0bc1df",
       "version_major": 2,
       "version_minor": 0
      },
      "text/plain": [
       "  0%|          | 0/9 [00:00<?, ?it/s]"
      ]
     },
     "metadata": {},
     "output_type": "display_data"
    },
    {
     "name": "stdout",
     "output_type": "stream",
     "text": [
      "      3        \u001b[36m3.3280\u001b[0m        1.5659  1.8415\n"
     ]
    },
    {
     "data": {
      "application/vnd.jupyter.widget-view+json": {
       "model_id": "08fc24b3c4e04156ab22afde626a80ae",
       "version_major": 2,
       "version_minor": 0
      },
      "text/plain": [
       "  0%|          | 0/9 [00:00<?, ?it/s]"
      ]
     },
     "metadata": {},
     "output_type": "display_data"
    },
    {
     "name": "stdout",
     "output_type": "stream",
     "text": [
      "      4        \u001b[36m3.2318\u001b[0m        1.6101  1.8462\n"
     ]
    },
    {
     "data": {
      "application/vnd.jupyter.widget-view+json": {
       "model_id": "917644ce8c8d4942a315ac4572da3dfa",
       "version_major": 2,
       "version_minor": 0
      },
      "text/plain": [
       "  0%|          | 0/9 [00:00<?, ?it/s]"
      ]
     },
     "metadata": {},
     "output_type": "display_data"
    },
    {
     "name": "stdout",
     "output_type": "stream",
     "text": [
      "      5        \u001b[36m3.1574\u001b[0m        1.6217  1.8270\n"
     ]
    },
    {
     "data": {
      "application/vnd.jupyter.widget-view+json": {
       "model_id": "7880dc4f26c741949895fab3d7d0606e",
       "version_major": 2,
       "version_minor": 0
      },
      "text/plain": [
       "  0%|          | 0/9 [00:00<?, ?it/s]"
      ]
     },
     "metadata": {},
     "output_type": "display_data"
    },
    {
     "name": "stdout",
     "output_type": "stream",
     "text": [
      "Stopping since valid_loss has not improved in the last 5 epochs.\n",
      "[CV 1/2] END optimizer=<class 'torch.optim.adagrad.Adagrad'>, optimizer__lr=0.001;, score=(train=0.431, test=0.310) total time=  12.1s\n"
     ]
    },
    {
     "data": {
      "application/vnd.jupyter.widget-view+json": {
       "model_id": "fb877115def446c1ba53534324a2f3a3",
       "version_major": 2,
       "version_minor": 0
      },
      "text/plain": [
       "  0%|          | 0/9 [00:00<?, ?it/s]"
      ]
     },
     "metadata": {},
     "output_type": "display_data"
    },
    {
     "name": "stdout",
     "output_type": "stream",
     "text": [
      "  epoch    train_loss    valid_loss     dur\n",
      "-------  ------------  ------------  ------\n",
      "      1        \u001b[36m3.9619\u001b[0m        \u001b[32m3.4262\u001b[0m  1.8554\n"
     ]
    },
    {
     "data": {
      "application/vnd.jupyter.widget-view+json": {
       "model_id": "1db33fe599bd41908f66315b434557c8",
       "version_major": 2,
       "version_minor": 0
      },
      "text/plain": [
       "  0%|          | 0/9 [00:00<?, ?it/s]"
      ]
     },
     "metadata": {},
     "output_type": "display_data"
    },
    {
     "name": "stdout",
     "output_type": "stream",
     "text": [
      "      2        \u001b[36m3.5955\u001b[0m        \u001b[32m3.4187\u001b[0m  1.8887\n"
     ]
    },
    {
     "data": {
      "application/vnd.jupyter.widget-view+json": {
       "model_id": "7d0707605dc643f189a2330acc20c31c",
       "version_major": 2,
       "version_minor": 0
      },
      "text/plain": [
       "  0%|          | 0/9 [00:00<?, ?it/s]"
      ]
     },
     "metadata": {},
     "output_type": "display_data"
    },
    {
     "name": "stdout",
     "output_type": "stream",
     "text": [
      "      3        \u001b[36m3.4337\u001b[0m        \u001b[32m3.4026\u001b[0m  1.8323\n"
     ]
    },
    {
     "data": {
      "application/vnd.jupyter.widget-view+json": {
       "model_id": "a0dae2bcb104423ba65fbda83182f2fc",
       "version_major": 2,
       "version_minor": 0
      },
      "text/plain": [
       "  0%|          | 0/9 [00:00<?, ?it/s]"
      ]
     },
     "metadata": {},
     "output_type": "display_data"
    },
    {
     "name": "stdout",
     "output_type": "stream",
     "text": [
      "      4        \u001b[36m3.3189\u001b[0m        \u001b[32m3.3895\u001b[0m  3.8941\n"
     ]
    },
    {
     "data": {
      "application/vnd.jupyter.widget-view+json": {
       "model_id": "92d5ade06a41499daf38bce0db538726",
       "version_major": 2,
       "version_minor": 0
      },
      "text/plain": [
       "  0%|          | 0/9 [00:00<?, ?it/s]"
      ]
     },
     "metadata": {},
     "output_type": "display_data"
    },
    {
     "name": "stdout",
     "output_type": "stream",
     "text": [
      "      5        \u001b[36m3.2298\u001b[0m        \u001b[32m3.3782\u001b[0m  4.2386\n"
     ]
    },
    {
     "data": {
      "application/vnd.jupyter.widget-view+json": {
       "model_id": "ab7b2627357f46369b2ca5d6fa195fae",
       "version_major": 2,
       "version_minor": 0
      },
      "text/plain": [
       "  0%|          | 0/9 [00:00<?, ?it/s]"
      ]
     },
     "metadata": {},
     "output_type": "display_data"
    },
    {
     "name": "stdout",
     "output_type": "stream",
     "text": [
      "      6        \u001b[36m3.1580\u001b[0m        \u001b[32m3.3690\u001b[0m  4.4607\n"
     ]
    },
    {
     "data": {
      "application/vnd.jupyter.widget-view+json": {
       "model_id": "4f4f023a80964623b55d2e1f6b0fbb64",
       "version_major": 2,
       "version_minor": 0
      },
      "text/plain": [
       "  0%|          | 0/9 [00:00<?, ?it/s]"
      ]
     },
     "metadata": {},
     "output_type": "display_data"
    },
    {
     "name": "stdout",
     "output_type": "stream",
     "text": [
      "      7        \u001b[36m3.0974\u001b[0m        \u001b[32m3.3645\u001b[0m  4.3120\n"
     ]
    },
    {
     "data": {
      "application/vnd.jupyter.widget-view+json": {
       "model_id": "813cbd50b8184fd0b7f4c67b7fde7b88",
       "version_major": 2,
       "version_minor": 0
      },
      "text/plain": [
       "  0%|          | 0/9 [00:00<?, ?it/s]"
      ]
     },
     "metadata": {},
     "output_type": "display_data"
    },
    {
     "name": "stdout",
     "output_type": "stream",
     "text": [
      "      8        \u001b[36m3.0442\u001b[0m        3.3655  4.1091\n"
     ]
    },
    {
     "data": {
      "application/vnd.jupyter.widget-view+json": {
       "model_id": "3e1ef50b437c4b13ab3d30d5a31e543a",
       "version_major": 2,
       "version_minor": 0
      },
      "text/plain": [
       "  0%|          | 0/9 [00:00<?, ?it/s]"
      ]
     },
     "metadata": {},
     "output_type": "display_data"
    },
    {
     "name": "stdout",
     "output_type": "stream",
     "text": [
      "      9        \u001b[36m2.9973\u001b[0m        3.3665  4.1346\n"
     ]
    },
    {
     "data": {
      "application/vnd.jupyter.widget-view+json": {
       "model_id": "2afb8d72cbd647a68bad9f39cefb03bf",
       "version_major": 2,
       "version_minor": 0
      },
      "text/plain": [
       "  0%|          | 0/9 [00:00<?, ?it/s]"
      ]
     },
     "metadata": {},
     "output_type": "display_data"
    },
    {
     "name": "stdout",
     "output_type": "stream",
     "text": [
      "     10        \u001b[36m2.9553\u001b[0m        3.3673  4.1765\n"
     ]
    },
    {
     "data": {
      "application/vnd.jupyter.widget-view+json": {
       "model_id": "05c36779b9d94ca1927de336fbe2baa0",
       "version_major": 2,
       "version_minor": 0
      },
      "text/plain": [
       "  0%|          | 0/9 [00:00<?, ?it/s]"
      ]
     },
     "metadata": {},
     "output_type": "display_data"
    },
    {
     "name": "stdout",
     "output_type": "stream",
     "text": [
      "     11        \u001b[36m2.9180\u001b[0m        3.3663  4.0300\n"
     ]
    },
    {
     "data": {
      "application/vnd.jupyter.widget-view+json": {
       "model_id": "2142a584081e4ae18ecf25a82ca258d4",
       "version_major": 2,
       "version_minor": 0
      },
      "text/plain": [
       "  0%|          | 0/9 [00:00<?, ?it/s]"
      ]
     },
     "metadata": {},
     "output_type": "display_data"
    },
    {
     "name": "stdout",
     "output_type": "stream",
     "text": [
      "Stopping since valid_loss has not improved in the last 5 epochs.\n",
      "[CV 2/2] END optimizer=<class 'torch.optim.adagrad.Adagrad'>, optimizer__lr=0.001;, score=(train=0.359, test=0.394) total time=  45.2s\n"
     ]
    },
    {
     "data": {
      "application/vnd.jupyter.widget-view+json": {
       "model_id": "cd378ffbe68340a0a85e106be06ea6d2",
       "version_major": 2,
       "version_minor": 0
      },
      "text/plain": [
       "  0%|          | 0/9 [00:00<?, ?it/s]"
      ]
     },
     "metadata": {},
     "output_type": "display_data"
    },
    {
     "name": "stdout",
     "output_type": "stream",
     "text": [
      "  epoch    train_loss    valid_loss     dur\n",
      "-------  ------------  ------------  ------\n",
      "      1        \u001b[36m3.9255\u001b[0m        \u001b[32m1.5625\u001b[0m  4.1268\n"
     ]
    },
    {
     "data": {
      "application/vnd.jupyter.widget-view+json": {
       "model_id": "b81f6871a7f649a1a18239b89d8ac3ae",
       "version_major": 2,
       "version_minor": 0
      },
      "text/plain": [
       "  0%|          | 0/9 [00:00<?, ?it/s]"
      ]
     },
     "metadata": {},
     "output_type": "display_data"
    },
    {
     "name": "stdout",
     "output_type": "stream",
     "text": [
      "      2        \u001b[36m2.7894\u001b[0m        1.7637  4.0572\n"
     ]
    },
    {
     "data": {
      "application/vnd.jupyter.widget-view+json": {
       "model_id": "79f3a28e7adf4d4fa0d8d86b61d628b1",
       "version_major": 2,
       "version_minor": 0
      },
      "text/plain": [
       "  0%|          | 0/9 [00:00<?, ?it/s]"
      ]
     },
     "metadata": {},
     "output_type": "display_data"
    },
    {
     "name": "stdout",
     "output_type": "stream",
     "text": [
      "      3        \u001b[36m2.2803\u001b[0m        1.9189  4.1273\n"
     ]
    },
    {
     "data": {
      "application/vnd.jupyter.widget-view+json": {
       "model_id": "3c90bc61add14517a511f61bec85deb3",
       "version_major": 2,
       "version_minor": 0
      },
      "text/plain": [
       "  0%|          | 0/9 [00:00<?, ?it/s]"
      ]
     },
     "metadata": {},
     "output_type": "display_data"
    },
    {
     "name": "stdout",
     "output_type": "stream",
     "text": [
      "      4        \u001b[36m2.0429\u001b[0m        1.9674  4.0441\n"
     ]
    },
    {
     "data": {
      "application/vnd.jupyter.widget-view+json": {
       "model_id": "834b9e0a1f0a4b6a806b71eaa0b8c6ef",
       "version_major": 2,
       "version_minor": 0
      },
      "text/plain": [
       "  0%|          | 0/9 [00:00<?, ?it/s]"
      ]
     },
     "metadata": {},
     "output_type": "display_data"
    },
    {
     "name": "stdout",
     "output_type": "stream",
     "text": [
      "      5        \u001b[36m1.8547\u001b[0m        2.0336  4.2841\n"
     ]
    },
    {
     "data": {
      "application/vnd.jupyter.widget-view+json": {
       "model_id": "7cdd1a5916914e92b01f84f3f0f1632f",
       "version_major": 2,
       "version_minor": 0
      },
      "text/plain": [
       "  0%|          | 0/9 [00:00<?, ?it/s]"
      ]
     },
     "metadata": {},
     "output_type": "display_data"
    },
    {
     "name": "stdout",
     "output_type": "stream",
     "text": [
      "Stopping since valid_loss has not improved in the last 5 epochs.\n",
      "[CV 1/2] END optimizer=<class 'torch.optim.adagrad.Adagrad'>, optimizer__lr=0.01;, score=(train=0.545, test=0.186) total time=  26.7s\n"
     ]
    },
    {
     "data": {
      "application/vnd.jupyter.widget-view+json": {
       "model_id": "9104223635084577aa58ae3fabd063ac",
       "version_major": 2,
       "version_minor": 0
      },
      "text/plain": [
       "  0%|          | 0/9 [00:00<?, ?it/s]"
      ]
     },
     "metadata": {},
     "output_type": "display_data"
    },
    {
     "name": "stdout",
     "output_type": "stream",
     "text": [
      "  epoch    train_loss    valid_loss     dur\n",
      "-------  ------------  ------------  ------\n",
      "      1        \u001b[36m3.9966\u001b[0m        \u001b[32m3.4211\u001b[0m  4.1134\n"
     ]
    },
    {
     "data": {
      "application/vnd.jupyter.widget-view+json": {
       "model_id": "83bc69b966dd4732bad4f531325aff13",
       "version_major": 2,
       "version_minor": 0
      },
      "text/plain": [
       "  0%|          | 0/9 [00:00<?, ?it/s]"
      ]
     },
     "metadata": {},
     "output_type": "display_data"
    },
    {
     "name": "stdout",
     "output_type": "stream",
     "text": [
      "      2        \u001b[36m2.5916\u001b[0m        3.7048  4.1288\n"
     ]
    },
    {
     "data": {
      "application/vnd.jupyter.widget-view+json": {
       "model_id": "fd7d11ed85784a218aaa1e0503230a23",
       "version_major": 2,
       "version_minor": 0
      },
      "text/plain": [
       "  0%|          | 0/9 [00:00<?, ?it/s]"
      ]
     },
     "metadata": {},
     "output_type": "display_data"
    },
    {
     "name": "stdout",
     "output_type": "stream",
     "text": [
      "      3        \u001b[36m2.1544\u001b[0m        4.0455  4.2444\n"
     ]
    },
    {
     "data": {
      "application/vnd.jupyter.widget-view+json": {
       "model_id": "8afb0c0cb98e4a3e97fee2c7ff57dad7",
       "version_major": 2,
       "version_minor": 0
      },
      "text/plain": [
       "  0%|          | 0/9 [00:00<?, ?it/s]"
      ]
     },
     "metadata": {},
     "output_type": "display_data"
    },
    {
     "name": "stdout",
     "output_type": "stream",
     "text": [
      "      4        \u001b[36m1.9210\u001b[0m        4.0708  4.4674\n"
     ]
    },
    {
     "data": {
      "application/vnd.jupyter.widget-view+json": {
       "model_id": "7bb1f672c0bb4c56b63112679e7ea45e",
       "version_major": 2,
       "version_minor": 0
      },
      "text/plain": [
       "  0%|          | 0/9 [00:00<?, ?it/s]"
      ]
     },
     "metadata": {},
     "output_type": "display_data"
    },
    {
     "name": "stdout",
     "output_type": "stream",
     "text": [
      "      5        \u001b[36m1.7410\u001b[0m        4.2762  4.2804\n"
     ]
    },
    {
     "data": {
      "application/vnd.jupyter.widget-view+json": {
       "model_id": "d57d2aedc44f4be690145035750c2767",
       "version_major": 2,
       "version_minor": 0
      },
      "text/plain": [
       "  0%|          | 0/9 [00:00<?, ?it/s]"
      ]
     },
     "metadata": {},
     "output_type": "display_data"
    },
    {
     "name": "stdout",
     "output_type": "stream",
     "text": [
      "Stopping since valid_loss has not improved in the last 5 epochs.\n",
      "[CV 2/2] END optimizer=<class 'torch.optim.adagrad.Adagrad'>, optimizer__lr=0.01;, score=(train=0.475, test=0.225) total time=  27.4s\n"
     ]
    },
    {
     "data": {
      "application/vnd.jupyter.widget-view+json": {
       "model_id": "4032cb617e664ac180064d6fadc34aa0",
       "version_major": 2,
       "version_minor": 0
      },
      "text/plain": [
       "  0%|          | 0/9 [00:00<?, ?it/s]"
      ]
     },
     "metadata": {},
     "output_type": "display_data"
    },
    {
     "name": "stdout",
     "output_type": "stream",
     "text": [
      "  epoch    train_loss    valid_loss     dur\n",
      "-------  ------------  ------------  ------\n",
      "      1       \u001b[36m15.7062\u001b[0m        \u001b[32m5.3508\u001b[0m  4.3138\n"
     ]
    },
    {
     "data": {
      "application/vnd.jupyter.widget-view+json": {
       "model_id": "a6ec96981827461782480965e2681c7c",
       "version_major": 2,
       "version_minor": 0
      },
      "text/plain": [
       "  0%|          | 0/9 [00:00<?, ?it/s]"
      ]
     },
     "metadata": {},
     "output_type": "display_data"
    },
    {
     "name": "stdout",
     "output_type": "stream",
     "text": [
      "      2        \u001b[36m4.5771\u001b[0m        5.4741  4.1498\n"
     ]
    },
    {
     "data": {
      "application/vnd.jupyter.widget-view+json": {
       "model_id": "131c88d75f804ac0bddaa7bcfba4d659",
       "version_major": 2,
       "version_minor": 0
      },
      "text/plain": [
       "  0%|          | 0/9 [00:00<?, ?it/s]"
      ]
     },
     "metadata": {},
     "output_type": "display_data"
    },
    {
     "name": "stdout",
     "output_type": "stream",
     "text": [
      "      3        \u001b[36m4.4665\u001b[0m        5.5683  4.1694\n"
     ]
    },
    {
     "data": {
      "application/vnd.jupyter.widget-view+json": {
       "model_id": "3079ea821031419e99b4b39d12611567",
       "version_major": 2,
       "version_minor": 0
      },
      "text/plain": [
       "  0%|          | 0/9 [00:00<?, ?it/s]"
      ]
     },
     "metadata": {},
     "output_type": "display_data"
    },
    {
     "name": "stdout",
     "output_type": "stream",
     "text": [
      "      4        \u001b[36m4.3922\u001b[0m        5.6478  4.0770\n"
     ]
    },
    {
     "data": {
      "application/vnd.jupyter.widget-view+json": {
       "model_id": "3653a964c4ad4ca580d27fbddd77aef0",
       "version_major": 2,
       "version_minor": 0
      },
      "text/plain": [
       "  0%|          | 0/9 [00:00<?, ?it/s]"
      ]
     },
     "metadata": {},
     "output_type": "display_data"
    },
    {
     "name": "stdout",
     "output_type": "stream",
     "text": [
      "      5        \u001b[36m4.3361\u001b[0m        5.7177  4.0477\n"
     ]
    },
    {
     "data": {
      "application/vnd.jupyter.widget-view+json": {
       "model_id": "8ae224ba07484ff39d58a620b4842337",
       "version_major": 2,
       "version_minor": 0
      },
      "text/plain": [
       "  0%|          | 0/9 [00:00<?, ?it/s]"
      ]
     },
     "metadata": {},
     "output_type": "display_data"
    },
    {
     "name": "stdout",
     "output_type": "stream",
     "text": [
      "Stopping since valid_loss has not improved in the last 5 epochs.\n",
      "[CV 1/2] END optimizer=<class 'torch.optim.adagrad.Adagrad'>, optimizer__lr=0.1;, score=(train=0.020, test=0.000) total time=  27.2s\n"
     ]
    },
    {
     "data": {
      "application/vnd.jupyter.widget-view+json": {
       "model_id": "2b5926fb645e470c815810f860700879",
       "version_major": 2,
       "version_minor": 0
      },
      "text/plain": [
       "  0%|          | 0/9 [00:00<?, ?it/s]"
      ]
     },
     "metadata": {},
     "output_type": "display_data"
    },
    {
     "name": "stdout",
     "output_type": "stream",
     "text": [
      "  epoch    train_loss    valid_loss     dur\n",
      "-------  ------------  ------------  ------\n",
      "      1       \u001b[36m20.2851\u001b[0m        \u001b[32m4.8787\u001b[0m  4.0698\n"
     ]
    },
    {
     "data": {
      "application/vnd.jupyter.widget-view+json": {
       "model_id": "e998568b01c448d687ecfdbec5eda4fc",
       "version_major": 2,
       "version_minor": 0
      },
      "text/plain": [
       "  0%|          | 0/9 [00:00<?, ?it/s]"
      ]
     },
     "metadata": {},
     "output_type": "display_data"
    },
    {
     "name": "stdout",
     "output_type": "stream",
     "text": [
      "      2        \u001b[36m7.1201\u001b[0m        5.0072  4.2034\n"
     ]
    },
    {
     "data": {
      "application/vnd.jupyter.widget-view+json": {
       "model_id": "c60a3eeb0030408db347bf5405150830",
       "version_major": 2,
       "version_minor": 0
      },
      "text/plain": [
       "  0%|          | 0/9 [00:00<?, ?it/s]"
      ]
     },
     "metadata": {},
     "output_type": "display_data"
    },
    {
     "name": "stdout",
     "output_type": "stream",
     "text": [
      "      3        \u001b[36m4.5174\u001b[0m        5.1106  4.0150\n"
     ]
    },
    {
     "data": {
      "application/vnd.jupyter.widget-view+json": {
       "model_id": "cc40b7cf5f13431da7d1d5dfb0108dcb",
       "version_major": 2,
       "version_minor": 0
      },
      "text/plain": [
       "  0%|          | 0/9 [00:00<?, ?it/s]"
      ]
     },
     "metadata": {},
     "output_type": "display_data"
    },
    {
     "name": "stdout",
     "output_type": "stream",
     "text": [
      "      4        \u001b[36m4.4363\u001b[0m        5.1944  4.1046\n"
     ]
    },
    {
     "data": {
      "application/vnd.jupyter.widget-view+json": {
       "model_id": "35d95aae9a6045aba213f2f482451ffa",
       "version_major": 2,
       "version_minor": 0
      },
      "text/plain": [
       "  0%|          | 0/9 [00:00<?, ?it/s]"
      ]
     },
     "metadata": {},
     "output_type": "display_data"
    },
    {
     "name": "stdout",
     "output_type": "stream",
     "text": [
      "      5        \u001b[36m4.3752\u001b[0m        5.2667  4.0207\n"
     ]
    },
    {
     "data": {
      "application/vnd.jupyter.widget-view+json": {
       "model_id": "e681101af2bb4a8cbf86840e73d359e8",
       "version_major": 2,
       "version_minor": 0
      },
      "text/plain": [
       "  0%|          | 0/9 [00:00<?, ?it/s]"
      ]
     },
     "metadata": {},
     "output_type": "display_data"
    },
    {
     "name": "stdout",
     "output_type": "stream",
     "text": [
      "Stopping since valid_loss has not improved in the last 5 epochs.\n",
      "[CV 2/2] END optimizer=<class 'torch.optim.adagrad.Adagrad'>, optimizer__lr=0.1;, score=(train=0.020, test=0.000) total time=  26.5s\n"
     ]
    },
    {
     "data": {
      "text/html": [
       "<style>#sk-container-id-1 {\n",
       "  /* Definition of color scheme common for light and dark mode */\n",
       "  --sklearn-color-text: #000;\n",
       "  --sklearn-color-text-muted: #666;\n",
       "  --sklearn-color-line: gray;\n",
       "  /* Definition of color scheme for unfitted estimators */\n",
       "  --sklearn-color-unfitted-level-0: #fff5e6;\n",
       "  --sklearn-color-unfitted-level-1: #f6e4d2;\n",
       "  --sklearn-color-unfitted-level-2: #ffe0b3;\n",
       "  --sklearn-color-unfitted-level-3: chocolate;\n",
       "  /* Definition of color scheme for fitted estimators */\n",
       "  --sklearn-color-fitted-level-0: #f0f8ff;\n",
       "  --sklearn-color-fitted-level-1: #d4ebff;\n",
       "  --sklearn-color-fitted-level-2: #b3dbfd;\n",
       "  --sklearn-color-fitted-level-3: cornflowerblue;\n",
       "\n",
       "  /* Specific color for light theme */\n",
       "  --sklearn-color-text-on-default-background: var(--sg-text-color, var(--theme-code-foreground, var(--jp-content-font-color1, black)));\n",
       "  --sklearn-color-background: var(--sg-background-color, var(--theme-background, var(--jp-layout-color0, white)));\n",
       "  --sklearn-color-border-box: var(--sg-text-color, var(--theme-code-foreground, var(--jp-content-font-color1, black)));\n",
       "  --sklearn-color-icon: #696969;\n",
       "\n",
       "  @media (prefers-color-scheme: dark) {\n",
       "    /* Redefinition of color scheme for dark theme */\n",
       "    --sklearn-color-text-on-default-background: var(--sg-text-color, var(--theme-code-foreground, var(--jp-content-font-color1, white)));\n",
       "    --sklearn-color-background: var(--sg-background-color, var(--theme-background, var(--jp-layout-color0, #111)));\n",
       "    --sklearn-color-border-box: var(--sg-text-color, var(--theme-code-foreground, var(--jp-content-font-color1, white)));\n",
       "    --sklearn-color-icon: #878787;\n",
       "  }\n",
       "}\n",
       "\n",
       "#sk-container-id-1 {\n",
       "  color: var(--sklearn-color-text);\n",
       "}\n",
       "\n",
       "#sk-container-id-1 pre {\n",
       "  padding: 0;\n",
       "}\n",
       "\n",
       "#sk-container-id-1 input.sk-hidden--visually {\n",
       "  border: 0;\n",
       "  clip: rect(1px 1px 1px 1px);\n",
       "  clip: rect(1px, 1px, 1px, 1px);\n",
       "  height: 1px;\n",
       "  margin: -1px;\n",
       "  overflow: hidden;\n",
       "  padding: 0;\n",
       "  position: absolute;\n",
       "  width: 1px;\n",
       "}\n",
       "\n",
       "#sk-container-id-1 div.sk-dashed-wrapped {\n",
       "  border: 1px dashed var(--sklearn-color-line);\n",
       "  margin: 0 0.4em 0.5em 0.4em;\n",
       "  box-sizing: border-box;\n",
       "  padding-bottom: 0.4em;\n",
       "  background-color: var(--sklearn-color-background);\n",
       "}\n",
       "\n",
       "#sk-container-id-1 div.sk-container {\n",
       "  /* jupyter's `normalize.less` sets `[hidden] { display: none; }`\n",
       "     but bootstrap.min.css set `[hidden] { display: none !important; }`\n",
       "     so we also need the `!important` here to be able to override the\n",
       "     default hidden behavior on the sphinx rendered scikit-learn.org.\n",
       "     See: https://github.com/scikit-learn/scikit-learn/issues/21755 */\n",
       "  display: inline-block !important;\n",
       "  position: relative;\n",
       "}\n",
       "\n",
       "#sk-container-id-1 div.sk-text-repr-fallback {\n",
       "  display: none;\n",
       "}\n",
       "\n",
       "div.sk-parallel-item,\n",
       "div.sk-serial,\n",
       "div.sk-item {\n",
       "  /* draw centered vertical line to link estimators */\n",
       "  background-image: linear-gradient(var(--sklearn-color-text-on-default-background), var(--sklearn-color-text-on-default-background));\n",
       "  background-size: 2px 100%;\n",
       "  background-repeat: no-repeat;\n",
       "  background-position: center center;\n",
       "}\n",
       "\n",
       "/* Parallel-specific style estimator block */\n",
       "\n",
       "#sk-container-id-1 div.sk-parallel-item::after {\n",
       "  content: \"\";\n",
       "  width: 100%;\n",
       "  border-bottom: 2px solid var(--sklearn-color-text-on-default-background);\n",
       "  flex-grow: 1;\n",
       "}\n",
       "\n",
       "#sk-container-id-1 div.sk-parallel {\n",
       "  display: flex;\n",
       "  align-items: stretch;\n",
       "  justify-content: center;\n",
       "  background-color: var(--sklearn-color-background);\n",
       "  position: relative;\n",
       "}\n",
       "\n",
       "#sk-container-id-1 div.sk-parallel-item {\n",
       "  display: flex;\n",
       "  flex-direction: column;\n",
       "}\n",
       "\n",
       "#sk-container-id-1 div.sk-parallel-item:first-child::after {\n",
       "  align-self: flex-end;\n",
       "  width: 50%;\n",
       "}\n",
       "\n",
       "#sk-container-id-1 div.sk-parallel-item:last-child::after {\n",
       "  align-self: flex-start;\n",
       "  width: 50%;\n",
       "}\n",
       "\n",
       "#sk-container-id-1 div.sk-parallel-item:only-child::after {\n",
       "  width: 0;\n",
       "}\n",
       "\n",
       "/* Serial-specific style estimator block */\n",
       "\n",
       "#sk-container-id-1 div.sk-serial {\n",
       "  display: flex;\n",
       "  flex-direction: column;\n",
       "  align-items: center;\n",
       "  background-color: var(--sklearn-color-background);\n",
       "  padding-right: 1em;\n",
       "  padding-left: 1em;\n",
       "}\n",
       "\n",
       "\n",
       "/* Toggleable style: style used for estimator/Pipeline/ColumnTransformer box that is\n",
       "clickable and can be expanded/collapsed.\n",
       "- Pipeline and ColumnTransformer use this feature and define the default style\n",
       "- Estimators will overwrite some part of the style using the `sk-estimator` class\n",
       "*/\n",
       "\n",
       "/* Pipeline and ColumnTransformer style (default) */\n",
       "\n",
       "#sk-container-id-1 div.sk-toggleable {\n",
       "  /* Default theme specific background. It is overwritten whether we have a\n",
       "  specific estimator or a Pipeline/ColumnTransformer */\n",
       "  background-color: var(--sklearn-color-background);\n",
       "}\n",
       "\n",
       "/* Toggleable label */\n",
       "#sk-container-id-1 label.sk-toggleable__label {\n",
       "  cursor: pointer;\n",
       "  display: flex;\n",
       "  width: 100%;\n",
       "  margin-bottom: 0;\n",
       "  padding: 0.5em;\n",
       "  box-sizing: border-box;\n",
       "  text-align: center;\n",
       "  align-items: start;\n",
       "  justify-content: space-between;\n",
       "  gap: 0.5em;\n",
       "}\n",
       "\n",
       "#sk-container-id-1 label.sk-toggleable__label .caption {\n",
       "  font-size: 0.6rem;\n",
       "  font-weight: lighter;\n",
       "  color: var(--sklearn-color-text-muted);\n",
       "}\n",
       "\n",
       "#sk-container-id-1 label.sk-toggleable__label-arrow:before {\n",
       "  /* Arrow on the left of the label */\n",
       "  content: \"▸\";\n",
       "  float: left;\n",
       "  margin-right: 0.25em;\n",
       "  color: var(--sklearn-color-icon);\n",
       "}\n",
       "\n",
       "#sk-container-id-1 label.sk-toggleable__label-arrow:hover:before {\n",
       "  color: var(--sklearn-color-text);\n",
       "}\n",
       "\n",
       "/* Toggleable content - dropdown */\n",
       "\n",
       "#sk-container-id-1 div.sk-toggleable__content {\n",
       "  max-height: 0;\n",
       "  max-width: 0;\n",
       "  overflow: hidden;\n",
       "  text-align: left;\n",
       "  /* unfitted */\n",
       "  background-color: var(--sklearn-color-unfitted-level-0);\n",
       "}\n",
       "\n",
       "#sk-container-id-1 div.sk-toggleable__content.fitted {\n",
       "  /* fitted */\n",
       "  background-color: var(--sklearn-color-fitted-level-0);\n",
       "}\n",
       "\n",
       "#sk-container-id-1 div.sk-toggleable__content pre {\n",
       "  margin: 0.2em;\n",
       "  border-radius: 0.25em;\n",
       "  color: var(--sklearn-color-text);\n",
       "  /* unfitted */\n",
       "  background-color: var(--sklearn-color-unfitted-level-0);\n",
       "}\n",
       "\n",
       "#sk-container-id-1 div.sk-toggleable__content.fitted pre {\n",
       "  /* unfitted */\n",
       "  background-color: var(--sklearn-color-fitted-level-0);\n",
       "}\n",
       "\n",
       "#sk-container-id-1 input.sk-toggleable__control:checked~div.sk-toggleable__content {\n",
       "  /* Expand drop-down */\n",
       "  max-height: 200px;\n",
       "  max-width: 100%;\n",
       "  overflow: auto;\n",
       "}\n",
       "\n",
       "#sk-container-id-1 input.sk-toggleable__control:checked~label.sk-toggleable__label-arrow:before {\n",
       "  content: \"▾\";\n",
       "}\n",
       "\n",
       "/* Pipeline/ColumnTransformer-specific style */\n",
       "\n",
       "#sk-container-id-1 div.sk-label input.sk-toggleable__control:checked~label.sk-toggleable__label {\n",
       "  color: var(--sklearn-color-text);\n",
       "  background-color: var(--sklearn-color-unfitted-level-2);\n",
       "}\n",
       "\n",
       "#sk-container-id-1 div.sk-label.fitted input.sk-toggleable__control:checked~label.sk-toggleable__label {\n",
       "  background-color: var(--sklearn-color-fitted-level-2);\n",
       "}\n",
       "\n",
       "/* Estimator-specific style */\n",
       "\n",
       "/* Colorize estimator box */\n",
       "#sk-container-id-1 div.sk-estimator input.sk-toggleable__control:checked~label.sk-toggleable__label {\n",
       "  /* unfitted */\n",
       "  background-color: var(--sklearn-color-unfitted-level-2);\n",
       "}\n",
       "\n",
       "#sk-container-id-1 div.sk-estimator.fitted input.sk-toggleable__control:checked~label.sk-toggleable__label {\n",
       "  /* fitted */\n",
       "  background-color: var(--sklearn-color-fitted-level-2);\n",
       "}\n",
       "\n",
       "#sk-container-id-1 div.sk-label label.sk-toggleable__label,\n",
       "#sk-container-id-1 div.sk-label label {\n",
       "  /* The background is the default theme color */\n",
       "  color: var(--sklearn-color-text-on-default-background);\n",
       "}\n",
       "\n",
       "/* On hover, darken the color of the background */\n",
       "#sk-container-id-1 div.sk-label:hover label.sk-toggleable__label {\n",
       "  color: var(--sklearn-color-text);\n",
       "  background-color: var(--sklearn-color-unfitted-level-2);\n",
       "}\n",
       "\n",
       "/* Label box, darken color on hover, fitted */\n",
       "#sk-container-id-1 div.sk-label.fitted:hover label.sk-toggleable__label.fitted {\n",
       "  color: var(--sklearn-color-text);\n",
       "  background-color: var(--sklearn-color-fitted-level-2);\n",
       "}\n",
       "\n",
       "/* Estimator label */\n",
       "\n",
       "#sk-container-id-1 div.sk-label label {\n",
       "  font-family: monospace;\n",
       "  font-weight: bold;\n",
       "  display: inline-block;\n",
       "  line-height: 1.2em;\n",
       "}\n",
       "\n",
       "#sk-container-id-1 div.sk-label-container {\n",
       "  text-align: center;\n",
       "}\n",
       "\n",
       "/* Estimator-specific */\n",
       "#sk-container-id-1 div.sk-estimator {\n",
       "  font-family: monospace;\n",
       "  border: 1px dotted var(--sklearn-color-border-box);\n",
       "  border-radius: 0.25em;\n",
       "  box-sizing: border-box;\n",
       "  margin-bottom: 0.5em;\n",
       "  /* unfitted */\n",
       "  background-color: var(--sklearn-color-unfitted-level-0);\n",
       "}\n",
       "\n",
       "#sk-container-id-1 div.sk-estimator.fitted {\n",
       "  /* fitted */\n",
       "  background-color: var(--sklearn-color-fitted-level-0);\n",
       "}\n",
       "\n",
       "/* on hover */\n",
       "#sk-container-id-1 div.sk-estimator:hover {\n",
       "  /* unfitted */\n",
       "  background-color: var(--sklearn-color-unfitted-level-2);\n",
       "}\n",
       "\n",
       "#sk-container-id-1 div.sk-estimator.fitted:hover {\n",
       "  /* fitted */\n",
       "  background-color: var(--sklearn-color-fitted-level-2);\n",
       "}\n",
       "\n",
       "/* Specification for estimator info (e.g. \"i\" and \"?\") */\n",
       "\n",
       "/* Common style for \"i\" and \"?\" */\n",
       "\n",
       ".sk-estimator-doc-link,\n",
       "a:link.sk-estimator-doc-link,\n",
       "a:visited.sk-estimator-doc-link {\n",
       "  float: right;\n",
       "  font-size: smaller;\n",
       "  line-height: 1em;\n",
       "  font-family: monospace;\n",
       "  background-color: var(--sklearn-color-background);\n",
       "  border-radius: 1em;\n",
       "  height: 1em;\n",
       "  width: 1em;\n",
       "  text-decoration: none !important;\n",
       "  margin-left: 0.5em;\n",
       "  text-align: center;\n",
       "  /* unfitted */\n",
       "  border: var(--sklearn-color-unfitted-level-1) 1pt solid;\n",
       "  color: var(--sklearn-color-unfitted-level-1);\n",
       "}\n",
       "\n",
       ".sk-estimator-doc-link.fitted,\n",
       "a:link.sk-estimator-doc-link.fitted,\n",
       "a:visited.sk-estimator-doc-link.fitted {\n",
       "  /* fitted */\n",
       "  border: var(--sklearn-color-fitted-level-1) 1pt solid;\n",
       "  color: var(--sklearn-color-fitted-level-1);\n",
       "}\n",
       "\n",
       "/* On hover */\n",
       "div.sk-estimator:hover .sk-estimator-doc-link:hover,\n",
       ".sk-estimator-doc-link:hover,\n",
       "div.sk-label-container:hover .sk-estimator-doc-link:hover,\n",
       ".sk-estimator-doc-link:hover {\n",
       "  /* unfitted */\n",
       "  background-color: var(--sklearn-color-unfitted-level-3);\n",
       "  color: var(--sklearn-color-background);\n",
       "  text-decoration: none;\n",
       "}\n",
       "\n",
       "div.sk-estimator.fitted:hover .sk-estimator-doc-link.fitted:hover,\n",
       ".sk-estimator-doc-link.fitted:hover,\n",
       "div.sk-label-container:hover .sk-estimator-doc-link.fitted:hover,\n",
       ".sk-estimator-doc-link.fitted:hover {\n",
       "  /* fitted */\n",
       "  background-color: var(--sklearn-color-fitted-level-3);\n",
       "  color: var(--sklearn-color-background);\n",
       "  text-decoration: none;\n",
       "}\n",
       "\n",
       "/* Span, style for the box shown on hovering the info icon */\n",
       ".sk-estimator-doc-link span {\n",
       "  display: none;\n",
       "  z-index: 9999;\n",
       "  position: relative;\n",
       "  font-weight: normal;\n",
       "  right: .2ex;\n",
       "  padding: .5ex;\n",
       "  margin: .5ex;\n",
       "  width: min-content;\n",
       "  min-width: 20ex;\n",
       "  max-width: 50ex;\n",
       "  color: var(--sklearn-color-text);\n",
       "  box-shadow: 2pt 2pt 4pt #999;\n",
       "  /* unfitted */\n",
       "  background: var(--sklearn-color-unfitted-level-0);\n",
       "  border: .5pt solid var(--sklearn-color-unfitted-level-3);\n",
       "}\n",
       "\n",
       ".sk-estimator-doc-link.fitted span {\n",
       "  /* fitted */\n",
       "  background: var(--sklearn-color-fitted-level-0);\n",
       "  border: var(--sklearn-color-fitted-level-3);\n",
       "}\n",
       "\n",
       ".sk-estimator-doc-link:hover span {\n",
       "  display: block;\n",
       "}\n",
       "\n",
       "/* \"?\"-specific style due to the `<a>` HTML tag */\n",
       "\n",
       "#sk-container-id-1 a.estimator_doc_link {\n",
       "  float: right;\n",
       "  font-size: 1rem;\n",
       "  line-height: 1em;\n",
       "  font-family: monospace;\n",
       "  background-color: var(--sklearn-color-background);\n",
       "  border-radius: 1rem;\n",
       "  height: 1rem;\n",
       "  width: 1rem;\n",
       "  text-decoration: none;\n",
       "  /* unfitted */\n",
       "  color: var(--sklearn-color-unfitted-level-1);\n",
       "  border: var(--sklearn-color-unfitted-level-1) 1pt solid;\n",
       "}\n",
       "\n",
       "#sk-container-id-1 a.estimator_doc_link.fitted {\n",
       "  /* fitted */\n",
       "  border: var(--sklearn-color-fitted-level-1) 1pt solid;\n",
       "  color: var(--sklearn-color-fitted-level-1);\n",
       "}\n",
       "\n",
       "/* On hover */\n",
       "#sk-container-id-1 a.estimator_doc_link:hover {\n",
       "  /* unfitted */\n",
       "  background-color: var(--sklearn-color-unfitted-level-3);\n",
       "  color: var(--sklearn-color-background);\n",
       "  text-decoration: none;\n",
       "}\n",
       "\n",
       "#sk-container-id-1 a.estimator_doc_link.fitted:hover {\n",
       "  /* fitted */\n",
       "  background-color: var(--sklearn-color-fitted-level-3);\n",
       "}\n",
       "</style><div id=\"sk-container-id-1\" class=\"sk-top-container\"><div class=\"sk-text-repr-fallback\"><pre>GridSearchCV(cv=2, error_score=&#x27;raise&#x27;,\n",
       "             estimator=&lt;class &#x27;skorch.net.NeuralNet&#x27;&gt;[uninitialized](\n",
       "  module=&lt;class &#x27;__main__.BaseCNN&#x27;&gt;,\n",
       "  module__conv_layers=[ConvLayer(\n",
       "    (layers): Sequential(\n",
       "      (0): Conv2d(3, 32, kernel_size=(3, 3), stride=(1, 1), padding=(1, 1))\n",
       "      (1): ReLU()\n",
       "      (2): BatchNorm2d(32, eps=1e-05, momentum=0.1, affine=True, track_running_stats=True)\n",
       "    )\n",
       "  ), ConvLayer(\n",
       "    (layers): S...\n",
       "  module__linear_layers=[Linear(in_features=1024, out_features=1024, bias=True), Linear(in_features=1024, out_features=512, bias=True), Linear(in_features=512, out_features=102, bias=True)],\n",
       "),\n",
       "             param_grid={&#x27;optimizer&#x27;: [&lt;class &#x27;torch.optim.sgd.SGD&#x27;&gt;,\n",
       "                                       &lt;class &#x27;torch.optim.adam.Adam&#x27;&gt;,\n",
       "                                       &lt;class &#x27;torch.optim.adagrad.Adagrad&#x27;&gt;],\n",
       "                         &#x27;optimizer__lr&#x27;: [0.001, 0.01, 0.1]},\n",
       "             refit=False, return_train_score=True,\n",
       "             scoring=&lt;function score at 0x000002AB6CD0C160&gt;, verbose=4)</pre><b>In a Jupyter environment, please rerun this cell to show the HTML representation or trust the notebook. <br />On GitHub, the HTML representation is unable to render, please try loading this page with nbviewer.org.</b></div><div class=\"sk-container\" hidden><div class=\"sk-item sk-dashed-wrapped\"><div class=\"sk-label-container\"><div class=\"sk-label fitted sk-toggleable\"><input class=\"sk-toggleable__control sk-hidden--visually\" id=\"sk-estimator-id-1\" type=\"checkbox\" ><label for=\"sk-estimator-id-1\" class=\"sk-toggleable__label fitted sk-toggleable__label-arrow\"><div><div>GridSearchCV</div></div><div><a class=\"sk-estimator-doc-link fitted\" rel=\"noreferrer\" target=\"_blank\" href=\"https://scikit-learn.org/1.6/modules/generated/sklearn.model_selection.GridSearchCV.html\">?<span>Documentation for GridSearchCV</span></a><span class=\"sk-estimator-doc-link fitted\">i<span>Fitted</span></span></div></label><div class=\"sk-toggleable__content fitted\"><pre>GridSearchCV(cv=2, error_score=&#x27;raise&#x27;,\n",
       "             estimator=&lt;class &#x27;skorch.net.NeuralNet&#x27;&gt;[uninitialized](\n",
       "  module=&lt;class &#x27;__main__.BaseCNN&#x27;&gt;,\n",
       "  module__conv_layers=[ConvLayer(\n",
       "    (layers): Sequential(\n",
       "      (0): Conv2d(3, 32, kernel_size=(3, 3), stride=(1, 1), padding=(1, 1))\n",
       "      (1): ReLU()\n",
       "      (2): BatchNorm2d(32, eps=1e-05, momentum=0.1, affine=True, track_running_stats=True)\n",
       "    )\n",
       "  ), ConvLayer(\n",
       "    (layers): S...\n",
       "  module__linear_layers=[Linear(in_features=1024, out_features=1024, bias=True), Linear(in_features=1024, out_features=512, bias=True), Linear(in_features=512, out_features=102, bias=True)],\n",
       "),\n",
       "             param_grid={&#x27;optimizer&#x27;: [&lt;class &#x27;torch.optim.sgd.SGD&#x27;&gt;,\n",
       "                                       &lt;class &#x27;torch.optim.adam.Adam&#x27;&gt;,\n",
       "                                       &lt;class &#x27;torch.optim.adagrad.Adagrad&#x27;&gt;],\n",
       "                         &#x27;optimizer__lr&#x27;: [0.001, 0.01, 0.1]},\n",
       "             refit=False, return_train_score=True,\n",
       "             scoring=&lt;function score at 0x000002AB6CD0C160&gt;, verbose=4)</pre></div> </div></div><div class=\"sk-parallel\"><div class=\"sk-parallel-item\"><div class=\"sk-item\"><div class=\"sk-label-container\"><div class=\"sk-label fitted sk-toggleable\"><input class=\"sk-toggleable__control sk-hidden--visually\" id=\"sk-estimator-id-2\" type=\"checkbox\" ><label for=\"sk-estimator-id-2\" class=\"sk-toggleable__label fitted sk-toggleable__label-arrow\"><div><div>estimator: NeuralNet</div></div></label><div class=\"sk-toggleable__content fitted\"><pre>&lt;class &#x27;skorch.net.NeuralNet&#x27;&gt;[uninitialized](\n",
       "  module=&lt;class &#x27;__main__.BaseCNN&#x27;&gt;,\n",
       "  module__conv_layers=[ConvLayer(\n",
       "    (layers): Sequential(\n",
       "      (0): Conv2d(3, 32, kernel_size=(3, 3), stride=(1, 1), padding=(1, 1))\n",
       "      (1): ReLU()\n",
       "      (2): BatchNorm2d(32, eps=1e-05, momentum=0.1, affine=True, track_running_stats=True)\n",
       "    )\n",
       "  ), ConvLayer(\n",
       "    (layers): Sequential(\n",
       "      (0): Conv2d(32, 64, kernel_size=(3, 3), stride=(2, 2), padding=(1, 1))\n",
       "      (1): ReLU()\n",
       "      (2): BatchNorm2d(64, eps=1e-05, momentum=0.1, affine=True, track_running_stats=True)\n",
       "    )\n",
       "  ), ConvLayer(\n",
       "    (layers): Sequential(\n",
       "      (0): Conv2d(64, 64, kernel_size=(3, 3), stride=(2, 2), padding=(1, 1))\n",
       "      (1): ReLU()\n",
       "      (2): BatchNorm2d(64, eps=1e-05, momentum=0.1, affine=True, track_running_stats=True)\n",
       "    )\n",
       "  ), ConvLayer(\n",
       "    (layers): Sequential(\n",
       "      (0): Conv2d(64, 128, kernel_size=(3, 3), stride=(1, 1), padding=(1, 1))\n",
       "      (1): MaxPool2d(kernel_size=2, stride=2, padding=0, dilation=1, ceil_mode=False)\n",
       "      (2): ReLU()\n",
       "      (3): BatchNorm2d(128, eps=1e-05, momentum=0.1, affine=True, track_running_stats=True)\n",
       "    )\n",
       "  ), ConvLayer(\n",
       "    (layers): Sequential(\n",
       "      (0): Conv2d(128, 256, kernel_size=(3, 3), stride=(2, 2), padding=(1, 1))\n",
       "      (1): MaxPool2d(kernel_size=2, stride=2, padding=0, dilation=1, ceil_mode=False)\n",
       "      (2): ReLU()\n",
       "      (3): BatchNorm2d(256, eps=1e-05, momentum=0.1, affine=True, track_running_stats=True)\n",
       "    )\n",
       "  ), ConvLayer(\n",
       "    (layers): Sequential(\n",
       "      (0): Conv2d(256, 256, kernel_size=(3, 3), stride=(2, 2), padding=(1, 1))\n",
       "      (1): MaxPool2d(kernel_size=2, stride=2, padding=0, dilation=1, ceil_mode=False)\n",
       "      (2): ReLU()\n",
       "      (3): BatchNorm2d(256, eps=1e-05, momentum=0.1, affine=True, track_running_stats=True)\n",
       "    )\n",
       "  )],\n",
       "  module__linear_layers=[Linear(in_features=1024, out_features=1024, bias=True), Linear(in_features=1024, out_features=512, bias=True), Linear(in_features=512, out_features=102, bias=True)],\n",
       ")</pre></div> </div></div><div class=\"sk-serial\"><div class=\"sk-item\"><div class=\"sk-estimator fitted sk-toggleable\"><input class=\"sk-toggleable__control sk-hidden--visually\" id=\"sk-estimator-id-3\" type=\"checkbox\" ><label for=\"sk-estimator-id-3\" class=\"sk-toggleable__label fitted sk-toggleable__label-arrow\"><div><div>NeuralNet</div></div></label><div class=\"sk-toggleable__content fitted\"><pre>&lt;class &#x27;skorch.net.NeuralNet&#x27;&gt;[uninitialized](\n",
       "  module=&lt;class &#x27;__main__.BaseCNN&#x27;&gt;,\n",
       "  module__conv_layers=[ConvLayer(\n",
       "    (layers): Sequential(\n",
       "      (0): Conv2d(3, 32, kernel_size=(3, 3), stride=(1, 1), padding=(1, 1))\n",
       "      (1): ReLU()\n",
       "      (2): BatchNorm2d(32, eps=1e-05, momentum=0.1, affine=True, track_running_stats=True)\n",
       "    )\n",
       "  ), ConvLayer(\n",
       "    (layers): Sequential(\n",
       "      (0): Conv2d(32, 64, kernel_size=(3, 3), stride=(2, 2), padding=(1, 1))\n",
       "      (1): ReLU()\n",
       "      (2): BatchNorm2d(64, eps=1e-05, momentum=0.1, affine=True, track_running_stats=True)\n",
       "    )\n",
       "  ), ConvLayer(\n",
       "    (layers): Sequential(\n",
       "      (0): Conv2d(64, 64, kernel_size=(3, 3), stride=(2, 2), padding=(1, 1))\n",
       "      (1): ReLU()\n",
       "      (2): BatchNorm2d(64, eps=1e-05, momentum=0.1, affine=True, track_running_stats=True)\n",
       "    )\n",
       "  ), ConvLayer(\n",
       "    (layers): Sequential(\n",
       "      (0): Conv2d(64, 128, kernel_size=(3, 3), stride=(1, 1), padding=(1, 1))\n",
       "      (1): MaxPool2d(kernel_size=2, stride=2, padding=0, dilation=1, ceil_mode=False)\n",
       "      (2): ReLU()\n",
       "      (3): BatchNorm2d(128, eps=1e-05, momentum=0.1, affine=True, track_running_stats=True)\n",
       "    )\n",
       "  ), ConvLayer(\n",
       "    (layers): Sequential(\n",
       "      (0): Conv2d(128, 256, kernel_size=(3, 3), stride=(2, 2), padding=(1, 1))\n",
       "      (1): MaxPool2d(kernel_size=2, stride=2, padding=0, dilation=1, ceil_mode=False)\n",
       "      (2): ReLU()\n",
       "      (3): BatchNorm2d(256, eps=1e-05, momentum=0.1, affine=True, track_running_stats=True)\n",
       "    )\n",
       "  ), ConvLayer(\n",
       "    (layers): Sequential(\n",
       "      (0): Conv2d(256, 256, kernel_size=(3, 3), stride=(2, 2), padding=(1, 1))\n",
       "      (1): MaxPool2d(kernel_size=2, stride=2, padding=0, dilation=1, ceil_mode=False)\n",
       "      (2): ReLU()\n",
       "      (3): BatchNorm2d(256, eps=1e-05, momentum=0.1, affine=True, track_running_stats=True)\n",
       "    )\n",
       "  )],\n",
       "  module__linear_layers=[Linear(in_features=1024, out_features=1024, bias=True), Linear(in_features=1024, out_features=512, bias=True), Linear(in_features=512, out_features=102, bias=True)],\n",
       ")</pre></div> </div></div></div></div></div></div></div></div></div>"
      ],
      "text/plain": [
       "GridSearchCV(cv=2, error_score='raise',\n",
       "             estimator=<class 'skorch.net.NeuralNet'>[uninitialized](\n",
       "  module=<class '__main__.BaseCNN'>,\n",
       "  module__conv_layers=[ConvLayer(\n",
       "    (layers): Sequential(\n",
       "      (0): Conv2d(3, 32, kernel_size=(3, 3), stride=(1, 1), padding=(1, 1))\n",
       "      (1): ReLU()\n",
       "      (2): BatchNorm2d(32, eps=1e-05, momentum=0.1, affine=True, track_running_stats=True)\n",
       "    )\n",
       "  ), ConvLayer(\n",
       "    (layers): S...\n",
       "  module__linear_layers=[Linear(in_features=1024, out_features=1024, bias=True), Linear(in_features=1024, out_features=512, bias=True), Linear(in_features=512, out_features=102, bias=True)],\n",
       "),\n",
       "             param_grid={'optimizer': [<class 'torch.optim.sgd.SGD'>,\n",
       "                                       <class 'torch.optim.adam.Adam'>,\n",
       "                                       <class 'torch.optim.adagrad.Adagrad'>],\n",
       "                         'optimizer__lr': [0.001, 0.01, 0.1]},\n",
       "             refit=False, return_train_score=True,\n",
       "             scoring=<function score at 0x000002AB6CD0C160>, verbose=4)"
      ]
     },
     "execution_count": 50,
     "metadata": {},
     "output_type": "execute_result"
    }
   ],
   "source": [
    "grid.fit(X_val_npy, y_val_npy)"
   ]
  },
  {
   "cell_type": "code",
   "execution_count": 53,
   "metadata": {},
   "outputs": [
    {
     "data": {
      "text/plain": [
       "0.3568627450980392"
      ]
     },
     "execution_count": 53,
     "metadata": {},
     "output_type": "execute_result"
    }
   ],
   "source": [
    "grid.best_score_"
   ]
  },
  {
   "cell_type": "code",
   "execution_count": 54,
   "metadata": {},
   "outputs": [
    {
     "data": {
      "text/plain": [
       "{'optimizer': torch.optim.sgd.SGD, 'optimizer__lr': 0.001}"
      ]
     },
     "execution_count": 54,
     "metadata": {},
     "output_type": "execute_result"
    }
   ],
   "source": [
    "grid.best_params_"
   ]
  }
 ],
 "metadata": {
  "kernelspec": {
   "display_name": "plant-traits",
   "language": "python",
   "name": "python3"
  },
  "language_info": {
   "codemirror_mode": {
    "name": "ipython",
    "version": 3
   },
   "file_extension": ".py",
   "mimetype": "text/x-python",
   "name": "python",
   "nbconvert_exporter": "python",
   "pygments_lexer": "ipython3",
   "version": "3.10.16"
  }
 },
 "nbformat": 4,
 "nbformat_minor": 2
}
