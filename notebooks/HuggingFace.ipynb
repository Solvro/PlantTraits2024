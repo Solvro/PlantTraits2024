{
 "cells": [
  {
   "cell_type": "code",
   "execution_count": 1,
   "metadata": {},
   "outputs": [],
   "source": [
    "from transformers import AutoImageProcessor, ResNetForImageClassification\n",
    "import torch\n",
    "from pathlib import Path \n",
    "from PIL import Image"
   ]
  },
  {
   "cell_type": "markdown",
   "metadata": {},
   "source": [
    "### Ładowanie modelu\n",
    "Pobieramy wytrenowany model oraz odpowiedni preprocessing - ważne jest załadowanie i użycie dokładnie tego samego preprocesowania."
   ]
  },
  {
   "cell_type": "code",
   "execution_count": 2,
   "metadata": {},
   "outputs": [],
   "source": [
    "processor = AutoImageProcessor.from_pretrained(\"microsoft/resnet-50\")\n",
    "model = ResNetForImageClassification.from_pretrained(\"microsoft/resnet-50\")"
   ]
  },
  {
   "cell_type": "code",
   "execution_count": 44,
   "metadata": {},
   "outputs": [],
   "source": [
    "DATA_PATH = Path('../data/study')\n",
    "DATASET_PATH = DATA_PATH / 'flowers-102'\n",
    "DATASET_IMAGES_PATH = DATASET_PATH / 'jpg'"
   ]
  },
  {
   "cell_type": "code",
   "execution_count": 22,
   "metadata": {},
   "outputs": [],
   "source": [
    "orig_img = Image.open(DATASET_IMAGES_PATH / 'image_00001.jpg')"
   ]
  },
  {
   "cell_type": "code",
   "execution_count": 23,
   "metadata": {},
   "outputs": [],
   "source": [
    "inputs = processor(orig_img, return_tensors=\"pt\")"
   ]
  },
  {
   "cell_type": "code",
   "execution_count": 24,
   "metadata": {},
   "outputs": [
    {
     "data": {
      "text/plain": [
       "{'pixel_values': tensor([[[[-0.4739, -0.4739, -0.4739,  ...,  0.1426,  0.1426,  0.1083],\n",
       "          [-0.4397, -0.4739, -0.4739,  ...,  0.2282,  0.2624,  0.2624],\n",
       "          [-0.3883, -0.4226, -0.4568,  ...,  0.3652,  0.3481,  0.3309],\n",
       "          ...,\n",
       "          [-1.3130, -1.2959, -1.3130,  ..., -1.4158, -1.4329, -1.4500],\n",
       "          [-1.3815, -1.3815, -1.3644,  ..., -1.3473, -1.2959, -1.3130],\n",
       "          [-1.4500, -1.4500, -1.4500,  ..., -1.0904, -1.0562, -1.1075]],\n",
       "\n",
       "         [[ 0.4853,  0.5028,  0.5903,  ...,  0.5378,  0.5028,  0.4503],\n",
       "          [ 0.5378,  0.5378,  0.5903,  ...,  0.6954,  0.6779,  0.6254],\n",
       "          [ 0.5903,  0.5728,  0.5903,  ...,  0.8529,  0.8004,  0.7654],\n",
       "          ...,\n",
       "          [-1.0203, -1.0028, -1.0028,  ..., -1.2129, -1.2304, -1.2654],\n",
       "          [-1.0903, -1.0903, -1.1253,  ..., -1.0553, -1.0553, -1.1604],\n",
       "          [-1.1779, -1.1779, -1.2129,  ..., -0.7927, -0.8277, -0.9503]],\n",
       "\n",
       "         [[-1.4907, -1.5256, -1.5779,  ..., -0.3404, -0.3404, -0.3927],\n",
       "          [-1.4733, -1.5604, -1.5779,  ..., -0.2010, -0.1487, -0.0964],\n",
       "          [-1.4036, -1.4733, -1.5430,  ..., -0.0441, -0.0615, -0.0441],\n",
       "          ...,\n",
       "          [-1.0724, -1.0724, -1.0550,  ..., -1.5953, -1.5430, -1.5430],\n",
       "          [-1.1247, -1.1421, -1.1421,  ..., -1.2990, -1.1770, -1.2467],\n",
       "          [-1.2293, -1.2467, -1.2293,  ..., -1.0724, -0.9504, -1.0376]]]])}"
      ]
     },
     "execution_count": 24,
     "metadata": {},
     "output_type": "execute_result"
    }
   ],
   "source": [
    "inputs"
   ]
  },
  {
   "cell_type": "code",
   "execution_count": 10,
   "metadata": {},
   "outputs": [],
   "source": [
    "with torch.no_grad():\n",
    "    outputs = model(**inputs)"
   ]
  },
  {
   "cell_type": "code",
   "execution_count": 11,
   "metadata": {},
   "outputs": [
    {
     "data": {
      "text/plain": [
       "ImageClassifierOutputWithNoAttention(loss=None, logits=tensor([[-10.0574, -10.3454,  -9.8933, -10.4813, -10.6766,  -8.7468, -10.2083,\n",
       "          -9.3474,  -9.1097,  -9.1744,  -7.5113,  -5.0071,  -7.2867,  -8.5546,\n",
       "          -7.8530,  -7.9581,  -8.2434,  -9.2791, -10.1757,  -7.4227,  -9.5110,\n",
       "          -9.5543, -12.3082,  -9.3422,  -9.4581,  -9.2943,  -8.4687,  -7.5100,\n",
       "          -8.4294,  -8.0548,  -8.2433,  -7.3378,  -8.4285,  -9.8218,  -8.7632,\n",
       "         -10.1914,  -9.6576,  -9.8403,  -7.8900,  -8.2238,  -7.9646,  -8.6409,\n",
       "          -7.8016,  -6.8368,  -8.4569,  -8.6251,  -7.5550,  -8.6631,  -9.7083,\n",
       "          -9.5191,  -9.1038,  -8.3499,  -8.1870,  -8.1144,  -7.9161,  -7.7026,\n",
       "          -8.7816, -10.0170,  -9.5603,  -8.2470,  -9.1323,  -8.5047,  -9.1166,\n",
       "          -9.8985,  -7.9680,  -8.3515, -10.1067,  -8.9973,  -9.7071,  -8.4327,\n",
       "          -7.3089,  -8.8426,  -7.1491,  -6.6573,  -7.3913,  -8.1217,  -7.5213,\n",
       "          -8.4534,  -7.9589,  -7.1854,  -8.5576,  -9.7972,  -9.5080,  -9.5957,\n",
       "          -9.0053,  -9.6929,  -9.6590,  -9.8168,  -9.0533,  -9.8219,  -9.0009,\n",
       "         -10.2358,  -9.7169,  -9.6178,  -6.0904,  -9.6043,  -9.7431,  -9.5745,\n",
       "         -10.4815,  -9.5378, -10.9139,  -9.7767,  -8.7468,  -7.9950,  -9.5368,\n",
       "          -9.9118, -10.3557,  -8.7574,  -7.6744,  -9.7239,  -8.1246,  -7.3805,\n",
       "          -8.0071,  -6.3377,  -7.2697,  -8.7974,  -9.6409,  -7.3814,  -9.7835,\n",
       "         -10.6828,  -8.8647, -10.3088, -10.1987,  -9.9651,  -8.9243,  -8.7652,\n",
       "          -8.1222, -11.1606, -11.1256,  -8.4715, -11.6034, -10.0662, -10.3529,\n",
       "          -9.7483,  -9.8805, -10.2573,  -8.5575, -10.5796, -10.3009,  -9.1904,\n",
       "          -8.6144, -10.6260,  -9.6855,  -9.4598, -10.5885,  -8.8124,  -9.7705,\n",
       "         -11.1570,  -9.2863, -10.1519,  -9.3707,  -7.6518,  -9.8983, -10.0275,\n",
       "         -11.1708,  -9.1968, -10.1243,  -9.1451,  -9.6360,  -9.1036, -10.2369,\n",
       "         -10.2591,  -8.7004,  -9.1630,  -9.8982, -10.3216, -11.6485,  -9.1574,\n",
       "          -9.1515, -10.2031,  -9.9779,  -8.6603,  -8.7150, -10.3187,  -9.1338,\n",
       "         -10.1699, -10.1083,  -9.0360,  -7.9990,  -9.1613,  -9.0571,  -8.9159,\n",
       "          -9.6789,  -9.7714,  -8.8110,  -8.0319,  -8.9904,  -9.8284,  -9.8015,\n",
       "          -8.9125,  -9.7683, -10.3676,  -9.8194, -10.4323,  -9.6755,  -9.3601,\n",
       "         -10.4616,  -9.8653,  -9.7298, -10.2047, -11.1677,  -9.5530,  -8.7674,\n",
       "          -8.1450,  -9.2092,  -8.9404, -10.0034,  -9.4421,  -9.5536,  -9.7892,\n",
       "          -9.4867,  -8.3863, -10.9501, -10.2446, -11.0699,  -9.7166, -10.2989,\n",
       "          -9.0988,  -9.1519, -10.0957,  -9.5625,  -9.2283, -11.3864,  -8.0967,\n",
       "         -10.6616,  -9.7955, -10.8231,  -9.8224,  -9.5344,  -9.0118,  -9.9791,\n",
       "          -9.9057, -10.0974,  -9.4211,  -8.6002,  -9.2253,  -8.7062,  -8.3284,\n",
       "         -10.4774,  -9.5594,  -9.5210,  -8.6097,  -9.5252,  -9.2298, -10.0989,\n",
       "          -8.4618,  -9.4084, -10.5335,  -9.4585,  -8.3984,  -8.7397, -10.9643,\n",
       "          -9.9754,  -9.4444,  -8.0260,  -8.6720, -10.2574, -10.4575,  -8.4752,\n",
       "         -10.3278, -10.2043, -10.3691,  -8.4816,  -8.4070,  -9.3089,  -9.1681,\n",
       "         -10.4544,  -9.8680,  -9.3599, -10.4869, -10.3767, -11.1246, -10.0657,\n",
       "          -9.3961, -11.4278, -10.0232,  -9.1411, -10.3144, -10.1369, -10.0792,\n",
       "         -10.2231,  -7.5692,  -9.6110,  -8.7306,  -9.1354,  -9.7887,  -9.4456,\n",
       "          -9.6908,  -9.3690, -10.2674, -10.1111, -10.4196,  -9.9608, -10.3959,\n",
       "         -10.6497,  -9.5267,  -9.3567,  -9.6281,  -9.9240,  -8.6420,  -7.6193,\n",
       "          -4.5880,  -7.3720,  -5.4857,  -6.0932,  -6.9187,  -7.2468,  -6.9575,\n",
       "          -4.3771,   2.5088,  -5.2123,  -5.8784,  -5.6891,  -6.9140,  -7.5416,\n",
       "          -7.8287,  -7.4286,  -5.8988,  -5.2477,  -5.4823,  -5.9975,  -3.7394,\n",
       "          -3.7183,  -5.2395,  -1.1120,  -2.1947,  -5.0564,  -8.9509,  -8.9719,\n",
       "         -11.4515,  -8.7631,  -8.7383, -10.7146,  -9.6252,  -9.0404,  -9.9823,\n",
       "          -8.1960,  -9.2496,  -9.5210, -11.9822,  -6.4847,  -7.8789,  -9.4200,\n",
       "         -10.0739, -10.3375, -10.9989,  -9.7459,  -9.6165,  -9.2777,  -8.5238,\n",
       "          -9.2908, -10.0819,  -9.0078,  -9.1050,  -9.5838, -10.9727, -10.1363,\n",
       "         -10.3755,  -8.2427, -10.4194,  -9.7988,  -9.4683, -10.3437,  -8.5704,\n",
       "          -8.6072,  -8.6161, -10.1846,  -9.5604,  -8.6587,  -9.7211,  -8.3780,\n",
       "          -8.9252,  -7.8896,  -7.4546,  -7.8341,  -9.0067,  -9.2972,  -8.4894,\n",
       "          -8.4027,  -8.9682,  -7.9525,  -8.8035,  -9.6365,  -8.5833,  -7.6961,\n",
       "         -10.4981,  -9.0641,  -9.3676, -10.2720,  -9.9496, -10.3580,  -9.2224,\n",
       "          -8.3517, -11.2958,  -9.3939,  -9.1367, -10.1194,  -7.8623,  -7.7045,\n",
       "          -9.8725,  -8.7649,  -8.7077,  -8.6295, -10.7251, -11.1220,  -9.5393,\n",
       "          -9.4699, -10.6508,  -9.2821,  -6.3959,  -7.7596,  -9.4014,  -7.5522,\n",
       "          -9.2646,  -8.6093,  -9.4965,  -9.3070,  -9.5385,  -8.1054,  -6.6135,\n",
       "         -10.3042,  -9.3050,  -9.4936, -10.2939, -10.3037,  -9.7962,  -9.2032,\n",
       "          -8.2200,  -9.0954,  -9.3751,  -9.4764, -10.5868,  -9.0022, -10.6693,\n",
       "          -9.0829,  -8.7489,  -9.5964,  -8.9366,  -7.5197,  -9.1858,  -8.2043,\n",
       "          -9.2702,  -9.5899,  -9.0361,  -9.2983, -10.4442,  -8.0153,  -7.6159,\n",
       "          -8.3227, -10.8436,  -9.8577,  -7.6072,  -7.8621,  -9.8063,  -8.4106,\n",
       "          -7.4407,  -8.1191,  -9.3199,  -8.1052,  -9.3720, -10.9902,  -5.3572,\n",
       "          -9.2425,  -8.1990,  -8.8513,  -8.8328,  -9.4356, -10.0459, -10.2633,\n",
       "          -8.7311,  -7.9115,  -7.8286, -10.7491,  -8.6667,  -9.3081,  -8.5083,\n",
       "          -9.6673,  -8.4038,  -6.8019,  -9.6325,  -8.5954,  -7.7918,  -8.0652,\n",
       "         -10.1489, -11.7797,  -9.4645, -10.4310,  -8.0733,  -7.3743,  -9.0707,\n",
       "          -9.7351,  -8.5131,  -7.8876,  -9.9347,  -8.4374,  -9.4548,  -8.9266,\n",
       "         -10.3736,  -8.7247,  -8.8136,  -9.0843,  -8.8603,  -8.0958,  -7.1239,\n",
       "          -7.0794,  -7.5607,  -6.8729,  -6.4150,  -8.5260,  -8.5649, -10.4875,\n",
       "         -10.6850,  -7.7320,  -8.4040,  -8.3661,  -8.1392, -10.0158,  -9.3354,\n",
       "          -8.5004,  -7.9343,  -9.9858,  -8.1603,  -9.3666,  -8.3231,  -9.8483,\n",
       "          -9.8291,  -8.5851,  -8.3994,  -9.8355,  -9.1360,  -7.5632,  -7.6982,\n",
       "          -8.9678,  -9.5205,  -9.2632, -10.5662, -10.4113, -11.2040,  -9.1015,\n",
       "          -8.3948, -10.7396,  -9.1286,  -7.9339,  -8.0530,  -9.5436,  -7.8033,\n",
       "          -9.1697, -10.8240,  -8.6495,  -8.7187,  -7.7837,  -8.4165,  -9.2687,\n",
       "          -8.4735, -10.2670, -10.0600,  -7.8555,  -9.4572,  -7.9862,  -8.7140,\n",
       "          -9.7554, -10.7706,  -8.2088,  -7.6913,  -9.8568,  -9.6590,  -7.7724,\n",
       "          -9.3767,  -9.2527,  -9.6524,  -9.1081,  -9.4355,  -7.4161, -10.1070,\n",
       "          -8.0773,  -9.7005, -10.3464,  -9.6926, -10.3593,  -9.0674,  -7.7750,\n",
       "          -9.5093,  -9.0233,  -8.3245,  -8.7227,  -8.7662,  -9.1179,  -8.7123,\n",
       "          -9.4745,  -9.2393,  -9.4019,  -8.7816,  -8.3495,  -8.3799,  -9.3903,\n",
       "          -9.7752,  -9.3776, -10.3227,  -8.4219,  -7.2321,  -7.8695,  -9.7292,\n",
       "          -8.7456, -11.2320,  -8.7329,  -7.3818,  -8.9093,  -7.6692,  -7.8593,\n",
       "          -9.3907,  -8.3020,  -7.2618, -10.6896,  -7.8898,  -8.7263,  -9.9713,\n",
       "          -7.6858,  -9.5262,  -8.4092,  -6.9264,  -7.0267,  -9.1519,  -8.4951,\n",
       "          -7.5069, -10.1197, -11.2209,  -5.9909, -10.2238, -11.3643,  -8.2287,\n",
       "          -8.9609,  -8.2478,  -8.2116,  -8.6425,  -9.2179,  -8.2144,  -8.6756,\n",
       "          -8.5610,  -9.4126, -10.0088,  -8.5446,  -8.7281, -10.0992,  -8.6471,\n",
       "          -6.2733,  -9.5848,  -8.2716,  -8.9542,  -9.6477,  -9.3607,  -7.7425,\n",
       "          -9.2554,  -8.8542,  -7.7102, -10.5072,  -9.5894,  -9.7661,  -8.2988,\n",
       "          -6.7446,  -9.9288, -10.2661, -10.3701,  -9.8243, -10.6438,  -7.7529,\n",
       "         -10.3628,  -8.4124,  -8.4945, -10.0966,  -9.4791, -10.1963, -10.0955,\n",
       "         -10.5363,  -7.7576,  -7.2252,  -9.7699,  -8.8804,  -6.8753,  -9.0118,\n",
       "          -7.5632,  -8.4966,  -7.5722,  -7.5702,  -8.8553,  -8.8392,  -9.1943,\n",
       "          -9.4894,  -8.0119,  -9.4067,  -9.4870,  -9.4758,  -8.8428,  -6.6213,\n",
       "          -9.5392,  -9.4367,  -7.9258,  -9.3379,  -9.0652, -10.7675,  -8.4729,\n",
       "          -9.1905,  -9.1389,  -9.9616,  -9.5744,  -8.7161, -11.1861,  -9.4793,\n",
       "          -8.3881,  -8.8605,  -8.6365,  -8.7009,  -7.6557,  -7.2854,  -8.6765,\n",
       "          -8.6193,  -7.8521,  -7.4755,  -9.6120,  -9.9484,  -7.9585,  -7.2184,\n",
       "          -9.7179,  -8.2167,  -7.7474, -11.3422,  -7.9515,  -8.8120,  -9.6095,\n",
       "          -8.5415,  -9.1808,  -8.1532,  -9.5930,  -8.9434,  -9.9200,  -9.5485,\n",
       "         -10.1769,  -9.5703,  -8.0859,  -5.0714,  -8.5963,  -7.8391,  -8.9306,\n",
       "          -8.2360,  -9.1590,  -9.0772,  -8.2605,  -8.7882,  -9.0059,  -9.2781,\n",
       "          -8.3517,  -8.7780, -10.0798, -10.2074,  -9.1182,  -9.0623,  -9.5241,\n",
       "          -8.2259,  -8.8740,  -8.5875,  -8.9342,  -8.8918,  -8.0748,  -9.2693,\n",
       "          -9.2409,  -7.8502,  -8.9785,  -8.7879,  -6.8232, -10.3635,  -6.3435,\n",
       "          -9.4714,  -9.4095,  -7.2631,  -8.6659,  -8.1055,  -9.8876,  -8.4206,\n",
       "          -9.2011,  -7.9635, -10.4717, -11.0865,  -8.8886,  -7.2811,  -8.2408,\n",
       "          -7.7712,  -9.7304,  -7.7839,  -8.5174,  -8.2343,  -8.2766,  -8.4185,\n",
       "          -8.1766,  -7.8069,  -8.5236,  -8.8660,  -9.2002,  -8.6007, -10.0440,\n",
       "          -9.0419,  -8.6585,  -8.5898,  -9.8199, -10.4961, -10.4965,  -7.7842,\n",
       "          -9.6488,  -8.6380,  -8.0474,  -9.0280, -10.0977,  -8.7893,  -9.7390,\n",
       "          -8.6977,  -8.4321, -10.7900,  -8.6473,  -9.2804, -10.6738,  -5.7045,\n",
       "          -9.6114, -10.8099,  -9.7627,  -9.1088,  -9.6043, -10.4946,  -8.2316,\n",
       "          -7.4480,  -7.8960,  -7.1094,  -9.7714,  -9.7552,  -9.7986, -10.3909,\n",
       "          -9.8373,  -8.8382,  -5.7858,  -9.4257,  -9.0305,  -8.0863, -10.1655,\n",
       "          -8.2369,  -9.5940, -10.5782,  -9.4254,  -8.1906,  -7.7801,  -8.0093,\n",
       "          -9.2857,  -9.1616,  -8.4476,  -8.1030,  -8.1820,  -7.7779,  -9.2502,\n",
       "          -9.0582,  -6.6120,  -9.2594,  -9.4806,  -9.3483,  -8.5833,  -9.1227,\n",
       "          -7.8007,  -9.9001,  -8.7302, -10.4123,  -9.6901,  -9.2757, -10.1188,\n",
       "          -8.2862, -10.2018,  -9.7585, -10.7227,  -8.2096, -10.5127, -11.1703,\n",
       "          -8.6548,  -8.6308,  -8.9467,  -8.6417,  -9.6671,  -9.1539,  -9.3201,\n",
       "          -9.1666,  -7.3081,  -8.8306,  -9.4386,  -7.9727,  -9.2547, -10.2074,\n",
       "          -9.4523, -10.7523,  -8.9947,  -7.5428,  -9.1758,  -9.1512, -10.0845,\n",
       "          -7.1049,  -7.9395,  -8.2497,  -8.8660, -10.9521,  -9.1366,  -9.2254,\n",
       "          -8.5740,  -8.0046,  -8.0359,  -7.7771,  -8.3900,  -9.7692,  -9.5449,\n",
       "          -7.9280,  -9.8778,  -7.7410,  -9.2246, -12.2979, -10.1599,  -7.2423,\n",
       "          -7.5419,  -6.9136,  -8.5674,  -9.8134,  -6.5648,  -8.3051,  -9.0833,\n",
       "          -9.2157,  -9.7521, -10.3276,  -9.5434, -10.4036,  -8.8500,  -9.4951,\n",
       "          -9.2606,  -9.2929, -10.2050,  -9.6506, -10.2888,  -9.1369,  -9.4017,\n",
       "          -9.1123,  -8.3469,  -8.9850,  -8.3347,  -9.1859,  -8.7944,  -8.1971,\n",
       "          -8.6134,  -4.6161,  -7.8400,  -7.2832,  -8.0585,  -6.9344,  -9.0061,\n",
       "          -7.7231, -10.0189,  -9.3892,  -8.7652,  -6.1001,  -6.5408,  -9.9262,\n",
       "          -9.8831,  -9.1877,  -8.7964,  -9.3541,  -9.7821, -10.8762,  -9.7360,\n",
       "          -8.1363,  -8.8783,  -7.9613,  -8.3257,  -9.3798,  -7.9216,  -9.1021,\n",
       "          -8.2798,  -9.6999,  -9.3662,  -9.5100, -10.2403, -10.2289, -10.4112,\n",
       "          -9.9685,  -9.5492,  -8.7023, -10.2796,  -8.2077,  -2.2284,  -8.7530,\n",
       "          -8.5707,  -6.1422,  -9.3555,  -8.5235,  -9.2929, -10.4780,  -9.5795,\n",
       "          -7.0787,  -4.6754,  -6.7189,  -9.3977,  -9.2173,  -8.6816]]), hidden_states=None)"
      ]
     },
     "execution_count": 11,
     "metadata": {},
     "output_type": "execute_result"
    }
   ],
   "source": [
    "outputs"
   ]
  },
  {
   "cell_type": "markdown",
   "metadata": {},
   "source": [
    "Logit'y - można rozumieć jako zdenormalizowane prawdopodobieństwa (z zakresu [$-\\infty$, $\\infty$])"
   ]
  },
  {
   "cell_type": "code",
   "execution_count": 13,
   "metadata": {},
   "outputs": [
    {
     "data": {
      "text/plain": [
       "torch.Size([1, 1000])"
      ]
     },
     "execution_count": 13,
     "metadata": {},
     "output_type": "execute_result"
    }
   ],
   "source": [
    "logits = outputs.logits\n",
    "logits.shape"
   ]
  },
  {
   "cell_type": "code",
   "execution_count": 14,
   "metadata": {},
   "outputs": [
    {
     "name": "stdout",
     "output_type": "stream",
     "text": [
      "bee\n"
     ]
    }
   ],
   "source": [
    "# model przewiduje jedną z 1000 klas 'ImageNet'\n",
    "predicted_label = logits.argmax(-1).item()\n",
    "print(model.config.id2label[predicted_label])"
   ]
  },
  {
   "cell_type": "code",
   "execution_count": 18,
   "metadata": {},
   "outputs": [],
   "source": [
    "from transformers import TrainingArguments, Trainer\n",
    "\n",
    "training_args = TrainingArguments(output_dir=\"../models/test_trainer\", eval_strategy=\"epoch\")"
   ]
  },
  {
   "cell_type": "markdown",
   "metadata": {},
   "source": [
    "Ładujemy odpowiednią metrykę"
   ]
  },
  {
   "cell_type": "code",
   "execution_count": 16,
   "metadata": {},
   "outputs": [],
   "source": [
    "import numpy as np\n",
    "import evaluate\n",
    "\n",
    "metric = evaluate.load(\"accuracy\")"
   ]
  },
  {
   "cell_type": "code",
   "execution_count": 17,
   "metadata": {},
   "outputs": [],
   "source": [
    "def compute_metrics(eval_pred):\n",
    "    logits, labels = eval_pred\n",
    "    predictions = np.argmax(logits, axis=-1)\n",
    "    return metric.compute(predictions=predictions, references=labels)"
   ]
  },
  {
   "cell_type": "code",
   "execution_count": 85,
   "metadata": {},
   "outputs": [],
   "source": [
    "import os \n",
    "files = [str(DATASET_IMAGES_PATH / name) for name in os.listdir(DATASET_IMAGES_PATH)]"
   ]
  },
  {
   "cell_type": "code",
   "execution_count": 86,
   "metadata": {},
   "outputs": [],
   "source": [
    "import scipy.io\n",
    "labels = scipy.io.loadmat(DATASET_PATH / 'imagelabels.mat')['labels'][0]"
   ]
  },
  {
   "cell_type": "code",
   "execution_count": 87,
   "metadata": {},
   "outputs": [],
   "source": [
    "from sklearn.model_selection import train_test_split\n",
    "\n",
    "train_images_paths, images, train_labels, labels = train_test_split(files, labels, test_size=0.3, random_state=42, stratify=labels)\n",
    "eval_images_paths, test_images_paths, eval_labels, test_labels = train_test_split(images, labels, test_size=0.5, random_state=42, stratify=labels)"
   ]
  },
  {
   "cell_type": "markdown",
   "metadata": {},
   "source": [
    "Przygotowany dataset składa się ze zdjęć i klas"
   ]
  },
  {
   "cell_type": "code",
   "execution_count": 88,
   "metadata": {},
   "outputs": [],
   "source": [
    "from datasets import Dataset, Features, Image, ClassLabel\n",
    "\n",
    "def preprocess(image):\n",
    "    return processor(image[\"image\"], return_tensors=\"pt\")\n",
    "\n",
    "def prepare(files, labels):\n",
    "    features = Features({\"image\": Image(), \"label\": ClassLabel(num_classes=103)})\n",
    "    ds = Dataset.from_dict({\"image\": files, \"label\": labels}, features=features) \n",
    "    ds = ds.with_format(\"torch\")\n",
    "    return ds.map(preprocess, batched=True)"
   ]
  },
  {
   "cell_type": "code",
   "execution_count": 89,
   "metadata": {},
   "outputs": [
    {
     "data": {
      "application/vnd.jupyter.widget-view+json": {
       "model_id": "fd2b6ec2d50d48299e8383209b3436c8",
       "version_major": 2,
       "version_minor": 0
      },
      "text/plain": [
       "Map:   0%|          | 0/5732 [00:00<?, ? examples/s]"
      ]
     },
     "metadata": {},
     "output_type": "display_data"
    }
   ],
   "source": [
    "train_dataset = prepare(train_images_paths, train_labels)"
   ]
  },
  {
   "cell_type": "code",
   "execution_count": 57,
   "metadata": {},
   "outputs": [
    {
     "data": {
      "text/plain": [
       "Dataset({\n",
       "    features: ['image', 'labels', 'pixel_values'],\n",
       "    num_rows: 7000\n",
       "})"
      ]
     },
     "execution_count": 57,
     "metadata": {},
     "output_type": "execute_result"
    }
   ],
   "source": [
    "train_dataset"
   ]
  },
  {
   "cell_type": "code",
   "execution_count": 90,
   "metadata": {},
   "outputs": [
    {
     "data": {
      "application/vnd.jupyter.widget-view+json": {
       "model_id": "b053f3c22d11431198039406728678f1",
       "version_major": 2,
       "version_minor": 0
      },
      "text/plain": [
       "Map:   0%|          | 0/1229 [00:00<?, ? examples/s]"
      ]
     },
     "metadata": {},
     "output_type": "display_data"
    }
   ],
   "source": [
    "test_dataset = prepare(test_images_paths, test_labels)"
   ]
  },
  {
   "cell_type": "code",
   "execution_count": 91,
   "metadata": {},
   "outputs": [
    {
     "data": {
      "application/vnd.jupyter.widget-view+json": {
       "model_id": "980aa0f5e62c406f9ffdc4e1c0167e6d",
       "version_major": 2,
       "version_minor": 0
      },
      "text/plain": [
       "Map:   0%|          | 0/1228 [00:00<?, ? examples/s]"
      ]
     },
     "metadata": {},
     "output_type": "display_data"
    }
   ],
   "source": [
    "eval_dataset = prepare(eval_images_paths, eval_labels)"
   ]
  },
  {
   "cell_type": "code",
   "execution_count": 92,
   "metadata": {},
   "outputs": [],
   "source": [
    "trainer = Trainer(\n",
    "    model=model,\n",
    "    args=training_args,\n",
    "    train_dataset=train_dataset,\n",
    "    eval_dataset=test_dataset,\n",
    "    compute_metrics=compute_metrics,\n",
    ")"
   ]
  },
  {
   "cell_type": "markdown",
   "metadata": {},
   "source": [
    "Potrzebne jest konto na [wandb](https://wandb.ai/site)"
   ]
  },
  {
   "cell_type": "code",
   "execution_count": null,
   "metadata": {},
   "outputs": [
    {
     "data": {
      "application/vnd.jupyter.widget-view+json": {
       "model_id": "39386219e8674eacacc09edf1c578f52",
       "version_major": 2,
       "version_minor": 0
      },
      "text/plain": [
       "  0%|          | 0/2151 [00:00<?, ?it/s]"
      ]
     },
     "metadata": {},
     "output_type": "display_data"
    },
    {
     "name": "stdout",
     "output_type": "stream",
     "text": [
      "{'loss': 6.6118, 'grad_norm': 66.697509765625, 'learning_rate': 3.8377498837749884e-05, 'epoch': 0.7}\n"
     ]
    },
    {
     "data": {
      "application/vnd.jupyter.widget-view+json": {
       "model_id": "4ab2c1ccac8c4b9dbae68f050c736e6a",
       "version_major": 2,
       "version_minor": 0
      },
      "text/plain": [
       "  0%|          | 0/154 [00:00<?, ?it/s]"
      ]
     },
     "metadata": {},
     "output_type": "display_data"
    },
    {
     "name": "stdout",
     "output_type": "stream",
     "text": [
      "{'eval_loss': 5.094245433807373, 'eval_accuracy': 0.07241659886086249, 'eval_runtime': 14.589, 'eval_samples_per_second': 84.242, 'eval_steps_per_second': 10.556, 'epoch': 1.0}\n",
      "{'loss': 4.9054, 'grad_norm': 63.19883346557617, 'learning_rate': 2.6754997675499772e-05, 'epoch': 1.39}\n"
     ]
    },
    {
     "data": {
      "application/vnd.jupyter.widget-view+json": {
       "model_id": "cafe0861c7a1410f9d3ac6f55ad519c8",
       "version_major": 2,
       "version_minor": 0
      },
      "text/plain": [
       "  0%|          | 0/154 [00:00<?, ?it/s]"
      ]
     },
     "metadata": {},
     "output_type": "display_data"
    },
    {
     "name": "stdout",
     "output_type": "stream",
     "text": [
      "{'eval_loss': 4.249615669250488, 'eval_accuracy': 0.14483319772172498, 'eval_runtime': 14.2834, 'eval_samples_per_second': 86.044, 'eval_steps_per_second': 10.782, 'epoch': 2.0}\n",
      "{'loss': 4.3053, 'grad_norm': 42.50358963012695, 'learning_rate': 1.5132496513249652e-05, 'epoch': 2.09}\n",
      "{'loss': 3.9857, 'grad_norm': 65.10018157958984, 'learning_rate': 3.509995350999535e-06, 'epoch': 2.79}\n"
     ]
    },
    {
     "data": {
      "application/vnd.jupyter.widget-view+json": {
       "model_id": "0d296b61ee434d7da503fa75d61b9bef",
       "version_major": 2,
       "version_minor": 0
      },
      "text/plain": [
       "  0%|          | 0/154 [00:00<?, ?it/s]"
      ]
     },
     "metadata": {},
     "output_type": "display_data"
    },
    {
     "name": "stdout",
     "output_type": "stream",
     "text": [
      "{'eval_loss': 4.038870334625244, 'eval_accuracy': 0.1887713588283157, 'eval_runtime': 49.1043, 'eval_samples_per_second': 25.028, 'eval_steps_per_second': 3.136, 'epoch': 3.0}\n",
      "{'train_runtime': 397.1177, 'train_samples_per_second': 43.302, 'train_steps_per_second': 5.417, 'train_loss': 4.875778503276092, 'epoch': 3.0}\n"
     ]
    },
    {
     "data": {
      "text/plain": [
       "TrainOutput(global_step=2151, training_loss=4.875778503276092, metrics={'train_runtime': 397.1177, 'train_samples_per_second': 43.302, 'train_steps_per_second': 5.417, 'total_flos': 3.969231186369577e+17, 'train_loss': 4.875778503276092, 'epoch': 3.0})"
      ]
     },
     "execution_count": 93,
     "metadata": {},
     "output_type": "execute_result"
    }
   ],
   "source": [
    "trainer.train()"
   ]
  },
  {
   "cell_type": "code",
   "execution_count": 94,
   "metadata": {},
   "outputs": [
    {
     "data": {
      "application/vnd.jupyter.widget-view+json": {
       "model_id": "438dce4361134985ae758a3725b5b7ec",
       "version_major": 2,
       "version_minor": 0
      },
      "text/plain": [
       "  0%|          | 0/154 [00:00<?, ?it/s]"
      ]
     },
     "metadata": {},
     "output_type": "display_data"
    },
    {
     "data": {
      "text/plain": [
       "{'eval_loss': 4.027404308319092,\n",
       " 'eval_accuracy': 0.18403908794788273,\n",
       " 'eval_runtime': 17.935,\n",
       " 'eval_samples_per_second': 68.469,\n",
       " 'eval_steps_per_second': 8.587,\n",
       " 'epoch': 3.0}"
      ]
     },
     "execution_count": 94,
     "metadata": {},
     "output_type": "execute_result"
    }
   ],
   "source": [
    "trainer.evaluate(eval_dataset)"
   ]
  }
 ],
 "metadata": {
  "kernelspec": {
   "display_name": "plant-traits",
   "language": "python",
   "name": "python3"
  },
  "language_info": {
   "codemirror_mode": {
    "name": "ipython",
    "version": 3
   },
   "file_extension": ".py",
   "mimetype": "text/x-python",
   "name": "python",
   "nbconvert_exporter": "python",
   "pygments_lexer": "ipython3",
   "version": "3.10.16"
  }
 },
 "nbformat": 4,
 "nbformat_minor": 2
}
