{
 "cells": [
  {
   "cell_type": "code",
   "execution_count": 13,
   "metadata": {
    "ExecuteTime": {
     "end_time": "2025-03-05T17:48:07.670106Z",
     "start_time": "2025-03-05T17:48:07.579839Z"
    }
   },
   "outputs": [],
   "source": [
    "%load_ext autoreload\n",
    "%autoreload 2\n",
    "%aimport -sympy"
   ]
  },
  {
   "cell_type": "code",
   "execution_count": 1,
   "metadata": {
    "ExecuteTime": {
     "end_time": "2025-03-05T17:48:48.609718Z",
     "start_time": "2025-03-05T17:48:43.110338Z"
    }
   },
   "outputs": [],
   "source": [
    "from planttraits.datasets.plant_traits_dataset import PlantTraitsDataset\n",
    "from planttraits.models.example_model import PTNN, kwargs\n",
    "from torch.utils.data import DataLoader\n",
    "import pytorch_lightning as pl\n",
    "import torch "
   ]
  },
  {
   "cell_type": "code",
   "execution_count": 2,
   "metadata": {
    "ExecuteTime": {
     "end_time": "2025-03-05T17:48:51.093099Z",
     "start_time": "2025-03-05T17:48:49.680866Z"
    }
   },
   "outputs": [],
   "source": [
    "train_dataset = PlantTraitsDataset()\n",
    "test_dataset = PlantTraitsDataset(preprocessors=train_dataset.return_preprocessors())"
   ]
  },
  {
   "cell_type": "code",
   "execution_count": 3,
   "metadata": {},
   "outputs": [
    {
     "data": {
      "text/plain": [
       "55489"
      ]
     },
     "execution_count": 3,
     "metadata": {},
     "output_type": "execute_result"
    }
   ],
   "source": [
    "len(train_dataset.imgs_paths)"
   ]
  },
  {
   "cell_type": "code",
   "execution_count": 4,
   "metadata": {
    "ExecuteTime": {
     "end_time": "2025-03-05T17:48:52.574166Z",
     "start_time": "2025-03-05T17:48:52.394647Z"
    }
   },
   "outputs": [
    {
     "data": {
      "text/plain": [
       "55489"
      ]
     },
     "execution_count": 4,
     "metadata": {},
     "output_type": "execute_result"
    }
   ],
   "source": [
    "len(train_dataset)"
   ]
  },
  {
   "cell_type": "code",
   "execution_count": 5,
   "metadata": {
    "ExecuteTime": {
     "end_time": "2025-03-05T17:48:53.919103Z",
     "start_time": "2025-03-05T17:48:53.717643Z"
    }
   },
   "outputs": [
    {
     "data": {
      "text/plain": [
       "6545"
      ]
     },
     "execution_count": 5,
     "metadata": {},
     "output_type": "execute_result"
    }
   ],
   "source": [
    "len(test_dataset)"
   ]
  },
  {
   "cell_type": "code",
   "execution_count": 6,
   "metadata": {
    "ExecuteTime": {
     "end_time": "2025-03-05T17:48:55.777169Z",
     "start_time": "2025-03-05T17:48:55.588675Z"
    }
   },
   "outputs": [],
   "source": [
    "train_loader = DataLoader(train_dataset)\n",
    "test_loader = DataLoader(test_dataset)"
   ]
  },
  {
   "cell_type": "code",
   "execution_count": 7,
   "metadata": {
    "ExecuteTime": {
     "end_time": "2025-03-05T17:48:57.031325Z",
     "start_time": "2025-03-05T17:48:56.756063Z"
    }
   },
   "outputs": [],
   "source": [
    "img, modisvod_row, soil_row, worldclimbio_row, std_row, mean_row = next(iter(train_loader))"
   ]
  },
  {
   "cell_type": "code",
   "execution_count": 8,
   "metadata": {
    "ExecuteTime": {
     "end_time": "2025-03-05T17:48:59.001086Z",
     "start_time": "2025-03-05T17:48:58.817577Z"
    }
   },
   "outputs": [
    {
     "data": {
      "text/plain": [
       "(tensor([[0., 0., 0., 0., 0., 0.]]),\n",
       " tensor([[ 0.4018, 11.7581,  0.1175,  1.2438,  1.8494, 50.2160]]))"
      ]
     },
     "execution_count": 8,
     "metadata": {},
     "output_type": "execute_result"
    }
   ],
   "source": [
    "std_row, mean_row"
   ]
  },
  {
   "cell_type": "code",
   "execution_count": 9,
   "metadata": {},
   "outputs": [
    {
     "name": "stderr",
     "output_type": "stream",
     "text": [
      "GPU available: True (cuda), used: True\n",
      "TPU available: False, using: 0 TPU cores\n",
      "HPU available: False, using: 0 HPUs\n"
     ]
    }
   ],
   "source": [
    "model = PTNN(**kwargs)\n",
    "trainer = pl.Trainer()"
   ]
  },
  {
   "cell_type": "code",
   "execution_count": 10,
   "metadata": {},
   "outputs": [
    {
     "name": "stderr",
     "output_type": "stream",
     "text": [
      "You are using a CUDA device ('NVIDIA GeForce RTX 4050 Laptop GPU') that has Tensor Cores. To properly utilize them, you should set `torch.set_float32_matmul_precision('medium' | 'high')` which will trade-off precision for performance. For more details, read https://pytorch.org/docs/stable/generated/torch.set_float32_matmul_precision.html#torch.set_float32_matmul_precision\n",
      "LOCAL_RANK: 0 - CUDA_VISIBLE_DEVICES: [0]\n"
     ]
    },
    {
     "data": {
      "application/vnd.jupyter.widget-view+json": {
       "model_id": "660745e6ff5040a7b8ea0d0130942d1e",
       "version_major": 2,
       "version_minor": 0
      },
      "text/plain": [
       "Predicting: |          | 0/? [00:00<?, ?it/s]"
      ]
     },
     "metadata": {},
     "output_type": "display_data"
    }
   ],
   "source": [
    "preds = trainer.predict(model, test_loader)"
   ]
  },
  {
   "cell_type": "code",
   "execution_count": 11,
   "metadata": {},
   "outputs": [],
   "source": [
    "preds = torch.concat(preds)"
   ]
  },
  {
   "cell_type": "code",
   "execution_count": 12,
   "metadata": {},
   "outputs": [
    {
     "data": {
      "text/plain": [
       "tensor([[-0.2686, -0.3257, -0.0650, -0.2402,  0.6723, -0.2981],\n",
       "        [-0.2154, -0.3618,  0.0909, -0.2048,  0.4636, -0.2328],\n",
       "        [-0.2504, -0.2247,  0.1227, -0.2817,  0.5432, -0.2816],\n",
       "        ...,\n",
       "        [-0.2310, -0.4614,  0.0559, -0.1025,  0.4592, -0.1981],\n",
       "        [-0.0902, -0.2266,  0.0933, -0.2903,  0.5586, -0.2951],\n",
       "        [-0.2648, -0.4479,  0.0436, -0.1592,  0.6215, -0.2389]])"
      ]
     },
     "execution_count": 12,
     "metadata": {},
     "output_type": "execute_result"
    }
   ],
   "source": [
    "test_dataset.transform_predictions(preds)"
   ]
  }
 ],
 "metadata": {
  "kernelspec": {
   "display_name": "plant-traits",
   "language": "python",
   "name": "python3"
  },
  "language_info": {
   "codemirror_mode": {
    "name": "ipython",
    "version": 3
   },
   "file_extension": ".py",
   "mimetype": "text/x-python",
   "name": "python",
   "nbconvert_exporter": "python",
   "pygments_lexer": "ipython3",
   "version": "3.10.16"
  }
 },
 "nbformat": 4,
 "nbformat_minor": 2
}
